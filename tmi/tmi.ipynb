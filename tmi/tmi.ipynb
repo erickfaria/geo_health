{
  "cells": [
    {
      "cell_type": "markdown",
      "metadata": {
        "id": "VS5ALKZNkNSY"
      },
      "source": [
        "### Script para download e tratamento dos dados do Sistema de Informação sobre Mortalidade - sinasc"
      ]
    },
    {
      "cell_type": "markdown",
      "metadata": {
        "id": "7yR29Hh7kNSc"
      },
      "source": [
        "### Faz as instalações e importações das bibliotecas"
      ]
    },
    {
      "cell_type": "code",
      "execution_count": null,
      "metadata": {
        "id": "E7aA4RsIkNSc"
      },
      "outputs": [],
      "source": [
        "# Fazer melhorias no código"
      ]
    }
  ],
  "metadata": {
    "kernelspec": {
      "display_name": "Python 3",
      "language": "python",
      "name": "python3"
    },
    "language_info": {
      "codemirror_mode": {
        "name": "ipython",
        "version": 3
      },
      "file_extension": ".py",
      "mimetype": "text/x-python",
      "name": "python",
      "nbconvert_exporter": "python",
      "pygments_lexer": "ipython3",
      "version": "3.11.3"
    },
    "orig_nbformat": 4,
    "colab": {
      "provenance": []
    }
  },
  "nbformat": 4,
  "nbformat_minor": 0
}