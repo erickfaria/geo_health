{
 "cells": [
  {
   "cell_type": "code",
   "execution_count": 2,
   "metadata": {},
   "outputs": [],
   "source": [
    "import os\n",
    "import pandas as pd\n",
    "import pyarrow as pa\n",
    "import pyarrow.parquet as pq\n",
    "import zipfile"
   ]
  },
  {
   "cell_type": "code",
   "execution_count": null,
   "metadata": {},
   "outputs": [],
   "source": [
    "# Directory path containing the year folders\n",
    "directory_path = 'cnes//datasus_ftp'\n",
    "\n",
    "# Iterate over the items in the directory\n",
    "for item in os.listdir(directory_path):\n",
    "    item_path = os.path.join(directory_path, item)\n",
    "    \n",
    "    # Verify if the item in the directory is a directory itself\n",
    "    if os.path.isdir(item_path):\n",
    "        # Process the year folder here\n",
    "        print(\"Year Folder:\", item)\n",
    "        # Add your desired code for further processing of each year folder"
   ]
  },
  {
   "cell_type": "code",
   "execution_count": null,
   "metadata": {},
   "outputs": [],
   "source": [
    "# Directory path containing the year folders\n",
    "directory_path = 'cnes//datasus_ftp'\n",
    "\n",
    "# Iterate over the items in the directory\n",
    "for item in os.listdir(directory_path):\n",
    "    item_path = os.path.join(directory_path, item)\n",
    "    \n",
    "    # Verify if the item in the directory is a directory itself\n",
    "    if os.path.isdir(item_path):\n",
    "        print(\"Year Folder:\", item)\n",
    "        \n",
    "        # Iterate over the files in the year folder\n",
    "        for file in os.listdir(item_path):\n",
    "            file_path = os.path.join(item_path, file)\n",
    "                \n",
    "            # Create a lowercase folder name from the zip file name\n",
    "            folder_name = os.path.splitext(file)[0].lower()\n",
    "            \n",
    "            # Create a directory with the lowercase folder name\n",
    "            output_folder = os.path.join(item_path, folder_name)\n",
    "            os.makedirs(output_folder, exist_ok=True)\n",
    "            \n",
    "            # Extract the contents of the zip file into the output folder\n",
    "            with zipfile.ZipFile(file_path, 'r') as zip_ref:\n",
    "                zip_ref.extractall(output_folder)\n",
    "                \n",
    "            print(\"Extracted to:\", output_folder)\n"
   ]
  },
  {
   "cell_type": "code",
   "execution_count": 8,
   "metadata": {},
   "outputs": [
    {
     "name": "stdout",
     "output_type": "stream",
     "text": [
      "Year Folder: 2017\n",
      "Month Folder: base_de_dados_cnes_201708\n"
     ]
    },
    {
     "name": "stderr",
     "output_type": "stream",
     "text": [
      "C:\\Users\\erick\\AppData\\Local\\Temp\\ipykernel_18324\\463220216.py:31: DtypeWarning: Columns (0,12) have mixed types. Specify dtype option on import or set low_memory=False.\n",
      "  df = pd.read_csv(csv_path, sep=';')\n"
     ]
    },
    {
     "name": "stdout",
     "output_type": "stream",
     "text": [
      "Saved as Parquet: I://base_de_dados//datasus//cnes//datasus_ftp\\2017\\base_de_dados_cnes_201708\\tbCargaHorariaSus201708.parquet.gzip\n",
      "Saved as Parquet: I://base_de_dados//datasus//cnes//datasus_ftp\\2017\\base_de_dados_cnes_201708\\tbClassificacaoServico201708.parquet.gzip\n",
      "Saved as Parquet: I://base_de_dados//datasus//cnes//datasus_ftp\\2017\\base_de_dados_cnes_201708\\tbConselhoClasse201708.parquet.gzip\n",
      "Saved as Parquet: I://base_de_dados//datasus//cnes//datasus_ftp\\2017\\base_de_dados_cnes_201708\\tbEquipamento201708.parquet.gzip\n",
      "Saved as Parquet: I://base_de_dados//datasus//cnes//datasus_ftp\\2017\\base_de_dados_cnes_201708\\tbEquipe201708.parquet.gzip\n"
     ]
    },
    {
     "name": "stderr",
     "output_type": "stream",
     "text": [
      "C:\\Users\\erick\\AppData\\Local\\Temp\\ipykernel_18324\\463220216.py:31: DtypeWarning: Columns (15,45) have mixed types. Specify dtype option on import or set low_memory=False.\n",
      "  df = pd.read_csv(csv_path, sep=';')\n"
     ]
    },
    {
     "name": "stdout",
     "output_type": "stream",
     "text": [
      "Saved as Parquet: I://base_de_dados//datasus//cnes//datasus_ftp\\2017\\base_de_dados_cnes_201708\\tbEstabelecimento201708.parquet.gzip\n",
      "Saved as Parquet: I://base_de_dados//datasus//cnes//datasus_ftp\\2017\\base_de_dados_cnes_201708\\tbEtnia201708.parquet.gzip\n",
      "Saved as Parquet: I://base_de_dados//datasus//cnes//datasus_ftp\\2017\\base_de_dados_cnes_201708\\tbMantenedora201708.parquet.gzip\n",
      "Saved as Parquet: I://base_de_dados//datasus//cnes//datasus_ftp\\2017\\base_de_dados_cnes_201708\\tbNaturezaJuridica201708.parquet.gzip\n",
      "Saved as Parquet: I://base_de_dados//datasus//cnes//datasus_ftp\\2017\\base_de_dados_cnes_201708\\tbOrgaoEmissor201708.parquet.gzip\n",
      "Saved as Parquet: I://base_de_dados//datasus//cnes//datasus_ftp\\2017\\base_de_dados_cnes_201708\\tbResidenciaMed201708.parquet.gzip\n",
      "Saved as Parquet: I://base_de_dados//datasus//cnes//datasus_ftp\\2017\\base_de_dados_cnes_201708\\tbServicoEspecializado201708.parquet.gzip\n",
      "Saved as Parquet: I://base_de_dados//datasus//cnes//datasus_ftp\\2017\\base_de_dados_cnes_201708\\tbSubGruposHabilitacao201708.parquet.gzip\n",
      "Saved as Parquet: I://base_de_dados//datasus//cnes//datasus_ftp\\2017\\base_de_dados_cnes_201708\\tbSubTipo201708.parquet.gzip\n",
      "Saved as Parquet: I://base_de_dados//datasus//cnes//datasus_ftp\\2017\\base_de_dados_cnes_201708\\tbSubTpModVinculo201708.parquet.gzip\n",
      "Saved as Parquet: I://base_de_dados//datasus//cnes//datasus_ftp\\2017\\base_de_dados_cnes_201708\\tbTipoUnidade201708.parquet.gzip\n",
      "Saved as Parquet: I://base_de_dados//datasus//cnes//datasus_ftp\\2017\\base_de_dados_cnes_201708\\tbTurnoAtendimento201708.parquet.gzip\n",
      "Month Folder: base_de_dados_cnes_201709\n",
      "Saved as Parquet: I://base_de_dados//datasus//cnes//datasus_ftp\\2017\\base_de_dados_cnes_201709\\rlAdmGerenciaCnes201709.parquet.gzip\n",
      "Saved as Parquet: I://base_de_dados//datasus//cnes//datasus_ftp\\2017\\base_de_dados_cnes_201709\\rlCooperativa201709.parquet.gzip\n",
      "Saved as Parquet: I://base_de_dados//datasus//cnes//datasus_ftp\\2017\\base_de_dados_cnes_201709\\rlEquipeNasfEsf201709.parquet.gzip\n"
     ]
    },
    {
     "name": "stderr",
     "output_type": "stream",
     "text": [
      "C:\\Users\\erick\\AppData\\Local\\Temp\\ipykernel_18324\\463220216.py:31: DtypeWarning: Columns (0) have mixed types. Specify dtype option on import or set low_memory=False.\n",
      "  df = pd.read_csv(csv_path, sep=';')\n"
     ]
    },
    {
     "name": "stdout",
     "output_type": "stream",
     "text": [
      "Saved as Parquet: I://base_de_dados//datasus//cnes//datasus_ftp\\2017\\base_de_dados_cnes_201709\\rlEstabAtendPrestConv201709.parquet.gzip\n",
      "Saved as Parquet: I://base_de_dados//datasus//cnes//datasus_ftp\\2017\\base_de_dados_cnes_201709\\rlEstabAtenPsico201709.parquet.gzip\n",
      "Saved as Parquet: I://base_de_dados//datasus//cnes//datasus_ftp\\2017\\base_de_dados_cnes_201709\\rlEstabAvaliacao201709.parquet.gzip\n",
      "Saved as Parquet: I://base_de_dados//datasus//cnes//datasus_ftp\\2017\\base_de_dados_cnes_201709\\rlEstabCentralReg201709.parquet.gzip\n",
      "Saved as Parquet: I://base_de_dados//datasus//cnes//datasus_ftp\\2017\\base_de_dados_cnes_201709\\rlEstabColetaSelRejeito201709.parquet.gzip\n",
      "Saved as Parquet: I://base_de_dados//datasus//cnes//datasus_ftp\\2017\\base_de_dados_cnes_201709\\rlEstabComissaoOutro201709.parquet.gzip\n",
      "Saved as Parquet: I://base_de_dados//datasus//cnes//datasus_ftp\\2017\\base_de_dados_cnes_201709\\rlEstabComplementar201709.parquet.gzip\n",
      "Saved as Parquet: I://base_de_dados//datasus//cnes//datasus_ftp\\2017\\base_de_dados_cnes_201709\\rlEstabEndCompl201709.parquet.gzip\n",
      "Saved as Parquet: I://base_de_dados//datasus//cnes//datasus_ftp\\2017\\base_de_dados_cnes_201709\\rlEstabEqpEmbarcacao201709.parquet.gzip\n",
      "Saved as Parquet: I://base_de_dados//datasus//cnes//datasus_ftp\\2017\\base_de_dados_cnes_201709\\rlEstabEqpUnidApoio201709.parquet.gzip\n"
     ]
    },
    {
     "name": "stderr",
     "output_type": "stream",
     "text": [
      "C:\\Users\\erick\\AppData\\Local\\Temp\\ipykernel_18324\\463220216.py:31: DtypeWarning: Columns (0) have mixed types. Specify dtype option on import or set low_memory=False.\n",
      "  df = pd.read_csv(csv_path, sep=';')\n"
     ]
    },
    {
     "name": "stdout",
     "output_type": "stream",
     "text": [
      "Saved as Parquet: I://base_de_dados//datasus//cnes//datasus_ftp\\2017\\base_de_dados_cnes_201709\\rlEstabEquipamento201709.parquet.gzip\n",
      "Saved as Parquet: I://base_de_dados//datasus//cnes//datasus_ftp\\2017\\base_de_dados_cnes_201709\\rlEstabEquipeMun201709.parquet.gzip\n"
     ]
    },
    {
     "name": "stderr",
     "output_type": "stream",
     "text": [
      "C:\\Users\\erick\\AppData\\Local\\Temp\\ipykernel_18324\\463220216.py:31: DtypeWarning: Columns (14) have mixed types. Specify dtype option on import or set low_memory=False.\n",
      "  df = pd.read_csv(csv_path, sep=';')\n"
     ]
    },
    {
     "name": "stdout",
     "output_type": "stream",
     "text": [
      "Saved as Parquet: I://base_de_dados//datasus//cnes//datasus_ftp\\2017\\base_de_dados_cnes_201709\\rlEstabEquipeProf201709.parquet.gzip\n",
      "Saved as Parquet: I://base_de_dados//datasus//cnes//datasus_ftp\\2017\\base_de_dados_cnes_201709\\rlEstabInstFisiAssist201709.parquet.gzip\n",
      "Saved as Parquet: I://base_de_dados//datasus//cnes//datasus_ftp\\2017\\base_de_dados_cnes_201709\\rlEstabOrgParc201709.parquet.gzip\n",
      "Saved as Parquet: I://base_de_dados//datasus//cnes//datasus_ftp\\2017\\base_de_dados_cnes_201709\\rlEstabPoloAldeia201709.parquet.gzip\n",
      "Saved as Parquet: I://base_de_dados//datasus//cnes//datasus_ftp\\2017\\base_de_dados_cnes_201709\\rlEstabProfComissao201709.parquet.gzip\n",
      "Saved as Parquet: I://base_de_dados//datasus//cnes//datasus_ftp\\2017\\base_de_dados_cnes_201709\\rlEstabProgFundo201709.parquet.gzip\n",
      "Saved as Parquet: I://base_de_dados//datasus//cnes//datasus_ftp\\2017\\base_de_dados_cnes_201709\\rlEstabRegimeRes201709.parquet.gzip\n",
      "Saved as Parquet: I://base_de_dados//datasus//cnes//datasus_ftp\\2017\\base_de_dados_cnes_201709\\rlEstabRepresentante201709.parquet.gzip\n",
      "Saved as Parquet: I://base_de_dados//datasus//cnes//datasus_ftp\\2017\\base_de_dados_cnes_201709\\rlEstabSamu201709.parquet.gzip\n"
     ]
    },
    {
     "name": "stderr",
     "output_type": "stream",
     "text": [
      "C:\\Users\\erick\\AppData\\Local\\Temp\\ipykernel_18324\\463220216.py:31: DtypeWarning: Columns (0) have mixed types. Specify dtype option on import or set low_memory=False.\n",
      "  df = pd.read_csv(csv_path, sep=';')\n"
     ]
    },
    {
     "name": "stdout",
     "output_type": "stream",
     "text": [
      "Saved as Parquet: I://base_de_dados//datasus//cnes//datasus_ftp\\2017\\base_de_dados_cnes_201709\\rlEstabServClass201709.parquet.gzip\n"
     ]
    },
    {
     "name": "stderr",
     "output_type": "stream",
     "text": [
      "C:\\Users\\erick\\AppData\\Local\\Temp\\ipykernel_18324\\463220216.py:31: DtypeWarning: Columns (2) have mixed types. Specify dtype option on import or set low_memory=False.\n",
      "  df = pd.read_csv(csv_path, sep=';')\n"
     ]
    },
    {
     "name": "stdout",
     "output_type": "stream",
     "text": [
      "Saved as Parquet: I://base_de_dados//datasus//cnes//datasus_ftp\\2017\\base_de_dados_cnes_201709\\rlEstabServicoApoio201709.parquet.gzip\n",
      "Saved as Parquet: I://base_de_dados//datasus//cnes//datasus_ftp\\2017\\base_de_dados_cnes_201709\\rlEstabSipac201709.parquet.gzip\n",
      "Saved as Parquet: I://base_de_dados//datasus//cnes//datasus_ftp\\2017\\base_de_dados_cnes_201709\\rlEstabSubTipo201709.parquet.gzip\n",
      "Saved as Parquet: I://base_de_dados//datasus//cnes//datasus_ftp\\2017\\base_de_dados_cnes_201709\\rlEstabTeleCnes201709.parquet.gzip\n",
      "Saved as Parquet: I://base_de_dados//datasus//cnes//datasus_ftp\\2017\\base_de_dados_cnes_201709\\rlEstabUnidAcolhim201709.parquet.gzip\n",
      "Saved as Parquet: I://base_de_dados//datasus//cnes//datasus_ftp\\2017\\base_de_dados_cnes_201709\\rlMunAtenPsico201709.parquet.gzip\n",
      "Saved as Parquet: I://base_de_dados//datasus//cnes//datasus_ftp\\2017\\base_de_dados_cnes_201709\\rlMunRegimeRes201709.parquet.gzip\n",
      "Saved as Parquet: I://base_de_dados//datasus//cnes//datasus_ftp\\2017\\base_de_dados_cnes_201709\\rlMunUnidAcolhim201709.parquet.gzip\n",
      "Saved as Parquet: I://base_de_dados//datasus//cnes//datasus_ftp\\2017\\base_de_dados_cnes_201709\\rlNasfEsf201709.parquet.gzip\n",
      "Saved as Parquet: I://base_de_dados//datasus//cnes//datasus_ftp\\2017\\base_de_dados_cnes_201709\\tbArea201709.parquet.gzip\n",
      "Saved as Parquet: I://base_de_dados//datasus//cnes//datasus_ftp\\2017\\base_de_dados_cnes_201709\\tbAtendimentoPrestado201709.parquet.gzip\n",
      "Saved as Parquet: I://base_de_dados//datasus//cnes//datasus_ftp\\2017\\base_de_dados_cnes_201709\\tbAtividadeEnsino201709.parquet.gzip\n",
      "Saved as Parquet: I://base_de_dados//datasus//cnes//datasus_ftp\\2017\\base_de_dados_cnes_201709\\tbAtividadeProfissional201709.parquet.gzip\n",
      "Saved as Parquet: I://base_de_dados//datasus//cnes//datasus_ftp\\2017\\base_de_dados_cnes_201709\\tbAtributo201709.parquet.gzip\n",
      "Saved as Parquet: I://base_de_dados//datasus//cnes//datasus_ftp\\2017\\base_de_dados_cnes_201709\\tbAvaliacao201709.parquet.gzip\n",
      "Saved as Parquet: I://base_de_dados//datasus//cnes//datasus_ftp\\2017\\base_de_dados_cnes_201709\\tbBanco201709.parquet.gzip\n"
     ]
    },
    {
     "name": "stderr",
     "output_type": "stream",
     "text": [
      "C:\\Users\\erick\\AppData\\Local\\Temp\\ipykernel_18324\\463220216.py:31: DtypeWarning: Columns (0,12) have mixed types. Specify dtype option on import or set low_memory=False.\n",
      "  df = pd.read_csv(csv_path, sep=';')\n"
     ]
    },
    {
     "name": "stdout",
     "output_type": "stream",
     "text": [
      "Saved as Parquet: I://base_de_dados//datasus//cnes//datasus_ftp\\2017\\base_de_dados_cnes_201709\\tbCargaHorariaSus201709.parquet.gzip\n",
      "Saved as Parquet: I://base_de_dados//datasus//cnes//datasus_ftp\\2017\\base_de_dados_cnes_201709\\tbClassificacaoAval201709.parquet.gzip\n",
      "Saved as Parquet: I://base_de_dados//datasus//cnes//datasus_ftp\\2017\\base_de_dados_cnes_201709\\tbClassificacaoServico201709.parquet.gzip\n",
      "Saved as Parquet: I://base_de_dados//datasus//cnes//datasus_ftp\\2017\\base_de_dados_cnes_201709\\tbColetaSeletivaRejeito201709.parquet.gzip\n",
      "Saved as Parquet: I://base_de_dados//datasus//cnes//datasus_ftp\\2017\\base_de_dados_cnes_201709\\tbComissaoOutro201709.parquet.gzip\n",
      "Saved as Parquet: I://base_de_dados//datasus//cnes//datasus_ftp\\2017\\base_de_dados_cnes_201709\\tbConselhoClasse201709.parquet.gzip\n",
      "Saved as Parquet: I://base_de_dados//datasus//cnes//datasus_ftp\\2017\\base_de_dados_cnes_201709\\tbConvenio201709.parquet.gzip\n",
      "Saved as Parquet: I://base_de_dados//datasus//cnes//datasus_ftp\\2017\\base_de_dados_cnes_201709\\tbDadosProfissionalSus201709.parquet.gzip\n",
      "Saved as Parquet: I://base_de_dados//datasus//cnes//datasus_ftp\\2017\\base_de_dados_cnes_201709\\tbDialise201709.parquet.gzip\n",
      "Saved as Parquet: I://base_de_dados//datasus//cnes//datasus_ftp\\2017\\base_de_dados_cnes_201709\\tbEquipamento201709.parquet.gzip\n",
      "Saved as Parquet: I://base_de_dados//datasus//cnes//datasus_ftp\\2017\\base_de_dados_cnes_201709\\tbEquipe201709.parquet.gzip\n",
      "Saved as Parquet: I://base_de_dados//datasus//cnes//datasus_ftp\\2017\\base_de_dados_cnes_201709\\tbEquipeAtendCompl201709.parquet.gzip\n",
      "Saved as Parquet: I://base_de_dados//datasus//cnes//datasus_ftp\\2017\\base_de_dados_cnes_201709\\tbEquipeChDifer201709.parquet.gzip\n",
      "Saved as Parquet: I://base_de_dados//datasus//cnes//datasus_ftp\\2017\\base_de_dados_cnes_201709\\tbEstabContrato201709.parquet.gzip\n"
     ]
    },
    {
     "name": "stderr",
     "output_type": "stream",
     "text": [
      "C:\\Users\\erick\\AppData\\Local\\Temp\\ipykernel_18324\\463220216.py:31: DtypeWarning: Columns (0,14,15,40,45) have mixed types. Specify dtype option on import or set low_memory=False.\n",
      "  df = pd.read_csv(csv_path, sep=';')\n"
     ]
    },
    {
     "name": "stdout",
     "output_type": "stream",
     "text": [
      "Saved as Parquet: I://base_de_dados//datasus//cnes//datasus_ftp\\2017\\base_de_dados_cnes_201709\\tbEstabelecimento201709.parquet.gzip\n",
      "Saved as Parquet: I://base_de_dados//datasus//cnes//datasus_ftp\\2017\\base_de_dados_cnes_201709\\tbEstabHorarioAtend201709.parquet.gzip\n",
      "Saved as Parquet: I://base_de_dados//datasus//cnes//datasus_ftp\\2017\\base_de_dados_cnes_201709\\tbEstado201709.parquet.gzip\n",
      "Saved as Parquet: I://base_de_dados//datasus//cnes//datasus_ftp\\2017\\base_de_dados_cnes_201709\\tbEtnia201709.parquet.gzip\n",
      "Saved as Parquet: I://base_de_dados//datasus//cnes//datasus_ftp\\2017\\base_de_dados_cnes_201709\\tbFluxoDadosClientela201709.parquet.gzip\n",
      "Saved as Parquet: I://base_de_dados//datasus//cnes//datasus_ftp\\2017\\base_de_dados_cnes_201709\\tbGestao201709.parquet.gzip\n",
      "Saved as Parquet: I://base_de_dados//datasus//cnes//datasus_ftp\\2017\\base_de_dados_cnes_201709\\tbGrupoEquipe201709.parquet.gzip\n",
      "Saved as Parquet: I://base_de_dados//datasus//cnes//datasus_ftp\\2017\\base_de_dados_cnes_201709\\tbHemoterapia201709.parquet.gzip\n",
      "Saved as Parquet: I://base_de_dados//datasus//cnes//datasus_ftp\\2017\\base_de_dados_cnes_201709\\tbIncentivos201709.parquet.gzip\n",
      "Saved as Parquet: I://base_de_dados//datasus//cnes//datasus_ftp\\2017\\base_de_dados_cnes_201709\\tbInstalFisicaParaAssist201709.parquet.gzip\n",
      "Saved as Parquet: I://base_de_dados//datasus//cnes//datasus_ftp\\2017\\base_de_dados_cnes_201709\\tbInstituicaoAvaliadora201709.parquet.gzip\n",
      "Saved as Parquet: I://base_de_dados//datasus//cnes//datasus_ftp\\2017\\base_de_dados_cnes_201709\\tbLeito201709.parquet.gzip\n",
      "Saved as Parquet: I://base_de_dados//datasus//cnes//datasus_ftp\\2017\\base_de_dados_cnes_201709\\tbMantenedora201709.parquet.gzip\n",
      "Saved as Parquet: I://base_de_dados//datasus//cnes//datasus_ftp\\2017\\base_de_dados_cnes_201709\\tbModVinculo201709.parquet.gzip\n",
      "Saved as Parquet: I://base_de_dados//datasus//cnes//datasus_ftp\\2017\\base_de_dados_cnes_201709\\tbMotivoDesativacao201709.parquet.gzip\n",
      "Saved as Parquet: I://base_de_dados//datasus//cnes//datasus_ftp\\2017\\base_de_dados_cnes_201709\\tbMotivoDesativEquipe201709.parquet.gzip\n",
      "Saved as Parquet: I://base_de_dados//datasus//cnes//datasus_ftp\\2017\\base_de_dados_cnes_201709\\tbMunicipio201709.parquet.gzip\n",
      "Saved as Parquet: I://base_de_dados//datasus//cnes//datasus_ftp\\2017\\base_de_dados_cnes_201709\\tbNaturezaJuridica201709.parquet.gzip\n",
      "Saved as Parquet: I://base_de_dados//datasus//cnes//datasus_ftp\\2017\\base_de_dados_cnes_201709\\tbOrgaoEmissor201709.parquet.gzip\n",
      "Saved as Parquet: I://base_de_dados//datasus//cnes//datasus_ftp\\2017\\base_de_dados_cnes_201709\\tbProfResidencia201709.parquet.gzip\n",
      "Saved as Parquet: I://base_de_dados//datasus//cnes//datasus_ftp\\2017\\base_de_dados_cnes_201709\\tbQuimioRadio201709.parquet.gzip\n",
      "Saved as Parquet: I://base_de_dados//datasus//cnes//datasus_ftp\\2017\\base_de_dados_cnes_201709\\tbResidenciaMed201709.parquet.gzip\n",
      "Saved as Parquet: I://base_de_dados//datasus//cnes//datasus_ftp\\2017\\base_de_dados_cnes_201709\\tbSegmento201709.parquet.gzip\n",
      "Saved as Parquet: I://base_de_dados//datasus//cnes//datasus_ftp\\2017\\base_de_dados_cnes_201709\\tbServicoApoio201709.parquet.gzip\n",
      "Saved as Parquet: I://base_de_dados//datasus//cnes//datasus_ftp\\2017\\base_de_dados_cnes_201709\\tbServicoEspecializado201709.parquet.gzip\n",
      "Saved as Parquet: I://base_de_dados//datasus//cnes//datasus_ftp\\2017\\base_de_dados_cnes_201709\\tbServicoReferenciado201709.parquet.gzip\n",
      "Saved as Parquet: I://base_de_dados//datasus//cnes//datasus_ftp\\2017\\base_de_dados_cnes_201709\\tbSubGruposHabilitacao201709.parquet.gzip\n",
      "Saved as Parquet: I://base_de_dados//datasus//cnes//datasus_ftp\\2017\\base_de_dados_cnes_201709\\tbSubTipo201709.parquet.gzip\n",
      "Saved as Parquet: I://base_de_dados//datasus//cnes//datasus_ftp\\2017\\base_de_dados_cnes_201709\\tbSubTipoEquipe201709.parquet.gzip\n",
      "Saved as Parquet: I://base_de_dados//datasus//cnes//datasus_ftp\\2017\\base_de_dados_cnes_201709\\tbSubtipoInstalacao201709.parquet.gzip\n",
      "Saved as Parquet: I://base_de_dados//datasus//cnes//datasus_ftp\\2017\\base_de_dados_cnes_201709\\tbSubTpModVinculo201709.parquet.gzip\n",
      "Saved as Parquet: I://base_de_dados//datasus//cnes//datasus_ftp\\2017\\base_de_dados_cnes_201709\\tbTipoCertidao201709.parquet.gzip\n",
      "Saved as Parquet: I://base_de_dados//datasus//cnes//datasus_ftp\\2017\\base_de_dados_cnes_201709\\tbTipoCgDifer201709.parquet.gzip\n",
      "Saved as Parquet: I://base_de_dados//datasus//cnes//datasus_ftp\\2017\\base_de_dados_cnes_201709\\tbTipoEqSubTipo201709.parquet.gzip\n",
      "Saved as Parquet: I://base_de_dados//datasus//cnes//datasus_ftp\\2017\\base_de_dados_cnes_201709\\tbTipoEquipamento201709.parquet.gzip\n",
      "Saved as Parquet: I://base_de_dados//datasus//cnes//datasus_ftp\\2017\\base_de_dados_cnes_201709\\tbTipoEquipe201709.parquet.gzip\n",
      "Saved as Parquet: I://base_de_dados//datasus//cnes//datasus_ftp\\2017\\base_de_dados_cnes_201709\\tbTipoEscolaridade201709.parquet.gzip\n",
      "Saved as Parquet: I://base_de_dados//datasus//cnes//datasus_ftp\\2017\\base_de_dados_cnes_201709\\tbTipoServicoReferenciado201709.parquet.gzip\n",
      "Saved as Parquet: I://base_de_dados//datasus//cnes//datasus_ftp\\2017\\base_de_dados_cnes_201709\\tbTipoUnidade201709.parquet.gzip\n",
      "Saved as Parquet: I://base_de_dados//datasus//cnes//datasus_ftp\\2017\\base_de_dados_cnes_201709\\tbTpModVinculo201709.parquet.gzip\n",
      "Saved as Parquet: I://base_de_dados//datasus//cnes//datasus_ftp\\2017\\base_de_dados_cnes_201709\\tbTurnoAtendimento201709.parquet.gzip\n",
      "Month Folder: base_de_dados_cnes_201710\n",
      "Saved as Parquet: I://base_de_dados//datasus//cnes//datasus_ftp\\2017\\base_de_dados_cnes_201710\\rlAdmGerenciaCnes201710.parquet.gzip\n",
      "Saved as Parquet: I://base_de_dados//datasus//cnes//datasus_ftp\\2017\\base_de_dados_cnes_201710\\rlCooperativa201710.parquet.gzip\n",
      "Saved as Parquet: I://base_de_dados//datasus//cnes//datasus_ftp\\2017\\base_de_dados_cnes_201710\\rlEquipeNasfEsf201710.parquet.gzip\n"
     ]
    },
    {
     "name": "stderr",
     "output_type": "stream",
     "text": [
      "C:\\Users\\erick\\AppData\\Local\\Temp\\ipykernel_18324\\463220216.py:31: DtypeWarning: Columns (0) have mixed types. Specify dtype option on import or set low_memory=False.\n",
      "  df = pd.read_csv(csv_path, sep=';')\n"
     ]
    },
    {
     "name": "stdout",
     "output_type": "stream",
     "text": [
      "Saved as Parquet: I://base_de_dados//datasus//cnes//datasus_ftp\\2017\\base_de_dados_cnes_201710\\rlEstabAtendPrestConv201710.parquet.gzip\n",
      "Saved as Parquet: I://base_de_dados//datasus//cnes//datasus_ftp\\2017\\base_de_dados_cnes_201710\\rlEstabAtenPsico201710.parquet.gzip\n",
      "Saved as Parquet: I://base_de_dados//datasus//cnes//datasus_ftp\\2017\\base_de_dados_cnes_201710\\rlEstabAvaliacao201710.parquet.gzip\n",
      "Saved as Parquet: I://base_de_dados//datasus//cnes//datasus_ftp\\2017\\base_de_dados_cnes_201710\\rlEstabCentralReg201710.parquet.gzip\n",
      "Saved as Parquet: I://base_de_dados//datasus//cnes//datasus_ftp\\2017\\base_de_dados_cnes_201710\\rlEstabColetaSelRejeito201710.parquet.gzip\n",
      "Saved as Parquet: I://base_de_dados//datasus//cnes//datasus_ftp\\2017\\base_de_dados_cnes_201710\\rlEstabComissaoOutro201710.parquet.gzip\n",
      "Saved as Parquet: I://base_de_dados//datasus//cnes//datasus_ftp\\2017\\base_de_dados_cnes_201710\\rlEstabComplementar201710.parquet.gzip\n",
      "Saved as Parquet: I://base_de_dados//datasus//cnes//datasus_ftp\\2017\\base_de_dados_cnes_201710\\rlEstabEndCompl201710.parquet.gzip\n",
      "Saved as Parquet: I://base_de_dados//datasus//cnes//datasus_ftp\\2017\\base_de_dados_cnes_201710\\rlEstabEqpEmbarcacao201710.parquet.gzip\n",
      "Saved as Parquet: I://base_de_dados//datasus//cnes//datasus_ftp\\2017\\base_de_dados_cnes_201710\\rlEstabEqpUnidApoio201710.parquet.gzip\n"
     ]
    },
    {
     "name": "stderr",
     "output_type": "stream",
     "text": [
      "C:\\Users\\erick\\AppData\\Local\\Temp\\ipykernel_18324\\463220216.py:31: DtypeWarning: Columns (0) have mixed types. Specify dtype option on import or set low_memory=False.\n",
      "  df = pd.read_csv(csv_path, sep=';')\n"
     ]
    },
    {
     "name": "stdout",
     "output_type": "stream",
     "text": [
      "Saved as Parquet: I://base_de_dados//datasus//cnes//datasus_ftp\\2017\\base_de_dados_cnes_201710\\rlEstabEquipamento201710.parquet.gzip\n",
      "Saved as Parquet: I://base_de_dados//datasus//cnes//datasus_ftp\\2017\\base_de_dados_cnes_201710\\rlEstabEquipeMun201710.parquet.gzip\n"
     ]
    },
    {
     "name": "stderr",
     "output_type": "stream",
     "text": [
      "C:\\Users\\erick\\AppData\\Local\\Temp\\ipykernel_18324\\463220216.py:31: DtypeWarning: Columns (14) have mixed types. Specify dtype option on import or set low_memory=False.\n",
      "  df = pd.read_csv(csv_path, sep=';')\n"
     ]
    },
    {
     "name": "stdout",
     "output_type": "stream",
     "text": [
      "Saved as Parquet: I://base_de_dados//datasus//cnes//datasus_ftp\\2017\\base_de_dados_cnes_201710\\rlEstabEquipeProf201710.parquet.gzip\n",
      "Saved as Parquet: I://base_de_dados//datasus//cnes//datasus_ftp\\2017\\base_de_dados_cnes_201710\\rlEstabInstFisiAssist201710.parquet.gzip\n",
      "Saved as Parquet: I://base_de_dados//datasus//cnes//datasus_ftp\\2017\\base_de_dados_cnes_201710\\rlEstabOrgParc201710.parquet.gzip\n",
      "Saved as Parquet: I://base_de_dados//datasus//cnes//datasus_ftp\\2017\\base_de_dados_cnes_201710\\rlEstabPoloAldeia201710.parquet.gzip\n",
      "Saved as Parquet: I://base_de_dados//datasus//cnes//datasus_ftp\\2017\\base_de_dados_cnes_201710\\rlEstabProfComissao201710.parquet.gzip\n",
      "Saved as Parquet: I://base_de_dados//datasus//cnes//datasus_ftp\\2017\\base_de_dados_cnes_201710\\rlEstabProgFundo201710.parquet.gzip\n",
      "Saved as Parquet: I://base_de_dados//datasus//cnes//datasus_ftp\\2017\\base_de_dados_cnes_201710\\rlEstabRegimeRes201710.parquet.gzip\n",
      "Saved as Parquet: I://base_de_dados//datasus//cnes//datasus_ftp\\2017\\base_de_dados_cnes_201710\\rlEstabRepresentante201710.parquet.gzip\n",
      "Saved as Parquet: I://base_de_dados//datasus//cnes//datasus_ftp\\2017\\base_de_dados_cnes_201710\\rlEstabSamu201710.parquet.gzip\n",
      "Saved as Parquet: I://base_de_dados//datasus//cnes//datasus_ftp\\2017\\base_de_dados_cnes_201710\\rlEstabServClass201710.parquet.gzip\n"
     ]
    },
    {
     "name": "stderr",
     "output_type": "stream",
     "text": [
      "C:\\Users\\erick\\AppData\\Local\\Temp\\ipykernel_18324\\463220216.py:31: DtypeWarning: Columns (2) have mixed types. Specify dtype option on import or set low_memory=False.\n",
      "  df = pd.read_csv(csv_path, sep=';')\n"
     ]
    },
    {
     "name": "stdout",
     "output_type": "stream",
     "text": [
      "Saved as Parquet: I://base_de_dados//datasus//cnes//datasus_ftp\\2017\\base_de_dados_cnes_201710\\rlEstabServicoApoio201710.parquet.gzip\n",
      "Saved as Parquet: I://base_de_dados//datasus//cnes//datasus_ftp\\2017\\base_de_dados_cnes_201710\\rlEstabSipac201710.parquet.gzip\n",
      "Saved as Parquet: I://base_de_dados//datasus//cnes//datasus_ftp\\2017\\base_de_dados_cnes_201710\\rlEstabSubTipo201710.parquet.gzip\n",
      "Saved as Parquet: I://base_de_dados//datasus//cnes//datasus_ftp\\2017\\base_de_dados_cnes_201710\\rlEstabTeleCnes201710.parquet.gzip\n",
      "Saved as Parquet: I://base_de_dados//datasus//cnes//datasus_ftp\\2017\\base_de_dados_cnes_201710\\rlEstabUnidAcolhim201710.parquet.gzip\n",
      "Saved as Parquet: I://base_de_dados//datasus//cnes//datasus_ftp\\2017\\base_de_dados_cnes_201710\\rlMunAtenPsico201710.parquet.gzip\n",
      "Saved as Parquet: I://base_de_dados//datasus//cnes//datasus_ftp\\2017\\base_de_dados_cnes_201710\\rlMunRegimeRes201710.parquet.gzip\n",
      "Saved as Parquet: I://base_de_dados//datasus//cnes//datasus_ftp\\2017\\base_de_dados_cnes_201710\\rlMunUnidAcolhim201710.parquet.gzip\n",
      "Saved as Parquet: I://base_de_dados//datasus//cnes//datasus_ftp\\2017\\base_de_dados_cnes_201710\\rlNasfEsf201710.parquet.gzip\n",
      "Saved as Parquet: I://base_de_dados//datasus//cnes//datasus_ftp\\2017\\base_de_dados_cnes_201710\\tbArea201710.parquet.gzip\n",
      "Saved as Parquet: I://base_de_dados//datasus//cnes//datasus_ftp\\2017\\base_de_dados_cnes_201710\\tbAtendimentoPrestado201710.parquet.gzip\n",
      "Saved as Parquet: I://base_de_dados//datasus//cnes//datasus_ftp\\2017\\base_de_dados_cnes_201710\\tbAtividadeEnsino201710.parquet.gzip\n",
      "Saved as Parquet: I://base_de_dados//datasus//cnes//datasus_ftp\\2017\\base_de_dados_cnes_201710\\tbAtividadeProfissional201710.parquet.gzip\n",
      "Saved as Parquet: I://base_de_dados//datasus//cnes//datasus_ftp\\2017\\base_de_dados_cnes_201710\\tbAtributo201710.parquet.gzip\n",
      "Saved as Parquet: I://base_de_dados//datasus//cnes//datasus_ftp\\2017\\base_de_dados_cnes_201710\\tbAvaliacao201710.parquet.gzip\n",
      "Saved as Parquet: I://base_de_dados//datasus//cnes//datasus_ftp\\2017\\base_de_dados_cnes_201710\\tbBanco201710.parquet.gzip\n"
     ]
    },
    {
     "name": "stderr",
     "output_type": "stream",
     "text": [
      "C:\\Users\\erick\\AppData\\Local\\Temp\\ipykernel_18324\\463220216.py:31: DtypeWarning: Columns (0,12) have mixed types. Specify dtype option on import or set low_memory=False.\n",
      "  df = pd.read_csv(csv_path, sep=';')\n"
     ]
    },
    {
     "name": "stdout",
     "output_type": "stream",
     "text": [
      "Saved as Parquet: I://base_de_dados//datasus//cnes//datasus_ftp\\2017\\base_de_dados_cnes_201710\\tbCargaHorariaSus201710.parquet.gzip\n",
      "Saved as Parquet: I://base_de_dados//datasus//cnes//datasus_ftp\\2017\\base_de_dados_cnes_201710\\tbClassificacaoAval201710.parquet.gzip\n",
      "Saved as Parquet: I://base_de_dados//datasus//cnes//datasus_ftp\\2017\\base_de_dados_cnes_201710\\tbClassificacaoServico201710.parquet.gzip\n",
      "Saved as Parquet: I://base_de_dados//datasus//cnes//datasus_ftp\\2017\\base_de_dados_cnes_201710\\tbColetaSeletivaRejeito201710.parquet.gzip\n",
      "Saved as Parquet: I://base_de_dados//datasus//cnes//datasus_ftp\\2017\\base_de_dados_cnes_201710\\tbComissaoOutro201710.parquet.gzip\n",
      "Saved as Parquet: I://base_de_dados//datasus//cnes//datasus_ftp\\2017\\base_de_dados_cnes_201710\\tbConselhoClasse201710.parquet.gzip\n",
      "Saved as Parquet: I://base_de_dados//datasus//cnes//datasus_ftp\\2017\\base_de_dados_cnes_201710\\tbConvenio201710.parquet.gzip\n",
      "Saved as Parquet: I://base_de_dados//datasus//cnes//datasus_ftp\\2017\\base_de_dados_cnes_201710\\tbDadosProfissionalSus201710.parquet.gzip\n",
      "Saved as Parquet: I://base_de_dados//datasus//cnes//datasus_ftp\\2017\\base_de_dados_cnes_201710\\tbDialise201710.parquet.gzip\n",
      "Saved as Parquet: I://base_de_dados//datasus//cnes//datasus_ftp\\2017\\base_de_dados_cnes_201710\\tbEquipamento201710.parquet.gzip\n",
      "Saved as Parquet: I://base_de_dados//datasus//cnes//datasus_ftp\\2017\\base_de_dados_cnes_201710\\tbEquipe201710.parquet.gzip\n",
      "Saved as Parquet: I://base_de_dados//datasus//cnes//datasus_ftp\\2017\\base_de_dados_cnes_201710\\tbEquipeAtendCompl201710.parquet.gzip\n",
      "Saved as Parquet: I://base_de_dados//datasus//cnes//datasus_ftp\\2017\\base_de_dados_cnes_201710\\tbEquipeChDifer201710.parquet.gzip\n",
      "Saved as Parquet: I://base_de_dados//datasus//cnes//datasus_ftp\\2017\\base_de_dados_cnes_201710\\tbEstabContrato201710.parquet.gzip\n"
     ]
    },
    {
     "name": "stderr",
     "output_type": "stream",
     "text": [
      "C:\\Users\\erick\\AppData\\Local\\Temp\\ipykernel_18324\\463220216.py:31: DtypeWarning: Columns (0,15,45) have mixed types. Specify dtype option on import or set low_memory=False.\n",
      "  df = pd.read_csv(csv_path, sep=';')\n"
     ]
    },
    {
     "name": "stdout",
     "output_type": "stream",
     "text": [
      "Saved as Parquet: I://base_de_dados//datasus//cnes//datasus_ftp\\2017\\base_de_dados_cnes_201710\\tbEstabelecimento201710.parquet.gzip\n",
      "Saved as Parquet: I://base_de_dados//datasus//cnes//datasus_ftp\\2017\\base_de_dados_cnes_201710\\tbEstabHorarioAtend201710.parquet.gzip\n",
      "Saved as Parquet: I://base_de_dados//datasus//cnes//datasus_ftp\\2017\\base_de_dados_cnes_201710\\tbEstado201710.parquet.gzip\n",
      "Saved as Parquet: I://base_de_dados//datasus//cnes//datasus_ftp\\2017\\base_de_dados_cnes_201710\\tbEtnia201710.parquet.gzip\n",
      "Saved as Parquet: I://base_de_dados//datasus//cnes//datasus_ftp\\2017\\base_de_dados_cnes_201710\\tbFluxoDadosClientela201710.parquet.gzip\n",
      "Saved as Parquet: I://base_de_dados//datasus//cnes//datasus_ftp\\2017\\base_de_dados_cnes_201710\\tbGestao201710.parquet.gzip\n",
      "Saved as Parquet: I://base_de_dados//datasus//cnes//datasus_ftp\\2017\\base_de_dados_cnes_201710\\tbGrupoEquipe201710.parquet.gzip\n",
      "Saved as Parquet: I://base_de_dados//datasus//cnes//datasus_ftp\\2017\\base_de_dados_cnes_201710\\tbHemoterapia201710.parquet.gzip\n",
      "Saved as Parquet: I://base_de_dados//datasus//cnes//datasus_ftp\\2017\\base_de_dados_cnes_201710\\tbIncentivos201710.parquet.gzip\n",
      "Saved as Parquet: I://base_de_dados//datasus//cnes//datasus_ftp\\2017\\base_de_dados_cnes_201710\\tbInstalFisicaParaAssist201710.parquet.gzip\n",
      "Saved as Parquet: I://base_de_dados//datasus//cnes//datasus_ftp\\2017\\base_de_dados_cnes_201710\\tbInstituicaoAvaliadora201710.parquet.gzip\n",
      "Saved as Parquet: I://base_de_dados//datasus//cnes//datasus_ftp\\2017\\base_de_dados_cnes_201710\\tbLeito201710.parquet.gzip\n",
      "Saved as Parquet: I://base_de_dados//datasus//cnes//datasus_ftp\\2017\\base_de_dados_cnes_201710\\tbMantenedora201710.parquet.gzip\n",
      "Saved as Parquet: I://base_de_dados//datasus//cnes//datasus_ftp\\2017\\base_de_dados_cnes_201710\\tbModVinculo201710.parquet.gzip\n",
      "Saved as Parquet: I://base_de_dados//datasus//cnes//datasus_ftp\\2017\\base_de_dados_cnes_201710\\tbMotivoDesativacao201710.parquet.gzip\n",
      "Saved as Parquet: I://base_de_dados//datasus//cnes//datasus_ftp\\2017\\base_de_dados_cnes_201710\\tbMotivoDesativEquipe201710.parquet.gzip\n",
      "Saved as Parquet: I://base_de_dados//datasus//cnes//datasus_ftp\\2017\\base_de_dados_cnes_201710\\tbMunicipio201710.parquet.gzip\n",
      "Saved as Parquet: I://base_de_dados//datasus//cnes//datasus_ftp\\2017\\base_de_dados_cnes_201710\\tbNaturezaJuridica201710.parquet.gzip\n",
      "Saved as Parquet: I://base_de_dados//datasus//cnes//datasus_ftp\\2017\\base_de_dados_cnes_201710\\tbOrgaoEmissor201710.parquet.gzip\n",
      "Saved as Parquet: I://base_de_dados//datasus//cnes//datasus_ftp\\2017\\base_de_dados_cnes_201710\\tbProfResidencia201710.parquet.gzip\n",
      "Saved as Parquet: I://base_de_dados//datasus//cnes//datasus_ftp\\2017\\base_de_dados_cnes_201710\\tbQuimioRadio201710.parquet.gzip\n",
      "Saved as Parquet: I://base_de_dados//datasus//cnes//datasus_ftp\\2017\\base_de_dados_cnes_201710\\tbResidenciaMed201710.parquet.gzip\n",
      "Saved as Parquet: I://base_de_dados//datasus//cnes//datasus_ftp\\2017\\base_de_dados_cnes_201710\\tbSegmento201710.parquet.gzip\n",
      "Saved as Parquet: I://base_de_dados//datasus//cnes//datasus_ftp\\2017\\base_de_dados_cnes_201710\\tbServicoApoio201710.parquet.gzip\n",
      "Saved as Parquet: I://base_de_dados//datasus//cnes//datasus_ftp\\2017\\base_de_dados_cnes_201710\\tbServicoEspecializado201710.parquet.gzip\n",
      "Saved as Parquet: I://base_de_dados//datasus//cnes//datasus_ftp\\2017\\base_de_dados_cnes_201710\\tbServicoReferenciado201710.parquet.gzip\n",
      "Saved as Parquet: I://base_de_dados//datasus//cnes//datasus_ftp\\2017\\base_de_dados_cnes_201710\\tbSubGruposHabilitacao201710.parquet.gzip\n",
      "Saved as Parquet: I://base_de_dados//datasus//cnes//datasus_ftp\\2017\\base_de_dados_cnes_201710\\tbSubTipo201710.parquet.gzip\n",
      "Saved as Parquet: I://base_de_dados//datasus//cnes//datasus_ftp\\2017\\base_de_dados_cnes_201710\\tbSubTipoEquipe201710.parquet.gzip\n",
      "Saved as Parquet: I://base_de_dados//datasus//cnes//datasus_ftp\\2017\\base_de_dados_cnes_201710\\tbSubtipoInstalacao201710.parquet.gzip\n",
      "Saved as Parquet: I://base_de_dados//datasus//cnes//datasus_ftp\\2017\\base_de_dados_cnes_201710\\tbSubTpModVinculo201710.parquet.gzip\n",
      "Saved as Parquet: I://base_de_dados//datasus//cnes//datasus_ftp\\2017\\base_de_dados_cnes_201710\\tbTipoCertidao201710.parquet.gzip\n",
      "Saved as Parquet: I://base_de_dados//datasus//cnes//datasus_ftp\\2017\\base_de_dados_cnes_201710\\tbTipoCgDifer201710.parquet.gzip\n",
      "Saved as Parquet: I://base_de_dados//datasus//cnes//datasus_ftp\\2017\\base_de_dados_cnes_201710\\tbTipoEqSubTipo201710.parquet.gzip\n",
      "Saved as Parquet: I://base_de_dados//datasus//cnes//datasus_ftp\\2017\\base_de_dados_cnes_201710\\tbTipoEquipamento201710.parquet.gzip\n",
      "Saved as Parquet: I://base_de_dados//datasus//cnes//datasus_ftp\\2017\\base_de_dados_cnes_201710\\tbTipoEquipe201710.parquet.gzip\n",
      "Saved as Parquet: I://base_de_dados//datasus//cnes//datasus_ftp\\2017\\base_de_dados_cnes_201710\\tbTipoEscolaridade201710.parquet.gzip\n",
      "Saved as Parquet: I://base_de_dados//datasus//cnes//datasus_ftp\\2017\\base_de_dados_cnes_201710\\tbTipoServicoReferenciado201710.parquet.gzip\n",
      "Saved as Parquet: I://base_de_dados//datasus//cnes//datasus_ftp\\2017\\base_de_dados_cnes_201710\\tbTipoUnidade201710.parquet.gzip\n",
      "Saved as Parquet: I://base_de_dados//datasus//cnes//datasus_ftp\\2017\\base_de_dados_cnes_201710\\tbTpModVinculo201710.parquet.gzip\n",
      "Saved as Parquet: I://base_de_dados//datasus//cnes//datasus_ftp\\2017\\base_de_dados_cnes_201710\\tbTurnoAtendimento201710.parquet.gzip\n",
      "Month Folder: base_de_dados_cnes_201711\n",
      "Saved as Parquet: I://base_de_dados//datasus//cnes//datasus_ftp\\2017\\base_de_dados_cnes_201711\\rlAdmGerenciaCnes201711.parquet.gzip\n",
      "Saved as Parquet: I://base_de_dados//datasus//cnes//datasus_ftp\\2017\\base_de_dados_cnes_201711\\rlCooperativa201711.parquet.gzip\n",
      "Saved as Parquet: I://base_de_dados//datasus//cnes//datasus_ftp\\2017\\base_de_dados_cnes_201711\\rlEquipeNasfEsf201711.parquet.gzip\n"
     ]
    },
    {
     "name": "stderr",
     "output_type": "stream",
     "text": [
      "C:\\Users\\erick\\AppData\\Local\\Temp\\ipykernel_18324\\463220216.py:31: DtypeWarning: Columns (0) have mixed types. Specify dtype option on import or set low_memory=False.\n",
      "  df = pd.read_csv(csv_path, sep=';')\n"
     ]
    },
    {
     "name": "stdout",
     "output_type": "stream",
     "text": [
      "Saved as Parquet: I://base_de_dados//datasus//cnes//datasus_ftp\\2017\\base_de_dados_cnes_201711\\rlEstabAtendPrestConv201711.parquet.gzip\n",
      "Saved as Parquet: I://base_de_dados//datasus//cnes//datasus_ftp\\2017\\base_de_dados_cnes_201711\\rlEstabAtenPsico201711.parquet.gzip\n",
      "Saved as Parquet: I://base_de_dados//datasus//cnes//datasus_ftp\\2017\\base_de_dados_cnes_201711\\rlEstabAvaliacao201711.parquet.gzip\n",
      "Saved as Parquet: I://base_de_dados//datasus//cnes//datasus_ftp\\2017\\base_de_dados_cnes_201711\\rlEstabCentralReg201711.parquet.gzip\n",
      "Saved as Parquet: I://base_de_dados//datasus//cnes//datasus_ftp\\2017\\base_de_dados_cnes_201711\\rlEstabColetaSelRejeito201711.parquet.gzip\n",
      "Saved as Parquet: I://base_de_dados//datasus//cnes//datasus_ftp\\2017\\base_de_dados_cnes_201711\\rlEstabComissaoOutro201711.parquet.gzip\n",
      "Saved as Parquet: I://base_de_dados//datasus//cnes//datasus_ftp\\2017\\base_de_dados_cnes_201711\\rlEstabComplementar201711.parquet.gzip\n",
      "Saved as Parquet: I://base_de_dados//datasus//cnes//datasus_ftp\\2017\\base_de_dados_cnes_201711\\rlEstabEndCompl201711.parquet.gzip\n",
      "Saved as Parquet: I://base_de_dados//datasus//cnes//datasus_ftp\\2017\\base_de_dados_cnes_201711\\rlEstabEqpEmbarcacao201711.parquet.gzip\n",
      "Saved as Parquet: I://base_de_dados//datasus//cnes//datasus_ftp\\2017\\base_de_dados_cnes_201711\\rlEstabEqpUnidApoio201711.parquet.gzip\n"
     ]
    },
    {
     "name": "stderr",
     "output_type": "stream",
     "text": [
      "C:\\Users\\erick\\AppData\\Local\\Temp\\ipykernel_18324\\463220216.py:31: DtypeWarning: Columns (0) have mixed types. Specify dtype option on import or set low_memory=False.\n",
      "  df = pd.read_csv(csv_path, sep=';')\n"
     ]
    },
    {
     "name": "stdout",
     "output_type": "stream",
     "text": [
      "Saved as Parquet: I://base_de_dados//datasus//cnes//datasus_ftp\\2017\\base_de_dados_cnes_201711\\rlEstabEquipamento201711.parquet.gzip\n",
      "Saved as Parquet: I://base_de_dados//datasus//cnes//datasus_ftp\\2017\\base_de_dados_cnes_201711\\rlEstabEquipeMun201711.parquet.gzip\n"
     ]
    },
    {
     "name": "stderr",
     "output_type": "stream",
     "text": [
      "C:\\Users\\erick\\AppData\\Local\\Temp\\ipykernel_18324\\463220216.py:31: DtypeWarning: Columns (14) have mixed types. Specify dtype option on import or set low_memory=False.\n",
      "  df = pd.read_csv(csv_path, sep=';')\n"
     ]
    },
    {
     "name": "stdout",
     "output_type": "stream",
     "text": [
      "Saved as Parquet: I://base_de_dados//datasus//cnes//datasus_ftp\\2017\\base_de_dados_cnes_201711\\rlEstabEquipeProf201711.parquet.gzip\n",
      "Saved as Parquet: I://base_de_dados//datasus//cnes//datasus_ftp\\2017\\base_de_dados_cnes_201711\\rlEstabInstFisiAssist201711.parquet.gzip\n",
      "Saved as Parquet: I://base_de_dados//datasus//cnes//datasus_ftp\\2017\\base_de_dados_cnes_201711\\rlEstabOrgParc201711.parquet.gzip\n",
      "Saved as Parquet: I://base_de_dados//datasus//cnes//datasus_ftp\\2017\\base_de_dados_cnes_201711\\rlEstabPoloAldeia201711.parquet.gzip\n",
      "Saved as Parquet: I://base_de_dados//datasus//cnes//datasus_ftp\\2017\\base_de_dados_cnes_201711\\rlEstabProfComissao201711.parquet.gzip\n",
      "Saved as Parquet: I://base_de_dados//datasus//cnes//datasus_ftp\\2017\\base_de_dados_cnes_201711\\rlEstabProgFundo201711.parquet.gzip\n",
      "Saved as Parquet: I://base_de_dados//datasus//cnes//datasus_ftp\\2017\\base_de_dados_cnes_201711\\rlEstabRegimeRes201711.parquet.gzip\n",
      "Saved as Parquet: I://base_de_dados//datasus//cnes//datasus_ftp\\2017\\base_de_dados_cnes_201711\\rlEstabRepresentante201711.parquet.gzip\n",
      "Saved as Parquet: I://base_de_dados//datasus//cnes//datasus_ftp\\2017\\base_de_dados_cnes_201711\\rlEstabSamu201711.parquet.gzip\n"
     ]
    },
    {
     "name": "stderr",
     "output_type": "stream",
     "text": [
      "C:\\Users\\erick\\AppData\\Local\\Temp\\ipykernel_18324\\463220216.py:31: DtypeWarning: Columns (0) have mixed types. Specify dtype option on import or set low_memory=False.\n",
      "  df = pd.read_csv(csv_path, sep=';')\n"
     ]
    },
    {
     "name": "stdout",
     "output_type": "stream",
     "text": [
      "Saved as Parquet: I://base_de_dados//datasus//cnes//datasus_ftp\\2017\\base_de_dados_cnes_201711\\rlEstabServClass201711.parquet.gzip\n"
     ]
    },
    {
     "name": "stderr",
     "output_type": "stream",
     "text": [
      "C:\\Users\\erick\\AppData\\Local\\Temp\\ipykernel_18324\\463220216.py:31: DtypeWarning: Columns (2) have mixed types. Specify dtype option on import or set low_memory=False.\n",
      "  df = pd.read_csv(csv_path, sep=';')\n"
     ]
    },
    {
     "name": "stdout",
     "output_type": "stream",
     "text": [
      "Saved as Parquet: I://base_de_dados//datasus//cnes//datasus_ftp\\2017\\base_de_dados_cnes_201711\\rlEstabServicoApoio201711.parquet.gzip\n",
      "Saved as Parquet: I://base_de_dados//datasus//cnes//datasus_ftp\\2017\\base_de_dados_cnes_201711\\rlEstabSipac201711.parquet.gzip\n",
      "Saved as Parquet: I://base_de_dados//datasus//cnes//datasus_ftp\\2017\\base_de_dados_cnes_201711\\rlEstabSubTipo201711.parquet.gzip\n",
      "Saved as Parquet: I://base_de_dados//datasus//cnes//datasus_ftp\\2017\\base_de_dados_cnes_201711\\rlEstabTeleCnes201711.parquet.gzip\n",
      "Saved as Parquet: I://base_de_dados//datasus//cnes//datasus_ftp\\2017\\base_de_dados_cnes_201711\\rlEstabUnidAcolhim201711.parquet.gzip\n",
      "Saved as Parquet: I://base_de_dados//datasus//cnes//datasus_ftp\\2017\\base_de_dados_cnes_201711\\rlMunAtenPsico201711.parquet.gzip\n",
      "Saved as Parquet: I://base_de_dados//datasus//cnes//datasus_ftp\\2017\\base_de_dados_cnes_201711\\rlMunRegimeRes201711.parquet.gzip\n",
      "Saved as Parquet: I://base_de_dados//datasus//cnes//datasus_ftp\\2017\\base_de_dados_cnes_201711\\rlMunUnidAcolhim201711.parquet.gzip\n",
      "Saved as Parquet: I://base_de_dados//datasus//cnes//datasus_ftp\\2017\\base_de_dados_cnes_201711\\rlNasfEsf201711.parquet.gzip\n",
      "Saved as Parquet: I://base_de_dados//datasus//cnes//datasus_ftp\\2017\\base_de_dados_cnes_201711\\tbArea201711.parquet.gzip\n",
      "Saved as Parquet: I://base_de_dados//datasus//cnes//datasus_ftp\\2017\\base_de_dados_cnes_201711\\tbAtendimentoPrestado201711.parquet.gzip\n",
      "Saved as Parquet: I://base_de_dados//datasus//cnes//datasus_ftp\\2017\\base_de_dados_cnes_201711\\tbAtividadeEnsino201711.parquet.gzip\n",
      "Saved as Parquet: I://base_de_dados//datasus//cnes//datasus_ftp\\2017\\base_de_dados_cnes_201711\\tbAtividadeProfissional201711.parquet.gzip\n",
      "Saved as Parquet: I://base_de_dados//datasus//cnes//datasus_ftp\\2017\\base_de_dados_cnes_201711\\tbAtributo201711.parquet.gzip\n",
      "Saved as Parquet: I://base_de_dados//datasus//cnes//datasus_ftp\\2017\\base_de_dados_cnes_201711\\tbAvaliacao201711.parquet.gzip\n",
      "Saved as Parquet: I://base_de_dados//datasus//cnes//datasus_ftp\\2017\\base_de_dados_cnes_201711\\tbBanco201711.parquet.gzip\n"
     ]
    },
    {
     "name": "stderr",
     "output_type": "stream",
     "text": [
      "C:\\Users\\erick\\AppData\\Local\\Temp\\ipykernel_18324\\463220216.py:31: DtypeWarning: Columns (0,12) have mixed types. Specify dtype option on import or set low_memory=False.\n",
      "  df = pd.read_csv(csv_path, sep=';')\n"
     ]
    },
    {
     "name": "stdout",
     "output_type": "stream",
     "text": [
      "Saved as Parquet: I://base_de_dados//datasus//cnes//datasus_ftp\\2017\\base_de_dados_cnes_201711\\tbCargaHorariaSus201711.parquet.gzip\n",
      "Saved as Parquet: I://base_de_dados//datasus//cnes//datasus_ftp\\2017\\base_de_dados_cnes_201711\\tbClassificacaoAval201711.parquet.gzip\n",
      "Saved as Parquet: I://base_de_dados//datasus//cnes//datasus_ftp\\2017\\base_de_dados_cnes_201711\\tbClassificacaoServico201711.parquet.gzip\n",
      "Saved as Parquet: I://base_de_dados//datasus//cnes//datasus_ftp\\2017\\base_de_dados_cnes_201711\\tbColetaSeletivaRejeito201711.parquet.gzip\n",
      "Saved as Parquet: I://base_de_dados//datasus//cnes//datasus_ftp\\2017\\base_de_dados_cnes_201711\\tbComissaoOutro201711.parquet.gzip\n",
      "Saved as Parquet: I://base_de_dados//datasus//cnes//datasus_ftp\\2017\\base_de_dados_cnes_201711\\tbConselhoClasse201711.parquet.gzip\n",
      "Saved as Parquet: I://base_de_dados//datasus//cnes//datasus_ftp\\2017\\base_de_dados_cnes_201711\\tbConvenio201711.parquet.gzip\n",
      "Saved as Parquet: I://base_de_dados//datasus//cnes//datasus_ftp\\2017\\base_de_dados_cnes_201711\\tbDadosProfissionalSus201711.parquet.gzip\n",
      "Saved as Parquet: I://base_de_dados//datasus//cnes//datasus_ftp\\2017\\base_de_dados_cnes_201711\\tbDialise201711.parquet.gzip\n",
      "Saved as Parquet: I://base_de_dados//datasus//cnes//datasus_ftp\\2017\\base_de_dados_cnes_201711\\tbEquipamento201711.parquet.gzip\n",
      "Saved as Parquet: I://base_de_dados//datasus//cnes//datasus_ftp\\2017\\base_de_dados_cnes_201711\\tbEquipe201711.parquet.gzip\n",
      "Saved as Parquet: I://base_de_dados//datasus//cnes//datasus_ftp\\2017\\base_de_dados_cnes_201711\\tbEquipeAtendCompl201711.parquet.gzip\n",
      "Saved as Parquet: I://base_de_dados//datasus//cnes//datasus_ftp\\2017\\base_de_dados_cnes_201711\\tbEquipeChDifer201711.parquet.gzip\n",
      "Saved as Parquet: I://base_de_dados//datasus//cnes//datasus_ftp\\2017\\base_de_dados_cnes_201711\\tbEstabContrato201711.parquet.gzip\n"
     ]
    },
    {
     "name": "stderr",
     "output_type": "stream",
     "text": [
      "C:\\Users\\erick\\AppData\\Local\\Temp\\ipykernel_18324\\463220216.py:31: DtypeWarning: Columns (0,36,45) have mixed types. Specify dtype option on import or set low_memory=False.\n",
      "  df = pd.read_csv(csv_path, sep=';')\n"
     ]
    },
    {
     "name": "stdout",
     "output_type": "stream",
     "text": [
      "Saved as Parquet: I://base_de_dados//datasus//cnes//datasus_ftp\\2017\\base_de_dados_cnes_201711\\tbEstabelecimento201711.parquet.gzip\n",
      "Saved as Parquet: I://base_de_dados//datasus//cnes//datasus_ftp\\2017\\base_de_dados_cnes_201711\\tbEstabHorarioAtend201711.parquet.gzip\n",
      "Saved as Parquet: I://base_de_dados//datasus//cnes//datasus_ftp\\2017\\base_de_dados_cnes_201711\\tbEstado201711.parquet.gzip\n",
      "Saved as Parquet: I://base_de_dados//datasus//cnes//datasus_ftp\\2017\\base_de_dados_cnes_201711\\tbEtnia201711.parquet.gzip\n",
      "Saved as Parquet: I://base_de_dados//datasus//cnes//datasus_ftp\\2017\\base_de_dados_cnes_201711\\tbFluxoDadosClientela201711.parquet.gzip\n",
      "Saved as Parquet: I://base_de_dados//datasus//cnes//datasus_ftp\\2017\\base_de_dados_cnes_201711\\tbGestao201711.parquet.gzip\n",
      "Saved as Parquet: I://base_de_dados//datasus//cnes//datasus_ftp\\2017\\base_de_dados_cnes_201711\\tbGrupoEquipe201711.parquet.gzip\n",
      "Saved as Parquet: I://base_de_dados//datasus//cnes//datasus_ftp\\2017\\base_de_dados_cnes_201711\\tbHemoterapia201711.parquet.gzip\n",
      "Saved as Parquet: I://base_de_dados//datasus//cnes//datasus_ftp\\2017\\base_de_dados_cnes_201711\\tbIncentivos201711.parquet.gzip\n",
      "Saved as Parquet: I://base_de_dados//datasus//cnes//datasus_ftp\\2017\\base_de_dados_cnes_201711\\tbInstalFisicaParaAssist201711.parquet.gzip\n",
      "Saved as Parquet: I://base_de_dados//datasus//cnes//datasus_ftp\\2017\\base_de_dados_cnes_201711\\tbInstituicaoAvaliadora201711.parquet.gzip\n",
      "Saved as Parquet: I://base_de_dados//datasus//cnes//datasus_ftp\\2017\\base_de_dados_cnes_201711\\tbLeito201711.parquet.gzip\n",
      "Saved as Parquet: I://base_de_dados//datasus//cnes//datasus_ftp\\2017\\base_de_dados_cnes_201711\\tbMantenedora201711.parquet.gzip\n",
      "Saved as Parquet: I://base_de_dados//datasus//cnes//datasus_ftp\\2017\\base_de_dados_cnes_201711\\tbModVinculo201711.parquet.gzip\n",
      "Saved as Parquet: I://base_de_dados//datasus//cnes//datasus_ftp\\2017\\base_de_dados_cnes_201711\\tbMotivoDesativacao201711.parquet.gzip\n",
      "Saved as Parquet: I://base_de_dados//datasus//cnes//datasus_ftp\\2017\\base_de_dados_cnes_201711\\tbMotivoDesativEquipe201711.parquet.gzip\n",
      "Saved as Parquet: I://base_de_dados//datasus//cnes//datasus_ftp\\2017\\base_de_dados_cnes_201711\\tbMunicipio201711.parquet.gzip\n",
      "Saved as Parquet: I://base_de_dados//datasus//cnes//datasus_ftp\\2017\\base_de_dados_cnes_201711\\tbNaturezaJuridica201711.parquet.gzip\n",
      "Saved as Parquet: I://base_de_dados//datasus//cnes//datasus_ftp\\2017\\base_de_dados_cnes_201711\\tbOrgaoEmissor201711.parquet.gzip\n",
      "Saved as Parquet: I://base_de_dados//datasus//cnes//datasus_ftp\\2017\\base_de_dados_cnes_201711\\tbProfResidencia201711.parquet.gzip\n",
      "Saved as Parquet: I://base_de_dados//datasus//cnes//datasus_ftp\\2017\\base_de_dados_cnes_201711\\tbQuimioRadio201711.parquet.gzip\n",
      "Saved as Parquet: I://base_de_dados//datasus//cnes//datasus_ftp\\2017\\base_de_dados_cnes_201711\\tbResidenciaMed201711.parquet.gzip\n",
      "Saved as Parquet: I://base_de_dados//datasus//cnes//datasus_ftp\\2017\\base_de_dados_cnes_201711\\tbSegmento201711.parquet.gzip\n",
      "Saved as Parquet: I://base_de_dados//datasus//cnes//datasus_ftp\\2017\\base_de_dados_cnes_201711\\tbServicoApoio201711.parquet.gzip\n",
      "Saved as Parquet: I://base_de_dados//datasus//cnes//datasus_ftp\\2017\\base_de_dados_cnes_201711\\tbServicoEspecializado201711.parquet.gzip\n",
      "Saved as Parquet: I://base_de_dados//datasus//cnes//datasus_ftp\\2017\\base_de_dados_cnes_201711\\tbServicoReferenciado201711.parquet.gzip\n",
      "Saved as Parquet: I://base_de_dados//datasus//cnes//datasus_ftp\\2017\\base_de_dados_cnes_201711\\tbSubGruposHabilitacao201711.parquet.gzip\n",
      "Saved as Parquet: I://base_de_dados//datasus//cnes//datasus_ftp\\2017\\base_de_dados_cnes_201711\\tbSubTipo201711.parquet.gzip\n",
      "Saved as Parquet: I://base_de_dados//datasus//cnes//datasus_ftp\\2017\\base_de_dados_cnes_201711\\tbSubTipoEquipe201711.parquet.gzip\n",
      "Saved as Parquet: I://base_de_dados//datasus//cnes//datasus_ftp\\2017\\base_de_dados_cnes_201711\\tbSubtipoInstalacao201711.parquet.gzip\n",
      "Saved as Parquet: I://base_de_dados//datasus//cnes//datasus_ftp\\2017\\base_de_dados_cnes_201711\\tbSubTpModVinculo201711.parquet.gzip\n",
      "Saved as Parquet: I://base_de_dados//datasus//cnes//datasus_ftp\\2017\\base_de_dados_cnes_201711\\tbTipoCertidao201711.parquet.gzip\n",
      "Saved as Parquet: I://base_de_dados//datasus//cnes//datasus_ftp\\2017\\base_de_dados_cnes_201711\\tbTipoCgDifer201711.parquet.gzip\n",
      "Saved as Parquet: I://base_de_dados//datasus//cnes//datasus_ftp\\2017\\base_de_dados_cnes_201711\\tbTipoEqSubTipo201711.parquet.gzip\n",
      "Saved as Parquet: I://base_de_dados//datasus//cnes//datasus_ftp\\2017\\base_de_dados_cnes_201711\\tbTipoEquipamento201711.parquet.gzip\n",
      "Saved as Parquet: I://base_de_dados//datasus//cnes//datasus_ftp\\2017\\base_de_dados_cnes_201711\\tbTipoEquipe201711.parquet.gzip\n",
      "Saved as Parquet: I://base_de_dados//datasus//cnes//datasus_ftp\\2017\\base_de_dados_cnes_201711\\tbTipoEscolaridade201711.parquet.gzip\n",
      "Saved as Parquet: I://base_de_dados//datasus//cnes//datasus_ftp\\2017\\base_de_dados_cnes_201711\\tbTipoServicoReferenciado201711.parquet.gzip\n",
      "Saved as Parquet: I://base_de_dados//datasus//cnes//datasus_ftp\\2017\\base_de_dados_cnes_201711\\tbTipoUnidade201711.parquet.gzip\n",
      "Saved as Parquet: I://base_de_dados//datasus//cnes//datasus_ftp\\2017\\base_de_dados_cnes_201711\\tbTpModVinculo201711.parquet.gzip\n",
      "Saved as Parquet: I://base_de_dados//datasus//cnes//datasus_ftp\\2017\\base_de_dados_cnes_201711\\tbTurnoAtendimento201711.parquet.gzip\n",
      "Month Folder: base_de_dados_cnes_201712\n",
      "Saved as Parquet: I://base_de_dados//datasus//cnes//datasus_ftp\\2017\\base_de_dados_cnes_201712\\rlAdmGerenciaCnes201712.parquet.gzip\n",
      "Saved as Parquet: I://base_de_dados//datasus//cnes//datasus_ftp\\2017\\base_de_dados_cnes_201712\\rlCooperativa201712.parquet.gzip\n",
      "Saved as Parquet: I://base_de_dados//datasus//cnes//datasus_ftp\\2017\\base_de_dados_cnes_201712\\rlEquipeNasfEsf201712.parquet.gzip\n"
     ]
    },
    {
     "name": "stderr",
     "output_type": "stream",
     "text": [
      "C:\\Users\\erick\\AppData\\Local\\Temp\\ipykernel_18324\\463220216.py:31: DtypeWarning: Columns (0) have mixed types. Specify dtype option on import or set low_memory=False.\n",
      "  df = pd.read_csv(csv_path, sep=';')\n"
     ]
    },
    {
     "name": "stdout",
     "output_type": "stream",
     "text": [
      "Saved as Parquet: I://base_de_dados//datasus//cnes//datasus_ftp\\2017\\base_de_dados_cnes_201712\\rlEstabAtendPrestConv201712.parquet.gzip\n",
      "Saved as Parquet: I://base_de_dados//datasus//cnes//datasus_ftp\\2017\\base_de_dados_cnes_201712\\rlEstabAtenPsico201712.parquet.gzip\n",
      "Saved as Parquet: I://base_de_dados//datasus//cnes//datasus_ftp\\2017\\base_de_dados_cnes_201712\\rlEstabAvaliacao201712.parquet.gzip\n",
      "Saved as Parquet: I://base_de_dados//datasus//cnes//datasus_ftp\\2017\\base_de_dados_cnes_201712\\rlEstabCentralReg201712.parquet.gzip\n",
      "Saved as Parquet: I://base_de_dados//datasus//cnes//datasus_ftp\\2017\\base_de_dados_cnes_201712\\rlEstabColetaSelRejeito201712.parquet.gzip\n",
      "Saved as Parquet: I://base_de_dados//datasus//cnes//datasus_ftp\\2017\\base_de_dados_cnes_201712\\rlEstabComissaoOutro201712.parquet.gzip\n",
      "Saved as Parquet: I://base_de_dados//datasus//cnes//datasus_ftp\\2017\\base_de_dados_cnes_201712\\rlEstabComplementar201712.parquet.gzip\n",
      "Saved as Parquet: I://base_de_dados//datasus//cnes//datasus_ftp\\2017\\base_de_dados_cnes_201712\\rlEstabEndCompl201712.parquet.gzip\n",
      "Saved as Parquet: I://base_de_dados//datasus//cnes//datasus_ftp\\2017\\base_de_dados_cnes_201712\\rlEstabEqpEmbarcacao201712.parquet.gzip\n",
      "Saved as Parquet: I://base_de_dados//datasus//cnes//datasus_ftp\\2017\\base_de_dados_cnes_201712\\rlEstabEqpUnidApoio201712.parquet.gzip\n"
     ]
    },
    {
     "name": "stderr",
     "output_type": "stream",
     "text": [
      "C:\\Users\\erick\\AppData\\Local\\Temp\\ipykernel_18324\\463220216.py:31: DtypeWarning: Columns (0) have mixed types. Specify dtype option on import or set low_memory=False.\n",
      "  df = pd.read_csv(csv_path, sep=';')\n"
     ]
    },
    {
     "name": "stdout",
     "output_type": "stream",
     "text": [
      "Saved as Parquet: I://base_de_dados//datasus//cnes//datasus_ftp\\2017\\base_de_dados_cnes_201712\\rlEstabEquipamento201712.parquet.gzip\n",
      "Saved as Parquet: I://base_de_dados//datasus//cnes//datasus_ftp\\2017\\base_de_dados_cnes_201712\\rlEstabEquipeMun201712.parquet.gzip\n"
     ]
    },
    {
     "name": "stderr",
     "output_type": "stream",
     "text": [
      "C:\\Users\\erick\\AppData\\Local\\Temp\\ipykernel_18324\\463220216.py:31: DtypeWarning: Columns (14) have mixed types. Specify dtype option on import or set low_memory=False.\n",
      "  df = pd.read_csv(csv_path, sep=';')\n"
     ]
    },
    {
     "name": "stdout",
     "output_type": "stream",
     "text": [
      "Saved as Parquet: I://base_de_dados//datasus//cnes//datasus_ftp\\2017\\base_de_dados_cnes_201712\\rlEstabEquipeProf201712.parquet.gzip\n",
      "Saved as Parquet: I://base_de_dados//datasus//cnes//datasus_ftp\\2017\\base_de_dados_cnes_201712\\rlEstabInstFisiAssist201712.parquet.gzip\n",
      "Saved as Parquet: I://base_de_dados//datasus//cnes//datasus_ftp\\2017\\base_de_dados_cnes_201712\\rlEstabOrgParc201712.parquet.gzip\n",
      "Saved as Parquet: I://base_de_dados//datasus//cnes//datasus_ftp\\2017\\base_de_dados_cnes_201712\\rlEstabPoloAldeia201712.parquet.gzip\n",
      "Saved as Parquet: I://base_de_dados//datasus//cnes//datasus_ftp\\2017\\base_de_dados_cnes_201712\\rlEstabProfComissao201712.parquet.gzip\n",
      "Saved as Parquet: I://base_de_dados//datasus//cnes//datasus_ftp\\2017\\base_de_dados_cnes_201712\\rlEstabProgFundo201712.parquet.gzip\n",
      "Saved as Parquet: I://base_de_dados//datasus//cnes//datasus_ftp\\2017\\base_de_dados_cnes_201712\\rlEstabRegimeRes201712.parquet.gzip\n",
      "Saved as Parquet: I://base_de_dados//datasus//cnes//datasus_ftp\\2017\\base_de_dados_cnes_201712\\rlEstabRepresentante201712.parquet.gzip\n",
      "Saved as Parquet: I://base_de_dados//datasus//cnes//datasus_ftp\\2017\\base_de_dados_cnes_201712\\rlEstabSamu201712.parquet.gzip\n"
     ]
    },
    {
     "name": "stderr",
     "output_type": "stream",
     "text": [
      "C:\\Users\\erick\\AppData\\Local\\Temp\\ipykernel_18324\\463220216.py:31: DtypeWarning: Columns (0) have mixed types. Specify dtype option on import or set low_memory=False.\n",
      "  df = pd.read_csv(csv_path, sep=';')\n"
     ]
    },
    {
     "name": "stdout",
     "output_type": "stream",
     "text": [
      "Saved as Parquet: I://base_de_dados//datasus//cnes//datasus_ftp\\2017\\base_de_dados_cnes_201712\\rlEstabServClass201712.parquet.gzip\n"
     ]
    },
    {
     "name": "stderr",
     "output_type": "stream",
     "text": [
      "C:\\Users\\erick\\AppData\\Local\\Temp\\ipykernel_18324\\463220216.py:31: DtypeWarning: Columns (2) have mixed types. Specify dtype option on import or set low_memory=False.\n",
      "  df = pd.read_csv(csv_path, sep=';')\n"
     ]
    },
    {
     "name": "stdout",
     "output_type": "stream",
     "text": [
      "Saved as Parquet: I://base_de_dados//datasus//cnes//datasus_ftp\\2017\\base_de_dados_cnes_201712\\rlEstabServicoApoio201712.parquet.gzip\n",
      "Saved as Parquet: I://base_de_dados//datasus//cnes//datasus_ftp\\2017\\base_de_dados_cnes_201712\\rlEstabSipac201712.parquet.gzip\n",
      "Saved as Parquet: I://base_de_dados//datasus//cnes//datasus_ftp\\2017\\base_de_dados_cnes_201712\\rlEstabSubTipo201712.parquet.gzip\n",
      "Saved as Parquet: I://base_de_dados//datasus//cnes//datasus_ftp\\2017\\base_de_dados_cnes_201712\\rlEstabTeleCnes201712.parquet.gzip\n",
      "Saved as Parquet: I://base_de_dados//datasus//cnes//datasus_ftp\\2017\\base_de_dados_cnes_201712\\rlEstabUnidAcolhim201712.parquet.gzip\n",
      "Saved as Parquet: I://base_de_dados//datasus//cnes//datasus_ftp\\2017\\base_de_dados_cnes_201712\\rlMunAtenPsico201712.parquet.gzip\n",
      "Saved as Parquet: I://base_de_dados//datasus//cnes//datasus_ftp\\2017\\base_de_dados_cnes_201712\\rlMunRegimeRes201712.parquet.gzip\n",
      "Saved as Parquet: I://base_de_dados//datasus//cnes//datasus_ftp\\2017\\base_de_dados_cnes_201712\\rlMunUnidAcolhim201712.parquet.gzip\n",
      "Saved as Parquet: I://base_de_dados//datasus//cnes//datasus_ftp\\2017\\base_de_dados_cnes_201712\\rlNasfEsf201712.parquet.gzip\n",
      "Saved as Parquet: I://base_de_dados//datasus//cnes//datasus_ftp\\2017\\base_de_dados_cnes_201712\\tbArea201712.parquet.gzip\n",
      "Saved as Parquet: I://base_de_dados//datasus//cnes//datasus_ftp\\2017\\base_de_dados_cnes_201712\\tbAtendimentoPrestado201712.parquet.gzip\n",
      "Saved as Parquet: I://base_de_dados//datasus//cnes//datasus_ftp\\2017\\base_de_dados_cnes_201712\\tbAtividadeEnsino201712.parquet.gzip\n",
      "Saved as Parquet: I://base_de_dados//datasus//cnes//datasus_ftp\\2017\\base_de_dados_cnes_201712\\tbAtividadeProfissional201712.parquet.gzip\n",
      "Saved as Parquet: I://base_de_dados//datasus//cnes//datasus_ftp\\2017\\base_de_dados_cnes_201712\\tbAtributo201712.parquet.gzip\n",
      "Saved as Parquet: I://base_de_dados//datasus//cnes//datasus_ftp\\2017\\base_de_dados_cnes_201712\\tbAvaliacao201712.parquet.gzip\n",
      "Saved as Parquet: I://base_de_dados//datasus//cnes//datasus_ftp\\2017\\base_de_dados_cnes_201712\\tbBanco201712.parquet.gzip\n"
     ]
    },
    {
     "name": "stderr",
     "output_type": "stream",
     "text": [
      "C:\\Users\\erick\\AppData\\Local\\Temp\\ipykernel_18324\\463220216.py:31: DtypeWarning: Columns (0,12) have mixed types. Specify dtype option on import or set low_memory=False.\n",
      "  df = pd.read_csv(csv_path, sep=';')\n"
     ]
    },
    {
     "name": "stdout",
     "output_type": "stream",
     "text": [
      "Saved as Parquet: I://base_de_dados//datasus//cnes//datasus_ftp\\2017\\base_de_dados_cnes_201712\\tbCargaHorariaSus201712.parquet.gzip\n",
      "Saved as Parquet: I://base_de_dados//datasus//cnes//datasus_ftp\\2017\\base_de_dados_cnes_201712\\tbClassificacaoAval201712.parquet.gzip\n",
      "Saved as Parquet: I://base_de_dados//datasus//cnes//datasus_ftp\\2017\\base_de_dados_cnes_201712\\tbClassificacaoServico201712.parquet.gzip\n",
      "Saved as Parquet: I://base_de_dados//datasus//cnes//datasus_ftp\\2017\\base_de_dados_cnes_201712\\tbColetaSeletivaRejeito201712.parquet.gzip\n",
      "Saved as Parquet: I://base_de_dados//datasus//cnes//datasus_ftp\\2017\\base_de_dados_cnes_201712\\tbComissaoOutro201712.parquet.gzip\n",
      "Saved as Parquet: I://base_de_dados//datasus//cnes//datasus_ftp\\2017\\base_de_dados_cnes_201712\\tbConselhoClasse201712.parquet.gzip\n",
      "Saved as Parquet: I://base_de_dados//datasus//cnes//datasus_ftp\\2017\\base_de_dados_cnes_201712\\tbConvenio201712.parquet.gzip\n",
      "Saved as Parquet: I://base_de_dados//datasus//cnes//datasus_ftp\\2017\\base_de_dados_cnes_201712\\tbDadosProfissionalSus201712.parquet.gzip\n",
      "Saved as Parquet: I://base_de_dados//datasus//cnes//datasus_ftp\\2017\\base_de_dados_cnes_201712\\tbDialise201712.parquet.gzip\n",
      "Saved as Parquet: I://base_de_dados//datasus//cnes//datasus_ftp\\2017\\base_de_dados_cnes_201712\\tbEquipamento201712.parquet.gzip\n",
      "Saved as Parquet: I://base_de_dados//datasus//cnes//datasus_ftp\\2017\\base_de_dados_cnes_201712\\tbEquipe201712.parquet.gzip\n",
      "Saved as Parquet: I://base_de_dados//datasus//cnes//datasus_ftp\\2017\\base_de_dados_cnes_201712\\tbEquipeAtendCompl201712.parquet.gzip\n",
      "Saved as Parquet: I://base_de_dados//datasus//cnes//datasus_ftp\\2017\\base_de_dados_cnes_201712\\tbEquipeChDifer201712.parquet.gzip\n",
      "Saved as Parquet: I://base_de_dados//datasus//cnes//datasus_ftp\\2017\\base_de_dados_cnes_201712\\tbEstabContrato201712.parquet.gzip\n"
     ]
    },
    {
     "name": "stderr",
     "output_type": "stream",
     "text": [
      "C:\\Users\\erick\\AppData\\Local\\Temp\\ipykernel_18324\\463220216.py:31: DtypeWarning: Columns (0,15,36,40,45) have mixed types. Specify dtype option on import or set low_memory=False.\n",
      "  df = pd.read_csv(csv_path, sep=';')\n"
     ]
    },
    {
     "name": "stdout",
     "output_type": "stream",
     "text": [
      "Saved as Parquet: I://base_de_dados//datasus//cnes//datasus_ftp\\2017\\base_de_dados_cnes_201712\\tbEstabelecimento201712.parquet.gzip\n",
      "Saved as Parquet: I://base_de_dados//datasus//cnes//datasus_ftp\\2017\\base_de_dados_cnes_201712\\tbEstabHorarioAtend201712.parquet.gzip\n",
      "Saved as Parquet: I://base_de_dados//datasus//cnes//datasus_ftp\\2017\\base_de_dados_cnes_201712\\tbEstado201712.parquet.gzip\n",
      "Saved as Parquet: I://base_de_dados//datasus//cnes//datasus_ftp\\2017\\base_de_dados_cnes_201712\\tbEtnia201712.parquet.gzip\n",
      "Saved as Parquet: I://base_de_dados//datasus//cnes//datasus_ftp\\2017\\base_de_dados_cnes_201712\\tbFluxoDadosClientela201712.parquet.gzip\n",
      "Saved as Parquet: I://base_de_dados//datasus//cnes//datasus_ftp\\2017\\base_de_dados_cnes_201712\\tbGestao201712.parquet.gzip\n",
      "Saved as Parquet: I://base_de_dados//datasus//cnes//datasus_ftp\\2017\\base_de_dados_cnes_201712\\tbGrupoEquipe201712.parquet.gzip\n",
      "Saved as Parquet: I://base_de_dados//datasus//cnes//datasus_ftp\\2017\\base_de_dados_cnes_201712\\tbHemoterapia201712.parquet.gzip\n",
      "Saved as Parquet: I://base_de_dados//datasus//cnes//datasus_ftp\\2017\\base_de_dados_cnes_201712\\tbIncentivos201712.parquet.gzip\n",
      "Saved as Parquet: I://base_de_dados//datasus//cnes//datasus_ftp\\2017\\base_de_dados_cnes_201712\\tbInstalFisicaParaAssist201712.parquet.gzip\n",
      "Saved as Parquet: I://base_de_dados//datasus//cnes//datasus_ftp\\2017\\base_de_dados_cnes_201712\\tbInstituicaoAvaliadora201712.parquet.gzip\n",
      "Saved as Parquet: I://base_de_dados//datasus//cnes//datasus_ftp\\2017\\base_de_dados_cnes_201712\\tbLeito201712.parquet.gzip\n",
      "Saved as Parquet: I://base_de_dados//datasus//cnes//datasus_ftp\\2017\\base_de_dados_cnes_201712\\tbMantenedora201712.parquet.gzip\n",
      "Saved as Parquet: I://base_de_dados//datasus//cnes//datasus_ftp\\2017\\base_de_dados_cnes_201712\\tbModVinculo201712.parquet.gzip\n",
      "Saved as Parquet: I://base_de_dados//datasus//cnes//datasus_ftp\\2017\\base_de_dados_cnes_201712\\tbMotivoDesativacao201712.parquet.gzip\n",
      "Saved as Parquet: I://base_de_dados//datasus//cnes//datasus_ftp\\2017\\base_de_dados_cnes_201712\\tbMotivoDesativEquipe201712.parquet.gzip\n",
      "Saved as Parquet: I://base_de_dados//datasus//cnes//datasus_ftp\\2017\\base_de_dados_cnes_201712\\tbMunicipio201712.parquet.gzip\n",
      "Saved as Parquet: I://base_de_dados//datasus//cnes//datasus_ftp\\2017\\base_de_dados_cnes_201712\\tbNaturezaJuridica201712.parquet.gzip\n",
      "Saved as Parquet: I://base_de_dados//datasus//cnes//datasus_ftp\\2017\\base_de_dados_cnes_201712\\tbOrgaoEmissor201712.parquet.gzip\n",
      "Saved as Parquet: I://base_de_dados//datasus//cnes//datasus_ftp\\2017\\base_de_dados_cnes_201712\\tbProfResidencia201712.parquet.gzip\n",
      "Saved as Parquet: I://base_de_dados//datasus//cnes//datasus_ftp\\2017\\base_de_dados_cnes_201712\\tbQuimioRadio201712.parquet.gzip\n",
      "Saved as Parquet: I://base_de_dados//datasus//cnes//datasus_ftp\\2017\\base_de_dados_cnes_201712\\tbResidenciaMed201712.parquet.gzip\n",
      "Saved as Parquet: I://base_de_dados//datasus//cnes//datasus_ftp\\2017\\base_de_dados_cnes_201712\\tbSegmento201712.parquet.gzip\n",
      "Saved as Parquet: I://base_de_dados//datasus//cnes//datasus_ftp\\2017\\base_de_dados_cnes_201712\\tbServicoApoio201712.parquet.gzip\n",
      "Saved as Parquet: I://base_de_dados//datasus//cnes//datasus_ftp\\2017\\base_de_dados_cnes_201712\\tbServicoEspecializado201712.parquet.gzip\n",
      "Saved as Parquet: I://base_de_dados//datasus//cnes//datasus_ftp\\2017\\base_de_dados_cnes_201712\\tbServicoReferenciado201712.parquet.gzip\n",
      "Saved as Parquet: I://base_de_dados//datasus//cnes//datasus_ftp\\2017\\base_de_dados_cnes_201712\\tbSubGruposHabilitacao201712.parquet.gzip\n",
      "Saved as Parquet: I://base_de_dados//datasus//cnes//datasus_ftp\\2017\\base_de_dados_cnes_201712\\tbSubTipo201712.parquet.gzip\n",
      "Saved as Parquet: I://base_de_dados//datasus//cnes//datasus_ftp\\2017\\base_de_dados_cnes_201712\\tbSubTipoEquipe201712.parquet.gzip\n",
      "Saved as Parquet: I://base_de_dados//datasus//cnes//datasus_ftp\\2017\\base_de_dados_cnes_201712\\tbSubtipoInstalacao201712.parquet.gzip\n",
      "Saved as Parquet: I://base_de_dados//datasus//cnes//datasus_ftp\\2017\\base_de_dados_cnes_201712\\tbSubTpModVinculo201712.parquet.gzip\n",
      "Saved as Parquet: I://base_de_dados//datasus//cnes//datasus_ftp\\2017\\base_de_dados_cnes_201712\\tbTipoCertidao201712.parquet.gzip\n",
      "Saved as Parquet: I://base_de_dados//datasus//cnes//datasus_ftp\\2017\\base_de_dados_cnes_201712\\tbTipoCgDifer201712.parquet.gzip\n",
      "Saved as Parquet: I://base_de_dados//datasus//cnes//datasus_ftp\\2017\\base_de_dados_cnes_201712\\tbTipoEqSubTipo201712.parquet.gzip\n",
      "Saved as Parquet: I://base_de_dados//datasus//cnes//datasus_ftp\\2017\\base_de_dados_cnes_201712\\tbTipoEquipamento201712.parquet.gzip\n",
      "Saved as Parquet: I://base_de_dados//datasus//cnes//datasus_ftp\\2017\\base_de_dados_cnes_201712\\tbTipoEquipe201712.parquet.gzip\n",
      "Saved as Parquet: I://base_de_dados//datasus//cnes//datasus_ftp\\2017\\base_de_dados_cnes_201712\\tbTipoEscolaridade201712.parquet.gzip\n",
      "Saved as Parquet: I://base_de_dados//datasus//cnes//datasus_ftp\\2017\\base_de_dados_cnes_201712\\tbTipoServicoReferenciado201712.parquet.gzip\n",
      "Saved as Parquet: I://base_de_dados//datasus//cnes//datasus_ftp\\2017\\base_de_dados_cnes_201712\\tbTipoUnidade201712.parquet.gzip\n",
      "Saved as Parquet: I://base_de_dados//datasus//cnes//datasus_ftp\\2017\\base_de_dados_cnes_201712\\tbTpModVinculo201712.parquet.gzip\n",
      "Saved as Parquet: I://base_de_dados//datasus//cnes//datasus_ftp\\2017\\base_de_dados_cnes_201712\\tbTurnoAtendimento201712.parquet.gzip\n",
      "Year Folder: 2018\n",
      "Month Folder: base_de_dados_cnes_201802\n",
      "Saved as Parquet: I://base_de_dados//datasus//cnes//datasus_ftp\\2018\\base_de_dados_cnes_201802\\rlAdmGerenciaCnes201802.parquet.gzip\n",
      "Saved as Parquet: I://base_de_dados//datasus//cnes//datasus_ftp\\2018\\base_de_dados_cnes_201802\\rlCooperativa201802.parquet.gzip\n",
      "Saved as Parquet: I://base_de_dados//datasus//cnes//datasus_ftp\\2018\\base_de_dados_cnes_201802\\rlEquipeNasfEsf201802.parquet.gzip\n"
     ]
    },
    {
     "name": "stderr",
     "output_type": "stream",
     "text": [
      "C:\\Users\\erick\\AppData\\Local\\Temp\\ipykernel_18324\\463220216.py:31: DtypeWarning: Columns (0) have mixed types. Specify dtype option on import or set low_memory=False.\n",
      "  df = pd.read_csv(csv_path, sep=';')\n"
     ]
    },
    {
     "name": "stdout",
     "output_type": "stream",
     "text": [
      "Saved as Parquet: I://base_de_dados//datasus//cnes//datasus_ftp\\2018\\base_de_dados_cnes_201802\\rlEstabAtendPrestConv201802.parquet.gzip\n",
      "Saved as Parquet: I://base_de_dados//datasus//cnes//datasus_ftp\\2018\\base_de_dados_cnes_201802\\rlEstabAtenPsico201802.parquet.gzip\n",
      "Saved as Parquet: I://base_de_dados//datasus//cnes//datasus_ftp\\2018\\base_de_dados_cnes_201802\\rlEstabAvaliacao201802.parquet.gzip\n",
      "Saved as Parquet: I://base_de_dados//datasus//cnes//datasus_ftp\\2018\\base_de_dados_cnes_201802\\rlEstabCentralReg201802.parquet.gzip\n",
      "Saved as Parquet: I://base_de_dados//datasus//cnes//datasus_ftp\\2018\\base_de_dados_cnes_201802\\rlEstabColetaSelRejeito201802.parquet.gzip\n",
      "Saved as Parquet: I://base_de_dados//datasus//cnes//datasus_ftp\\2018\\base_de_dados_cnes_201802\\rlEstabComissaoOutro201802.parquet.gzip\n",
      "Saved as Parquet: I://base_de_dados//datasus//cnes//datasus_ftp\\2018\\base_de_dados_cnes_201802\\rlEstabComplementar201802.parquet.gzip\n",
      "Saved as Parquet: I://base_de_dados//datasus//cnes//datasus_ftp\\2018\\base_de_dados_cnes_201802\\rlEstabEndCompl201802.parquet.gzip\n",
      "Saved as Parquet: I://base_de_dados//datasus//cnes//datasus_ftp\\2018\\base_de_dados_cnes_201802\\rlEstabEqpEmbarcacao201802.parquet.gzip\n",
      "Saved as Parquet: I://base_de_dados//datasus//cnes//datasus_ftp\\2018\\base_de_dados_cnes_201802\\rlEstabEqpUnidApoio201802.parquet.gzip\n"
     ]
    },
    {
     "name": "stderr",
     "output_type": "stream",
     "text": [
      "C:\\Users\\erick\\AppData\\Local\\Temp\\ipykernel_18324\\463220216.py:31: DtypeWarning: Columns (0) have mixed types. Specify dtype option on import or set low_memory=False.\n",
      "  df = pd.read_csv(csv_path, sep=';')\n"
     ]
    },
    {
     "name": "stdout",
     "output_type": "stream",
     "text": [
      "Saved as Parquet: I://base_de_dados//datasus//cnes//datasus_ftp\\2018\\base_de_dados_cnes_201802\\rlEstabEquipamento201802.parquet.gzip\n",
      "Saved as Parquet: I://base_de_dados//datasus//cnes//datasus_ftp\\2018\\base_de_dados_cnes_201802\\rlEstabEquipeMun201802.parquet.gzip\n",
      "Saved as Parquet: I://base_de_dados//datasus//cnes//datasus_ftp\\2018\\base_de_dados_cnes_201802\\rlEstabEquipeProf201802.parquet.gzip\n",
      "Saved as Parquet: I://base_de_dados//datasus//cnes//datasus_ftp\\2018\\base_de_dados_cnes_201802\\rlEstabInstFisiAssist201802.parquet.gzip\n",
      "Saved as Parquet: I://base_de_dados//datasus//cnes//datasus_ftp\\2018\\base_de_dados_cnes_201802\\rlEstabOrgParc201802.parquet.gzip\n",
      "Saved as Parquet: I://base_de_dados//datasus//cnes//datasus_ftp\\2018\\base_de_dados_cnes_201802\\rlEstabPoloAldeia201802.parquet.gzip\n",
      "Saved as Parquet: I://base_de_dados//datasus//cnes//datasus_ftp\\2018\\base_de_dados_cnes_201802\\rlEstabProfComissao201802.parquet.gzip\n",
      "Saved as Parquet: I://base_de_dados//datasus//cnes//datasus_ftp\\2018\\base_de_dados_cnes_201802\\rlEstabProgFundo201802.parquet.gzip\n",
      "Saved as Parquet: I://base_de_dados//datasus//cnes//datasus_ftp\\2018\\base_de_dados_cnes_201802\\rlEstabRegimeRes201802.parquet.gzip\n",
      "Saved as Parquet: I://base_de_dados//datasus//cnes//datasus_ftp\\2018\\base_de_dados_cnes_201802\\rlEstabRepresentante201802.parquet.gzip\n",
      "Saved as Parquet: I://base_de_dados//datasus//cnes//datasus_ftp\\2018\\base_de_dados_cnes_201802\\rlEstabSamu201802.parquet.gzip\n"
     ]
    },
    {
     "name": "stderr",
     "output_type": "stream",
     "text": [
      "C:\\Users\\erick\\AppData\\Local\\Temp\\ipykernel_18324\\463220216.py:31: DtypeWarning: Columns (0,10) have mixed types. Specify dtype option on import or set low_memory=False.\n",
      "  df = pd.read_csv(csv_path, sep=';')\n"
     ]
    },
    {
     "name": "stdout",
     "output_type": "stream",
     "text": [
      "Saved as Parquet: I://base_de_dados//datasus//cnes//datasus_ftp\\2018\\base_de_dados_cnes_201802\\rlEstabServClass201802.parquet.gzip\n"
     ]
    },
    {
     "name": "stderr",
     "output_type": "stream",
     "text": [
      "C:\\Users\\erick\\AppData\\Local\\Temp\\ipykernel_18324\\463220216.py:31: DtypeWarning: Columns (2) have mixed types. Specify dtype option on import or set low_memory=False.\n",
      "  df = pd.read_csv(csv_path, sep=';')\n"
     ]
    },
    {
     "name": "stdout",
     "output_type": "stream",
     "text": [
      "Saved as Parquet: I://base_de_dados//datasus//cnes//datasus_ftp\\2018\\base_de_dados_cnes_201802\\rlEstabServicoApoio201802.parquet.gzip\n",
      "Saved as Parquet: I://base_de_dados//datasus//cnes//datasus_ftp\\2018\\base_de_dados_cnes_201802\\rlEstabSipac201802.parquet.gzip\n",
      "Saved as Parquet: I://base_de_dados//datasus//cnes//datasus_ftp\\2018\\base_de_dados_cnes_201802\\rlEstabSubTipo201802.parquet.gzip\n",
      "Saved as Parquet: I://base_de_dados//datasus//cnes//datasus_ftp\\2018\\base_de_dados_cnes_201802\\rlEstabTeleCnes201802.parquet.gzip\n",
      "Saved as Parquet: I://base_de_dados//datasus//cnes//datasus_ftp\\2018\\base_de_dados_cnes_201802\\rlEstabUnidAcolhim201802.parquet.gzip\n",
      "Saved as Parquet: I://base_de_dados//datasus//cnes//datasus_ftp\\2018\\base_de_dados_cnes_201802\\rlMunAtenPsico201802.parquet.gzip\n",
      "Saved as Parquet: I://base_de_dados//datasus//cnes//datasus_ftp\\2018\\base_de_dados_cnes_201802\\rlMunRegimeRes201802.parquet.gzip\n",
      "Saved as Parquet: I://base_de_dados//datasus//cnes//datasus_ftp\\2018\\base_de_dados_cnes_201802\\rlMunUnidAcolhim201802.parquet.gzip\n",
      "Saved as Parquet: I://base_de_dados//datasus//cnes//datasus_ftp\\2018\\base_de_dados_cnes_201802\\rlNasfEsf201802.parquet.gzip\n",
      "Saved as Parquet: I://base_de_dados//datasus//cnes//datasus_ftp\\2018\\base_de_dados_cnes_201802\\tbArea201802.parquet.gzip\n",
      "Saved as Parquet: I://base_de_dados//datasus//cnes//datasus_ftp\\2018\\base_de_dados_cnes_201802\\tbAtendimentoPrestado201802.parquet.gzip\n",
      "Saved as Parquet: I://base_de_dados//datasus//cnes//datasus_ftp\\2018\\base_de_dados_cnes_201802\\tbAtividadeEnsino201802.parquet.gzip\n",
      "Saved as Parquet: I://base_de_dados//datasus//cnes//datasus_ftp\\2018\\base_de_dados_cnes_201802\\tbAtividadeProfissional201802.parquet.gzip\n",
      "Saved as Parquet: I://base_de_dados//datasus//cnes//datasus_ftp\\2018\\base_de_dados_cnes_201802\\tbAtributo201802.parquet.gzip\n",
      "Saved as Parquet: I://base_de_dados//datasus//cnes//datasus_ftp\\2018\\base_de_dados_cnes_201802\\tbAvaliacao201802.parquet.gzip\n",
      "Saved as Parquet: I://base_de_dados//datasus//cnes//datasus_ftp\\2018\\base_de_dados_cnes_201802\\tbBanco201802.parquet.gzip\n"
     ]
    },
    {
     "name": "stderr",
     "output_type": "stream",
     "text": [
      "C:\\Users\\erick\\AppData\\Local\\Temp\\ipykernel_18324\\463220216.py:31: DtypeWarning: Columns (0,12) have mixed types. Specify dtype option on import or set low_memory=False.\n",
      "  df = pd.read_csv(csv_path, sep=';')\n"
     ]
    },
    {
     "name": "stdout",
     "output_type": "stream",
     "text": [
      "Saved as Parquet: I://base_de_dados//datasus//cnes//datasus_ftp\\2018\\base_de_dados_cnes_201802\\tbCargaHorariaSus201802.parquet.gzip\n",
      "Saved as Parquet: I://base_de_dados//datasus//cnes//datasus_ftp\\2018\\base_de_dados_cnes_201802\\tbClassificacaoAval201802.parquet.gzip\n",
      "Saved as Parquet: I://base_de_dados//datasus//cnes//datasus_ftp\\2018\\base_de_dados_cnes_201802\\tbClassificacaoServico201802.parquet.gzip\n",
      "Saved as Parquet: I://base_de_dados//datasus//cnes//datasus_ftp\\2018\\base_de_dados_cnes_201802\\tbColetaSeletivaRejeito201802.parquet.gzip\n",
      "Saved as Parquet: I://base_de_dados//datasus//cnes//datasus_ftp\\2018\\base_de_dados_cnes_201802\\tbComissaoOutro201802.parquet.gzip\n",
      "Saved as Parquet: I://base_de_dados//datasus//cnes//datasus_ftp\\2018\\base_de_dados_cnes_201802\\tbConselhoClasse201802.parquet.gzip\n",
      "Saved as Parquet: I://base_de_dados//datasus//cnes//datasus_ftp\\2018\\base_de_dados_cnes_201802\\tbConvenio201802.parquet.gzip\n",
      "Saved as Parquet: I://base_de_dados//datasus//cnes//datasus_ftp\\2018\\base_de_dados_cnes_201802\\tbDadosProfissionalSus201802.parquet.gzip\n",
      "Saved as Parquet: I://base_de_dados//datasus//cnes//datasus_ftp\\2018\\base_de_dados_cnes_201802\\tbDialise201802.parquet.gzip\n",
      "Saved as Parquet: I://base_de_dados//datasus//cnes//datasus_ftp\\2018\\base_de_dados_cnes_201802\\tbEquipamento201802.parquet.gzip\n",
      "Saved as Parquet: I://base_de_dados//datasus//cnes//datasus_ftp\\2018\\base_de_dados_cnes_201802\\tbEquipe201802.parquet.gzip\n",
      "Saved as Parquet: I://base_de_dados//datasus//cnes//datasus_ftp\\2018\\base_de_dados_cnes_201802\\tbEquipeAtendCompl201802.parquet.gzip\n",
      "Saved as Parquet: I://base_de_dados//datasus//cnes//datasus_ftp\\2018\\base_de_dados_cnes_201802\\tbEquipeChDifer201802.parquet.gzip\n",
      "Saved as Parquet: I://base_de_dados//datasus//cnes//datasus_ftp\\2018\\base_de_dados_cnes_201802\\tbEstabContrato201802.parquet.gzip\n"
     ]
    },
    {
     "name": "stderr",
     "output_type": "stream",
     "text": [
      "C:\\Users\\erick\\AppData\\Local\\Temp\\ipykernel_18324\\463220216.py:31: DtypeWarning: Columns (0,45) have mixed types. Specify dtype option on import or set low_memory=False.\n",
      "  df = pd.read_csv(csv_path, sep=';')\n"
     ]
    },
    {
     "name": "stdout",
     "output_type": "stream",
     "text": [
      "Saved as Parquet: I://base_de_dados//datasus//cnes//datasus_ftp\\2018\\base_de_dados_cnes_201802\\tbEstabelecimento201802.parquet.gzip\n",
      "Saved as Parquet: I://base_de_dados//datasus//cnes//datasus_ftp\\2018\\base_de_dados_cnes_201802\\tbEstabHorarioAtend201802.parquet.gzip\n",
      "Saved as Parquet: I://base_de_dados//datasus//cnes//datasus_ftp\\2018\\base_de_dados_cnes_201802\\tbEstado201802.parquet.gzip\n",
      "Saved as Parquet: I://base_de_dados//datasus//cnes//datasus_ftp\\2018\\base_de_dados_cnes_201802\\tbEtnia201802.parquet.gzip\n",
      "Saved as Parquet: I://base_de_dados//datasus//cnes//datasus_ftp\\2018\\base_de_dados_cnes_201802\\tbFluxoDadosClientela201802.parquet.gzip\n",
      "Saved as Parquet: I://base_de_dados//datasus//cnes//datasus_ftp\\2018\\base_de_dados_cnes_201802\\tbGestao201802.parquet.gzip\n",
      "Saved as Parquet: I://base_de_dados//datasus//cnes//datasus_ftp\\2018\\base_de_dados_cnes_201802\\tbGrupoEquipe201802.parquet.gzip\n",
      "Saved as Parquet: I://base_de_dados//datasus//cnes//datasus_ftp\\2018\\base_de_dados_cnes_201802\\tbHemoterapia201802.parquet.gzip\n",
      "Saved as Parquet: I://base_de_dados//datasus//cnes//datasus_ftp\\2018\\base_de_dados_cnes_201802\\tbIncentivos201802.parquet.gzip\n",
      "Saved as Parquet: I://base_de_dados//datasus//cnes//datasus_ftp\\2018\\base_de_dados_cnes_201802\\tbInstalFisicaParaAssist201802.parquet.gzip\n",
      "Saved as Parquet: I://base_de_dados//datasus//cnes//datasus_ftp\\2018\\base_de_dados_cnes_201802\\tbInstituicaoAvaliadora201802.parquet.gzip\n",
      "Saved as Parquet: I://base_de_dados//datasus//cnes//datasus_ftp\\2018\\base_de_dados_cnes_201802\\tbLeito201802.parquet.gzip\n",
      "Saved as Parquet: I://base_de_dados//datasus//cnes//datasus_ftp\\2018\\base_de_dados_cnes_201802\\tbMantenedora201802.parquet.gzip\n",
      "Saved as Parquet: I://base_de_dados//datasus//cnes//datasus_ftp\\2018\\base_de_dados_cnes_201802\\tbModVinculo201802.parquet.gzip\n",
      "Saved as Parquet: I://base_de_dados//datasus//cnes//datasus_ftp\\2018\\base_de_dados_cnes_201802\\tbMotivoDesativacao201802.parquet.gzip\n",
      "Saved as Parquet: I://base_de_dados//datasus//cnes//datasus_ftp\\2018\\base_de_dados_cnes_201802\\tbMotivoDesativEquipe201802.parquet.gzip\n",
      "Saved as Parquet: I://base_de_dados//datasus//cnes//datasus_ftp\\2018\\base_de_dados_cnes_201802\\tbMunicipio201802.parquet.gzip\n",
      "Saved as Parquet: I://base_de_dados//datasus//cnes//datasus_ftp\\2018\\base_de_dados_cnes_201802\\tbNaturezaJuridica201802.parquet.gzip\n",
      "Saved as Parquet: I://base_de_dados//datasus//cnes//datasus_ftp\\2018\\base_de_dados_cnes_201802\\tbOrgaoEmissor201802.parquet.gzip\n",
      "Saved as Parquet: I://base_de_dados//datasus//cnes//datasus_ftp\\2018\\base_de_dados_cnes_201802\\tbProfResidencia201802.parquet.gzip\n",
      "Saved as Parquet: I://base_de_dados//datasus//cnes//datasus_ftp\\2018\\base_de_dados_cnes_201802\\tbQuimioRadio201802.parquet.gzip\n",
      "Saved as Parquet: I://base_de_dados//datasus//cnes//datasus_ftp\\2018\\base_de_dados_cnes_201802\\tbResidenciaMed201802.parquet.gzip\n",
      "Saved as Parquet: I://base_de_dados//datasus//cnes//datasus_ftp\\2018\\base_de_dados_cnes_201802\\tbSegmento201802.parquet.gzip\n",
      "Saved as Parquet: I://base_de_dados//datasus//cnes//datasus_ftp\\2018\\base_de_dados_cnes_201802\\tbServicoApoio201802.parquet.gzip\n",
      "Saved as Parquet: I://base_de_dados//datasus//cnes//datasus_ftp\\2018\\base_de_dados_cnes_201802\\tbServicoEspecializado201802.parquet.gzip\n",
      "Saved as Parquet: I://base_de_dados//datasus//cnes//datasus_ftp\\2018\\base_de_dados_cnes_201802\\tbServicoReferenciado201802.parquet.gzip\n",
      "Saved as Parquet: I://base_de_dados//datasus//cnes//datasus_ftp\\2018\\base_de_dados_cnes_201802\\tbSubGruposHabilitacao201802.parquet.gzip\n",
      "Saved as Parquet: I://base_de_dados//datasus//cnes//datasus_ftp\\2018\\base_de_dados_cnes_201802\\tbSubTipo201802.parquet.gzip\n",
      "Saved as Parquet: I://base_de_dados//datasus//cnes//datasus_ftp\\2018\\base_de_dados_cnes_201802\\tbSubTipoEquipe201802.parquet.gzip\n",
      "Saved as Parquet: I://base_de_dados//datasus//cnes//datasus_ftp\\2018\\base_de_dados_cnes_201802\\tbSubtipoInstalacao201802.parquet.gzip\n",
      "Saved as Parquet: I://base_de_dados//datasus//cnes//datasus_ftp\\2018\\base_de_dados_cnes_201802\\tbSubTpModVinculo201802.parquet.gzip\n",
      "Saved as Parquet: I://base_de_dados//datasus//cnes//datasus_ftp\\2018\\base_de_dados_cnes_201802\\tbTipoCertidao201802.parquet.gzip\n",
      "Saved as Parquet: I://base_de_dados//datasus//cnes//datasus_ftp\\2018\\base_de_dados_cnes_201802\\tbTipoCgDifer201802.parquet.gzip\n",
      "Saved as Parquet: I://base_de_dados//datasus//cnes//datasus_ftp\\2018\\base_de_dados_cnes_201802\\tbTipoEqSubTipo201802.parquet.gzip\n",
      "Saved as Parquet: I://base_de_dados//datasus//cnes//datasus_ftp\\2018\\base_de_dados_cnes_201802\\tbTipoEquipamento201802.parquet.gzip\n",
      "Saved as Parquet: I://base_de_dados//datasus//cnes//datasus_ftp\\2018\\base_de_dados_cnes_201802\\tbTipoEquipe201802.parquet.gzip\n",
      "Saved as Parquet: I://base_de_dados//datasus//cnes//datasus_ftp\\2018\\base_de_dados_cnes_201802\\tbTipoEscolaridade201802.parquet.gzip\n",
      "Saved as Parquet: I://base_de_dados//datasus//cnes//datasus_ftp\\2018\\base_de_dados_cnes_201802\\tbTipoServicoReferenciado201802.parquet.gzip\n",
      "Saved as Parquet: I://base_de_dados//datasus//cnes//datasus_ftp\\2018\\base_de_dados_cnes_201802\\tbTipoUnidade201802.parquet.gzip\n",
      "Saved as Parquet: I://base_de_dados//datasus//cnes//datasus_ftp\\2018\\base_de_dados_cnes_201802\\tbTpModVinculo201802.parquet.gzip\n",
      "Saved as Parquet: I://base_de_dados//datasus//cnes//datasus_ftp\\2018\\base_de_dados_cnes_201802\\tbTurnoAtendimento201802.parquet.gzip\n",
      "Month Folder: base_de_dados_cnes_201803\n",
      "Saved as Parquet: I://base_de_dados//datasus//cnes//datasus_ftp\\2018\\base_de_dados_cnes_201803\\rlAdmGerenciaCnes201803.parquet.gzip\n",
      "Saved as Parquet: I://base_de_dados//datasus//cnes//datasus_ftp\\2018\\base_de_dados_cnes_201803\\rlCooperativa201803.parquet.gzip\n",
      "Saved as Parquet: I://base_de_dados//datasus//cnes//datasus_ftp\\2018\\base_de_dados_cnes_201803\\rlEquipeNasfEsf201803.parquet.gzip\n"
     ]
    },
    {
     "name": "stderr",
     "output_type": "stream",
     "text": [
      "C:\\Users\\erick\\AppData\\Local\\Temp\\ipykernel_18324\\463220216.py:31: DtypeWarning: Columns (0) have mixed types. Specify dtype option on import or set low_memory=False.\n",
      "  df = pd.read_csv(csv_path, sep=';')\n"
     ]
    },
    {
     "name": "stdout",
     "output_type": "stream",
     "text": [
      "Saved as Parquet: I://base_de_dados//datasus//cnes//datasus_ftp\\2018\\base_de_dados_cnes_201803\\rlEstabAtendPrestConv201803.parquet.gzip\n",
      "Saved as Parquet: I://base_de_dados//datasus//cnes//datasus_ftp\\2018\\base_de_dados_cnes_201803\\rlEstabAtenPsico201803.parquet.gzip\n",
      "Saved as Parquet: I://base_de_dados//datasus//cnes//datasus_ftp\\2018\\base_de_dados_cnes_201803\\rlEstabAvaliacao201803.parquet.gzip\n",
      "Saved as Parquet: I://base_de_dados//datasus//cnes//datasus_ftp\\2018\\base_de_dados_cnes_201803\\rlEstabCentralReg201803.parquet.gzip\n",
      "Saved as Parquet: I://base_de_dados//datasus//cnes//datasus_ftp\\2018\\base_de_dados_cnes_201803\\rlEstabColetaSelRejeito201803.parquet.gzip\n",
      "Saved as Parquet: I://base_de_dados//datasus//cnes//datasus_ftp\\2018\\base_de_dados_cnes_201803\\rlEstabComissaoOutro201803.parquet.gzip\n",
      "Saved as Parquet: I://base_de_dados//datasus//cnes//datasus_ftp\\2018\\base_de_dados_cnes_201803\\rlEstabComplementar201803.parquet.gzip\n",
      "Saved as Parquet: I://base_de_dados//datasus//cnes//datasus_ftp\\2018\\base_de_dados_cnes_201803\\rlEstabEndCompl201803.parquet.gzip\n",
      "Saved as Parquet: I://base_de_dados//datasus//cnes//datasus_ftp\\2018\\base_de_dados_cnes_201803\\rlEstabEqpEmbarcacao201803.parquet.gzip\n",
      "Saved as Parquet: I://base_de_dados//datasus//cnes//datasus_ftp\\2018\\base_de_dados_cnes_201803\\rlEstabEqpUnidApoio201803.parquet.gzip\n"
     ]
    },
    {
     "name": "stderr",
     "output_type": "stream",
     "text": [
      "C:\\Users\\erick\\AppData\\Local\\Temp\\ipykernel_18324\\463220216.py:31: DtypeWarning: Columns (0) have mixed types. Specify dtype option on import or set low_memory=False.\n",
      "  df = pd.read_csv(csv_path, sep=';')\n"
     ]
    },
    {
     "name": "stdout",
     "output_type": "stream",
     "text": [
      "Saved as Parquet: I://base_de_dados//datasus//cnes//datasus_ftp\\2018\\base_de_dados_cnes_201803\\rlEstabEquipamento201803.parquet.gzip\n",
      "Saved as Parquet: I://base_de_dados//datasus//cnes//datasus_ftp\\2018\\base_de_dados_cnes_201803\\rlEstabEquipeMun201803.parquet.gzip\n",
      "Saved as Parquet: I://base_de_dados//datasus//cnes//datasus_ftp\\2018\\base_de_dados_cnes_201803\\rlEstabEquipeProf201803.parquet.gzip\n",
      "Saved as Parquet: I://base_de_dados//datasus//cnes//datasus_ftp\\2018\\base_de_dados_cnes_201803\\rlEstabInstFisiAssist201803.parquet.gzip\n",
      "Saved as Parquet: I://base_de_dados//datasus//cnes//datasus_ftp\\2018\\base_de_dados_cnes_201803\\rlEstabOrgParc201803.parquet.gzip\n",
      "Saved as Parquet: I://base_de_dados//datasus//cnes//datasus_ftp\\2018\\base_de_dados_cnes_201803\\rlEstabPoloAldeia201803.parquet.gzip\n",
      "Saved as Parquet: I://base_de_dados//datasus//cnes//datasus_ftp\\2018\\base_de_dados_cnes_201803\\rlEstabProfComissao201803.parquet.gzip\n",
      "Saved as Parquet: I://base_de_dados//datasus//cnes//datasus_ftp\\2018\\base_de_dados_cnes_201803\\rlEstabProgFundo201803.parquet.gzip\n",
      "Saved as Parquet: I://base_de_dados//datasus//cnes//datasus_ftp\\2018\\base_de_dados_cnes_201803\\rlEstabRegimeRes201803.parquet.gzip\n",
      "Saved as Parquet: I://base_de_dados//datasus//cnes//datasus_ftp\\2018\\base_de_dados_cnes_201803\\rlEstabRepresentante201803.parquet.gzip\n",
      "Saved as Parquet: I://base_de_dados//datasus//cnes//datasus_ftp\\2018\\base_de_dados_cnes_201803\\rlEstabSamu201803.parquet.gzip\n",
      "Saved as Parquet: I://base_de_dados//datasus//cnes//datasus_ftp\\2018\\base_de_dados_cnes_201803\\rlEstabServClass201803.parquet.gzip\n"
     ]
    },
    {
     "name": "stderr",
     "output_type": "stream",
     "text": [
      "C:\\Users\\erick\\AppData\\Local\\Temp\\ipykernel_18324\\463220216.py:31: DtypeWarning: Columns (2) have mixed types. Specify dtype option on import or set low_memory=False.\n",
      "  df = pd.read_csv(csv_path, sep=';')\n"
     ]
    },
    {
     "name": "stdout",
     "output_type": "stream",
     "text": [
      "Saved as Parquet: I://base_de_dados//datasus//cnes//datasus_ftp\\2018\\base_de_dados_cnes_201803\\rlEstabServicoApoio201803.parquet.gzip\n",
      "Saved as Parquet: I://base_de_dados//datasus//cnes//datasus_ftp\\2018\\base_de_dados_cnes_201803\\rlEstabSipac201803.parquet.gzip\n",
      "Saved as Parquet: I://base_de_dados//datasus//cnes//datasus_ftp\\2018\\base_de_dados_cnes_201803\\rlEstabSubTipo201803.parquet.gzip\n",
      "Saved as Parquet: I://base_de_dados//datasus//cnes//datasus_ftp\\2018\\base_de_dados_cnes_201803\\rlEstabTeleCnes201803.parquet.gzip\n",
      "Saved as Parquet: I://base_de_dados//datasus//cnes//datasus_ftp\\2018\\base_de_dados_cnes_201803\\rlEstabUnidAcolhim201803.parquet.gzip\n",
      "Saved as Parquet: I://base_de_dados//datasus//cnes//datasus_ftp\\2018\\base_de_dados_cnes_201803\\rlMunAtenPsico201803.parquet.gzip\n",
      "Saved as Parquet: I://base_de_dados//datasus//cnes//datasus_ftp\\2018\\base_de_dados_cnes_201803\\rlMunRegimeRes201803.parquet.gzip\n",
      "Saved as Parquet: I://base_de_dados//datasus//cnes//datasus_ftp\\2018\\base_de_dados_cnes_201803\\rlMunUnidAcolhim201803.parquet.gzip\n",
      "Saved as Parquet: I://base_de_dados//datasus//cnes//datasus_ftp\\2018\\base_de_dados_cnes_201803\\rlNasfEsf201803.parquet.gzip\n",
      "Saved as Parquet: I://base_de_dados//datasus//cnes//datasus_ftp\\2018\\base_de_dados_cnes_201803\\tbArea201803.parquet.gzip\n",
      "Saved as Parquet: I://base_de_dados//datasus//cnes//datasus_ftp\\2018\\base_de_dados_cnes_201803\\tbAtendimentoPrestado201803.parquet.gzip\n",
      "Saved as Parquet: I://base_de_dados//datasus//cnes//datasus_ftp\\2018\\base_de_dados_cnes_201803\\tbAtividadeEnsino201803.parquet.gzip\n",
      "Saved as Parquet: I://base_de_dados//datasus//cnes//datasus_ftp\\2018\\base_de_dados_cnes_201803\\tbAtividadeProfissional201803.parquet.gzip\n",
      "Saved as Parquet: I://base_de_dados//datasus//cnes//datasus_ftp\\2018\\base_de_dados_cnes_201803\\tbAtributo201803.parquet.gzip\n",
      "Saved as Parquet: I://base_de_dados//datasus//cnes//datasus_ftp\\2018\\base_de_dados_cnes_201803\\tbAvaliacao201803.parquet.gzip\n",
      "Saved as Parquet: I://base_de_dados//datasus//cnes//datasus_ftp\\2018\\base_de_dados_cnes_201803\\tbBanco201803.parquet.gzip\n"
     ]
    },
    {
     "name": "stderr",
     "output_type": "stream",
     "text": [
      "C:\\Users\\erick\\AppData\\Local\\Temp\\ipykernel_18324\\463220216.py:31: DtypeWarning: Columns (0,12) have mixed types. Specify dtype option on import or set low_memory=False.\n",
      "  df = pd.read_csv(csv_path, sep=';')\n"
     ]
    },
    {
     "name": "stdout",
     "output_type": "stream",
     "text": [
      "Saved as Parquet: I://base_de_dados//datasus//cnes//datasus_ftp\\2018\\base_de_dados_cnes_201803\\tbCargaHorariaSus201803.parquet.gzip\n",
      "Saved as Parquet: I://base_de_dados//datasus//cnes//datasus_ftp\\2018\\base_de_dados_cnes_201803\\tbClassificacaoAval201803.parquet.gzip\n",
      "Saved as Parquet: I://base_de_dados//datasus//cnes//datasus_ftp\\2018\\base_de_dados_cnes_201803\\tbClassificacaoServico201803.parquet.gzip\n",
      "Saved as Parquet: I://base_de_dados//datasus//cnes//datasus_ftp\\2018\\base_de_dados_cnes_201803\\tbColetaSeletivaRejeito201803.parquet.gzip\n",
      "Saved as Parquet: I://base_de_dados//datasus//cnes//datasus_ftp\\2018\\base_de_dados_cnes_201803\\tbComissaoOutro201803.parquet.gzip\n",
      "Saved as Parquet: I://base_de_dados//datasus//cnes//datasus_ftp\\2018\\base_de_dados_cnes_201803\\tbConselhoClasse201803.parquet.gzip\n",
      "Saved as Parquet: I://base_de_dados//datasus//cnes//datasus_ftp\\2018\\base_de_dados_cnes_201803\\tbConvenio201803.parquet.gzip\n",
      "Saved as Parquet: I://base_de_dados//datasus//cnes//datasus_ftp\\2018\\base_de_dados_cnes_201803\\tbDadosProfissionalSus201803.parquet.gzip\n",
      "Saved as Parquet: I://base_de_dados//datasus//cnes//datasus_ftp\\2018\\base_de_dados_cnes_201803\\tbDialise201803.parquet.gzip\n",
      "Saved as Parquet: I://base_de_dados//datasus//cnes//datasus_ftp\\2018\\base_de_dados_cnes_201803\\tbEquipamento201803.parquet.gzip\n",
      "Saved as Parquet: I://base_de_dados//datasus//cnes//datasus_ftp\\2018\\base_de_dados_cnes_201803\\tbEquipe201803.parquet.gzip\n",
      "Saved as Parquet: I://base_de_dados//datasus//cnes//datasus_ftp\\2018\\base_de_dados_cnes_201803\\tbEquipeAtendCompl201803.parquet.gzip\n",
      "Saved as Parquet: I://base_de_dados//datasus//cnes//datasus_ftp\\2018\\base_de_dados_cnes_201803\\tbEquipeChDifer201803.parquet.gzip\n",
      "Saved as Parquet: I://base_de_dados//datasus//cnes//datasus_ftp\\2018\\base_de_dados_cnes_201803\\tbEstabContrato201803.parquet.gzip\n"
     ]
    },
    {
     "name": "stderr",
     "output_type": "stream",
     "text": [
      "C:\\Users\\erick\\AppData\\Local\\Temp\\ipykernel_18324\\463220216.py:31: DtypeWarning: Columns (0,15,45) have mixed types. Specify dtype option on import or set low_memory=False.\n",
      "  df = pd.read_csv(csv_path, sep=';')\n"
     ]
    },
    {
     "name": "stdout",
     "output_type": "stream",
     "text": [
      "Saved as Parquet: I://base_de_dados//datasus//cnes//datasus_ftp\\2018\\base_de_dados_cnes_201803\\tbEstabelecimento201803.parquet.gzip\n",
      "Saved as Parquet: I://base_de_dados//datasus//cnes//datasus_ftp\\2018\\base_de_dados_cnes_201803\\tbEstabHorarioAtend201803.parquet.gzip\n",
      "Saved as Parquet: I://base_de_dados//datasus//cnes//datasus_ftp\\2018\\base_de_dados_cnes_201803\\tbEstado201803.parquet.gzip\n",
      "Saved as Parquet: I://base_de_dados//datasus//cnes//datasus_ftp\\2018\\base_de_dados_cnes_201803\\tbEtnia201803.parquet.gzip\n",
      "Saved as Parquet: I://base_de_dados//datasus//cnes//datasus_ftp\\2018\\base_de_dados_cnes_201803\\tbFluxoDadosClientela201803.parquet.gzip\n",
      "Saved as Parquet: I://base_de_dados//datasus//cnes//datasus_ftp\\2018\\base_de_dados_cnes_201803\\tbGestao201803.parquet.gzip\n",
      "Saved as Parquet: I://base_de_dados//datasus//cnes//datasus_ftp\\2018\\base_de_dados_cnes_201803\\tbGrupoEquipe201803.parquet.gzip\n",
      "Saved as Parquet: I://base_de_dados//datasus//cnes//datasus_ftp\\2018\\base_de_dados_cnes_201803\\tbHemoterapia201803.parquet.gzip\n",
      "Saved as Parquet: I://base_de_dados//datasus//cnes//datasus_ftp\\2018\\base_de_dados_cnes_201803\\tbIncentivos201803.parquet.gzip\n",
      "Saved as Parquet: I://base_de_dados//datasus//cnes//datasus_ftp\\2018\\base_de_dados_cnes_201803\\tbInstalFisicaParaAssist201803.parquet.gzip\n",
      "Saved as Parquet: I://base_de_dados//datasus//cnes//datasus_ftp\\2018\\base_de_dados_cnes_201803\\tbInstituicaoAvaliadora201803.parquet.gzip\n",
      "Saved as Parquet: I://base_de_dados//datasus//cnes//datasus_ftp\\2018\\base_de_dados_cnes_201803\\tbLeito201803.parquet.gzip\n",
      "Saved as Parquet: I://base_de_dados//datasus//cnes//datasus_ftp\\2018\\base_de_dados_cnes_201803\\tbMantenedora201803.parquet.gzip\n",
      "Saved as Parquet: I://base_de_dados//datasus//cnes//datasus_ftp\\2018\\base_de_dados_cnes_201803\\tbModVinculo201803.parquet.gzip\n",
      "Saved as Parquet: I://base_de_dados//datasus//cnes//datasus_ftp\\2018\\base_de_dados_cnes_201803\\tbMotivoDesativacao201803.parquet.gzip\n",
      "Saved as Parquet: I://base_de_dados//datasus//cnes//datasus_ftp\\2018\\base_de_dados_cnes_201803\\tbMotivoDesativEquipe201803.parquet.gzip\n",
      "Saved as Parquet: I://base_de_dados//datasus//cnes//datasus_ftp\\2018\\base_de_dados_cnes_201803\\tbMunicipio201803.parquet.gzip\n",
      "Saved as Parquet: I://base_de_dados//datasus//cnes//datasus_ftp\\2018\\base_de_dados_cnes_201803\\tbNaturezaJuridica201803.parquet.gzip\n",
      "Saved as Parquet: I://base_de_dados//datasus//cnes//datasus_ftp\\2018\\base_de_dados_cnes_201803\\tbOrgaoEmissor201803.parquet.gzip\n",
      "Saved as Parquet: I://base_de_dados//datasus//cnes//datasus_ftp\\2018\\base_de_dados_cnes_201803\\tbProfResidencia201803.parquet.gzip\n",
      "Saved as Parquet: I://base_de_dados//datasus//cnes//datasus_ftp\\2018\\base_de_dados_cnes_201803\\tbQuimioRadio201803.parquet.gzip\n",
      "Saved as Parquet: I://base_de_dados//datasus//cnes//datasus_ftp\\2018\\base_de_dados_cnes_201803\\tbResidenciaMed201803.parquet.gzip\n",
      "Saved as Parquet: I://base_de_dados//datasus//cnes//datasus_ftp\\2018\\base_de_dados_cnes_201803\\tbSegmento201803.parquet.gzip\n",
      "Saved as Parquet: I://base_de_dados//datasus//cnes//datasus_ftp\\2018\\base_de_dados_cnes_201803\\tbServicoApoio201803.parquet.gzip\n",
      "Saved as Parquet: I://base_de_dados//datasus//cnes//datasus_ftp\\2018\\base_de_dados_cnes_201803\\tbServicoEspecializado201803.parquet.gzip\n",
      "Saved as Parquet: I://base_de_dados//datasus//cnes//datasus_ftp\\2018\\base_de_dados_cnes_201803\\tbServicoReferenciado201803.parquet.gzip\n",
      "Saved as Parquet: I://base_de_dados//datasus//cnes//datasus_ftp\\2018\\base_de_dados_cnes_201803\\tbSubGruposHabilitacao201803.parquet.gzip\n",
      "Saved as Parquet: I://base_de_dados//datasus//cnes//datasus_ftp\\2018\\base_de_dados_cnes_201803\\tbSubTipo201803.parquet.gzip\n",
      "Saved as Parquet: I://base_de_dados//datasus//cnes//datasus_ftp\\2018\\base_de_dados_cnes_201803\\tbSubTipoEquipe201803.parquet.gzip\n",
      "Saved as Parquet: I://base_de_dados//datasus//cnes//datasus_ftp\\2018\\base_de_dados_cnes_201803\\tbSubtipoInstalacao201803.parquet.gzip\n",
      "Saved as Parquet: I://base_de_dados//datasus//cnes//datasus_ftp\\2018\\base_de_dados_cnes_201803\\tbSubTpModVinculo201803.parquet.gzip\n",
      "Saved as Parquet: I://base_de_dados//datasus//cnes//datasus_ftp\\2018\\base_de_dados_cnes_201803\\tbTipoCertidao201803.parquet.gzip\n",
      "Saved as Parquet: I://base_de_dados//datasus//cnes//datasus_ftp\\2018\\base_de_dados_cnes_201803\\tbTipoCgDifer201803.parquet.gzip\n",
      "Saved as Parquet: I://base_de_dados//datasus//cnes//datasus_ftp\\2018\\base_de_dados_cnes_201803\\tbTipoEqSubTipo201803.parquet.gzip\n",
      "Saved as Parquet: I://base_de_dados//datasus//cnes//datasus_ftp\\2018\\base_de_dados_cnes_201803\\tbTipoEquipamento201803.parquet.gzip\n",
      "Saved as Parquet: I://base_de_dados//datasus//cnes//datasus_ftp\\2018\\base_de_dados_cnes_201803\\tbTipoEquipe201803.parquet.gzip\n",
      "Saved as Parquet: I://base_de_dados//datasus//cnes//datasus_ftp\\2018\\base_de_dados_cnes_201803\\tbTipoEscolaridade201803.parquet.gzip\n",
      "Saved as Parquet: I://base_de_dados//datasus//cnes//datasus_ftp\\2018\\base_de_dados_cnes_201803\\tbTipoServicoReferenciado201803.parquet.gzip\n",
      "Saved as Parquet: I://base_de_dados//datasus//cnes//datasus_ftp\\2018\\base_de_dados_cnes_201803\\tbTipoUnidade201803.parquet.gzip\n",
      "Saved as Parquet: I://base_de_dados//datasus//cnes//datasus_ftp\\2018\\base_de_dados_cnes_201803\\tbTpModVinculo201803.parquet.gzip\n",
      "Saved as Parquet: I://base_de_dados//datasus//cnes//datasus_ftp\\2018\\base_de_dados_cnes_201803\\tbTurnoAtendimento201803.parquet.gzip\n",
      "Month Folder: base_de_dados_cnes_201804\n",
      "Saved as Parquet: I://base_de_dados//datasus//cnes//datasus_ftp\\2018\\base_de_dados_cnes_201804\\rlAdmGerenciaCnes201804.parquet.gzip\n",
      "Saved as Parquet: I://base_de_dados//datasus//cnes//datasus_ftp\\2018\\base_de_dados_cnes_201804\\rlCooperativa201804.parquet.gzip\n",
      "Saved as Parquet: I://base_de_dados//datasus//cnes//datasus_ftp\\2018\\base_de_dados_cnes_201804\\rlEquipeNasfEsf201804.parquet.gzip\n"
     ]
    },
    {
     "name": "stderr",
     "output_type": "stream",
     "text": [
      "C:\\Users\\erick\\AppData\\Local\\Temp\\ipykernel_18324\\463220216.py:31: DtypeWarning: Columns (0) have mixed types. Specify dtype option on import or set low_memory=False.\n",
      "  df = pd.read_csv(csv_path, sep=';')\n"
     ]
    },
    {
     "name": "stdout",
     "output_type": "stream",
     "text": [
      "Saved as Parquet: I://base_de_dados//datasus//cnes//datasus_ftp\\2018\\base_de_dados_cnes_201804\\rlEstabAtendPrestConv201804.parquet.gzip\n",
      "Saved as Parquet: I://base_de_dados//datasus//cnes//datasus_ftp\\2018\\base_de_dados_cnes_201804\\rlEstabAtenPsico201804.parquet.gzip\n",
      "Saved as Parquet: I://base_de_dados//datasus//cnes//datasus_ftp\\2018\\base_de_dados_cnes_201804\\rlEstabAvaliacao201804.parquet.gzip\n",
      "Saved as Parquet: I://base_de_dados//datasus//cnes//datasus_ftp\\2018\\base_de_dados_cnes_201804\\rlEstabCentralReg201804.parquet.gzip\n",
      "Saved as Parquet: I://base_de_dados//datasus//cnes//datasus_ftp\\2018\\base_de_dados_cnes_201804\\rlEstabColetaSelRejeito201804.parquet.gzip\n",
      "Saved as Parquet: I://base_de_dados//datasus//cnes//datasus_ftp\\2018\\base_de_dados_cnes_201804\\rlEstabComissaoOutro201804.parquet.gzip\n",
      "Saved as Parquet: I://base_de_dados//datasus//cnes//datasus_ftp\\2018\\base_de_dados_cnes_201804\\rlEstabComplementar201804.parquet.gzip\n",
      "Saved as Parquet: I://base_de_dados//datasus//cnes//datasus_ftp\\2018\\base_de_dados_cnes_201804\\rlEstabEndCompl201804.parquet.gzip\n",
      "Saved as Parquet: I://base_de_dados//datasus//cnes//datasus_ftp\\2018\\base_de_dados_cnes_201804\\rlEstabEqpEmbarcacao201804.parquet.gzip\n",
      "Saved as Parquet: I://base_de_dados//datasus//cnes//datasus_ftp\\2018\\base_de_dados_cnes_201804\\rlEstabEqpUnidApoio201804.parquet.gzip\n"
     ]
    },
    {
     "name": "stderr",
     "output_type": "stream",
     "text": [
      "C:\\Users\\erick\\AppData\\Local\\Temp\\ipykernel_18324\\463220216.py:31: DtypeWarning: Columns (0) have mixed types. Specify dtype option on import or set low_memory=False.\n",
      "  df = pd.read_csv(csv_path, sep=';')\n"
     ]
    },
    {
     "name": "stdout",
     "output_type": "stream",
     "text": [
      "Saved as Parquet: I://base_de_dados//datasus//cnes//datasus_ftp\\2018\\base_de_dados_cnes_201804\\rlEstabEquipamento201804.parquet.gzip\n",
      "Saved as Parquet: I://base_de_dados//datasus//cnes//datasus_ftp\\2018\\base_de_dados_cnes_201804\\rlEstabEquipeMun201804.parquet.gzip\n"
     ]
    },
    {
     "name": "stderr",
     "output_type": "stream",
     "text": [
      "C:\\Users\\erick\\AppData\\Local\\Temp\\ipykernel_18324\\463220216.py:31: DtypeWarning: Columns (14) have mixed types. Specify dtype option on import or set low_memory=False.\n",
      "  df = pd.read_csv(csv_path, sep=';')\n"
     ]
    },
    {
     "name": "stdout",
     "output_type": "stream",
     "text": [
      "Saved as Parquet: I://base_de_dados//datasus//cnes//datasus_ftp\\2018\\base_de_dados_cnes_201804\\rlEstabEquipeProf201804.parquet.gzip\n",
      "Saved as Parquet: I://base_de_dados//datasus//cnes//datasus_ftp\\2018\\base_de_dados_cnes_201804\\rlEstabInstFisiAssist201804.parquet.gzip\n",
      "Saved as Parquet: I://base_de_dados//datasus//cnes//datasus_ftp\\2018\\base_de_dados_cnes_201804\\rlEstabOrgParc201804.parquet.gzip\n",
      "Saved as Parquet: I://base_de_dados//datasus//cnes//datasus_ftp\\2018\\base_de_dados_cnes_201804\\rlEstabPoloAldeia201804.parquet.gzip\n",
      "Saved as Parquet: I://base_de_dados//datasus//cnes//datasus_ftp\\2018\\base_de_dados_cnes_201804\\rlEstabProfComissao201804.parquet.gzip\n",
      "Saved as Parquet: I://base_de_dados//datasus//cnes//datasus_ftp\\2018\\base_de_dados_cnes_201804\\rlEstabProgFundo201804.parquet.gzip\n",
      "Saved as Parquet: I://base_de_dados//datasus//cnes//datasus_ftp\\2018\\base_de_dados_cnes_201804\\rlEstabRegimeRes201804.parquet.gzip\n",
      "Saved as Parquet: I://base_de_dados//datasus//cnes//datasus_ftp\\2018\\base_de_dados_cnes_201804\\rlEstabRepresentante201804.parquet.gzip\n",
      "Saved as Parquet: I://base_de_dados//datasus//cnes//datasus_ftp\\2018\\base_de_dados_cnes_201804\\rlEstabSamu201804.parquet.gzip\n",
      "Saved as Parquet: I://base_de_dados//datasus//cnes//datasus_ftp\\2018\\base_de_dados_cnes_201804\\rlEstabServClass201804.parquet.gzip\n"
     ]
    },
    {
     "name": "stderr",
     "output_type": "stream",
     "text": [
      "C:\\Users\\erick\\AppData\\Local\\Temp\\ipykernel_18324\\463220216.py:31: DtypeWarning: Columns (2) have mixed types. Specify dtype option on import or set low_memory=False.\n",
      "  df = pd.read_csv(csv_path, sep=';')\n"
     ]
    },
    {
     "name": "stdout",
     "output_type": "stream",
     "text": [
      "Saved as Parquet: I://base_de_dados//datasus//cnes//datasus_ftp\\2018\\base_de_dados_cnes_201804\\rlEstabServicoApoio201804.parquet.gzip\n",
      "Saved as Parquet: I://base_de_dados//datasus//cnes//datasus_ftp\\2018\\base_de_dados_cnes_201804\\rlEstabSipac201804.parquet.gzip\n",
      "Saved as Parquet: I://base_de_dados//datasus//cnes//datasus_ftp\\2018\\base_de_dados_cnes_201804\\rlEstabSubTipo201804.parquet.gzip\n",
      "Saved as Parquet: I://base_de_dados//datasus//cnes//datasus_ftp\\2018\\base_de_dados_cnes_201804\\rlEstabTeleCnes201804.parquet.gzip\n",
      "Saved as Parquet: I://base_de_dados//datasus//cnes//datasus_ftp\\2018\\base_de_dados_cnes_201804\\rlEstabUnidAcolhim201804.parquet.gzip\n",
      "Saved as Parquet: I://base_de_dados//datasus//cnes//datasus_ftp\\2018\\base_de_dados_cnes_201804\\rlMunAtenPsico201804.parquet.gzip\n",
      "Saved as Parquet: I://base_de_dados//datasus//cnes//datasus_ftp\\2018\\base_de_dados_cnes_201804\\rlMunRegimeRes201804.parquet.gzip\n",
      "Saved as Parquet: I://base_de_dados//datasus//cnes//datasus_ftp\\2018\\base_de_dados_cnes_201804\\rlMunUnidAcolhim201804.parquet.gzip\n",
      "Saved as Parquet: I://base_de_dados//datasus//cnes//datasus_ftp\\2018\\base_de_dados_cnes_201804\\rlNasfEsf201804.parquet.gzip\n",
      "Saved as Parquet: I://base_de_dados//datasus//cnes//datasus_ftp\\2018\\base_de_dados_cnes_201804\\tbArea201804.parquet.gzip\n",
      "Saved as Parquet: I://base_de_dados//datasus//cnes//datasus_ftp\\2018\\base_de_dados_cnes_201804\\tbAtendimentoPrestado201804.parquet.gzip\n",
      "Saved as Parquet: I://base_de_dados//datasus//cnes//datasus_ftp\\2018\\base_de_dados_cnes_201804\\tbAtividadeEnsino201804.parquet.gzip\n",
      "Saved as Parquet: I://base_de_dados//datasus//cnes//datasus_ftp\\2018\\base_de_dados_cnes_201804\\tbAtividadeProfissional201804.parquet.gzip\n",
      "Saved as Parquet: I://base_de_dados//datasus//cnes//datasus_ftp\\2018\\base_de_dados_cnes_201804\\tbAtributo201804.parquet.gzip\n",
      "Saved as Parquet: I://base_de_dados//datasus//cnes//datasus_ftp\\2018\\base_de_dados_cnes_201804\\tbAvaliacao201804.parquet.gzip\n",
      "Saved as Parquet: I://base_de_dados//datasus//cnes//datasus_ftp\\2018\\base_de_dados_cnes_201804\\tbBanco201804.parquet.gzip\n"
     ]
    },
    {
     "name": "stderr",
     "output_type": "stream",
     "text": [
      "C:\\Users\\erick\\AppData\\Local\\Temp\\ipykernel_18324\\463220216.py:31: DtypeWarning: Columns (0,2,12) have mixed types. Specify dtype option on import or set low_memory=False.\n",
      "  df = pd.read_csv(csv_path, sep=';')\n"
     ]
    },
    {
     "name": "stdout",
     "output_type": "stream",
     "text": [
      "Saved as Parquet: I://base_de_dados//datasus//cnes//datasus_ftp\\2018\\base_de_dados_cnes_201804\\tbCargaHorariaSus201804.parquet.gzip\n",
      "Saved as Parquet: I://base_de_dados//datasus//cnes//datasus_ftp\\2018\\base_de_dados_cnes_201804\\tbClassificacaoAval201804.parquet.gzip\n",
      "Saved as Parquet: I://base_de_dados//datasus//cnes//datasus_ftp\\2018\\base_de_dados_cnes_201804\\tbClassificacaoServico201804.parquet.gzip\n",
      "Saved as Parquet: I://base_de_dados//datasus//cnes//datasus_ftp\\2018\\base_de_dados_cnes_201804\\tbColetaSeletivaRejeito201804.parquet.gzip\n",
      "Saved as Parquet: I://base_de_dados//datasus//cnes//datasus_ftp\\2018\\base_de_dados_cnes_201804\\tbComissaoOutro201804.parquet.gzip\n",
      "Saved as Parquet: I://base_de_dados//datasus//cnes//datasus_ftp\\2018\\base_de_dados_cnes_201804\\tbConselhoClasse201804.parquet.gzip\n",
      "Saved as Parquet: I://base_de_dados//datasus//cnes//datasus_ftp\\2018\\base_de_dados_cnes_201804\\tbConvenio201804.parquet.gzip\n",
      "Saved as Parquet: I://base_de_dados//datasus//cnes//datasus_ftp\\2018\\base_de_dados_cnes_201804\\tbDadosProfissionalSus201804.parquet.gzip\n",
      "Saved as Parquet: I://base_de_dados//datasus//cnes//datasus_ftp\\2018\\base_de_dados_cnes_201804\\tbDialise201804.parquet.gzip\n",
      "Saved as Parquet: I://base_de_dados//datasus//cnes//datasus_ftp\\2018\\base_de_dados_cnes_201804\\tbEquipamento201804.parquet.gzip\n",
      "Saved as Parquet: I://base_de_dados//datasus//cnes//datasus_ftp\\2018\\base_de_dados_cnes_201804\\tbEquipe201804.parquet.gzip\n",
      "Saved as Parquet: I://base_de_dados//datasus//cnes//datasus_ftp\\2018\\base_de_dados_cnes_201804\\tbEquipeAtendCompl201804.parquet.gzip\n",
      "Saved as Parquet: I://base_de_dados//datasus//cnes//datasus_ftp\\2018\\base_de_dados_cnes_201804\\tbEquipeChDifer201804.parquet.gzip\n",
      "Saved as Parquet: I://base_de_dados//datasus//cnes//datasus_ftp\\2018\\base_de_dados_cnes_201804\\tbEstabContrato201804.parquet.gzip\n"
     ]
    },
    {
     "name": "stderr",
     "output_type": "stream",
     "text": [
      "C:\\Users\\erick\\AppData\\Local\\Temp\\ipykernel_18324\\463220216.py:31: DtypeWarning: Columns (0,15,36,45) have mixed types. Specify dtype option on import or set low_memory=False.\n",
      "  df = pd.read_csv(csv_path, sep=';')\n"
     ]
    },
    {
     "name": "stdout",
     "output_type": "stream",
     "text": [
      "Saved as Parquet: I://base_de_dados//datasus//cnes//datasus_ftp\\2018\\base_de_dados_cnes_201804\\tbEstabelecimento201804.parquet.gzip\n",
      "Saved as Parquet: I://base_de_dados//datasus//cnes//datasus_ftp\\2018\\base_de_dados_cnes_201804\\tbEstabHorarioAtend201804.parquet.gzip\n",
      "Saved as Parquet: I://base_de_dados//datasus//cnes//datasus_ftp\\2018\\base_de_dados_cnes_201804\\tbEstado201804.parquet.gzip\n",
      "Saved as Parquet: I://base_de_dados//datasus//cnes//datasus_ftp\\2018\\base_de_dados_cnes_201804\\tbEtnia201804.parquet.gzip\n",
      "Saved as Parquet: I://base_de_dados//datasus//cnes//datasus_ftp\\2018\\base_de_dados_cnes_201804\\tbFluxoDadosClientela201804.parquet.gzip\n",
      "Saved as Parquet: I://base_de_dados//datasus//cnes//datasus_ftp\\2018\\base_de_dados_cnes_201804\\tbGestao201804.parquet.gzip\n",
      "Saved as Parquet: I://base_de_dados//datasus//cnes//datasus_ftp\\2018\\base_de_dados_cnes_201804\\tbGrupoEquipe201804.parquet.gzip\n",
      "Saved as Parquet: I://base_de_dados//datasus//cnes//datasus_ftp\\2018\\base_de_dados_cnes_201804\\tbHemoterapia201804.parquet.gzip\n",
      "Saved as Parquet: I://base_de_dados//datasus//cnes//datasus_ftp\\2018\\base_de_dados_cnes_201804\\tbIncentivos201804.parquet.gzip\n",
      "Saved as Parquet: I://base_de_dados//datasus//cnes//datasus_ftp\\2018\\base_de_dados_cnes_201804\\tbInstalFisicaParaAssist201804.parquet.gzip\n",
      "Saved as Parquet: I://base_de_dados//datasus//cnes//datasus_ftp\\2018\\base_de_dados_cnes_201804\\tbInstituicaoAvaliadora201804.parquet.gzip\n",
      "Saved as Parquet: I://base_de_dados//datasus//cnes//datasus_ftp\\2018\\base_de_dados_cnes_201804\\tbLeito201804.parquet.gzip\n",
      "Saved as Parquet: I://base_de_dados//datasus//cnes//datasus_ftp\\2018\\base_de_dados_cnes_201804\\tbMantenedora201804.parquet.gzip\n",
      "Saved as Parquet: I://base_de_dados//datasus//cnes//datasus_ftp\\2018\\base_de_dados_cnes_201804\\tbModVinculo201804.parquet.gzip\n",
      "Saved as Parquet: I://base_de_dados//datasus//cnes//datasus_ftp\\2018\\base_de_dados_cnes_201804\\tbMotivoDesativacao201804.parquet.gzip\n",
      "Saved as Parquet: I://base_de_dados//datasus//cnes//datasus_ftp\\2018\\base_de_dados_cnes_201804\\tbMotivoDesativEquipe201804.parquet.gzip\n",
      "Saved as Parquet: I://base_de_dados//datasus//cnes//datasus_ftp\\2018\\base_de_dados_cnes_201804\\tbMunicipio201804.parquet.gzip\n",
      "Saved as Parquet: I://base_de_dados//datasus//cnes//datasus_ftp\\2018\\base_de_dados_cnes_201804\\tbNaturezaJuridica201804.parquet.gzip\n",
      "Saved as Parquet: I://base_de_dados//datasus//cnes//datasus_ftp\\2018\\base_de_dados_cnes_201804\\tbOrgaoEmissor201804.parquet.gzip\n",
      "Saved as Parquet: I://base_de_dados//datasus//cnes//datasus_ftp\\2018\\base_de_dados_cnes_201804\\tbProfResidencia201804.parquet.gzip\n",
      "Saved as Parquet: I://base_de_dados//datasus//cnes//datasus_ftp\\2018\\base_de_dados_cnes_201804\\tbQuimioRadio201804.parquet.gzip\n",
      "Saved as Parquet: I://base_de_dados//datasus//cnes//datasus_ftp\\2018\\base_de_dados_cnes_201804\\tbResidenciaMed201804.parquet.gzip\n",
      "Saved as Parquet: I://base_de_dados//datasus//cnes//datasus_ftp\\2018\\base_de_dados_cnes_201804\\tbSegmento201804.parquet.gzip\n",
      "Saved as Parquet: I://base_de_dados//datasus//cnes//datasus_ftp\\2018\\base_de_dados_cnes_201804\\tbServicoApoio201804.parquet.gzip\n",
      "Saved as Parquet: I://base_de_dados//datasus//cnes//datasus_ftp\\2018\\base_de_dados_cnes_201804\\tbServicoEspecializado201804.parquet.gzip\n",
      "Saved as Parquet: I://base_de_dados//datasus//cnes//datasus_ftp\\2018\\base_de_dados_cnes_201804\\tbServicoReferenciado201804.parquet.gzip\n",
      "Saved as Parquet: I://base_de_dados//datasus//cnes//datasus_ftp\\2018\\base_de_dados_cnes_201804\\tbSubGruposHabilitacao201804.parquet.gzip\n",
      "Saved as Parquet: I://base_de_dados//datasus//cnes//datasus_ftp\\2018\\base_de_dados_cnes_201804\\tbSubTipo201804.parquet.gzip\n",
      "Saved as Parquet: I://base_de_dados//datasus//cnes//datasus_ftp\\2018\\base_de_dados_cnes_201804\\tbSubTipoEquipe201804.parquet.gzip\n",
      "Saved as Parquet: I://base_de_dados//datasus//cnes//datasus_ftp\\2018\\base_de_dados_cnes_201804\\tbSubtipoInstalacao201804.parquet.gzip\n",
      "Saved as Parquet: I://base_de_dados//datasus//cnes//datasus_ftp\\2018\\base_de_dados_cnes_201804\\tbSubTpModVinculo201804.parquet.gzip\n",
      "Saved as Parquet: I://base_de_dados//datasus//cnes//datasus_ftp\\2018\\base_de_dados_cnes_201804\\tbTipoCertidao201804.parquet.gzip\n",
      "Saved as Parquet: I://base_de_dados//datasus//cnes//datasus_ftp\\2018\\base_de_dados_cnes_201804\\tbTipoCgDifer201804.parquet.gzip\n",
      "Saved as Parquet: I://base_de_dados//datasus//cnes//datasus_ftp\\2018\\base_de_dados_cnes_201804\\tbTipoEqSubTipo201804.parquet.gzip\n",
      "Saved as Parquet: I://base_de_dados//datasus//cnes//datasus_ftp\\2018\\base_de_dados_cnes_201804\\tbTipoEquipamento201804.parquet.gzip\n",
      "Saved as Parquet: I://base_de_dados//datasus//cnes//datasus_ftp\\2018\\base_de_dados_cnes_201804\\tbTipoEquipe201804.parquet.gzip\n",
      "Saved as Parquet: I://base_de_dados//datasus//cnes//datasus_ftp\\2018\\base_de_dados_cnes_201804\\tbTipoEscolaridade201804.parquet.gzip\n",
      "Saved as Parquet: I://base_de_dados//datasus//cnes//datasus_ftp\\2018\\base_de_dados_cnes_201804\\tbTipoServicoReferenciado201804.parquet.gzip\n",
      "Saved as Parquet: I://base_de_dados//datasus//cnes//datasus_ftp\\2018\\base_de_dados_cnes_201804\\tbTipoUnidade201804.parquet.gzip\n",
      "Saved as Parquet: I://base_de_dados//datasus//cnes//datasus_ftp\\2018\\base_de_dados_cnes_201804\\tbTpModVinculo201804.parquet.gzip\n",
      "Saved as Parquet: I://base_de_dados//datasus//cnes//datasus_ftp\\2018\\base_de_dados_cnes_201804\\tbTurnoAtendimento201804.parquet.gzip\n",
      "Month Folder: base_de_dados_cnes_201805\n",
      "Saved as Parquet: I://base_de_dados//datasus//cnes//datasus_ftp\\2018\\base_de_dados_cnes_201805\\rlAdmGerenciaCnes201805.parquet.gzip\n",
      "Saved as Parquet: I://base_de_dados//datasus//cnes//datasus_ftp\\2018\\base_de_dados_cnes_201805\\rlCooperativa201805.parquet.gzip\n",
      "Saved as Parquet: I://base_de_dados//datasus//cnes//datasus_ftp\\2018\\base_de_dados_cnes_201805\\rlEquipeNasfEsf201805.parquet.gzip\n"
     ]
    },
    {
     "name": "stderr",
     "output_type": "stream",
     "text": [
      "C:\\Users\\erick\\AppData\\Local\\Temp\\ipykernel_18324\\463220216.py:31: DtypeWarning: Columns (0) have mixed types. Specify dtype option on import or set low_memory=False.\n",
      "  df = pd.read_csv(csv_path, sep=';')\n"
     ]
    },
    {
     "name": "stdout",
     "output_type": "stream",
     "text": [
      "Saved as Parquet: I://base_de_dados//datasus//cnes//datasus_ftp\\2018\\base_de_dados_cnes_201805\\rlEstabAtendPrestConv201805.parquet.gzip\n",
      "Saved as Parquet: I://base_de_dados//datasus//cnes//datasus_ftp\\2018\\base_de_dados_cnes_201805\\rlEstabAtenPsico201805.parquet.gzip\n",
      "Saved as Parquet: I://base_de_dados//datasus//cnes//datasus_ftp\\2018\\base_de_dados_cnes_201805\\rlEstabAvaliacao201805.parquet.gzip\n",
      "Saved as Parquet: I://base_de_dados//datasus//cnes//datasus_ftp\\2018\\base_de_dados_cnes_201805\\rlEstabCentralReg201805.parquet.gzip\n",
      "Saved as Parquet: I://base_de_dados//datasus//cnes//datasus_ftp\\2018\\base_de_dados_cnes_201805\\rlEstabColetaSelRejeito201805.parquet.gzip\n",
      "Saved as Parquet: I://base_de_dados//datasus//cnes//datasus_ftp\\2018\\base_de_dados_cnes_201805\\rlEstabComissaoOutro201805.parquet.gzip\n",
      "Saved as Parquet: I://base_de_dados//datasus//cnes//datasus_ftp\\2018\\base_de_dados_cnes_201805\\rlEstabComplementar201805.parquet.gzip\n",
      "Saved as Parquet: I://base_de_dados//datasus//cnes//datasus_ftp\\2018\\base_de_dados_cnes_201805\\rlEstabEndCompl201805.parquet.gzip\n",
      "Saved as Parquet: I://base_de_dados//datasus//cnes//datasus_ftp\\2018\\base_de_dados_cnes_201805\\rlEstabEqpEmbarcacao201805.parquet.gzip\n",
      "Saved as Parquet: I://base_de_dados//datasus//cnes//datasus_ftp\\2018\\base_de_dados_cnes_201805\\rlEstabEqpUnidApoio201805.parquet.gzip\n"
     ]
    },
    {
     "name": "stderr",
     "output_type": "stream",
     "text": [
      "C:\\Users\\erick\\AppData\\Local\\Temp\\ipykernel_18324\\463220216.py:31: DtypeWarning: Columns (0) have mixed types. Specify dtype option on import or set low_memory=False.\n",
      "  df = pd.read_csv(csv_path, sep=';')\n"
     ]
    },
    {
     "name": "stdout",
     "output_type": "stream",
     "text": [
      "Saved as Parquet: I://base_de_dados//datasus//cnes//datasus_ftp\\2018\\base_de_dados_cnes_201805\\rlEstabEquipamento201805.parquet.gzip\n",
      "Saved as Parquet: I://base_de_dados//datasus//cnes//datasus_ftp\\2018\\base_de_dados_cnes_201805\\rlEstabEquipeMun201805.parquet.gzip\n"
     ]
    },
    {
     "name": "stderr",
     "output_type": "stream",
     "text": [
      "C:\\Users\\erick\\AppData\\Local\\Temp\\ipykernel_18324\\463220216.py:31: DtypeWarning: Columns (14) have mixed types. Specify dtype option on import or set low_memory=False.\n",
      "  df = pd.read_csv(csv_path, sep=';')\n"
     ]
    },
    {
     "name": "stdout",
     "output_type": "stream",
     "text": [
      "Saved as Parquet: I://base_de_dados//datasus//cnes//datasus_ftp\\2018\\base_de_dados_cnes_201805\\rlEstabEquipeProf201805.parquet.gzip\n",
      "Saved as Parquet: I://base_de_dados//datasus//cnes//datasus_ftp\\2018\\base_de_dados_cnes_201805\\rlEstabInstFisiAssist201805.parquet.gzip\n",
      "Saved as Parquet: I://base_de_dados//datasus//cnes//datasus_ftp\\2018\\base_de_dados_cnes_201805\\rlEstabOrgParc201805.parquet.gzip\n",
      "Saved as Parquet: I://base_de_dados//datasus//cnes//datasus_ftp\\2018\\base_de_dados_cnes_201805\\rlEstabPoloAldeia201805.parquet.gzip\n",
      "Saved as Parquet: I://base_de_dados//datasus//cnes//datasus_ftp\\2018\\base_de_dados_cnes_201805\\rlEstabProfComissao201805.parquet.gzip\n",
      "Saved as Parquet: I://base_de_dados//datasus//cnes//datasus_ftp\\2018\\base_de_dados_cnes_201805\\rlEstabProgFundo201805.parquet.gzip\n",
      "Saved as Parquet: I://base_de_dados//datasus//cnes//datasus_ftp\\2018\\base_de_dados_cnes_201805\\rlEstabRegimeRes201805.parquet.gzip\n",
      "Saved as Parquet: I://base_de_dados//datasus//cnes//datasus_ftp\\2018\\base_de_dados_cnes_201805\\rlEstabRepresentante201805.parquet.gzip\n",
      "Saved as Parquet: I://base_de_dados//datasus//cnes//datasus_ftp\\2018\\base_de_dados_cnes_201805\\rlEstabSamu201805.parquet.gzip\n",
      "Saved as Parquet: I://base_de_dados//datasus//cnes//datasus_ftp\\2018\\base_de_dados_cnes_201805\\rlEstabServClass201805.parquet.gzip\n"
     ]
    },
    {
     "name": "stderr",
     "output_type": "stream",
     "text": [
      "C:\\Users\\erick\\AppData\\Local\\Temp\\ipykernel_18324\\463220216.py:31: DtypeWarning: Columns (2) have mixed types. Specify dtype option on import or set low_memory=False.\n",
      "  df = pd.read_csv(csv_path, sep=';')\n"
     ]
    },
    {
     "name": "stdout",
     "output_type": "stream",
     "text": [
      "Saved as Parquet: I://base_de_dados//datasus//cnes//datasus_ftp\\2018\\base_de_dados_cnes_201805\\rlEstabServicoApoio201805.parquet.gzip\n",
      "Saved as Parquet: I://base_de_dados//datasus//cnes//datasus_ftp\\2018\\base_de_dados_cnes_201805\\rlEstabSipac201805.parquet.gzip\n",
      "Saved as Parquet: I://base_de_dados//datasus//cnes//datasus_ftp\\2018\\base_de_dados_cnes_201805\\rlEstabSubTipo201805.parquet.gzip\n",
      "Saved as Parquet: I://base_de_dados//datasus//cnes//datasus_ftp\\2018\\base_de_dados_cnes_201805\\rlEstabTeleCnes201805.parquet.gzip\n",
      "Saved as Parquet: I://base_de_dados//datasus//cnes//datasus_ftp\\2018\\base_de_dados_cnes_201805\\rlEstabUnidAcolhim201805.parquet.gzip\n",
      "Saved as Parquet: I://base_de_dados//datasus//cnes//datasus_ftp\\2018\\base_de_dados_cnes_201805\\rlMunAtenPsico201805.parquet.gzip\n",
      "Saved as Parquet: I://base_de_dados//datasus//cnes//datasus_ftp\\2018\\base_de_dados_cnes_201805\\rlMunRegimeRes201805.parquet.gzip\n",
      "Saved as Parquet: I://base_de_dados//datasus//cnes//datasus_ftp\\2018\\base_de_dados_cnes_201805\\rlMunUnidAcolhim201805.parquet.gzip\n",
      "Saved as Parquet: I://base_de_dados//datasus//cnes//datasus_ftp\\2018\\base_de_dados_cnes_201805\\rlNasfEsf201805.parquet.gzip\n",
      "Saved as Parquet: I://base_de_dados//datasus//cnes//datasus_ftp\\2018\\base_de_dados_cnes_201805\\tbArea201805.parquet.gzip\n",
      "Saved as Parquet: I://base_de_dados//datasus//cnes//datasus_ftp\\2018\\base_de_dados_cnes_201805\\tbAtendimentoPrestado201805.parquet.gzip\n",
      "Saved as Parquet: I://base_de_dados//datasus//cnes//datasus_ftp\\2018\\base_de_dados_cnes_201805\\tbAtividadeEnsino201805.parquet.gzip\n",
      "Saved as Parquet: I://base_de_dados//datasus//cnes//datasus_ftp\\2018\\base_de_dados_cnes_201805\\tbAtividadeProfissional201805.parquet.gzip\n",
      "Saved as Parquet: I://base_de_dados//datasus//cnes//datasus_ftp\\2018\\base_de_dados_cnes_201805\\tbAtributo201805.parquet.gzip\n",
      "Saved as Parquet: I://base_de_dados//datasus//cnes//datasus_ftp\\2018\\base_de_dados_cnes_201805\\tbAvaliacao201805.parquet.gzip\n",
      "Saved as Parquet: I://base_de_dados//datasus//cnes//datasus_ftp\\2018\\base_de_dados_cnes_201805\\tbBanco201805.parquet.gzip\n"
     ]
    },
    {
     "name": "stderr",
     "output_type": "stream",
     "text": [
      "C:\\Users\\erick\\AppData\\Local\\Temp\\ipykernel_18324\\463220216.py:31: DtypeWarning: Columns (0,12) have mixed types. Specify dtype option on import or set low_memory=False.\n",
      "  df = pd.read_csv(csv_path, sep=';')\n"
     ]
    },
    {
     "name": "stdout",
     "output_type": "stream",
     "text": [
      "Saved as Parquet: I://base_de_dados//datasus//cnes//datasus_ftp\\2018\\base_de_dados_cnes_201805\\tbCargaHorariaSus201805.parquet.gzip\n",
      "Saved as Parquet: I://base_de_dados//datasus//cnes//datasus_ftp\\2018\\base_de_dados_cnes_201805\\tbClassificacaoAval201805.parquet.gzip\n",
      "Saved as Parquet: I://base_de_dados//datasus//cnes//datasus_ftp\\2018\\base_de_dados_cnes_201805\\tbClassificacaoServico201805.parquet.gzip\n",
      "Saved as Parquet: I://base_de_dados//datasus//cnes//datasus_ftp\\2018\\base_de_dados_cnes_201805\\tbColetaSeletivaRejeito201805.parquet.gzip\n",
      "Saved as Parquet: I://base_de_dados//datasus//cnes//datasus_ftp\\2018\\base_de_dados_cnes_201805\\tbComissaoOutro201805.parquet.gzip\n",
      "Saved as Parquet: I://base_de_dados//datasus//cnes//datasus_ftp\\2018\\base_de_dados_cnes_201805\\tbConselhoClasse201805.parquet.gzip\n",
      "Saved as Parquet: I://base_de_dados//datasus//cnes//datasus_ftp\\2018\\base_de_dados_cnes_201805\\tbConvenio201805.parquet.gzip\n",
      "Saved as Parquet: I://base_de_dados//datasus//cnes//datasus_ftp\\2018\\base_de_dados_cnes_201805\\tbDadosProfissionalSus201805.parquet.gzip\n",
      "Saved as Parquet: I://base_de_dados//datasus//cnes//datasus_ftp\\2018\\base_de_dados_cnes_201805\\tbDialise201805.parquet.gzip\n",
      "Saved as Parquet: I://base_de_dados//datasus//cnes//datasus_ftp\\2018\\base_de_dados_cnes_201805\\tbEquipamento201805.parquet.gzip\n",
      "Saved as Parquet: I://base_de_dados//datasus//cnes//datasus_ftp\\2018\\base_de_dados_cnes_201805\\tbEquipe201805.parquet.gzip\n",
      "Saved as Parquet: I://base_de_dados//datasus//cnes//datasus_ftp\\2018\\base_de_dados_cnes_201805\\tbEquipeAtendCompl201805.parquet.gzip\n",
      "Saved as Parquet: I://base_de_dados//datasus//cnes//datasus_ftp\\2018\\base_de_dados_cnes_201805\\tbEquipeChDifer201805.parquet.gzip\n",
      "Saved as Parquet: I://base_de_dados//datasus//cnes//datasus_ftp\\2018\\base_de_dados_cnes_201805\\tbEstabContrato201805.parquet.gzip\n"
     ]
    },
    {
     "name": "stderr",
     "output_type": "stream",
     "text": [
      "C:\\Users\\erick\\AppData\\Local\\Temp\\ipykernel_18324\\463220216.py:31: DtypeWarning: Columns (45) have mixed types. Specify dtype option on import or set low_memory=False.\n",
      "  df = pd.read_csv(csv_path, sep=';')\n"
     ]
    },
    {
     "name": "stdout",
     "output_type": "stream",
     "text": [
      "Saved as Parquet: I://base_de_dados//datasus//cnes//datasus_ftp\\2018\\base_de_dados_cnes_201805\\tbEstabelecimento201805.parquet.gzip\n",
      "Saved as Parquet: I://base_de_dados//datasus//cnes//datasus_ftp\\2018\\base_de_dados_cnes_201805\\tbEstabHorarioAtend201805.parquet.gzip\n",
      "Saved as Parquet: I://base_de_dados//datasus//cnes//datasus_ftp\\2018\\base_de_dados_cnes_201805\\tbEstado201805.parquet.gzip\n",
      "Saved as Parquet: I://base_de_dados//datasus//cnes//datasus_ftp\\2018\\base_de_dados_cnes_201805\\tbEtnia201805.parquet.gzip\n",
      "Saved as Parquet: I://base_de_dados//datasus//cnes//datasus_ftp\\2018\\base_de_dados_cnes_201805\\tbFluxoDadosClientela201805.parquet.gzip\n",
      "Saved as Parquet: I://base_de_dados//datasus//cnes//datasus_ftp\\2018\\base_de_dados_cnes_201805\\tbGestao201805.parquet.gzip\n",
      "Saved as Parquet: I://base_de_dados//datasus//cnes//datasus_ftp\\2018\\base_de_dados_cnes_201805\\tbGrupoEquipe201805.parquet.gzip\n",
      "Saved as Parquet: I://base_de_dados//datasus//cnes//datasus_ftp\\2018\\base_de_dados_cnes_201805\\tbHemoterapia201805.parquet.gzip\n",
      "Saved as Parquet: I://base_de_dados//datasus//cnes//datasus_ftp\\2018\\base_de_dados_cnes_201805\\tbIncentivos201805.parquet.gzip\n",
      "Saved as Parquet: I://base_de_dados//datasus//cnes//datasus_ftp\\2018\\base_de_dados_cnes_201805\\tbInstalFisicaParaAssist201805.parquet.gzip\n",
      "Saved as Parquet: I://base_de_dados//datasus//cnes//datasus_ftp\\2018\\base_de_dados_cnes_201805\\tbInstituicaoAvaliadora201805.parquet.gzip\n",
      "Saved as Parquet: I://base_de_dados//datasus//cnes//datasus_ftp\\2018\\base_de_dados_cnes_201805\\tbLeito201805.parquet.gzip\n",
      "Saved as Parquet: I://base_de_dados//datasus//cnes//datasus_ftp\\2018\\base_de_dados_cnes_201805\\tbMantenedora201805.parquet.gzip\n",
      "Saved as Parquet: I://base_de_dados//datasus//cnes//datasus_ftp\\2018\\base_de_dados_cnes_201805\\tbModVinculo201805.parquet.gzip\n",
      "Saved as Parquet: I://base_de_dados//datasus//cnes//datasus_ftp\\2018\\base_de_dados_cnes_201805\\tbMotivoDesativacao201805.parquet.gzip\n",
      "Saved as Parquet: I://base_de_dados//datasus//cnes//datasus_ftp\\2018\\base_de_dados_cnes_201805\\tbMotivoDesativEquipe201805.parquet.gzip\n",
      "Saved as Parquet: I://base_de_dados//datasus//cnes//datasus_ftp\\2018\\base_de_dados_cnes_201805\\tbMunicipio201805.parquet.gzip\n",
      "Saved as Parquet: I://base_de_dados//datasus//cnes//datasus_ftp\\2018\\base_de_dados_cnes_201805\\tbNaturezaJuridica201805.parquet.gzip\n",
      "Saved as Parquet: I://base_de_dados//datasus//cnes//datasus_ftp\\2018\\base_de_dados_cnes_201805\\tbOrgaoEmissor201805.parquet.gzip\n",
      "Saved as Parquet: I://base_de_dados//datasus//cnes//datasus_ftp\\2018\\base_de_dados_cnes_201805\\tbProfResidencia201805.parquet.gzip\n",
      "Saved as Parquet: I://base_de_dados//datasus//cnes//datasus_ftp\\2018\\base_de_dados_cnes_201805\\tbQuimioRadio201805.parquet.gzip\n",
      "Saved as Parquet: I://base_de_dados//datasus//cnes//datasus_ftp\\2018\\base_de_dados_cnes_201805\\tbResidenciaMed201805.parquet.gzip\n",
      "Saved as Parquet: I://base_de_dados//datasus//cnes//datasus_ftp\\2018\\base_de_dados_cnes_201805\\tbSegmento201805.parquet.gzip\n",
      "Saved as Parquet: I://base_de_dados//datasus//cnes//datasus_ftp\\2018\\base_de_dados_cnes_201805\\tbServicoApoio201805.parquet.gzip\n",
      "Saved as Parquet: I://base_de_dados//datasus//cnes//datasus_ftp\\2018\\base_de_dados_cnes_201805\\tbServicoEspecializado201805.parquet.gzip\n",
      "Saved as Parquet: I://base_de_dados//datasus//cnes//datasus_ftp\\2018\\base_de_dados_cnes_201805\\tbServicoReferenciado201805.parquet.gzip\n",
      "Saved as Parquet: I://base_de_dados//datasus//cnes//datasus_ftp\\2018\\base_de_dados_cnes_201805\\tbSubGruposHabilitacao201805.parquet.gzip\n",
      "Saved as Parquet: I://base_de_dados//datasus//cnes//datasus_ftp\\2018\\base_de_dados_cnes_201805\\tbSubTipo201805.parquet.gzip\n",
      "Saved as Parquet: I://base_de_dados//datasus//cnes//datasus_ftp\\2018\\base_de_dados_cnes_201805\\tbSubTipoEquipe201805.parquet.gzip\n",
      "Saved as Parquet: I://base_de_dados//datasus//cnes//datasus_ftp\\2018\\base_de_dados_cnes_201805\\tbSubtipoInstalacao201805.parquet.gzip\n",
      "Saved as Parquet: I://base_de_dados//datasus//cnes//datasus_ftp\\2018\\base_de_dados_cnes_201805\\tbSubTpModVinculo201805.parquet.gzip\n",
      "Saved as Parquet: I://base_de_dados//datasus//cnes//datasus_ftp\\2018\\base_de_dados_cnes_201805\\tbTipoCertidao201805.parquet.gzip\n",
      "Saved as Parquet: I://base_de_dados//datasus//cnes//datasus_ftp\\2018\\base_de_dados_cnes_201805\\tbTipoCgDifer201805.parquet.gzip\n",
      "Saved as Parquet: I://base_de_dados//datasus//cnes//datasus_ftp\\2018\\base_de_dados_cnes_201805\\tbTipoEqSubTipo201805.parquet.gzip\n",
      "Saved as Parquet: I://base_de_dados//datasus//cnes//datasus_ftp\\2018\\base_de_dados_cnes_201805\\tbTipoEquipamento201805.parquet.gzip\n",
      "Saved as Parquet: I://base_de_dados//datasus//cnes//datasus_ftp\\2018\\base_de_dados_cnes_201805\\tbTipoEquipe201805.parquet.gzip\n",
      "Saved as Parquet: I://base_de_dados//datasus//cnes//datasus_ftp\\2018\\base_de_dados_cnes_201805\\tbTipoEscolaridade201805.parquet.gzip\n",
      "Saved as Parquet: I://base_de_dados//datasus//cnes//datasus_ftp\\2018\\base_de_dados_cnes_201805\\tbTipoServicoReferenciado201805.parquet.gzip\n",
      "Saved as Parquet: I://base_de_dados//datasus//cnes//datasus_ftp\\2018\\base_de_dados_cnes_201805\\tbTipoUnidade201805.parquet.gzip\n",
      "Saved as Parquet: I://base_de_dados//datasus//cnes//datasus_ftp\\2018\\base_de_dados_cnes_201805\\tbTpModVinculo201805.parquet.gzip\n",
      "Saved as Parquet: I://base_de_dados//datasus//cnes//datasus_ftp\\2018\\base_de_dados_cnes_201805\\tbTurnoAtendimento201805.parquet.gzip\n",
      "Month Folder: base_de_dados_cnes_201806\n",
      "Saved as Parquet: I://base_de_dados//datasus//cnes//datasus_ftp\\2018\\base_de_dados_cnes_201806\\rlAdmGerenciaCnes201806.parquet.gzip\n",
      "Saved as Parquet: I://base_de_dados//datasus//cnes//datasus_ftp\\2018\\base_de_dados_cnes_201806\\rlCooperativa201806.parquet.gzip\n",
      "Saved as Parquet: I://base_de_dados//datasus//cnes//datasus_ftp\\2018\\base_de_dados_cnes_201806\\rlEquipeNasfEsf201806.parquet.gzip\n"
     ]
    },
    {
     "name": "stderr",
     "output_type": "stream",
     "text": [
      "C:\\Users\\erick\\AppData\\Local\\Temp\\ipykernel_18324\\463220216.py:31: DtypeWarning: Columns (0) have mixed types. Specify dtype option on import or set low_memory=False.\n",
      "  df = pd.read_csv(csv_path, sep=';')\n"
     ]
    },
    {
     "name": "stdout",
     "output_type": "stream",
     "text": [
      "Saved as Parquet: I://base_de_dados//datasus//cnes//datasus_ftp\\2018\\base_de_dados_cnes_201806\\rlEstabAtendPrestConv201806.parquet.gzip\n",
      "Saved as Parquet: I://base_de_dados//datasus//cnes//datasus_ftp\\2018\\base_de_dados_cnes_201806\\rlEstabAtenPsico201806.parquet.gzip\n",
      "Saved as Parquet: I://base_de_dados//datasus//cnes//datasus_ftp\\2018\\base_de_dados_cnes_201806\\rlEstabAvaliacao201806.parquet.gzip\n",
      "Saved as Parquet: I://base_de_dados//datasus//cnes//datasus_ftp\\2018\\base_de_dados_cnes_201806\\rlEstabCentralReg201806.parquet.gzip\n",
      "Saved as Parquet: I://base_de_dados//datasus//cnes//datasus_ftp\\2018\\base_de_dados_cnes_201806\\rlEstabColetaSelRejeito201806.parquet.gzip\n",
      "Saved as Parquet: I://base_de_dados//datasus//cnes//datasus_ftp\\2018\\base_de_dados_cnes_201806\\rlEstabComissaoOutro201806.parquet.gzip\n",
      "Saved as Parquet: I://base_de_dados//datasus//cnes//datasus_ftp\\2018\\base_de_dados_cnes_201806\\rlEstabComplementar201806.parquet.gzip\n",
      "Saved as Parquet: I://base_de_dados//datasus//cnes//datasus_ftp\\2018\\base_de_dados_cnes_201806\\rlEstabEndCompl201806.parquet.gzip\n",
      "Saved as Parquet: I://base_de_dados//datasus//cnes//datasus_ftp\\2018\\base_de_dados_cnes_201806\\rlEstabEqpEmbarcacao201806.parquet.gzip\n",
      "Saved as Parquet: I://base_de_dados//datasus//cnes//datasus_ftp\\2018\\base_de_dados_cnes_201806\\rlEstabEqpUnidApoio201806.parquet.gzip\n"
     ]
    },
    {
     "name": "stderr",
     "output_type": "stream",
     "text": [
      "C:\\Users\\erick\\AppData\\Local\\Temp\\ipykernel_18324\\463220216.py:31: DtypeWarning: Columns (0) have mixed types. Specify dtype option on import or set low_memory=False.\n",
      "  df = pd.read_csv(csv_path, sep=';')\n"
     ]
    },
    {
     "name": "stdout",
     "output_type": "stream",
     "text": [
      "Saved as Parquet: I://base_de_dados//datasus//cnes//datasus_ftp\\2018\\base_de_dados_cnes_201806\\rlEstabEquipamento201806.parquet.gzip\n",
      "Saved as Parquet: I://base_de_dados//datasus//cnes//datasus_ftp\\2018\\base_de_dados_cnes_201806\\rlEstabEquipeMun201806.parquet.gzip\n"
     ]
    },
    {
     "name": "stderr",
     "output_type": "stream",
     "text": [
      "C:\\Users\\erick\\AppData\\Local\\Temp\\ipykernel_18324\\463220216.py:31: DtypeWarning: Columns (14) have mixed types. Specify dtype option on import or set low_memory=False.\n",
      "  df = pd.read_csv(csv_path, sep=';')\n"
     ]
    },
    {
     "name": "stdout",
     "output_type": "stream",
     "text": [
      "Saved as Parquet: I://base_de_dados//datasus//cnes//datasus_ftp\\2018\\base_de_dados_cnes_201806\\rlEstabEquipeProf201806.parquet.gzip\n",
      "Saved as Parquet: I://base_de_dados//datasus//cnes//datasus_ftp\\2018\\base_de_dados_cnes_201806\\rlEstabInstFisiAssist201806.parquet.gzip\n",
      "Saved as Parquet: I://base_de_dados//datasus//cnes//datasus_ftp\\2018\\base_de_dados_cnes_201806\\rlEstabOrgParc201806.parquet.gzip\n",
      "Saved as Parquet: I://base_de_dados//datasus//cnes//datasus_ftp\\2018\\base_de_dados_cnes_201806\\rlEstabPoloAldeia201806.parquet.gzip\n",
      "Saved as Parquet: I://base_de_dados//datasus//cnes//datasus_ftp\\2018\\base_de_dados_cnes_201806\\rlEstabProfComissao201806.parquet.gzip\n",
      "Saved as Parquet: I://base_de_dados//datasus//cnes//datasus_ftp\\2018\\base_de_dados_cnes_201806\\rlEstabProgFundo201806.parquet.gzip\n",
      "Saved as Parquet: I://base_de_dados//datasus//cnes//datasus_ftp\\2018\\base_de_dados_cnes_201806\\rlEstabRegimeRes201806.parquet.gzip\n",
      "Saved as Parquet: I://base_de_dados//datasus//cnes//datasus_ftp\\2018\\base_de_dados_cnes_201806\\rlEstabRepresentante201806.parquet.gzip\n",
      "Saved as Parquet: I://base_de_dados//datasus//cnes//datasus_ftp\\2018\\base_de_dados_cnes_201806\\rlEstabSamu201806.parquet.gzip\n"
     ]
    },
    {
     "name": "stderr",
     "output_type": "stream",
     "text": [
      "C:\\Users\\erick\\AppData\\Local\\Temp\\ipykernel_18324\\463220216.py:31: DtypeWarning: Columns (0) have mixed types. Specify dtype option on import or set low_memory=False.\n",
      "  df = pd.read_csv(csv_path, sep=';')\n"
     ]
    },
    {
     "name": "stdout",
     "output_type": "stream",
     "text": [
      "Saved as Parquet: I://base_de_dados//datasus//cnes//datasus_ftp\\2018\\base_de_dados_cnes_201806\\rlEstabServClass201806.parquet.gzip\n"
     ]
    },
    {
     "name": "stderr",
     "output_type": "stream",
     "text": [
      "C:\\Users\\erick\\AppData\\Local\\Temp\\ipykernel_18324\\463220216.py:31: DtypeWarning: Columns (2) have mixed types. Specify dtype option on import or set low_memory=False.\n",
      "  df = pd.read_csv(csv_path, sep=';')\n"
     ]
    },
    {
     "name": "stdout",
     "output_type": "stream",
     "text": [
      "Saved as Parquet: I://base_de_dados//datasus//cnes//datasus_ftp\\2018\\base_de_dados_cnes_201806\\rlEstabServicoApoio201806.parquet.gzip\n",
      "Saved as Parquet: I://base_de_dados//datasus//cnes//datasus_ftp\\2018\\base_de_dados_cnes_201806\\rlEstabSipac201806.parquet.gzip\n",
      "Saved as Parquet: I://base_de_dados//datasus//cnes//datasus_ftp\\2018\\base_de_dados_cnes_201806\\rlEstabSubTipo201806.parquet.gzip\n",
      "Saved as Parquet: I://base_de_dados//datasus//cnes//datasus_ftp\\2018\\base_de_dados_cnes_201806\\rlEstabTeleCnes201806.parquet.gzip\n",
      "Saved as Parquet: I://base_de_dados//datasus//cnes//datasus_ftp\\2018\\base_de_dados_cnes_201806\\rlEstabUnidAcolhim201806.parquet.gzip\n",
      "Saved as Parquet: I://base_de_dados//datasus//cnes//datasus_ftp\\2018\\base_de_dados_cnes_201806\\rlMunAtenPsico201806.parquet.gzip\n",
      "Saved as Parquet: I://base_de_dados//datasus//cnes//datasus_ftp\\2018\\base_de_dados_cnes_201806\\rlMunRegimeRes201806.parquet.gzip\n",
      "Saved as Parquet: I://base_de_dados//datasus//cnes//datasus_ftp\\2018\\base_de_dados_cnes_201806\\rlMunUnidAcolhim201806.parquet.gzip\n",
      "Saved as Parquet: I://base_de_dados//datasus//cnes//datasus_ftp\\2018\\base_de_dados_cnes_201806\\rlNasfEsf201806.parquet.gzip\n",
      "Saved as Parquet: I://base_de_dados//datasus//cnes//datasus_ftp\\2018\\base_de_dados_cnes_201806\\tbArea201806.parquet.gzip\n",
      "Saved as Parquet: I://base_de_dados//datasus//cnes//datasus_ftp\\2018\\base_de_dados_cnes_201806\\tbAtendimentoPrestado201806.parquet.gzip\n",
      "Saved as Parquet: I://base_de_dados//datasus//cnes//datasus_ftp\\2018\\base_de_dados_cnes_201806\\tbAtividadeEnsino201806.parquet.gzip\n",
      "Saved as Parquet: I://base_de_dados//datasus//cnes//datasus_ftp\\2018\\base_de_dados_cnes_201806\\tbAtividadeProfissional201806.parquet.gzip\n",
      "Saved as Parquet: I://base_de_dados//datasus//cnes//datasus_ftp\\2018\\base_de_dados_cnes_201806\\tbAtributo201806.parquet.gzip\n",
      "Saved as Parquet: I://base_de_dados//datasus//cnes//datasus_ftp\\2018\\base_de_dados_cnes_201806\\tbAvaliacao201806.parquet.gzip\n",
      "Saved as Parquet: I://base_de_dados//datasus//cnes//datasus_ftp\\2018\\base_de_dados_cnes_201806\\tbBanco201806.parquet.gzip\n"
     ]
    },
    {
     "name": "stderr",
     "output_type": "stream",
     "text": [
      "C:\\Users\\erick\\AppData\\Local\\Temp\\ipykernel_18324\\463220216.py:31: DtypeWarning: Columns (0,12) have mixed types. Specify dtype option on import or set low_memory=False.\n",
      "  df = pd.read_csv(csv_path, sep=';')\n"
     ]
    },
    {
     "name": "stdout",
     "output_type": "stream",
     "text": [
      "Saved as Parquet: I://base_de_dados//datasus//cnes//datasus_ftp\\2018\\base_de_dados_cnes_201806\\tbCargaHorariaSus201806.parquet.gzip\n",
      "Saved as Parquet: I://base_de_dados//datasus//cnes//datasus_ftp\\2018\\base_de_dados_cnes_201806\\tbClassificacaoAval201806.parquet.gzip\n",
      "Saved as Parquet: I://base_de_dados//datasus//cnes//datasus_ftp\\2018\\base_de_dados_cnes_201806\\tbClassificacaoServico201806.parquet.gzip\n",
      "Saved as Parquet: I://base_de_dados//datasus//cnes//datasus_ftp\\2018\\base_de_dados_cnes_201806\\tbColetaSeletivaRejeito201806.parquet.gzip\n",
      "Saved as Parquet: I://base_de_dados//datasus//cnes//datasus_ftp\\2018\\base_de_dados_cnes_201806\\tbComissaoOutro201806.parquet.gzip\n",
      "Saved as Parquet: I://base_de_dados//datasus//cnes//datasus_ftp\\2018\\base_de_dados_cnes_201806\\tbConselhoClasse201806.parquet.gzip\n",
      "Saved as Parquet: I://base_de_dados//datasus//cnes//datasus_ftp\\2018\\base_de_dados_cnes_201806\\tbConvenio201806.parquet.gzip\n"
     ]
    },
    {
     "name": "stderr",
     "output_type": "stream",
     "text": [
      "C:\\Users\\erick\\AppData\\Local\\Temp\\ipykernel_18324\\463220216.py:31: DtypeWarning: Columns (9) have mixed types. Specify dtype option on import or set low_memory=False.\n",
      "  df = pd.read_csv(csv_path, sep=';')\n"
     ]
    },
    {
     "name": "stdout",
     "output_type": "stream",
     "text": [
      "Saved as Parquet: I://base_de_dados//datasus//cnes//datasus_ftp\\2018\\base_de_dados_cnes_201806\\tbDadosProfissionalSus201806.parquet.gzip\n",
      "Saved as Parquet: I://base_de_dados//datasus//cnes//datasus_ftp\\2018\\base_de_dados_cnes_201806\\tbDialise201806.parquet.gzip\n",
      "Saved as Parquet: I://base_de_dados//datasus//cnes//datasus_ftp\\2018\\base_de_dados_cnes_201806\\tbEquipamento201806.parquet.gzip\n",
      "Saved as Parquet: I://base_de_dados//datasus//cnes//datasus_ftp\\2018\\base_de_dados_cnes_201806\\tbEquipe201806.parquet.gzip\n",
      "Saved as Parquet: I://base_de_dados//datasus//cnes//datasus_ftp\\2018\\base_de_dados_cnes_201806\\tbEquipeAtendCompl201806.parquet.gzip\n",
      "Saved as Parquet: I://base_de_dados//datasus//cnes//datasus_ftp\\2018\\base_de_dados_cnes_201806\\tbEquipeChDifer201806.parquet.gzip\n",
      "Saved as Parquet: I://base_de_dados//datasus//cnes//datasus_ftp\\2018\\base_de_dados_cnes_201806\\tbEstabContrato201806.parquet.gzip\n"
     ]
    },
    {
     "name": "stderr",
     "output_type": "stream",
     "text": [
      "C:\\Users\\erick\\AppData\\Local\\Temp\\ipykernel_18324\\463220216.py:31: DtypeWarning: Columns (0,45) have mixed types. Specify dtype option on import or set low_memory=False.\n",
      "  df = pd.read_csv(csv_path, sep=';')\n"
     ]
    },
    {
     "name": "stdout",
     "output_type": "stream",
     "text": [
      "Saved as Parquet: I://base_de_dados//datasus//cnes//datasus_ftp\\2018\\base_de_dados_cnes_201806\\tbEstabelecimento201806.parquet.gzip\n",
      "Saved as Parquet: I://base_de_dados//datasus//cnes//datasus_ftp\\2018\\base_de_dados_cnes_201806\\tbEstabHorarioAtend201806.parquet.gzip\n",
      "Saved as Parquet: I://base_de_dados//datasus//cnes//datasus_ftp\\2018\\base_de_dados_cnes_201806\\tbEstado201806.parquet.gzip\n",
      "Saved as Parquet: I://base_de_dados//datasus//cnes//datasus_ftp\\2018\\base_de_dados_cnes_201806\\tbEtnia201806.parquet.gzip\n",
      "Saved as Parquet: I://base_de_dados//datasus//cnes//datasus_ftp\\2018\\base_de_dados_cnes_201806\\tbFluxoDadosClientela201806.parquet.gzip\n",
      "Saved as Parquet: I://base_de_dados//datasus//cnes//datasus_ftp\\2018\\base_de_dados_cnes_201806\\tbGestao201806.parquet.gzip\n",
      "Saved as Parquet: I://base_de_dados//datasus//cnes//datasus_ftp\\2018\\base_de_dados_cnes_201806\\tbGrupoEquipe201806.parquet.gzip\n",
      "Saved as Parquet: I://base_de_dados//datasus//cnes//datasus_ftp\\2018\\base_de_dados_cnes_201806\\tbHemoterapia201806.parquet.gzip\n",
      "Saved as Parquet: I://base_de_dados//datasus//cnes//datasus_ftp\\2018\\base_de_dados_cnes_201806\\tbIncentivos201806.parquet.gzip\n",
      "Saved as Parquet: I://base_de_dados//datasus//cnes//datasus_ftp\\2018\\base_de_dados_cnes_201806\\tbInstalFisicaParaAssist201806.parquet.gzip\n",
      "Saved as Parquet: I://base_de_dados//datasus//cnes//datasus_ftp\\2018\\base_de_dados_cnes_201806\\tbInstituicaoAvaliadora201806.parquet.gzip\n",
      "Saved as Parquet: I://base_de_dados//datasus//cnes//datasus_ftp\\2018\\base_de_dados_cnes_201806\\tbLeito201806.parquet.gzip\n",
      "Saved as Parquet: I://base_de_dados//datasus//cnes//datasus_ftp\\2018\\base_de_dados_cnes_201806\\tbMantenedora201806.parquet.gzip\n",
      "Saved as Parquet: I://base_de_dados//datasus//cnes//datasus_ftp\\2018\\base_de_dados_cnes_201806\\tbModVinculo201806.parquet.gzip\n",
      "Saved as Parquet: I://base_de_dados//datasus//cnes//datasus_ftp\\2018\\base_de_dados_cnes_201806\\tbMotivoDesativacao201806.parquet.gzip\n",
      "Saved as Parquet: I://base_de_dados//datasus//cnes//datasus_ftp\\2018\\base_de_dados_cnes_201806\\tbMotivoDesativEquipe201806.parquet.gzip\n",
      "Saved as Parquet: I://base_de_dados//datasus//cnes//datasus_ftp\\2018\\base_de_dados_cnes_201806\\tbMunicipio201806.parquet.gzip\n",
      "Saved as Parquet: I://base_de_dados//datasus//cnes//datasus_ftp\\2018\\base_de_dados_cnes_201806\\tbNaturezaJuridica201806.parquet.gzip\n",
      "Saved as Parquet: I://base_de_dados//datasus//cnes//datasus_ftp\\2018\\base_de_dados_cnes_201806\\tbOrgaoEmissor201806.parquet.gzip\n",
      "Saved as Parquet: I://base_de_dados//datasus//cnes//datasus_ftp\\2018\\base_de_dados_cnes_201806\\tbProfResidencia201806.parquet.gzip\n",
      "Saved as Parquet: I://base_de_dados//datasus//cnes//datasus_ftp\\2018\\base_de_dados_cnes_201806\\tbQuimioRadio201806.parquet.gzip\n",
      "Saved as Parquet: I://base_de_dados//datasus//cnes//datasus_ftp\\2018\\base_de_dados_cnes_201806\\tbResidenciaMed201806.parquet.gzip\n",
      "Saved as Parquet: I://base_de_dados//datasus//cnes//datasus_ftp\\2018\\base_de_dados_cnes_201806\\tbSegmento201806.parquet.gzip\n",
      "Saved as Parquet: I://base_de_dados//datasus//cnes//datasus_ftp\\2018\\base_de_dados_cnes_201806\\tbServicoApoio201806.parquet.gzip\n",
      "Saved as Parquet: I://base_de_dados//datasus//cnes//datasus_ftp\\2018\\base_de_dados_cnes_201806\\tbServicoEspecializado201806.parquet.gzip\n",
      "Saved as Parquet: I://base_de_dados//datasus//cnes//datasus_ftp\\2018\\base_de_dados_cnes_201806\\tbServicoReferenciado201806.parquet.gzip\n",
      "Saved as Parquet: I://base_de_dados//datasus//cnes//datasus_ftp\\2018\\base_de_dados_cnes_201806\\tbSubGruposHabilitacao201806.parquet.gzip\n",
      "Saved as Parquet: I://base_de_dados//datasus//cnes//datasus_ftp\\2018\\base_de_dados_cnes_201806\\tbSubTipo201806.parquet.gzip\n",
      "Saved as Parquet: I://base_de_dados//datasus//cnes//datasus_ftp\\2018\\base_de_dados_cnes_201806\\tbSubTipoEquipe201806.parquet.gzip\n",
      "Saved as Parquet: I://base_de_dados//datasus//cnes//datasus_ftp\\2018\\base_de_dados_cnes_201806\\tbSubtipoInstalacao201806.parquet.gzip\n",
      "Saved as Parquet: I://base_de_dados//datasus//cnes//datasus_ftp\\2018\\base_de_dados_cnes_201806\\tbSubTpModVinculo201806.parquet.gzip\n",
      "Saved as Parquet: I://base_de_dados//datasus//cnes//datasus_ftp\\2018\\base_de_dados_cnes_201806\\tbTipoCertidao201806.parquet.gzip\n",
      "Saved as Parquet: I://base_de_dados//datasus//cnes//datasus_ftp\\2018\\base_de_dados_cnes_201806\\tbTipoCgDifer201806.parquet.gzip\n",
      "Saved as Parquet: I://base_de_dados//datasus//cnes//datasus_ftp\\2018\\base_de_dados_cnes_201806\\tbTipoEqSubTipo201806.parquet.gzip\n",
      "Saved as Parquet: I://base_de_dados//datasus//cnes//datasus_ftp\\2018\\base_de_dados_cnes_201806\\tbTipoEquipamento201806.parquet.gzip\n",
      "Saved as Parquet: I://base_de_dados//datasus//cnes//datasus_ftp\\2018\\base_de_dados_cnes_201806\\tbTipoEquipe201806.parquet.gzip\n",
      "Saved as Parquet: I://base_de_dados//datasus//cnes//datasus_ftp\\2018\\base_de_dados_cnes_201806\\tbTipoEscolaridade201806.parquet.gzip\n",
      "Saved as Parquet: I://base_de_dados//datasus//cnes//datasus_ftp\\2018\\base_de_dados_cnes_201806\\tbTipoServicoReferenciado201806.parquet.gzip\n",
      "Saved as Parquet: I://base_de_dados//datasus//cnes//datasus_ftp\\2018\\base_de_dados_cnes_201806\\tbTipoUnidade201806.parquet.gzip\n",
      "Saved as Parquet: I://base_de_dados//datasus//cnes//datasus_ftp\\2018\\base_de_dados_cnes_201806\\tbTpModVinculo201806.parquet.gzip\n",
      "Saved as Parquet: I://base_de_dados//datasus//cnes//datasus_ftp\\2018\\base_de_dados_cnes_201806\\tbTurnoAtendimento201806.parquet.gzip\n",
      "Month Folder: base_de_dados_cnes_201807\n",
      "Saved as Parquet: I://base_de_dados//datasus//cnes//datasus_ftp\\2018\\base_de_dados_cnes_201807\\rlAdmGerenciaCnes201807.parquet.gzip\n",
      "Saved as Parquet: I://base_de_dados//datasus//cnes//datasus_ftp\\2018\\base_de_dados_cnes_201807\\rlCooperativa201807.parquet.gzip\n",
      "Saved as Parquet: I://base_de_dados//datasus//cnes//datasus_ftp\\2018\\base_de_dados_cnes_201807\\rlEquipeNasfEsf201807.parquet.gzip\n"
     ]
    },
    {
     "name": "stderr",
     "output_type": "stream",
     "text": [
      "C:\\Users\\erick\\AppData\\Local\\Temp\\ipykernel_18324\\463220216.py:31: DtypeWarning: Columns (0) have mixed types. Specify dtype option on import or set low_memory=False.\n",
      "  df = pd.read_csv(csv_path, sep=';')\n"
     ]
    },
    {
     "name": "stdout",
     "output_type": "stream",
     "text": [
      "Saved as Parquet: I://base_de_dados//datasus//cnes//datasus_ftp\\2018\\base_de_dados_cnes_201807\\rlEstabAtendPrestConv201807.parquet.gzip\n",
      "Saved as Parquet: I://base_de_dados//datasus//cnes//datasus_ftp\\2018\\base_de_dados_cnes_201807\\rlEstabAtenPsico201807.parquet.gzip\n",
      "Saved as Parquet: I://base_de_dados//datasus//cnes//datasus_ftp\\2018\\base_de_dados_cnes_201807\\rlEstabAvaliacao201807.parquet.gzip\n",
      "Saved as Parquet: I://base_de_dados//datasus//cnes//datasus_ftp\\2018\\base_de_dados_cnes_201807\\rlEstabCentralReg201807.parquet.gzip\n",
      "Saved as Parquet: I://base_de_dados//datasus//cnes//datasus_ftp\\2018\\base_de_dados_cnes_201807\\rlEstabColetaSelRejeito201807.parquet.gzip\n",
      "Saved as Parquet: I://base_de_dados//datasus//cnes//datasus_ftp\\2018\\base_de_dados_cnes_201807\\rlEstabComissaoOutro201807.parquet.gzip\n",
      "Saved as Parquet: I://base_de_dados//datasus//cnes//datasus_ftp\\2018\\base_de_dados_cnes_201807\\rlEstabComplementar201807.parquet.gzip\n",
      "Saved as Parquet: I://base_de_dados//datasus//cnes//datasus_ftp\\2018\\base_de_dados_cnes_201807\\rlEstabEndCompl201807.parquet.gzip\n",
      "Saved as Parquet: I://base_de_dados//datasus//cnes//datasus_ftp\\2018\\base_de_dados_cnes_201807\\rlEstabEqpEmbarcacao201807.parquet.gzip\n",
      "Saved as Parquet: I://base_de_dados//datasus//cnes//datasus_ftp\\2018\\base_de_dados_cnes_201807\\rlEstabEqpUnidApoio201807.parquet.gzip\n"
     ]
    },
    {
     "name": "stderr",
     "output_type": "stream",
     "text": [
      "C:\\Users\\erick\\AppData\\Local\\Temp\\ipykernel_18324\\463220216.py:31: DtypeWarning: Columns (0) have mixed types. Specify dtype option on import or set low_memory=False.\n",
      "  df = pd.read_csv(csv_path, sep=';')\n"
     ]
    },
    {
     "name": "stdout",
     "output_type": "stream",
     "text": [
      "Saved as Parquet: I://base_de_dados//datasus//cnes//datasus_ftp\\2018\\base_de_dados_cnes_201807\\rlEstabEquipamento201807.parquet.gzip\n",
      "Saved as Parquet: I://base_de_dados//datasus//cnes//datasus_ftp\\2018\\base_de_dados_cnes_201807\\rlEstabEquipeMun201807.parquet.gzip\n"
     ]
    },
    {
     "name": "stderr",
     "output_type": "stream",
     "text": [
      "C:\\Users\\erick\\AppData\\Local\\Temp\\ipykernel_18324\\463220216.py:31: DtypeWarning: Columns (14) have mixed types. Specify dtype option on import or set low_memory=False.\n",
      "  df = pd.read_csv(csv_path, sep=';')\n"
     ]
    },
    {
     "name": "stdout",
     "output_type": "stream",
     "text": [
      "Saved as Parquet: I://base_de_dados//datasus//cnes//datasus_ftp\\2018\\base_de_dados_cnes_201807\\rlEstabEquipeProf201807.parquet.gzip\n",
      "Saved as Parquet: I://base_de_dados//datasus//cnes//datasus_ftp\\2018\\base_de_dados_cnes_201807\\rlEstabInstFisiAssist201807.parquet.gzip\n",
      "Saved as Parquet: I://base_de_dados//datasus//cnes//datasus_ftp\\2018\\base_de_dados_cnes_201807\\rlEstabOrgParc201807.parquet.gzip\n",
      "Saved as Parquet: I://base_de_dados//datasus//cnes//datasus_ftp\\2018\\base_de_dados_cnes_201807\\rlEstabPoloAldeia201807.parquet.gzip\n",
      "Saved as Parquet: I://base_de_dados//datasus//cnes//datasus_ftp\\2018\\base_de_dados_cnes_201807\\rlEstabProfComissao201807.parquet.gzip\n",
      "Saved as Parquet: I://base_de_dados//datasus//cnes//datasus_ftp\\2018\\base_de_dados_cnes_201807\\rlEstabProgFundo201807.parquet.gzip\n",
      "Saved as Parquet: I://base_de_dados//datasus//cnes//datasus_ftp\\2018\\base_de_dados_cnes_201807\\rlEstabRegimeRes201807.parquet.gzip\n",
      "Saved as Parquet: I://base_de_dados//datasus//cnes//datasus_ftp\\2018\\base_de_dados_cnes_201807\\rlEstabRepresentante201807.parquet.gzip\n",
      "Saved as Parquet: I://base_de_dados//datasus//cnes//datasus_ftp\\2018\\base_de_dados_cnes_201807\\rlEstabSamu201807.parquet.gzip\n"
     ]
    },
    {
     "name": "stderr",
     "output_type": "stream",
     "text": [
      "C:\\Users\\erick\\AppData\\Local\\Temp\\ipykernel_18324\\463220216.py:31: DtypeWarning: Columns (0) have mixed types. Specify dtype option on import or set low_memory=False.\n",
      "  df = pd.read_csv(csv_path, sep=';')\n"
     ]
    },
    {
     "name": "stdout",
     "output_type": "stream",
     "text": [
      "Saved as Parquet: I://base_de_dados//datasus//cnes//datasus_ftp\\2018\\base_de_dados_cnes_201807\\rlEstabServClass201807.parquet.gzip\n"
     ]
    },
    {
     "name": "stderr",
     "output_type": "stream",
     "text": [
      "C:\\Users\\erick\\AppData\\Local\\Temp\\ipykernel_18324\\463220216.py:31: DtypeWarning: Columns (2) have mixed types. Specify dtype option on import or set low_memory=False.\n",
      "  df = pd.read_csv(csv_path, sep=';')\n"
     ]
    },
    {
     "name": "stdout",
     "output_type": "stream",
     "text": [
      "Saved as Parquet: I://base_de_dados//datasus//cnes//datasus_ftp\\2018\\base_de_dados_cnes_201807\\rlEstabServicoApoio201807.parquet.gzip\n",
      "Saved as Parquet: I://base_de_dados//datasus//cnes//datasus_ftp\\2018\\base_de_dados_cnes_201807\\rlEstabSipac201807.parquet.gzip\n",
      "Saved as Parquet: I://base_de_dados//datasus//cnes//datasus_ftp\\2018\\base_de_dados_cnes_201807\\rlEstabSubTipo201807.parquet.gzip\n",
      "Saved as Parquet: I://base_de_dados//datasus//cnes//datasus_ftp\\2018\\base_de_dados_cnes_201807\\rlEstabTeleCnes201807.parquet.gzip\n",
      "Saved as Parquet: I://base_de_dados//datasus//cnes//datasus_ftp\\2018\\base_de_dados_cnes_201807\\rlEstabUnidAcolhim201807.parquet.gzip\n",
      "Saved as Parquet: I://base_de_dados//datasus//cnes//datasus_ftp\\2018\\base_de_dados_cnes_201807\\rlMunAtenPsico201807.parquet.gzip\n",
      "Saved as Parquet: I://base_de_dados//datasus//cnes//datasus_ftp\\2018\\base_de_dados_cnes_201807\\rlMunRegimeRes201807.parquet.gzip\n",
      "Saved as Parquet: I://base_de_dados//datasus//cnes//datasus_ftp\\2018\\base_de_dados_cnes_201807\\rlMunUnidAcolhim201807.parquet.gzip\n",
      "Saved as Parquet: I://base_de_dados//datasus//cnes//datasus_ftp\\2018\\base_de_dados_cnes_201807\\rlNasfEsf201807.parquet.gzip\n",
      "Saved as Parquet: I://base_de_dados//datasus//cnes//datasus_ftp\\2018\\base_de_dados_cnes_201807\\tbArea201807.parquet.gzip\n",
      "Saved as Parquet: I://base_de_dados//datasus//cnes//datasus_ftp\\2018\\base_de_dados_cnes_201807\\tbAtendimentoPrestado201807.parquet.gzip\n",
      "Saved as Parquet: I://base_de_dados//datasus//cnes//datasus_ftp\\2018\\base_de_dados_cnes_201807\\tbAtividadeEnsino201807.parquet.gzip\n",
      "Saved as Parquet: I://base_de_dados//datasus//cnes//datasus_ftp\\2018\\base_de_dados_cnes_201807\\tbAtividadeProfissional201807.parquet.gzip\n",
      "Saved as Parquet: I://base_de_dados//datasus//cnes//datasus_ftp\\2018\\base_de_dados_cnes_201807\\tbAtributo201807.parquet.gzip\n",
      "Saved as Parquet: I://base_de_dados//datasus//cnes//datasus_ftp\\2018\\base_de_dados_cnes_201807\\tbAvaliacao201807.parquet.gzip\n",
      "Saved as Parquet: I://base_de_dados//datasus//cnes//datasus_ftp\\2018\\base_de_dados_cnes_201807\\tbBanco201807.parquet.gzip\n"
     ]
    },
    {
     "name": "stderr",
     "output_type": "stream",
     "text": [
      "C:\\Users\\erick\\AppData\\Local\\Temp\\ipykernel_18324\\463220216.py:31: DtypeWarning: Columns (0,12) have mixed types. Specify dtype option on import or set low_memory=False.\n",
      "  df = pd.read_csv(csv_path, sep=';')\n"
     ]
    },
    {
     "name": "stdout",
     "output_type": "stream",
     "text": [
      "Saved as Parquet: I://base_de_dados//datasus//cnes//datasus_ftp\\2018\\base_de_dados_cnes_201807\\tbCargaHorariaSus201807.parquet.gzip\n",
      "Saved as Parquet: I://base_de_dados//datasus//cnes//datasus_ftp\\2018\\base_de_dados_cnes_201807\\tbClassificacaoAval201807.parquet.gzip\n",
      "Saved as Parquet: I://base_de_dados//datasus//cnes//datasus_ftp\\2018\\base_de_dados_cnes_201807\\tbClassificacaoServico201807.parquet.gzip\n",
      "Saved as Parquet: I://base_de_dados//datasus//cnes//datasus_ftp\\2018\\base_de_dados_cnes_201807\\tbColetaSeletivaRejeito201807.parquet.gzip\n",
      "Saved as Parquet: I://base_de_dados//datasus//cnes//datasus_ftp\\2018\\base_de_dados_cnes_201807\\tbComissaoOutro201807.parquet.gzip\n",
      "Saved as Parquet: I://base_de_dados//datasus//cnes//datasus_ftp\\2018\\base_de_dados_cnes_201807\\tbConselhoClasse201807.parquet.gzip\n",
      "Saved as Parquet: I://base_de_dados//datasus//cnes//datasus_ftp\\2018\\base_de_dados_cnes_201807\\tbConvenio201807.parquet.gzip\n",
      "Saved as Parquet: I://base_de_dados//datasus//cnes//datasus_ftp\\2018\\base_de_dados_cnes_201807\\tbDadosProfissionalSus201807.parquet.gzip\n",
      "Saved as Parquet: I://base_de_dados//datasus//cnes//datasus_ftp\\2018\\base_de_dados_cnes_201807\\tbDialise201807.parquet.gzip\n",
      "Saved as Parquet: I://base_de_dados//datasus//cnes//datasus_ftp\\2018\\base_de_dados_cnes_201807\\tbEquipamento201807.parquet.gzip\n",
      "Saved as Parquet: I://base_de_dados//datasus//cnes//datasus_ftp\\2018\\base_de_dados_cnes_201807\\tbEquipe201807.parquet.gzip\n",
      "Saved as Parquet: I://base_de_dados//datasus//cnes//datasus_ftp\\2018\\base_de_dados_cnes_201807\\tbEquipeAtendCompl201807.parquet.gzip\n",
      "Saved as Parquet: I://base_de_dados//datasus//cnes//datasus_ftp\\2018\\base_de_dados_cnes_201807\\tbEquipeChDifer201807.parquet.gzip\n",
      "Saved as Parquet: I://base_de_dados//datasus//cnes//datasus_ftp\\2018\\base_de_dados_cnes_201807\\tbEstabContrato201807.parquet.gzip\n"
     ]
    },
    {
     "name": "stderr",
     "output_type": "stream",
     "text": [
      "C:\\Users\\erick\\AppData\\Local\\Temp\\ipykernel_18324\\463220216.py:31: DtypeWarning: Columns (0,12,13,14,15,35,36,38,40,45) have mixed types. Specify dtype option on import or set low_memory=False.\n",
      "  df = pd.read_csv(csv_path, sep=';')\n"
     ]
    },
    {
     "name": "stdout",
     "output_type": "stream",
     "text": [
      "Saved as Parquet: I://base_de_dados//datasus//cnes//datasus_ftp\\2018\\base_de_dados_cnes_201807\\tbEstabelecimento201807.parquet.gzip\n",
      "Saved as Parquet: I://base_de_dados//datasus//cnes//datasus_ftp\\2018\\base_de_dados_cnes_201807\\tbEstabHorarioAtend201807.parquet.gzip\n",
      "Saved as Parquet: I://base_de_dados//datasus//cnes//datasus_ftp\\2018\\base_de_dados_cnes_201807\\tbEstado201807.parquet.gzip\n",
      "Saved as Parquet: I://base_de_dados//datasus//cnes//datasus_ftp\\2018\\base_de_dados_cnes_201807\\tbEtnia201807.parquet.gzip\n",
      "Saved as Parquet: I://base_de_dados//datasus//cnes//datasus_ftp\\2018\\base_de_dados_cnes_201807\\tbFluxoDadosClientela201807.parquet.gzip\n",
      "Saved as Parquet: I://base_de_dados//datasus//cnes//datasus_ftp\\2018\\base_de_dados_cnes_201807\\tbGestao201807.parquet.gzip\n",
      "Saved as Parquet: I://base_de_dados//datasus//cnes//datasus_ftp\\2018\\base_de_dados_cnes_201807\\tbGrupoEquipe201807.parquet.gzip\n",
      "Saved as Parquet: I://base_de_dados//datasus//cnes//datasus_ftp\\2018\\base_de_dados_cnes_201807\\tbHemoterapia201807.parquet.gzip\n",
      "Saved as Parquet: I://base_de_dados//datasus//cnes//datasus_ftp\\2018\\base_de_dados_cnes_201807\\tbIncentivos201807.parquet.gzip\n",
      "Saved as Parquet: I://base_de_dados//datasus//cnes//datasus_ftp\\2018\\base_de_dados_cnes_201807\\tbInstalFisicaParaAssist201807.parquet.gzip\n",
      "Saved as Parquet: I://base_de_dados//datasus//cnes//datasus_ftp\\2018\\base_de_dados_cnes_201807\\tbInstituicaoAvaliadora201807.parquet.gzip\n",
      "Saved as Parquet: I://base_de_dados//datasus//cnes//datasus_ftp\\2018\\base_de_dados_cnes_201807\\tbLeito201807.parquet.gzip\n",
      "Saved as Parquet: I://base_de_dados//datasus//cnes//datasus_ftp\\2018\\base_de_dados_cnes_201807\\tbMantenedora201807.parquet.gzip\n",
      "Saved as Parquet: I://base_de_dados//datasus//cnes//datasus_ftp\\2018\\base_de_dados_cnes_201807\\tbModVinculo201807.parquet.gzip\n",
      "Saved as Parquet: I://base_de_dados//datasus//cnes//datasus_ftp\\2018\\base_de_dados_cnes_201807\\tbMotivoDesativacao201807.parquet.gzip\n",
      "Saved as Parquet: I://base_de_dados//datasus//cnes//datasus_ftp\\2018\\base_de_dados_cnes_201807\\tbMotivoDesativEquipe201807.parquet.gzip\n",
      "Saved as Parquet: I://base_de_dados//datasus//cnes//datasus_ftp\\2018\\base_de_dados_cnes_201807\\tbMunicipio201807.parquet.gzip\n",
      "Saved as Parquet: I://base_de_dados//datasus//cnes//datasus_ftp\\2018\\base_de_dados_cnes_201807\\tbNaturezaJuridica201807.parquet.gzip\n",
      "Saved as Parquet: I://base_de_dados//datasus//cnes//datasus_ftp\\2018\\base_de_dados_cnes_201807\\tbOrgaoEmissor201807.parquet.gzip\n",
      "Saved as Parquet: I://base_de_dados//datasus//cnes//datasus_ftp\\2018\\base_de_dados_cnes_201807\\tbProfResidencia201807.parquet.gzip\n",
      "Saved as Parquet: I://base_de_dados//datasus//cnes//datasus_ftp\\2018\\base_de_dados_cnes_201807\\tbQuimioRadio201807.parquet.gzip\n",
      "Saved as Parquet: I://base_de_dados//datasus//cnes//datasus_ftp\\2018\\base_de_dados_cnes_201807\\tbResidenciaMed201807.parquet.gzip\n",
      "Saved as Parquet: I://base_de_dados//datasus//cnes//datasus_ftp\\2018\\base_de_dados_cnes_201807\\tbSegmento201807.parquet.gzip\n",
      "Saved as Parquet: I://base_de_dados//datasus//cnes//datasus_ftp\\2018\\base_de_dados_cnes_201807\\tbServicoApoio201807.parquet.gzip\n",
      "Saved as Parquet: I://base_de_dados//datasus//cnes//datasus_ftp\\2018\\base_de_dados_cnes_201807\\tbServicoEspecializado201807.parquet.gzip\n",
      "Saved as Parquet: I://base_de_dados//datasus//cnes//datasus_ftp\\2018\\base_de_dados_cnes_201807\\tbServicoReferenciado201807.parquet.gzip\n",
      "Saved as Parquet: I://base_de_dados//datasus//cnes//datasus_ftp\\2018\\base_de_dados_cnes_201807\\tbSubGruposHabilitacao201807.parquet.gzip\n",
      "Saved as Parquet: I://base_de_dados//datasus//cnes//datasus_ftp\\2018\\base_de_dados_cnes_201807\\tbSubTipo201807.parquet.gzip\n",
      "Saved as Parquet: I://base_de_dados//datasus//cnes//datasus_ftp\\2018\\base_de_dados_cnes_201807\\tbSubTipoEquipe201807.parquet.gzip\n",
      "Saved as Parquet: I://base_de_dados//datasus//cnes//datasus_ftp\\2018\\base_de_dados_cnes_201807\\tbSubtipoInstalacao201807.parquet.gzip\n",
      "Saved as Parquet: I://base_de_dados//datasus//cnes//datasus_ftp\\2018\\base_de_dados_cnes_201807\\tbSubTpModVinculo201807.parquet.gzip\n",
      "Saved as Parquet: I://base_de_dados//datasus//cnes//datasus_ftp\\2018\\base_de_dados_cnes_201807\\tbTipoCertidao201807.parquet.gzip\n",
      "Saved as Parquet: I://base_de_dados//datasus//cnes//datasus_ftp\\2018\\base_de_dados_cnes_201807\\tbTipoCgDifer201807.parquet.gzip\n",
      "Saved as Parquet: I://base_de_dados//datasus//cnes//datasus_ftp\\2018\\base_de_dados_cnes_201807\\tbTipoEqSubTipo201807.parquet.gzip\n",
      "Saved as Parquet: I://base_de_dados//datasus//cnes//datasus_ftp\\2018\\base_de_dados_cnes_201807\\tbTipoEquipamento201807.parquet.gzip\n",
      "Saved as Parquet: I://base_de_dados//datasus//cnes//datasus_ftp\\2018\\base_de_dados_cnes_201807\\tbTipoEquipe201807.parquet.gzip\n",
      "Saved as Parquet: I://base_de_dados//datasus//cnes//datasus_ftp\\2018\\base_de_dados_cnes_201807\\tbTipoEscolaridade201807.parquet.gzip\n",
      "Saved as Parquet: I://base_de_dados//datasus//cnes//datasus_ftp\\2018\\base_de_dados_cnes_201807\\tbTipoServicoReferenciado201807.parquet.gzip\n",
      "Saved as Parquet: I://base_de_dados//datasus//cnes//datasus_ftp\\2018\\base_de_dados_cnes_201807\\tbTipoUnidade201807.parquet.gzip\n",
      "Saved as Parquet: I://base_de_dados//datasus//cnes//datasus_ftp\\2018\\base_de_dados_cnes_201807\\tbTpModVinculo201807.parquet.gzip\n",
      "Saved as Parquet: I://base_de_dados//datasus//cnes//datasus_ftp\\2018\\base_de_dados_cnes_201807\\tbTurnoAtendimento201807.parquet.gzip\n",
      "Month Folder: base_de_dados_cnes_201808\n",
      "Saved as Parquet: I://base_de_dados//datasus//cnes//datasus_ftp\\2018\\base_de_dados_cnes_201808\\rlAdmGerenciaCnes201808.parquet.gzip\n",
      "Saved as Parquet: I://base_de_dados//datasus//cnes//datasus_ftp\\2018\\base_de_dados_cnes_201808\\rlCooperativa201808.parquet.gzip\n",
      "Saved as Parquet: I://base_de_dados//datasus//cnes//datasus_ftp\\2018\\base_de_dados_cnes_201808\\rlEquipeNasfEsf201808.parquet.gzip\n"
     ]
    },
    {
     "name": "stderr",
     "output_type": "stream",
     "text": [
      "C:\\Users\\erick\\AppData\\Local\\Temp\\ipykernel_18324\\463220216.py:31: DtypeWarning: Columns (0) have mixed types. Specify dtype option on import or set low_memory=False.\n",
      "  df = pd.read_csv(csv_path, sep=';')\n"
     ]
    },
    {
     "name": "stdout",
     "output_type": "stream",
     "text": [
      "Saved as Parquet: I://base_de_dados//datasus//cnes//datasus_ftp\\2018\\base_de_dados_cnes_201808\\rlEstabAtendPrestConv201808.parquet.gzip\n",
      "Saved as Parquet: I://base_de_dados//datasus//cnes//datasus_ftp\\2018\\base_de_dados_cnes_201808\\rlEstabAtenPsico201808.parquet.gzip\n",
      "Saved as Parquet: I://base_de_dados//datasus//cnes//datasus_ftp\\2018\\base_de_dados_cnes_201808\\rlEstabAvaliacao201808.parquet.gzip\n",
      "Saved as Parquet: I://base_de_dados//datasus//cnes//datasus_ftp\\2018\\base_de_dados_cnes_201808\\rlEstabCentralReg201808.parquet.gzip\n",
      "Saved as Parquet: I://base_de_dados//datasus//cnes//datasus_ftp\\2018\\base_de_dados_cnes_201808\\rlEstabColetaSelRejeito201808.parquet.gzip\n",
      "Saved as Parquet: I://base_de_dados//datasus//cnes//datasus_ftp\\2018\\base_de_dados_cnes_201808\\rlEstabComissaoOutro201808.parquet.gzip\n",
      "Saved as Parquet: I://base_de_dados//datasus//cnes//datasus_ftp\\2018\\base_de_dados_cnes_201808\\rlEstabComplementar201808.parquet.gzip\n",
      "Saved as Parquet: I://base_de_dados//datasus//cnes//datasus_ftp\\2018\\base_de_dados_cnes_201808\\rlEstabEndCompl201808.parquet.gzip\n",
      "Saved as Parquet: I://base_de_dados//datasus//cnes//datasus_ftp\\2018\\base_de_dados_cnes_201808\\rlEstabEqpEmbarcacao201808.parquet.gzip\n",
      "Saved as Parquet: I://base_de_dados//datasus//cnes//datasus_ftp\\2018\\base_de_dados_cnes_201808\\rlEstabEqpUnidApoio201808.parquet.gzip\n"
     ]
    },
    {
     "name": "stderr",
     "output_type": "stream",
     "text": [
      "C:\\Users\\erick\\AppData\\Local\\Temp\\ipykernel_18324\\463220216.py:31: DtypeWarning: Columns (0) have mixed types. Specify dtype option on import or set low_memory=False.\n",
      "  df = pd.read_csv(csv_path, sep=';')\n"
     ]
    },
    {
     "name": "stdout",
     "output_type": "stream",
     "text": [
      "Saved as Parquet: I://base_de_dados//datasus//cnes//datasus_ftp\\2018\\base_de_dados_cnes_201808\\rlEstabEquipamento201808.parquet.gzip\n",
      "Saved as Parquet: I://base_de_dados//datasus//cnes//datasus_ftp\\2018\\base_de_dados_cnes_201808\\rlEstabEquipeMun201808.parquet.gzip\n"
     ]
    },
    {
     "name": "stderr",
     "output_type": "stream",
     "text": [
      "C:\\Users\\erick\\AppData\\Local\\Temp\\ipykernel_18324\\463220216.py:31: DtypeWarning: Columns (14) have mixed types. Specify dtype option on import or set low_memory=False.\n",
      "  df = pd.read_csv(csv_path, sep=';')\n"
     ]
    },
    {
     "name": "stdout",
     "output_type": "stream",
     "text": [
      "Saved as Parquet: I://base_de_dados//datasus//cnes//datasus_ftp\\2018\\base_de_dados_cnes_201808\\rlEstabEquipeProf201808.parquet.gzip\n",
      "Saved as Parquet: I://base_de_dados//datasus//cnes//datasus_ftp\\2018\\base_de_dados_cnes_201808\\rlEstabInstFisiAssist201808.parquet.gzip\n",
      "Saved as Parquet: I://base_de_dados//datasus//cnes//datasus_ftp\\2018\\base_de_dados_cnes_201808\\rlEstabOrgParc201808.parquet.gzip\n",
      "Saved as Parquet: I://base_de_dados//datasus//cnes//datasus_ftp\\2018\\base_de_dados_cnes_201808\\rlEstabPoloAldeia201808.parquet.gzip\n",
      "Saved as Parquet: I://base_de_dados//datasus//cnes//datasus_ftp\\2018\\base_de_dados_cnes_201808\\rlEstabProfComissao201808.parquet.gzip\n",
      "Saved as Parquet: I://base_de_dados//datasus//cnes//datasus_ftp\\2018\\base_de_dados_cnes_201808\\rlEstabProgFundo201808.parquet.gzip\n",
      "Saved as Parquet: I://base_de_dados//datasus//cnes//datasus_ftp\\2018\\base_de_dados_cnes_201808\\rlEstabRegimeRes201808.parquet.gzip\n",
      "Saved as Parquet: I://base_de_dados//datasus//cnes//datasus_ftp\\2018\\base_de_dados_cnes_201808\\rlEstabRepresentante201808.parquet.gzip\n",
      "Saved as Parquet: I://base_de_dados//datasus//cnes//datasus_ftp\\2018\\base_de_dados_cnes_201808\\rlEstabSamu201808.parquet.gzip\n"
     ]
    },
    {
     "name": "stderr",
     "output_type": "stream",
     "text": [
      "C:\\Users\\erick\\AppData\\Local\\Temp\\ipykernel_18324\\463220216.py:31: DtypeWarning: Columns (0) have mixed types. Specify dtype option on import or set low_memory=False.\n",
      "  df = pd.read_csv(csv_path, sep=';')\n"
     ]
    },
    {
     "name": "stdout",
     "output_type": "stream",
     "text": [
      "Saved as Parquet: I://base_de_dados//datasus//cnes//datasus_ftp\\2018\\base_de_dados_cnes_201808\\rlEstabServClass201808.parquet.gzip\n"
     ]
    },
    {
     "name": "stderr",
     "output_type": "stream",
     "text": [
      "C:\\Users\\erick\\AppData\\Local\\Temp\\ipykernel_18324\\463220216.py:31: DtypeWarning: Columns (2) have mixed types. Specify dtype option on import or set low_memory=False.\n",
      "  df = pd.read_csv(csv_path, sep=';')\n"
     ]
    },
    {
     "name": "stdout",
     "output_type": "stream",
     "text": [
      "Saved as Parquet: I://base_de_dados//datasus//cnes//datasus_ftp\\2018\\base_de_dados_cnes_201808\\rlEstabServicoApoio201808.parquet.gzip\n",
      "Saved as Parquet: I://base_de_dados//datasus//cnes//datasus_ftp\\2018\\base_de_dados_cnes_201808\\rlEstabSipac201808.parquet.gzip\n",
      "Saved as Parquet: I://base_de_dados//datasus//cnes//datasus_ftp\\2018\\base_de_dados_cnes_201808\\rlEstabSubTipo201808.parquet.gzip\n",
      "Saved as Parquet: I://base_de_dados//datasus//cnes//datasus_ftp\\2018\\base_de_dados_cnes_201808\\rlEstabTeleCnes201808.parquet.gzip\n",
      "Saved as Parquet: I://base_de_dados//datasus//cnes//datasus_ftp\\2018\\base_de_dados_cnes_201808\\rlEstabUnidAcolhim201808.parquet.gzip\n",
      "Saved as Parquet: I://base_de_dados//datasus//cnes//datasus_ftp\\2018\\base_de_dados_cnes_201808\\rlMunAtenPsico201808.parquet.gzip\n",
      "Saved as Parquet: I://base_de_dados//datasus//cnes//datasus_ftp\\2018\\base_de_dados_cnes_201808\\rlMunRegimeRes201808.parquet.gzip\n",
      "Saved as Parquet: I://base_de_dados//datasus//cnes//datasus_ftp\\2018\\base_de_dados_cnes_201808\\rlMunUnidAcolhim201808.parquet.gzip\n",
      "Saved as Parquet: I://base_de_dados//datasus//cnes//datasus_ftp\\2018\\base_de_dados_cnes_201808\\rlNasfEsf201808.parquet.gzip\n",
      "Saved as Parquet: I://base_de_dados//datasus//cnes//datasus_ftp\\2018\\base_de_dados_cnes_201808\\tbArea201808.parquet.gzip\n",
      "Saved as Parquet: I://base_de_dados//datasus//cnes//datasus_ftp\\2018\\base_de_dados_cnes_201808\\tbAtendimentoPrestado201808.parquet.gzip\n",
      "Saved as Parquet: I://base_de_dados//datasus//cnes//datasus_ftp\\2018\\base_de_dados_cnes_201808\\tbAtividadeEnsino201808.parquet.gzip\n",
      "Saved as Parquet: I://base_de_dados//datasus//cnes//datasus_ftp\\2018\\base_de_dados_cnes_201808\\tbAtividadeProfissional201808.parquet.gzip\n",
      "Saved as Parquet: I://base_de_dados//datasus//cnes//datasus_ftp\\2018\\base_de_dados_cnes_201808\\tbAtributo201808.parquet.gzip\n",
      "Saved as Parquet: I://base_de_dados//datasus//cnes//datasus_ftp\\2018\\base_de_dados_cnes_201808\\tbAvaliacao201808.parquet.gzip\n",
      "Saved as Parquet: I://base_de_dados//datasus//cnes//datasus_ftp\\2018\\base_de_dados_cnes_201808\\tbBanco201808.parquet.gzip\n"
     ]
    },
    {
     "name": "stderr",
     "output_type": "stream",
     "text": [
      "C:\\Users\\erick\\AppData\\Local\\Temp\\ipykernel_18324\\463220216.py:31: DtypeWarning: Columns (0,12) have mixed types. Specify dtype option on import or set low_memory=False.\n",
      "  df = pd.read_csv(csv_path, sep=';')\n"
     ]
    },
    {
     "name": "stdout",
     "output_type": "stream",
     "text": [
      "Saved as Parquet: I://base_de_dados//datasus//cnes//datasus_ftp\\2018\\base_de_dados_cnes_201808\\tbCargaHorariaSus201808.parquet.gzip\n",
      "Saved as Parquet: I://base_de_dados//datasus//cnes//datasus_ftp\\2018\\base_de_dados_cnes_201808\\tbClassificacaoAval201808.parquet.gzip\n",
      "Saved as Parquet: I://base_de_dados//datasus//cnes//datasus_ftp\\2018\\base_de_dados_cnes_201808\\tbClassificacaoServico201808.parquet.gzip\n",
      "Saved as Parquet: I://base_de_dados//datasus//cnes//datasus_ftp\\2018\\base_de_dados_cnes_201808\\tbColetaSeletivaRejeito201808.parquet.gzip\n",
      "Saved as Parquet: I://base_de_dados//datasus//cnes//datasus_ftp\\2018\\base_de_dados_cnes_201808\\tbComissaoOutro201808.parquet.gzip\n",
      "Saved as Parquet: I://base_de_dados//datasus//cnes//datasus_ftp\\2018\\base_de_dados_cnes_201808\\tbConselhoClasse201808.parquet.gzip\n",
      "Saved as Parquet: I://base_de_dados//datasus//cnes//datasus_ftp\\2018\\base_de_dados_cnes_201808\\tbConvenio201808.parquet.gzip\n",
      "Saved as Parquet: I://base_de_dados//datasus//cnes//datasus_ftp\\2018\\base_de_dados_cnes_201808\\tbDadosProfissionalSus201808.parquet.gzip\n",
      "Saved as Parquet: I://base_de_dados//datasus//cnes//datasus_ftp\\2018\\base_de_dados_cnes_201808\\tbDialise201808.parquet.gzip\n",
      "Saved as Parquet: I://base_de_dados//datasus//cnes//datasus_ftp\\2018\\base_de_dados_cnes_201808\\tbEquipamento201808.parquet.gzip\n",
      "Saved as Parquet: I://base_de_dados//datasus//cnes//datasus_ftp\\2018\\base_de_dados_cnes_201808\\tbEquipe201808.parquet.gzip\n",
      "Saved as Parquet: I://base_de_dados//datasus//cnes//datasus_ftp\\2018\\base_de_dados_cnes_201808\\tbEquipeAtendCompl201808.parquet.gzip\n",
      "Saved as Parquet: I://base_de_dados//datasus//cnes//datasus_ftp\\2018\\base_de_dados_cnes_201808\\tbEquipeChDifer201808.parquet.gzip\n",
      "Saved as Parquet: I://base_de_dados//datasus//cnes//datasus_ftp\\2018\\base_de_dados_cnes_201808\\tbEstabContrato201808.parquet.gzip\n"
     ]
    },
    {
     "name": "stderr",
     "output_type": "stream",
     "text": [
      "C:\\Users\\erick\\AppData\\Local\\Temp\\ipykernel_18324\\463220216.py:31: DtypeWarning: Columns (0,14,15,36,45) have mixed types. Specify dtype option on import or set low_memory=False.\n",
      "  df = pd.read_csv(csv_path, sep=';')\n"
     ]
    },
    {
     "name": "stdout",
     "output_type": "stream",
     "text": [
      "Saved as Parquet: I://base_de_dados//datasus//cnes//datasus_ftp\\2018\\base_de_dados_cnes_201808\\tbEstabelecimento201808.parquet.gzip\n",
      "Saved as Parquet: I://base_de_dados//datasus//cnes//datasus_ftp\\2018\\base_de_dados_cnes_201808\\tbEstabHorarioAtend201808.parquet.gzip\n",
      "Saved as Parquet: I://base_de_dados//datasus//cnes//datasus_ftp\\2018\\base_de_dados_cnes_201808\\tbEstado201808.parquet.gzip\n",
      "Saved as Parquet: I://base_de_dados//datasus//cnes//datasus_ftp\\2018\\base_de_dados_cnes_201808\\tbEtnia201808.parquet.gzip\n",
      "Saved as Parquet: I://base_de_dados//datasus//cnes//datasus_ftp\\2018\\base_de_dados_cnes_201808\\tbFluxoDadosClientela201808.parquet.gzip\n",
      "Saved as Parquet: I://base_de_dados//datasus//cnes//datasus_ftp\\2018\\base_de_dados_cnes_201808\\tbGestao201808.parquet.gzip\n",
      "Saved as Parquet: I://base_de_dados//datasus//cnes//datasus_ftp\\2018\\base_de_dados_cnes_201808\\tbGrupoEquipe201808.parquet.gzip\n",
      "Saved as Parquet: I://base_de_dados//datasus//cnes//datasus_ftp\\2018\\base_de_dados_cnes_201808\\tbHemoterapia201808.parquet.gzip\n",
      "Saved as Parquet: I://base_de_dados//datasus//cnes//datasus_ftp\\2018\\base_de_dados_cnes_201808\\tbIncentivos201808.parquet.gzip\n",
      "Saved as Parquet: I://base_de_dados//datasus//cnes//datasus_ftp\\2018\\base_de_dados_cnes_201808\\tbInstalFisicaParaAssist201808.parquet.gzip\n",
      "Saved as Parquet: I://base_de_dados//datasus//cnes//datasus_ftp\\2018\\base_de_dados_cnes_201808\\tbInstituicaoAvaliadora201808.parquet.gzip\n",
      "Saved as Parquet: I://base_de_dados//datasus//cnes//datasus_ftp\\2018\\base_de_dados_cnes_201808\\tbLeito201808.parquet.gzip\n",
      "Saved as Parquet: I://base_de_dados//datasus//cnes//datasus_ftp\\2018\\base_de_dados_cnes_201808\\tbMantenedora201808.parquet.gzip\n",
      "Saved as Parquet: I://base_de_dados//datasus//cnes//datasus_ftp\\2018\\base_de_dados_cnes_201808\\tbModVinculo201808.parquet.gzip\n",
      "Saved as Parquet: I://base_de_dados//datasus//cnes//datasus_ftp\\2018\\base_de_dados_cnes_201808\\tbMotivoDesativacao201808.parquet.gzip\n",
      "Saved as Parquet: I://base_de_dados//datasus//cnes//datasus_ftp\\2018\\base_de_dados_cnes_201808\\tbMotivoDesativEquipe201808.parquet.gzip\n",
      "Saved as Parquet: I://base_de_dados//datasus//cnes//datasus_ftp\\2018\\base_de_dados_cnes_201808\\tbMunicipio201808.parquet.gzip\n",
      "Saved as Parquet: I://base_de_dados//datasus//cnes//datasus_ftp\\2018\\base_de_dados_cnes_201808\\tbNaturezaJuridica201808.parquet.gzip\n",
      "Saved as Parquet: I://base_de_dados//datasus//cnes//datasus_ftp\\2018\\base_de_dados_cnes_201808\\tbOrgaoEmissor201808.parquet.gzip\n",
      "Saved as Parquet: I://base_de_dados//datasus//cnes//datasus_ftp\\2018\\base_de_dados_cnes_201808\\tbProfResidencia201808.parquet.gzip\n",
      "Saved as Parquet: I://base_de_dados//datasus//cnes//datasus_ftp\\2018\\base_de_dados_cnes_201808\\tbQuimioRadio201808.parquet.gzip\n",
      "Saved as Parquet: I://base_de_dados//datasus//cnes//datasus_ftp\\2018\\base_de_dados_cnes_201808\\tbResidenciaMed201808.parquet.gzip\n",
      "Saved as Parquet: I://base_de_dados//datasus//cnes//datasus_ftp\\2018\\base_de_dados_cnes_201808\\tbSegmento201808.parquet.gzip\n",
      "Saved as Parquet: I://base_de_dados//datasus//cnes//datasus_ftp\\2018\\base_de_dados_cnes_201808\\tbServicoApoio201808.parquet.gzip\n",
      "Saved as Parquet: I://base_de_dados//datasus//cnes//datasus_ftp\\2018\\base_de_dados_cnes_201808\\tbServicoEspecializado201808.parquet.gzip\n",
      "Saved as Parquet: I://base_de_dados//datasus//cnes//datasus_ftp\\2018\\base_de_dados_cnes_201808\\tbServicoReferenciado201808.parquet.gzip\n",
      "Saved as Parquet: I://base_de_dados//datasus//cnes//datasus_ftp\\2018\\base_de_dados_cnes_201808\\tbSubGruposHabilitacao201808.parquet.gzip\n",
      "Saved as Parquet: I://base_de_dados//datasus//cnes//datasus_ftp\\2018\\base_de_dados_cnes_201808\\tbSubTipo201808.parquet.gzip\n",
      "Saved as Parquet: I://base_de_dados//datasus//cnes//datasus_ftp\\2018\\base_de_dados_cnes_201808\\tbSubTipoEquipe201808.parquet.gzip\n",
      "Saved as Parquet: I://base_de_dados//datasus//cnes//datasus_ftp\\2018\\base_de_dados_cnes_201808\\tbSubtipoInstalacao201808.parquet.gzip\n",
      "Saved as Parquet: I://base_de_dados//datasus//cnes//datasus_ftp\\2018\\base_de_dados_cnes_201808\\tbSubTpModVinculo201808.parquet.gzip\n",
      "Saved as Parquet: I://base_de_dados//datasus//cnes//datasus_ftp\\2018\\base_de_dados_cnes_201808\\tbTipoCertidao201808.parquet.gzip\n",
      "Saved as Parquet: I://base_de_dados//datasus//cnes//datasus_ftp\\2018\\base_de_dados_cnes_201808\\tbTipoCgDifer201808.parquet.gzip\n",
      "Saved as Parquet: I://base_de_dados//datasus//cnes//datasus_ftp\\2018\\base_de_dados_cnes_201808\\tbTipoEqSubTipo201808.parquet.gzip\n",
      "Saved as Parquet: I://base_de_dados//datasus//cnes//datasus_ftp\\2018\\base_de_dados_cnes_201808\\tbTipoEquipamento201808.parquet.gzip\n",
      "Saved as Parquet: I://base_de_dados//datasus//cnes//datasus_ftp\\2018\\base_de_dados_cnes_201808\\tbTipoEquipe201808.parquet.gzip\n",
      "Saved as Parquet: I://base_de_dados//datasus//cnes//datasus_ftp\\2018\\base_de_dados_cnes_201808\\tbTipoEscolaridade201808.parquet.gzip\n",
      "Saved as Parquet: I://base_de_dados//datasus//cnes//datasus_ftp\\2018\\base_de_dados_cnes_201808\\tbTipoServicoReferenciado201808.parquet.gzip\n",
      "Saved as Parquet: I://base_de_dados//datasus//cnes//datasus_ftp\\2018\\base_de_dados_cnes_201808\\tbTipoUnidade201808.parquet.gzip\n",
      "Saved as Parquet: I://base_de_dados//datasus//cnes//datasus_ftp\\2018\\base_de_dados_cnes_201808\\tbTpModVinculo201808.parquet.gzip\n",
      "Saved as Parquet: I://base_de_dados//datasus//cnes//datasus_ftp\\2018\\base_de_dados_cnes_201808\\tbTurnoAtendimento201808.parquet.gzip\n",
      "Month Folder: base_de_dados_cnes_201809\n",
      "Saved as Parquet: I://base_de_dados//datasus//cnes//datasus_ftp\\2018\\base_de_dados_cnes_201809\\rlAdmGerenciaCnes201809.parquet.gzip\n",
      "Saved as Parquet: I://base_de_dados//datasus//cnes//datasus_ftp\\2018\\base_de_dados_cnes_201809\\rlCooperativa201809.parquet.gzip\n",
      "Saved as Parquet: I://base_de_dados//datasus//cnes//datasus_ftp\\2018\\base_de_dados_cnes_201809\\rlEquipeNasfEsf201809.parquet.gzip\n"
     ]
    },
    {
     "name": "stderr",
     "output_type": "stream",
     "text": [
      "C:\\Users\\erick\\AppData\\Local\\Temp\\ipykernel_18324\\463220216.py:31: DtypeWarning: Columns (0) have mixed types. Specify dtype option on import or set low_memory=False.\n",
      "  df = pd.read_csv(csv_path, sep=';')\n"
     ]
    },
    {
     "name": "stdout",
     "output_type": "stream",
     "text": [
      "Saved as Parquet: I://base_de_dados//datasus//cnes//datasus_ftp\\2018\\base_de_dados_cnes_201809\\rlEstabAtendPrestConv201809.parquet.gzip\n",
      "Saved as Parquet: I://base_de_dados//datasus//cnes//datasus_ftp\\2018\\base_de_dados_cnes_201809\\rlEstabAtenPsico201809.parquet.gzip\n",
      "Saved as Parquet: I://base_de_dados//datasus//cnes//datasus_ftp\\2018\\base_de_dados_cnes_201809\\rlEstabAvaliacao201809.parquet.gzip\n",
      "Saved as Parquet: I://base_de_dados//datasus//cnes//datasus_ftp\\2018\\base_de_dados_cnes_201809\\rlEstabCentralReg201809.parquet.gzip\n",
      "Saved as Parquet: I://base_de_dados//datasus//cnes//datasus_ftp\\2018\\base_de_dados_cnes_201809\\rlEstabColetaSelRejeito201809.parquet.gzip\n",
      "Saved as Parquet: I://base_de_dados//datasus//cnes//datasus_ftp\\2018\\base_de_dados_cnes_201809\\rlEstabComissaoOutro201809.parquet.gzip\n",
      "Saved as Parquet: I://base_de_dados//datasus//cnes//datasus_ftp\\2018\\base_de_dados_cnes_201809\\rlEstabComplementar201809.parquet.gzip\n",
      "Saved as Parquet: I://base_de_dados//datasus//cnes//datasus_ftp\\2018\\base_de_dados_cnes_201809\\rlEstabEndCompl201809.parquet.gzip\n",
      "Saved as Parquet: I://base_de_dados//datasus//cnes//datasus_ftp\\2018\\base_de_dados_cnes_201809\\rlEstabEqpEmbarcacao201809.parquet.gzip\n",
      "Saved as Parquet: I://base_de_dados//datasus//cnes//datasus_ftp\\2018\\base_de_dados_cnes_201809\\rlEstabEqpUnidApoio201809.parquet.gzip\n"
     ]
    },
    {
     "name": "stderr",
     "output_type": "stream",
     "text": [
      "C:\\Users\\erick\\AppData\\Local\\Temp\\ipykernel_18324\\463220216.py:31: DtypeWarning: Columns (0) have mixed types. Specify dtype option on import or set low_memory=False.\n",
      "  df = pd.read_csv(csv_path, sep=';')\n"
     ]
    },
    {
     "name": "stdout",
     "output_type": "stream",
     "text": [
      "Saved as Parquet: I://base_de_dados//datasus//cnes//datasus_ftp\\2018\\base_de_dados_cnes_201809\\rlEstabEquipamento201809.parquet.gzip\n",
      "Saved as Parquet: I://base_de_dados//datasus//cnes//datasus_ftp\\2018\\base_de_dados_cnes_201809\\rlEstabEquipeMun201809.parquet.gzip\n"
     ]
    },
    {
     "name": "stderr",
     "output_type": "stream",
     "text": [
      "C:\\Users\\erick\\AppData\\Local\\Temp\\ipykernel_18324\\463220216.py:31: DtypeWarning: Columns (14) have mixed types. Specify dtype option on import or set low_memory=False.\n",
      "  df = pd.read_csv(csv_path, sep=';')\n"
     ]
    },
    {
     "name": "stdout",
     "output_type": "stream",
     "text": [
      "Saved as Parquet: I://base_de_dados//datasus//cnes//datasus_ftp\\2018\\base_de_dados_cnes_201809\\rlEstabEquipeProf201809.parquet.gzip\n",
      "Saved as Parquet: I://base_de_dados//datasus//cnes//datasus_ftp\\2018\\base_de_dados_cnes_201809\\rlEstabInstFisiAssist201809.parquet.gzip\n",
      "Saved as Parquet: I://base_de_dados//datasus//cnes//datasus_ftp\\2018\\base_de_dados_cnes_201809\\rlEstabOrgParc201809.parquet.gzip\n",
      "Saved as Parquet: I://base_de_dados//datasus//cnes//datasus_ftp\\2018\\base_de_dados_cnes_201809\\rlEstabPoloAldeia201809.parquet.gzip\n",
      "Saved as Parquet: I://base_de_dados//datasus//cnes//datasus_ftp\\2018\\base_de_dados_cnes_201809\\rlEstabProfComissao201809.parquet.gzip\n",
      "Saved as Parquet: I://base_de_dados//datasus//cnes//datasus_ftp\\2018\\base_de_dados_cnes_201809\\rlEstabProgFundo201809.parquet.gzip\n",
      "Saved as Parquet: I://base_de_dados//datasus//cnes//datasus_ftp\\2018\\base_de_dados_cnes_201809\\rlEstabRegimeRes201809.parquet.gzip\n",
      "Saved as Parquet: I://base_de_dados//datasus//cnes//datasus_ftp\\2018\\base_de_dados_cnes_201809\\rlEstabRepresentante201809.parquet.gzip\n",
      "Saved as Parquet: I://base_de_dados//datasus//cnes//datasus_ftp\\2018\\base_de_dados_cnes_201809\\rlEstabSamu201809.parquet.gzip\n"
     ]
    },
    {
     "name": "stderr",
     "output_type": "stream",
     "text": [
      "C:\\Users\\erick\\AppData\\Local\\Temp\\ipykernel_18324\\463220216.py:31: DtypeWarning: Columns (0) have mixed types. Specify dtype option on import or set low_memory=False.\n",
      "  df = pd.read_csv(csv_path, sep=';')\n"
     ]
    },
    {
     "name": "stdout",
     "output_type": "stream",
     "text": [
      "Saved as Parquet: I://base_de_dados//datasus//cnes//datasus_ftp\\2018\\base_de_dados_cnes_201809\\rlEstabServClass201809.parquet.gzip\n"
     ]
    },
    {
     "name": "stderr",
     "output_type": "stream",
     "text": [
      "C:\\Users\\erick\\AppData\\Local\\Temp\\ipykernel_18324\\463220216.py:31: DtypeWarning: Columns (2) have mixed types. Specify dtype option on import or set low_memory=False.\n",
      "  df = pd.read_csv(csv_path, sep=';')\n"
     ]
    },
    {
     "name": "stdout",
     "output_type": "stream",
     "text": [
      "Saved as Parquet: I://base_de_dados//datasus//cnes//datasus_ftp\\2018\\base_de_dados_cnes_201809\\rlEstabServicoApoio201809.parquet.gzip\n",
      "Saved as Parquet: I://base_de_dados//datasus//cnes//datasus_ftp\\2018\\base_de_dados_cnes_201809\\rlEstabSipac201809.parquet.gzip\n",
      "Saved as Parquet: I://base_de_dados//datasus//cnes//datasus_ftp\\2018\\base_de_dados_cnes_201809\\rlEstabSubTipo201809.parquet.gzip\n",
      "Saved as Parquet: I://base_de_dados//datasus//cnes//datasus_ftp\\2018\\base_de_dados_cnes_201809\\rlEstabTeleCnes201809.parquet.gzip\n",
      "Saved as Parquet: I://base_de_dados//datasus//cnes//datasus_ftp\\2018\\base_de_dados_cnes_201809\\rlEstabUnidAcolhim201809.parquet.gzip\n",
      "Saved as Parquet: I://base_de_dados//datasus//cnes//datasus_ftp\\2018\\base_de_dados_cnes_201809\\rlMunAtenPsico201809.parquet.gzip\n",
      "Saved as Parquet: I://base_de_dados//datasus//cnes//datasus_ftp\\2018\\base_de_dados_cnes_201809\\rlMunRegimeRes201809.parquet.gzip\n",
      "Saved as Parquet: I://base_de_dados//datasus//cnes//datasus_ftp\\2018\\base_de_dados_cnes_201809\\rlMunUnidAcolhim201809.parquet.gzip\n",
      "Saved as Parquet: I://base_de_dados//datasus//cnes//datasus_ftp\\2018\\base_de_dados_cnes_201809\\rlNasfEsf201809.parquet.gzip\n",
      "Saved as Parquet: I://base_de_dados//datasus//cnes//datasus_ftp\\2018\\base_de_dados_cnes_201809\\tbArea201809.parquet.gzip\n",
      "Saved as Parquet: I://base_de_dados//datasus//cnes//datasus_ftp\\2018\\base_de_dados_cnes_201809\\tbAtendimentoPrestado201809.parquet.gzip\n",
      "Saved as Parquet: I://base_de_dados//datasus//cnes//datasus_ftp\\2018\\base_de_dados_cnes_201809\\tbAtividadeEnsino201809.parquet.gzip\n",
      "Saved as Parquet: I://base_de_dados//datasus//cnes//datasus_ftp\\2018\\base_de_dados_cnes_201809\\tbAtividadeProfissional201809.parquet.gzip\n",
      "Saved as Parquet: I://base_de_dados//datasus//cnes//datasus_ftp\\2018\\base_de_dados_cnes_201809\\tbAtributo201809.parquet.gzip\n",
      "Saved as Parquet: I://base_de_dados//datasus//cnes//datasus_ftp\\2018\\base_de_dados_cnes_201809\\tbAvaliacao201809.parquet.gzip\n",
      "Saved as Parquet: I://base_de_dados//datasus//cnes//datasus_ftp\\2018\\base_de_dados_cnes_201809\\tbBanco201809.parquet.gzip\n"
     ]
    },
    {
     "name": "stderr",
     "output_type": "stream",
     "text": [
      "C:\\Users\\erick\\AppData\\Local\\Temp\\ipykernel_18324\\463220216.py:31: DtypeWarning: Columns (0,12) have mixed types. Specify dtype option on import or set low_memory=False.\n",
      "  df = pd.read_csv(csv_path, sep=';')\n"
     ]
    },
    {
     "name": "stdout",
     "output_type": "stream",
     "text": [
      "Saved as Parquet: I://base_de_dados//datasus//cnes//datasus_ftp\\2018\\base_de_dados_cnes_201809\\tbCargaHorariaSus201809.parquet.gzip\n",
      "Saved as Parquet: I://base_de_dados//datasus//cnes//datasus_ftp\\2018\\base_de_dados_cnes_201809\\tbClassificacaoAval201809.parquet.gzip\n",
      "Saved as Parquet: I://base_de_dados//datasus//cnes//datasus_ftp\\2018\\base_de_dados_cnes_201809\\tbClassificacaoServico201809.parquet.gzip\n",
      "Saved as Parquet: I://base_de_dados//datasus//cnes//datasus_ftp\\2018\\base_de_dados_cnes_201809\\tbColetaSeletivaRejeito201809.parquet.gzip\n",
      "Saved as Parquet: I://base_de_dados//datasus//cnes//datasus_ftp\\2018\\base_de_dados_cnes_201809\\tbComissaoOutro201809.parquet.gzip\n",
      "Saved as Parquet: I://base_de_dados//datasus//cnes//datasus_ftp\\2018\\base_de_dados_cnes_201809\\tbConselhoClasse201809.parquet.gzip\n",
      "Saved as Parquet: I://base_de_dados//datasus//cnes//datasus_ftp\\2018\\base_de_dados_cnes_201809\\tbConvenio201809.parquet.gzip\n",
      "Saved as Parquet: I://base_de_dados//datasus//cnes//datasus_ftp\\2018\\base_de_dados_cnes_201809\\tbDadosProfissionalSus201809.parquet.gzip\n",
      "Saved as Parquet: I://base_de_dados//datasus//cnes//datasus_ftp\\2018\\base_de_dados_cnes_201809\\tbDialise201809.parquet.gzip\n",
      "Saved as Parquet: I://base_de_dados//datasus//cnes//datasus_ftp\\2018\\base_de_dados_cnes_201809\\tbEquipamento201809.parquet.gzip\n",
      "Saved as Parquet: I://base_de_dados//datasus//cnes//datasus_ftp\\2018\\base_de_dados_cnes_201809\\tbEquipe201809.parquet.gzip\n",
      "Saved as Parquet: I://base_de_dados//datasus//cnes//datasus_ftp\\2018\\base_de_dados_cnes_201809\\tbEquipeAtendCompl201809.parquet.gzip\n",
      "Saved as Parquet: I://base_de_dados//datasus//cnes//datasus_ftp\\2018\\base_de_dados_cnes_201809\\tbEquipeChDifer201809.parquet.gzip\n",
      "Saved as Parquet: I://base_de_dados//datasus//cnes//datasus_ftp\\2018\\base_de_dados_cnes_201809\\tbEstabContrato201809.parquet.gzip\n"
     ]
    },
    {
     "name": "stderr",
     "output_type": "stream",
     "text": [
      "C:\\Users\\erick\\AppData\\Local\\Temp\\ipykernel_18324\\463220216.py:31: DtypeWarning: Columns (0,14,15,36,45) have mixed types. Specify dtype option on import or set low_memory=False.\n",
      "  df = pd.read_csv(csv_path, sep=';')\n"
     ]
    },
    {
     "name": "stdout",
     "output_type": "stream",
     "text": [
      "Saved as Parquet: I://base_de_dados//datasus//cnes//datasus_ftp\\2018\\base_de_dados_cnes_201809\\tbEstabelecimento201809.parquet.gzip\n",
      "Saved as Parquet: I://base_de_dados//datasus//cnes//datasus_ftp\\2018\\base_de_dados_cnes_201809\\tbEstabHorarioAtend201809.parquet.gzip\n",
      "Saved as Parquet: I://base_de_dados//datasus//cnes//datasus_ftp\\2018\\base_de_dados_cnes_201809\\tbEstado201809.parquet.gzip\n",
      "Saved as Parquet: I://base_de_dados//datasus//cnes//datasus_ftp\\2018\\base_de_dados_cnes_201809\\tbEtnia201809.parquet.gzip\n",
      "Saved as Parquet: I://base_de_dados//datasus//cnes//datasus_ftp\\2018\\base_de_dados_cnes_201809\\tbFluxoDadosClientela201809.parquet.gzip\n",
      "Saved as Parquet: I://base_de_dados//datasus//cnes//datasus_ftp\\2018\\base_de_dados_cnes_201809\\tbGestao201809.parquet.gzip\n",
      "Saved as Parquet: I://base_de_dados//datasus//cnes//datasus_ftp\\2018\\base_de_dados_cnes_201809\\tbGrupoEquipe201809.parquet.gzip\n",
      "Saved as Parquet: I://base_de_dados//datasus//cnes//datasus_ftp\\2018\\base_de_dados_cnes_201809\\tbHemoterapia201809.parquet.gzip\n",
      "Saved as Parquet: I://base_de_dados//datasus//cnes//datasus_ftp\\2018\\base_de_dados_cnes_201809\\tbIncentivos201809.parquet.gzip\n",
      "Saved as Parquet: I://base_de_dados//datasus//cnes//datasus_ftp\\2018\\base_de_dados_cnes_201809\\tbInstalFisicaParaAssist201809.parquet.gzip\n",
      "Saved as Parquet: I://base_de_dados//datasus//cnes//datasus_ftp\\2018\\base_de_dados_cnes_201809\\tbInstituicaoAvaliadora201809.parquet.gzip\n",
      "Saved as Parquet: I://base_de_dados//datasus//cnes//datasus_ftp\\2018\\base_de_dados_cnes_201809\\tbLeito201809.parquet.gzip\n",
      "Saved as Parquet: I://base_de_dados//datasus//cnes//datasus_ftp\\2018\\base_de_dados_cnes_201809\\tbMantenedora201809.parquet.gzip\n",
      "Saved as Parquet: I://base_de_dados//datasus//cnes//datasus_ftp\\2018\\base_de_dados_cnes_201809\\tbModVinculo201809.parquet.gzip\n",
      "Saved as Parquet: I://base_de_dados//datasus//cnes//datasus_ftp\\2018\\base_de_dados_cnes_201809\\tbMotivoDesativacao201809.parquet.gzip\n",
      "Saved as Parquet: I://base_de_dados//datasus//cnes//datasus_ftp\\2018\\base_de_dados_cnes_201809\\tbMotivoDesativEquipe201809.parquet.gzip\n",
      "Saved as Parquet: I://base_de_dados//datasus//cnes//datasus_ftp\\2018\\base_de_dados_cnes_201809\\tbMunicipio201809.parquet.gzip\n",
      "Saved as Parquet: I://base_de_dados//datasus//cnes//datasus_ftp\\2018\\base_de_dados_cnes_201809\\tbNaturezaJuridica201809.parquet.gzip\n",
      "Saved as Parquet: I://base_de_dados//datasus//cnes//datasus_ftp\\2018\\base_de_dados_cnes_201809\\tbOrgaoEmissor201809.parquet.gzip\n",
      "Saved as Parquet: I://base_de_dados//datasus//cnes//datasus_ftp\\2018\\base_de_dados_cnes_201809\\tbProfResidencia201809.parquet.gzip\n",
      "Saved as Parquet: I://base_de_dados//datasus//cnes//datasus_ftp\\2018\\base_de_dados_cnes_201809\\tbQuimioRadio201809.parquet.gzip\n",
      "Saved as Parquet: I://base_de_dados//datasus//cnes//datasus_ftp\\2018\\base_de_dados_cnes_201809\\tbResidenciaMed201809.parquet.gzip\n",
      "Saved as Parquet: I://base_de_dados//datasus//cnes//datasus_ftp\\2018\\base_de_dados_cnes_201809\\tbSegmento201809.parquet.gzip\n",
      "Saved as Parquet: I://base_de_dados//datasus//cnes//datasus_ftp\\2018\\base_de_dados_cnes_201809\\tbServicoApoio201809.parquet.gzip\n",
      "Saved as Parquet: I://base_de_dados//datasus//cnes//datasus_ftp\\2018\\base_de_dados_cnes_201809\\tbServicoEspecializado201809.parquet.gzip\n",
      "Saved as Parquet: I://base_de_dados//datasus//cnes//datasus_ftp\\2018\\base_de_dados_cnes_201809\\tbServicoReferenciado201809.parquet.gzip\n",
      "Saved as Parquet: I://base_de_dados//datasus//cnes//datasus_ftp\\2018\\base_de_dados_cnes_201809\\tbSubGruposHabilitacao201809.parquet.gzip\n",
      "Saved as Parquet: I://base_de_dados//datasus//cnes//datasus_ftp\\2018\\base_de_dados_cnes_201809\\tbSubTipo201809.parquet.gzip\n",
      "Saved as Parquet: I://base_de_dados//datasus//cnes//datasus_ftp\\2018\\base_de_dados_cnes_201809\\tbSubTipoEquipe201809.parquet.gzip\n",
      "Saved as Parquet: I://base_de_dados//datasus//cnes//datasus_ftp\\2018\\base_de_dados_cnes_201809\\tbSubtipoInstalacao201809.parquet.gzip\n",
      "Saved as Parquet: I://base_de_dados//datasus//cnes//datasus_ftp\\2018\\base_de_dados_cnes_201809\\tbSubTpModVinculo201809.parquet.gzip\n",
      "Saved as Parquet: I://base_de_dados//datasus//cnes//datasus_ftp\\2018\\base_de_dados_cnes_201809\\tbTipoCertidao201809.parquet.gzip\n",
      "Saved as Parquet: I://base_de_dados//datasus//cnes//datasus_ftp\\2018\\base_de_dados_cnes_201809\\tbTipoCgDifer201809.parquet.gzip\n",
      "Saved as Parquet: I://base_de_dados//datasus//cnes//datasus_ftp\\2018\\base_de_dados_cnes_201809\\tbTipoEqSubTipo201809.parquet.gzip\n",
      "Saved as Parquet: I://base_de_dados//datasus//cnes//datasus_ftp\\2018\\base_de_dados_cnes_201809\\tbTipoEquipamento201809.parquet.gzip\n",
      "Saved as Parquet: I://base_de_dados//datasus//cnes//datasus_ftp\\2018\\base_de_dados_cnes_201809\\tbTipoEquipe201809.parquet.gzip\n",
      "Saved as Parquet: I://base_de_dados//datasus//cnes//datasus_ftp\\2018\\base_de_dados_cnes_201809\\tbTipoEscolaridade201809.parquet.gzip\n",
      "Saved as Parquet: I://base_de_dados//datasus//cnes//datasus_ftp\\2018\\base_de_dados_cnes_201809\\tbTipoServicoReferenciado201809.parquet.gzip\n",
      "Saved as Parquet: I://base_de_dados//datasus//cnes//datasus_ftp\\2018\\base_de_dados_cnes_201809\\tbTipoUnidade201809.parquet.gzip\n",
      "Saved as Parquet: I://base_de_dados//datasus//cnes//datasus_ftp\\2018\\base_de_dados_cnes_201809\\tbTpModVinculo201809.parquet.gzip\n",
      "Saved as Parquet: I://base_de_dados//datasus//cnes//datasus_ftp\\2018\\base_de_dados_cnes_201809\\tbTurnoAtendimento201809.parquet.gzip\n",
      "Month Folder: base_de_dados_cnes_201810\n",
      "Saved as Parquet: I://base_de_dados//datasus//cnes//datasus_ftp\\2018\\base_de_dados_cnes_201810\\rlAdmGerenciaCnes201810.parquet.gzip\n",
      "Saved as Parquet: I://base_de_dados//datasus//cnes//datasus_ftp\\2018\\base_de_dados_cnes_201810\\rlAtividadeObrigatoria201810.parquet.gzip\n",
      "Saved as Parquet: I://base_de_dados//datasus//cnes//datasus_ftp\\2018\\base_de_dados_cnes_201810\\rlCooperativa201810.parquet.gzip\n",
      "Saved as Parquet: I://base_de_dados//datasus//cnes//datasus_ftp\\2018\\base_de_dados_cnes_201810\\rlEquipeNasfEsf201810.parquet.gzip\n"
     ]
    },
    {
     "name": "stderr",
     "output_type": "stream",
     "text": [
      "C:\\Users\\erick\\AppData\\Local\\Temp\\ipykernel_18324\\463220216.py:31: DtypeWarning: Columns (0) have mixed types. Specify dtype option on import or set low_memory=False.\n",
      "  df = pd.read_csv(csv_path, sep=';')\n"
     ]
    },
    {
     "name": "stdout",
     "output_type": "stream",
     "text": [
      "Saved as Parquet: I://base_de_dados//datasus//cnes//datasus_ftp\\2018\\base_de_dados_cnes_201810\\rlEstabAtendPrestConv201810.parquet.gzip\n",
      "Saved as Parquet: I://base_de_dados//datasus//cnes//datasus_ftp\\2018\\base_de_dados_cnes_201810\\rlEstabAtenPsico201810.parquet.gzip\n",
      "Saved as Parquet: I://base_de_dados//datasus//cnes//datasus_ftp\\2018\\base_de_dados_cnes_201810\\rlEstabAvaliacao201810.parquet.gzip\n",
      "Saved as Parquet: I://base_de_dados//datasus//cnes//datasus_ftp\\2018\\base_de_dados_cnes_201810\\rlEstabCentralReg201810.parquet.gzip\n",
      "Saved as Parquet: I://base_de_dados//datasus//cnes//datasus_ftp\\2018\\base_de_dados_cnes_201810\\rlEstabColetaSelRejeito201810.parquet.gzip\n",
      "Saved as Parquet: I://base_de_dados//datasus//cnes//datasus_ftp\\2018\\base_de_dados_cnes_201810\\rlEstabComissaoOutro201810.parquet.gzip\n",
      "Saved as Parquet: I://base_de_dados//datasus//cnes//datasus_ftp\\2018\\base_de_dados_cnes_201810\\rlEstabComplementar201810.parquet.gzip\n",
      "Saved as Parquet: I://base_de_dados//datasus//cnes//datasus_ftp\\2018\\base_de_dados_cnes_201810\\rlEstabEndCompl201810.parquet.gzip\n",
      "Saved as Parquet: I://base_de_dados//datasus//cnes//datasus_ftp\\2018\\base_de_dados_cnes_201810\\rlEstabEqpEmbarcacao201810.parquet.gzip\n",
      "Saved as Parquet: I://base_de_dados//datasus//cnes//datasus_ftp\\2018\\base_de_dados_cnes_201810\\rlEstabEqpUnidApoio201810.parquet.gzip\n"
     ]
    },
    {
     "name": "stderr",
     "output_type": "stream",
     "text": [
      "C:\\Users\\erick\\AppData\\Local\\Temp\\ipykernel_18324\\463220216.py:31: DtypeWarning: Columns (0) have mixed types. Specify dtype option on import or set low_memory=False.\n",
      "  df = pd.read_csv(csv_path, sep=';')\n"
     ]
    },
    {
     "name": "stdout",
     "output_type": "stream",
     "text": [
      "Saved as Parquet: I://base_de_dados//datasus//cnes//datasus_ftp\\2018\\base_de_dados_cnes_201810\\rlEstabEquipamento201810.parquet.gzip\n",
      "Saved as Parquet: I://base_de_dados//datasus//cnes//datasus_ftp\\2018\\base_de_dados_cnes_201810\\rlEstabEquipeMun201810.parquet.gzip\n"
     ]
    },
    {
     "name": "stderr",
     "output_type": "stream",
     "text": [
      "C:\\Users\\erick\\AppData\\Local\\Temp\\ipykernel_18324\\463220216.py:31: DtypeWarning: Columns (14) have mixed types. Specify dtype option on import or set low_memory=False.\n",
      "  df = pd.read_csv(csv_path, sep=';')\n"
     ]
    },
    {
     "name": "stdout",
     "output_type": "stream",
     "text": [
      "Saved as Parquet: I://base_de_dados//datasus//cnes//datasus_ftp\\2018\\base_de_dados_cnes_201810\\rlEstabEquipeProf201810.parquet.gzip\n",
      "Saved as Parquet: I://base_de_dados//datasus//cnes//datasus_ftp\\2018\\base_de_dados_cnes_201810\\rlEstabInstFisiAssist201810.parquet.gzip\n",
      "Saved as Parquet: I://base_de_dados//datasus//cnes//datasus_ftp\\2018\\base_de_dados_cnes_201810\\rlEstabOrgParc201810.parquet.gzip\n",
      "Saved as Parquet: I://base_de_dados//datasus//cnes//datasus_ftp\\2018\\base_de_dados_cnes_201810\\rlEstabPoloAldeia201810.parquet.gzip\n",
      "Saved as Parquet: I://base_de_dados//datasus//cnes//datasus_ftp\\2018\\base_de_dados_cnes_201810\\rlEstabProfComissao201810.parquet.gzip\n",
      "Saved as Parquet: I://base_de_dados//datasus//cnes//datasus_ftp\\2018\\base_de_dados_cnes_201810\\rlEstabProgFundo201810.parquet.gzip\n",
      "Saved as Parquet: I://base_de_dados//datasus//cnes//datasus_ftp\\2018\\base_de_dados_cnes_201810\\rlEstabRegimeRes201810.parquet.gzip\n",
      "Saved as Parquet: I://base_de_dados//datasus//cnes//datasus_ftp\\2018\\base_de_dados_cnes_201810\\rlEstabRepresentante201810.parquet.gzip\n",
      "Saved as Parquet: I://base_de_dados//datasus//cnes//datasus_ftp\\2018\\base_de_dados_cnes_201810\\rlEstabSamu201810.parquet.gzip\n"
     ]
    },
    {
     "name": "stderr",
     "output_type": "stream",
     "text": [
      "C:\\Users\\erick\\AppData\\Local\\Temp\\ipykernel_18324\\463220216.py:31: DtypeWarning: Columns (0) have mixed types. Specify dtype option on import or set low_memory=False.\n",
      "  df = pd.read_csv(csv_path, sep=';')\n"
     ]
    },
    {
     "name": "stdout",
     "output_type": "stream",
     "text": [
      "Saved as Parquet: I://base_de_dados//datasus//cnes//datasus_ftp\\2018\\base_de_dados_cnes_201810\\rlEstabServClass201810.parquet.gzip\n"
     ]
    },
    {
     "name": "stderr",
     "output_type": "stream",
     "text": [
      "C:\\Users\\erick\\AppData\\Local\\Temp\\ipykernel_18324\\463220216.py:31: DtypeWarning: Columns (2) have mixed types. Specify dtype option on import or set low_memory=False.\n",
      "  df = pd.read_csv(csv_path, sep=';')\n"
     ]
    },
    {
     "name": "stdout",
     "output_type": "stream",
     "text": [
      "Saved as Parquet: I://base_de_dados//datasus//cnes//datasus_ftp\\2018\\base_de_dados_cnes_201810\\rlEstabServicoApoio201810.parquet.gzip\n",
      "Saved as Parquet: I://base_de_dados//datasus//cnes//datasus_ftp\\2018\\base_de_dados_cnes_201810\\rlEstabSipac201810.parquet.gzip\n",
      "Saved as Parquet: I://base_de_dados//datasus//cnes//datasus_ftp\\2018\\base_de_dados_cnes_201810\\rlEstabSubTipo201810.parquet.gzip\n",
      "Saved as Parquet: I://base_de_dados//datasus//cnes//datasus_ftp\\2018\\base_de_dados_cnes_201810\\rlEstabTeleCnes201810.parquet.gzip\n",
      "Saved as Parquet: I://base_de_dados//datasus//cnes//datasus_ftp\\2018\\base_de_dados_cnes_201810\\rlEstabUnidAcolhim201810.parquet.gzip\n",
      "Saved as Parquet: I://base_de_dados//datasus//cnes//datasus_ftp\\2018\\base_de_dados_cnes_201810\\rlMunAtenPsico201810.parquet.gzip\n",
      "Saved as Parquet: I://base_de_dados//datasus//cnes//datasus_ftp\\2018\\base_de_dados_cnes_201810\\rlMunRegimeRes201810.parquet.gzip\n",
      "Saved as Parquet: I://base_de_dados//datasus//cnes//datasus_ftp\\2018\\base_de_dados_cnes_201810\\rlMunUnidAcolhim201810.parquet.gzip\n",
      "Saved as Parquet: I://base_de_dados//datasus//cnes//datasus_ftp\\2018\\base_de_dados_cnes_201810\\rlNasfEsf201810.parquet.gzip\n",
      "Saved as Parquet: I://base_de_dados//datasus//cnes//datasus_ftp\\2018\\base_de_dados_cnes_201810\\rlTipoEstabAtividade201810.parquet.gzip\n",
      "Saved as Parquet: I://base_de_dados//datasus//cnes//datasus_ftp\\2018\\base_de_dados_cnes_201810\\tbArea201810.parquet.gzip\n",
      "Saved as Parquet: I://base_de_dados//datasus//cnes//datasus_ftp\\2018\\base_de_dados_cnes_201810\\tbAtendimentoPrestado201810.parquet.gzip\n",
      "Saved as Parquet: I://base_de_dados//datasus//cnes//datasus_ftp\\2018\\base_de_dados_cnes_201810\\tbAtividade201810.parquet.gzip\n",
      "Saved as Parquet: I://base_de_dados//datasus//cnes//datasus_ftp\\2018\\base_de_dados_cnes_201810\\tbAtividadeEnsino201810.parquet.gzip\n",
      "Saved as Parquet: I://base_de_dados//datasus//cnes//datasus_ftp\\2018\\base_de_dados_cnes_201810\\tbAtividadeProfissional201810.parquet.gzip\n",
      "Saved as Parquet: I://base_de_dados//datasus//cnes//datasus_ftp\\2018\\base_de_dados_cnes_201810\\tbAtributo201810.parquet.gzip\n",
      "Saved as Parquet: I://base_de_dados//datasus//cnes//datasus_ftp\\2018\\base_de_dados_cnes_201810\\tbAvaliacao201810.parquet.gzip\n",
      "Saved as Parquet: I://base_de_dados//datasus//cnes//datasus_ftp\\2018\\base_de_dados_cnes_201810\\tbBanco201810.parquet.gzip\n"
     ]
    },
    {
     "name": "stderr",
     "output_type": "stream",
     "text": [
      "C:\\Users\\erick\\AppData\\Local\\Temp\\ipykernel_18324\\463220216.py:31: DtypeWarning: Columns (0,12) have mixed types. Specify dtype option on import or set low_memory=False.\n",
      "  df = pd.read_csv(csv_path, sep=';')\n"
     ]
    },
    {
     "name": "stdout",
     "output_type": "stream",
     "text": [
      "Saved as Parquet: I://base_de_dados//datasus//cnes//datasus_ftp\\2018\\base_de_dados_cnes_201810\\tbCargaHorariaSus201810.parquet.gzip\n",
      "Saved as Parquet: I://base_de_dados//datasus//cnes//datasus_ftp\\2018\\base_de_dados_cnes_201810\\tbClassificacaoAval201810.parquet.gzip\n",
      "Saved as Parquet: I://base_de_dados//datasus//cnes//datasus_ftp\\2018\\base_de_dados_cnes_201810\\tbClassificacaoServico201810.parquet.gzip\n",
      "Saved as Parquet: I://base_de_dados//datasus//cnes//datasus_ftp\\2018\\base_de_dados_cnes_201810\\tbColetaSeletivaRejeito201810.parquet.gzip\n",
      "Saved as Parquet: I://base_de_dados//datasus//cnes//datasus_ftp\\2018\\base_de_dados_cnes_201810\\tbComissaoOutro201810.parquet.gzip\n",
      "Saved as Parquet: I://base_de_dados//datasus//cnes//datasus_ftp\\2018\\base_de_dados_cnes_201810\\tbConselhoClasse201810.parquet.gzip\n",
      "Saved as Parquet: I://base_de_dados//datasus//cnes//datasus_ftp\\2018\\base_de_dados_cnes_201810\\tbConvenio201810.parquet.gzip\n",
      "Saved as Parquet: I://base_de_dados//datasus//cnes//datasus_ftp\\2018\\base_de_dados_cnes_201810\\tbDadosProfissionalSus201810.parquet.gzip\n",
      "Saved as Parquet: I://base_de_dados//datasus//cnes//datasus_ftp\\2018\\base_de_dados_cnes_201810\\tbDialise201810.parquet.gzip\n",
      "Saved as Parquet: I://base_de_dados//datasus//cnes//datasus_ftp\\2018\\base_de_dados_cnes_201810\\tbEquipamento201810.parquet.gzip\n",
      "Saved as Parquet: I://base_de_dados//datasus//cnes//datasus_ftp\\2018\\base_de_dados_cnes_201810\\tbEquipe201810.parquet.gzip\n",
      "Saved as Parquet: I://base_de_dados//datasus//cnes//datasus_ftp\\2018\\base_de_dados_cnes_201810\\tbEquipeAtendCompl201810.parquet.gzip\n",
      "Saved as Parquet: I://base_de_dados//datasus//cnes//datasus_ftp\\2018\\base_de_dados_cnes_201810\\tbEquipeChDifer201810.parquet.gzip\n",
      "Saved as Parquet: I://base_de_dados//datasus//cnes//datasus_ftp\\2018\\base_de_dados_cnes_201810\\tbEstabAtivSecundaria201810.parquet.gzip\n",
      "Saved as Parquet: I://base_de_dados//datasus//cnes//datasus_ftp\\2018\\base_de_dados_cnes_201810\\tbEstabContrato201810.parquet.gzip\n"
     ]
    },
    {
     "name": "stderr",
     "output_type": "stream",
     "text": [
      "C:\\Users\\erick\\AppData\\Local\\Temp\\ipykernel_18324\\463220216.py:31: DtypeWarning: Columns (15,36,45) have mixed types. Specify dtype option on import or set low_memory=False.\n",
      "  df = pd.read_csv(csv_path, sep=';')\n"
     ]
    },
    {
     "name": "stdout",
     "output_type": "stream",
     "text": [
      "Saved as Parquet: I://base_de_dados//datasus//cnes//datasus_ftp\\2018\\base_de_dados_cnes_201810\\tbEstabelecimento201810.parquet.gzip\n",
      "Saved as Parquet: I://base_de_dados//datasus//cnes//datasus_ftp\\2018\\base_de_dados_cnes_201810\\tbEstabHorarioAtend201810.parquet.gzip\n",
      "Saved as Parquet: I://base_de_dados//datasus//cnes//datasus_ftp\\2018\\base_de_dados_cnes_201810\\tbEstado201810.parquet.gzip\n",
      "Saved as Parquet: I://base_de_dados//datasus//cnes//datasus_ftp\\2018\\base_de_dados_cnes_201810\\tbEtnia201810.parquet.gzip\n",
      "Saved as Parquet: I://base_de_dados//datasus//cnes//datasus_ftp\\2018\\base_de_dados_cnes_201810\\tbFluxoDadosClientela201810.parquet.gzip\n",
      "Saved as Parquet: I://base_de_dados//datasus//cnes//datasus_ftp\\2018\\base_de_dados_cnes_201810\\tbGestao201810.parquet.gzip\n",
      "Saved as Parquet: I://base_de_dados//datasus//cnes//datasus_ftp\\2018\\base_de_dados_cnes_201810\\tbGrupoAtividade201810.parquet.gzip\n",
      "Saved as Parquet: I://base_de_dados//datasus//cnes//datasus_ftp\\2018\\base_de_dados_cnes_201810\\tbGrupoEquipe201810.parquet.gzip\n",
      "Saved as Parquet: I://base_de_dados//datasus//cnes//datasus_ftp\\2018\\base_de_dados_cnes_201810\\tbHemoterapia201810.parquet.gzip\n",
      "Saved as Parquet: I://base_de_dados//datasus//cnes//datasus_ftp\\2018\\base_de_dados_cnes_201810\\tbIncentivos201810.parquet.gzip\n",
      "Saved as Parquet: I://base_de_dados//datasus//cnes//datasus_ftp\\2018\\base_de_dados_cnes_201810\\tbInstalFisicaParaAssist201810.parquet.gzip\n",
      "Saved as Parquet: I://base_de_dados//datasus//cnes//datasus_ftp\\2018\\base_de_dados_cnes_201810\\tbInstituicaoAvaliadora201810.parquet.gzip\n",
      "Saved as Parquet: I://base_de_dados//datasus//cnes//datasus_ftp\\2018\\base_de_dados_cnes_201810\\tbLeito201810.parquet.gzip\n",
      "Saved as Parquet: I://base_de_dados//datasus//cnes//datasus_ftp\\2018\\base_de_dados_cnes_201810\\tbMantenedora201810.parquet.gzip\n",
      "Saved as Parquet: I://base_de_dados//datasus//cnes//datasus_ftp\\2018\\base_de_dados_cnes_201810\\tbModVinculo201810.parquet.gzip\n",
      "Saved as Parquet: I://base_de_dados//datasus//cnes//datasus_ftp\\2018\\base_de_dados_cnes_201810\\tbMotivoDesativacao201810.parquet.gzip\n",
      "Saved as Parquet: I://base_de_dados//datasus//cnes//datasus_ftp\\2018\\base_de_dados_cnes_201810\\tbMotivoDesativEquipe201810.parquet.gzip\n",
      "Saved as Parquet: I://base_de_dados//datasus//cnes//datasus_ftp\\2018\\base_de_dados_cnes_201810\\tbMunicipio201810.parquet.gzip\n",
      "Saved as Parquet: I://base_de_dados//datasus//cnes//datasus_ftp\\2018\\base_de_dados_cnes_201810\\tbNaturezaJuridica201810.parquet.gzip\n",
      "Saved as Parquet: I://base_de_dados//datasus//cnes//datasus_ftp\\2018\\base_de_dados_cnes_201810\\tbOrgaoEmissor201810.parquet.gzip\n",
      "Saved as Parquet: I://base_de_dados//datasus//cnes//datasus_ftp\\2018\\base_de_dados_cnes_201810\\tbProfResidencia201810.parquet.gzip\n",
      "Saved as Parquet: I://base_de_dados//datasus//cnes//datasus_ftp\\2018\\base_de_dados_cnes_201810\\tbQuimioRadio201810.parquet.gzip\n",
      "Saved as Parquet: I://base_de_dados//datasus//cnes//datasus_ftp\\2018\\base_de_dados_cnes_201810\\tbResidenciaMed201810.parquet.gzip\n",
      "Saved as Parquet: I://base_de_dados//datasus//cnes//datasus_ftp\\2018\\base_de_dados_cnes_201810\\tbSegmento201810.parquet.gzip\n",
      "Saved as Parquet: I://base_de_dados//datasus//cnes//datasus_ftp\\2018\\base_de_dados_cnes_201810\\tbServicoApoio201810.parquet.gzip\n",
      "Saved as Parquet: I://base_de_dados//datasus//cnes//datasus_ftp\\2018\\base_de_dados_cnes_201810\\tbServicoEspecializado201810.parquet.gzip\n",
      "Saved as Parquet: I://base_de_dados//datasus//cnes//datasus_ftp\\2018\\base_de_dados_cnes_201810\\tbServicoReferenciado201810.parquet.gzip\n",
      "Saved as Parquet: I://base_de_dados//datasus//cnes//datasus_ftp\\2018\\base_de_dados_cnes_201810\\tbSubGruposHabilitacao201810.parquet.gzip\n",
      "Saved as Parquet: I://base_de_dados//datasus//cnes//datasus_ftp\\2018\\base_de_dados_cnes_201810\\tbSubTipo201810.parquet.gzip\n",
      "Saved as Parquet: I://base_de_dados//datasus//cnes//datasus_ftp\\2018\\base_de_dados_cnes_201810\\tbSubTipoEquipe201810.parquet.gzip\n",
      "Saved as Parquet: I://base_de_dados//datasus//cnes//datasus_ftp\\2018\\base_de_dados_cnes_201810\\tbSubtipoInstalacao201810.parquet.gzip\n",
      "Saved as Parquet: I://base_de_dados//datasus//cnes//datasus_ftp\\2018\\base_de_dados_cnes_201810\\tbSubTpModVinculo201810.parquet.gzip\n",
      "Saved as Parquet: I://base_de_dados//datasus//cnes//datasus_ftp\\2018\\base_de_dados_cnes_201810\\tbTipoCertidao201810.parquet.gzip\n",
      "Saved as Parquet: I://base_de_dados//datasus//cnes//datasus_ftp\\2018\\base_de_dados_cnes_201810\\tbTipoCgDifer201810.parquet.gzip\n",
      "Saved as Parquet: I://base_de_dados//datasus//cnes//datasus_ftp\\2018\\base_de_dados_cnes_201810\\tbTipoEqSubTipo201810.parquet.gzip\n",
      "Saved as Parquet: I://base_de_dados//datasus//cnes//datasus_ftp\\2018\\base_de_dados_cnes_201810\\tbTipoEquipamento201810.parquet.gzip\n",
      "Saved as Parquet: I://base_de_dados//datasus//cnes//datasus_ftp\\2018\\base_de_dados_cnes_201810\\tbTipoEquipe201810.parquet.gzip\n",
      "Saved as Parquet: I://base_de_dados//datasus//cnes//datasus_ftp\\2018\\base_de_dados_cnes_201810\\tbTipoEscolaridade201810.parquet.gzip\n",
      "Saved as Parquet: I://base_de_dados//datasus//cnes//datasus_ftp\\2018\\base_de_dados_cnes_201810\\tbTipoEstabelecimento201810.parquet.gzip\n",
      "Saved as Parquet: I://base_de_dados//datasus//cnes//datasus_ftp\\2018\\base_de_dados_cnes_201810\\tbTipoServicoReferenciado201810.parquet.gzip\n",
      "Saved as Parquet: I://base_de_dados//datasus//cnes//datasus_ftp\\2018\\base_de_dados_cnes_201810\\tbTipoUnidade201810.parquet.gzip\n",
      "Saved as Parquet: I://base_de_dados//datasus//cnes//datasus_ftp\\2018\\base_de_dados_cnes_201810\\tbTpModVinculo201810.parquet.gzip\n",
      "Saved as Parquet: I://base_de_dados//datasus//cnes//datasus_ftp\\2018\\base_de_dados_cnes_201810\\tbTurnoAtendimento201810.parquet.gzip\n",
      "Month Folder: base_de_dados_cnes_201811\n",
      "Saved as Parquet: I://base_de_dados//datasus//cnes//datasus_ftp\\2018\\base_de_dados_cnes_201811\\rlAdmGerenciaCnes201811.parquet.gzip\n",
      "Saved as Parquet: I://base_de_dados//datasus//cnes//datasus_ftp\\2018\\base_de_dados_cnes_201811\\rlAtividadeObrigatoria201811.parquet.gzip\n",
      "Saved as Parquet: I://base_de_dados//datasus//cnes//datasus_ftp\\2018\\base_de_dados_cnes_201811\\rlCooperativa201811.parquet.gzip\n",
      "Saved as Parquet: I://base_de_dados//datasus//cnes//datasus_ftp\\2018\\base_de_dados_cnes_201811\\rlEquipeNasfEsf201811.parquet.gzip\n"
     ]
    },
    {
     "name": "stderr",
     "output_type": "stream",
     "text": [
      "C:\\Users\\erick\\AppData\\Local\\Temp\\ipykernel_18324\\463220216.py:31: DtypeWarning: Columns (0) have mixed types. Specify dtype option on import or set low_memory=False.\n",
      "  df = pd.read_csv(csv_path, sep=';')\n"
     ]
    },
    {
     "name": "stdout",
     "output_type": "stream",
     "text": [
      "Saved as Parquet: I://base_de_dados//datasus//cnes//datasus_ftp\\2018\\base_de_dados_cnes_201811\\rlEstabAtendPrestConv201811.parquet.gzip\n",
      "Saved as Parquet: I://base_de_dados//datasus//cnes//datasus_ftp\\2018\\base_de_dados_cnes_201811\\rlEstabAtenPsico201811.parquet.gzip\n",
      "Saved as Parquet: I://base_de_dados//datasus//cnes//datasus_ftp\\2018\\base_de_dados_cnes_201811\\rlEstabAvaliacao201811.parquet.gzip\n",
      "Saved as Parquet: I://base_de_dados//datasus//cnes//datasus_ftp\\2018\\base_de_dados_cnes_201811\\rlEstabCentralReg201811.parquet.gzip\n",
      "Saved as Parquet: I://base_de_dados//datasus//cnes//datasus_ftp\\2018\\base_de_dados_cnes_201811\\rlEstabColetaSelRejeito201811.parquet.gzip\n",
      "Saved as Parquet: I://base_de_dados//datasus//cnes//datasus_ftp\\2018\\base_de_dados_cnes_201811\\rlEstabComissaoOutro201811.parquet.gzip\n",
      "Saved as Parquet: I://base_de_dados//datasus//cnes//datasus_ftp\\2018\\base_de_dados_cnes_201811\\rlEstabComplementar201811.parquet.gzip\n",
      "Saved as Parquet: I://base_de_dados//datasus//cnes//datasus_ftp\\2018\\base_de_dados_cnes_201811\\rlEstabEndCompl201811.parquet.gzip\n",
      "Saved as Parquet: I://base_de_dados//datasus//cnes//datasus_ftp\\2018\\base_de_dados_cnes_201811\\rlEstabEqpEmbarcacao201811.parquet.gzip\n",
      "Saved as Parquet: I://base_de_dados//datasus//cnes//datasus_ftp\\2018\\base_de_dados_cnes_201811\\rlEstabEqpUnidApoio201811.parquet.gzip\n"
     ]
    },
    {
     "name": "stderr",
     "output_type": "stream",
     "text": [
      "C:\\Users\\erick\\AppData\\Local\\Temp\\ipykernel_18324\\463220216.py:31: DtypeWarning: Columns (0) have mixed types. Specify dtype option on import or set low_memory=False.\n",
      "  df = pd.read_csv(csv_path, sep=';')\n"
     ]
    },
    {
     "name": "stdout",
     "output_type": "stream",
     "text": [
      "Saved as Parquet: I://base_de_dados//datasus//cnes//datasus_ftp\\2018\\base_de_dados_cnes_201811\\rlEstabEquipamento201811.parquet.gzip\n",
      "Saved as Parquet: I://base_de_dados//datasus//cnes//datasus_ftp\\2018\\base_de_dados_cnes_201811\\rlEstabEquipeMun201811.parquet.gzip\n"
     ]
    },
    {
     "name": "stderr",
     "output_type": "stream",
     "text": [
      "C:\\Users\\erick\\AppData\\Local\\Temp\\ipykernel_18324\\463220216.py:31: DtypeWarning: Columns (14) have mixed types. Specify dtype option on import or set low_memory=False.\n",
      "  df = pd.read_csv(csv_path, sep=';')\n"
     ]
    },
    {
     "name": "stdout",
     "output_type": "stream",
     "text": [
      "Saved as Parquet: I://base_de_dados//datasus//cnes//datasus_ftp\\2018\\base_de_dados_cnes_201811\\rlEstabEquipeProf201811.parquet.gzip\n",
      "Saved as Parquet: I://base_de_dados//datasus//cnes//datasus_ftp\\2018\\base_de_dados_cnes_201811\\rlEstabInstFisiAssist201811.parquet.gzip\n",
      "Saved as Parquet: I://base_de_dados//datasus//cnes//datasus_ftp\\2018\\base_de_dados_cnes_201811\\rlEstabOrgParc201811.parquet.gzip\n",
      "Saved as Parquet: I://base_de_dados//datasus//cnes//datasus_ftp\\2018\\base_de_dados_cnes_201811\\rlEstabPoloAldeia201811.parquet.gzip\n",
      "Saved as Parquet: I://base_de_dados//datasus//cnes//datasus_ftp\\2018\\base_de_dados_cnes_201811\\rlEstabProfComissao201811.parquet.gzip\n",
      "Saved as Parquet: I://base_de_dados//datasus//cnes//datasus_ftp\\2018\\base_de_dados_cnes_201811\\rlEstabProgFundo201811.parquet.gzip\n",
      "Saved as Parquet: I://base_de_dados//datasus//cnes//datasus_ftp\\2018\\base_de_dados_cnes_201811\\rlEstabRegimeRes201811.parquet.gzip\n",
      "Saved as Parquet: I://base_de_dados//datasus//cnes//datasus_ftp\\2018\\base_de_dados_cnes_201811\\rlEstabRepresentante201811.parquet.gzip\n",
      "Saved as Parquet: I://base_de_dados//datasus//cnes//datasus_ftp\\2018\\base_de_dados_cnes_201811\\rlEstabSamu201811.parquet.gzip\n"
     ]
    },
    {
     "name": "stderr",
     "output_type": "stream",
     "text": [
      "C:\\Users\\erick\\AppData\\Local\\Temp\\ipykernel_18324\\463220216.py:31: DtypeWarning: Columns (0,10) have mixed types. Specify dtype option on import or set low_memory=False.\n",
      "  df = pd.read_csv(csv_path, sep=';')\n"
     ]
    },
    {
     "name": "stdout",
     "output_type": "stream",
     "text": [
      "Saved as Parquet: I://base_de_dados//datasus//cnes//datasus_ftp\\2018\\base_de_dados_cnes_201811\\rlEstabServClass201811.parquet.gzip\n"
     ]
    },
    {
     "name": "stderr",
     "output_type": "stream",
     "text": [
      "C:\\Users\\erick\\AppData\\Local\\Temp\\ipykernel_18324\\463220216.py:31: DtypeWarning: Columns (2) have mixed types. Specify dtype option on import or set low_memory=False.\n",
      "  df = pd.read_csv(csv_path, sep=';')\n"
     ]
    },
    {
     "name": "stdout",
     "output_type": "stream",
     "text": [
      "Saved as Parquet: I://base_de_dados//datasus//cnes//datasus_ftp\\2018\\base_de_dados_cnes_201811\\rlEstabServicoApoio201811.parquet.gzip\n",
      "Saved as Parquet: I://base_de_dados//datasus//cnes//datasus_ftp\\2018\\base_de_dados_cnes_201811\\rlEstabSipac201811.parquet.gzip\n",
      "Saved as Parquet: I://base_de_dados//datasus//cnes//datasus_ftp\\2018\\base_de_dados_cnes_201811\\rlEstabSubTipo201811.parquet.gzip\n",
      "Saved as Parquet: I://base_de_dados//datasus//cnes//datasus_ftp\\2018\\base_de_dados_cnes_201811\\rlEstabTeleCnes201811.parquet.gzip\n",
      "Saved as Parquet: I://base_de_dados//datasus//cnes//datasus_ftp\\2018\\base_de_dados_cnes_201811\\rlEstabUnidAcolhim201811.parquet.gzip\n",
      "Saved as Parquet: I://base_de_dados//datasus//cnes//datasus_ftp\\2018\\base_de_dados_cnes_201811\\rlMunAtenPsico201811.parquet.gzip\n",
      "Saved as Parquet: I://base_de_dados//datasus//cnes//datasus_ftp\\2018\\base_de_dados_cnes_201811\\rlMunRegimeRes201811.parquet.gzip\n",
      "Saved as Parquet: I://base_de_dados//datasus//cnes//datasus_ftp\\2018\\base_de_dados_cnes_201811\\rlMunUnidAcolhim201811.parquet.gzip\n",
      "Saved as Parquet: I://base_de_dados//datasus//cnes//datasus_ftp\\2018\\base_de_dados_cnes_201811\\rlNasfEsf201811.parquet.gzip\n",
      "Saved as Parquet: I://base_de_dados//datasus//cnes//datasus_ftp\\2018\\base_de_dados_cnes_201811\\rlTipoEstabAtividade201811.parquet.gzip\n",
      "Saved as Parquet: I://base_de_dados//datasus//cnes//datasus_ftp\\2018\\base_de_dados_cnes_201811\\tbArea201811.parquet.gzip\n",
      "Saved as Parquet: I://base_de_dados//datasus//cnes//datasus_ftp\\2018\\base_de_dados_cnes_201811\\tbAtendimentoPrestado201811.parquet.gzip\n",
      "Saved as Parquet: I://base_de_dados//datasus//cnes//datasus_ftp\\2018\\base_de_dados_cnes_201811\\tbAtividade201811.parquet.gzip\n",
      "Saved as Parquet: I://base_de_dados//datasus//cnes//datasus_ftp\\2018\\base_de_dados_cnes_201811\\tbAtividadeEnsino201811.parquet.gzip\n",
      "Saved as Parquet: I://base_de_dados//datasus//cnes//datasus_ftp\\2018\\base_de_dados_cnes_201811\\tbAtividadeProfissional201811.parquet.gzip\n",
      "Saved as Parquet: I://base_de_dados//datasus//cnes//datasus_ftp\\2018\\base_de_dados_cnes_201811\\tbAtributo201811.parquet.gzip\n",
      "Saved as Parquet: I://base_de_dados//datasus//cnes//datasus_ftp\\2018\\base_de_dados_cnes_201811\\tbAvaliacao201811.parquet.gzip\n",
      "Saved as Parquet: I://base_de_dados//datasus//cnes//datasus_ftp\\2018\\base_de_dados_cnes_201811\\tbBanco201811.parquet.gzip\n"
     ]
    },
    {
     "name": "stderr",
     "output_type": "stream",
     "text": [
      "C:\\Users\\erick\\AppData\\Local\\Temp\\ipykernel_18324\\463220216.py:31: DtypeWarning: Columns (0,12) have mixed types. Specify dtype option on import or set low_memory=False.\n",
      "  df = pd.read_csv(csv_path, sep=';')\n"
     ]
    },
    {
     "name": "stdout",
     "output_type": "stream",
     "text": [
      "Saved as Parquet: I://base_de_dados//datasus//cnes//datasus_ftp\\2018\\base_de_dados_cnes_201811\\tbCargaHorariaSus201811.parquet.gzip\n",
      "Saved as Parquet: I://base_de_dados//datasus//cnes//datasus_ftp\\2018\\base_de_dados_cnes_201811\\tbClassificacaoAval201811.parquet.gzip\n",
      "Saved as Parquet: I://base_de_dados//datasus//cnes//datasus_ftp\\2018\\base_de_dados_cnes_201811\\tbClassificacaoServico201811.parquet.gzip\n",
      "Saved as Parquet: I://base_de_dados//datasus//cnes//datasus_ftp\\2018\\base_de_dados_cnes_201811\\tbColetaSeletivaRejeito201811.parquet.gzip\n",
      "Saved as Parquet: I://base_de_dados//datasus//cnes//datasus_ftp\\2018\\base_de_dados_cnes_201811\\tbComissaoOutro201811.parquet.gzip\n",
      "Saved as Parquet: I://base_de_dados//datasus//cnes//datasus_ftp\\2018\\base_de_dados_cnes_201811\\tbConselhoClasse201811.parquet.gzip\n",
      "Saved as Parquet: I://base_de_dados//datasus//cnes//datasus_ftp\\2018\\base_de_dados_cnes_201811\\tbConvenio201811.parquet.gzip\n"
     ]
    },
    {
     "name": "stderr",
     "output_type": "stream",
     "text": [
      "C:\\Users\\erick\\AppData\\Local\\Temp\\ipykernel_18324\\463220216.py:31: DtypeWarning: Columns (9) have mixed types. Specify dtype option on import or set low_memory=False.\n",
      "  df = pd.read_csv(csv_path, sep=';')\n"
     ]
    },
    {
     "name": "stdout",
     "output_type": "stream",
     "text": [
      "Saved as Parquet: I://base_de_dados//datasus//cnes//datasus_ftp\\2018\\base_de_dados_cnes_201811\\tbDadosProfissionalSus201811.parquet.gzip\n",
      "Saved as Parquet: I://base_de_dados//datasus//cnes//datasus_ftp\\2018\\base_de_dados_cnes_201811\\tbDialise201811.parquet.gzip\n",
      "Saved as Parquet: I://base_de_dados//datasus//cnes//datasus_ftp\\2018\\base_de_dados_cnes_201811\\tbEquipamento201811.parquet.gzip\n",
      "Saved as Parquet: I://base_de_dados//datasus//cnes//datasus_ftp\\2018\\base_de_dados_cnes_201811\\tbEquipe201811.parquet.gzip\n",
      "Saved as Parquet: I://base_de_dados//datasus//cnes//datasus_ftp\\2018\\base_de_dados_cnes_201811\\tbEquipeAtendCompl201811.parquet.gzip\n",
      "Saved as Parquet: I://base_de_dados//datasus//cnes//datasus_ftp\\2018\\base_de_dados_cnes_201811\\tbEquipeChDifer201811.parquet.gzip\n",
      "Saved as Parquet: I://base_de_dados//datasus//cnes//datasus_ftp\\2018\\base_de_dados_cnes_201811\\tbEstabAtivSecundaria201811.parquet.gzip\n",
      "Saved as Parquet: I://base_de_dados//datasus//cnes//datasus_ftp\\2018\\base_de_dados_cnes_201811\\tbEstabContrato201811.parquet.gzip\n"
     ]
    },
    {
     "name": "stderr",
     "output_type": "stream",
     "text": [
      "C:\\Users\\erick\\AppData\\Local\\Temp\\ipykernel_18324\\463220216.py:31: DtypeWarning: Columns (0,15,45) have mixed types. Specify dtype option on import or set low_memory=False.\n",
      "  df = pd.read_csv(csv_path, sep=';')\n"
     ]
    },
    {
     "name": "stdout",
     "output_type": "stream",
     "text": [
      "Saved as Parquet: I://base_de_dados//datasus//cnes//datasus_ftp\\2018\\base_de_dados_cnes_201811\\tbEstabelecimento201811.parquet.gzip\n",
      "Saved as Parquet: I://base_de_dados//datasus//cnes//datasus_ftp\\2018\\base_de_dados_cnes_201811\\tbEstabHorarioAtend201811.parquet.gzip\n",
      "Saved as Parquet: I://base_de_dados//datasus//cnes//datasus_ftp\\2018\\base_de_dados_cnes_201811\\tbEstado201811.parquet.gzip\n",
      "Saved as Parquet: I://base_de_dados//datasus//cnes//datasus_ftp\\2018\\base_de_dados_cnes_201811\\tbEtnia201811.parquet.gzip\n",
      "Saved as Parquet: I://base_de_dados//datasus//cnes//datasus_ftp\\2018\\base_de_dados_cnes_201811\\tbFluxoDadosClientela201811.parquet.gzip\n",
      "Saved as Parquet: I://base_de_dados//datasus//cnes//datasus_ftp\\2018\\base_de_dados_cnes_201811\\tbGestao201811.parquet.gzip\n",
      "Saved as Parquet: I://base_de_dados//datasus//cnes//datasus_ftp\\2018\\base_de_dados_cnes_201811\\tbGrupoAtividade201811.parquet.gzip\n",
      "Saved as Parquet: I://base_de_dados//datasus//cnes//datasus_ftp\\2018\\base_de_dados_cnes_201811\\tbGrupoEquipe201811.parquet.gzip\n",
      "Saved as Parquet: I://base_de_dados//datasus//cnes//datasus_ftp\\2018\\base_de_dados_cnes_201811\\tbHemoterapia201811.parquet.gzip\n",
      "Saved as Parquet: I://base_de_dados//datasus//cnes//datasus_ftp\\2018\\base_de_dados_cnes_201811\\tbIncentivos201811.parquet.gzip\n",
      "Saved as Parquet: I://base_de_dados//datasus//cnes//datasus_ftp\\2018\\base_de_dados_cnes_201811\\tbInstalFisicaParaAssist201811.parquet.gzip\n",
      "Saved as Parquet: I://base_de_dados//datasus//cnes//datasus_ftp\\2018\\base_de_dados_cnes_201811\\tbInstituicaoAvaliadora201811.parquet.gzip\n",
      "Saved as Parquet: I://base_de_dados//datasus//cnes//datasus_ftp\\2018\\base_de_dados_cnes_201811\\tbLeito201811.parquet.gzip\n",
      "Saved as Parquet: I://base_de_dados//datasus//cnes//datasus_ftp\\2018\\base_de_dados_cnes_201811\\tbMantenedora201811.parquet.gzip\n",
      "Saved as Parquet: I://base_de_dados//datasus//cnes//datasus_ftp\\2018\\base_de_dados_cnes_201811\\tbModVinculo201811.parquet.gzip\n",
      "Saved as Parquet: I://base_de_dados//datasus//cnes//datasus_ftp\\2018\\base_de_dados_cnes_201811\\tbMotivoDesativacao201811.parquet.gzip\n",
      "Saved as Parquet: I://base_de_dados//datasus//cnes//datasus_ftp\\2018\\base_de_dados_cnes_201811\\tbMotivoDesativEquipe201811.parquet.gzip\n",
      "Saved as Parquet: I://base_de_dados//datasus//cnes//datasus_ftp\\2018\\base_de_dados_cnes_201811\\tbMunicipio201811.parquet.gzip\n",
      "Saved as Parquet: I://base_de_dados//datasus//cnes//datasus_ftp\\2018\\base_de_dados_cnes_201811\\tbNaturezaJuridica201811.parquet.gzip\n",
      "Saved as Parquet: I://base_de_dados//datasus//cnes//datasus_ftp\\2018\\base_de_dados_cnes_201811\\tbOrgaoEmissor201811.parquet.gzip\n",
      "Saved as Parquet: I://base_de_dados//datasus//cnes//datasus_ftp\\2018\\base_de_dados_cnes_201811\\tbProfResidencia201811.parquet.gzip\n",
      "Saved as Parquet: I://base_de_dados//datasus//cnes//datasus_ftp\\2018\\base_de_dados_cnes_201811\\tbQuimioRadio201811.parquet.gzip\n",
      "Saved as Parquet: I://base_de_dados//datasus//cnes//datasus_ftp\\2018\\base_de_dados_cnes_201811\\tbResidenciaMed201811.parquet.gzip\n",
      "Saved as Parquet: I://base_de_dados//datasus//cnes//datasus_ftp\\2018\\base_de_dados_cnes_201811\\tbSegmento201811.parquet.gzip\n",
      "Saved as Parquet: I://base_de_dados//datasus//cnes//datasus_ftp\\2018\\base_de_dados_cnes_201811\\tbServicoApoio201811.parquet.gzip\n",
      "Saved as Parquet: I://base_de_dados//datasus//cnes//datasus_ftp\\2018\\base_de_dados_cnes_201811\\tbServicoEspecializado201811.parquet.gzip\n",
      "Saved as Parquet: I://base_de_dados//datasus//cnes//datasus_ftp\\2018\\base_de_dados_cnes_201811\\tbServicoReferenciado201811.parquet.gzip\n",
      "Saved as Parquet: I://base_de_dados//datasus//cnes//datasus_ftp\\2018\\base_de_dados_cnes_201811\\tbSubGruposHabilitacao201811.parquet.gzip\n",
      "Saved as Parquet: I://base_de_dados//datasus//cnes//datasus_ftp\\2018\\base_de_dados_cnes_201811\\tbSubTipo201811.parquet.gzip\n",
      "Saved as Parquet: I://base_de_dados//datasus//cnes//datasus_ftp\\2018\\base_de_dados_cnes_201811\\tbSubTipoEquipe201811.parquet.gzip\n",
      "Saved as Parquet: I://base_de_dados//datasus//cnes//datasus_ftp\\2018\\base_de_dados_cnes_201811\\tbSubtipoInstalacao201811.parquet.gzip\n",
      "Saved as Parquet: I://base_de_dados//datasus//cnes//datasus_ftp\\2018\\base_de_dados_cnes_201811\\tbSubTpModVinculo201811.parquet.gzip\n",
      "Saved as Parquet: I://base_de_dados//datasus//cnes//datasus_ftp\\2018\\base_de_dados_cnes_201811\\tbTipoCertidao201811.parquet.gzip\n",
      "Saved as Parquet: I://base_de_dados//datasus//cnes//datasus_ftp\\2018\\base_de_dados_cnes_201811\\tbTipoCgDifer201811.parquet.gzip\n",
      "Saved as Parquet: I://base_de_dados//datasus//cnes//datasus_ftp\\2018\\base_de_dados_cnes_201811\\tbTipoEqSubTipo201811.parquet.gzip\n",
      "Saved as Parquet: I://base_de_dados//datasus//cnes//datasus_ftp\\2018\\base_de_dados_cnes_201811\\tbTipoEquipamento201811.parquet.gzip\n",
      "Saved as Parquet: I://base_de_dados//datasus//cnes//datasus_ftp\\2018\\base_de_dados_cnes_201811\\tbTipoEquipe201811.parquet.gzip\n",
      "Saved as Parquet: I://base_de_dados//datasus//cnes//datasus_ftp\\2018\\base_de_dados_cnes_201811\\tbTipoEscolaridade201811.parquet.gzip\n",
      "Saved as Parquet: I://base_de_dados//datasus//cnes//datasus_ftp\\2018\\base_de_dados_cnes_201811\\tbTipoEstabelecimento201811.parquet.gzip\n",
      "Saved as Parquet: I://base_de_dados//datasus//cnes//datasus_ftp\\2018\\base_de_dados_cnes_201811\\tbTipoServicoReferenciado201811.parquet.gzip\n",
      "Saved as Parquet: I://base_de_dados//datasus//cnes//datasus_ftp\\2018\\base_de_dados_cnes_201811\\tbTipoUnidade201811.parquet.gzip\n",
      "Saved as Parquet: I://base_de_dados//datasus//cnes//datasus_ftp\\2018\\base_de_dados_cnes_201811\\tbTpModVinculo201811.parquet.gzip\n",
      "Saved as Parquet: I://base_de_dados//datasus//cnes//datasus_ftp\\2018\\base_de_dados_cnes_201811\\tbTurnoAtendimento201811.parquet.gzip\n",
      "Month Folder: base_de_dados_cnes_201812\n",
      "Saved as Parquet: I://base_de_dados//datasus//cnes//datasus_ftp\\2018\\base_de_dados_cnes_201812\\rlAdmGerenciaCnes201812.parquet.gzip\n",
      "Saved as Parquet: I://base_de_dados//datasus//cnes//datasus_ftp\\2018\\base_de_dados_cnes_201812\\rlAtividadeObrigatoria201812.parquet.gzip\n",
      "Saved as Parquet: I://base_de_dados//datasus//cnes//datasus_ftp\\2018\\base_de_dados_cnes_201812\\rlCooperativa201812.parquet.gzip\n",
      "Saved as Parquet: I://base_de_dados//datasus//cnes//datasus_ftp\\2018\\base_de_dados_cnes_201812\\rlEquipeNasfEsf201812.parquet.gzip\n"
     ]
    },
    {
     "name": "stderr",
     "output_type": "stream",
     "text": [
      "C:\\Users\\erick\\AppData\\Local\\Temp\\ipykernel_18324\\463220216.py:31: DtypeWarning: Columns (0) have mixed types. Specify dtype option on import or set low_memory=False.\n",
      "  df = pd.read_csv(csv_path, sep=';')\n"
     ]
    },
    {
     "name": "stdout",
     "output_type": "stream",
     "text": [
      "Saved as Parquet: I://base_de_dados//datasus//cnes//datasus_ftp\\2018\\base_de_dados_cnes_201812\\rlEstabAtendPrestConv201812.parquet.gzip\n",
      "Saved as Parquet: I://base_de_dados//datasus//cnes//datasus_ftp\\2018\\base_de_dados_cnes_201812\\rlEstabAtenPsico201812.parquet.gzip\n",
      "Saved as Parquet: I://base_de_dados//datasus//cnes//datasus_ftp\\2018\\base_de_dados_cnes_201812\\rlEstabAvaliacao201812.parquet.gzip\n",
      "Saved as Parquet: I://base_de_dados//datasus//cnes//datasus_ftp\\2018\\base_de_dados_cnes_201812\\rlEstabCentralReg201812.parquet.gzip\n",
      "Saved as Parquet: I://base_de_dados//datasus//cnes//datasus_ftp\\2018\\base_de_dados_cnes_201812\\rlEstabColetaSelRejeito201812.parquet.gzip\n",
      "Saved as Parquet: I://base_de_dados//datasus//cnes//datasus_ftp\\2018\\base_de_dados_cnes_201812\\rlEstabComissaoOutro201812.parquet.gzip\n",
      "Saved as Parquet: I://base_de_dados//datasus//cnes//datasus_ftp\\2018\\base_de_dados_cnes_201812\\rlEstabComplementar201812.parquet.gzip\n",
      "Saved as Parquet: I://base_de_dados//datasus//cnes//datasus_ftp\\2018\\base_de_dados_cnes_201812\\rlEstabEndCompl201812.parquet.gzip\n",
      "Saved as Parquet: I://base_de_dados//datasus//cnes//datasus_ftp\\2018\\base_de_dados_cnes_201812\\rlEstabEqpEmbarcacao201812.parquet.gzip\n",
      "Saved as Parquet: I://base_de_dados//datasus//cnes//datasus_ftp\\2018\\base_de_dados_cnes_201812\\rlEstabEqpUnidApoio201812.parquet.gzip\n"
     ]
    },
    {
     "name": "stderr",
     "output_type": "stream",
     "text": [
      "C:\\Users\\erick\\AppData\\Local\\Temp\\ipykernel_18324\\463220216.py:31: DtypeWarning: Columns (0) have mixed types. Specify dtype option on import or set low_memory=False.\n",
      "  df = pd.read_csv(csv_path, sep=';')\n"
     ]
    },
    {
     "name": "stdout",
     "output_type": "stream",
     "text": [
      "Saved as Parquet: I://base_de_dados//datasus//cnes//datasus_ftp\\2018\\base_de_dados_cnes_201812\\rlEstabEquipamento201812.parquet.gzip\n",
      "Saved as Parquet: I://base_de_dados//datasus//cnes//datasus_ftp\\2018\\base_de_dados_cnes_201812\\rlEstabEquipeMun201812.parquet.gzip\n"
     ]
    },
    {
     "name": "stderr",
     "output_type": "stream",
     "text": [
      "C:\\Users\\erick\\AppData\\Local\\Temp\\ipykernel_18324\\463220216.py:31: DtypeWarning: Columns (14) have mixed types. Specify dtype option on import or set low_memory=False.\n",
      "  df = pd.read_csv(csv_path, sep=';')\n"
     ]
    },
    {
     "name": "stdout",
     "output_type": "stream",
     "text": [
      "Saved as Parquet: I://base_de_dados//datasus//cnes//datasus_ftp\\2018\\base_de_dados_cnes_201812\\rlEstabEquipeProf201812.parquet.gzip\n",
      "Saved as Parquet: I://base_de_dados//datasus//cnes//datasus_ftp\\2018\\base_de_dados_cnes_201812\\rlEstabInstFisiAssist201812.parquet.gzip\n",
      "Saved as Parquet: I://base_de_dados//datasus//cnes//datasus_ftp\\2018\\base_de_dados_cnes_201812\\rlEstabOrgParc201812.parquet.gzip\n",
      "Saved as Parquet: I://base_de_dados//datasus//cnes//datasus_ftp\\2018\\base_de_dados_cnes_201812\\rlEstabPoloAldeia201812.parquet.gzip\n",
      "Saved as Parquet: I://base_de_dados//datasus//cnes//datasus_ftp\\2018\\base_de_dados_cnes_201812\\rlEstabProfComissao201812.parquet.gzip\n",
      "Saved as Parquet: I://base_de_dados//datasus//cnes//datasus_ftp\\2018\\base_de_dados_cnes_201812\\rlEstabProgFundo201812.parquet.gzip\n",
      "Saved as Parquet: I://base_de_dados//datasus//cnes//datasus_ftp\\2018\\base_de_dados_cnes_201812\\rlEstabRegimeRes201812.parquet.gzip\n",
      "Saved as Parquet: I://base_de_dados//datasus//cnes//datasus_ftp\\2018\\base_de_dados_cnes_201812\\rlEstabRepresentante201812.parquet.gzip\n",
      "Saved as Parquet: I://base_de_dados//datasus//cnes//datasus_ftp\\2018\\base_de_dados_cnes_201812\\rlEstabSamu201812.parquet.gzip\n"
     ]
    },
    {
     "name": "stderr",
     "output_type": "stream",
     "text": [
      "C:\\Users\\erick\\AppData\\Local\\Temp\\ipykernel_18324\\463220216.py:31: DtypeWarning: Columns (0) have mixed types. Specify dtype option on import or set low_memory=False.\n",
      "  df = pd.read_csv(csv_path, sep=';')\n"
     ]
    },
    {
     "name": "stdout",
     "output_type": "stream",
     "text": [
      "Saved as Parquet: I://base_de_dados//datasus//cnes//datasus_ftp\\2018\\base_de_dados_cnes_201812\\rlEstabServClass201812.parquet.gzip\n"
     ]
    },
    {
     "name": "stderr",
     "output_type": "stream",
     "text": [
      "C:\\Users\\erick\\AppData\\Local\\Temp\\ipykernel_18324\\463220216.py:31: DtypeWarning: Columns (2) have mixed types. Specify dtype option on import or set low_memory=False.\n",
      "  df = pd.read_csv(csv_path, sep=';')\n"
     ]
    },
    {
     "name": "stdout",
     "output_type": "stream",
     "text": [
      "Saved as Parquet: I://base_de_dados//datasus//cnes//datasus_ftp\\2018\\base_de_dados_cnes_201812\\rlEstabServicoApoio201812.parquet.gzip\n",
      "Saved as Parquet: I://base_de_dados//datasus//cnes//datasus_ftp\\2018\\base_de_dados_cnes_201812\\rlEstabSipac201812.parquet.gzip\n",
      "Saved as Parquet: I://base_de_dados//datasus//cnes//datasus_ftp\\2018\\base_de_dados_cnes_201812\\rlEstabSubTipo201812.parquet.gzip\n",
      "Saved as Parquet: I://base_de_dados//datasus//cnes//datasus_ftp\\2018\\base_de_dados_cnes_201812\\rlEstabTeleCnes201812.parquet.gzip\n",
      "Saved as Parquet: I://base_de_dados//datasus//cnes//datasus_ftp\\2018\\base_de_dados_cnes_201812\\rlEstabUnidAcolhim201812.parquet.gzip\n",
      "Saved as Parquet: I://base_de_dados//datasus//cnes//datasus_ftp\\2018\\base_de_dados_cnes_201812\\rlMunAtenPsico201812.parquet.gzip\n",
      "Saved as Parquet: I://base_de_dados//datasus//cnes//datasus_ftp\\2018\\base_de_dados_cnes_201812\\rlMunRegimeRes201812.parquet.gzip\n",
      "Saved as Parquet: I://base_de_dados//datasus//cnes//datasus_ftp\\2018\\base_de_dados_cnes_201812\\rlMunUnidAcolhim201812.parquet.gzip\n",
      "Saved as Parquet: I://base_de_dados//datasus//cnes//datasus_ftp\\2018\\base_de_dados_cnes_201812\\rlNasfEsf201812.parquet.gzip\n",
      "Saved as Parquet: I://base_de_dados//datasus//cnes//datasus_ftp\\2018\\base_de_dados_cnes_201812\\rlTipoEstabAtividade201812.parquet.gzip\n",
      "Saved as Parquet: I://base_de_dados//datasus//cnes//datasus_ftp\\2018\\base_de_dados_cnes_201812\\tbArea201812.parquet.gzip\n",
      "Saved as Parquet: I://base_de_dados//datasus//cnes//datasus_ftp\\2018\\base_de_dados_cnes_201812\\tbAtendimentoPrestado201812.parquet.gzip\n",
      "Saved as Parquet: I://base_de_dados//datasus//cnes//datasus_ftp\\2018\\base_de_dados_cnes_201812\\tbAtividade201812.parquet.gzip\n",
      "Saved as Parquet: I://base_de_dados//datasus//cnes//datasus_ftp\\2018\\base_de_dados_cnes_201812\\tbAtividadeEnsino201812.parquet.gzip\n",
      "Saved as Parquet: I://base_de_dados//datasus//cnes//datasus_ftp\\2018\\base_de_dados_cnes_201812\\tbAtividadeProfissional201812.parquet.gzip\n",
      "Saved as Parquet: I://base_de_dados//datasus//cnes//datasus_ftp\\2018\\base_de_dados_cnes_201812\\tbAtributo201812.parquet.gzip\n",
      "Saved as Parquet: I://base_de_dados//datasus//cnes//datasus_ftp\\2018\\base_de_dados_cnes_201812\\tbAvaliacao201812.parquet.gzip\n",
      "Saved as Parquet: I://base_de_dados//datasus//cnes//datasus_ftp\\2018\\base_de_dados_cnes_201812\\tbBanco201812.parquet.gzip\n"
     ]
    },
    {
     "name": "stderr",
     "output_type": "stream",
     "text": [
      "C:\\Users\\erick\\AppData\\Local\\Temp\\ipykernel_18324\\463220216.py:31: DtypeWarning: Columns (0,12) have mixed types. Specify dtype option on import or set low_memory=False.\n",
      "  df = pd.read_csv(csv_path, sep=';')\n"
     ]
    },
    {
     "name": "stdout",
     "output_type": "stream",
     "text": [
      "Saved as Parquet: I://base_de_dados//datasus//cnes//datasus_ftp\\2018\\base_de_dados_cnes_201812\\tbCargaHorariaSus201812.parquet.gzip\n",
      "Saved as Parquet: I://base_de_dados//datasus//cnes//datasus_ftp\\2018\\base_de_dados_cnes_201812\\tbClassificacaoAval201812.parquet.gzip\n",
      "Saved as Parquet: I://base_de_dados//datasus//cnes//datasus_ftp\\2018\\base_de_dados_cnes_201812\\tbClassificacaoServico201812.parquet.gzip\n",
      "Saved as Parquet: I://base_de_dados//datasus//cnes//datasus_ftp\\2018\\base_de_dados_cnes_201812\\tbColetaSeletivaRejeito201812.parquet.gzip\n",
      "Saved as Parquet: I://base_de_dados//datasus//cnes//datasus_ftp\\2018\\base_de_dados_cnes_201812\\tbComissaoOutro201812.parquet.gzip\n",
      "Saved as Parquet: I://base_de_dados//datasus//cnes//datasus_ftp\\2018\\base_de_dados_cnes_201812\\tbConselhoClasse201812.parquet.gzip\n",
      "Saved as Parquet: I://base_de_dados//datasus//cnes//datasus_ftp\\2018\\base_de_dados_cnes_201812\\tbConvenio201812.parquet.gzip\n",
      "Saved as Parquet: I://base_de_dados//datasus//cnes//datasus_ftp\\2018\\base_de_dados_cnes_201812\\tbDadosProfissionalSus201812.parquet.gzip\n",
      "Saved as Parquet: I://base_de_dados//datasus//cnes//datasus_ftp\\2018\\base_de_dados_cnes_201812\\tbDialise201812.parquet.gzip\n",
      "Saved as Parquet: I://base_de_dados//datasus//cnes//datasus_ftp\\2018\\base_de_dados_cnes_201812\\tbEquipamento201812.parquet.gzip\n",
      "Saved as Parquet: I://base_de_dados//datasus//cnes//datasus_ftp\\2018\\base_de_dados_cnes_201812\\tbEquipe201812.parquet.gzip\n",
      "Saved as Parquet: I://base_de_dados//datasus//cnes//datasus_ftp\\2018\\base_de_dados_cnes_201812\\tbEquipeAtendCompl201812.parquet.gzip\n",
      "Saved as Parquet: I://base_de_dados//datasus//cnes//datasus_ftp\\2018\\base_de_dados_cnes_201812\\tbEquipeChDifer201812.parquet.gzip\n",
      "Saved as Parquet: I://base_de_dados//datasus//cnes//datasus_ftp\\2018\\base_de_dados_cnes_201812\\tbEstabAtivSecundaria201812.parquet.gzip\n",
      "Saved as Parquet: I://base_de_dados//datasus//cnes//datasus_ftp\\2018\\base_de_dados_cnes_201812\\tbEstabContrato201812.parquet.gzip\n"
     ]
    },
    {
     "name": "stderr",
     "output_type": "stream",
     "text": [
      "C:\\Users\\erick\\AppData\\Local\\Temp\\ipykernel_18324\\463220216.py:31: DtypeWarning: Columns (0,45) have mixed types. Specify dtype option on import or set low_memory=False.\n",
      "  df = pd.read_csv(csv_path, sep=';')\n"
     ]
    },
    {
     "name": "stdout",
     "output_type": "stream",
     "text": [
      "Saved as Parquet: I://base_de_dados//datasus//cnes//datasus_ftp\\2018\\base_de_dados_cnes_201812\\tbEstabelecimento201812.parquet.gzip\n",
      "Saved as Parquet: I://base_de_dados//datasus//cnes//datasus_ftp\\2018\\base_de_dados_cnes_201812\\tbEstabHorarioAtend201812.parquet.gzip\n",
      "Saved as Parquet: I://base_de_dados//datasus//cnes//datasus_ftp\\2018\\base_de_dados_cnes_201812\\tbEstado201812.parquet.gzip\n",
      "Saved as Parquet: I://base_de_dados//datasus//cnes//datasus_ftp\\2018\\base_de_dados_cnes_201812\\tbEtnia201812.parquet.gzip\n",
      "Saved as Parquet: I://base_de_dados//datasus//cnes//datasus_ftp\\2018\\base_de_dados_cnes_201812\\tbFluxoDadosClientela201812.parquet.gzip\n",
      "Saved as Parquet: I://base_de_dados//datasus//cnes//datasus_ftp\\2018\\base_de_dados_cnes_201812\\tbGestao201812.parquet.gzip\n",
      "Saved as Parquet: I://base_de_dados//datasus//cnes//datasus_ftp\\2018\\base_de_dados_cnes_201812\\tbGrupoAtividade201812.parquet.gzip\n",
      "Saved as Parquet: I://base_de_dados//datasus//cnes//datasus_ftp\\2018\\base_de_dados_cnes_201812\\tbGrupoEquipe201812.parquet.gzip\n",
      "Saved as Parquet: I://base_de_dados//datasus//cnes//datasus_ftp\\2018\\base_de_dados_cnes_201812\\tbHemoterapia201812.parquet.gzip\n",
      "Saved as Parquet: I://base_de_dados//datasus//cnes//datasus_ftp\\2018\\base_de_dados_cnes_201812\\tbIncentivos201812.parquet.gzip\n",
      "Saved as Parquet: I://base_de_dados//datasus//cnes//datasus_ftp\\2018\\base_de_dados_cnes_201812\\tbInstalFisicaParaAssist201812.parquet.gzip\n",
      "Saved as Parquet: I://base_de_dados//datasus//cnes//datasus_ftp\\2018\\base_de_dados_cnes_201812\\tbInstituicaoAvaliadora201812.parquet.gzip\n",
      "Saved as Parquet: I://base_de_dados//datasus//cnes//datasus_ftp\\2018\\base_de_dados_cnes_201812\\tbLeito201812.parquet.gzip\n",
      "Saved as Parquet: I://base_de_dados//datasus//cnes//datasus_ftp\\2018\\base_de_dados_cnes_201812\\tbMantenedora201812.parquet.gzip\n",
      "Saved as Parquet: I://base_de_dados//datasus//cnes//datasus_ftp\\2018\\base_de_dados_cnes_201812\\tbModVinculo201812.parquet.gzip\n",
      "Saved as Parquet: I://base_de_dados//datasus//cnes//datasus_ftp\\2018\\base_de_dados_cnes_201812\\tbMotivoDesativacao201812.parquet.gzip\n",
      "Saved as Parquet: I://base_de_dados//datasus//cnes//datasus_ftp\\2018\\base_de_dados_cnes_201812\\tbMotivoDesativEquipe201812.parquet.gzip\n",
      "Saved as Parquet: I://base_de_dados//datasus//cnes//datasus_ftp\\2018\\base_de_dados_cnes_201812\\tbMunicipio201812.parquet.gzip\n",
      "Saved as Parquet: I://base_de_dados//datasus//cnes//datasus_ftp\\2018\\base_de_dados_cnes_201812\\tbNaturezaJuridica201812.parquet.gzip\n",
      "Saved as Parquet: I://base_de_dados//datasus//cnes//datasus_ftp\\2018\\base_de_dados_cnes_201812\\tbOrgaoEmissor201812.parquet.gzip\n",
      "Saved as Parquet: I://base_de_dados//datasus//cnes//datasus_ftp\\2018\\base_de_dados_cnes_201812\\tbProfResidencia201812.parquet.gzip\n",
      "Saved as Parquet: I://base_de_dados//datasus//cnes//datasus_ftp\\2018\\base_de_dados_cnes_201812\\tbQuimioRadio201812.parquet.gzip\n",
      "Saved as Parquet: I://base_de_dados//datasus//cnes//datasus_ftp\\2018\\base_de_dados_cnes_201812\\tbResidenciaMed201812.parquet.gzip\n",
      "Saved as Parquet: I://base_de_dados//datasus//cnes//datasus_ftp\\2018\\base_de_dados_cnes_201812\\tbSegmento201812.parquet.gzip\n",
      "Saved as Parquet: I://base_de_dados//datasus//cnes//datasus_ftp\\2018\\base_de_dados_cnes_201812\\tbServicoApoio201812.parquet.gzip\n",
      "Saved as Parquet: I://base_de_dados//datasus//cnes//datasus_ftp\\2018\\base_de_dados_cnes_201812\\tbServicoEspecializado201812.parquet.gzip\n",
      "Saved as Parquet: I://base_de_dados//datasus//cnes//datasus_ftp\\2018\\base_de_dados_cnes_201812\\tbServicoReferenciado201812.parquet.gzip\n",
      "Saved as Parquet: I://base_de_dados//datasus//cnes//datasus_ftp\\2018\\base_de_dados_cnes_201812\\tbSubGruposHabilitacao201812.parquet.gzip\n",
      "Saved as Parquet: I://base_de_dados//datasus//cnes//datasus_ftp\\2018\\base_de_dados_cnes_201812\\tbSubTipo201812.parquet.gzip\n",
      "Saved as Parquet: I://base_de_dados//datasus//cnes//datasus_ftp\\2018\\base_de_dados_cnes_201812\\tbSubTipoEquipe201812.parquet.gzip\n",
      "Saved as Parquet: I://base_de_dados//datasus//cnes//datasus_ftp\\2018\\base_de_dados_cnes_201812\\tbSubtipoInstalacao201812.parquet.gzip\n",
      "Saved as Parquet: I://base_de_dados//datasus//cnes//datasus_ftp\\2018\\base_de_dados_cnes_201812\\tbSubTpModVinculo201812.parquet.gzip\n",
      "Saved as Parquet: I://base_de_dados//datasus//cnes//datasus_ftp\\2018\\base_de_dados_cnes_201812\\tbTipoCertidao201812.parquet.gzip\n",
      "Saved as Parquet: I://base_de_dados//datasus//cnes//datasus_ftp\\2018\\base_de_dados_cnes_201812\\tbTipoCgDifer201812.parquet.gzip\n",
      "Saved as Parquet: I://base_de_dados//datasus//cnes//datasus_ftp\\2018\\base_de_dados_cnes_201812\\tbTipoEqSubTipo201812.parquet.gzip\n",
      "Saved as Parquet: I://base_de_dados//datasus//cnes//datasus_ftp\\2018\\base_de_dados_cnes_201812\\tbTipoEquipamento201812.parquet.gzip\n",
      "Saved as Parquet: I://base_de_dados//datasus//cnes//datasus_ftp\\2018\\base_de_dados_cnes_201812\\tbTipoEquipe201812.parquet.gzip\n",
      "Saved as Parquet: I://base_de_dados//datasus//cnes//datasus_ftp\\2018\\base_de_dados_cnes_201812\\tbTipoEscolaridade201812.parquet.gzip\n",
      "Saved as Parquet: I://base_de_dados//datasus//cnes//datasus_ftp\\2018\\base_de_dados_cnes_201812\\tbTipoEstabelecimento201812.parquet.gzip\n",
      "Saved as Parquet: I://base_de_dados//datasus//cnes//datasus_ftp\\2018\\base_de_dados_cnes_201812\\tbTipoServicoReferenciado201812.parquet.gzip\n",
      "Saved as Parquet: I://base_de_dados//datasus//cnes//datasus_ftp\\2018\\base_de_dados_cnes_201812\\tbTipoUnidade201812.parquet.gzip\n",
      "Saved as Parquet: I://base_de_dados//datasus//cnes//datasus_ftp\\2018\\base_de_dados_cnes_201812\\tbTpModVinculo201812.parquet.gzip\n",
      "Saved as Parquet: I://base_de_dados//datasus//cnes//datasus_ftp\\2018\\base_de_dados_cnes_201812\\tbTurnoAtendimento201812.parquet.gzip\n",
      "Year Folder: 2019\n",
      "Month Folder: base_de_dados_cnes_201901\n",
      "Saved as Parquet: I://base_de_dados//datasus//cnes//datasus_ftp\\2019\\base_de_dados_cnes_201901\\rlAdmGerenciaCnes201901.parquet.gzip\n",
      "Saved as Parquet: I://base_de_dados//datasus//cnes//datasus_ftp\\2019\\base_de_dados_cnes_201901\\rlAtividadeObrigatoria201901.parquet.gzip\n",
      "Saved as Parquet: I://base_de_dados//datasus//cnes//datasus_ftp\\2019\\base_de_dados_cnes_201901\\rlCooperativa201901.parquet.gzip\n",
      "Saved as Parquet: I://base_de_dados//datasus//cnes//datasus_ftp\\2019\\base_de_dados_cnes_201901\\rlEquipeNasfEsf201901.parquet.gzip\n"
     ]
    },
    {
     "name": "stderr",
     "output_type": "stream",
     "text": [
      "C:\\Users\\erick\\AppData\\Local\\Temp\\ipykernel_18324\\463220216.py:31: DtypeWarning: Columns (0) have mixed types. Specify dtype option on import or set low_memory=False.\n",
      "  df = pd.read_csv(csv_path, sep=';')\n"
     ]
    },
    {
     "name": "stdout",
     "output_type": "stream",
     "text": [
      "Saved as Parquet: I://base_de_dados//datasus//cnes//datasus_ftp\\2019\\base_de_dados_cnes_201901\\rlEstabAtendPrestConv201901.parquet.gzip\n",
      "Saved as Parquet: I://base_de_dados//datasus//cnes//datasus_ftp\\2019\\base_de_dados_cnes_201901\\rlEstabAtenPsico201901.parquet.gzip\n",
      "Saved as Parquet: I://base_de_dados//datasus//cnes//datasus_ftp\\2019\\base_de_dados_cnes_201901\\rlEstabAvaliacao201901.parquet.gzip\n",
      "Saved as Parquet: I://base_de_dados//datasus//cnes//datasus_ftp\\2019\\base_de_dados_cnes_201901\\rlEstabCentralReg201901.parquet.gzip\n",
      "Saved as Parquet: I://base_de_dados//datasus//cnes//datasus_ftp\\2019\\base_de_dados_cnes_201901\\rlEstabColetaSelRejeito201901.parquet.gzip\n",
      "Saved as Parquet: I://base_de_dados//datasus//cnes//datasus_ftp\\2019\\base_de_dados_cnes_201901\\rlEstabComissaoOutro201901.parquet.gzip\n",
      "Saved as Parquet: I://base_de_dados//datasus//cnes//datasus_ftp\\2019\\base_de_dados_cnes_201901\\rlEstabComplementar201901.parquet.gzip\n",
      "Saved as Parquet: I://base_de_dados//datasus//cnes//datasus_ftp\\2019\\base_de_dados_cnes_201901\\rlEstabEndCompl201901.parquet.gzip\n",
      "Saved as Parquet: I://base_de_dados//datasus//cnes//datasus_ftp\\2019\\base_de_dados_cnes_201901\\rlEstabEqpEmbarcacao201901.parquet.gzip\n",
      "Saved as Parquet: I://base_de_dados//datasus//cnes//datasus_ftp\\2019\\base_de_dados_cnes_201901\\rlEstabEqpUnidApoio201901.parquet.gzip\n"
     ]
    },
    {
     "name": "stderr",
     "output_type": "stream",
     "text": [
      "C:\\Users\\erick\\AppData\\Local\\Temp\\ipykernel_18324\\463220216.py:31: DtypeWarning: Columns (0) have mixed types. Specify dtype option on import or set low_memory=False.\n",
      "  df = pd.read_csv(csv_path, sep=';')\n"
     ]
    },
    {
     "name": "stdout",
     "output_type": "stream",
     "text": [
      "Saved as Parquet: I://base_de_dados//datasus//cnes//datasus_ftp\\2019\\base_de_dados_cnes_201901\\rlEstabEquipamento201901.parquet.gzip\n",
      "Saved as Parquet: I://base_de_dados//datasus//cnes//datasus_ftp\\2019\\base_de_dados_cnes_201901\\rlEstabEquipeMun201901.parquet.gzip\n"
     ]
    },
    {
     "name": "stderr",
     "output_type": "stream",
     "text": [
      "C:\\Users\\erick\\AppData\\Local\\Temp\\ipykernel_18324\\463220216.py:31: DtypeWarning: Columns (14) have mixed types. Specify dtype option on import or set low_memory=False.\n",
      "  df = pd.read_csv(csv_path, sep=';')\n"
     ]
    },
    {
     "name": "stdout",
     "output_type": "stream",
     "text": [
      "Saved as Parquet: I://base_de_dados//datasus//cnes//datasus_ftp\\2019\\base_de_dados_cnes_201901\\rlEstabEquipeProf201901.parquet.gzip\n",
      "Saved as Parquet: I://base_de_dados//datasus//cnes//datasus_ftp\\2019\\base_de_dados_cnes_201901\\rlEstabInstFisiAssist201901.parquet.gzip\n",
      "Saved as Parquet: I://base_de_dados//datasus//cnes//datasus_ftp\\2019\\base_de_dados_cnes_201901\\rlEstabOrgParc201901.parquet.gzip\n",
      "Saved as Parquet: I://base_de_dados//datasus//cnes//datasus_ftp\\2019\\base_de_dados_cnes_201901\\rlEstabPoloAldeia201901.parquet.gzip\n",
      "Saved as Parquet: I://base_de_dados//datasus//cnes//datasus_ftp\\2019\\base_de_dados_cnes_201901\\rlEstabProfComissao201901.parquet.gzip\n",
      "Saved as Parquet: I://base_de_dados//datasus//cnes//datasus_ftp\\2019\\base_de_dados_cnes_201901\\rlEstabProgFundo201901.parquet.gzip\n",
      "Saved as Parquet: I://base_de_dados//datasus//cnes//datasus_ftp\\2019\\base_de_dados_cnes_201901\\rlEstabRegimeRes201901.parquet.gzip\n",
      "Saved as Parquet: I://base_de_dados//datasus//cnes//datasus_ftp\\2019\\base_de_dados_cnes_201901\\rlEstabRepresentante201901.parquet.gzip\n",
      "Saved as Parquet: I://base_de_dados//datasus//cnes//datasus_ftp\\2019\\base_de_dados_cnes_201901\\rlEstabSamu201901.parquet.gzip\n"
     ]
    },
    {
     "name": "stderr",
     "output_type": "stream",
     "text": [
      "C:\\Users\\erick\\AppData\\Local\\Temp\\ipykernel_18324\\463220216.py:31: DtypeWarning: Columns (0) have mixed types. Specify dtype option on import or set low_memory=False.\n",
      "  df = pd.read_csv(csv_path, sep=';')\n"
     ]
    },
    {
     "name": "stdout",
     "output_type": "stream",
     "text": [
      "Saved as Parquet: I://base_de_dados//datasus//cnes//datasus_ftp\\2019\\base_de_dados_cnes_201901\\rlEstabServClass201901.parquet.gzip\n"
     ]
    },
    {
     "name": "stderr",
     "output_type": "stream",
     "text": [
      "C:\\Users\\erick\\AppData\\Local\\Temp\\ipykernel_18324\\463220216.py:31: DtypeWarning: Columns (2) have mixed types. Specify dtype option on import or set low_memory=False.\n",
      "  df = pd.read_csv(csv_path, sep=';')\n"
     ]
    },
    {
     "name": "stdout",
     "output_type": "stream",
     "text": [
      "Saved as Parquet: I://base_de_dados//datasus//cnes//datasus_ftp\\2019\\base_de_dados_cnes_201901\\rlEstabServicoApoio201901.parquet.gzip\n",
      "Saved as Parquet: I://base_de_dados//datasus//cnes//datasus_ftp\\2019\\base_de_dados_cnes_201901\\rlEstabSipac201901.parquet.gzip\n",
      "Saved as Parquet: I://base_de_dados//datasus//cnes//datasus_ftp\\2019\\base_de_dados_cnes_201901\\rlEstabSubTipo201901.parquet.gzip\n",
      "Saved as Parquet: I://base_de_dados//datasus//cnes//datasus_ftp\\2019\\base_de_dados_cnes_201901\\rlEstabTeleCnes201901.parquet.gzip\n",
      "Saved as Parquet: I://base_de_dados//datasus//cnes//datasus_ftp\\2019\\base_de_dados_cnes_201901\\rlEstabUnidAcolhim201901.parquet.gzip\n",
      "Saved as Parquet: I://base_de_dados//datasus//cnes//datasus_ftp\\2019\\base_de_dados_cnes_201901\\rlMunAtenPsico201901.parquet.gzip\n",
      "Saved as Parquet: I://base_de_dados//datasus//cnes//datasus_ftp\\2019\\base_de_dados_cnes_201901\\rlMunRegimeRes201901.parquet.gzip\n",
      "Saved as Parquet: I://base_de_dados//datasus//cnes//datasus_ftp\\2019\\base_de_dados_cnes_201901\\rlMunUnidAcolhim201901.parquet.gzip\n",
      "Saved as Parquet: I://base_de_dados//datasus//cnes//datasus_ftp\\2019\\base_de_dados_cnes_201901\\rlNasfEsf201901.parquet.gzip\n",
      "Saved as Parquet: I://base_de_dados//datasus//cnes//datasus_ftp\\2019\\base_de_dados_cnes_201901\\rlTipoEstabAtividade201901.parquet.gzip\n",
      "Saved as Parquet: I://base_de_dados//datasus//cnes//datasus_ftp\\2019\\base_de_dados_cnes_201901\\tbArea201901.parquet.gzip\n",
      "Saved as Parquet: I://base_de_dados//datasus//cnes//datasus_ftp\\2019\\base_de_dados_cnes_201901\\tbAtendimentoPrestado201901.parquet.gzip\n",
      "Saved as Parquet: I://base_de_dados//datasus//cnes//datasus_ftp\\2019\\base_de_dados_cnes_201901\\tbAtividade201901.parquet.gzip\n",
      "Saved as Parquet: I://base_de_dados//datasus//cnes//datasus_ftp\\2019\\base_de_dados_cnes_201901\\tbAtividadeEnsino201901.parquet.gzip\n",
      "Saved as Parquet: I://base_de_dados//datasus//cnes//datasus_ftp\\2019\\base_de_dados_cnes_201901\\tbAtividadeProfissional201901.parquet.gzip\n",
      "Saved as Parquet: I://base_de_dados//datasus//cnes//datasus_ftp\\2019\\base_de_dados_cnes_201901\\tbAtributo201901.parquet.gzip\n",
      "Saved as Parquet: I://base_de_dados//datasus//cnes//datasus_ftp\\2019\\base_de_dados_cnes_201901\\tbAvaliacao201901.parquet.gzip\n",
      "Saved as Parquet: I://base_de_dados//datasus//cnes//datasus_ftp\\2019\\base_de_dados_cnes_201901\\tbBanco201901.parquet.gzip\n"
     ]
    },
    {
     "name": "stderr",
     "output_type": "stream",
     "text": [
      "C:\\Users\\erick\\AppData\\Local\\Temp\\ipykernel_18324\\463220216.py:31: DtypeWarning: Columns (0,12) have mixed types. Specify dtype option on import or set low_memory=False.\n",
      "  df = pd.read_csv(csv_path, sep=';')\n"
     ]
    },
    {
     "name": "stdout",
     "output_type": "stream",
     "text": [
      "Saved as Parquet: I://base_de_dados//datasus//cnes//datasus_ftp\\2019\\base_de_dados_cnes_201901\\tbCargaHorariaSus201901.parquet.gzip\n",
      "Saved as Parquet: I://base_de_dados//datasus//cnes//datasus_ftp\\2019\\base_de_dados_cnes_201901\\tbClassificacaoAval201901.parquet.gzip\n",
      "Saved as Parquet: I://base_de_dados//datasus//cnes//datasus_ftp\\2019\\base_de_dados_cnes_201901\\tbClassificacaoServico201901.parquet.gzip\n",
      "Saved as Parquet: I://base_de_dados//datasus//cnes//datasus_ftp\\2019\\base_de_dados_cnes_201901\\tbColetaSeletivaRejeito201901.parquet.gzip\n",
      "Saved as Parquet: I://base_de_dados//datasus//cnes//datasus_ftp\\2019\\base_de_dados_cnes_201901\\tbComissaoOutro201901.parquet.gzip\n",
      "Saved as Parquet: I://base_de_dados//datasus//cnes//datasus_ftp\\2019\\base_de_dados_cnes_201901\\tbConselhoClasse201901.parquet.gzip\n",
      "Saved as Parquet: I://base_de_dados//datasus//cnes//datasus_ftp\\2019\\base_de_dados_cnes_201901\\tbConvenio201901.parquet.gzip\n",
      "Saved as Parquet: I://base_de_dados//datasus//cnes//datasus_ftp\\2019\\base_de_dados_cnes_201901\\tbDadosProfissionalSus201901.parquet.gzip\n",
      "Saved as Parquet: I://base_de_dados//datasus//cnes//datasus_ftp\\2019\\base_de_dados_cnes_201901\\tbDialise201901.parquet.gzip\n",
      "Saved as Parquet: I://base_de_dados//datasus//cnes//datasus_ftp\\2019\\base_de_dados_cnes_201901\\tbEquipamento201901.parquet.gzip\n",
      "Saved as Parquet: I://base_de_dados//datasus//cnes//datasus_ftp\\2019\\base_de_dados_cnes_201901\\tbEquipe201901.parquet.gzip\n",
      "Saved as Parquet: I://base_de_dados//datasus//cnes//datasus_ftp\\2019\\base_de_dados_cnes_201901\\tbEquipeAtendCompl201901.parquet.gzip\n",
      "Saved as Parquet: I://base_de_dados//datasus//cnes//datasus_ftp\\2019\\base_de_dados_cnes_201901\\tbEquipeChDifer201901.parquet.gzip\n",
      "Saved as Parquet: I://base_de_dados//datasus//cnes//datasus_ftp\\2019\\base_de_dados_cnes_201901\\tbEstabAtivSecundaria201901.parquet.gzip\n",
      "Saved as Parquet: I://base_de_dados//datasus//cnes//datasus_ftp\\2019\\base_de_dados_cnes_201901\\tbEstabContrato201901.parquet.gzip\n"
     ]
    },
    {
     "name": "stderr",
     "output_type": "stream",
     "text": [
      "C:\\Users\\erick\\AppData\\Local\\Temp\\ipykernel_18324\\463220216.py:31: DtypeWarning: Columns (45) have mixed types. Specify dtype option on import or set low_memory=False.\n",
      "  df = pd.read_csv(csv_path, sep=';')\n"
     ]
    },
    {
     "name": "stdout",
     "output_type": "stream",
     "text": [
      "Saved as Parquet: I://base_de_dados//datasus//cnes//datasus_ftp\\2019\\base_de_dados_cnes_201901\\tbEstabelecimento201901.parquet.gzip\n",
      "Saved as Parquet: I://base_de_dados//datasus//cnes//datasus_ftp\\2019\\base_de_dados_cnes_201901\\tbEstabHorarioAtend201901.parquet.gzip\n",
      "Saved as Parquet: I://base_de_dados//datasus//cnes//datasus_ftp\\2019\\base_de_dados_cnes_201901\\tbEstado201901.parquet.gzip\n",
      "Saved as Parquet: I://base_de_dados//datasus//cnes//datasus_ftp\\2019\\base_de_dados_cnes_201901\\tbEtnia201901.parquet.gzip\n",
      "Saved as Parquet: I://base_de_dados//datasus//cnes//datasus_ftp\\2019\\base_de_dados_cnes_201901\\tbFluxoDadosClientela201901.parquet.gzip\n",
      "Saved as Parquet: I://base_de_dados//datasus//cnes//datasus_ftp\\2019\\base_de_dados_cnes_201901\\tbGestao201901.parquet.gzip\n",
      "Saved as Parquet: I://base_de_dados//datasus//cnes//datasus_ftp\\2019\\base_de_dados_cnes_201901\\tbGrupoAtividade201901.parquet.gzip\n",
      "Saved as Parquet: I://base_de_dados//datasus//cnes//datasus_ftp\\2019\\base_de_dados_cnes_201901\\tbGrupoEquipe201901.parquet.gzip\n",
      "Saved as Parquet: I://base_de_dados//datasus//cnes//datasus_ftp\\2019\\base_de_dados_cnes_201901\\tbHemoterapia201901.parquet.gzip\n",
      "Saved as Parquet: I://base_de_dados//datasus//cnes//datasus_ftp\\2019\\base_de_dados_cnes_201901\\tbIncentivos201901.parquet.gzip\n",
      "Saved as Parquet: I://base_de_dados//datasus//cnes//datasus_ftp\\2019\\base_de_dados_cnes_201901\\tbInstalFisicaParaAssist201901.parquet.gzip\n",
      "Saved as Parquet: I://base_de_dados//datasus//cnes//datasus_ftp\\2019\\base_de_dados_cnes_201901\\tbInstituicaoAvaliadora201901.parquet.gzip\n",
      "Saved as Parquet: I://base_de_dados//datasus//cnes//datasus_ftp\\2019\\base_de_dados_cnes_201901\\tbLeito201901.parquet.gzip\n",
      "Saved as Parquet: I://base_de_dados//datasus//cnes//datasus_ftp\\2019\\base_de_dados_cnes_201901\\tbMantenedora201901.parquet.gzip\n",
      "Saved as Parquet: I://base_de_dados//datasus//cnes//datasus_ftp\\2019\\base_de_dados_cnes_201901\\tbModVinculo201901.parquet.gzip\n",
      "Saved as Parquet: I://base_de_dados//datasus//cnes//datasus_ftp\\2019\\base_de_dados_cnes_201901\\tbMotivoDesativacao201901.parquet.gzip\n",
      "Saved as Parquet: I://base_de_dados//datasus//cnes//datasus_ftp\\2019\\base_de_dados_cnes_201901\\tbMotivoDesativEquipe201901.parquet.gzip\n",
      "Saved as Parquet: I://base_de_dados//datasus//cnes//datasus_ftp\\2019\\base_de_dados_cnes_201901\\tbMunicipio201901.parquet.gzip\n",
      "Saved as Parquet: I://base_de_dados//datasus//cnes//datasus_ftp\\2019\\base_de_dados_cnes_201901\\tbNaturezaJuridica201901.parquet.gzip\n",
      "Saved as Parquet: I://base_de_dados//datasus//cnes//datasus_ftp\\2019\\base_de_dados_cnes_201901\\tbOrgaoEmissor201901.parquet.gzip\n",
      "Saved as Parquet: I://base_de_dados//datasus//cnes//datasus_ftp\\2019\\base_de_dados_cnes_201901\\tbProfResidencia201901.parquet.gzip\n",
      "Saved as Parquet: I://base_de_dados//datasus//cnes//datasus_ftp\\2019\\base_de_dados_cnes_201901\\tbQuimioRadio201901.parquet.gzip\n",
      "Saved as Parquet: I://base_de_dados//datasus//cnes//datasus_ftp\\2019\\base_de_dados_cnes_201901\\tbResidenciaMed201901.parquet.gzip\n",
      "Saved as Parquet: I://base_de_dados//datasus//cnes//datasus_ftp\\2019\\base_de_dados_cnes_201901\\tbSegmento201901.parquet.gzip\n",
      "Saved as Parquet: I://base_de_dados//datasus//cnes//datasus_ftp\\2019\\base_de_dados_cnes_201901\\tbServicoApoio201901.parquet.gzip\n",
      "Saved as Parquet: I://base_de_dados//datasus//cnes//datasus_ftp\\2019\\base_de_dados_cnes_201901\\tbServicoEspecializado201901.parquet.gzip\n",
      "Saved as Parquet: I://base_de_dados//datasus//cnes//datasus_ftp\\2019\\base_de_dados_cnes_201901\\tbServicoReferenciado201901.parquet.gzip\n",
      "Saved as Parquet: I://base_de_dados//datasus//cnes//datasus_ftp\\2019\\base_de_dados_cnes_201901\\tbSubGruposHabilitacao201901.parquet.gzip\n",
      "Saved as Parquet: I://base_de_dados//datasus//cnes//datasus_ftp\\2019\\base_de_dados_cnes_201901\\tbSubTipo201901.parquet.gzip\n",
      "Saved as Parquet: I://base_de_dados//datasus//cnes//datasus_ftp\\2019\\base_de_dados_cnes_201901\\tbSubTipoEquipe201901.parquet.gzip\n",
      "Saved as Parquet: I://base_de_dados//datasus//cnes//datasus_ftp\\2019\\base_de_dados_cnes_201901\\tbSubtipoInstalacao201901.parquet.gzip\n",
      "Saved as Parquet: I://base_de_dados//datasus//cnes//datasus_ftp\\2019\\base_de_dados_cnes_201901\\tbSubTpModVinculo201901.parquet.gzip\n",
      "Saved as Parquet: I://base_de_dados//datasus//cnes//datasus_ftp\\2019\\base_de_dados_cnes_201901\\tbTipoCertidao201901.parquet.gzip\n",
      "Saved as Parquet: I://base_de_dados//datasus//cnes//datasus_ftp\\2019\\base_de_dados_cnes_201901\\tbTipoCgDifer201901.parquet.gzip\n",
      "Saved as Parquet: I://base_de_dados//datasus//cnes//datasus_ftp\\2019\\base_de_dados_cnes_201901\\tbTipoEqSubTipo201901.parquet.gzip\n",
      "Saved as Parquet: I://base_de_dados//datasus//cnes//datasus_ftp\\2019\\base_de_dados_cnes_201901\\tbTipoEquipamento201901.parquet.gzip\n",
      "Saved as Parquet: I://base_de_dados//datasus//cnes//datasus_ftp\\2019\\base_de_dados_cnes_201901\\tbTipoEquipe201901.parquet.gzip\n",
      "Saved as Parquet: I://base_de_dados//datasus//cnes//datasus_ftp\\2019\\base_de_dados_cnes_201901\\tbTipoEscolaridade201901.parquet.gzip\n",
      "Saved as Parquet: I://base_de_dados//datasus//cnes//datasus_ftp\\2019\\base_de_dados_cnes_201901\\tbTipoEstabelecimento201901.parquet.gzip\n",
      "Saved as Parquet: I://base_de_dados//datasus//cnes//datasus_ftp\\2019\\base_de_dados_cnes_201901\\tbTipoServicoReferenciado201901.parquet.gzip\n",
      "Saved as Parquet: I://base_de_dados//datasus//cnes//datasus_ftp\\2019\\base_de_dados_cnes_201901\\tbTipoUnidade201901.parquet.gzip\n",
      "Saved as Parquet: I://base_de_dados//datasus//cnes//datasus_ftp\\2019\\base_de_dados_cnes_201901\\tbTpModVinculo201901.parquet.gzip\n",
      "Saved as Parquet: I://base_de_dados//datasus//cnes//datasus_ftp\\2019\\base_de_dados_cnes_201901\\tbTurnoAtendimento201901.parquet.gzip\n",
      "Month Folder: base_de_dados_cnes_201902\n",
      "Saved as Parquet: I://base_de_dados//datasus//cnes//datasus_ftp\\2019\\base_de_dados_cnes_201902\\rlAdmGerenciaCnes201902.parquet.gzip\n",
      "Saved as Parquet: I://base_de_dados//datasus//cnes//datasus_ftp\\2019\\base_de_dados_cnes_201902\\rlAtividadeObrigatoria201902.parquet.gzip\n",
      "Saved as Parquet: I://base_de_dados//datasus//cnes//datasus_ftp\\2019\\base_de_dados_cnes_201902\\rlCooperativa201902.parquet.gzip\n",
      "Saved as Parquet: I://base_de_dados//datasus//cnes//datasus_ftp\\2019\\base_de_dados_cnes_201902\\rlEquipeAldeia201902.parquet.gzip\n",
      "Saved as Parquet: I://base_de_dados//datasus//cnes//datasus_ftp\\2019\\base_de_dados_cnes_201902\\rlEquipeNasfEsf201902.parquet.gzip\n"
     ]
    },
    {
     "name": "stderr",
     "output_type": "stream",
     "text": [
      "C:\\Users\\erick\\AppData\\Local\\Temp\\ipykernel_18324\\463220216.py:31: DtypeWarning: Columns (0) have mixed types. Specify dtype option on import or set low_memory=False.\n",
      "  df = pd.read_csv(csv_path, sep=';')\n"
     ]
    },
    {
     "name": "stdout",
     "output_type": "stream",
     "text": [
      "Saved as Parquet: I://base_de_dados//datasus//cnes//datasus_ftp\\2019\\base_de_dados_cnes_201902\\rlEstabAtendPrestConv201902.parquet.gzip\n",
      "Saved as Parquet: I://base_de_dados//datasus//cnes//datasus_ftp\\2019\\base_de_dados_cnes_201902\\rlEstabAtenPsico201902.parquet.gzip\n",
      "Saved as Parquet: I://base_de_dados//datasus//cnes//datasus_ftp\\2019\\base_de_dados_cnes_201902\\rlEstabAvaliacao201902.parquet.gzip\n",
      "Saved as Parquet: I://base_de_dados//datasus//cnes//datasus_ftp\\2019\\base_de_dados_cnes_201902\\rlEstabCentralReg201902.parquet.gzip\n",
      "Saved as Parquet: I://base_de_dados//datasus//cnes//datasus_ftp\\2019\\base_de_dados_cnes_201902\\rlEstabColetaSelRejeito201902.parquet.gzip\n",
      "Saved as Parquet: I://base_de_dados//datasus//cnes//datasus_ftp\\2019\\base_de_dados_cnes_201902\\rlEstabComissaoOutro201902.parquet.gzip\n",
      "Saved as Parquet: I://base_de_dados//datasus//cnes//datasus_ftp\\2019\\base_de_dados_cnes_201902\\rlEstabComplementar201902.parquet.gzip\n",
      "Saved as Parquet: I://base_de_dados//datasus//cnes//datasus_ftp\\2019\\base_de_dados_cnes_201902\\rlEstabEndCompl201902.parquet.gzip\n",
      "Saved as Parquet: I://base_de_dados//datasus//cnes//datasus_ftp\\2019\\base_de_dados_cnes_201902\\rlEstabEqpEmbarcacao201902.parquet.gzip\n",
      "Saved as Parquet: I://base_de_dados//datasus//cnes//datasus_ftp\\2019\\base_de_dados_cnes_201902\\rlEstabEqpUnidApoio201902.parquet.gzip\n"
     ]
    },
    {
     "name": "stderr",
     "output_type": "stream",
     "text": [
      "C:\\Users\\erick\\AppData\\Local\\Temp\\ipykernel_18324\\463220216.py:31: DtypeWarning: Columns (0) have mixed types. Specify dtype option on import or set low_memory=False.\n",
      "  df = pd.read_csv(csv_path, sep=';')\n"
     ]
    },
    {
     "name": "stdout",
     "output_type": "stream",
     "text": [
      "Saved as Parquet: I://base_de_dados//datasus//cnes//datasus_ftp\\2019\\base_de_dados_cnes_201902\\rlEstabEquipamento201902.parquet.gzip\n",
      "Saved as Parquet: I://base_de_dados//datasus//cnes//datasus_ftp\\2019\\base_de_dados_cnes_201902\\rlEstabEquipeMun201902.parquet.gzip\n"
     ]
    },
    {
     "name": "stderr",
     "output_type": "stream",
     "text": [
      "C:\\Users\\erick\\AppData\\Local\\Temp\\ipykernel_18324\\463220216.py:31: DtypeWarning: Columns (14) have mixed types. Specify dtype option on import or set low_memory=False.\n",
      "  df = pd.read_csv(csv_path, sep=';')\n"
     ]
    },
    {
     "name": "stdout",
     "output_type": "stream",
     "text": [
      "Saved as Parquet: I://base_de_dados//datasus//cnes//datasus_ftp\\2019\\base_de_dados_cnes_201902\\rlEstabEquipeProf201902.parquet.gzip\n",
      "Saved as Parquet: I://base_de_dados//datasus//cnes//datasus_ftp\\2019\\base_de_dados_cnes_201902\\rlEstabInstFisiAssist201902.parquet.gzip\n",
      "Saved as Parquet: I://base_de_dados//datasus//cnes//datasus_ftp\\2019\\base_de_dados_cnes_201902\\rlEstabOrgParc201902.parquet.gzip\n",
      "Saved as Parquet: I://base_de_dados//datasus//cnes//datasus_ftp\\2019\\base_de_dados_cnes_201902\\rlEstabPoloAldeia201902.parquet.gzip\n",
      "Saved as Parquet: I://base_de_dados//datasus//cnes//datasus_ftp\\2019\\base_de_dados_cnes_201902\\rlEstabProfComissao201902.parquet.gzip\n",
      "Saved as Parquet: I://base_de_dados//datasus//cnes//datasus_ftp\\2019\\base_de_dados_cnes_201902\\rlEstabProgFundo201902.parquet.gzip\n",
      "Saved as Parquet: I://base_de_dados//datasus//cnes//datasus_ftp\\2019\\base_de_dados_cnes_201902\\rlEstabRegimeRes201902.parquet.gzip\n",
      "Saved as Parquet: I://base_de_dados//datasus//cnes//datasus_ftp\\2019\\base_de_dados_cnes_201902\\rlEstabRepresentante201902.parquet.gzip\n",
      "Saved as Parquet: I://base_de_dados//datasus//cnes//datasus_ftp\\2019\\base_de_dados_cnes_201902\\rlEstabSamu201902.parquet.gzip\n"
     ]
    },
    {
     "name": "stderr",
     "output_type": "stream",
     "text": [
      "C:\\Users\\erick\\AppData\\Local\\Temp\\ipykernel_18324\\463220216.py:31: DtypeWarning: Columns (0,10) have mixed types. Specify dtype option on import or set low_memory=False.\n",
      "  df = pd.read_csv(csv_path, sep=';')\n"
     ]
    },
    {
     "name": "stdout",
     "output_type": "stream",
     "text": [
      "Saved as Parquet: I://base_de_dados//datasus//cnes//datasus_ftp\\2019\\base_de_dados_cnes_201902\\rlEstabServClass201902.parquet.gzip\n"
     ]
    },
    {
     "name": "stderr",
     "output_type": "stream",
     "text": [
      "C:\\Users\\erick\\AppData\\Local\\Temp\\ipykernel_18324\\463220216.py:31: DtypeWarning: Columns (2) have mixed types. Specify dtype option on import or set low_memory=False.\n",
      "  df = pd.read_csv(csv_path, sep=';')\n"
     ]
    },
    {
     "name": "stdout",
     "output_type": "stream",
     "text": [
      "Saved as Parquet: I://base_de_dados//datasus//cnes//datasus_ftp\\2019\\base_de_dados_cnes_201902\\rlEstabServicoApoio201902.parquet.gzip\n",
      "Saved as Parquet: I://base_de_dados//datasus//cnes//datasus_ftp\\2019\\base_de_dados_cnes_201902\\rlEstabSipac201902.parquet.gzip\n",
      "Saved as Parquet: I://base_de_dados//datasus//cnes//datasus_ftp\\2019\\base_de_dados_cnes_201902\\rlEstabSubTipo201902.parquet.gzip\n",
      "Saved as Parquet: I://base_de_dados//datasus//cnes//datasus_ftp\\2019\\base_de_dados_cnes_201902\\rlEstabTeleCnes201902.parquet.gzip\n",
      "Saved as Parquet: I://base_de_dados//datasus//cnes//datasus_ftp\\2019\\base_de_dados_cnes_201902\\rlEstabUnidAcolhim201902.parquet.gzip\n",
      "Saved as Parquet: I://base_de_dados//datasus//cnes//datasus_ftp\\2019\\base_de_dados_cnes_201902\\rlMunAtenPsico201902.parquet.gzip\n",
      "Saved as Parquet: I://base_de_dados//datasus//cnes//datasus_ftp\\2019\\base_de_dados_cnes_201902\\rlMunRegimeRes201902.parquet.gzip\n",
      "Saved as Parquet: I://base_de_dados//datasus//cnes//datasus_ftp\\2019\\base_de_dados_cnes_201902\\rlMunUnidAcolhim201902.parquet.gzip\n",
      "Saved as Parquet: I://base_de_dados//datasus//cnes//datasus_ftp\\2019\\base_de_dados_cnes_201902\\rlNasfEsf201902.parquet.gzip\n",
      "Saved as Parquet: I://base_de_dados//datasus//cnes//datasus_ftp\\2019\\base_de_dados_cnes_201902\\rlTipoEstabAtividade201902.parquet.gzip\n",
      "Saved as Parquet: I://base_de_dados//datasus//cnes//datasus_ftp\\2019\\base_de_dados_cnes_201902\\tbAldeia201902.parquet.gzip\n",
      "Saved as Parquet: I://base_de_dados//datasus//cnes//datasus_ftp\\2019\\base_de_dados_cnes_201902\\tbArea201902.parquet.gzip\n",
      "Saved as Parquet: I://base_de_dados//datasus//cnes//datasus_ftp\\2019\\base_de_dados_cnes_201902\\tbAtendimentoPrestado201902.parquet.gzip\n",
      "Saved as Parquet: I://base_de_dados//datasus//cnes//datasus_ftp\\2019\\base_de_dados_cnes_201902\\tbAtividade201902.parquet.gzip\n",
      "Saved as Parquet: I://base_de_dados//datasus//cnes//datasus_ftp\\2019\\base_de_dados_cnes_201902\\tbAtividadeEnsino201902.parquet.gzip\n",
      "Saved as Parquet: I://base_de_dados//datasus//cnes//datasus_ftp\\2019\\base_de_dados_cnes_201902\\tbAtividadeProfissional201902.parquet.gzip\n",
      "Saved as Parquet: I://base_de_dados//datasus//cnes//datasus_ftp\\2019\\base_de_dados_cnes_201902\\tbAtributo201902.parquet.gzip\n",
      "Saved as Parquet: I://base_de_dados//datasus//cnes//datasus_ftp\\2019\\base_de_dados_cnes_201902\\tbAvaliacao201902.parquet.gzip\n",
      "Saved as Parquet: I://base_de_dados//datasus//cnes//datasus_ftp\\2019\\base_de_dados_cnes_201902\\tbBanco201902.parquet.gzip\n"
     ]
    },
    {
     "name": "stderr",
     "output_type": "stream",
     "text": [
      "C:\\Users\\erick\\AppData\\Local\\Temp\\ipykernel_18324\\463220216.py:31: DtypeWarning: Columns (0,12) have mixed types. Specify dtype option on import or set low_memory=False.\n",
      "  df = pd.read_csv(csv_path, sep=';')\n"
     ]
    },
    {
     "name": "stdout",
     "output_type": "stream",
     "text": [
      "Saved as Parquet: I://base_de_dados//datasus//cnes//datasus_ftp\\2019\\base_de_dados_cnes_201902\\tbCargaHorariaSus201902.parquet.gzip\n",
      "Saved as Parquet: I://base_de_dados//datasus//cnes//datasus_ftp\\2019\\base_de_dados_cnes_201902\\tbClassificacaoAval201902.parquet.gzip\n",
      "Saved as Parquet: I://base_de_dados//datasus//cnes//datasus_ftp\\2019\\base_de_dados_cnes_201902\\tbClassificacaoServico201902.parquet.gzip\n",
      "Saved as Parquet: I://base_de_dados//datasus//cnes//datasus_ftp\\2019\\base_de_dados_cnes_201902\\tbColetaSeletivaRejeito201902.parquet.gzip\n",
      "Saved as Parquet: I://base_de_dados//datasus//cnes//datasus_ftp\\2019\\base_de_dados_cnes_201902\\tbComissaoOutro201902.parquet.gzip\n",
      "Saved as Parquet: I://base_de_dados//datasus//cnes//datasus_ftp\\2019\\base_de_dados_cnes_201902\\tbConselhoClasse201902.parquet.gzip\n",
      "Saved as Parquet: I://base_de_dados//datasus//cnes//datasus_ftp\\2019\\base_de_dados_cnes_201902\\tbConvenio201902.parquet.gzip\n",
      "Saved as Parquet: I://base_de_dados//datasus//cnes//datasus_ftp\\2019\\base_de_dados_cnes_201902\\tbDadosProfissionalSus201902.parquet.gzip\n",
      "Saved as Parquet: I://base_de_dados//datasus//cnes//datasus_ftp\\2019\\base_de_dados_cnes_201902\\tbDialise201902.parquet.gzip\n",
      "Saved as Parquet: I://base_de_dados//datasus//cnes//datasus_ftp\\2019\\base_de_dados_cnes_201902\\tbDsei201902.parquet.gzip\n",
      "Saved as Parquet: I://base_de_dados//datasus//cnes//datasus_ftp\\2019\\base_de_dados_cnes_201902\\tbEquipamento201902.parquet.gzip\n",
      "Saved as Parquet: I://base_de_dados//datasus//cnes//datasus_ftp\\2019\\base_de_dados_cnes_201902\\tbEquipe201902.parquet.gzip\n",
      "Saved as Parquet: I://base_de_dados//datasus//cnes//datasus_ftp\\2019\\base_de_dados_cnes_201902\\tbEquipeAtendCompl201902.parquet.gzip\n",
      "Saved as Parquet: I://base_de_dados//datasus//cnes//datasus_ftp\\2019\\base_de_dados_cnes_201902\\tbEquipeChDifer201902.parquet.gzip\n",
      "Saved as Parquet: I://base_de_dados//datasus//cnes//datasus_ftp\\2019\\base_de_dados_cnes_201902\\tbEstabAtivSecundaria201902.parquet.gzip\n",
      "Saved as Parquet: I://base_de_dados//datasus//cnes//datasus_ftp\\2019\\base_de_dados_cnes_201902\\tbEstabContrato201902.parquet.gzip\n"
     ]
    },
    {
     "name": "stderr",
     "output_type": "stream",
     "text": [
      "C:\\Users\\erick\\AppData\\Local\\Temp\\ipykernel_18324\\463220216.py:31: DtypeWarning: Columns (0,45) have mixed types. Specify dtype option on import or set low_memory=False.\n",
      "  df = pd.read_csv(csv_path, sep=';')\n"
     ]
    },
    {
     "name": "stdout",
     "output_type": "stream",
     "text": [
      "Saved as Parquet: I://base_de_dados//datasus//cnes//datasus_ftp\\2019\\base_de_dados_cnes_201902\\tbEstabelecimento201902.parquet.gzip\n",
      "Saved as Parquet: I://base_de_dados//datasus//cnes//datasus_ftp\\2019\\base_de_dados_cnes_201902\\tbEstabHorarioAtend201902.parquet.gzip\n",
      "Saved as Parquet: I://base_de_dados//datasus//cnes//datasus_ftp\\2019\\base_de_dados_cnes_201902\\tbEstado201902.parquet.gzip\n",
      "Saved as Parquet: I://base_de_dados//datasus//cnes//datasus_ftp\\2019\\base_de_dados_cnes_201902\\tbEtnia201902.parquet.gzip\n",
      "Saved as Parquet: I://base_de_dados//datasus//cnes//datasus_ftp\\2019\\base_de_dados_cnes_201902\\tbFluxoDadosClientela201902.parquet.gzip\n",
      "Saved as Parquet: I://base_de_dados//datasus//cnes//datasus_ftp\\2019\\base_de_dados_cnes_201902\\tbGestao201902.parquet.gzip\n",
      "Saved as Parquet: I://base_de_dados//datasus//cnes//datasus_ftp\\2019\\base_de_dados_cnes_201902\\tbGrupoAtividade201902.parquet.gzip\n",
      "Saved as Parquet: I://base_de_dados//datasus//cnes//datasus_ftp\\2019\\base_de_dados_cnes_201902\\tbGrupoEquipe201902.parquet.gzip\n",
      "Saved as Parquet: I://base_de_dados//datasus//cnes//datasus_ftp\\2019\\base_de_dados_cnes_201902\\tbHemoterapia201902.parquet.gzip\n",
      "Saved as Parquet: I://base_de_dados//datasus//cnes//datasus_ftp\\2019\\base_de_dados_cnes_201902\\tbIncentivos201902.parquet.gzip\n",
      "Saved as Parquet: I://base_de_dados//datasus//cnes//datasus_ftp\\2019\\base_de_dados_cnes_201902\\tbInstalFisicaParaAssist201902.parquet.gzip\n",
      "Saved as Parquet: I://base_de_dados//datasus//cnes//datasus_ftp\\2019\\base_de_dados_cnes_201902\\tbInstituicaoAvaliadora201902.parquet.gzip\n",
      "Saved as Parquet: I://base_de_dados//datasus//cnes//datasus_ftp\\2019\\base_de_dados_cnes_201902\\tbLeito201902.parquet.gzip\n",
      "Saved as Parquet: I://base_de_dados//datasus//cnes//datasus_ftp\\2019\\base_de_dados_cnes_201902\\tbMantenedora201902.parquet.gzip\n",
      "Saved as Parquet: I://base_de_dados//datasus//cnes//datasus_ftp\\2019\\base_de_dados_cnes_201902\\tbModVinculo201902.parquet.gzip\n",
      "Saved as Parquet: I://base_de_dados//datasus//cnes//datasus_ftp\\2019\\base_de_dados_cnes_201902\\tbMotivoDesativacao201902.parquet.gzip\n",
      "Saved as Parquet: I://base_de_dados//datasus//cnes//datasus_ftp\\2019\\base_de_dados_cnes_201902\\tbMotivoDesativEquipe201902.parquet.gzip\n",
      "Saved as Parquet: I://base_de_dados//datasus//cnes//datasus_ftp\\2019\\base_de_dados_cnes_201902\\tbMunicipio201902.parquet.gzip\n",
      "Saved as Parquet: I://base_de_dados//datasus//cnes//datasus_ftp\\2019\\base_de_dados_cnes_201902\\tbNaturezaJuridica201902.parquet.gzip\n",
      "Saved as Parquet: I://base_de_dados//datasus//cnes//datasus_ftp\\2019\\base_de_dados_cnes_201902\\tbOrgaoEmissor201902.parquet.gzip\n",
      "Saved as Parquet: I://base_de_dados//datasus//cnes//datasus_ftp\\2019\\base_de_dados_cnes_201902\\tbPoloBase201902.parquet.gzip\n",
      "Saved as Parquet: I://base_de_dados//datasus//cnes//datasus_ftp\\2019\\base_de_dados_cnes_201902\\tbProfResidencia201902.parquet.gzip\n",
      "Saved as Parquet: I://base_de_dados//datasus//cnes//datasus_ftp\\2019\\base_de_dados_cnes_201902\\tbQuimioRadio201902.parquet.gzip\n",
      "Saved as Parquet: I://base_de_dados//datasus//cnes//datasus_ftp\\2019\\base_de_dados_cnes_201902\\tbResidenciaMed201902.parquet.gzip\n",
      "Saved as Parquet: I://base_de_dados//datasus//cnes//datasus_ftp\\2019\\base_de_dados_cnes_201902\\tbSegmento201902.parquet.gzip\n",
      "Saved as Parquet: I://base_de_dados//datasus//cnes//datasus_ftp\\2019\\base_de_dados_cnes_201902\\tbServicoApoio201902.parquet.gzip\n",
      "Saved as Parquet: I://base_de_dados//datasus//cnes//datasus_ftp\\2019\\base_de_dados_cnes_201902\\tbServicoEspecializado201902.parquet.gzip\n",
      "Saved as Parquet: I://base_de_dados//datasus//cnes//datasus_ftp\\2019\\base_de_dados_cnes_201902\\tbServicoReferenciado201902.parquet.gzip\n",
      "Saved as Parquet: I://base_de_dados//datasus//cnes//datasus_ftp\\2019\\base_de_dados_cnes_201902\\tbSubGruposHabilitacao201902.parquet.gzip\n",
      "Saved as Parquet: I://base_de_dados//datasus//cnes//datasus_ftp\\2019\\base_de_dados_cnes_201902\\tbSubTipo201902.parquet.gzip\n",
      "Saved as Parquet: I://base_de_dados//datasus//cnes//datasus_ftp\\2019\\base_de_dados_cnes_201902\\tbSubTipoEquipe201902.parquet.gzip\n",
      "Saved as Parquet: I://base_de_dados//datasus//cnes//datasus_ftp\\2019\\base_de_dados_cnes_201902\\tbSubtipoInstalacao201902.parquet.gzip\n",
      "Saved as Parquet: I://base_de_dados//datasus//cnes//datasus_ftp\\2019\\base_de_dados_cnes_201902\\tbSubTpModVinculo201902.parquet.gzip\n",
      "Saved as Parquet: I://base_de_dados//datasus//cnes//datasus_ftp\\2019\\base_de_dados_cnes_201902\\tbTipoCertidao201902.parquet.gzip\n",
      "Saved as Parquet: I://base_de_dados//datasus//cnes//datasus_ftp\\2019\\base_de_dados_cnes_201902\\tbTipoCgDifer201902.parquet.gzip\n",
      "Saved as Parquet: I://base_de_dados//datasus//cnes//datasus_ftp\\2019\\base_de_dados_cnes_201902\\tbTipoEqSubTipo201902.parquet.gzip\n",
      "Saved as Parquet: I://base_de_dados//datasus//cnes//datasus_ftp\\2019\\base_de_dados_cnes_201902\\tbTipoEquipamento201902.parquet.gzip\n",
      "Saved as Parquet: I://base_de_dados//datasus//cnes//datasus_ftp\\2019\\base_de_dados_cnes_201902\\tbTipoEquipe201902.parquet.gzip\n",
      "Saved as Parquet: I://base_de_dados//datasus//cnes//datasus_ftp\\2019\\base_de_dados_cnes_201902\\tbTipoEscolaridade201902.parquet.gzip\n",
      "Saved as Parquet: I://base_de_dados//datasus//cnes//datasus_ftp\\2019\\base_de_dados_cnes_201902\\tbTipoEstabelecimento201902.parquet.gzip\n",
      "Saved as Parquet: I://base_de_dados//datasus//cnes//datasus_ftp\\2019\\base_de_dados_cnes_201902\\tbTipoServicoReferenciado201902.parquet.gzip\n",
      "Saved as Parquet: I://base_de_dados//datasus//cnes//datasus_ftp\\2019\\base_de_dados_cnes_201902\\tbTipoUnidade201902.parquet.gzip\n",
      "Saved as Parquet: I://base_de_dados//datasus//cnes//datasus_ftp\\2019\\base_de_dados_cnes_201902\\tbTpModVinculo201902.parquet.gzip\n",
      "Saved as Parquet: I://base_de_dados//datasus//cnes//datasus_ftp\\2019\\base_de_dados_cnes_201902\\tbTurnoAtendimento201902.parquet.gzip\n",
      "Month Folder: base_de_dados_cnes_201903\n",
      "Saved as Parquet: I://base_de_dados//datasus//cnes//datasus_ftp\\2019\\base_de_dados_cnes_201903\\rlAdmGerenciaCnes201903.parquet.gzip\n",
      "Saved as Parquet: I://base_de_dados//datasus//cnes//datasus_ftp\\2019\\base_de_dados_cnes_201903\\rlAtividadeObrigatoria201903.parquet.gzip\n",
      "Saved as Parquet: I://base_de_dados//datasus//cnes//datasus_ftp\\2019\\base_de_dados_cnes_201903\\rlCooperativa201903.parquet.gzip\n",
      "Saved as Parquet: I://base_de_dados//datasus//cnes//datasus_ftp\\2019\\base_de_dados_cnes_201903\\rlEquipeAldeia201903.parquet.gzip\n",
      "Saved as Parquet: I://base_de_dados//datasus//cnes//datasus_ftp\\2019\\base_de_dados_cnes_201903\\rlEquipeNasfEsf201903.parquet.gzip\n"
     ]
    },
    {
     "name": "stderr",
     "output_type": "stream",
     "text": [
      "C:\\Users\\erick\\AppData\\Local\\Temp\\ipykernel_18324\\463220216.py:31: DtypeWarning: Columns (0) have mixed types. Specify dtype option on import or set low_memory=False.\n",
      "  df = pd.read_csv(csv_path, sep=';')\n"
     ]
    },
    {
     "name": "stdout",
     "output_type": "stream",
     "text": [
      "Saved as Parquet: I://base_de_dados//datasus//cnes//datasus_ftp\\2019\\base_de_dados_cnes_201903\\rlEstabAtendPrestConv201903.parquet.gzip\n",
      "Saved as Parquet: I://base_de_dados//datasus//cnes//datasus_ftp\\2019\\base_de_dados_cnes_201903\\rlEstabAtenPsico201903.parquet.gzip\n",
      "Saved as Parquet: I://base_de_dados//datasus//cnes//datasus_ftp\\2019\\base_de_dados_cnes_201903\\rlEstabAvaliacao201903.parquet.gzip\n",
      "Saved as Parquet: I://base_de_dados//datasus//cnes//datasus_ftp\\2019\\base_de_dados_cnes_201903\\rlEstabCentralReg201903.parquet.gzip\n",
      "Saved as Parquet: I://base_de_dados//datasus//cnes//datasus_ftp\\2019\\base_de_dados_cnes_201903\\rlEstabColetaSelRejeito201903.parquet.gzip\n",
      "Saved as Parquet: I://base_de_dados//datasus//cnes//datasus_ftp\\2019\\base_de_dados_cnes_201903\\rlEstabComissaoOutro201903.parquet.gzip\n",
      "Saved as Parquet: I://base_de_dados//datasus//cnes//datasus_ftp\\2019\\base_de_dados_cnes_201903\\rlEstabComplementar201903.parquet.gzip\n",
      "Saved as Parquet: I://base_de_dados//datasus//cnes//datasus_ftp\\2019\\base_de_dados_cnes_201903\\rlEstabEndCompl201903.parquet.gzip\n",
      "Saved as Parquet: I://base_de_dados//datasus//cnes//datasus_ftp\\2019\\base_de_dados_cnes_201903\\rlEstabEqpEmbarcacao201903.parquet.gzip\n",
      "Saved as Parquet: I://base_de_dados//datasus//cnes//datasus_ftp\\2019\\base_de_dados_cnes_201903\\rlEstabEqpUnidApoio201903.parquet.gzip\n"
     ]
    },
    {
     "name": "stderr",
     "output_type": "stream",
     "text": [
      "C:\\Users\\erick\\AppData\\Local\\Temp\\ipykernel_18324\\463220216.py:31: DtypeWarning: Columns (0) have mixed types. Specify dtype option on import or set low_memory=False.\n",
      "  df = pd.read_csv(csv_path, sep=';')\n"
     ]
    },
    {
     "name": "stdout",
     "output_type": "stream",
     "text": [
      "Saved as Parquet: I://base_de_dados//datasus//cnes//datasus_ftp\\2019\\base_de_dados_cnes_201903\\rlEstabEquipamento201903.parquet.gzip\n",
      "Saved as Parquet: I://base_de_dados//datasus//cnes//datasus_ftp\\2019\\base_de_dados_cnes_201903\\rlEstabEquipeMun201903.parquet.gzip\n"
     ]
    },
    {
     "name": "stderr",
     "output_type": "stream",
     "text": [
      "C:\\Users\\erick\\AppData\\Local\\Temp\\ipykernel_18324\\463220216.py:31: DtypeWarning: Columns (14) have mixed types. Specify dtype option on import or set low_memory=False.\n",
      "  df = pd.read_csv(csv_path, sep=';')\n"
     ]
    },
    {
     "name": "stdout",
     "output_type": "stream",
     "text": [
      "Saved as Parquet: I://base_de_dados//datasus//cnes//datasus_ftp\\2019\\base_de_dados_cnes_201903\\rlEstabEquipeProf201903.parquet.gzip\n",
      "Saved as Parquet: I://base_de_dados//datasus//cnes//datasus_ftp\\2019\\base_de_dados_cnes_201903\\rlEstabInstFisiAssist201903.parquet.gzip\n",
      "Saved as Parquet: I://base_de_dados//datasus//cnes//datasus_ftp\\2019\\base_de_dados_cnes_201903\\rlEstabOrgParc201903.parquet.gzip\n",
      "Saved as Parquet: I://base_de_dados//datasus//cnes//datasus_ftp\\2019\\base_de_dados_cnes_201903\\rlEstabPoloAldeia201903.parquet.gzip\n",
      "Saved as Parquet: I://base_de_dados//datasus//cnes//datasus_ftp\\2019\\base_de_dados_cnes_201903\\rlEstabProfComissao201903.parquet.gzip\n",
      "Saved as Parquet: I://base_de_dados//datasus//cnes//datasus_ftp\\2019\\base_de_dados_cnes_201903\\rlEstabProgFundo201903.parquet.gzip\n",
      "Saved as Parquet: I://base_de_dados//datasus//cnes//datasus_ftp\\2019\\base_de_dados_cnes_201903\\rlEstabRegimeRes201903.parquet.gzip\n",
      "Saved as Parquet: I://base_de_dados//datasus//cnes//datasus_ftp\\2019\\base_de_dados_cnes_201903\\rlEstabRepresentante201903.parquet.gzip\n",
      "Saved as Parquet: I://base_de_dados//datasus//cnes//datasus_ftp\\2019\\base_de_dados_cnes_201903\\rlEstabSamu201903.parquet.gzip\n"
     ]
    },
    {
     "name": "stderr",
     "output_type": "stream",
     "text": [
      "C:\\Users\\erick\\AppData\\Local\\Temp\\ipykernel_18324\\463220216.py:31: DtypeWarning: Columns (0) have mixed types. Specify dtype option on import or set low_memory=False.\n",
      "  df = pd.read_csv(csv_path, sep=';')\n"
     ]
    },
    {
     "name": "stdout",
     "output_type": "stream",
     "text": [
      "Saved as Parquet: I://base_de_dados//datasus//cnes//datasus_ftp\\2019\\base_de_dados_cnes_201903\\rlEstabServClass201903.parquet.gzip\n"
     ]
    },
    {
     "name": "stderr",
     "output_type": "stream",
     "text": [
      "C:\\Users\\erick\\AppData\\Local\\Temp\\ipykernel_18324\\463220216.py:31: DtypeWarning: Columns (2) have mixed types. Specify dtype option on import or set low_memory=False.\n",
      "  df = pd.read_csv(csv_path, sep=';')\n"
     ]
    },
    {
     "name": "stdout",
     "output_type": "stream",
     "text": [
      "Saved as Parquet: I://base_de_dados//datasus//cnes//datasus_ftp\\2019\\base_de_dados_cnes_201903\\rlEstabServicoApoio201903.parquet.gzip\n",
      "Saved as Parquet: I://base_de_dados//datasus//cnes//datasus_ftp\\2019\\base_de_dados_cnes_201903\\rlEstabSipac201903.parquet.gzip\n",
      "Saved as Parquet: I://base_de_dados//datasus//cnes//datasus_ftp\\2019\\base_de_dados_cnes_201903\\rlEstabSubTipo201903.parquet.gzip\n",
      "Saved as Parquet: I://base_de_dados//datasus//cnes//datasus_ftp\\2019\\base_de_dados_cnes_201903\\rlEstabTeleCnes201903.parquet.gzip\n",
      "Saved as Parquet: I://base_de_dados//datasus//cnes//datasus_ftp\\2019\\base_de_dados_cnes_201903\\rlEstabUnidAcolhim201903.parquet.gzip\n",
      "Saved as Parquet: I://base_de_dados//datasus//cnes//datasus_ftp\\2019\\base_de_dados_cnes_201903\\rlMunAtenPsico201903.parquet.gzip\n",
      "Saved as Parquet: I://base_de_dados//datasus//cnes//datasus_ftp\\2019\\base_de_dados_cnes_201903\\rlMunRegimeRes201903.parquet.gzip\n",
      "Saved as Parquet: I://base_de_dados//datasus//cnes//datasus_ftp\\2019\\base_de_dados_cnes_201903\\rlMunUnidAcolhim201903.parquet.gzip\n",
      "Saved as Parquet: I://base_de_dados//datasus//cnes//datasus_ftp\\2019\\base_de_dados_cnes_201903\\rlNasfEsf201903.parquet.gzip\n",
      "Saved as Parquet: I://base_de_dados//datasus//cnes//datasus_ftp\\2019\\base_de_dados_cnes_201903\\rlTipoEstabAtividade201903.parquet.gzip\n",
      "Saved as Parquet: I://base_de_dados//datasus//cnes//datasus_ftp\\2019\\base_de_dados_cnes_201903\\tbAldeia201903.parquet.gzip\n",
      "Saved as Parquet: I://base_de_dados//datasus//cnes//datasus_ftp\\2019\\base_de_dados_cnes_201903\\tbArea201903.parquet.gzip\n",
      "Saved as Parquet: I://base_de_dados//datasus//cnes//datasus_ftp\\2019\\base_de_dados_cnes_201903\\tbAtendimentoPrestado201903.parquet.gzip\n",
      "Saved as Parquet: I://base_de_dados//datasus//cnes//datasus_ftp\\2019\\base_de_dados_cnes_201903\\tbAtividade201903.parquet.gzip\n",
      "Saved as Parquet: I://base_de_dados//datasus//cnes//datasus_ftp\\2019\\base_de_dados_cnes_201903\\tbAtividadeEnsino201903.parquet.gzip\n",
      "Saved as Parquet: I://base_de_dados//datasus//cnes//datasus_ftp\\2019\\base_de_dados_cnes_201903\\tbAtividadeProfissional201903.parquet.gzip\n",
      "Saved as Parquet: I://base_de_dados//datasus//cnes//datasus_ftp\\2019\\base_de_dados_cnes_201903\\tbAtributo201903.parquet.gzip\n",
      "Saved as Parquet: I://base_de_dados//datasus//cnes//datasus_ftp\\2019\\base_de_dados_cnes_201903\\tbAvaliacao201903.parquet.gzip\n",
      "Saved as Parquet: I://base_de_dados//datasus//cnes//datasus_ftp\\2019\\base_de_dados_cnes_201903\\tbBanco201903.parquet.gzip\n"
     ]
    },
    {
     "name": "stderr",
     "output_type": "stream",
     "text": [
      "C:\\Users\\erick\\AppData\\Local\\Temp\\ipykernel_18324\\463220216.py:31: DtypeWarning: Columns (0,12) have mixed types. Specify dtype option on import or set low_memory=False.\n",
      "  df = pd.read_csv(csv_path, sep=';')\n"
     ]
    },
    {
     "name": "stdout",
     "output_type": "stream",
     "text": [
      "Saved as Parquet: I://base_de_dados//datasus//cnes//datasus_ftp\\2019\\base_de_dados_cnes_201903\\tbCargaHorariaSus201903.parquet.gzip\n",
      "Saved as Parquet: I://base_de_dados//datasus//cnes//datasus_ftp\\2019\\base_de_dados_cnes_201903\\tbClassificacaoAval201903.parquet.gzip\n",
      "Saved as Parquet: I://base_de_dados//datasus//cnes//datasus_ftp\\2019\\base_de_dados_cnes_201903\\tbClassificacaoServico201903.parquet.gzip\n",
      "Saved as Parquet: I://base_de_dados//datasus//cnes//datasus_ftp\\2019\\base_de_dados_cnes_201903\\tbColetaSeletivaRejeito201903.parquet.gzip\n",
      "Saved as Parquet: I://base_de_dados//datasus//cnes//datasus_ftp\\2019\\base_de_dados_cnes_201903\\tbComissaoOutro201903.parquet.gzip\n",
      "Saved as Parquet: I://base_de_dados//datasus//cnes//datasus_ftp\\2019\\base_de_dados_cnes_201903\\tbConselhoClasse201903.parquet.gzip\n",
      "Saved as Parquet: I://base_de_dados//datasus//cnes//datasus_ftp\\2019\\base_de_dados_cnes_201903\\tbConvenio201903.parquet.gzip\n",
      "Saved as Parquet: I://base_de_dados//datasus//cnes//datasus_ftp\\2019\\base_de_dados_cnes_201903\\tbDadosProfissionalSus201903.parquet.gzip\n",
      "Saved as Parquet: I://base_de_dados//datasus//cnes//datasus_ftp\\2019\\base_de_dados_cnes_201903\\tbDialise201903.parquet.gzip\n",
      "Saved as Parquet: I://base_de_dados//datasus//cnes//datasus_ftp\\2019\\base_de_dados_cnes_201903\\tbDsei201903.parquet.gzip\n",
      "Saved as Parquet: I://base_de_dados//datasus//cnes//datasus_ftp\\2019\\base_de_dados_cnes_201903\\tbEquipamento201903.parquet.gzip\n",
      "Saved as Parquet: I://base_de_dados//datasus//cnes//datasus_ftp\\2019\\base_de_dados_cnes_201903\\tbEquipe201903.parquet.gzip\n",
      "Saved as Parquet: I://base_de_dados//datasus//cnes//datasus_ftp\\2019\\base_de_dados_cnes_201903\\tbEquipeAtendCompl201903.parquet.gzip\n",
      "Saved as Parquet: I://base_de_dados//datasus//cnes//datasus_ftp\\2019\\base_de_dados_cnes_201903\\tbEquipeChDifer201903.parquet.gzip\n",
      "Saved as Parquet: I://base_de_dados//datasus//cnes//datasus_ftp\\2019\\base_de_dados_cnes_201903\\tbEstabAtivSecundaria201903.parquet.gzip\n",
      "Saved as Parquet: I://base_de_dados//datasus//cnes//datasus_ftp\\2019\\base_de_dados_cnes_201903\\tbEstabContrato201903.parquet.gzip\n"
     ]
    },
    {
     "name": "stderr",
     "output_type": "stream",
     "text": [
      "C:\\Users\\erick\\AppData\\Local\\Temp\\ipykernel_18324\\463220216.py:31: DtypeWarning: Columns (0,15,36,45) have mixed types. Specify dtype option on import or set low_memory=False.\n",
      "  df = pd.read_csv(csv_path, sep=';')\n"
     ]
    },
    {
     "name": "stdout",
     "output_type": "stream",
     "text": [
      "Saved as Parquet: I://base_de_dados//datasus//cnes//datasus_ftp\\2019\\base_de_dados_cnes_201903\\tbEstabelecimento201903.parquet.gzip\n",
      "Saved as Parquet: I://base_de_dados//datasus//cnes//datasus_ftp\\2019\\base_de_dados_cnes_201903\\tbEstabHorarioAtend201903.parquet.gzip\n",
      "Saved as Parquet: I://base_de_dados//datasus//cnes//datasus_ftp\\2019\\base_de_dados_cnes_201903\\tbEstado201903.parquet.gzip\n",
      "Saved as Parquet: I://base_de_dados//datasus//cnes//datasus_ftp\\2019\\base_de_dados_cnes_201903\\tbEtnia201903.parquet.gzip\n",
      "Saved as Parquet: I://base_de_dados//datasus//cnes//datasus_ftp\\2019\\base_de_dados_cnes_201903\\tbFluxoDadosClientela201903.parquet.gzip\n",
      "Saved as Parquet: I://base_de_dados//datasus//cnes//datasus_ftp\\2019\\base_de_dados_cnes_201903\\tbGestao201903.parquet.gzip\n",
      "Saved as Parquet: I://base_de_dados//datasus//cnes//datasus_ftp\\2019\\base_de_dados_cnes_201903\\tbGrupoAtividade201903.parquet.gzip\n",
      "Saved as Parquet: I://base_de_dados//datasus//cnes//datasus_ftp\\2019\\base_de_dados_cnes_201903\\tbGrupoEquipe201903.parquet.gzip\n",
      "Saved as Parquet: I://base_de_dados//datasus//cnes//datasus_ftp\\2019\\base_de_dados_cnes_201903\\tbHemoterapia201903.parquet.gzip\n",
      "Saved as Parquet: I://base_de_dados//datasus//cnes//datasus_ftp\\2019\\base_de_dados_cnes_201903\\tbIncentivos201903.parquet.gzip\n",
      "Saved as Parquet: I://base_de_dados//datasus//cnes//datasus_ftp\\2019\\base_de_dados_cnes_201903\\tbInstalFisicaParaAssist201903.parquet.gzip\n",
      "Saved as Parquet: I://base_de_dados//datasus//cnes//datasus_ftp\\2019\\base_de_dados_cnes_201903\\tbInstituicaoAvaliadora201903.parquet.gzip\n",
      "Saved as Parquet: I://base_de_dados//datasus//cnes//datasus_ftp\\2019\\base_de_dados_cnes_201903\\tbLeito201903.parquet.gzip\n",
      "Saved as Parquet: I://base_de_dados//datasus//cnes//datasus_ftp\\2019\\base_de_dados_cnes_201903\\tbMantenedora201903.parquet.gzip\n",
      "Saved as Parquet: I://base_de_dados//datasus//cnes//datasus_ftp\\2019\\base_de_dados_cnes_201903\\tbModVinculo201903.parquet.gzip\n",
      "Saved as Parquet: I://base_de_dados//datasus//cnes//datasus_ftp\\2019\\base_de_dados_cnes_201903\\tbMotivoDesativacao201903.parquet.gzip\n",
      "Saved as Parquet: I://base_de_dados//datasus//cnes//datasus_ftp\\2019\\base_de_dados_cnes_201903\\tbMotivoDesativEquipe201903.parquet.gzip\n",
      "Saved as Parquet: I://base_de_dados//datasus//cnes//datasus_ftp\\2019\\base_de_dados_cnes_201903\\tbMunicipio201903.parquet.gzip\n",
      "Saved as Parquet: I://base_de_dados//datasus//cnes//datasus_ftp\\2019\\base_de_dados_cnes_201903\\tbNaturezaJuridica201903.parquet.gzip\n",
      "Saved as Parquet: I://base_de_dados//datasus//cnes//datasus_ftp\\2019\\base_de_dados_cnes_201903\\tbOrgaoEmissor201903.parquet.gzip\n",
      "Saved as Parquet: I://base_de_dados//datasus//cnes//datasus_ftp\\2019\\base_de_dados_cnes_201903\\tbPoloBase201903.parquet.gzip\n",
      "Saved as Parquet: I://base_de_dados//datasus//cnes//datasus_ftp\\2019\\base_de_dados_cnes_201903\\tbProfResidencia201903.parquet.gzip\n",
      "Saved as Parquet: I://base_de_dados//datasus//cnes//datasus_ftp\\2019\\base_de_dados_cnes_201903\\tbQuimioRadio201903.parquet.gzip\n",
      "Saved as Parquet: I://base_de_dados//datasus//cnes//datasus_ftp\\2019\\base_de_dados_cnes_201903\\tbResidenciaMed201903.parquet.gzip\n",
      "Saved as Parquet: I://base_de_dados//datasus//cnes//datasus_ftp\\2019\\base_de_dados_cnes_201903\\tbSegmento201903.parquet.gzip\n",
      "Saved as Parquet: I://base_de_dados//datasus//cnes//datasus_ftp\\2019\\base_de_dados_cnes_201903\\tbServicoApoio201903.parquet.gzip\n",
      "Saved as Parquet: I://base_de_dados//datasus//cnes//datasus_ftp\\2019\\base_de_dados_cnes_201903\\tbServicoEspecializado201903.parquet.gzip\n",
      "Saved as Parquet: I://base_de_dados//datasus//cnes//datasus_ftp\\2019\\base_de_dados_cnes_201903\\tbServicoReferenciado201903.parquet.gzip\n",
      "Saved as Parquet: I://base_de_dados//datasus//cnes//datasus_ftp\\2019\\base_de_dados_cnes_201903\\tbSubGruposHabilitacao201903.parquet.gzip\n",
      "Saved as Parquet: I://base_de_dados//datasus//cnes//datasus_ftp\\2019\\base_de_dados_cnes_201903\\tbSubTipo201903.parquet.gzip\n",
      "Saved as Parquet: I://base_de_dados//datasus//cnes//datasus_ftp\\2019\\base_de_dados_cnes_201903\\tbSubTipoEquipe201903.parquet.gzip\n",
      "Saved as Parquet: I://base_de_dados//datasus//cnes//datasus_ftp\\2019\\base_de_dados_cnes_201903\\tbSubtipoInstalacao201903.parquet.gzip\n",
      "Saved as Parquet: I://base_de_dados//datasus//cnes//datasus_ftp\\2019\\base_de_dados_cnes_201903\\tbSubTpModVinculo201903.parquet.gzip\n",
      "Saved as Parquet: I://base_de_dados//datasus//cnes//datasus_ftp\\2019\\base_de_dados_cnes_201903\\tbTipoCertidao201903.parquet.gzip\n",
      "Saved as Parquet: I://base_de_dados//datasus//cnes//datasus_ftp\\2019\\base_de_dados_cnes_201903\\tbTipoCgDifer201903.parquet.gzip\n",
      "Saved as Parquet: I://base_de_dados//datasus//cnes//datasus_ftp\\2019\\base_de_dados_cnes_201903\\tbTipoEqSubTipo201903.parquet.gzip\n",
      "Saved as Parquet: I://base_de_dados//datasus//cnes//datasus_ftp\\2019\\base_de_dados_cnes_201903\\tbTipoEquipamento201903.parquet.gzip\n",
      "Saved as Parquet: I://base_de_dados//datasus//cnes//datasus_ftp\\2019\\base_de_dados_cnes_201903\\tbTipoEquipe201903.parquet.gzip\n",
      "Saved as Parquet: I://base_de_dados//datasus//cnes//datasus_ftp\\2019\\base_de_dados_cnes_201903\\tbTipoEscolaridade201903.parquet.gzip\n",
      "Saved as Parquet: I://base_de_dados//datasus//cnes//datasus_ftp\\2019\\base_de_dados_cnes_201903\\tbTipoEstabelecimento201903.parquet.gzip\n",
      "Saved as Parquet: I://base_de_dados//datasus//cnes//datasus_ftp\\2019\\base_de_dados_cnes_201903\\tbTipoServicoReferenciado201903.parquet.gzip\n",
      "Saved as Parquet: I://base_de_dados//datasus//cnes//datasus_ftp\\2019\\base_de_dados_cnes_201903\\tbTipoUnidade201903.parquet.gzip\n",
      "Saved as Parquet: I://base_de_dados//datasus//cnes//datasus_ftp\\2019\\base_de_dados_cnes_201903\\tbTpModVinculo201903.parquet.gzip\n",
      "Saved as Parquet: I://base_de_dados//datasus//cnes//datasus_ftp\\2019\\base_de_dados_cnes_201903\\tbTurnoAtendimento201903.parquet.gzip\n",
      "Month Folder: base_de_dados_cnes_201904\n",
      "Saved as Parquet: I://base_de_dados//datasus//cnes//datasus_ftp\\2019\\base_de_dados_cnes_201904\\rlAdmGerenciaCnes201904.parquet.gzip\n",
      "Saved as Parquet: I://base_de_dados//datasus//cnes//datasus_ftp\\2019\\base_de_dados_cnes_201904\\rlAtividadeObrigatoria201904.parquet.gzip\n",
      "Saved as Parquet: I://base_de_dados//datasus//cnes//datasus_ftp\\2019\\base_de_dados_cnes_201904\\rlCooperativa201904.parquet.gzip\n",
      "Saved as Parquet: I://base_de_dados//datasus//cnes//datasus_ftp\\2019\\base_de_dados_cnes_201904\\rlEquipeAldeia201904.parquet.gzip\n",
      "Saved as Parquet: I://base_de_dados//datasus//cnes//datasus_ftp\\2019\\base_de_dados_cnes_201904\\rlEquipeNasfEsf201904.parquet.gzip\n"
     ]
    },
    {
     "name": "stderr",
     "output_type": "stream",
     "text": [
      "C:\\Users\\erick\\AppData\\Local\\Temp\\ipykernel_18324\\463220216.py:31: DtypeWarning: Columns (0) have mixed types. Specify dtype option on import or set low_memory=False.\n",
      "  df = pd.read_csv(csv_path, sep=';')\n"
     ]
    },
    {
     "name": "stdout",
     "output_type": "stream",
     "text": [
      "Saved as Parquet: I://base_de_dados//datasus//cnes//datasus_ftp\\2019\\base_de_dados_cnes_201904\\rlEstabAtendPrestConv201904.parquet.gzip\n",
      "Saved as Parquet: I://base_de_dados//datasus//cnes//datasus_ftp\\2019\\base_de_dados_cnes_201904\\rlEstabAtenPsico201904.parquet.gzip\n",
      "Saved as Parquet: I://base_de_dados//datasus//cnes//datasus_ftp\\2019\\base_de_dados_cnes_201904\\rlEstabAvaliacao201904.parquet.gzip\n",
      "Saved as Parquet: I://base_de_dados//datasus//cnes//datasus_ftp\\2019\\base_de_dados_cnes_201904\\rlEstabCentralReg201904.parquet.gzip\n",
      "Saved as Parquet: I://base_de_dados//datasus//cnes//datasus_ftp\\2019\\base_de_dados_cnes_201904\\rlEstabColetaSelRejeito201904.parquet.gzip\n",
      "Saved as Parquet: I://base_de_dados//datasus//cnes//datasus_ftp\\2019\\base_de_dados_cnes_201904\\rlEstabComissaoOutro201904.parquet.gzip\n",
      "Saved as Parquet: I://base_de_dados//datasus//cnes//datasus_ftp\\2019\\base_de_dados_cnes_201904\\rlEstabComplementar201904.parquet.gzip\n",
      "Saved as Parquet: I://base_de_dados//datasus//cnes//datasus_ftp\\2019\\base_de_dados_cnes_201904\\rlEstabEndCompl201904.parquet.gzip\n",
      "Saved as Parquet: I://base_de_dados//datasus//cnes//datasus_ftp\\2019\\base_de_dados_cnes_201904\\rlEstabEqpEmbarcacao201904.parquet.gzip\n",
      "Saved as Parquet: I://base_de_dados//datasus//cnes//datasus_ftp\\2019\\base_de_dados_cnes_201904\\rlEstabEqpUnidApoio201904.parquet.gzip\n"
     ]
    },
    {
     "name": "stderr",
     "output_type": "stream",
     "text": [
      "C:\\Users\\erick\\AppData\\Local\\Temp\\ipykernel_18324\\463220216.py:31: DtypeWarning: Columns (0) have mixed types. Specify dtype option on import or set low_memory=False.\n",
      "  df = pd.read_csv(csv_path, sep=';')\n"
     ]
    },
    {
     "name": "stdout",
     "output_type": "stream",
     "text": [
      "Saved as Parquet: I://base_de_dados//datasus//cnes//datasus_ftp\\2019\\base_de_dados_cnes_201904\\rlEstabEquipamento201904.parquet.gzip\n",
      "Saved as Parquet: I://base_de_dados//datasus//cnes//datasus_ftp\\2019\\base_de_dados_cnes_201904\\rlEstabEquipeMun201904.parquet.gzip\n"
     ]
    },
    {
     "name": "stderr",
     "output_type": "stream",
     "text": [
      "C:\\Users\\erick\\AppData\\Local\\Temp\\ipykernel_18324\\463220216.py:31: DtypeWarning: Columns (14) have mixed types. Specify dtype option on import or set low_memory=False.\n",
      "  df = pd.read_csv(csv_path, sep=';')\n"
     ]
    },
    {
     "name": "stdout",
     "output_type": "stream",
     "text": [
      "Saved as Parquet: I://base_de_dados//datasus//cnes//datasus_ftp\\2019\\base_de_dados_cnes_201904\\rlEstabEquipeProf201904.parquet.gzip\n",
      "Saved as Parquet: I://base_de_dados//datasus//cnes//datasus_ftp\\2019\\base_de_dados_cnes_201904\\rlEstabInstFisiAssist201904.parquet.gzip\n",
      "Saved as Parquet: I://base_de_dados//datasus//cnes//datasus_ftp\\2019\\base_de_dados_cnes_201904\\rlEstabOrgParc201904.parquet.gzip\n",
      "Saved as Parquet: I://base_de_dados//datasus//cnes//datasus_ftp\\2019\\base_de_dados_cnes_201904\\rlEstabPoloAldeia201904.parquet.gzip\n",
      "Saved as Parquet: I://base_de_dados//datasus//cnes//datasus_ftp\\2019\\base_de_dados_cnes_201904\\rlEstabProfComissao201904.parquet.gzip\n",
      "Saved as Parquet: I://base_de_dados//datasus//cnes//datasus_ftp\\2019\\base_de_dados_cnes_201904\\rlEstabProgFundo201904.parquet.gzip\n",
      "Saved as Parquet: I://base_de_dados//datasus//cnes//datasus_ftp\\2019\\base_de_dados_cnes_201904\\rlEstabRegimeRes201904.parquet.gzip\n",
      "Saved as Parquet: I://base_de_dados//datasus//cnes//datasus_ftp\\2019\\base_de_dados_cnes_201904\\rlEstabRepresentante201904.parquet.gzip\n",
      "Saved as Parquet: I://base_de_dados//datasus//cnes//datasus_ftp\\2019\\base_de_dados_cnes_201904\\rlEstabSamu201904.parquet.gzip\n"
     ]
    },
    {
     "name": "stderr",
     "output_type": "stream",
     "text": [
      "C:\\Users\\erick\\AppData\\Local\\Temp\\ipykernel_18324\\463220216.py:31: DtypeWarning: Columns (0) have mixed types. Specify dtype option on import or set low_memory=False.\n",
      "  df = pd.read_csv(csv_path, sep=';')\n"
     ]
    },
    {
     "name": "stdout",
     "output_type": "stream",
     "text": [
      "Saved as Parquet: I://base_de_dados//datasus//cnes//datasus_ftp\\2019\\base_de_dados_cnes_201904\\rlEstabServClass201904.parquet.gzip\n"
     ]
    },
    {
     "name": "stderr",
     "output_type": "stream",
     "text": [
      "C:\\Users\\erick\\AppData\\Local\\Temp\\ipykernel_18324\\463220216.py:31: DtypeWarning: Columns (2) have mixed types. Specify dtype option on import or set low_memory=False.\n",
      "  df = pd.read_csv(csv_path, sep=';')\n"
     ]
    },
    {
     "name": "stdout",
     "output_type": "stream",
     "text": [
      "Saved as Parquet: I://base_de_dados//datasus//cnes//datasus_ftp\\2019\\base_de_dados_cnes_201904\\rlEstabServicoApoio201904.parquet.gzip\n",
      "Saved as Parquet: I://base_de_dados//datasus//cnes//datasus_ftp\\2019\\base_de_dados_cnes_201904\\rlEstabSipac201904.parquet.gzip\n",
      "Saved as Parquet: I://base_de_dados//datasus//cnes//datasus_ftp\\2019\\base_de_dados_cnes_201904\\rlEstabSubTipo201904.parquet.gzip\n",
      "Saved as Parquet: I://base_de_dados//datasus//cnes//datasus_ftp\\2019\\base_de_dados_cnes_201904\\rlEstabTeleCnes201904.parquet.gzip\n",
      "Saved as Parquet: I://base_de_dados//datasus//cnes//datasus_ftp\\2019\\base_de_dados_cnes_201904\\rlEstabUnidAcolhim201904.parquet.gzip\n",
      "Saved as Parquet: I://base_de_dados//datasus//cnes//datasus_ftp\\2019\\base_de_dados_cnes_201904\\rlMunAtenPsico201904.parquet.gzip\n",
      "Saved as Parquet: I://base_de_dados//datasus//cnes//datasus_ftp\\2019\\base_de_dados_cnes_201904\\rlMunRegimeRes201904.parquet.gzip\n",
      "Saved as Parquet: I://base_de_dados//datasus//cnes//datasus_ftp\\2019\\base_de_dados_cnes_201904\\rlMunUnidAcolhim201904.parquet.gzip\n",
      "Saved as Parquet: I://base_de_dados//datasus//cnes//datasus_ftp\\2019\\base_de_dados_cnes_201904\\rlNasfEsf201904.parquet.gzip\n",
      "Saved as Parquet: I://base_de_dados//datasus//cnes//datasus_ftp\\2019\\base_de_dados_cnes_201904\\rlTipoEstabAtividade201904.parquet.gzip\n",
      "Saved as Parquet: I://base_de_dados//datasus//cnes//datasus_ftp\\2019\\base_de_dados_cnes_201904\\tbAldeia201904.parquet.gzip\n",
      "Saved as Parquet: I://base_de_dados//datasus//cnes//datasus_ftp\\2019\\base_de_dados_cnes_201904\\tbArea201904.parquet.gzip\n",
      "Saved as Parquet: I://base_de_dados//datasus//cnes//datasus_ftp\\2019\\base_de_dados_cnes_201904\\tbAtendimentoPrestado201904.parquet.gzip\n",
      "Saved as Parquet: I://base_de_dados//datasus//cnes//datasus_ftp\\2019\\base_de_dados_cnes_201904\\tbAtividade201904.parquet.gzip\n",
      "Saved as Parquet: I://base_de_dados//datasus//cnes//datasus_ftp\\2019\\base_de_dados_cnes_201904\\tbAtividadeEnsino201904.parquet.gzip\n",
      "Saved as Parquet: I://base_de_dados//datasus//cnes//datasus_ftp\\2019\\base_de_dados_cnes_201904\\tbAtividadeProfissional201904.parquet.gzip\n",
      "Saved as Parquet: I://base_de_dados//datasus//cnes//datasus_ftp\\2019\\base_de_dados_cnes_201904\\tbAtributo201904.parquet.gzip\n",
      "Saved as Parquet: I://base_de_dados//datasus//cnes//datasus_ftp\\2019\\base_de_dados_cnes_201904\\tbAvaliacao201904.parquet.gzip\n",
      "Saved as Parquet: I://base_de_dados//datasus//cnes//datasus_ftp\\2019\\base_de_dados_cnes_201904\\tbBanco201904.parquet.gzip\n"
     ]
    },
    {
     "name": "stderr",
     "output_type": "stream",
     "text": [
      "C:\\Users\\erick\\AppData\\Local\\Temp\\ipykernel_18324\\463220216.py:31: DtypeWarning: Columns (0,12) have mixed types. Specify dtype option on import or set low_memory=False.\n",
      "  df = pd.read_csv(csv_path, sep=';')\n"
     ]
    },
    {
     "name": "stdout",
     "output_type": "stream",
     "text": [
      "Saved as Parquet: I://base_de_dados//datasus//cnes//datasus_ftp\\2019\\base_de_dados_cnes_201904\\tbCargaHorariaSus201904.parquet.gzip\n",
      "Saved as Parquet: I://base_de_dados//datasus//cnes//datasus_ftp\\2019\\base_de_dados_cnes_201904\\tbClassificacaoAval201904.parquet.gzip\n",
      "Saved as Parquet: I://base_de_dados//datasus//cnes//datasus_ftp\\2019\\base_de_dados_cnes_201904\\tbClassificacaoServico201904.parquet.gzip\n",
      "Saved as Parquet: I://base_de_dados//datasus//cnes//datasus_ftp\\2019\\base_de_dados_cnes_201904\\tbColetaSeletivaRejeito201904.parquet.gzip\n",
      "Saved as Parquet: I://base_de_dados//datasus//cnes//datasus_ftp\\2019\\base_de_dados_cnes_201904\\tbComissaoOutro201904.parquet.gzip\n",
      "Saved as Parquet: I://base_de_dados//datasus//cnes//datasus_ftp\\2019\\base_de_dados_cnes_201904\\tbConselhoClasse201904.parquet.gzip\n",
      "Saved as Parquet: I://base_de_dados//datasus//cnes//datasus_ftp\\2019\\base_de_dados_cnes_201904\\tbConvenio201904.parquet.gzip\n",
      "Saved as Parquet: I://base_de_dados//datasus//cnes//datasus_ftp\\2019\\base_de_dados_cnes_201904\\tbDadosProfissionalSus201904.parquet.gzip\n",
      "Saved as Parquet: I://base_de_dados//datasus//cnes//datasus_ftp\\2019\\base_de_dados_cnes_201904\\tbDialise201904.parquet.gzip\n",
      "Saved as Parquet: I://base_de_dados//datasus//cnes//datasus_ftp\\2019\\base_de_dados_cnes_201904\\tbDsei201904.parquet.gzip\n",
      "Saved as Parquet: I://base_de_dados//datasus//cnes//datasus_ftp\\2019\\base_de_dados_cnes_201904\\tbEquipamento201904.parquet.gzip\n",
      "Saved as Parquet: I://base_de_dados//datasus//cnes//datasus_ftp\\2019\\base_de_dados_cnes_201904\\tbEquipe201904.parquet.gzip\n",
      "Saved as Parquet: I://base_de_dados//datasus//cnes//datasus_ftp\\2019\\base_de_dados_cnes_201904\\tbEquipeAtendCompl201904.parquet.gzip\n",
      "Saved as Parquet: I://base_de_dados//datasus//cnes//datasus_ftp\\2019\\base_de_dados_cnes_201904\\tbEquipeChDifer201904.parquet.gzip\n",
      "Saved as Parquet: I://base_de_dados//datasus//cnes//datasus_ftp\\2019\\base_de_dados_cnes_201904\\tbEstabAtivSecundaria201904.parquet.gzip\n",
      "Saved as Parquet: I://base_de_dados//datasus//cnes//datasus_ftp\\2019\\base_de_dados_cnes_201904\\tbEstabContrato201904.parquet.gzip\n"
     ]
    },
    {
     "name": "stderr",
     "output_type": "stream",
     "text": [
      "C:\\Users\\erick\\AppData\\Local\\Temp\\ipykernel_18324\\463220216.py:31: DtypeWarning: Columns (0,14,15,36,45) have mixed types. Specify dtype option on import or set low_memory=False.\n",
      "  df = pd.read_csv(csv_path, sep=';')\n"
     ]
    },
    {
     "name": "stdout",
     "output_type": "stream",
     "text": [
      "Saved as Parquet: I://base_de_dados//datasus//cnes//datasus_ftp\\2019\\base_de_dados_cnes_201904\\tbEstabelecimento201904.parquet.gzip\n",
      "Saved as Parquet: I://base_de_dados//datasus//cnes//datasus_ftp\\2019\\base_de_dados_cnes_201904\\tbEstabHorarioAtend201904.parquet.gzip\n",
      "Saved as Parquet: I://base_de_dados//datasus//cnes//datasus_ftp\\2019\\base_de_dados_cnes_201904\\tbEstado201904.parquet.gzip\n",
      "Saved as Parquet: I://base_de_dados//datasus//cnes//datasus_ftp\\2019\\base_de_dados_cnes_201904\\tbEtnia201904.parquet.gzip\n",
      "Saved as Parquet: I://base_de_dados//datasus//cnes//datasus_ftp\\2019\\base_de_dados_cnes_201904\\tbFluxoDadosClientela201904.parquet.gzip\n",
      "Saved as Parquet: I://base_de_dados//datasus//cnes//datasus_ftp\\2019\\base_de_dados_cnes_201904\\tbGestao201904.parquet.gzip\n",
      "Saved as Parquet: I://base_de_dados//datasus//cnes//datasus_ftp\\2019\\base_de_dados_cnes_201904\\tbGrupoAtividade201904.parquet.gzip\n",
      "Saved as Parquet: I://base_de_dados//datasus//cnes//datasus_ftp\\2019\\base_de_dados_cnes_201904\\tbGrupoEquipe201904.parquet.gzip\n",
      "Saved as Parquet: I://base_de_dados//datasus//cnes//datasus_ftp\\2019\\base_de_dados_cnes_201904\\tbHemoterapia201904.parquet.gzip\n",
      "Saved as Parquet: I://base_de_dados//datasus//cnes//datasus_ftp\\2019\\base_de_dados_cnes_201904\\tbIncentivos201904.parquet.gzip\n",
      "Saved as Parquet: I://base_de_dados//datasus//cnes//datasus_ftp\\2019\\base_de_dados_cnes_201904\\tbInstalFisicaParaAssist201904.parquet.gzip\n",
      "Saved as Parquet: I://base_de_dados//datasus//cnes//datasus_ftp\\2019\\base_de_dados_cnes_201904\\tbInstituicaoAvaliadora201904.parquet.gzip\n",
      "Saved as Parquet: I://base_de_dados//datasus//cnes//datasus_ftp\\2019\\base_de_dados_cnes_201904\\tbLeito201904.parquet.gzip\n",
      "Saved as Parquet: I://base_de_dados//datasus//cnes//datasus_ftp\\2019\\base_de_dados_cnes_201904\\tbMantenedora201904.parquet.gzip\n",
      "Saved as Parquet: I://base_de_dados//datasus//cnes//datasus_ftp\\2019\\base_de_dados_cnes_201904\\tbModVinculo201904.parquet.gzip\n",
      "Saved as Parquet: I://base_de_dados//datasus//cnes//datasus_ftp\\2019\\base_de_dados_cnes_201904\\tbMotivoDesativacao201904.parquet.gzip\n",
      "Saved as Parquet: I://base_de_dados//datasus//cnes//datasus_ftp\\2019\\base_de_dados_cnes_201904\\tbMotivoDesativEquipe201904.parquet.gzip\n",
      "Saved as Parquet: I://base_de_dados//datasus//cnes//datasus_ftp\\2019\\base_de_dados_cnes_201904\\tbMunicipio201904.parquet.gzip\n",
      "Saved as Parquet: I://base_de_dados//datasus//cnes//datasus_ftp\\2019\\base_de_dados_cnes_201904\\tbNaturezaJuridica201904.parquet.gzip\n",
      "Saved as Parquet: I://base_de_dados//datasus//cnes//datasus_ftp\\2019\\base_de_dados_cnes_201904\\tbOrgaoEmissor201904.parquet.gzip\n",
      "Saved as Parquet: I://base_de_dados//datasus//cnes//datasus_ftp\\2019\\base_de_dados_cnes_201904\\tbPoloBase201904.parquet.gzip\n",
      "Saved as Parquet: I://base_de_dados//datasus//cnes//datasus_ftp\\2019\\base_de_dados_cnes_201904\\tbProfResidencia201904.parquet.gzip\n",
      "Saved as Parquet: I://base_de_dados//datasus//cnes//datasus_ftp\\2019\\base_de_dados_cnes_201904\\tbQuimioRadio201904.parquet.gzip\n",
      "Saved as Parquet: I://base_de_dados//datasus//cnes//datasus_ftp\\2019\\base_de_dados_cnes_201904\\tbResidenciaMed201904.parquet.gzip\n",
      "Saved as Parquet: I://base_de_dados//datasus//cnes//datasus_ftp\\2019\\base_de_dados_cnes_201904\\tbSegmento201904.parquet.gzip\n",
      "Saved as Parquet: I://base_de_dados//datasus//cnes//datasus_ftp\\2019\\base_de_dados_cnes_201904\\tbServicoApoio201904.parquet.gzip\n",
      "Saved as Parquet: I://base_de_dados//datasus//cnes//datasus_ftp\\2019\\base_de_dados_cnes_201904\\tbServicoEspecializado201904.parquet.gzip\n",
      "Saved as Parquet: I://base_de_dados//datasus//cnes//datasus_ftp\\2019\\base_de_dados_cnes_201904\\tbServicoReferenciado201904.parquet.gzip\n",
      "Saved as Parquet: I://base_de_dados//datasus//cnes//datasus_ftp\\2019\\base_de_dados_cnes_201904\\tbSubGruposHabilitacao201904.parquet.gzip\n",
      "Saved as Parquet: I://base_de_dados//datasus//cnes//datasus_ftp\\2019\\base_de_dados_cnes_201904\\tbSubTipo201904.parquet.gzip\n",
      "Saved as Parquet: I://base_de_dados//datasus//cnes//datasus_ftp\\2019\\base_de_dados_cnes_201904\\tbSubTipoEquipe201904.parquet.gzip\n",
      "Saved as Parquet: I://base_de_dados//datasus//cnes//datasus_ftp\\2019\\base_de_dados_cnes_201904\\tbSubtipoInstalacao201904.parquet.gzip\n",
      "Saved as Parquet: I://base_de_dados//datasus//cnes//datasus_ftp\\2019\\base_de_dados_cnes_201904\\tbSubTpModVinculo201904.parquet.gzip\n",
      "Saved as Parquet: I://base_de_dados//datasus//cnes//datasus_ftp\\2019\\base_de_dados_cnes_201904\\tbTipoCertidao201904.parquet.gzip\n",
      "Saved as Parquet: I://base_de_dados//datasus//cnes//datasus_ftp\\2019\\base_de_dados_cnes_201904\\tbTipoCgDifer201904.parquet.gzip\n",
      "Saved as Parquet: I://base_de_dados//datasus//cnes//datasus_ftp\\2019\\base_de_dados_cnes_201904\\tbTipoEqSubTipo201904.parquet.gzip\n",
      "Saved as Parquet: I://base_de_dados//datasus//cnes//datasus_ftp\\2019\\base_de_dados_cnes_201904\\tbTipoEquipamento201904.parquet.gzip\n",
      "Saved as Parquet: I://base_de_dados//datasus//cnes//datasus_ftp\\2019\\base_de_dados_cnes_201904\\tbTipoEquipe201904.parquet.gzip\n",
      "Saved as Parquet: I://base_de_dados//datasus//cnes//datasus_ftp\\2019\\base_de_dados_cnes_201904\\tbTipoEscolaridade201904.parquet.gzip\n",
      "Saved as Parquet: I://base_de_dados//datasus//cnes//datasus_ftp\\2019\\base_de_dados_cnes_201904\\tbTipoEstabelecimento201904.parquet.gzip\n",
      "Saved as Parquet: I://base_de_dados//datasus//cnes//datasus_ftp\\2019\\base_de_dados_cnes_201904\\tbTipoInstalacaoFisica201904.parquet.gzip\n",
      "Saved as Parquet: I://base_de_dados//datasus//cnes//datasus_ftp\\2019\\base_de_dados_cnes_201904\\tbTipoServicoReferenciado201904.parquet.gzip\n",
      "Saved as Parquet: I://base_de_dados//datasus//cnes//datasus_ftp\\2019\\base_de_dados_cnes_201904\\tbTipoUnidade201904.parquet.gzip\n",
      "Saved as Parquet: I://base_de_dados//datasus//cnes//datasus_ftp\\2019\\base_de_dados_cnes_201904\\tbTpModVinculo201904.parquet.gzip\n",
      "Saved as Parquet: I://base_de_dados//datasus//cnes//datasus_ftp\\2019\\base_de_dados_cnes_201904\\tbTurnoAtendimento201904.parquet.gzip\n",
      "Month Folder: base_de_dados_cnes_201905\n",
      "Saved as Parquet: I://base_de_dados//datasus//cnes//datasus_ftp\\2019\\base_de_dados_cnes_201905\\rlAdmGerenciaCnes201905.parquet.gzip\n",
      "Saved as Parquet: I://base_de_dados//datasus//cnes//datasus_ftp\\2019\\base_de_dados_cnes_201905\\rlAtividadeObrigatoria201905.parquet.gzip\n",
      "Saved as Parquet: I://base_de_dados//datasus//cnes//datasus_ftp\\2019\\base_de_dados_cnes_201905\\rlCooperativa201905.parquet.gzip\n",
      "Saved as Parquet: I://base_de_dados//datasus//cnes//datasus_ftp\\2019\\base_de_dados_cnes_201905\\rlEquipeAldeia201905.parquet.gzip\n",
      "Saved as Parquet: I://base_de_dados//datasus//cnes//datasus_ftp\\2019\\base_de_dados_cnes_201905\\rlEquipeNasfEsf201905.parquet.gzip\n"
     ]
    },
    {
     "name": "stderr",
     "output_type": "stream",
     "text": [
      "C:\\Users\\erick\\AppData\\Local\\Temp\\ipykernel_18324\\463220216.py:31: DtypeWarning: Columns (0) have mixed types. Specify dtype option on import or set low_memory=False.\n",
      "  df = pd.read_csv(csv_path, sep=';')\n"
     ]
    },
    {
     "name": "stdout",
     "output_type": "stream",
     "text": [
      "Saved as Parquet: I://base_de_dados//datasus//cnes//datasus_ftp\\2019\\base_de_dados_cnes_201905\\rlEstabAtendPrestConv201905.parquet.gzip\n",
      "Saved as Parquet: I://base_de_dados//datasus//cnes//datasus_ftp\\2019\\base_de_dados_cnes_201905\\rlEstabAtenPsico201905.parquet.gzip\n",
      "Saved as Parquet: I://base_de_dados//datasus//cnes//datasus_ftp\\2019\\base_de_dados_cnes_201905\\rlEstabAvaliacao201905.parquet.gzip\n",
      "Saved as Parquet: I://base_de_dados//datasus//cnes//datasus_ftp\\2019\\base_de_dados_cnes_201905\\rlEstabCentralReg201905.parquet.gzip\n",
      "Saved as Parquet: I://base_de_dados//datasus//cnes//datasus_ftp\\2019\\base_de_dados_cnes_201905\\rlEstabColetaSelRejeito201905.parquet.gzip\n",
      "Saved as Parquet: I://base_de_dados//datasus//cnes//datasus_ftp\\2019\\base_de_dados_cnes_201905\\rlEstabComissaoOutro201905.parquet.gzip\n",
      "Saved as Parquet: I://base_de_dados//datasus//cnes//datasus_ftp\\2019\\base_de_dados_cnes_201905\\rlEstabComplementar201905.parquet.gzip\n",
      "Saved as Parquet: I://base_de_dados//datasus//cnes//datasus_ftp\\2019\\base_de_dados_cnes_201905\\rlEstabEndCompl201905.parquet.gzip\n",
      "Saved as Parquet: I://base_de_dados//datasus//cnes//datasus_ftp\\2019\\base_de_dados_cnes_201905\\rlEstabEqpEmbarcacao201905.parquet.gzip\n",
      "Saved as Parquet: I://base_de_dados//datasus//cnes//datasus_ftp\\2019\\base_de_dados_cnes_201905\\rlEstabEqpUnidApoio201905.parquet.gzip\n"
     ]
    },
    {
     "name": "stderr",
     "output_type": "stream",
     "text": [
      "C:\\Users\\erick\\AppData\\Local\\Temp\\ipykernel_18324\\463220216.py:31: DtypeWarning: Columns (0) have mixed types. Specify dtype option on import or set low_memory=False.\n",
      "  df = pd.read_csv(csv_path, sep=';')\n"
     ]
    },
    {
     "name": "stdout",
     "output_type": "stream",
     "text": [
      "Saved as Parquet: I://base_de_dados//datasus//cnes//datasus_ftp\\2019\\base_de_dados_cnes_201905\\rlEstabEquipamento201905.parquet.gzip\n",
      "Saved as Parquet: I://base_de_dados//datasus//cnes//datasus_ftp\\2019\\base_de_dados_cnes_201905\\rlEstabEquipeMun201905.parquet.gzip\n"
     ]
    },
    {
     "name": "stderr",
     "output_type": "stream",
     "text": [
      "C:\\Users\\erick\\AppData\\Local\\Temp\\ipykernel_18324\\463220216.py:31: DtypeWarning: Columns (14) have mixed types. Specify dtype option on import or set low_memory=False.\n",
      "  df = pd.read_csv(csv_path, sep=';')\n"
     ]
    },
    {
     "name": "stdout",
     "output_type": "stream",
     "text": [
      "Saved as Parquet: I://base_de_dados//datasus//cnes//datasus_ftp\\2019\\base_de_dados_cnes_201905\\rlEstabEquipeProf201905.parquet.gzip\n",
      "Saved as Parquet: I://base_de_dados//datasus//cnes//datasus_ftp\\2019\\base_de_dados_cnes_201905\\rlEstabInstFisiAssist201905.parquet.gzip\n",
      "Saved as Parquet: I://base_de_dados//datasus//cnes//datasus_ftp\\2019\\base_de_dados_cnes_201905\\rlEstabOrgParc201905.parquet.gzip\n",
      "Saved as Parquet: I://base_de_dados//datasus//cnes//datasus_ftp\\2019\\base_de_dados_cnes_201905\\rlEstabPoloAldeia201905.parquet.gzip\n",
      "Saved as Parquet: I://base_de_dados//datasus//cnes//datasus_ftp\\2019\\base_de_dados_cnes_201905\\rlEstabProfComissao201905.parquet.gzip\n",
      "Saved as Parquet: I://base_de_dados//datasus//cnes//datasus_ftp\\2019\\base_de_dados_cnes_201905\\rlEstabProgFundo201905.parquet.gzip\n",
      "Saved as Parquet: I://base_de_dados//datasus//cnes//datasus_ftp\\2019\\base_de_dados_cnes_201905\\rlEstabRegimeRes201905.parquet.gzip\n",
      "Saved as Parquet: I://base_de_dados//datasus//cnes//datasus_ftp\\2019\\base_de_dados_cnes_201905\\rlEstabRepresentante201905.parquet.gzip\n",
      "Saved as Parquet: I://base_de_dados//datasus//cnes//datasus_ftp\\2019\\base_de_dados_cnes_201905\\rlEstabSamu201905.parquet.gzip\n"
     ]
    },
    {
     "name": "stderr",
     "output_type": "stream",
     "text": [
      "C:\\Users\\erick\\AppData\\Local\\Temp\\ipykernel_18324\\463220216.py:31: DtypeWarning: Columns (0) have mixed types. Specify dtype option on import or set low_memory=False.\n",
      "  df = pd.read_csv(csv_path, sep=';')\n"
     ]
    },
    {
     "name": "stdout",
     "output_type": "stream",
     "text": [
      "Saved as Parquet: I://base_de_dados//datasus//cnes//datasus_ftp\\2019\\base_de_dados_cnes_201905\\rlEstabServClass201905.parquet.gzip\n"
     ]
    },
    {
     "name": "stderr",
     "output_type": "stream",
     "text": [
      "C:\\Users\\erick\\AppData\\Local\\Temp\\ipykernel_18324\\463220216.py:31: DtypeWarning: Columns (2) have mixed types. Specify dtype option on import or set low_memory=False.\n",
      "  df = pd.read_csv(csv_path, sep=';')\n"
     ]
    },
    {
     "name": "stdout",
     "output_type": "stream",
     "text": [
      "Saved as Parquet: I://base_de_dados//datasus//cnes//datasus_ftp\\2019\\base_de_dados_cnes_201905\\rlEstabServicoApoio201905.parquet.gzip\n",
      "Saved as Parquet: I://base_de_dados//datasus//cnes//datasus_ftp\\2019\\base_de_dados_cnes_201905\\rlEstabSipac201905.parquet.gzip\n",
      "Saved as Parquet: I://base_de_dados//datasus//cnes//datasus_ftp\\2019\\base_de_dados_cnes_201905\\rlEstabSubTipo201905.parquet.gzip\n",
      "Saved as Parquet: I://base_de_dados//datasus//cnes//datasus_ftp\\2019\\base_de_dados_cnes_201905\\rlEstabTeleCnes201905.parquet.gzip\n",
      "Saved as Parquet: I://base_de_dados//datasus//cnes//datasus_ftp\\2019\\base_de_dados_cnes_201905\\rlEstabUnidAcolhim201905.parquet.gzip\n",
      "Saved as Parquet: I://base_de_dados//datasus//cnes//datasus_ftp\\2019\\base_de_dados_cnes_201905\\rlMunAtenPsico201905.parquet.gzip\n",
      "Saved as Parquet: I://base_de_dados//datasus//cnes//datasus_ftp\\2019\\base_de_dados_cnes_201905\\rlMunRegimeRes201905.parquet.gzip\n",
      "Saved as Parquet: I://base_de_dados//datasus//cnes//datasus_ftp\\2019\\base_de_dados_cnes_201905\\rlMunUnidAcolhim201905.parquet.gzip\n",
      "Saved as Parquet: I://base_de_dados//datasus//cnes//datasus_ftp\\2019\\base_de_dados_cnes_201905\\rlNasfEsf201905.parquet.gzip\n",
      "Saved as Parquet: I://base_de_dados//datasus//cnes//datasus_ftp\\2019\\base_de_dados_cnes_201905\\rlTipoEstabAtividade201905.parquet.gzip\n",
      "Saved as Parquet: I://base_de_dados//datasus//cnes//datasus_ftp\\2019\\base_de_dados_cnes_201905\\tbAldeia201905.parquet.gzip\n",
      "Saved as Parquet: I://base_de_dados//datasus//cnes//datasus_ftp\\2019\\base_de_dados_cnes_201905\\tbArea201905.parquet.gzip\n",
      "Saved as Parquet: I://base_de_dados//datasus//cnes//datasus_ftp\\2019\\base_de_dados_cnes_201905\\tbAtendimentoPrestado201905.parquet.gzip\n",
      "Saved as Parquet: I://base_de_dados//datasus//cnes//datasus_ftp\\2019\\base_de_dados_cnes_201905\\tbAtividade201905.parquet.gzip\n",
      "Saved as Parquet: I://base_de_dados//datasus//cnes//datasus_ftp\\2019\\base_de_dados_cnes_201905\\tbAtividadeEnsino201905.parquet.gzip\n",
      "Saved as Parquet: I://base_de_dados//datasus//cnes//datasus_ftp\\2019\\base_de_dados_cnes_201905\\tbAtividadeProfissional201905.parquet.gzip\n",
      "Saved as Parquet: I://base_de_dados//datasus//cnes//datasus_ftp\\2019\\base_de_dados_cnes_201905\\tbAtributo201905.parquet.gzip\n",
      "Saved as Parquet: I://base_de_dados//datasus//cnes//datasus_ftp\\2019\\base_de_dados_cnes_201905\\tbAvaliacao201905.parquet.gzip\n",
      "Saved as Parquet: I://base_de_dados//datasus//cnes//datasus_ftp\\2019\\base_de_dados_cnes_201905\\tbBanco201905.parquet.gzip\n"
     ]
    },
    {
     "name": "stderr",
     "output_type": "stream",
     "text": [
      "C:\\Users\\erick\\AppData\\Local\\Temp\\ipykernel_18324\\463220216.py:31: DtypeWarning: Columns (0,12) have mixed types. Specify dtype option on import or set low_memory=False.\n",
      "  df = pd.read_csv(csv_path, sep=';')\n"
     ]
    },
    {
     "name": "stdout",
     "output_type": "stream",
     "text": [
      "Saved as Parquet: I://base_de_dados//datasus//cnes//datasus_ftp\\2019\\base_de_dados_cnes_201905\\tbCargaHorariaSus201905.parquet.gzip\n",
      "Saved as Parquet: I://base_de_dados//datasus//cnes//datasus_ftp\\2019\\base_de_dados_cnes_201905\\tbClassificacaoAval201905.parquet.gzip\n",
      "Saved as Parquet: I://base_de_dados//datasus//cnes//datasus_ftp\\2019\\base_de_dados_cnes_201905\\tbClassificacaoServico201905.parquet.gzip\n",
      "Saved as Parquet: I://base_de_dados//datasus//cnes//datasus_ftp\\2019\\base_de_dados_cnes_201905\\tbColetaSeletivaRejeito201905.parquet.gzip\n",
      "Saved as Parquet: I://base_de_dados//datasus//cnes//datasus_ftp\\2019\\base_de_dados_cnes_201905\\tbComissaoOutro201905.parquet.gzip\n",
      "Saved as Parquet: I://base_de_dados//datasus//cnes//datasus_ftp\\2019\\base_de_dados_cnes_201905\\tbConselhoClasse201905.parquet.gzip\n",
      "Saved as Parquet: I://base_de_dados//datasus//cnes//datasus_ftp\\2019\\base_de_dados_cnes_201905\\tbConvenio201905.parquet.gzip\n",
      "Saved as Parquet: I://base_de_dados//datasus//cnes//datasus_ftp\\2019\\base_de_dados_cnes_201905\\tbDadosProfissionalSus201905.parquet.gzip\n",
      "Saved as Parquet: I://base_de_dados//datasus//cnes//datasus_ftp\\2019\\base_de_dados_cnes_201905\\tbDialise201905.parquet.gzip\n",
      "Saved as Parquet: I://base_de_dados//datasus//cnes//datasus_ftp\\2019\\base_de_dados_cnes_201905\\tbDsei201905.parquet.gzip\n",
      "Saved as Parquet: I://base_de_dados//datasus//cnes//datasus_ftp\\2019\\base_de_dados_cnes_201905\\tbEquipamento201905.parquet.gzip\n",
      "Saved as Parquet: I://base_de_dados//datasus//cnes//datasus_ftp\\2019\\base_de_dados_cnes_201905\\tbEquipe201905.parquet.gzip\n",
      "Saved as Parquet: I://base_de_dados//datasus//cnes//datasus_ftp\\2019\\base_de_dados_cnes_201905\\tbEquipeAtendCompl201905.parquet.gzip\n",
      "Saved as Parquet: I://base_de_dados//datasus//cnes//datasus_ftp\\2019\\base_de_dados_cnes_201905\\tbEquipeChDifer201905.parquet.gzip\n",
      "Saved as Parquet: I://base_de_dados//datasus//cnes//datasus_ftp\\2019\\base_de_dados_cnes_201905\\tbEstabAtivSecundaria201905.parquet.gzip\n",
      "Saved as Parquet: I://base_de_dados//datasus//cnes//datasus_ftp\\2019\\base_de_dados_cnes_201905\\tbEstabContrato201905.parquet.gzip\n"
     ]
    },
    {
     "name": "stderr",
     "output_type": "stream",
     "text": [
      "C:\\Users\\erick\\AppData\\Local\\Temp\\ipykernel_18324\\463220216.py:31: DtypeWarning: Columns (0,36,45) have mixed types. Specify dtype option on import or set low_memory=False.\n",
      "  df = pd.read_csv(csv_path, sep=';')\n"
     ]
    },
    {
     "name": "stdout",
     "output_type": "stream",
     "text": [
      "Saved as Parquet: I://base_de_dados//datasus//cnes//datasus_ftp\\2019\\base_de_dados_cnes_201905\\tbEstabelecimento201905.parquet.gzip\n",
      "Saved as Parquet: I://base_de_dados//datasus//cnes//datasus_ftp\\2019\\base_de_dados_cnes_201905\\tbEstabHorarioAtend201905.parquet.gzip\n",
      "Saved as Parquet: I://base_de_dados//datasus//cnes//datasus_ftp\\2019\\base_de_dados_cnes_201905\\tbEstado201905.parquet.gzip\n",
      "Saved as Parquet: I://base_de_dados//datasus//cnes//datasus_ftp\\2019\\base_de_dados_cnes_201905\\tbEtnia201905.parquet.gzip\n",
      "Saved as Parquet: I://base_de_dados//datasus//cnes//datasus_ftp\\2019\\base_de_dados_cnes_201905\\tbFluxoDadosClientela201905.parquet.gzip\n",
      "Saved as Parquet: I://base_de_dados//datasus//cnes//datasus_ftp\\2019\\base_de_dados_cnes_201905\\tbGestao201905.parquet.gzip\n",
      "Saved as Parquet: I://base_de_dados//datasus//cnes//datasus_ftp\\2019\\base_de_dados_cnes_201905\\tbGrupoAtividade201905.parquet.gzip\n",
      "Saved as Parquet: I://base_de_dados//datasus//cnes//datasus_ftp\\2019\\base_de_dados_cnes_201905\\tbGrupoEquipe201905.parquet.gzip\n",
      "Saved as Parquet: I://base_de_dados//datasus//cnes//datasus_ftp\\2019\\base_de_dados_cnes_201905\\tbHemoterapia201905.parquet.gzip\n",
      "Saved as Parquet: I://base_de_dados//datasus//cnes//datasus_ftp\\2019\\base_de_dados_cnes_201905\\tbIncentivos201905.parquet.gzip\n",
      "Saved as Parquet: I://base_de_dados//datasus//cnes//datasus_ftp\\2019\\base_de_dados_cnes_201905\\tbInstalFisicaParaAssist201905.parquet.gzip\n",
      "Saved as Parquet: I://base_de_dados//datasus//cnes//datasus_ftp\\2019\\base_de_dados_cnes_201905\\tbInstituicaoAvaliadora201905.parquet.gzip\n",
      "Saved as Parquet: I://base_de_dados//datasus//cnes//datasus_ftp\\2019\\base_de_dados_cnes_201905\\tbLeito201905.parquet.gzip\n",
      "Saved as Parquet: I://base_de_dados//datasus//cnes//datasus_ftp\\2019\\base_de_dados_cnes_201905\\tbMantenedora201905.parquet.gzip\n",
      "Saved as Parquet: I://base_de_dados//datasus//cnes//datasus_ftp\\2019\\base_de_dados_cnes_201905\\tbModVinculo201905.parquet.gzip\n",
      "Saved as Parquet: I://base_de_dados//datasus//cnes//datasus_ftp\\2019\\base_de_dados_cnes_201905\\tbMotivoDesativacao201905.parquet.gzip\n",
      "Saved as Parquet: I://base_de_dados//datasus//cnes//datasus_ftp\\2019\\base_de_dados_cnes_201905\\tbMotivoDesativEquipe201905.parquet.gzip\n",
      "Saved as Parquet: I://base_de_dados//datasus//cnes//datasus_ftp\\2019\\base_de_dados_cnes_201905\\tbMunicipio201905.parquet.gzip\n",
      "Saved as Parquet: I://base_de_dados//datasus//cnes//datasus_ftp\\2019\\base_de_dados_cnes_201905\\tbNaturezaJuridica201905.parquet.gzip\n",
      "Saved as Parquet: I://base_de_dados//datasus//cnes//datasus_ftp\\2019\\base_de_dados_cnes_201905\\tbOrgaoEmissor201905.parquet.gzip\n",
      "Saved as Parquet: I://base_de_dados//datasus//cnes//datasus_ftp\\2019\\base_de_dados_cnes_201905\\tbPoloBase201905.parquet.gzip\n",
      "Saved as Parquet: I://base_de_dados//datasus//cnes//datasus_ftp\\2019\\base_de_dados_cnes_201905\\tbProfResidencia201905.parquet.gzip\n",
      "Saved as Parquet: I://base_de_dados//datasus//cnes//datasus_ftp\\2019\\base_de_dados_cnes_201905\\tbQuimioRadio201905.parquet.gzip\n",
      "Saved as Parquet: I://base_de_dados//datasus//cnes//datasus_ftp\\2019\\base_de_dados_cnes_201905\\tbResidenciaMed201905.parquet.gzip\n",
      "Saved as Parquet: I://base_de_dados//datasus//cnes//datasus_ftp\\2019\\base_de_dados_cnes_201905\\tbSegmento201905.parquet.gzip\n",
      "Saved as Parquet: I://base_de_dados//datasus//cnes//datasus_ftp\\2019\\base_de_dados_cnes_201905\\tbServicoApoio201905.parquet.gzip\n",
      "Saved as Parquet: I://base_de_dados//datasus//cnes//datasus_ftp\\2019\\base_de_dados_cnes_201905\\tbServicoEspecializado201905.parquet.gzip\n",
      "Saved as Parquet: I://base_de_dados//datasus//cnes//datasus_ftp\\2019\\base_de_dados_cnes_201905\\tbServicoReferenciado201905.parquet.gzip\n",
      "Saved as Parquet: I://base_de_dados//datasus//cnes//datasus_ftp\\2019\\base_de_dados_cnes_201905\\tbSubGruposHabilitacao201905.parquet.gzip\n",
      "Saved as Parquet: I://base_de_dados//datasus//cnes//datasus_ftp\\2019\\base_de_dados_cnes_201905\\tbSubTipo201905.parquet.gzip\n",
      "Saved as Parquet: I://base_de_dados//datasus//cnes//datasus_ftp\\2019\\base_de_dados_cnes_201905\\tbSubTipoEquipe201905.parquet.gzip\n",
      "Saved as Parquet: I://base_de_dados//datasus//cnes//datasus_ftp\\2019\\base_de_dados_cnes_201905\\tbSubtipoInstalacao201905.parquet.gzip\n",
      "Saved as Parquet: I://base_de_dados//datasus//cnes//datasus_ftp\\2019\\base_de_dados_cnes_201905\\tbSubTpModVinculo201905.parquet.gzip\n",
      "Saved as Parquet: I://base_de_dados//datasus//cnes//datasus_ftp\\2019\\base_de_dados_cnes_201905\\tbTipoCertidao201905.parquet.gzip\n",
      "Saved as Parquet: I://base_de_dados//datasus//cnes//datasus_ftp\\2019\\base_de_dados_cnes_201905\\tbTipoCgDifer201905.parquet.gzip\n",
      "Saved as Parquet: I://base_de_dados//datasus//cnes//datasus_ftp\\2019\\base_de_dados_cnes_201905\\tbTipoEqSubTipo201905.parquet.gzip\n",
      "Saved as Parquet: I://base_de_dados//datasus//cnes//datasus_ftp\\2019\\base_de_dados_cnes_201905\\tbTipoEquipamento201905.parquet.gzip\n",
      "Saved as Parquet: I://base_de_dados//datasus//cnes//datasus_ftp\\2019\\base_de_dados_cnes_201905\\tbTipoEquipe201905.parquet.gzip\n",
      "Saved as Parquet: I://base_de_dados//datasus//cnes//datasus_ftp\\2019\\base_de_dados_cnes_201905\\tbTipoEscolaridade201905.parquet.gzip\n",
      "Saved as Parquet: I://base_de_dados//datasus//cnes//datasus_ftp\\2019\\base_de_dados_cnes_201905\\tbTipoEstabelecimento201905.parquet.gzip\n",
      "Saved as Parquet: I://base_de_dados//datasus//cnes//datasus_ftp\\2019\\base_de_dados_cnes_201905\\tbTipoInstalacaoFisica201905.parquet.gzip\n",
      "Saved as Parquet: I://base_de_dados//datasus//cnes//datasus_ftp\\2019\\base_de_dados_cnes_201905\\tbTipoServicoReferenciado201905.parquet.gzip\n",
      "Saved as Parquet: I://base_de_dados//datasus//cnes//datasus_ftp\\2019\\base_de_dados_cnes_201905\\tbTipoUnidade201905.parquet.gzip\n",
      "Saved as Parquet: I://base_de_dados//datasus//cnes//datasus_ftp\\2019\\base_de_dados_cnes_201905\\tbTpModVinculo201905.parquet.gzip\n",
      "Saved as Parquet: I://base_de_dados//datasus//cnes//datasus_ftp\\2019\\base_de_dados_cnes_201905\\tbTurnoAtendimento201905.parquet.gzip\n",
      "Month Folder: base_de_dados_cnes_201906\n",
      "Saved as Parquet: I://base_de_dados//datasus//cnes//datasus_ftp\\2019\\base_de_dados_cnes_201906\\rlAdmGerenciaCnes201906.parquet.gzip\n",
      "Saved as Parquet: I://base_de_dados//datasus//cnes//datasus_ftp\\2019\\base_de_dados_cnes_201906\\rlAtividadeObrigatoria201906.parquet.gzip\n",
      "Saved as Parquet: I://base_de_dados//datasus//cnes//datasus_ftp\\2019\\base_de_dados_cnes_201906\\rlCooperativa201906.parquet.gzip\n",
      "Saved as Parquet: I://base_de_dados//datasus//cnes//datasus_ftp\\2019\\base_de_dados_cnes_201906\\rlEquipeAldeia201906.parquet.gzip\n",
      "Saved as Parquet: I://base_de_dados//datasus//cnes//datasus_ftp\\2019\\base_de_dados_cnes_201906\\rlEquipeNasfEsf201906.parquet.gzip\n"
     ]
    },
    {
     "name": "stderr",
     "output_type": "stream",
     "text": [
      "C:\\Users\\erick\\AppData\\Local\\Temp\\ipykernel_18324\\463220216.py:31: DtypeWarning: Columns (0) have mixed types. Specify dtype option on import or set low_memory=False.\n",
      "  df = pd.read_csv(csv_path, sep=';')\n"
     ]
    },
    {
     "name": "stdout",
     "output_type": "stream",
     "text": [
      "Saved as Parquet: I://base_de_dados//datasus//cnes//datasus_ftp\\2019\\base_de_dados_cnes_201906\\rlEstabAtendPrestConv201906.parquet.gzip\n",
      "Saved as Parquet: I://base_de_dados//datasus//cnes//datasus_ftp\\2019\\base_de_dados_cnes_201906\\rlEstabAtenPsico201906.parquet.gzip\n",
      "Saved as Parquet: I://base_de_dados//datasus//cnes//datasus_ftp\\2019\\base_de_dados_cnes_201906\\rlEstabAvaliacao201906.parquet.gzip\n",
      "Saved as Parquet: I://base_de_dados//datasus//cnes//datasus_ftp\\2019\\base_de_dados_cnes_201906\\rlEstabCentralReg201906.parquet.gzip\n",
      "Saved as Parquet: I://base_de_dados//datasus//cnes//datasus_ftp\\2019\\base_de_dados_cnes_201906\\rlEstabColetaSelRejeito201906.parquet.gzip\n",
      "Saved as Parquet: I://base_de_dados//datasus//cnes//datasus_ftp\\2019\\base_de_dados_cnes_201906\\rlEstabComissaoOutro201906.parquet.gzip\n",
      "Saved as Parquet: I://base_de_dados//datasus//cnes//datasus_ftp\\2019\\base_de_dados_cnes_201906\\rlEstabComplementar201906.parquet.gzip\n",
      "Saved as Parquet: I://base_de_dados//datasus//cnes//datasus_ftp\\2019\\base_de_dados_cnes_201906\\rlEstabEndCompl201906.parquet.gzip\n",
      "Saved as Parquet: I://base_de_dados//datasus//cnes//datasus_ftp\\2019\\base_de_dados_cnes_201906\\rlEstabEqpEmbarcacao201906.parquet.gzip\n",
      "Saved as Parquet: I://base_de_dados//datasus//cnes//datasus_ftp\\2019\\base_de_dados_cnes_201906\\rlEstabEqpUnidApoio201906.parquet.gzip\n"
     ]
    },
    {
     "name": "stderr",
     "output_type": "stream",
     "text": [
      "C:\\Users\\erick\\AppData\\Local\\Temp\\ipykernel_18324\\463220216.py:31: DtypeWarning: Columns (0) have mixed types. Specify dtype option on import or set low_memory=False.\n",
      "  df = pd.read_csv(csv_path, sep=';')\n"
     ]
    },
    {
     "name": "stdout",
     "output_type": "stream",
     "text": [
      "Saved as Parquet: I://base_de_dados//datasus//cnes//datasus_ftp\\2019\\base_de_dados_cnes_201906\\rlEstabEquipamento201906.parquet.gzip\n",
      "Saved as Parquet: I://base_de_dados//datasus//cnes//datasus_ftp\\2019\\base_de_dados_cnes_201906\\rlEstabEquipeMun201906.parquet.gzip\n"
     ]
    },
    {
     "name": "stderr",
     "output_type": "stream",
     "text": [
      "C:\\Users\\erick\\AppData\\Local\\Temp\\ipykernel_18324\\463220216.py:31: DtypeWarning: Columns (14) have mixed types. Specify dtype option on import or set low_memory=False.\n",
      "  df = pd.read_csv(csv_path, sep=';')\n"
     ]
    },
    {
     "name": "stdout",
     "output_type": "stream",
     "text": [
      "Saved as Parquet: I://base_de_dados//datasus//cnes//datasus_ftp\\2019\\base_de_dados_cnes_201906\\rlEstabEquipeProf201906.parquet.gzip\n",
      "Saved as Parquet: I://base_de_dados//datasus//cnes//datasus_ftp\\2019\\base_de_dados_cnes_201906\\rlEstabInstFisiAssist201906.parquet.gzip\n",
      "Saved as Parquet: I://base_de_dados//datasus//cnes//datasus_ftp\\2019\\base_de_dados_cnes_201906\\rlEstabOrgParc201906.parquet.gzip\n",
      "Saved as Parquet: I://base_de_dados//datasus//cnes//datasus_ftp\\2019\\base_de_dados_cnes_201906\\rlEstabPoloAldeia201906.parquet.gzip\n",
      "Saved as Parquet: I://base_de_dados//datasus//cnes//datasus_ftp\\2019\\base_de_dados_cnes_201906\\rlEstabProfComissao201906.parquet.gzip\n",
      "Saved as Parquet: I://base_de_dados//datasus//cnes//datasus_ftp\\2019\\base_de_dados_cnes_201906\\rlEstabProgFundo201906.parquet.gzip\n",
      "Saved as Parquet: I://base_de_dados//datasus//cnes//datasus_ftp\\2019\\base_de_dados_cnes_201906\\rlEstabRegimeRes201906.parquet.gzip\n",
      "Saved as Parquet: I://base_de_dados//datasus//cnes//datasus_ftp\\2019\\base_de_dados_cnes_201906\\rlEstabRepresentante201906.parquet.gzip\n",
      "Saved as Parquet: I://base_de_dados//datasus//cnes//datasus_ftp\\2019\\base_de_dados_cnes_201906\\rlEstabSamu201906.parquet.gzip\n"
     ]
    },
    {
     "name": "stderr",
     "output_type": "stream",
     "text": [
      "C:\\Users\\erick\\AppData\\Local\\Temp\\ipykernel_18324\\463220216.py:31: DtypeWarning: Columns (0) have mixed types. Specify dtype option on import or set low_memory=False.\n",
      "  df = pd.read_csv(csv_path, sep=';')\n"
     ]
    },
    {
     "name": "stdout",
     "output_type": "stream",
     "text": [
      "Saved as Parquet: I://base_de_dados//datasus//cnes//datasus_ftp\\2019\\base_de_dados_cnes_201906\\rlEstabServClass201906.parquet.gzip\n"
     ]
    },
    {
     "name": "stderr",
     "output_type": "stream",
     "text": [
      "C:\\Users\\erick\\AppData\\Local\\Temp\\ipykernel_18324\\463220216.py:31: DtypeWarning: Columns (2) have mixed types. Specify dtype option on import or set low_memory=False.\n",
      "  df = pd.read_csv(csv_path, sep=';')\n"
     ]
    },
    {
     "name": "stdout",
     "output_type": "stream",
     "text": [
      "Saved as Parquet: I://base_de_dados//datasus//cnes//datasus_ftp\\2019\\base_de_dados_cnes_201906\\rlEstabServicoApoio201906.parquet.gzip\n",
      "Saved as Parquet: I://base_de_dados//datasus//cnes//datasus_ftp\\2019\\base_de_dados_cnes_201906\\rlEstabSipac201906.parquet.gzip\n",
      "Saved as Parquet: I://base_de_dados//datasus//cnes//datasus_ftp\\2019\\base_de_dados_cnes_201906\\rlEstabSubTipo201906.parquet.gzip\n",
      "Saved as Parquet: I://base_de_dados//datasus//cnes//datasus_ftp\\2019\\base_de_dados_cnes_201906\\rlEstabTeleCnes201906.parquet.gzip\n",
      "Saved as Parquet: I://base_de_dados//datasus//cnes//datasus_ftp\\2019\\base_de_dados_cnes_201906\\rlEstabUnidAcolhim201906.parquet.gzip\n",
      "Saved as Parquet: I://base_de_dados//datasus//cnes//datasus_ftp\\2019\\base_de_dados_cnes_201906\\rlMunAtenPsico201906.parquet.gzip\n",
      "Saved as Parquet: I://base_de_dados//datasus//cnes//datasus_ftp\\2019\\base_de_dados_cnes_201906\\rlMunRegimeRes201906.parquet.gzip\n",
      "Saved as Parquet: I://base_de_dados//datasus//cnes//datasus_ftp\\2019\\base_de_dados_cnes_201906\\rlMunUnidAcolhim201906.parquet.gzip\n",
      "Saved as Parquet: I://base_de_dados//datasus//cnes//datasus_ftp\\2019\\base_de_dados_cnes_201906\\rlNasfEsf201906.parquet.gzip\n",
      "Saved as Parquet: I://base_de_dados//datasus//cnes//datasus_ftp\\2019\\base_de_dados_cnes_201906\\rlTipoEstabAtividade201906.parquet.gzip\n",
      "Saved as Parquet: I://base_de_dados//datasus//cnes//datasus_ftp\\2019\\base_de_dados_cnes_201906\\tbAldeia201906.parquet.gzip\n",
      "Saved as Parquet: I://base_de_dados//datasus//cnes//datasus_ftp\\2019\\base_de_dados_cnes_201906\\tbArea201906.parquet.gzip\n",
      "Saved as Parquet: I://base_de_dados//datasus//cnes//datasus_ftp\\2019\\base_de_dados_cnes_201906\\tbAtendimentoPrestado201906.parquet.gzip\n",
      "Saved as Parquet: I://base_de_dados//datasus//cnes//datasus_ftp\\2019\\base_de_dados_cnes_201906\\tbAtividade201906.parquet.gzip\n",
      "Saved as Parquet: I://base_de_dados//datasus//cnes//datasus_ftp\\2019\\base_de_dados_cnes_201906\\tbAtividadeEnsino201906.parquet.gzip\n",
      "Saved as Parquet: I://base_de_dados//datasus//cnes//datasus_ftp\\2019\\base_de_dados_cnes_201906\\tbAtividadeProfissional201906.parquet.gzip\n",
      "Saved as Parquet: I://base_de_dados//datasus//cnes//datasus_ftp\\2019\\base_de_dados_cnes_201906\\tbAtributo201906.parquet.gzip\n",
      "Saved as Parquet: I://base_de_dados//datasus//cnes//datasus_ftp\\2019\\base_de_dados_cnes_201906\\tbAvaliacao201906.parquet.gzip\n",
      "Saved as Parquet: I://base_de_dados//datasus//cnes//datasus_ftp\\2019\\base_de_dados_cnes_201906\\tbBanco201906.parquet.gzip\n"
     ]
    },
    {
     "name": "stderr",
     "output_type": "stream",
     "text": [
      "C:\\Users\\erick\\AppData\\Local\\Temp\\ipykernel_18324\\463220216.py:31: DtypeWarning: Columns (0,12) have mixed types. Specify dtype option on import or set low_memory=False.\n",
      "  df = pd.read_csv(csv_path, sep=';')\n"
     ]
    },
    {
     "name": "stdout",
     "output_type": "stream",
     "text": [
      "Saved as Parquet: I://base_de_dados//datasus//cnes//datasus_ftp\\2019\\base_de_dados_cnes_201906\\tbCargaHorariaSus201906.parquet.gzip\n",
      "Saved as Parquet: I://base_de_dados//datasus//cnes//datasus_ftp\\2019\\base_de_dados_cnes_201906\\tbClassificacaoAval201906.parquet.gzip\n",
      "Saved as Parquet: I://base_de_dados//datasus//cnes//datasus_ftp\\2019\\base_de_dados_cnes_201906\\tbClassificacaoServico201906.parquet.gzip\n",
      "Saved as Parquet: I://base_de_dados//datasus//cnes//datasus_ftp\\2019\\base_de_dados_cnes_201906\\tbColetaSeletivaRejeito201906.parquet.gzip\n",
      "Saved as Parquet: I://base_de_dados//datasus//cnes//datasus_ftp\\2019\\base_de_dados_cnes_201906\\tbComissaoOutro201906.parquet.gzip\n",
      "Saved as Parquet: I://base_de_dados//datasus//cnes//datasus_ftp\\2019\\base_de_dados_cnes_201906\\tbConselhoClasse201906.parquet.gzip\n",
      "Saved as Parquet: I://base_de_dados//datasus//cnes//datasus_ftp\\2019\\base_de_dados_cnes_201906\\tbConvenio201906.parquet.gzip\n",
      "Saved as Parquet: I://base_de_dados//datasus//cnes//datasus_ftp\\2019\\base_de_dados_cnes_201906\\tbDadosProfissionalSus201906.parquet.gzip\n",
      "Saved as Parquet: I://base_de_dados//datasus//cnes//datasus_ftp\\2019\\base_de_dados_cnes_201906\\tbDialise201906.parquet.gzip\n",
      "Saved as Parquet: I://base_de_dados//datasus//cnes//datasus_ftp\\2019\\base_de_dados_cnes_201906\\tbDsei201906.parquet.gzip\n",
      "Saved as Parquet: I://base_de_dados//datasus//cnes//datasus_ftp\\2019\\base_de_dados_cnes_201906\\tbEquipamento201906.parquet.gzip\n",
      "Saved as Parquet: I://base_de_dados//datasus//cnes//datasus_ftp\\2019\\base_de_dados_cnes_201906\\tbEquipe201906.parquet.gzip\n",
      "Saved as Parquet: I://base_de_dados//datasus//cnes//datasus_ftp\\2019\\base_de_dados_cnes_201906\\tbEquipeAtendCompl201906.parquet.gzip\n",
      "Saved as Parquet: I://base_de_dados//datasus//cnes//datasus_ftp\\2019\\base_de_dados_cnes_201906\\tbEquipeChDifer201906.parquet.gzip\n",
      "Saved as Parquet: I://base_de_dados//datasus//cnes//datasus_ftp\\2019\\base_de_dados_cnes_201906\\tbEstabAtivSecundaria201906.parquet.gzip\n",
      "Saved as Parquet: I://base_de_dados//datasus//cnes//datasus_ftp\\2019\\base_de_dados_cnes_201906\\tbEstabContrato201906.parquet.gzip\n"
     ]
    },
    {
     "name": "stderr",
     "output_type": "stream",
     "text": [
      "C:\\Users\\erick\\AppData\\Local\\Temp\\ipykernel_18324\\463220216.py:31: DtypeWarning: Columns (0,45) have mixed types. Specify dtype option on import or set low_memory=False.\n",
      "  df = pd.read_csv(csv_path, sep=';')\n"
     ]
    },
    {
     "name": "stdout",
     "output_type": "stream",
     "text": [
      "Saved as Parquet: I://base_de_dados//datasus//cnes//datasus_ftp\\2019\\base_de_dados_cnes_201906\\tbEstabelecimento201906.parquet.gzip\n",
      "Saved as Parquet: I://base_de_dados//datasus//cnes//datasus_ftp\\2019\\base_de_dados_cnes_201906\\tbEstabHorarioAtend201906.parquet.gzip\n",
      "Saved as Parquet: I://base_de_dados//datasus//cnes//datasus_ftp\\2019\\base_de_dados_cnes_201906\\tbEstado201906.parquet.gzip\n",
      "Saved as Parquet: I://base_de_dados//datasus//cnes//datasus_ftp\\2019\\base_de_dados_cnes_201906\\tbEtnia201906.parquet.gzip\n",
      "Saved as Parquet: I://base_de_dados//datasus//cnes//datasus_ftp\\2019\\base_de_dados_cnes_201906\\tbFluxoDadosClientela201906.parquet.gzip\n",
      "Saved as Parquet: I://base_de_dados//datasus//cnes//datasus_ftp\\2019\\base_de_dados_cnes_201906\\tbGestao201906.parquet.gzip\n",
      "Saved as Parquet: I://base_de_dados//datasus//cnes//datasus_ftp\\2019\\base_de_dados_cnes_201906\\tbGrupoAtividade201906.parquet.gzip\n",
      "Saved as Parquet: I://base_de_dados//datasus//cnes//datasus_ftp\\2019\\base_de_dados_cnes_201906\\tbGrupoEquipe201906.parquet.gzip\n",
      "Saved as Parquet: I://base_de_dados//datasus//cnes//datasus_ftp\\2019\\base_de_dados_cnes_201906\\tbHemoterapia201906.parquet.gzip\n",
      "Saved as Parquet: I://base_de_dados//datasus//cnes//datasus_ftp\\2019\\base_de_dados_cnes_201906\\tbIncentivos201906.parquet.gzip\n",
      "Saved as Parquet: I://base_de_dados//datasus//cnes//datasus_ftp\\2019\\base_de_dados_cnes_201906\\tbInstalFisicaParaAssist201906.parquet.gzip\n",
      "Saved as Parquet: I://base_de_dados//datasus//cnes//datasus_ftp\\2019\\base_de_dados_cnes_201906\\tbInstituicaoAvaliadora201906.parquet.gzip\n",
      "Saved as Parquet: I://base_de_dados//datasus//cnes//datasus_ftp\\2019\\base_de_dados_cnes_201906\\tbLeito201906.parquet.gzip\n",
      "Saved as Parquet: I://base_de_dados//datasus//cnes//datasus_ftp\\2019\\base_de_dados_cnes_201906\\tbMantenedora201906.parquet.gzip\n",
      "Saved as Parquet: I://base_de_dados//datasus//cnes//datasus_ftp\\2019\\base_de_dados_cnes_201906\\tbModVinculo201906.parquet.gzip\n",
      "Saved as Parquet: I://base_de_dados//datasus//cnes//datasus_ftp\\2019\\base_de_dados_cnes_201906\\tbMotivoDesativacao201906.parquet.gzip\n",
      "Saved as Parquet: I://base_de_dados//datasus//cnes//datasus_ftp\\2019\\base_de_dados_cnes_201906\\tbMotivoDesativEquipe201906.parquet.gzip\n",
      "Saved as Parquet: I://base_de_dados//datasus//cnes//datasus_ftp\\2019\\base_de_dados_cnes_201906\\tbMunicipio201906.parquet.gzip\n",
      "Saved as Parquet: I://base_de_dados//datasus//cnes//datasus_ftp\\2019\\base_de_dados_cnes_201906\\tbNaturezaJuridica201906.parquet.gzip\n",
      "Saved as Parquet: I://base_de_dados//datasus//cnes//datasus_ftp\\2019\\base_de_dados_cnes_201906\\tbOrgaoEmissor201906.parquet.gzip\n",
      "Saved as Parquet: I://base_de_dados//datasus//cnes//datasus_ftp\\2019\\base_de_dados_cnes_201906\\tbPoloBase201906.parquet.gzip\n",
      "Saved as Parquet: I://base_de_dados//datasus//cnes//datasus_ftp\\2019\\base_de_dados_cnes_201906\\tbProfResidencia201906.parquet.gzip\n",
      "Saved as Parquet: I://base_de_dados//datasus//cnes//datasus_ftp\\2019\\base_de_dados_cnes_201906\\tbQuimioRadio201906.parquet.gzip\n",
      "Saved as Parquet: I://base_de_dados//datasus//cnes//datasus_ftp\\2019\\base_de_dados_cnes_201906\\tbResidenciaMed201906.parquet.gzip\n",
      "Saved as Parquet: I://base_de_dados//datasus//cnes//datasus_ftp\\2019\\base_de_dados_cnes_201906\\tbSegmento201906.parquet.gzip\n",
      "Saved as Parquet: I://base_de_dados//datasus//cnes//datasus_ftp\\2019\\base_de_dados_cnes_201906\\tbServicoApoio201906.parquet.gzip\n",
      "Saved as Parquet: I://base_de_dados//datasus//cnes//datasus_ftp\\2019\\base_de_dados_cnes_201906\\tbServicoEspecializado201906.parquet.gzip\n",
      "Saved as Parquet: I://base_de_dados//datasus//cnes//datasus_ftp\\2019\\base_de_dados_cnes_201906\\tbServicoReferenciado201906.parquet.gzip\n",
      "Saved as Parquet: I://base_de_dados//datasus//cnes//datasus_ftp\\2019\\base_de_dados_cnes_201906\\tbSubGruposHabilitacao201906.parquet.gzip\n",
      "Saved as Parquet: I://base_de_dados//datasus//cnes//datasus_ftp\\2019\\base_de_dados_cnes_201906\\tbSubTipo201906.parquet.gzip\n",
      "Saved as Parquet: I://base_de_dados//datasus//cnes//datasus_ftp\\2019\\base_de_dados_cnes_201906\\tbSubTipoEquipe201906.parquet.gzip\n",
      "Saved as Parquet: I://base_de_dados//datasus//cnes//datasus_ftp\\2019\\base_de_dados_cnes_201906\\tbSubtipoInstalacao201906.parquet.gzip\n",
      "Saved as Parquet: I://base_de_dados//datasus//cnes//datasus_ftp\\2019\\base_de_dados_cnes_201906\\tbSubTpModVinculo201906.parquet.gzip\n",
      "Saved as Parquet: I://base_de_dados//datasus//cnes//datasus_ftp\\2019\\base_de_dados_cnes_201906\\tbTipoCertidao201906.parquet.gzip\n",
      "Saved as Parquet: I://base_de_dados//datasus//cnes//datasus_ftp\\2019\\base_de_dados_cnes_201906\\tbTipoCgDifer201906.parquet.gzip\n",
      "Saved as Parquet: I://base_de_dados//datasus//cnes//datasus_ftp\\2019\\base_de_dados_cnes_201906\\tbTipoEqSubTipo201906.parquet.gzip\n",
      "Saved as Parquet: I://base_de_dados//datasus//cnes//datasus_ftp\\2019\\base_de_dados_cnes_201906\\tbTipoEquipamento201906.parquet.gzip\n",
      "Saved as Parquet: I://base_de_dados//datasus//cnes//datasus_ftp\\2019\\base_de_dados_cnes_201906\\tbTipoEquipe201906.parquet.gzip\n",
      "Saved as Parquet: I://base_de_dados//datasus//cnes//datasus_ftp\\2019\\base_de_dados_cnes_201906\\tbTipoEscolaridade201906.parquet.gzip\n",
      "Saved as Parquet: I://base_de_dados//datasus//cnes//datasus_ftp\\2019\\base_de_dados_cnes_201906\\tbTipoEstabelecimento201906.parquet.gzip\n",
      "Saved as Parquet: I://base_de_dados//datasus//cnes//datasus_ftp\\2019\\base_de_dados_cnes_201906\\tbTipoInstalacaoFisica201906.parquet.gzip\n",
      "Saved as Parquet: I://base_de_dados//datasus//cnes//datasus_ftp\\2019\\base_de_dados_cnes_201906\\tbTipoServicoReferenciado201906.parquet.gzip\n",
      "Saved as Parquet: I://base_de_dados//datasus//cnes//datasus_ftp\\2019\\base_de_dados_cnes_201906\\tbTipoUnidade201906.parquet.gzip\n",
      "Saved as Parquet: I://base_de_dados//datasus//cnes//datasus_ftp\\2019\\base_de_dados_cnes_201906\\tbTpModVinculo201906.parquet.gzip\n",
      "Saved as Parquet: I://base_de_dados//datasus//cnes//datasus_ftp\\2019\\base_de_dados_cnes_201906\\tbTurnoAtendimento201906.parquet.gzip\n",
      "Month Folder: base_de_dados_cnes_201907\n",
      "Saved as Parquet: I://base_de_dados//datasus//cnes//datasus_ftp\\2019\\base_de_dados_cnes_201907\\rlAdmGerenciaCnes201907.parquet.gzip\n",
      "Saved as Parquet: I://base_de_dados//datasus//cnes//datasus_ftp\\2019\\base_de_dados_cnes_201907\\rlAtividadeObrigatoria201907.parquet.gzip\n",
      "Saved as Parquet: I://base_de_dados//datasus//cnes//datasus_ftp\\2019\\base_de_dados_cnes_201907\\rlCooperativa201907.parquet.gzip\n",
      "Saved as Parquet: I://base_de_dados//datasus//cnes//datasus_ftp\\2019\\base_de_dados_cnes_201907\\rlEquipeAldeia201907.parquet.gzip\n",
      "Saved as Parquet: I://base_de_dados//datasus//cnes//datasus_ftp\\2019\\base_de_dados_cnes_201907\\rlEquipeNasfEsf201907.parquet.gzip\n"
     ]
    },
    {
     "name": "stderr",
     "output_type": "stream",
     "text": [
      "C:\\Users\\erick\\AppData\\Local\\Temp\\ipykernel_18324\\463220216.py:31: DtypeWarning: Columns (0) have mixed types. Specify dtype option on import or set low_memory=False.\n",
      "  df = pd.read_csv(csv_path, sep=';')\n"
     ]
    },
    {
     "name": "stdout",
     "output_type": "stream",
     "text": [
      "Saved as Parquet: I://base_de_dados//datasus//cnes//datasus_ftp\\2019\\base_de_dados_cnes_201907\\rlEstabAtendPrestConv201907.parquet.gzip\n",
      "Saved as Parquet: I://base_de_dados//datasus//cnes//datasus_ftp\\2019\\base_de_dados_cnes_201907\\rlEstabAtenPsico201907.parquet.gzip\n",
      "Saved as Parquet: I://base_de_dados//datasus//cnes//datasus_ftp\\2019\\base_de_dados_cnes_201907\\rlEstabAvaliacao201907.parquet.gzip\n",
      "Saved as Parquet: I://base_de_dados//datasus//cnes//datasus_ftp\\2019\\base_de_dados_cnes_201907\\rlEstabCentralReg201907.parquet.gzip\n",
      "Saved as Parquet: I://base_de_dados//datasus//cnes//datasus_ftp\\2019\\base_de_dados_cnes_201907\\rlEstabColetaSelRejeito201907.parquet.gzip\n",
      "Saved as Parquet: I://base_de_dados//datasus//cnes//datasus_ftp\\2019\\base_de_dados_cnes_201907\\rlEstabComissaoOutro201907.parquet.gzip\n",
      "Saved as Parquet: I://base_de_dados//datasus//cnes//datasus_ftp\\2019\\base_de_dados_cnes_201907\\rlEstabComplementar201907.parquet.gzip\n",
      "Saved as Parquet: I://base_de_dados//datasus//cnes//datasus_ftp\\2019\\base_de_dados_cnes_201907\\rlEstabEndCompl201907.parquet.gzip\n",
      "Saved as Parquet: I://base_de_dados//datasus//cnes//datasus_ftp\\2019\\base_de_dados_cnes_201907\\rlEstabEqpEmbarcacao201907.parquet.gzip\n",
      "Saved as Parquet: I://base_de_dados//datasus//cnes//datasus_ftp\\2019\\base_de_dados_cnes_201907\\rlEstabEqpUnidApoio201907.parquet.gzip\n"
     ]
    },
    {
     "name": "stderr",
     "output_type": "stream",
     "text": [
      "C:\\Users\\erick\\AppData\\Local\\Temp\\ipykernel_18324\\463220216.py:31: DtypeWarning: Columns (0) have mixed types. Specify dtype option on import or set low_memory=False.\n",
      "  df = pd.read_csv(csv_path, sep=';')\n"
     ]
    },
    {
     "name": "stdout",
     "output_type": "stream",
     "text": [
      "Saved as Parquet: I://base_de_dados//datasus//cnes//datasus_ftp\\2019\\base_de_dados_cnes_201907\\rlEstabEquipamento201907.parquet.gzip\n",
      "Saved as Parquet: I://base_de_dados//datasus//cnes//datasus_ftp\\2019\\base_de_dados_cnes_201907\\rlEstabEquipeMun201907.parquet.gzip\n"
     ]
    },
    {
     "name": "stderr",
     "output_type": "stream",
     "text": [
      "C:\\Users\\erick\\AppData\\Local\\Temp\\ipykernel_18324\\463220216.py:31: DtypeWarning: Columns (10,14) have mixed types. Specify dtype option on import or set low_memory=False.\n",
      "  df = pd.read_csv(csv_path, sep=';')\n"
     ]
    },
    {
     "name": "stdout",
     "output_type": "stream",
     "text": [
      "Saved as Parquet: I://base_de_dados//datasus//cnes//datasus_ftp\\2019\\base_de_dados_cnes_201907\\rlEstabEquipeProf201907.parquet.gzip\n",
      "Saved as Parquet: I://base_de_dados//datasus//cnes//datasus_ftp\\2019\\base_de_dados_cnes_201907\\rlEstabInstFisiAssist201907.parquet.gzip\n",
      "Saved as Parquet: I://base_de_dados//datasus//cnes//datasus_ftp\\2019\\base_de_dados_cnes_201907\\rlEstabOrgParc201907.parquet.gzip\n",
      "Saved as Parquet: I://base_de_dados//datasus//cnes//datasus_ftp\\2019\\base_de_dados_cnes_201907\\rlEstabPoloAldeia201907.parquet.gzip\n",
      "Saved as Parquet: I://base_de_dados//datasus//cnes//datasus_ftp\\2019\\base_de_dados_cnes_201907\\rlEstabProfComissao201907.parquet.gzip\n",
      "Saved as Parquet: I://base_de_dados//datasus//cnes//datasus_ftp\\2019\\base_de_dados_cnes_201907\\rlEstabProgFundo201907.parquet.gzip\n",
      "Saved as Parquet: I://base_de_dados//datasus//cnes//datasus_ftp\\2019\\base_de_dados_cnes_201907\\rlEstabRegimeRes201907.parquet.gzip\n",
      "Saved as Parquet: I://base_de_dados//datasus//cnes//datasus_ftp\\2019\\base_de_dados_cnes_201907\\rlEstabRepresentante201907.parquet.gzip\n",
      "Saved as Parquet: I://base_de_dados//datasus//cnes//datasus_ftp\\2019\\base_de_dados_cnes_201907\\rlEstabSamu201907.parquet.gzip\n"
     ]
    },
    {
     "name": "stderr",
     "output_type": "stream",
     "text": [
      "C:\\Users\\erick\\AppData\\Local\\Temp\\ipykernel_18324\\463220216.py:31: DtypeWarning: Columns (0) have mixed types. Specify dtype option on import or set low_memory=False.\n",
      "  df = pd.read_csv(csv_path, sep=';')\n"
     ]
    },
    {
     "name": "stdout",
     "output_type": "stream",
     "text": [
      "Saved as Parquet: I://base_de_dados//datasus//cnes//datasus_ftp\\2019\\base_de_dados_cnes_201907\\rlEstabServClass201907.parquet.gzip\n"
     ]
    },
    {
     "name": "stderr",
     "output_type": "stream",
     "text": [
      "C:\\Users\\erick\\AppData\\Local\\Temp\\ipykernel_18324\\463220216.py:31: DtypeWarning: Columns (2) have mixed types. Specify dtype option on import or set low_memory=False.\n",
      "  df = pd.read_csv(csv_path, sep=';')\n"
     ]
    },
    {
     "name": "stdout",
     "output_type": "stream",
     "text": [
      "Saved as Parquet: I://base_de_dados//datasus//cnes//datasus_ftp\\2019\\base_de_dados_cnes_201907\\rlEstabServicoApoio201907.parquet.gzip\n",
      "Saved as Parquet: I://base_de_dados//datasus//cnes//datasus_ftp\\2019\\base_de_dados_cnes_201907\\rlEstabSipac201907.parquet.gzip\n",
      "Saved as Parquet: I://base_de_dados//datasus//cnes//datasus_ftp\\2019\\base_de_dados_cnes_201907\\rlEstabSubTipo201907.parquet.gzip\n",
      "Saved as Parquet: I://base_de_dados//datasus//cnes//datasus_ftp\\2019\\base_de_dados_cnes_201907\\rlEstabTeleCnes201907.parquet.gzip\n",
      "Saved as Parquet: I://base_de_dados//datasus//cnes//datasus_ftp\\2019\\base_de_dados_cnes_201907\\rlEstabUnidAcolhim201907.parquet.gzip\n",
      "Saved as Parquet: I://base_de_dados//datasus//cnes//datasus_ftp\\2019\\base_de_dados_cnes_201907\\rlMunAtenPsico201907.parquet.gzip\n",
      "Saved as Parquet: I://base_de_dados//datasus//cnes//datasus_ftp\\2019\\base_de_dados_cnes_201907\\rlMunRegimeRes201907.parquet.gzip\n",
      "Saved as Parquet: I://base_de_dados//datasus//cnes//datasus_ftp\\2019\\base_de_dados_cnes_201907\\rlMunUnidAcolhim201907.parquet.gzip\n",
      "Saved as Parquet: I://base_de_dados//datasus//cnes//datasus_ftp\\2019\\base_de_dados_cnes_201907\\rlNasfEsf201907.parquet.gzip\n",
      "Saved as Parquet: I://base_de_dados//datasus//cnes//datasus_ftp\\2019\\base_de_dados_cnes_201907\\rlTipoEstabAtividade201907.parquet.gzip\n",
      "Saved as Parquet: I://base_de_dados//datasus//cnes//datasus_ftp\\2019\\base_de_dados_cnes_201907\\tbAldeia201907.parquet.gzip\n",
      "Saved as Parquet: I://base_de_dados//datasus//cnes//datasus_ftp\\2019\\base_de_dados_cnes_201907\\tbArea201907.parquet.gzip\n",
      "Saved as Parquet: I://base_de_dados//datasus//cnes//datasus_ftp\\2019\\base_de_dados_cnes_201907\\tbAtendimentoPrestado201907.parquet.gzip\n",
      "Saved as Parquet: I://base_de_dados//datasus//cnes//datasus_ftp\\2019\\base_de_dados_cnes_201907\\tbAtividade201907.parquet.gzip\n",
      "Saved as Parquet: I://base_de_dados//datasus//cnes//datasus_ftp\\2019\\base_de_dados_cnes_201907\\tbAtividadeEnsino201907.parquet.gzip\n",
      "Saved as Parquet: I://base_de_dados//datasus//cnes//datasus_ftp\\2019\\base_de_dados_cnes_201907\\tbAtividadeProfissional201907.parquet.gzip\n",
      "Saved as Parquet: I://base_de_dados//datasus//cnes//datasus_ftp\\2019\\base_de_dados_cnes_201907\\tbAtributo201907.parquet.gzip\n",
      "Saved as Parquet: I://base_de_dados//datasus//cnes//datasus_ftp\\2019\\base_de_dados_cnes_201907\\tbAvaliacao201907.parquet.gzip\n",
      "Saved as Parquet: I://base_de_dados//datasus//cnes//datasus_ftp\\2019\\base_de_dados_cnes_201907\\tbBanco201907.parquet.gzip\n"
     ]
    },
    {
     "name": "stderr",
     "output_type": "stream",
     "text": [
      "C:\\Users\\erick\\AppData\\Local\\Temp\\ipykernel_18324\\463220216.py:31: DtypeWarning: Columns (0,12) have mixed types. Specify dtype option on import or set low_memory=False.\n",
      "  df = pd.read_csv(csv_path, sep=';')\n"
     ]
    },
    {
     "name": "stdout",
     "output_type": "stream",
     "text": [
      "Saved as Parquet: I://base_de_dados//datasus//cnes//datasus_ftp\\2019\\base_de_dados_cnes_201907\\tbCargaHorariaSus201907.parquet.gzip\n",
      "Saved as Parquet: I://base_de_dados//datasus//cnes//datasus_ftp\\2019\\base_de_dados_cnes_201907\\tbClassificacaoAval201907.parquet.gzip\n",
      "Saved as Parquet: I://base_de_dados//datasus//cnes//datasus_ftp\\2019\\base_de_dados_cnes_201907\\tbClassificacaoServico201907.parquet.gzip\n",
      "Saved as Parquet: I://base_de_dados//datasus//cnes//datasus_ftp\\2019\\base_de_dados_cnes_201907\\tbColetaSeletivaRejeito201907.parquet.gzip\n",
      "Saved as Parquet: I://base_de_dados//datasus//cnes//datasus_ftp\\2019\\base_de_dados_cnes_201907\\tbComissaoOutro201907.parquet.gzip\n",
      "Saved as Parquet: I://base_de_dados//datasus//cnes//datasus_ftp\\2019\\base_de_dados_cnes_201907\\tbConselhoClasse201907.parquet.gzip\n",
      "Saved as Parquet: I://base_de_dados//datasus//cnes//datasus_ftp\\2019\\base_de_dados_cnes_201907\\tbConvenio201907.parquet.gzip\n",
      "Saved as Parquet: I://base_de_dados//datasus//cnes//datasus_ftp\\2019\\base_de_dados_cnes_201907\\tbDadosProfissionalSus201907.parquet.gzip\n",
      "Saved as Parquet: I://base_de_dados//datasus//cnes//datasus_ftp\\2019\\base_de_dados_cnes_201907\\tbDialise201907.parquet.gzip\n",
      "Saved as Parquet: I://base_de_dados//datasus//cnes//datasus_ftp\\2019\\base_de_dados_cnes_201907\\tbDsei201907.parquet.gzip\n",
      "Saved as Parquet: I://base_de_dados//datasus//cnes//datasus_ftp\\2019\\base_de_dados_cnes_201907\\tbEquipamento201907.parquet.gzip\n",
      "Saved as Parquet: I://base_de_dados//datasus//cnes//datasus_ftp\\2019\\base_de_dados_cnes_201907\\tbEquipe201907.parquet.gzip\n",
      "Saved as Parquet: I://base_de_dados//datasus//cnes//datasus_ftp\\2019\\base_de_dados_cnes_201907\\tbEquipeAtendCompl201907.parquet.gzip\n",
      "Saved as Parquet: I://base_de_dados//datasus//cnes//datasus_ftp\\2019\\base_de_dados_cnes_201907\\tbEquipeChDifer201907.parquet.gzip\n",
      "Saved as Parquet: I://base_de_dados//datasus//cnes//datasus_ftp\\2019\\base_de_dados_cnes_201907\\tbEstabAtivSecundaria201907.parquet.gzip\n",
      "Saved as Parquet: I://base_de_dados//datasus//cnes//datasus_ftp\\2019\\base_de_dados_cnes_201907\\tbEstabContrato201907.parquet.gzip\n"
     ]
    },
    {
     "name": "stderr",
     "output_type": "stream",
     "text": [
      "C:\\Users\\erick\\AppData\\Local\\Temp\\ipykernel_18324\\463220216.py:31: DtypeWarning: Columns (0,39,45) have mixed types. Specify dtype option on import or set low_memory=False.\n",
      "  df = pd.read_csv(csv_path, sep=';')\n"
     ]
    },
    {
     "name": "stdout",
     "output_type": "stream",
     "text": [
      "Saved as Parquet: I://base_de_dados//datasus//cnes//datasus_ftp\\2019\\base_de_dados_cnes_201907\\tbEstabelecimento201907.parquet.gzip\n",
      "Saved as Parquet: I://base_de_dados//datasus//cnes//datasus_ftp\\2019\\base_de_dados_cnes_201907\\tbEstabHorarioAtend201907.parquet.gzip\n",
      "Saved as Parquet: I://base_de_dados//datasus//cnes//datasus_ftp\\2019\\base_de_dados_cnes_201907\\tbEstado201907.parquet.gzip\n",
      "Saved as Parquet: I://base_de_dados//datasus//cnes//datasus_ftp\\2019\\base_de_dados_cnes_201907\\tbEtnia201907.parquet.gzip\n",
      "Saved as Parquet: I://base_de_dados//datasus//cnes//datasus_ftp\\2019\\base_de_dados_cnes_201907\\tbFluxoDadosClientela201907.parquet.gzip\n",
      "Saved as Parquet: I://base_de_dados//datasus//cnes//datasus_ftp\\2019\\base_de_dados_cnes_201907\\tbGestao201907.parquet.gzip\n",
      "Saved as Parquet: I://base_de_dados//datasus//cnes//datasus_ftp\\2019\\base_de_dados_cnes_201907\\tbGrupoAtividade201907.parquet.gzip\n",
      "Saved as Parquet: I://base_de_dados//datasus//cnes//datasus_ftp\\2019\\base_de_dados_cnes_201907\\tbGrupoEquipe201907.parquet.gzip\n",
      "Saved as Parquet: I://base_de_dados//datasus//cnes//datasus_ftp\\2019\\base_de_dados_cnes_201907\\tbHemoterapia201907.parquet.gzip\n",
      "Saved as Parquet: I://base_de_dados//datasus//cnes//datasus_ftp\\2019\\base_de_dados_cnes_201907\\tbIncentivos201907.parquet.gzip\n",
      "Saved as Parquet: I://base_de_dados//datasus//cnes//datasus_ftp\\2019\\base_de_dados_cnes_201907\\tbInstalFisicaParaAssist201907.parquet.gzip\n",
      "Saved as Parquet: I://base_de_dados//datasus//cnes//datasus_ftp\\2019\\base_de_dados_cnes_201907\\tbInstituicaoAvaliadora201907.parquet.gzip\n",
      "Saved as Parquet: I://base_de_dados//datasus//cnes//datasus_ftp\\2019\\base_de_dados_cnes_201907\\tbLeito201907.parquet.gzip\n",
      "Saved as Parquet: I://base_de_dados//datasus//cnes//datasus_ftp\\2019\\base_de_dados_cnes_201907\\tbMantenedora201907.parquet.gzip\n",
      "Saved as Parquet: I://base_de_dados//datasus//cnes//datasus_ftp\\2019\\base_de_dados_cnes_201907\\tbModVinculo201907.parquet.gzip\n",
      "Saved as Parquet: I://base_de_dados//datasus//cnes//datasus_ftp\\2019\\base_de_dados_cnes_201907\\tbMotivoDesativacao201907.parquet.gzip\n",
      "Saved as Parquet: I://base_de_dados//datasus//cnes//datasus_ftp\\2019\\base_de_dados_cnes_201907\\tbMotivoDesativEquipe201907.parquet.gzip\n",
      "Saved as Parquet: I://base_de_dados//datasus//cnes//datasus_ftp\\2019\\base_de_dados_cnes_201907\\tbMunicipio201907.parquet.gzip\n",
      "Saved as Parquet: I://base_de_dados//datasus//cnes//datasus_ftp\\2019\\base_de_dados_cnes_201907\\tbNaturezaJuridica201907.parquet.gzip\n",
      "Saved as Parquet: I://base_de_dados//datasus//cnes//datasus_ftp\\2019\\base_de_dados_cnes_201907\\tbOrgaoEmissor201907.parquet.gzip\n",
      "Saved as Parquet: I://base_de_dados//datasus//cnes//datasus_ftp\\2019\\base_de_dados_cnes_201907\\tbPoloBase201907.parquet.gzip\n",
      "Saved as Parquet: I://base_de_dados//datasus//cnes//datasus_ftp\\2019\\base_de_dados_cnes_201907\\tbProfResidencia201907.parquet.gzip\n",
      "Saved as Parquet: I://base_de_dados//datasus//cnes//datasus_ftp\\2019\\base_de_dados_cnes_201907\\tbQuimioRadio201907.parquet.gzip\n",
      "Saved as Parquet: I://base_de_dados//datasus//cnes//datasus_ftp\\2019\\base_de_dados_cnes_201907\\tbResidenciaMed201907.parquet.gzip\n",
      "Saved as Parquet: I://base_de_dados//datasus//cnes//datasus_ftp\\2019\\base_de_dados_cnes_201907\\tbSegmento201907.parquet.gzip\n",
      "Saved as Parquet: I://base_de_dados//datasus//cnes//datasus_ftp\\2019\\base_de_dados_cnes_201907\\tbServicoApoio201907.parquet.gzip\n",
      "Saved as Parquet: I://base_de_dados//datasus//cnes//datasus_ftp\\2019\\base_de_dados_cnes_201907\\tbServicoEspecializado201907.parquet.gzip\n",
      "Saved as Parquet: I://base_de_dados//datasus//cnes//datasus_ftp\\2019\\base_de_dados_cnes_201907\\tbServicoReferenciado201907.parquet.gzip\n",
      "Saved as Parquet: I://base_de_dados//datasus//cnes//datasus_ftp\\2019\\base_de_dados_cnes_201907\\tbSubGruposHabilitacao201907.parquet.gzip\n",
      "Saved as Parquet: I://base_de_dados//datasus//cnes//datasus_ftp\\2019\\base_de_dados_cnes_201907\\tbSubTipo201907.parquet.gzip\n",
      "Saved as Parquet: I://base_de_dados//datasus//cnes//datasus_ftp\\2019\\base_de_dados_cnes_201907\\tbSubTipoEquipe201907.parquet.gzip\n",
      "Saved as Parquet: I://base_de_dados//datasus//cnes//datasus_ftp\\2019\\base_de_dados_cnes_201907\\tbSubtipoInstalacao201907.parquet.gzip\n",
      "Saved as Parquet: I://base_de_dados//datasus//cnes//datasus_ftp\\2019\\base_de_dados_cnes_201907\\tbSubTpModVinculo201907.parquet.gzip\n",
      "Saved as Parquet: I://base_de_dados//datasus//cnes//datasus_ftp\\2019\\base_de_dados_cnes_201907\\tbTipoCertidao201907.parquet.gzip\n",
      "Saved as Parquet: I://base_de_dados//datasus//cnes//datasus_ftp\\2019\\base_de_dados_cnes_201907\\tbTipoCgDifer201907.parquet.gzip\n",
      "Saved as Parquet: I://base_de_dados//datasus//cnes//datasus_ftp\\2019\\base_de_dados_cnes_201907\\tbTipoEqSubTipo201907.parquet.gzip\n",
      "Saved as Parquet: I://base_de_dados//datasus//cnes//datasus_ftp\\2019\\base_de_dados_cnes_201907\\tbTipoEquipamento201907.parquet.gzip\n",
      "Saved as Parquet: I://base_de_dados//datasus//cnes//datasus_ftp\\2019\\base_de_dados_cnes_201907\\tbTipoEquipe201907.parquet.gzip\n",
      "Saved as Parquet: I://base_de_dados//datasus//cnes//datasus_ftp\\2019\\base_de_dados_cnes_201907\\tbTipoEscolaridade201907.parquet.gzip\n",
      "Saved as Parquet: I://base_de_dados//datasus//cnes//datasus_ftp\\2019\\base_de_dados_cnes_201907\\tbTipoEstabelecimento201907.parquet.gzip\n",
      "Saved as Parquet: I://base_de_dados//datasus//cnes//datasus_ftp\\2019\\base_de_dados_cnes_201907\\tbTipoInstalacaoFisica201907.parquet.gzip\n",
      "Saved as Parquet: I://base_de_dados//datasus//cnes//datasus_ftp\\2019\\base_de_dados_cnes_201907\\tbTipoServicoReferenciado201907.parquet.gzip\n",
      "Saved as Parquet: I://base_de_dados//datasus//cnes//datasus_ftp\\2019\\base_de_dados_cnes_201907\\tbTipoUnidade201907.parquet.gzip\n",
      "Saved as Parquet: I://base_de_dados//datasus//cnes//datasus_ftp\\2019\\base_de_dados_cnes_201907\\tbTpModVinculo201907.parquet.gzip\n",
      "Saved as Parquet: I://base_de_dados//datasus//cnes//datasus_ftp\\2019\\base_de_dados_cnes_201907\\tbTurnoAtendimento201907.parquet.gzip\n",
      "Month Folder: base_de_dados_cnes_201908\n",
      "Saved as Parquet: I://base_de_dados//datasus//cnes//datasus_ftp\\2019\\base_de_dados_cnes_201908\\rlAdmGerenciaCnes201908.parquet.gzip\n",
      "Saved as Parquet: I://base_de_dados//datasus//cnes//datasus_ftp\\2019\\base_de_dados_cnes_201908\\rlAtividadeObrigatoria201908.parquet.gzip\n",
      "Saved as Parquet: I://base_de_dados//datasus//cnes//datasus_ftp\\2019\\base_de_dados_cnes_201908\\rlCooperativa201908.parquet.gzip\n",
      "Saved as Parquet: I://base_de_dados//datasus//cnes//datasus_ftp\\2019\\base_de_dados_cnes_201908\\rlEquipeAldeia201908.parquet.gzip\n",
      "Saved as Parquet: I://base_de_dados//datasus//cnes//datasus_ftp\\2019\\base_de_dados_cnes_201908\\rlEquipeNasfEsf201908.parquet.gzip\n"
     ]
    },
    {
     "name": "stderr",
     "output_type": "stream",
     "text": [
      "C:\\Users\\erick\\AppData\\Local\\Temp\\ipykernel_18324\\463220216.py:31: DtypeWarning: Columns (0) have mixed types. Specify dtype option on import or set low_memory=False.\n",
      "  df = pd.read_csv(csv_path, sep=';')\n"
     ]
    },
    {
     "name": "stdout",
     "output_type": "stream",
     "text": [
      "Saved as Parquet: I://base_de_dados//datasus//cnes//datasus_ftp\\2019\\base_de_dados_cnes_201908\\rlEstabAtendPrestConv201908.parquet.gzip\n",
      "Saved as Parquet: I://base_de_dados//datasus//cnes//datasus_ftp\\2019\\base_de_dados_cnes_201908\\rlEstabAtenPsico201908.parquet.gzip\n",
      "Saved as Parquet: I://base_de_dados//datasus//cnes//datasus_ftp\\2019\\base_de_dados_cnes_201908\\rlEstabAvaliacao201908.parquet.gzip\n",
      "Saved as Parquet: I://base_de_dados//datasus//cnes//datasus_ftp\\2019\\base_de_dados_cnes_201908\\rlEstabCentralReg201908.parquet.gzip\n",
      "Saved as Parquet: I://base_de_dados//datasus//cnes//datasus_ftp\\2019\\base_de_dados_cnes_201908\\rlEstabColetaSelRejeito201908.parquet.gzip\n",
      "Saved as Parquet: I://base_de_dados//datasus//cnes//datasus_ftp\\2019\\base_de_dados_cnes_201908\\rlEstabComissaoOutro201908.parquet.gzip\n",
      "Saved as Parquet: I://base_de_dados//datasus//cnes//datasus_ftp\\2019\\base_de_dados_cnes_201908\\rlEstabComplementar201908.parquet.gzip\n",
      "Saved as Parquet: I://base_de_dados//datasus//cnes//datasus_ftp\\2019\\base_de_dados_cnes_201908\\rlEstabEndCompl201908.parquet.gzip\n",
      "Saved as Parquet: I://base_de_dados//datasus//cnes//datasus_ftp\\2019\\base_de_dados_cnes_201908\\rlEstabEqpEmbarcacao201908.parquet.gzip\n",
      "Saved as Parquet: I://base_de_dados//datasus//cnes//datasus_ftp\\2019\\base_de_dados_cnes_201908\\rlEstabEqpUnidApoio201908.parquet.gzip\n"
     ]
    },
    {
     "name": "stderr",
     "output_type": "stream",
     "text": [
      "C:\\Users\\erick\\AppData\\Local\\Temp\\ipykernel_18324\\463220216.py:31: DtypeWarning: Columns (0) have mixed types. Specify dtype option on import or set low_memory=False.\n",
      "  df = pd.read_csv(csv_path, sep=';')\n"
     ]
    },
    {
     "name": "stdout",
     "output_type": "stream",
     "text": [
      "Saved as Parquet: I://base_de_dados//datasus//cnes//datasus_ftp\\2019\\base_de_dados_cnes_201908\\rlEstabEquipamento201908.parquet.gzip\n",
      "Saved as Parquet: I://base_de_dados//datasus//cnes//datasus_ftp\\2019\\base_de_dados_cnes_201908\\rlEstabEquipeMun201908.parquet.gzip\n"
     ]
    },
    {
     "name": "stderr",
     "output_type": "stream",
     "text": [
      "C:\\Users\\erick\\AppData\\Local\\Temp\\ipykernel_18324\\463220216.py:31: DtypeWarning: Columns (14) have mixed types. Specify dtype option on import or set low_memory=False.\n",
      "  df = pd.read_csv(csv_path, sep=';')\n"
     ]
    },
    {
     "name": "stdout",
     "output_type": "stream",
     "text": [
      "Saved as Parquet: I://base_de_dados//datasus//cnes//datasus_ftp\\2019\\base_de_dados_cnes_201908\\rlEstabEquipeProf201908.parquet.gzip\n",
      "Saved as Parquet: I://base_de_dados//datasus//cnes//datasus_ftp\\2019\\base_de_dados_cnes_201908\\rlEstabInstFisiAssist201908.parquet.gzip\n",
      "Saved as Parquet: I://base_de_dados//datasus//cnes//datasus_ftp\\2019\\base_de_dados_cnes_201908\\rlEstabOrgParc201908.parquet.gzip\n",
      "Saved as Parquet: I://base_de_dados//datasus//cnes//datasus_ftp\\2019\\base_de_dados_cnes_201908\\rlEstabPoloAldeia201908.parquet.gzip\n",
      "Saved as Parquet: I://base_de_dados//datasus//cnes//datasus_ftp\\2019\\base_de_dados_cnes_201908\\rlEstabProfComissao201908.parquet.gzip\n",
      "Saved as Parquet: I://base_de_dados//datasus//cnes//datasus_ftp\\2019\\base_de_dados_cnes_201908\\rlEstabProgFundo201908.parquet.gzip\n",
      "Saved as Parquet: I://base_de_dados//datasus//cnes//datasus_ftp\\2019\\base_de_dados_cnes_201908\\rlEstabRegimeRes201908.parquet.gzip\n",
      "Saved as Parquet: I://base_de_dados//datasus//cnes//datasus_ftp\\2019\\base_de_dados_cnes_201908\\rlEstabRepresentante201908.parquet.gzip\n",
      "Saved as Parquet: I://base_de_dados//datasus//cnes//datasus_ftp\\2019\\base_de_dados_cnes_201908\\rlEstabSamu201908.parquet.gzip\n"
     ]
    },
    {
     "name": "stderr",
     "output_type": "stream",
     "text": [
      "C:\\Users\\erick\\AppData\\Local\\Temp\\ipykernel_18324\\463220216.py:31: DtypeWarning: Columns (0) have mixed types. Specify dtype option on import or set low_memory=False.\n",
      "  df = pd.read_csv(csv_path, sep=';')\n"
     ]
    },
    {
     "name": "stdout",
     "output_type": "stream",
     "text": [
      "Saved as Parquet: I://base_de_dados//datasus//cnes//datasus_ftp\\2019\\base_de_dados_cnes_201908\\rlEstabServClass201908.parquet.gzip\n"
     ]
    },
    {
     "name": "stderr",
     "output_type": "stream",
     "text": [
      "C:\\Users\\erick\\AppData\\Local\\Temp\\ipykernel_18324\\463220216.py:31: DtypeWarning: Columns (2) have mixed types. Specify dtype option on import or set low_memory=False.\n",
      "  df = pd.read_csv(csv_path, sep=';')\n"
     ]
    },
    {
     "name": "stdout",
     "output_type": "stream",
     "text": [
      "Saved as Parquet: I://base_de_dados//datasus//cnes//datasus_ftp\\2019\\base_de_dados_cnes_201908\\rlEstabServicoApoio201908.parquet.gzip\n",
      "Saved as Parquet: I://base_de_dados//datasus//cnes//datasus_ftp\\2019\\base_de_dados_cnes_201908\\rlEstabSipac201908.parquet.gzip\n",
      "Saved as Parquet: I://base_de_dados//datasus//cnes//datasus_ftp\\2019\\base_de_dados_cnes_201908\\rlEstabSubTipo201908.parquet.gzip\n",
      "Saved as Parquet: I://base_de_dados//datasus//cnes//datasus_ftp\\2019\\base_de_dados_cnes_201908\\rlEstabTeleCnes201908.parquet.gzip\n",
      "Saved as Parquet: I://base_de_dados//datasus//cnes//datasus_ftp\\2019\\base_de_dados_cnes_201908\\rlEstabUnidAcolhim201908.parquet.gzip\n",
      "Saved as Parquet: I://base_de_dados//datasus//cnes//datasus_ftp\\2019\\base_de_dados_cnes_201908\\rlMunAtenPsico201908.parquet.gzip\n",
      "Saved as Parquet: I://base_de_dados//datasus//cnes//datasus_ftp\\2019\\base_de_dados_cnes_201908\\rlMunRegimeRes201908.parquet.gzip\n",
      "Saved as Parquet: I://base_de_dados//datasus//cnes//datasus_ftp\\2019\\base_de_dados_cnes_201908\\rlMunUnidAcolhim201908.parquet.gzip\n",
      "Saved as Parquet: I://base_de_dados//datasus//cnes//datasus_ftp\\2019\\base_de_dados_cnes_201908\\rlNasfEsf201908.parquet.gzip\n",
      "Saved as Parquet: I://base_de_dados//datasus//cnes//datasus_ftp\\2019\\base_de_dados_cnes_201908\\rlTipoEstabAtividade201908.parquet.gzip\n",
      "Saved as Parquet: I://base_de_dados//datasus//cnes//datasus_ftp\\2019\\base_de_dados_cnes_201908\\tbAldeia201908.parquet.gzip\n",
      "Saved as Parquet: I://base_de_dados//datasus//cnes//datasus_ftp\\2019\\base_de_dados_cnes_201908\\tbArea201908.parquet.gzip\n",
      "Saved as Parquet: I://base_de_dados//datasus//cnes//datasus_ftp\\2019\\base_de_dados_cnes_201908\\tbAtendimentoPrestado201908.parquet.gzip\n",
      "Saved as Parquet: I://base_de_dados//datasus//cnes//datasus_ftp\\2019\\base_de_dados_cnes_201908\\tbAtividade201908.parquet.gzip\n",
      "Saved as Parquet: I://base_de_dados//datasus//cnes//datasus_ftp\\2019\\base_de_dados_cnes_201908\\tbAtividadeEnsino201908.parquet.gzip\n",
      "Saved as Parquet: I://base_de_dados//datasus//cnes//datasus_ftp\\2019\\base_de_dados_cnes_201908\\tbAtividadeProfissional201908.parquet.gzip\n",
      "Saved as Parquet: I://base_de_dados//datasus//cnes//datasus_ftp\\2019\\base_de_dados_cnes_201908\\tbAtributo201908.parquet.gzip\n",
      "Saved as Parquet: I://base_de_dados//datasus//cnes//datasus_ftp\\2019\\base_de_dados_cnes_201908\\tbAvaliacao201908.parquet.gzip\n",
      "Saved as Parquet: I://base_de_dados//datasus//cnes//datasus_ftp\\2019\\base_de_dados_cnes_201908\\tbBanco201908.parquet.gzip\n"
     ]
    },
    {
     "name": "stderr",
     "output_type": "stream",
     "text": [
      "C:\\Users\\erick\\AppData\\Local\\Temp\\ipykernel_18324\\463220216.py:31: DtypeWarning: Columns (0,5,12) have mixed types. Specify dtype option on import or set low_memory=False.\n",
      "  df = pd.read_csv(csv_path, sep=';')\n"
     ]
    },
    {
     "name": "stdout",
     "output_type": "stream",
     "text": [
      "Saved as Parquet: I://base_de_dados//datasus//cnes//datasus_ftp\\2019\\base_de_dados_cnes_201908\\tbCargaHorariaSus201908.parquet.gzip\n",
      "Saved as Parquet: I://base_de_dados//datasus//cnes//datasus_ftp\\2019\\base_de_dados_cnes_201908\\tbClassificacaoAval201908.parquet.gzip\n",
      "Saved as Parquet: I://base_de_dados//datasus//cnes//datasus_ftp\\2019\\base_de_dados_cnes_201908\\tbClassificacaoServico201908.parquet.gzip\n",
      "Saved as Parquet: I://base_de_dados//datasus//cnes//datasus_ftp\\2019\\base_de_dados_cnes_201908\\tbColetaSeletivaRejeito201908.parquet.gzip\n",
      "Saved as Parquet: I://base_de_dados//datasus//cnes//datasus_ftp\\2019\\base_de_dados_cnes_201908\\tbComissaoOutro201908.parquet.gzip\n",
      "Saved as Parquet: I://base_de_dados//datasus//cnes//datasus_ftp\\2019\\base_de_dados_cnes_201908\\tbConselhoClasse201908.parquet.gzip\n",
      "Saved as Parquet: I://base_de_dados//datasus//cnes//datasus_ftp\\2019\\base_de_dados_cnes_201908\\tbConvenio201908.parquet.gzip\n",
      "Saved as Parquet: I://base_de_dados//datasus//cnes//datasus_ftp\\2019\\base_de_dados_cnes_201908\\tbDadosProfissionalSus201908.parquet.gzip\n",
      "Saved as Parquet: I://base_de_dados//datasus//cnes//datasus_ftp\\2019\\base_de_dados_cnes_201908\\tbDialise201908.parquet.gzip\n",
      "Saved as Parquet: I://base_de_dados//datasus//cnes//datasus_ftp\\2019\\base_de_dados_cnes_201908\\tbDsei201908.parquet.gzip\n",
      "Saved as Parquet: I://base_de_dados//datasus//cnes//datasus_ftp\\2019\\base_de_dados_cnes_201908\\tbEquipamento201908.parquet.gzip\n",
      "Saved as Parquet: I://base_de_dados//datasus//cnes//datasus_ftp\\2019\\base_de_dados_cnes_201908\\tbEquipe201908.parquet.gzip\n",
      "Saved as Parquet: I://base_de_dados//datasus//cnes//datasus_ftp\\2019\\base_de_dados_cnes_201908\\tbEquipeAtendCompl201908.parquet.gzip\n",
      "Saved as Parquet: I://base_de_dados//datasus//cnes//datasus_ftp\\2019\\base_de_dados_cnes_201908\\tbEquipeChDifer201908.parquet.gzip\n",
      "Saved as Parquet: I://base_de_dados//datasus//cnes//datasus_ftp\\2019\\base_de_dados_cnes_201908\\tbEstabAtivSecundaria201908.parquet.gzip\n",
      "Saved as Parquet: I://base_de_dados//datasus//cnes//datasus_ftp\\2019\\base_de_dados_cnes_201908\\tbEstabContrato201908.parquet.gzip\n"
     ]
    },
    {
     "name": "stderr",
     "output_type": "stream",
     "text": [
      "C:\\Users\\erick\\AppData\\Local\\Temp\\ipykernel_18324\\463220216.py:31: DtypeWarning: Columns (39,40,45) have mixed types. Specify dtype option on import or set low_memory=False.\n",
      "  df = pd.read_csv(csv_path, sep=';')\n"
     ]
    },
    {
     "name": "stdout",
     "output_type": "stream",
     "text": [
      "Saved as Parquet: I://base_de_dados//datasus//cnes//datasus_ftp\\2019\\base_de_dados_cnes_201908\\tbEstabelecimento201908.parquet.gzip\n",
      "Saved as Parquet: I://base_de_dados//datasus//cnes//datasus_ftp\\2019\\base_de_dados_cnes_201908\\tbEstabHorarioAtend201908.parquet.gzip\n",
      "Saved as Parquet: I://base_de_dados//datasus//cnes//datasus_ftp\\2019\\base_de_dados_cnes_201908\\tbEstado201908.parquet.gzip\n",
      "Saved as Parquet: I://base_de_dados//datasus//cnes//datasus_ftp\\2019\\base_de_dados_cnes_201908\\tbEtnia201908.parquet.gzip\n",
      "Saved as Parquet: I://base_de_dados//datasus//cnes//datasus_ftp\\2019\\base_de_dados_cnes_201908\\tbFluxoDadosClientela201908.parquet.gzip\n",
      "Saved as Parquet: I://base_de_dados//datasus//cnes//datasus_ftp\\2019\\base_de_dados_cnes_201908\\tbGestao201908.parquet.gzip\n",
      "Saved as Parquet: I://base_de_dados//datasus//cnes//datasus_ftp\\2019\\base_de_dados_cnes_201908\\tbGrupoAtividade201908.parquet.gzip\n",
      "Saved as Parquet: I://base_de_dados//datasus//cnes//datasus_ftp\\2019\\base_de_dados_cnes_201908\\tbGrupoEquipe201908.parquet.gzip\n",
      "Saved as Parquet: I://base_de_dados//datasus//cnes//datasus_ftp\\2019\\base_de_dados_cnes_201908\\tbHemoterapia201908.parquet.gzip\n",
      "Saved as Parquet: I://base_de_dados//datasus//cnes//datasus_ftp\\2019\\base_de_dados_cnes_201908\\tbIncentivos201908.parquet.gzip\n",
      "Saved as Parquet: I://base_de_dados//datasus//cnes//datasus_ftp\\2019\\base_de_dados_cnes_201908\\tbInstalFisicaParaAssist201908.parquet.gzip\n",
      "Saved as Parquet: I://base_de_dados//datasus//cnes//datasus_ftp\\2019\\base_de_dados_cnes_201908\\tbInstituicaoAvaliadora201908.parquet.gzip\n",
      "Saved as Parquet: I://base_de_dados//datasus//cnes//datasus_ftp\\2019\\base_de_dados_cnes_201908\\tbLeito201908.parquet.gzip\n",
      "Saved as Parquet: I://base_de_dados//datasus//cnes//datasus_ftp\\2019\\base_de_dados_cnes_201908\\tbMantenedora201908.parquet.gzip\n",
      "Saved as Parquet: I://base_de_dados//datasus//cnes//datasus_ftp\\2019\\base_de_dados_cnes_201908\\tbModVinculo201908.parquet.gzip\n",
      "Saved as Parquet: I://base_de_dados//datasus//cnes//datasus_ftp\\2019\\base_de_dados_cnes_201908\\tbMotivoDesativacao201908.parquet.gzip\n",
      "Saved as Parquet: I://base_de_dados//datasus//cnes//datasus_ftp\\2019\\base_de_dados_cnes_201908\\tbMotivoDesativEquipe201908.parquet.gzip\n",
      "Saved as Parquet: I://base_de_dados//datasus//cnes//datasus_ftp\\2019\\base_de_dados_cnes_201908\\tbMunicipio201908.parquet.gzip\n",
      "Saved as Parquet: I://base_de_dados//datasus//cnes//datasus_ftp\\2019\\base_de_dados_cnes_201908\\tbNaturezaJuridica201908.parquet.gzip\n",
      "Saved as Parquet: I://base_de_dados//datasus//cnes//datasus_ftp\\2019\\base_de_dados_cnes_201908\\tbOrgaoEmissor201908.parquet.gzip\n",
      "Saved as Parquet: I://base_de_dados//datasus//cnes//datasus_ftp\\2019\\base_de_dados_cnes_201908\\tbPoloBase201908.parquet.gzip\n",
      "Saved as Parquet: I://base_de_dados//datasus//cnes//datasus_ftp\\2019\\base_de_dados_cnes_201908\\tbProfResidencia201908.parquet.gzip\n",
      "Saved as Parquet: I://base_de_dados//datasus//cnes//datasus_ftp\\2019\\base_de_dados_cnes_201908\\tbQuimioRadio201908.parquet.gzip\n",
      "Saved as Parquet: I://base_de_dados//datasus//cnes//datasus_ftp\\2019\\base_de_dados_cnes_201908\\tbResidenciaMed201908.parquet.gzip\n",
      "Saved as Parquet: I://base_de_dados//datasus//cnes//datasus_ftp\\2019\\base_de_dados_cnes_201908\\tbSegmento201908.parquet.gzip\n",
      "Saved as Parquet: I://base_de_dados//datasus//cnes//datasus_ftp\\2019\\base_de_dados_cnes_201908\\tbServicoApoio201908.parquet.gzip\n",
      "Saved as Parquet: I://base_de_dados//datasus//cnes//datasus_ftp\\2019\\base_de_dados_cnes_201908\\tbServicoEspecializado201908.parquet.gzip\n",
      "Saved as Parquet: I://base_de_dados//datasus//cnes//datasus_ftp\\2019\\base_de_dados_cnes_201908\\tbServicoReferenciado201908.parquet.gzip\n",
      "Saved as Parquet: I://base_de_dados//datasus//cnes//datasus_ftp\\2019\\base_de_dados_cnes_201908\\tbSubGruposHabilitacao201908.parquet.gzip\n",
      "Saved as Parquet: I://base_de_dados//datasus//cnes//datasus_ftp\\2019\\base_de_dados_cnes_201908\\tbSubTipo201908.parquet.gzip\n",
      "Saved as Parquet: I://base_de_dados//datasus//cnes//datasus_ftp\\2019\\base_de_dados_cnes_201908\\tbSubTipoEquipe201908.parquet.gzip\n",
      "Saved as Parquet: I://base_de_dados//datasus//cnes//datasus_ftp\\2019\\base_de_dados_cnes_201908\\tbSubtipoInstalacao201908.parquet.gzip\n",
      "Saved as Parquet: I://base_de_dados//datasus//cnes//datasus_ftp\\2019\\base_de_dados_cnes_201908\\tbSubTpModVinculo201908.parquet.gzip\n",
      "Saved as Parquet: I://base_de_dados//datasus//cnes//datasus_ftp\\2019\\base_de_dados_cnes_201908\\tbTipoCertidao201908.parquet.gzip\n",
      "Saved as Parquet: I://base_de_dados//datasus//cnes//datasus_ftp\\2019\\base_de_dados_cnes_201908\\tbTipoCgDifer201908.parquet.gzip\n",
      "Saved as Parquet: I://base_de_dados//datasus//cnes//datasus_ftp\\2019\\base_de_dados_cnes_201908\\tbTipoEqSubTipo201908.parquet.gzip\n",
      "Saved as Parquet: I://base_de_dados//datasus//cnes//datasus_ftp\\2019\\base_de_dados_cnes_201908\\tbTipoEquipamento201908.parquet.gzip\n",
      "Saved as Parquet: I://base_de_dados//datasus//cnes//datasus_ftp\\2019\\base_de_dados_cnes_201908\\tbTipoEquipe201908.parquet.gzip\n",
      "Saved as Parquet: I://base_de_dados//datasus//cnes//datasus_ftp\\2019\\base_de_dados_cnes_201908\\tbTipoEscolaridade201908.parquet.gzip\n",
      "Saved as Parquet: I://base_de_dados//datasus//cnes//datasus_ftp\\2019\\base_de_dados_cnes_201908\\tbTipoEstabelecimento201908.parquet.gzip\n",
      "Saved as Parquet: I://base_de_dados//datasus//cnes//datasus_ftp\\2019\\base_de_dados_cnes_201908\\tbTipoInstalacaoFisica201908.parquet.gzip\n",
      "Saved as Parquet: I://base_de_dados//datasus//cnes//datasus_ftp\\2019\\base_de_dados_cnes_201908\\tbTipoServicoReferenciado201908.parquet.gzip\n",
      "Saved as Parquet: I://base_de_dados//datasus//cnes//datasus_ftp\\2019\\base_de_dados_cnes_201908\\tbTipoUnidade201908.parquet.gzip\n",
      "Saved as Parquet: I://base_de_dados//datasus//cnes//datasus_ftp\\2019\\base_de_dados_cnes_201908\\tbTpModVinculo201908.parquet.gzip\n",
      "Saved as Parquet: I://base_de_dados//datasus//cnes//datasus_ftp\\2019\\base_de_dados_cnes_201908\\tbTurnoAtendimento201908.parquet.gzip\n",
      "Month Folder: base_de_dados_cnes_201909\n",
      "Saved as Parquet: I://base_de_dados//datasus//cnes//datasus_ftp\\2019\\base_de_dados_cnes_201909\\rlAdmGerenciaCnes201909.parquet.gzip\n",
      "Saved as Parquet: I://base_de_dados//datasus//cnes//datasus_ftp\\2019\\base_de_dados_cnes_201909\\rlAtividadeObrigatoria201909.parquet.gzip\n",
      "Saved as Parquet: I://base_de_dados//datasus//cnes//datasus_ftp\\2019\\base_de_dados_cnes_201909\\rlCooperativa201909.parquet.gzip\n",
      "Saved as Parquet: I://base_de_dados//datasus//cnes//datasus_ftp\\2019\\base_de_dados_cnes_201909\\rlEquipeAldeia201909.parquet.gzip\n",
      "Saved as Parquet: I://base_de_dados//datasus//cnes//datasus_ftp\\2019\\base_de_dados_cnes_201909\\rlEquipeNasfEsf201909.parquet.gzip\n"
     ]
    },
    {
     "name": "stderr",
     "output_type": "stream",
     "text": [
      "C:\\Users\\erick\\AppData\\Local\\Temp\\ipykernel_18324\\463220216.py:31: DtypeWarning: Columns (0) have mixed types. Specify dtype option on import or set low_memory=False.\n",
      "  df = pd.read_csv(csv_path, sep=';')\n"
     ]
    },
    {
     "name": "stdout",
     "output_type": "stream",
     "text": [
      "Saved as Parquet: I://base_de_dados//datasus//cnes//datasus_ftp\\2019\\base_de_dados_cnes_201909\\rlEstabAtendPrestConv201909.parquet.gzip\n",
      "Saved as Parquet: I://base_de_dados//datasus//cnes//datasus_ftp\\2019\\base_de_dados_cnes_201909\\rlEstabAtenPsico201909.parquet.gzip\n",
      "Saved as Parquet: I://base_de_dados//datasus//cnes//datasus_ftp\\2019\\base_de_dados_cnes_201909\\rlEstabAvaliacao201909.parquet.gzip\n",
      "Saved as Parquet: I://base_de_dados//datasus//cnes//datasus_ftp\\2019\\base_de_dados_cnes_201909\\rlEstabCentralReg201909.parquet.gzip\n",
      "Saved as Parquet: I://base_de_dados//datasus//cnes//datasus_ftp\\2019\\base_de_dados_cnes_201909\\rlEstabColetaSelRejeito201909.parquet.gzip\n",
      "Saved as Parquet: I://base_de_dados//datasus//cnes//datasus_ftp\\2019\\base_de_dados_cnes_201909\\rlEstabComissaoOutro201909.parquet.gzip\n",
      "Saved as Parquet: I://base_de_dados//datasus//cnes//datasus_ftp\\2019\\base_de_dados_cnes_201909\\rlEstabComplementar201909.parquet.gzip\n",
      "Saved as Parquet: I://base_de_dados//datasus//cnes//datasus_ftp\\2019\\base_de_dados_cnes_201909\\rlEstabEndCompl201909.parquet.gzip\n",
      "Saved as Parquet: I://base_de_dados//datasus//cnes//datasus_ftp\\2019\\base_de_dados_cnes_201909\\rlEstabEqpEmbarcacao201909.parquet.gzip\n",
      "Saved as Parquet: I://base_de_dados//datasus//cnes//datasus_ftp\\2019\\base_de_dados_cnes_201909\\rlEstabEqpUnidApoio201909.parquet.gzip\n"
     ]
    },
    {
     "name": "stderr",
     "output_type": "stream",
     "text": [
      "C:\\Users\\erick\\AppData\\Local\\Temp\\ipykernel_18324\\463220216.py:31: DtypeWarning: Columns (0) have mixed types. Specify dtype option on import or set low_memory=False.\n",
      "  df = pd.read_csv(csv_path, sep=';')\n"
     ]
    },
    {
     "name": "stdout",
     "output_type": "stream",
     "text": [
      "Saved as Parquet: I://base_de_dados//datasus//cnes//datasus_ftp\\2019\\base_de_dados_cnes_201909\\rlEstabEquipamento201909.parquet.gzip\n",
      "Saved as Parquet: I://base_de_dados//datasus//cnes//datasus_ftp\\2019\\base_de_dados_cnes_201909\\rlEstabEquipeMun201909.parquet.gzip\n"
     ]
    },
    {
     "name": "stderr",
     "output_type": "stream",
     "text": [
      "C:\\Users\\erick\\AppData\\Local\\Temp\\ipykernel_18324\\463220216.py:31: DtypeWarning: Columns (14) have mixed types. Specify dtype option on import or set low_memory=False.\n",
      "  df = pd.read_csv(csv_path, sep=';')\n"
     ]
    },
    {
     "name": "stdout",
     "output_type": "stream",
     "text": [
      "Saved as Parquet: I://base_de_dados//datasus//cnes//datasus_ftp\\2019\\base_de_dados_cnes_201909\\rlEstabEquipeProf201909.parquet.gzip\n",
      "Saved as Parquet: I://base_de_dados//datasus//cnes//datasus_ftp\\2019\\base_de_dados_cnes_201909\\rlEstabInstFisiAssist201909.parquet.gzip\n",
      "Saved as Parquet: I://base_de_dados//datasus//cnes//datasus_ftp\\2019\\base_de_dados_cnes_201909\\rlEstabOrgParc201909.parquet.gzip\n",
      "Saved as Parquet: I://base_de_dados//datasus//cnes//datasus_ftp\\2019\\base_de_dados_cnes_201909\\rlEstabPoloAldeia201909.parquet.gzip\n",
      "Saved as Parquet: I://base_de_dados//datasus//cnes//datasus_ftp\\2019\\base_de_dados_cnes_201909\\rlEstabProfComissao201909.parquet.gzip\n",
      "Saved as Parquet: I://base_de_dados//datasus//cnes//datasus_ftp\\2019\\base_de_dados_cnes_201909\\rlEstabProgFundo201909.parquet.gzip\n",
      "Saved as Parquet: I://base_de_dados//datasus//cnes//datasus_ftp\\2019\\base_de_dados_cnes_201909\\rlEstabRegimeRes201909.parquet.gzip\n",
      "Saved as Parquet: I://base_de_dados//datasus//cnes//datasus_ftp\\2019\\base_de_dados_cnes_201909\\rlEstabRepresentante201909.parquet.gzip\n",
      "Saved as Parquet: I://base_de_dados//datasus//cnes//datasus_ftp\\2019\\base_de_dados_cnes_201909\\rlEstabSamu201909.parquet.gzip\n",
      "Saved as Parquet: I://base_de_dados//datasus//cnes//datasus_ftp\\2019\\base_de_dados_cnes_201909\\rlEstabServClass201909.parquet.gzip\n"
     ]
    },
    {
     "name": "stderr",
     "output_type": "stream",
     "text": [
      "C:\\Users\\erick\\AppData\\Local\\Temp\\ipykernel_18324\\463220216.py:31: DtypeWarning: Columns (2) have mixed types. Specify dtype option on import or set low_memory=False.\n",
      "  df = pd.read_csv(csv_path, sep=';')\n"
     ]
    },
    {
     "name": "stdout",
     "output_type": "stream",
     "text": [
      "Saved as Parquet: I://base_de_dados//datasus//cnes//datasus_ftp\\2019\\base_de_dados_cnes_201909\\rlEstabServicoApoio201909.parquet.gzip\n",
      "Saved as Parquet: I://base_de_dados//datasus//cnes//datasus_ftp\\2019\\base_de_dados_cnes_201909\\rlEstabSipac201909.parquet.gzip\n",
      "Saved as Parquet: I://base_de_dados//datasus//cnes//datasus_ftp\\2019\\base_de_dados_cnes_201909\\rlEstabSubTipo201909.parquet.gzip\n",
      "Saved as Parquet: I://base_de_dados//datasus//cnes//datasus_ftp\\2019\\base_de_dados_cnes_201909\\rlEstabTeleCnes201909.parquet.gzip\n",
      "Saved as Parquet: I://base_de_dados//datasus//cnes//datasus_ftp\\2019\\base_de_dados_cnes_201909\\rlEstabUnidAcolhim201909.parquet.gzip\n",
      "Saved as Parquet: I://base_de_dados//datasus//cnes//datasus_ftp\\2019\\base_de_dados_cnes_201909\\rlMunAtenPsico201909.parquet.gzip\n",
      "Saved as Parquet: I://base_de_dados//datasus//cnes//datasus_ftp\\2019\\base_de_dados_cnes_201909\\rlMunRegimeRes201909.parquet.gzip\n",
      "Saved as Parquet: I://base_de_dados//datasus//cnes//datasus_ftp\\2019\\base_de_dados_cnes_201909\\rlMunUnidAcolhim201909.parquet.gzip\n",
      "Saved as Parquet: I://base_de_dados//datasus//cnes//datasus_ftp\\2019\\base_de_dados_cnes_201909\\rlNasfEsf201909.parquet.gzip\n",
      "Saved as Parquet: I://base_de_dados//datasus//cnes//datasus_ftp\\2019\\base_de_dados_cnes_201909\\rlTipoEstabAtividade201909.parquet.gzip\n",
      "Saved as Parquet: I://base_de_dados//datasus//cnes//datasus_ftp\\2019\\base_de_dados_cnes_201909\\tbAldeia201909.parquet.gzip\n",
      "Saved as Parquet: I://base_de_dados//datasus//cnes//datasus_ftp\\2019\\base_de_dados_cnes_201909\\tbArea201909.parquet.gzip\n",
      "Saved as Parquet: I://base_de_dados//datasus//cnes//datasus_ftp\\2019\\base_de_dados_cnes_201909\\tbAtendimentoPrestado201909.parquet.gzip\n",
      "Saved as Parquet: I://base_de_dados//datasus//cnes//datasus_ftp\\2019\\base_de_dados_cnes_201909\\tbAtividade201909.parquet.gzip\n",
      "Saved as Parquet: I://base_de_dados//datasus//cnes//datasus_ftp\\2019\\base_de_dados_cnes_201909\\tbAtividadeEnsino201909.parquet.gzip\n",
      "Saved as Parquet: I://base_de_dados//datasus//cnes//datasus_ftp\\2019\\base_de_dados_cnes_201909\\tbAtividadeProfissional201909.parquet.gzip\n",
      "Saved as Parquet: I://base_de_dados//datasus//cnes//datasus_ftp\\2019\\base_de_dados_cnes_201909\\tbAtributo201909.parquet.gzip\n",
      "Saved as Parquet: I://base_de_dados//datasus//cnes//datasus_ftp\\2019\\base_de_dados_cnes_201909\\tbAvaliacao201909.parquet.gzip\n",
      "Saved as Parquet: I://base_de_dados//datasus//cnes//datasus_ftp\\2019\\base_de_dados_cnes_201909\\tbBanco201909.parquet.gzip\n"
     ]
    },
    {
     "name": "stderr",
     "output_type": "stream",
     "text": [
      "C:\\Users\\erick\\AppData\\Local\\Temp\\ipykernel_18324\\463220216.py:31: DtypeWarning: Columns (0,12) have mixed types. Specify dtype option on import or set low_memory=False.\n",
      "  df = pd.read_csv(csv_path, sep=';')\n"
     ]
    },
    {
     "name": "stdout",
     "output_type": "stream",
     "text": [
      "Saved as Parquet: I://base_de_dados//datasus//cnes//datasus_ftp\\2019\\base_de_dados_cnes_201909\\tbCargaHorariaSus201909.parquet.gzip\n",
      "Saved as Parquet: I://base_de_dados//datasus//cnes//datasus_ftp\\2019\\base_de_dados_cnes_201909\\tbClassificacaoAval201909.parquet.gzip\n",
      "Saved as Parquet: I://base_de_dados//datasus//cnes//datasus_ftp\\2019\\base_de_dados_cnes_201909\\tbClassificacaoServico201909.parquet.gzip\n",
      "Saved as Parquet: I://base_de_dados//datasus//cnes//datasus_ftp\\2019\\base_de_dados_cnes_201909\\tbColetaSeletivaRejeito201909.parquet.gzip\n",
      "Saved as Parquet: I://base_de_dados//datasus//cnes//datasus_ftp\\2019\\base_de_dados_cnes_201909\\tbComissaoOutro201909.parquet.gzip\n",
      "Saved as Parquet: I://base_de_dados//datasus//cnes//datasus_ftp\\2019\\base_de_dados_cnes_201909\\tbConselhoClasse201909.parquet.gzip\n",
      "Saved as Parquet: I://base_de_dados//datasus//cnes//datasus_ftp\\2019\\base_de_dados_cnes_201909\\tbConvenio201909.parquet.gzip\n",
      "Saved as Parquet: I://base_de_dados//datasus//cnes//datasus_ftp\\2019\\base_de_dados_cnes_201909\\tbDadosProfissionalSus201909.parquet.gzip\n",
      "Saved as Parquet: I://base_de_dados//datasus//cnes//datasus_ftp\\2019\\base_de_dados_cnes_201909\\tbDialise201909.parquet.gzip\n",
      "Saved as Parquet: I://base_de_dados//datasus//cnes//datasus_ftp\\2019\\base_de_dados_cnes_201909\\tbDsei201909.parquet.gzip\n",
      "Saved as Parquet: I://base_de_dados//datasus//cnes//datasus_ftp\\2019\\base_de_dados_cnes_201909\\tbEquipamento201909.parquet.gzip\n",
      "Saved as Parquet: I://base_de_dados//datasus//cnes//datasus_ftp\\2019\\base_de_dados_cnes_201909\\tbEquipe201909.parquet.gzip\n",
      "Saved as Parquet: I://base_de_dados//datasus//cnes//datasus_ftp\\2019\\base_de_dados_cnes_201909\\tbEquipeAtendCompl201909.parquet.gzip\n",
      "Saved as Parquet: I://base_de_dados//datasus//cnes//datasus_ftp\\2019\\base_de_dados_cnes_201909\\tbEquipeChDifer201909.parquet.gzip\n",
      "Saved as Parquet: I://base_de_dados//datasus//cnes//datasus_ftp\\2019\\base_de_dados_cnes_201909\\tbEstabAtivSecundaria201909.parquet.gzip\n",
      "Saved as Parquet: I://base_de_dados//datasus//cnes//datasus_ftp\\2019\\base_de_dados_cnes_201909\\tbEstabContrato201909.parquet.gzip\n"
     ]
    },
    {
     "name": "stderr",
     "output_type": "stream",
     "text": [
      "C:\\Users\\erick\\AppData\\Local\\Temp\\ipykernel_18324\\463220216.py:31: DtypeWarning: Columns (0,36,39,45) have mixed types. Specify dtype option on import or set low_memory=False.\n",
      "  df = pd.read_csv(csv_path, sep=';')\n"
     ]
    },
    {
     "name": "stdout",
     "output_type": "stream",
     "text": [
      "Saved as Parquet: I://base_de_dados//datasus//cnes//datasus_ftp\\2019\\base_de_dados_cnes_201909\\tbEstabelecimento201909.parquet.gzip\n",
      "Saved as Parquet: I://base_de_dados//datasus//cnes//datasus_ftp\\2019\\base_de_dados_cnes_201909\\tbEstabHorarioAtend201909.parquet.gzip\n",
      "Saved as Parquet: I://base_de_dados//datasus//cnes//datasus_ftp\\2019\\base_de_dados_cnes_201909\\tbEstado201909.parquet.gzip\n",
      "Saved as Parquet: I://base_de_dados//datasus//cnes//datasus_ftp\\2019\\base_de_dados_cnes_201909\\tbEtnia201909.parquet.gzip\n",
      "Saved as Parquet: I://base_de_dados//datasus//cnes//datasus_ftp\\2019\\base_de_dados_cnes_201909\\tbFluxoDadosClientela201909.parquet.gzip\n",
      "Saved as Parquet: I://base_de_dados//datasus//cnes//datasus_ftp\\2019\\base_de_dados_cnes_201909\\tbGestao201909.parquet.gzip\n",
      "Saved as Parquet: I://base_de_dados//datasus//cnes//datasus_ftp\\2019\\base_de_dados_cnes_201909\\tbGrupoAtividade201909.parquet.gzip\n",
      "Saved as Parquet: I://base_de_dados//datasus//cnes//datasus_ftp\\2019\\base_de_dados_cnes_201909\\tbGrupoEquipe201909.parquet.gzip\n",
      "Saved as Parquet: I://base_de_dados//datasus//cnes//datasus_ftp\\2019\\base_de_dados_cnes_201909\\tbHemoterapia201909.parquet.gzip\n",
      "Saved as Parquet: I://base_de_dados//datasus//cnes//datasus_ftp\\2019\\base_de_dados_cnes_201909\\tbIncentivos201909.parquet.gzip\n",
      "Saved as Parquet: I://base_de_dados//datasus//cnes//datasus_ftp\\2019\\base_de_dados_cnes_201909\\tbInstalFisicaParaAssist201909.parquet.gzip\n",
      "Saved as Parquet: I://base_de_dados//datasus//cnes//datasus_ftp\\2019\\base_de_dados_cnes_201909\\tbInstituicaoAvaliadora201909.parquet.gzip\n",
      "Saved as Parquet: I://base_de_dados//datasus//cnes//datasus_ftp\\2019\\base_de_dados_cnes_201909\\tbLeito201909.parquet.gzip\n",
      "Saved as Parquet: I://base_de_dados//datasus//cnes//datasus_ftp\\2019\\base_de_dados_cnes_201909\\tbMantenedora201909.parquet.gzip\n",
      "Saved as Parquet: I://base_de_dados//datasus//cnes//datasus_ftp\\2019\\base_de_dados_cnes_201909\\tbModVinculo201909.parquet.gzip\n",
      "Saved as Parquet: I://base_de_dados//datasus//cnes//datasus_ftp\\2019\\base_de_dados_cnes_201909\\tbMotivoDesativacao201909.parquet.gzip\n",
      "Saved as Parquet: I://base_de_dados//datasus//cnes//datasus_ftp\\2019\\base_de_dados_cnes_201909\\tbMotivoDesativEquipe201909.parquet.gzip\n",
      "Saved as Parquet: I://base_de_dados//datasus//cnes//datasus_ftp\\2019\\base_de_dados_cnes_201909\\tbMunicipio201909.parquet.gzip\n",
      "Saved as Parquet: I://base_de_dados//datasus//cnes//datasus_ftp\\2019\\base_de_dados_cnes_201909\\tbNaturezaJuridica201909.parquet.gzip\n",
      "Saved as Parquet: I://base_de_dados//datasus//cnes//datasus_ftp\\2019\\base_de_dados_cnes_201909\\tbOrgaoEmissor201909.parquet.gzip\n",
      "Saved as Parquet: I://base_de_dados//datasus//cnes//datasus_ftp\\2019\\base_de_dados_cnes_201909\\tbPoloBase201909.parquet.gzip\n",
      "Saved as Parquet: I://base_de_dados//datasus//cnes//datasus_ftp\\2019\\base_de_dados_cnes_201909\\tbProfResidencia201909.parquet.gzip\n",
      "Saved as Parquet: I://base_de_dados//datasus//cnes//datasus_ftp\\2019\\base_de_dados_cnes_201909\\tbQuimioRadio201909.parquet.gzip\n",
      "Saved as Parquet: I://base_de_dados//datasus//cnes//datasus_ftp\\2019\\base_de_dados_cnes_201909\\tbResidenciaMed201909.parquet.gzip\n",
      "Saved as Parquet: I://base_de_dados//datasus//cnes//datasus_ftp\\2019\\base_de_dados_cnes_201909\\tbSegmento201909.parquet.gzip\n",
      "Saved as Parquet: I://base_de_dados//datasus//cnes//datasus_ftp\\2019\\base_de_dados_cnes_201909\\tbServicoApoio201909.parquet.gzip\n",
      "Saved as Parquet: I://base_de_dados//datasus//cnes//datasus_ftp\\2019\\base_de_dados_cnes_201909\\tbServicoEspecializado201909.parquet.gzip\n",
      "Saved as Parquet: I://base_de_dados//datasus//cnes//datasus_ftp\\2019\\base_de_dados_cnes_201909\\tbServicoReferenciado201909.parquet.gzip\n",
      "Saved as Parquet: I://base_de_dados//datasus//cnes//datasus_ftp\\2019\\base_de_dados_cnes_201909\\tbSubGruposHabilitacao201909.parquet.gzip\n",
      "Saved as Parquet: I://base_de_dados//datasus//cnes//datasus_ftp\\2019\\base_de_dados_cnes_201909\\tbSubTipo201909.parquet.gzip\n",
      "Saved as Parquet: I://base_de_dados//datasus//cnes//datasus_ftp\\2019\\base_de_dados_cnes_201909\\tbSubTipoEquipe201909.parquet.gzip\n",
      "Saved as Parquet: I://base_de_dados//datasus//cnes//datasus_ftp\\2019\\base_de_dados_cnes_201909\\tbSubtipoInstalacao201909.parquet.gzip\n",
      "Saved as Parquet: I://base_de_dados//datasus//cnes//datasus_ftp\\2019\\base_de_dados_cnes_201909\\tbSubTpModVinculo201909.parquet.gzip\n",
      "Saved as Parquet: I://base_de_dados//datasus//cnes//datasus_ftp\\2019\\base_de_dados_cnes_201909\\tbTipoCertidao201909.parquet.gzip\n",
      "Saved as Parquet: I://base_de_dados//datasus//cnes//datasus_ftp\\2019\\base_de_dados_cnes_201909\\tbTipoCgDifer201909.parquet.gzip\n",
      "Saved as Parquet: I://base_de_dados//datasus//cnes//datasus_ftp\\2019\\base_de_dados_cnes_201909\\tbTipoEqSubTipo201909.parquet.gzip\n",
      "Saved as Parquet: I://base_de_dados//datasus//cnes//datasus_ftp\\2019\\base_de_dados_cnes_201909\\tbTipoEquipamento201909.parquet.gzip\n",
      "Saved as Parquet: I://base_de_dados//datasus//cnes//datasus_ftp\\2019\\base_de_dados_cnes_201909\\tbTipoEquipe201909.parquet.gzip\n",
      "Saved as Parquet: I://base_de_dados//datasus//cnes//datasus_ftp\\2019\\base_de_dados_cnes_201909\\tbTipoEscolaridade201909.parquet.gzip\n",
      "Saved as Parquet: I://base_de_dados//datasus//cnes//datasus_ftp\\2019\\base_de_dados_cnes_201909\\tbTipoEstabelecimento201909.parquet.gzip\n",
      "Saved as Parquet: I://base_de_dados//datasus//cnes//datasus_ftp\\2019\\base_de_dados_cnes_201909\\tbTipoInstalacaoFisica201909.parquet.gzip\n",
      "Saved as Parquet: I://base_de_dados//datasus//cnes//datasus_ftp\\2019\\base_de_dados_cnes_201909\\tbTipoServicoReferenciado201909.parquet.gzip\n",
      "Saved as Parquet: I://base_de_dados//datasus//cnes//datasus_ftp\\2019\\base_de_dados_cnes_201909\\tbTipoUnidade201909.parquet.gzip\n",
      "Saved as Parquet: I://base_de_dados//datasus//cnes//datasus_ftp\\2019\\base_de_dados_cnes_201909\\tbTpModVinculo201909.parquet.gzip\n",
      "Saved as Parquet: I://base_de_dados//datasus//cnes//datasus_ftp\\2019\\base_de_dados_cnes_201909\\tbTurnoAtendimento201909.parquet.gzip\n",
      "Month Folder: base_de_dados_cnes_201910\n",
      "Saved as Parquet: I://base_de_dados//datasus//cnes//datasus_ftp\\2019\\base_de_dados_cnes_201910\\rlAdmGerenciaCnes201910.parquet.gzip\n",
      "Saved as Parquet: I://base_de_dados//datasus//cnes//datasus_ftp\\2019\\base_de_dados_cnes_201910\\rlAtividadeObrigatoria201910.parquet.gzip\n",
      "Saved as Parquet: I://base_de_dados//datasus//cnes//datasus_ftp\\2019\\base_de_dados_cnes_201910\\rlCooperativa201910.parquet.gzip\n",
      "Saved as Parquet: I://base_de_dados//datasus//cnes//datasus_ftp\\2019\\base_de_dados_cnes_201910\\rlEquipeAldeia201910.parquet.gzip\n",
      "Saved as Parquet: I://base_de_dados//datasus//cnes//datasus_ftp\\2019\\base_de_dados_cnes_201910\\rlEquipeNasfEsf201910.parquet.gzip\n"
     ]
    },
    {
     "name": "stderr",
     "output_type": "stream",
     "text": [
      "C:\\Users\\erick\\AppData\\Local\\Temp\\ipykernel_18324\\463220216.py:31: DtypeWarning: Columns (0) have mixed types. Specify dtype option on import or set low_memory=False.\n",
      "  df = pd.read_csv(csv_path, sep=';')\n"
     ]
    },
    {
     "name": "stdout",
     "output_type": "stream",
     "text": [
      "Saved as Parquet: I://base_de_dados//datasus//cnes//datasus_ftp\\2019\\base_de_dados_cnes_201910\\rlEstabAtendPrestConv201910.parquet.gzip\n",
      "Saved as Parquet: I://base_de_dados//datasus//cnes//datasus_ftp\\2019\\base_de_dados_cnes_201910\\rlEstabAtenPsico201910.parquet.gzip\n",
      "Saved as Parquet: I://base_de_dados//datasus//cnes//datasus_ftp\\2019\\base_de_dados_cnes_201910\\rlEstabAvaliacao201910.parquet.gzip\n",
      "Saved as Parquet: I://base_de_dados//datasus//cnes//datasus_ftp\\2019\\base_de_dados_cnes_201910\\rlEstabCentralReg201910.parquet.gzip\n",
      "Saved as Parquet: I://base_de_dados//datasus//cnes//datasus_ftp\\2019\\base_de_dados_cnes_201910\\rlEstabColetaSelRejeito201910.parquet.gzip\n",
      "Saved as Parquet: I://base_de_dados//datasus//cnes//datasus_ftp\\2019\\base_de_dados_cnes_201910\\rlEstabComissaoOutro201910.parquet.gzip\n",
      "Saved as Parquet: I://base_de_dados//datasus//cnes//datasus_ftp\\2019\\base_de_dados_cnes_201910\\rlEstabComplementar201910.parquet.gzip\n",
      "Saved as Parquet: I://base_de_dados//datasus//cnes//datasus_ftp\\2019\\base_de_dados_cnes_201910\\rlEstabEndCompl201910.parquet.gzip\n",
      "Saved as Parquet: I://base_de_dados//datasus//cnes//datasus_ftp\\2019\\base_de_dados_cnes_201910\\rlEstabEqpEmbarcacao201910.parquet.gzip\n",
      "Saved as Parquet: I://base_de_dados//datasus//cnes//datasus_ftp\\2019\\base_de_dados_cnes_201910\\rlEstabEqpUnidApoio201910.parquet.gzip\n"
     ]
    },
    {
     "name": "stderr",
     "output_type": "stream",
     "text": [
      "C:\\Users\\erick\\AppData\\Local\\Temp\\ipykernel_18324\\463220216.py:31: DtypeWarning: Columns (0) have mixed types. Specify dtype option on import or set low_memory=False.\n",
      "  df = pd.read_csv(csv_path, sep=';')\n"
     ]
    },
    {
     "name": "stdout",
     "output_type": "stream",
     "text": [
      "Saved as Parquet: I://base_de_dados//datasus//cnes//datasus_ftp\\2019\\base_de_dados_cnes_201910\\rlEstabEquipamento201910.parquet.gzip\n",
      "Saved as Parquet: I://base_de_dados//datasus//cnes//datasus_ftp\\2019\\base_de_dados_cnes_201910\\rlEstabEquipeMun201910.parquet.gzip\n"
     ]
    },
    {
     "name": "stderr",
     "output_type": "stream",
     "text": [
      "C:\\Users\\erick\\AppData\\Local\\Temp\\ipykernel_18324\\463220216.py:31: DtypeWarning: Columns (14) have mixed types. Specify dtype option on import or set low_memory=False.\n",
      "  df = pd.read_csv(csv_path, sep=';')\n"
     ]
    },
    {
     "name": "stdout",
     "output_type": "stream",
     "text": [
      "Saved as Parquet: I://base_de_dados//datasus//cnes//datasus_ftp\\2019\\base_de_dados_cnes_201910\\rlEstabEquipeProf201910.parquet.gzip\n",
      "Saved as Parquet: I://base_de_dados//datasus//cnes//datasus_ftp\\2019\\base_de_dados_cnes_201910\\rlEstabInstFisiAssist201910.parquet.gzip\n",
      "Saved as Parquet: I://base_de_dados//datasus//cnes//datasus_ftp\\2019\\base_de_dados_cnes_201910\\rlEstabOrgParc201910.parquet.gzip\n",
      "Saved as Parquet: I://base_de_dados//datasus//cnes//datasus_ftp\\2019\\base_de_dados_cnes_201910\\rlEstabPoloAldeia201910.parquet.gzip\n",
      "Saved as Parquet: I://base_de_dados//datasus//cnes//datasus_ftp\\2019\\base_de_dados_cnes_201910\\rlEstabProfComissao201910.parquet.gzip\n",
      "Saved as Parquet: I://base_de_dados//datasus//cnes//datasus_ftp\\2019\\base_de_dados_cnes_201910\\rlEstabProgFundo201910.parquet.gzip\n",
      "Saved as Parquet: I://base_de_dados//datasus//cnes//datasus_ftp\\2019\\base_de_dados_cnes_201910\\rlEstabRegimeRes201910.parquet.gzip\n",
      "Saved as Parquet: I://base_de_dados//datasus//cnes//datasus_ftp\\2019\\base_de_dados_cnes_201910\\rlEstabRepresentante201910.parquet.gzip\n",
      "Saved as Parquet: I://base_de_dados//datasus//cnes//datasus_ftp\\2019\\base_de_dados_cnes_201910\\rlEstabSamu201910.parquet.gzip\n",
      "Saved as Parquet: I://base_de_dados//datasus//cnes//datasus_ftp\\2019\\base_de_dados_cnes_201910\\rlEstabServClass201910.parquet.gzip\n"
     ]
    },
    {
     "name": "stderr",
     "output_type": "stream",
     "text": [
      "C:\\Users\\erick\\AppData\\Local\\Temp\\ipykernel_18324\\463220216.py:31: DtypeWarning: Columns (2) have mixed types. Specify dtype option on import or set low_memory=False.\n",
      "  df = pd.read_csv(csv_path, sep=';')\n"
     ]
    },
    {
     "name": "stdout",
     "output_type": "stream",
     "text": [
      "Saved as Parquet: I://base_de_dados//datasus//cnes//datasus_ftp\\2019\\base_de_dados_cnes_201910\\rlEstabServicoApoio201910.parquet.gzip\n",
      "Saved as Parquet: I://base_de_dados//datasus//cnes//datasus_ftp\\2019\\base_de_dados_cnes_201910\\rlEstabSipac201910.parquet.gzip\n",
      "Saved as Parquet: I://base_de_dados//datasus//cnes//datasus_ftp\\2019\\base_de_dados_cnes_201910\\rlEstabSubTipo201910.parquet.gzip\n",
      "Saved as Parquet: I://base_de_dados//datasus//cnes//datasus_ftp\\2019\\base_de_dados_cnes_201910\\rlEstabTeleCnes201910.parquet.gzip\n",
      "Saved as Parquet: I://base_de_dados//datasus//cnes//datasus_ftp\\2019\\base_de_dados_cnes_201910\\rlEstabUnidAcolhim201910.parquet.gzip\n",
      "Saved as Parquet: I://base_de_dados//datasus//cnes//datasus_ftp\\2019\\base_de_dados_cnes_201910\\rlMunAtenPsico201910.parquet.gzip\n",
      "Saved as Parquet: I://base_de_dados//datasus//cnes//datasus_ftp\\2019\\base_de_dados_cnes_201910\\rlMunRegimeRes201910.parquet.gzip\n",
      "Saved as Parquet: I://base_de_dados//datasus//cnes//datasus_ftp\\2019\\base_de_dados_cnes_201910\\rlMunUnidAcolhim201910.parquet.gzip\n",
      "Saved as Parquet: I://base_de_dados//datasus//cnes//datasus_ftp\\2019\\base_de_dados_cnes_201910\\rlNasfEsf201910.parquet.gzip\n",
      "Saved as Parquet: I://base_de_dados//datasus//cnes//datasus_ftp\\2019\\base_de_dados_cnes_201910\\rlTipoEstabAtividade201910.parquet.gzip\n",
      "Saved as Parquet: I://base_de_dados//datasus//cnes//datasus_ftp\\2019\\base_de_dados_cnes_201910\\tbAldeia201910.parquet.gzip\n",
      "Saved as Parquet: I://base_de_dados//datasus//cnes//datasus_ftp\\2019\\base_de_dados_cnes_201910\\tbArea201910.parquet.gzip\n",
      "Saved as Parquet: I://base_de_dados//datasus//cnes//datasus_ftp\\2019\\base_de_dados_cnes_201910\\tbAtendimentoPrestado201910.parquet.gzip\n",
      "Saved as Parquet: I://base_de_dados//datasus//cnes//datasus_ftp\\2019\\base_de_dados_cnes_201910\\tbAtividade201910.parquet.gzip\n",
      "Saved as Parquet: I://base_de_dados//datasus//cnes//datasus_ftp\\2019\\base_de_dados_cnes_201910\\tbAtividadeEnsino201910.parquet.gzip\n",
      "Saved as Parquet: I://base_de_dados//datasus//cnes//datasus_ftp\\2019\\base_de_dados_cnes_201910\\tbAtividadeProfissional201910.parquet.gzip\n",
      "Saved as Parquet: I://base_de_dados//datasus//cnes//datasus_ftp\\2019\\base_de_dados_cnes_201910\\tbAtributo201910.parquet.gzip\n",
      "Saved as Parquet: I://base_de_dados//datasus//cnes//datasus_ftp\\2019\\base_de_dados_cnes_201910\\tbAvaliacao201910.parquet.gzip\n",
      "Saved as Parquet: I://base_de_dados//datasus//cnes//datasus_ftp\\2019\\base_de_dados_cnes_201910\\tbBanco201910.parquet.gzip\n"
     ]
    },
    {
     "name": "stderr",
     "output_type": "stream",
     "text": [
      "C:\\Users\\erick\\AppData\\Local\\Temp\\ipykernel_18324\\463220216.py:31: DtypeWarning: Columns (0,12) have mixed types. Specify dtype option on import or set low_memory=False.\n",
      "  df = pd.read_csv(csv_path, sep=';')\n"
     ]
    },
    {
     "name": "stdout",
     "output_type": "stream",
     "text": [
      "Saved as Parquet: I://base_de_dados//datasus//cnes//datasus_ftp\\2019\\base_de_dados_cnes_201910\\tbCargaHorariaSus201910.parquet.gzip\n",
      "Saved as Parquet: I://base_de_dados//datasus//cnes//datasus_ftp\\2019\\base_de_dados_cnes_201910\\tbClassificacaoAval201910.parquet.gzip\n",
      "Saved as Parquet: I://base_de_dados//datasus//cnes//datasus_ftp\\2019\\base_de_dados_cnes_201910\\tbClassificacaoServico201910.parquet.gzip\n",
      "Saved as Parquet: I://base_de_dados//datasus//cnes//datasus_ftp\\2019\\base_de_dados_cnes_201910\\tbColetaSeletivaRejeito201910.parquet.gzip\n",
      "Saved as Parquet: I://base_de_dados//datasus//cnes//datasus_ftp\\2019\\base_de_dados_cnes_201910\\tbComissaoOutro201910.parquet.gzip\n",
      "Saved as Parquet: I://base_de_dados//datasus//cnes//datasus_ftp\\2019\\base_de_dados_cnes_201910\\tbConselhoClasse201910.parquet.gzip\n",
      "Saved as Parquet: I://base_de_dados//datasus//cnes//datasus_ftp\\2019\\base_de_dados_cnes_201910\\tbConvenio201910.parquet.gzip\n",
      "Saved as Parquet: I://base_de_dados//datasus//cnes//datasus_ftp\\2019\\base_de_dados_cnes_201910\\tbDadosProfissionalSus201910.parquet.gzip\n",
      "Saved as Parquet: I://base_de_dados//datasus//cnes//datasus_ftp\\2019\\base_de_dados_cnes_201910\\tbDialise201910.parquet.gzip\n",
      "Saved as Parquet: I://base_de_dados//datasus//cnes//datasus_ftp\\2019\\base_de_dados_cnes_201910\\tbDsei201910.parquet.gzip\n",
      "Saved as Parquet: I://base_de_dados//datasus//cnes//datasus_ftp\\2019\\base_de_dados_cnes_201910\\tbEquipamento201910.parquet.gzip\n",
      "Saved as Parquet: I://base_de_dados//datasus//cnes//datasus_ftp\\2019\\base_de_dados_cnes_201910\\tbEquipe201910.parquet.gzip\n",
      "Saved as Parquet: I://base_de_dados//datasus//cnes//datasus_ftp\\2019\\base_de_dados_cnes_201910\\tbEquipeAtendCompl201910.parquet.gzip\n",
      "Saved as Parquet: I://base_de_dados//datasus//cnes//datasus_ftp\\2019\\base_de_dados_cnes_201910\\tbEquipeChDifer201910.parquet.gzip\n",
      "Saved as Parquet: I://base_de_dados//datasus//cnes//datasus_ftp\\2019\\base_de_dados_cnes_201910\\tbEstabAtivSecundaria201910.parquet.gzip\n",
      "Saved as Parquet: I://base_de_dados//datasus//cnes//datasus_ftp\\2019\\base_de_dados_cnes_201910\\tbEstabContrato201910.parquet.gzip\n"
     ]
    },
    {
     "name": "stderr",
     "output_type": "stream",
     "text": [
      "C:\\Users\\erick\\AppData\\Local\\Temp\\ipykernel_18324\\463220216.py:31: DtypeWarning: Columns (0,36,45) have mixed types. Specify dtype option on import or set low_memory=False.\n",
      "  df = pd.read_csv(csv_path, sep=';')\n"
     ]
    },
    {
     "name": "stdout",
     "output_type": "stream",
     "text": [
      "Saved as Parquet: I://base_de_dados//datasus//cnes//datasus_ftp\\2019\\base_de_dados_cnes_201910\\tbEstabelecimento201910.parquet.gzip\n",
      "Saved as Parquet: I://base_de_dados//datasus//cnes//datasus_ftp\\2019\\base_de_dados_cnes_201910\\tbEstabHorarioAtend201910.parquet.gzip\n",
      "Saved as Parquet: I://base_de_dados//datasus//cnes//datasus_ftp\\2019\\base_de_dados_cnes_201910\\tbEstado201910.parquet.gzip\n",
      "Saved as Parquet: I://base_de_dados//datasus//cnes//datasus_ftp\\2019\\base_de_dados_cnes_201910\\tbEtnia201910.parquet.gzip\n",
      "Saved as Parquet: I://base_de_dados//datasus//cnes//datasus_ftp\\2019\\base_de_dados_cnes_201910\\tbFluxoDadosClientela201910.parquet.gzip\n",
      "Saved as Parquet: I://base_de_dados//datasus//cnes//datasus_ftp\\2019\\base_de_dados_cnes_201910\\tbGestao201910.parquet.gzip\n",
      "Saved as Parquet: I://base_de_dados//datasus//cnes//datasus_ftp\\2019\\base_de_dados_cnes_201910\\tbGrupoAtividade201910.parquet.gzip\n",
      "Saved as Parquet: I://base_de_dados//datasus//cnes//datasus_ftp\\2019\\base_de_dados_cnes_201910\\tbGrupoEquipe201910.parquet.gzip\n",
      "Saved as Parquet: I://base_de_dados//datasus//cnes//datasus_ftp\\2019\\base_de_dados_cnes_201910\\tbHemoterapia201910.parquet.gzip\n",
      "Saved as Parquet: I://base_de_dados//datasus//cnes//datasus_ftp\\2019\\base_de_dados_cnes_201910\\tbIncentivos201910.parquet.gzip\n",
      "Saved as Parquet: I://base_de_dados//datasus//cnes//datasus_ftp\\2019\\base_de_dados_cnes_201910\\tbInstalFisicaParaAssist201910.parquet.gzip\n",
      "Saved as Parquet: I://base_de_dados//datasus//cnes//datasus_ftp\\2019\\base_de_dados_cnes_201910\\tbInstituicaoAvaliadora201910.parquet.gzip\n",
      "Saved as Parquet: I://base_de_dados//datasus//cnes//datasus_ftp\\2019\\base_de_dados_cnes_201910\\tbLeito201910.parquet.gzip\n",
      "Saved as Parquet: I://base_de_dados//datasus//cnes//datasus_ftp\\2019\\base_de_dados_cnes_201910\\tbMantenedora201910.parquet.gzip\n",
      "Saved as Parquet: I://base_de_dados//datasus//cnes//datasus_ftp\\2019\\base_de_dados_cnes_201910\\tbModVinculo201910.parquet.gzip\n",
      "Saved as Parquet: I://base_de_dados//datasus//cnes//datasus_ftp\\2019\\base_de_dados_cnes_201910\\tbMotivoDesativacao201910.parquet.gzip\n",
      "Saved as Parquet: I://base_de_dados//datasus//cnes//datasus_ftp\\2019\\base_de_dados_cnes_201910\\tbMotivoDesativEquipe201910.parquet.gzip\n",
      "Saved as Parquet: I://base_de_dados//datasus//cnes//datasus_ftp\\2019\\base_de_dados_cnes_201910\\tbMunicipio201910.parquet.gzip\n",
      "Saved as Parquet: I://base_de_dados//datasus//cnes//datasus_ftp\\2019\\base_de_dados_cnes_201910\\tbNaturezaJuridica201910.parquet.gzip\n",
      "Saved as Parquet: I://base_de_dados//datasus//cnes//datasus_ftp\\2019\\base_de_dados_cnes_201910\\tbOrgaoEmissor201910.parquet.gzip\n",
      "Saved as Parquet: I://base_de_dados//datasus//cnes//datasus_ftp\\2019\\base_de_dados_cnes_201910\\tbPoloBase201910.parquet.gzip\n",
      "Saved as Parquet: I://base_de_dados//datasus//cnes//datasus_ftp\\2019\\base_de_dados_cnes_201910\\tbProfResidencia201910.parquet.gzip\n",
      "Saved as Parquet: I://base_de_dados//datasus//cnes//datasus_ftp\\2019\\base_de_dados_cnes_201910\\tbQuimioRadio201910.parquet.gzip\n",
      "Saved as Parquet: I://base_de_dados//datasus//cnes//datasus_ftp\\2019\\base_de_dados_cnes_201910\\tbResidenciaMed201910.parquet.gzip\n",
      "Saved as Parquet: I://base_de_dados//datasus//cnes//datasus_ftp\\2019\\base_de_dados_cnes_201910\\tbSegmento201910.parquet.gzip\n",
      "Saved as Parquet: I://base_de_dados//datasus//cnes//datasus_ftp\\2019\\base_de_dados_cnes_201910\\tbServicoApoio201910.parquet.gzip\n",
      "Saved as Parquet: I://base_de_dados//datasus//cnes//datasus_ftp\\2019\\base_de_dados_cnes_201910\\tbServicoEspecializado201910.parquet.gzip\n",
      "Saved as Parquet: I://base_de_dados//datasus//cnes//datasus_ftp\\2019\\base_de_dados_cnes_201910\\tbServicoReferenciado201910.parquet.gzip\n",
      "Saved as Parquet: I://base_de_dados//datasus//cnes//datasus_ftp\\2019\\base_de_dados_cnes_201910\\tbSubGruposHabilitacao201910.parquet.gzip\n",
      "Saved as Parquet: I://base_de_dados//datasus//cnes//datasus_ftp\\2019\\base_de_dados_cnes_201910\\tbSubTipo201910.parquet.gzip\n",
      "Saved as Parquet: I://base_de_dados//datasus//cnes//datasus_ftp\\2019\\base_de_dados_cnes_201910\\tbSubTipoEquipe201910.parquet.gzip\n",
      "Saved as Parquet: I://base_de_dados//datasus//cnes//datasus_ftp\\2019\\base_de_dados_cnes_201910\\tbSubtipoInstalacao201910.parquet.gzip\n",
      "Saved as Parquet: I://base_de_dados//datasus//cnes//datasus_ftp\\2019\\base_de_dados_cnes_201910\\tbSubTpModVinculo201910.parquet.gzip\n",
      "Saved as Parquet: I://base_de_dados//datasus//cnes//datasus_ftp\\2019\\base_de_dados_cnes_201910\\tbTipoCertidao201910.parquet.gzip\n",
      "Saved as Parquet: I://base_de_dados//datasus//cnes//datasus_ftp\\2019\\base_de_dados_cnes_201910\\tbTipoCgDifer201910.parquet.gzip\n",
      "Saved as Parquet: I://base_de_dados//datasus//cnes//datasus_ftp\\2019\\base_de_dados_cnes_201910\\tbTipoEqSubTipo201910.parquet.gzip\n",
      "Saved as Parquet: I://base_de_dados//datasus//cnes//datasus_ftp\\2019\\base_de_dados_cnes_201910\\tbTipoEquipamento201910.parquet.gzip\n",
      "Saved as Parquet: I://base_de_dados//datasus//cnes//datasus_ftp\\2019\\base_de_dados_cnes_201910\\tbTipoEquipe201910.parquet.gzip\n",
      "Saved as Parquet: I://base_de_dados//datasus//cnes//datasus_ftp\\2019\\base_de_dados_cnes_201910\\tbTipoEscolaridade201910.parquet.gzip\n",
      "Saved as Parquet: I://base_de_dados//datasus//cnes//datasus_ftp\\2019\\base_de_dados_cnes_201910\\tbTipoEstabelecimento201910.parquet.gzip\n",
      "Saved as Parquet: I://base_de_dados//datasus//cnes//datasus_ftp\\2019\\base_de_dados_cnes_201910\\tbTipoInstalacaoFisica201910.parquet.gzip\n",
      "Saved as Parquet: I://base_de_dados//datasus//cnes//datasus_ftp\\2019\\base_de_dados_cnes_201910\\tbTipoServicoReferenciado201910.parquet.gzip\n",
      "Saved as Parquet: I://base_de_dados//datasus//cnes//datasus_ftp\\2019\\base_de_dados_cnes_201910\\tbTipoUnidade201910.parquet.gzip\n",
      "Saved as Parquet: I://base_de_dados//datasus//cnes//datasus_ftp\\2019\\base_de_dados_cnes_201910\\tbTpModVinculo201910.parquet.gzip\n",
      "Saved as Parquet: I://base_de_dados//datasus//cnes//datasus_ftp\\2019\\base_de_dados_cnes_201910\\tbTurnoAtendimento201910.parquet.gzip\n",
      "Month Folder: base_de_dados_cnes_201911\n",
      "Saved as Parquet: I://base_de_dados//datasus//cnes//datasus_ftp\\2019\\base_de_dados_cnes_201911\\rlAdmGerenciaCnes201911.parquet.gzip\n",
      "Saved as Parquet: I://base_de_dados//datasus//cnes//datasus_ftp\\2019\\base_de_dados_cnes_201911\\rlAtividadeObrigatoria201911.parquet.gzip\n",
      "Saved as Parquet: I://base_de_dados//datasus//cnes//datasus_ftp\\2019\\base_de_dados_cnes_201911\\rlCooperativa201911.parquet.gzip\n",
      "Saved as Parquet: I://base_de_dados//datasus//cnes//datasus_ftp\\2019\\base_de_dados_cnes_201911\\rlEquipeAldeia201911.parquet.gzip\n",
      "Saved as Parquet: I://base_de_dados//datasus//cnes//datasus_ftp\\2019\\base_de_dados_cnes_201911\\rlEquipeNasfEsf201911.parquet.gzip\n"
     ]
    },
    {
     "name": "stderr",
     "output_type": "stream",
     "text": [
      "C:\\Users\\erick\\AppData\\Local\\Temp\\ipykernel_18324\\463220216.py:31: DtypeWarning: Columns (0) have mixed types. Specify dtype option on import or set low_memory=False.\n",
      "  df = pd.read_csv(csv_path, sep=';')\n"
     ]
    },
    {
     "name": "stdout",
     "output_type": "stream",
     "text": [
      "Saved as Parquet: I://base_de_dados//datasus//cnes//datasus_ftp\\2019\\base_de_dados_cnes_201911\\rlEstabAtendPrestConv201911.parquet.gzip\n",
      "Saved as Parquet: I://base_de_dados//datasus//cnes//datasus_ftp\\2019\\base_de_dados_cnes_201911\\rlEstabAtenPsico201911.parquet.gzip\n",
      "Saved as Parquet: I://base_de_dados//datasus//cnes//datasus_ftp\\2019\\base_de_dados_cnes_201911\\rlEstabAvaliacao201911.parquet.gzip\n",
      "Saved as Parquet: I://base_de_dados//datasus//cnes//datasus_ftp\\2019\\base_de_dados_cnes_201911\\rlEstabCentralReg201911.parquet.gzip\n",
      "Saved as Parquet: I://base_de_dados//datasus//cnes//datasus_ftp\\2019\\base_de_dados_cnes_201911\\rlEstabColetaSelRejeito201911.parquet.gzip\n",
      "Saved as Parquet: I://base_de_dados//datasus//cnes//datasus_ftp\\2019\\base_de_dados_cnes_201911\\rlEstabComissaoOutro201911.parquet.gzip\n",
      "Saved as Parquet: I://base_de_dados//datasus//cnes//datasus_ftp\\2019\\base_de_dados_cnes_201911\\rlEstabComplementar201911.parquet.gzip\n",
      "Saved as Parquet: I://base_de_dados//datasus//cnes//datasus_ftp\\2019\\base_de_dados_cnes_201911\\rlEstabEndCompl201911.parquet.gzip\n",
      "Saved as Parquet: I://base_de_dados//datasus//cnes//datasus_ftp\\2019\\base_de_dados_cnes_201911\\rlEstabEqpEmbarcacao201911.parquet.gzip\n",
      "Saved as Parquet: I://base_de_dados//datasus//cnes//datasus_ftp\\2019\\base_de_dados_cnes_201911\\rlEstabEqpUnidApoio201911.parquet.gzip\n"
     ]
    },
    {
     "name": "stderr",
     "output_type": "stream",
     "text": [
      "C:\\Users\\erick\\AppData\\Local\\Temp\\ipykernel_18324\\463220216.py:31: DtypeWarning: Columns (0) have mixed types. Specify dtype option on import or set low_memory=False.\n",
      "  df = pd.read_csv(csv_path, sep=';')\n"
     ]
    },
    {
     "name": "stdout",
     "output_type": "stream",
     "text": [
      "Saved as Parquet: I://base_de_dados//datasus//cnes//datasus_ftp\\2019\\base_de_dados_cnes_201911\\rlEstabEquipamento201911.parquet.gzip\n",
      "Saved as Parquet: I://base_de_dados//datasus//cnes//datasus_ftp\\2019\\base_de_dados_cnes_201911\\rlEstabEquipeMun201911.parquet.gzip\n"
     ]
    },
    {
     "name": "stderr",
     "output_type": "stream",
     "text": [
      "C:\\Users\\erick\\AppData\\Local\\Temp\\ipykernel_18324\\463220216.py:31: DtypeWarning: Columns (14) have mixed types. Specify dtype option on import or set low_memory=False.\n",
      "  df = pd.read_csv(csv_path, sep=';')\n"
     ]
    },
    {
     "name": "stdout",
     "output_type": "stream",
     "text": [
      "Saved as Parquet: I://base_de_dados//datasus//cnes//datasus_ftp\\2019\\base_de_dados_cnes_201911\\rlEstabEquipeProf201911.parquet.gzip\n",
      "Saved as Parquet: I://base_de_dados//datasus//cnes//datasus_ftp\\2019\\base_de_dados_cnes_201911\\rlEstabInstFisiAssist201911.parquet.gzip\n",
      "Saved as Parquet: I://base_de_dados//datasus//cnes//datasus_ftp\\2019\\base_de_dados_cnes_201911\\rlEstabOrgParc201911.parquet.gzip\n",
      "Saved as Parquet: I://base_de_dados//datasus//cnes//datasus_ftp\\2019\\base_de_dados_cnes_201911\\rlEstabPoloAldeia201911.parquet.gzip\n",
      "Saved as Parquet: I://base_de_dados//datasus//cnes//datasus_ftp\\2019\\base_de_dados_cnes_201911\\rlEstabProfComissao201911.parquet.gzip\n",
      "Saved as Parquet: I://base_de_dados//datasus//cnes//datasus_ftp\\2019\\base_de_dados_cnes_201911\\rlEstabProgFundo201911.parquet.gzip\n",
      "Saved as Parquet: I://base_de_dados//datasus//cnes//datasus_ftp\\2019\\base_de_dados_cnes_201911\\rlEstabRegimeRes201911.parquet.gzip\n",
      "Saved as Parquet: I://base_de_dados//datasus//cnes//datasus_ftp\\2019\\base_de_dados_cnes_201911\\rlEstabRepresentante201911.parquet.gzip\n",
      "Saved as Parquet: I://base_de_dados//datasus//cnes//datasus_ftp\\2019\\base_de_dados_cnes_201911\\rlEstabSamu201911.parquet.gzip\n",
      "Saved as Parquet: I://base_de_dados//datasus//cnes//datasus_ftp\\2019\\base_de_dados_cnes_201911\\rlEstabServClass201911.parquet.gzip\n"
     ]
    },
    {
     "name": "stderr",
     "output_type": "stream",
     "text": [
      "C:\\Users\\erick\\AppData\\Local\\Temp\\ipykernel_18324\\463220216.py:31: DtypeWarning: Columns (2) have mixed types. Specify dtype option on import or set low_memory=False.\n",
      "  df = pd.read_csv(csv_path, sep=';')\n"
     ]
    },
    {
     "name": "stdout",
     "output_type": "stream",
     "text": [
      "Saved as Parquet: I://base_de_dados//datasus//cnes//datasus_ftp\\2019\\base_de_dados_cnes_201911\\rlEstabServicoApoio201911.parquet.gzip\n",
      "Saved as Parquet: I://base_de_dados//datasus//cnes//datasus_ftp\\2019\\base_de_dados_cnes_201911\\rlEstabSipac201911.parquet.gzip\n",
      "Saved as Parquet: I://base_de_dados//datasus//cnes//datasus_ftp\\2019\\base_de_dados_cnes_201911\\rlEstabSubTipo201911.parquet.gzip\n",
      "Saved as Parquet: I://base_de_dados//datasus//cnes//datasus_ftp\\2019\\base_de_dados_cnes_201911\\rlEstabTeleCnes201911.parquet.gzip\n",
      "Saved as Parquet: I://base_de_dados//datasus//cnes//datasus_ftp\\2019\\base_de_dados_cnes_201911\\rlEstabUnidAcolhim201911.parquet.gzip\n",
      "Saved as Parquet: I://base_de_dados//datasus//cnes//datasus_ftp\\2019\\base_de_dados_cnes_201911\\rlMunAtenPsico201911.parquet.gzip\n",
      "Saved as Parquet: I://base_de_dados//datasus//cnes//datasus_ftp\\2019\\base_de_dados_cnes_201911\\rlMunRegimeRes201911.parquet.gzip\n",
      "Saved as Parquet: I://base_de_dados//datasus//cnes//datasus_ftp\\2019\\base_de_dados_cnes_201911\\rlMunUnidAcolhim201911.parquet.gzip\n",
      "Saved as Parquet: I://base_de_dados//datasus//cnes//datasus_ftp\\2019\\base_de_dados_cnes_201911\\rlNasfEsf201911.parquet.gzip\n",
      "Saved as Parquet: I://base_de_dados//datasus//cnes//datasus_ftp\\2019\\base_de_dados_cnes_201911\\rlTipoEstabAtividade201911.parquet.gzip\n",
      "Saved as Parquet: I://base_de_dados//datasus//cnes//datasus_ftp\\2019\\base_de_dados_cnes_201911\\tbAldeia201911.parquet.gzip\n",
      "Saved as Parquet: I://base_de_dados//datasus//cnes//datasus_ftp\\2019\\base_de_dados_cnes_201911\\tbArea201911.parquet.gzip\n",
      "Saved as Parquet: I://base_de_dados//datasus//cnes//datasus_ftp\\2019\\base_de_dados_cnes_201911\\tbAtendimentoPrestado201911.parquet.gzip\n",
      "Saved as Parquet: I://base_de_dados//datasus//cnes//datasus_ftp\\2019\\base_de_dados_cnes_201911\\tbAtividade201911.parquet.gzip\n",
      "Saved as Parquet: I://base_de_dados//datasus//cnes//datasus_ftp\\2019\\base_de_dados_cnes_201911\\tbAtividadeEnsino201911.parquet.gzip\n",
      "Saved as Parquet: I://base_de_dados//datasus//cnes//datasus_ftp\\2019\\base_de_dados_cnes_201911\\tbAtividadeProfissional201911.parquet.gzip\n",
      "Saved as Parquet: I://base_de_dados//datasus//cnes//datasus_ftp\\2019\\base_de_dados_cnes_201911\\tbAtributo201911.parquet.gzip\n",
      "Saved as Parquet: I://base_de_dados//datasus//cnes//datasus_ftp\\2019\\base_de_dados_cnes_201911\\tbAvaliacao201911.parquet.gzip\n",
      "Saved as Parquet: I://base_de_dados//datasus//cnes//datasus_ftp\\2019\\base_de_dados_cnes_201911\\tbBanco201911.parquet.gzip\n"
     ]
    },
    {
     "name": "stderr",
     "output_type": "stream",
     "text": [
      "C:\\Users\\erick\\AppData\\Local\\Temp\\ipykernel_18324\\463220216.py:31: DtypeWarning: Columns (0,12) have mixed types. Specify dtype option on import or set low_memory=False.\n",
      "  df = pd.read_csv(csv_path, sep=';')\n"
     ]
    },
    {
     "name": "stdout",
     "output_type": "stream",
     "text": [
      "Saved as Parquet: I://base_de_dados//datasus//cnes//datasus_ftp\\2019\\base_de_dados_cnes_201911\\tbCargaHorariaSus201911.parquet.gzip\n",
      "Saved as Parquet: I://base_de_dados//datasus//cnes//datasus_ftp\\2019\\base_de_dados_cnes_201911\\tbClassificacaoAval201911.parquet.gzip\n",
      "Saved as Parquet: I://base_de_dados//datasus//cnes//datasus_ftp\\2019\\base_de_dados_cnes_201911\\tbClassificacaoServico201911.parquet.gzip\n",
      "Saved as Parquet: I://base_de_dados//datasus//cnes//datasus_ftp\\2019\\base_de_dados_cnes_201911\\tbColetaSeletivaRejeito201911.parquet.gzip\n",
      "Saved as Parquet: I://base_de_dados//datasus//cnes//datasus_ftp\\2019\\base_de_dados_cnes_201911\\tbComissaoOutro201911.parquet.gzip\n",
      "Saved as Parquet: I://base_de_dados//datasus//cnes//datasus_ftp\\2019\\base_de_dados_cnes_201911\\tbConselhoClasse201911.parquet.gzip\n",
      "Saved as Parquet: I://base_de_dados//datasus//cnes//datasus_ftp\\2019\\base_de_dados_cnes_201911\\tbConvenio201911.parquet.gzip\n",
      "Saved as Parquet: I://base_de_dados//datasus//cnes//datasus_ftp\\2019\\base_de_dados_cnes_201911\\tbDadosProfissionalSus201911.parquet.gzip\n",
      "Saved as Parquet: I://base_de_dados//datasus//cnes//datasus_ftp\\2019\\base_de_dados_cnes_201911\\tbDialise201911.parquet.gzip\n",
      "Saved as Parquet: I://base_de_dados//datasus//cnes//datasus_ftp\\2019\\base_de_dados_cnes_201911\\tbDsei201911.parquet.gzip\n",
      "Saved as Parquet: I://base_de_dados//datasus//cnes//datasus_ftp\\2019\\base_de_dados_cnes_201911\\tbEquipamento201911.parquet.gzip\n",
      "Saved as Parquet: I://base_de_dados//datasus//cnes//datasus_ftp\\2019\\base_de_dados_cnes_201911\\tbEquipe201911.parquet.gzip\n",
      "Saved as Parquet: I://base_de_dados//datasus//cnes//datasus_ftp\\2019\\base_de_dados_cnes_201911\\tbEquipeAtendCompl201911.parquet.gzip\n",
      "Saved as Parquet: I://base_de_dados//datasus//cnes//datasus_ftp\\2019\\base_de_dados_cnes_201911\\tbEquipeChDifer201911.parquet.gzip\n",
      "Saved as Parquet: I://base_de_dados//datasus//cnes//datasus_ftp\\2019\\base_de_dados_cnes_201911\\tbEstabAtivSecundaria201911.parquet.gzip\n",
      "Saved as Parquet: I://base_de_dados//datasus//cnes//datasus_ftp\\2019\\base_de_dados_cnes_201911\\tbEstabContrato201911.parquet.gzip\n"
     ]
    },
    {
     "name": "stderr",
     "output_type": "stream",
     "text": [
      "C:\\Users\\erick\\AppData\\Local\\Temp\\ipykernel_18324\\463220216.py:31: DtypeWarning: Columns (0,15,36,39,40,45) have mixed types. Specify dtype option on import or set low_memory=False.\n",
      "  df = pd.read_csv(csv_path, sep=';')\n"
     ]
    },
    {
     "name": "stdout",
     "output_type": "stream",
     "text": [
      "Saved as Parquet: I://base_de_dados//datasus//cnes//datasus_ftp\\2019\\base_de_dados_cnes_201911\\tbEstabelecimento201911.parquet.gzip\n",
      "Saved as Parquet: I://base_de_dados//datasus//cnes//datasus_ftp\\2019\\base_de_dados_cnes_201911\\tbEstabHorarioAtend201911.parquet.gzip\n",
      "Saved as Parquet: I://base_de_dados//datasus//cnes//datasus_ftp\\2019\\base_de_dados_cnes_201911\\tbEstado201911.parquet.gzip\n",
      "Saved as Parquet: I://base_de_dados//datasus//cnes//datasus_ftp\\2019\\base_de_dados_cnes_201911\\tbEtnia201911.parquet.gzip\n",
      "Saved as Parquet: I://base_de_dados//datasus//cnes//datasus_ftp\\2019\\base_de_dados_cnes_201911\\tbFluxoDadosClientela201911.parquet.gzip\n",
      "Saved as Parquet: I://base_de_dados//datasus//cnes//datasus_ftp\\2019\\base_de_dados_cnes_201911\\tbGestao201911.parquet.gzip\n",
      "Saved as Parquet: I://base_de_dados//datasus//cnes//datasus_ftp\\2019\\base_de_dados_cnes_201911\\tbGrupoAtividade201911.parquet.gzip\n",
      "Saved as Parquet: I://base_de_dados//datasus//cnes//datasus_ftp\\2019\\base_de_dados_cnes_201911\\tbGrupoEquipe201911.parquet.gzip\n",
      "Saved as Parquet: I://base_de_dados//datasus//cnes//datasus_ftp\\2019\\base_de_dados_cnes_201911\\tbHemoterapia201911.parquet.gzip\n",
      "Saved as Parquet: I://base_de_dados//datasus//cnes//datasus_ftp\\2019\\base_de_dados_cnes_201911\\tbIncentivos201911.parquet.gzip\n",
      "Saved as Parquet: I://base_de_dados//datasus//cnes//datasus_ftp\\2019\\base_de_dados_cnes_201911\\tbInstalFisicaParaAssist201911.parquet.gzip\n",
      "Saved as Parquet: I://base_de_dados//datasus//cnes//datasus_ftp\\2019\\base_de_dados_cnes_201911\\tbInstituicaoAvaliadora201911.parquet.gzip\n",
      "Saved as Parquet: I://base_de_dados//datasus//cnes//datasus_ftp\\2019\\base_de_dados_cnes_201911\\tbLeito201911.parquet.gzip\n",
      "Saved as Parquet: I://base_de_dados//datasus//cnes//datasus_ftp\\2019\\base_de_dados_cnes_201911\\tbMantenedora201911.parquet.gzip\n",
      "Saved as Parquet: I://base_de_dados//datasus//cnes//datasus_ftp\\2019\\base_de_dados_cnes_201911\\tbModVinculo201911.parquet.gzip\n",
      "Saved as Parquet: I://base_de_dados//datasus//cnes//datasus_ftp\\2019\\base_de_dados_cnes_201911\\tbMotivoDesativacao201911.parquet.gzip\n",
      "Saved as Parquet: I://base_de_dados//datasus//cnes//datasus_ftp\\2019\\base_de_dados_cnes_201911\\tbMotivoDesativEquipe201911.parquet.gzip\n",
      "Saved as Parquet: I://base_de_dados//datasus//cnes//datasus_ftp\\2019\\base_de_dados_cnes_201911\\tbMunicipio201911.parquet.gzip\n",
      "Saved as Parquet: I://base_de_dados//datasus//cnes//datasus_ftp\\2019\\base_de_dados_cnes_201911\\tbNaturezaJuridica201911.parquet.gzip\n",
      "Saved as Parquet: I://base_de_dados//datasus//cnes//datasus_ftp\\2019\\base_de_dados_cnes_201911\\tbOrgaoEmissor201911.parquet.gzip\n",
      "Saved as Parquet: I://base_de_dados//datasus//cnes//datasus_ftp\\2019\\base_de_dados_cnes_201911\\tbPoloBase201911.parquet.gzip\n",
      "Saved as Parquet: I://base_de_dados//datasus//cnes//datasus_ftp\\2019\\base_de_dados_cnes_201911\\tbProfResidencia201911.parquet.gzip\n",
      "Saved as Parquet: I://base_de_dados//datasus//cnes//datasus_ftp\\2019\\base_de_dados_cnes_201911\\tbQuimioRadio201911.parquet.gzip\n",
      "Saved as Parquet: I://base_de_dados//datasus//cnes//datasus_ftp\\2019\\base_de_dados_cnes_201911\\tbResidenciaMed201911.parquet.gzip\n",
      "Saved as Parquet: I://base_de_dados//datasus//cnes//datasus_ftp\\2019\\base_de_dados_cnes_201911\\tbSegmento201911.parquet.gzip\n",
      "Saved as Parquet: I://base_de_dados//datasus//cnes//datasus_ftp\\2019\\base_de_dados_cnes_201911\\tbServicoApoio201911.parquet.gzip\n",
      "Saved as Parquet: I://base_de_dados//datasus//cnes//datasus_ftp\\2019\\base_de_dados_cnes_201911\\tbServicoEspecializado201911.parquet.gzip\n",
      "Saved as Parquet: I://base_de_dados//datasus//cnes//datasus_ftp\\2019\\base_de_dados_cnes_201911\\tbServicoReferenciado201911.parquet.gzip\n",
      "Saved as Parquet: I://base_de_dados//datasus//cnes//datasus_ftp\\2019\\base_de_dados_cnes_201911\\tbSubGruposHabilitacao201911.parquet.gzip\n",
      "Saved as Parquet: I://base_de_dados//datasus//cnes//datasus_ftp\\2019\\base_de_dados_cnes_201911\\tbSubTipo201911.parquet.gzip\n",
      "Saved as Parquet: I://base_de_dados//datasus//cnes//datasus_ftp\\2019\\base_de_dados_cnes_201911\\tbSubTipoEquipe201911.parquet.gzip\n",
      "Saved as Parquet: I://base_de_dados//datasus//cnes//datasus_ftp\\2019\\base_de_dados_cnes_201911\\tbSubtipoInstalacao201911.parquet.gzip\n",
      "Saved as Parquet: I://base_de_dados//datasus//cnes//datasus_ftp\\2019\\base_de_dados_cnes_201911\\tbSubTpModVinculo201911.parquet.gzip\n",
      "Saved as Parquet: I://base_de_dados//datasus//cnes//datasus_ftp\\2019\\base_de_dados_cnes_201911\\tbTipoCertidao201911.parquet.gzip\n",
      "Saved as Parquet: I://base_de_dados//datasus//cnes//datasus_ftp\\2019\\base_de_dados_cnes_201911\\tbTipoCgDifer201911.parquet.gzip\n",
      "Saved as Parquet: I://base_de_dados//datasus//cnes//datasus_ftp\\2019\\base_de_dados_cnes_201911\\tbTipoEqSubTipo201911.parquet.gzip\n",
      "Saved as Parquet: I://base_de_dados//datasus//cnes//datasus_ftp\\2019\\base_de_dados_cnes_201911\\tbTipoEquipamento201911.parquet.gzip\n",
      "Saved as Parquet: I://base_de_dados//datasus//cnes//datasus_ftp\\2019\\base_de_dados_cnes_201911\\tbTipoEquipe201911.parquet.gzip\n",
      "Saved as Parquet: I://base_de_dados//datasus//cnes//datasus_ftp\\2019\\base_de_dados_cnes_201911\\tbTipoEscolaridade201911.parquet.gzip\n",
      "Saved as Parquet: I://base_de_dados//datasus//cnes//datasus_ftp\\2019\\base_de_dados_cnes_201911\\tbTipoEstabelecimento201911.parquet.gzip\n",
      "Saved as Parquet: I://base_de_dados//datasus//cnes//datasus_ftp\\2019\\base_de_dados_cnes_201911\\tbTipoInstalacaoFisica201911.parquet.gzip\n",
      "Saved as Parquet: I://base_de_dados//datasus//cnes//datasus_ftp\\2019\\base_de_dados_cnes_201911\\tbTipoServicoReferenciado201911.parquet.gzip\n",
      "Saved as Parquet: I://base_de_dados//datasus//cnes//datasus_ftp\\2019\\base_de_dados_cnes_201911\\tbTipoUnidade201911.parquet.gzip\n",
      "Saved as Parquet: I://base_de_dados//datasus//cnes//datasus_ftp\\2019\\base_de_dados_cnes_201911\\tbTpModVinculo201911.parquet.gzip\n",
      "Saved as Parquet: I://base_de_dados//datasus//cnes//datasus_ftp\\2019\\base_de_dados_cnes_201911\\tbTurnoAtendimento201911.parquet.gzip\n",
      "Month Folder: base_de_dados_cnes_201912\n",
      "Saved as Parquet: I://base_de_dados//datasus//cnes//datasus_ftp\\2019\\base_de_dados_cnes_201912\\rlAdmGerenciaCnes201912.parquet.gzip\n",
      "Saved as Parquet: I://base_de_dados//datasus//cnes//datasus_ftp\\2019\\base_de_dados_cnes_201912\\rlAtividadeObrigatoria201912.parquet.gzip\n",
      "Saved as Parquet: I://base_de_dados//datasus//cnes//datasus_ftp\\2019\\base_de_dados_cnes_201912\\rlCooperativa201912.parquet.gzip\n",
      "Saved as Parquet: I://base_de_dados//datasus//cnes//datasus_ftp\\2019\\base_de_dados_cnes_201912\\rlEquipeAldeia201912.parquet.gzip\n",
      "Saved as Parquet: I://base_de_dados//datasus//cnes//datasus_ftp\\2019\\base_de_dados_cnes_201912\\rlEquipeNasfEsf201912.parquet.gzip\n"
     ]
    },
    {
     "name": "stderr",
     "output_type": "stream",
     "text": [
      "C:\\Users\\erick\\AppData\\Local\\Temp\\ipykernel_18324\\463220216.py:31: DtypeWarning: Columns (0) have mixed types. Specify dtype option on import or set low_memory=False.\n",
      "  df = pd.read_csv(csv_path, sep=';')\n"
     ]
    },
    {
     "name": "stdout",
     "output_type": "stream",
     "text": [
      "Saved as Parquet: I://base_de_dados//datasus//cnes//datasus_ftp\\2019\\base_de_dados_cnes_201912\\rlEstabAtendPrestConv201912.parquet.gzip\n",
      "Saved as Parquet: I://base_de_dados//datasus//cnes//datasus_ftp\\2019\\base_de_dados_cnes_201912\\rlEstabAtenPsico201912.parquet.gzip\n",
      "Saved as Parquet: I://base_de_dados//datasus//cnes//datasus_ftp\\2019\\base_de_dados_cnes_201912\\rlEstabAvaliacao201912.parquet.gzip\n",
      "Saved as Parquet: I://base_de_dados//datasus//cnes//datasus_ftp\\2019\\base_de_dados_cnes_201912\\rlEstabCentralReg201912.parquet.gzip\n",
      "Saved as Parquet: I://base_de_dados//datasus//cnes//datasus_ftp\\2019\\base_de_dados_cnes_201912\\rlEstabColetaSelRejeito201912.parquet.gzip\n",
      "Saved as Parquet: I://base_de_dados//datasus//cnes//datasus_ftp\\2019\\base_de_dados_cnes_201912\\rlEstabComissaoOutro201912.parquet.gzip\n",
      "Saved as Parquet: I://base_de_dados//datasus//cnes//datasus_ftp\\2019\\base_de_dados_cnes_201912\\rlEstabComplementar201912.parquet.gzip\n",
      "Saved as Parquet: I://base_de_dados//datasus//cnes//datasus_ftp\\2019\\base_de_dados_cnes_201912\\rlEstabEndCompl201912.parquet.gzip\n",
      "Saved as Parquet: I://base_de_dados//datasus//cnes//datasus_ftp\\2019\\base_de_dados_cnes_201912\\rlEstabEqpEmbarcacao201912.parquet.gzip\n",
      "Saved as Parquet: I://base_de_dados//datasus//cnes//datasus_ftp\\2019\\base_de_dados_cnes_201912\\rlEstabEqpUnidApoio201912.parquet.gzip\n"
     ]
    },
    {
     "name": "stderr",
     "output_type": "stream",
     "text": [
      "C:\\Users\\erick\\AppData\\Local\\Temp\\ipykernel_18324\\463220216.py:31: DtypeWarning: Columns (0) have mixed types. Specify dtype option on import or set low_memory=False.\n",
      "  df = pd.read_csv(csv_path, sep=';')\n"
     ]
    },
    {
     "name": "stdout",
     "output_type": "stream",
     "text": [
      "Saved as Parquet: I://base_de_dados//datasus//cnes//datasus_ftp\\2019\\base_de_dados_cnes_201912\\rlEstabEquipamento201912.parquet.gzip\n",
      "Saved as Parquet: I://base_de_dados//datasus//cnes//datasus_ftp\\2019\\base_de_dados_cnes_201912\\rlEstabEquipeMun201912.parquet.gzip\n"
     ]
    },
    {
     "name": "stderr",
     "output_type": "stream",
     "text": [
      "C:\\Users\\erick\\AppData\\Local\\Temp\\ipykernel_18324\\463220216.py:31: DtypeWarning: Columns (14) have mixed types. Specify dtype option on import or set low_memory=False.\n",
      "  df = pd.read_csv(csv_path, sep=';')\n"
     ]
    },
    {
     "name": "stdout",
     "output_type": "stream",
     "text": [
      "Saved as Parquet: I://base_de_dados//datasus//cnes//datasus_ftp\\2019\\base_de_dados_cnes_201912\\rlEstabEquipeProf201912.parquet.gzip\n",
      "Saved as Parquet: I://base_de_dados//datasus//cnes//datasus_ftp\\2019\\base_de_dados_cnes_201912\\rlEstabInstFisiAssist201912.parquet.gzip\n",
      "Saved as Parquet: I://base_de_dados//datasus//cnes//datasus_ftp\\2019\\base_de_dados_cnes_201912\\rlEstabOrgParc201912.parquet.gzip\n",
      "Saved as Parquet: I://base_de_dados//datasus//cnes//datasus_ftp\\2019\\base_de_dados_cnes_201912\\rlEstabPoloAldeia201912.parquet.gzip\n",
      "Saved as Parquet: I://base_de_dados//datasus//cnes//datasus_ftp\\2019\\base_de_dados_cnes_201912\\rlEstabProfComissao201912.parquet.gzip\n",
      "Saved as Parquet: I://base_de_dados//datasus//cnes//datasus_ftp\\2019\\base_de_dados_cnes_201912\\rlEstabProgFundo201912.parquet.gzip\n",
      "Saved as Parquet: I://base_de_dados//datasus//cnes//datasus_ftp\\2019\\base_de_dados_cnes_201912\\rlEstabRegimeRes201912.parquet.gzip\n",
      "Saved as Parquet: I://base_de_dados//datasus//cnes//datasus_ftp\\2019\\base_de_dados_cnes_201912\\rlEstabRepresentante201912.parquet.gzip\n",
      "Saved as Parquet: I://base_de_dados//datasus//cnes//datasus_ftp\\2019\\base_de_dados_cnes_201912\\rlEstabSamu201912.parquet.gzip\n"
     ]
    },
    {
     "name": "stderr",
     "output_type": "stream",
     "text": [
      "C:\\Users\\erick\\AppData\\Local\\Temp\\ipykernel_18324\\463220216.py:31: DtypeWarning: Columns (0) have mixed types. Specify dtype option on import or set low_memory=False.\n",
      "  df = pd.read_csv(csv_path, sep=';')\n"
     ]
    },
    {
     "name": "stdout",
     "output_type": "stream",
     "text": [
      "Saved as Parquet: I://base_de_dados//datasus//cnes//datasus_ftp\\2019\\base_de_dados_cnes_201912\\rlEstabServClass201912.parquet.gzip\n"
     ]
    },
    {
     "name": "stderr",
     "output_type": "stream",
     "text": [
      "C:\\Users\\erick\\AppData\\Local\\Temp\\ipykernel_18324\\463220216.py:31: DtypeWarning: Columns (2) have mixed types. Specify dtype option on import or set low_memory=False.\n",
      "  df = pd.read_csv(csv_path, sep=';')\n"
     ]
    },
    {
     "name": "stdout",
     "output_type": "stream",
     "text": [
      "Saved as Parquet: I://base_de_dados//datasus//cnes//datasus_ftp\\2019\\base_de_dados_cnes_201912\\rlEstabServicoApoio201912.parquet.gzip\n",
      "Saved as Parquet: I://base_de_dados//datasus//cnes//datasus_ftp\\2019\\base_de_dados_cnes_201912\\rlEstabSipac201912.parquet.gzip\n",
      "Saved as Parquet: I://base_de_dados//datasus//cnes//datasus_ftp\\2019\\base_de_dados_cnes_201912\\rlEstabSubTipo201912.parquet.gzip\n",
      "Saved as Parquet: I://base_de_dados//datasus//cnes//datasus_ftp\\2019\\base_de_dados_cnes_201912\\rlEstabTeleCnes201912.parquet.gzip\n",
      "Saved as Parquet: I://base_de_dados//datasus//cnes//datasus_ftp\\2019\\base_de_dados_cnes_201912\\rlEstabUnidAcolhim201912.parquet.gzip\n",
      "Saved as Parquet: I://base_de_dados//datasus//cnes//datasus_ftp\\2019\\base_de_dados_cnes_201912\\rlMunAtenPsico201912.parquet.gzip\n",
      "Saved as Parquet: I://base_de_dados//datasus//cnes//datasus_ftp\\2019\\base_de_dados_cnes_201912\\rlMunRegimeRes201912.parquet.gzip\n",
      "Saved as Parquet: I://base_de_dados//datasus//cnes//datasus_ftp\\2019\\base_de_dados_cnes_201912\\rlMunUnidAcolhim201912.parquet.gzip\n",
      "Saved as Parquet: I://base_de_dados//datasus//cnes//datasus_ftp\\2019\\base_de_dados_cnes_201912\\rlNasfEsf201912.parquet.gzip\n",
      "Saved as Parquet: I://base_de_dados//datasus//cnes//datasus_ftp\\2019\\base_de_dados_cnes_201912\\rlTipoEstabAtividade201912.parquet.gzip\n",
      "Saved as Parquet: I://base_de_dados//datasus//cnes//datasus_ftp\\2019\\base_de_dados_cnes_201912\\tbAldeia201912.parquet.gzip\n",
      "Saved as Parquet: I://base_de_dados//datasus//cnes//datasus_ftp\\2019\\base_de_dados_cnes_201912\\tbArea201912.parquet.gzip\n",
      "Saved as Parquet: I://base_de_dados//datasus//cnes//datasus_ftp\\2019\\base_de_dados_cnes_201912\\tbAtendimentoPrestado201912.parquet.gzip\n",
      "Saved as Parquet: I://base_de_dados//datasus//cnes//datasus_ftp\\2019\\base_de_dados_cnes_201912\\tbAtividade201912.parquet.gzip\n",
      "Saved as Parquet: I://base_de_dados//datasus//cnes//datasus_ftp\\2019\\base_de_dados_cnes_201912\\tbAtividadeEnsino201912.parquet.gzip\n",
      "Saved as Parquet: I://base_de_dados//datasus//cnes//datasus_ftp\\2019\\base_de_dados_cnes_201912\\tbAtividadeProfissional201912.parquet.gzip\n",
      "Saved as Parquet: I://base_de_dados//datasus//cnes//datasus_ftp\\2019\\base_de_dados_cnes_201912\\tbAtributo201912.parquet.gzip\n",
      "Saved as Parquet: I://base_de_dados//datasus//cnes//datasus_ftp\\2019\\base_de_dados_cnes_201912\\tbAvaliacao201912.parquet.gzip\n",
      "Saved as Parquet: I://base_de_dados//datasus//cnes//datasus_ftp\\2019\\base_de_dados_cnes_201912\\tbBanco201912.parquet.gzip\n"
     ]
    },
    {
     "name": "stderr",
     "output_type": "stream",
     "text": [
      "C:\\Users\\erick\\AppData\\Local\\Temp\\ipykernel_18324\\463220216.py:31: DtypeWarning: Columns (0,12) have mixed types. Specify dtype option on import or set low_memory=False.\n",
      "  df = pd.read_csv(csv_path, sep=';')\n"
     ]
    },
    {
     "name": "stdout",
     "output_type": "stream",
     "text": [
      "Saved as Parquet: I://base_de_dados//datasus//cnes//datasus_ftp\\2019\\base_de_dados_cnes_201912\\tbCargaHorariaSus201912.parquet.gzip\n",
      "Saved as Parquet: I://base_de_dados//datasus//cnes//datasus_ftp\\2019\\base_de_dados_cnes_201912\\tbClassificacaoAval201912.parquet.gzip\n",
      "Saved as Parquet: I://base_de_dados//datasus//cnes//datasus_ftp\\2019\\base_de_dados_cnes_201912\\tbClassificacaoServico201912.parquet.gzip\n",
      "Saved as Parquet: I://base_de_dados//datasus//cnes//datasus_ftp\\2019\\base_de_dados_cnes_201912\\tbColetaSeletivaRejeito201912.parquet.gzip\n",
      "Saved as Parquet: I://base_de_dados//datasus//cnes//datasus_ftp\\2019\\base_de_dados_cnes_201912\\tbComissaoOutro201912.parquet.gzip\n",
      "Saved as Parquet: I://base_de_dados//datasus//cnes//datasus_ftp\\2019\\base_de_dados_cnes_201912\\tbConselhoClasse201912.parquet.gzip\n",
      "Saved as Parquet: I://base_de_dados//datasus//cnes//datasus_ftp\\2019\\base_de_dados_cnes_201912\\tbConvenio201912.parquet.gzip\n",
      "Saved as Parquet: I://base_de_dados//datasus//cnes//datasus_ftp\\2019\\base_de_dados_cnes_201912\\tbDadosProfissionalSus201912.parquet.gzip\n",
      "Saved as Parquet: I://base_de_dados//datasus//cnes//datasus_ftp\\2019\\base_de_dados_cnes_201912\\tbDialise201912.parquet.gzip\n",
      "Saved as Parquet: I://base_de_dados//datasus//cnes//datasus_ftp\\2019\\base_de_dados_cnes_201912\\tbDsei201912.parquet.gzip\n",
      "Saved as Parquet: I://base_de_dados//datasus//cnes//datasus_ftp\\2019\\base_de_dados_cnes_201912\\tbEquipamento201912.parquet.gzip\n",
      "Saved as Parquet: I://base_de_dados//datasus//cnes//datasus_ftp\\2019\\base_de_dados_cnes_201912\\tbEquipe201912.parquet.gzip\n",
      "Saved as Parquet: I://base_de_dados//datasus//cnes//datasus_ftp\\2019\\base_de_dados_cnes_201912\\tbEquipeAtendCompl201912.parquet.gzip\n",
      "Saved as Parquet: I://base_de_dados//datasus//cnes//datasus_ftp\\2019\\base_de_dados_cnes_201912\\tbEquipeChDifer201912.parquet.gzip\n",
      "Saved as Parquet: I://base_de_dados//datasus//cnes//datasus_ftp\\2019\\base_de_dados_cnes_201912\\tbEstabAtivSecundaria201912.parquet.gzip\n",
      "Saved as Parquet: I://base_de_dados//datasus//cnes//datasus_ftp\\2019\\base_de_dados_cnes_201912\\tbEstabContrato201912.parquet.gzip\n"
     ]
    },
    {
     "name": "stderr",
     "output_type": "stream",
     "text": [
      "C:\\Users\\erick\\AppData\\Local\\Temp\\ipykernel_18324\\463220216.py:31: DtypeWarning: Columns (0,15,36,45) have mixed types. Specify dtype option on import or set low_memory=False.\n",
      "  df = pd.read_csv(csv_path, sep=';')\n"
     ]
    },
    {
     "name": "stdout",
     "output_type": "stream",
     "text": [
      "Saved as Parquet: I://base_de_dados//datasus//cnes//datasus_ftp\\2019\\base_de_dados_cnes_201912\\tbEstabelecimento201912.parquet.gzip\n",
      "Saved as Parquet: I://base_de_dados//datasus//cnes//datasus_ftp\\2019\\base_de_dados_cnes_201912\\tbEstabHorarioAtend201912.parquet.gzip\n",
      "Saved as Parquet: I://base_de_dados//datasus//cnes//datasus_ftp\\2019\\base_de_dados_cnes_201912\\tbEstado201912.parquet.gzip\n",
      "Saved as Parquet: I://base_de_dados//datasus//cnes//datasus_ftp\\2019\\base_de_dados_cnes_201912\\tbEtnia201912.parquet.gzip\n",
      "Saved as Parquet: I://base_de_dados//datasus//cnes//datasus_ftp\\2019\\base_de_dados_cnes_201912\\tbFluxoDadosClientela201912.parquet.gzip\n",
      "Saved as Parquet: I://base_de_dados//datasus//cnes//datasus_ftp\\2019\\base_de_dados_cnes_201912\\tbGestao201912.parquet.gzip\n",
      "Saved as Parquet: I://base_de_dados//datasus//cnes//datasus_ftp\\2019\\base_de_dados_cnes_201912\\tbGrupoAtividade201912.parquet.gzip\n",
      "Saved as Parquet: I://base_de_dados//datasus//cnes//datasus_ftp\\2019\\base_de_dados_cnes_201912\\tbGrupoEquipe201912.parquet.gzip\n",
      "Saved as Parquet: I://base_de_dados//datasus//cnes//datasus_ftp\\2019\\base_de_dados_cnes_201912\\tbHemoterapia201912.parquet.gzip\n",
      "Saved as Parquet: I://base_de_dados//datasus//cnes//datasus_ftp\\2019\\base_de_dados_cnes_201912\\tbIncentivos201912.parquet.gzip\n",
      "Saved as Parquet: I://base_de_dados//datasus//cnes//datasus_ftp\\2019\\base_de_dados_cnes_201912\\tbInstalFisicaParaAssist201912.parquet.gzip\n",
      "Saved as Parquet: I://base_de_dados//datasus//cnes//datasus_ftp\\2019\\base_de_dados_cnes_201912\\tbInstituicaoAvaliadora201912.parquet.gzip\n",
      "Saved as Parquet: I://base_de_dados//datasus//cnes//datasus_ftp\\2019\\base_de_dados_cnes_201912\\tbLeito201912.parquet.gzip\n",
      "Saved as Parquet: I://base_de_dados//datasus//cnes//datasus_ftp\\2019\\base_de_dados_cnes_201912\\tbMantenedora201912.parquet.gzip\n",
      "Saved as Parquet: I://base_de_dados//datasus//cnes//datasus_ftp\\2019\\base_de_dados_cnes_201912\\tbModVinculo201912.parquet.gzip\n",
      "Saved as Parquet: I://base_de_dados//datasus//cnes//datasus_ftp\\2019\\base_de_dados_cnes_201912\\tbMotivoDesativacao201912.parquet.gzip\n",
      "Saved as Parquet: I://base_de_dados//datasus//cnes//datasus_ftp\\2019\\base_de_dados_cnes_201912\\tbMotivoDesativEquipe201912.parquet.gzip\n",
      "Saved as Parquet: I://base_de_dados//datasus//cnes//datasus_ftp\\2019\\base_de_dados_cnes_201912\\tbMunicipio201912.parquet.gzip\n",
      "Saved as Parquet: I://base_de_dados//datasus//cnes//datasus_ftp\\2019\\base_de_dados_cnes_201912\\tbNaturezaJuridica201912.parquet.gzip\n",
      "Saved as Parquet: I://base_de_dados//datasus//cnes//datasus_ftp\\2019\\base_de_dados_cnes_201912\\tbOrgaoEmissor201912.parquet.gzip\n",
      "Saved as Parquet: I://base_de_dados//datasus//cnes//datasus_ftp\\2019\\base_de_dados_cnes_201912\\tbPoloBase201912.parquet.gzip\n",
      "Saved as Parquet: I://base_de_dados//datasus//cnes//datasus_ftp\\2019\\base_de_dados_cnes_201912\\tbProfResidencia201912.parquet.gzip\n",
      "Saved as Parquet: I://base_de_dados//datasus//cnes//datasus_ftp\\2019\\base_de_dados_cnes_201912\\tbQuimioRadio201912.parquet.gzip\n",
      "Saved as Parquet: I://base_de_dados//datasus//cnes//datasus_ftp\\2019\\base_de_dados_cnes_201912\\tbResidenciaMed201912.parquet.gzip\n",
      "Saved as Parquet: I://base_de_dados//datasus//cnes//datasus_ftp\\2019\\base_de_dados_cnes_201912\\tbSegmento201912.parquet.gzip\n",
      "Saved as Parquet: I://base_de_dados//datasus//cnes//datasus_ftp\\2019\\base_de_dados_cnes_201912\\tbServicoApoio201912.parquet.gzip\n",
      "Saved as Parquet: I://base_de_dados//datasus//cnes//datasus_ftp\\2019\\base_de_dados_cnes_201912\\tbServicoEspecializado201912.parquet.gzip\n",
      "Saved as Parquet: I://base_de_dados//datasus//cnes//datasus_ftp\\2019\\base_de_dados_cnes_201912\\tbServicoReferenciado201912.parquet.gzip\n",
      "Saved as Parquet: I://base_de_dados//datasus//cnes//datasus_ftp\\2019\\base_de_dados_cnes_201912\\tbSubGruposHabilitacao201912.parquet.gzip\n",
      "Saved as Parquet: I://base_de_dados//datasus//cnes//datasus_ftp\\2019\\base_de_dados_cnes_201912\\tbSubTipo201912.parquet.gzip\n",
      "Saved as Parquet: I://base_de_dados//datasus//cnes//datasus_ftp\\2019\\base_de_dados_cnes_201912\\tbSubTipoEquipe201912.parquet.gzip\n",
      "Saved as Parquet: I://base_de_dados//datasus//cnes//datasus_ftp\\2019\\base_de_dados_cnes_201912\\tbSubtipoInstalacao201912.parquet.gzip\n",
      "Saved as Parquet: I://base_de_dados//datasus//cnes//datasus_ftp\\2019\\base_de_dados_cnes_201912\\tbSubTpModVinculo201912.parquet.gzip\n",
      "Saved as Parquet: I://base_de_dados//datasus//cnes//datasus_ftp\\2019\\base_de_dados_cnes_201912\\tbTipoCertidao201912.parquet.gzip\n",
      "Saved as Parquet: I://base_de_dados//datasus//cnes//datasus_ftp\\2019\\base_de_dados_cnes_201912\\tbTipoCgDifer201912.parquet.gzip\n",
      "Saved as Parquet: I://base_de_dados//datasus//cnes//datasus_ftp\\2019\\base_de_dados_cnes_201912\\tbTipoEqSubTipo201912.parquet.gzip\n",
      "Saved as Parquet: I://base_de_dados//datasus//cnes//datasus_ftp\\2019\\base_de_dados_cnes_201912\\tbTipoEquipamento201912.parquet.gzip\n",
      "Saved as Parquet: I://base_de_dados//datasus//cnes//datasus_ftp\\2019\\base_de_dados_cnes_201912\\tbTipoEquipe201912.parquet.gzip\n",
      "Saved as Parquet: I://base_de_dados//datasus//cnes//datasus_ftp\\2019\\base_de_dados_cnes_201912\\tbTipoEscolaridade201912.parquet.gzip\n",
      "Saved as Parquet: I://base_de_dados//datasus//cnes//datasus_ftp\\2019\\base_de_dados_cnes_201912\\tbTipoEstabelecimento201912.parquet.gzip\n",
      "Saved as Parquet: I://base_de_dados//datasus//cnes//datasus_ftp\\2019\\base_de_dados_cnes_201912\\tbTipoInstalacaoFisica201912.parquet.gzip\n",
      "Saved as Parquet: I://base_de_dados//datasus//cnes//datasus_ftp\\2019\\base_de_dados_cnes_201912\\tbTipoServicoReferenciado201912.parquet.gzip\n",
      "Saved as Parquet: I://base_de_dados//datasus//cnes//datasus_ftp\\2019\\base_de_dados_cnes_201912\\tbTipoUnidade201912.parquet.gzip\n",
      "Saved as Parquet: I://base_de_dados//datasus//cnes//datasus_ftp\\2019\\base_de_dados_cnes_201912\\tbTpModVinculo201912.parquet.gzip\n",
      "Saved as Parquet: I://base_de_dados//datasus//cnes//datasus_ftp\\2019\\base_de_dados_cnes_201912\\tbTurnoAtendimento201912.parquet.gzip\n",
      "Year Folder: 2020\n",
      "Month Folder: base_de_dados_cnes_202001\n",
      "Saved as Parquet: I://base_de_dados//datasus//cnes//datasus_ftp\\2020\\base_de_dados_cnes_202001\\rlAdmGerenciaCnes202001.parquet.gzip\n",
      "Saved as Parquet: I://base_de_dados//datasus//cnes//datasus_ftp\\2020\\base_de_dados_cnes_202001\\rlAtividadeObrigatoria202001.parquet.gzip\n",
      "Saved as Parquet: I://base_de_dados//datasus//cnes//datasus_ftp\\2020\\base_de_dados_cnes_202001\\rlCooperativa202001.parquet.gzip\n",
      "Saved as Parquet: I://base_de_dados//datasus//cnes//datasus_ftp\\2020\\base_de_dados_cnes_202001\\rlEquipeAldeia202001.parquet.gzip\n",
      "Saved as Parquet: I://base_de_dados//datasus//cnes//datasus_ftp\\2020\\base_de_dados_cnes_202001\\rlEquipeNasfEsf202001.parquet.gzip\n"
     ]
    },
    {
     "name": "stderr",
     "output_type": "stream",
     "text": [
      "C:\\Users\\erick\\AppData\\Local\\Temp\\ipykernel_18324\\463220216.py:31: DtypeWarning: Columns (0) have mixed types. Specify dtype option on import or set low_memory=False.\n",
      "  df = pd.read_csv(csv_path, sep=';')\n"
     ]
    },
    {
     "name": "stdout",
     "output_type": "stream",
     "text": [
      "Saved as Parquet: I://base_de_dados//datasus//cnes//datasus_ftp\\2020\\base_de_dados_cnes_202001\\rlEstabAtendPrestConv202001.parquet.gzip\n",
      "Saved as Parquet: I://base_de_dados//datasus//cnes//datasus_ftp\\2020\\base_de_dados_cnes_202001\\rlEstabAtenPsico202001.parquet.gzip\n",
      "Saved as Parquet: I://base_de_dados//datasus//cnes//datasus_ftp\\2020\\base_de_dados_cnes_202001\\rlEstabAvaliacao202001.parquet.gzip\n",
      "Saved as Parquet: I://base_de_dados//datasus//cnes//datasus_ftp\\2020\\base_de_dados_cnes_202001\\rlEstabCentralReg202001.parquet.gzip\n",
      "Saved as Parquet: I://base_de_dados//datasus//cnes//datasus_ftp\\2020\\base_de_dados_cnes_202001\\rlEstabColetaSelRejeito202001.parquet.gzip\n",
      "Saved as Parquet: I://base_de_dados//datasus//cnes//datasus_ftp\\2020\\base_de_dados_cnes_202001\\rlEstabComissaoOutro202001.parquet.gzip\n",
      "Saved as Parquet: I://base_de_dados//datasus//cnes//datasus_ftp\\2020\\base_de_dados_cnes_202001\\rlEstabComplementar202001.parquet.gzip\n",
      "Saved as Parquet: I://base_de_dados//datasus//cnes//datasus_ftp\\2020\\base_de_dados_cnes_202001\\rlEstabEndCompl202001.parquet.gzip\n",
      "Saved as Parquet: I://base_de_dados//datasus//cnes//datasus_ftp\\2020\\base_de_dados_cnes_202001\\rlEstabEqpEmbarcacao202001.parquet.gzip\n",
      "Saved as Parquet: I://base_de_dados//datasus//cnes//datasus_ftp\\2020\\base_de_dados_cnes_202001\\rlEstabEqpUnidApoio202001.parquet.gzip\n"
     ]
    },
    {
     "name": "stderr",
     "output_type": "stream",
     "text": [
      "C:\\Users\\erick\\AppData\\Local\\Temp\\ipykernel_18324\\463220216.py:31: DtypeWarning: Columns (0) have mixed types. Specify dtype option on import or set low_memory=False.\n",
      "  df = pd.read_csv(csv_path, sep=';')\n"
     ]
    },
    {
     "name": "stdout",
     "output_type": "stream",
     "text": [
      "Saved as Parquet: I://base_de_dados//datasus//cnes//datasus_ftp\\2020\\base_de_dados_cnes_202001\\rlEstabEquipamento202001.parquet.gzip\n",
      "Saved as Parquet: I://base_de_dados//datasus//cnes//datasus_ftp\\2020\\base_de_dados_cnes_202001\\rlEstabEquipeMun202001.parquet.gzip\n"
     ]
    },
    {
     "name": "stderr",
     "output_type": "stream",
     "text": [
      "C:\\Users\\erick\\AppData\\Local\\Temp\\ipykernel_18324\\463220216.py:31: DtypeWarning: Columns (14) have mixed types. Specify dtype option on import or set low_memory=False.\n",
      "  df = pd.read_csv(csv_path, sep=';')\n"
     ]
    },
    {
     "name": "stdout",
     "output_type": "stream",
     "text": [
      "Saved as Parquet: I://base_de_dados//datasus//cnes//datasus_ftp\\2020\\base_de_dados_cnes_202001\\rlEstabEquipeProf202001.parquet.gzip\n",
      "Saved as Parquet: I://base_de_dados//datasus//cnes//datasus_ftp\\2020\\base_de_dados_cnes_202001\\rlEstabInstFisiAssist202001.parquet.gzip\n",
      "Saved as Parquet: I://base_de_dados//datasus//cnes//datasus_ftp\\2020\\base_de_dados_cnes_202001\\rlEstabOrgParc202001.parquet.gzip\n",
      "Saved as Parquet: I://base_de_dados//datasus//cnes//datasus_ftp\\2020\\base_de_dados_cnes_202001\\rlEstabPoloAldeia202001.parquet.gzip\n",
      "Saved as Parquet: I://base_de_dados//datasus//cnes//datasus_ftp\\2020\\base_de_dados_cnes_202001\\rlEstabProfComissao202001.parquet.gzip\n",
      "Saved as Parquet: I://base_de_dados//datasus//cnes//datasus_ftp\\2020\\base_de_dados_cnes_202001\\rlEstabProgFundo202001.parquet.gzip\n",
      "Saved as Parquet: I://base_de_dados//datasus//cnes//datasus_ftp\\2020\\base_de_dados_cnes_202001\\rlEstabRegimeRes202001.parquet.gzip\n",
      "Saved as Parquet: I://base_de_dados//datasus//cnes//datasus_ftp\\2020\\base_de_dados_cnes_202001\\rlEstabRepresentante202001.parquet.gzip\n",
      "Saved as Parquet: I://base_de_dados//datasus//cnes//datasus_ftp\\2020\\base_de_dados_cnes_202001\\rlEstabSamu202001.parquet.gzip\n"
     ]
    },
    {
     "name": "stderr",
     "output_type": "stream",
     "text": [
      "C:\\Users\\erick\\AppData\\Local\\Temp\\ipykernel_18324\\463220216.py:31: DtypeWarning: Columns (0) have mixed types. Specify dtype option on import or set low_memory=False.\n",
      "  df = pd.read_csv(csv_path, sep=';')\n"
     ]
    },
    {
     "name": "stdout",
     "output_type": "stream",
     "text": [
      "Saved as Parquet: I://base_de_dados//datasus//cnes//datasus_ftp\\2020\\base_de_dados_cnes_202001\\rlEstabServClass202001.parquet.gzip\n"
     ]
    },
    {
     "name": "stderr",
     "output_type": "stream",
     "text": [
      "C:\\Users\\erick\\AppData\\Local\\Temp\\ipykernel_18324\\463220216.py:31: DtypeWarning: Columns (2) have mixed types. Specify dtype option on import or set low_memory=False.\n",
      "  df = pd.read_csv(csv_path, sep=';')\n"
     ]
    },
    {
     "name": "stdout",
     "output_type": "stream",
     "text": [
      "Saved as Parquet: I://base_de_dados//datasus//cnes//datasus_ftp\\2020\\base_de_dados_cnes_202001\\rlEstabServicoApoio202001.parquet.gzip\n",
      "Saved as Parquet: I://base_de_dados//datasus//cnes//datasus_ftp\\2020\\base_de_dados_cnes_202001\\rlEstabSipac202001.parquet.gzip\n",
      "Saved as Parquet: I://base_de_dados//datasus//cnes//datasus_ftp\\2020\\base_de_dados_cnes_202001\\rlEstabSubTipo202001.parquet.gzip\n",
      "Saved as Parquet: I://base_de_dados//datasus//cnes//datasus_ftp\\2020\\base_de_dados_cnes_202001\\rlEstabTeleCnes202001.parquet.gzip\n",
      "Saved as Parquet: I://base_de_dados//datasus//cnes//datasus_ftp\\2020\\base_de_dados_cnes_202001\\rlEstabUnidAcolhim202001.parquet.gzip\n",
      "Saved as Parquet: I://base_de_dados//datasus//cnes//datasus_ftp\\2020\\base_de_dados_cnes_202001\\rlMunAtenPsico202001.parquet.gzip\n",
      "Saved as Parquet: I://base_de_dados//datasus//cnes//datasus_ftp\\2020\\base_de_dados_cnes_202001\\rlMunRegimeRes202001.parquet.gzip\n",
      "Saved as Parquet: I://base_de_dados//datasus//cnes//datasus_ftp\\2020\\base_de_dados_cnes_202001\\rlMunUnidAcolhim202001.parquet.gzip\n",
      "Saved as Parquet: I://base_de_dados//datasus//cnes//datasus_ftp\\2020\\base_de_dados_cnes_202001\\rlNasfEsf202001.parquet.gzip\n",
      "Saved as Parquet: I://base_de_dados//datasus//cnes//datasus_ftp\\2020\\base_de_dados_cnes_202001\\rlTipoEstabAtividade202001.parquet.gzip\n",
      "Saved as Parquet: I://base_de_dados//datasus//cnes//datasus_ftp\\2020\\base_de_dados_cnes_202001\\tbAldeia202001.parquet.gzip\n",
      "Saved as Parquet: I://base_de_dados//datasus//cnes//datasus_ftp\\2020\\base_de_dados_cnes_202001\\tbArea202001.parquet.gzip\n",
      "Saved as Parquet: I://base_de_dados//datasus//cnes//datasus_ftp\\2020\\base_de_dados_cnes_202001\\tbAtendimentoPrestado202001.parquet.gzip\n",
      "Saved as Parquet: I://base_de_dados//datasus//cnes//datasus_ftp\\2020\\base_de_dados_cnes_202001\\tbAtividade202001.parquet.gzip\n",
      "Saved as Parquet: I://base_de_dados//datasus//cnes//datasus_ftp\\2020\\base_de_dados_cnes_202001\\tbAtividadeEnsino202001.parquet.gzip\n",
      "Saved as Parquet: I://base_de_dados//datasus//cnes//datasus_ftp\\2020\\base_de_dados_cnes_202001\\tbAtividadeProfissional202001.parquet.gzip\n",
      "Saved as Parquet: I://base_de_dados//datasus//cnes//datasus_ftp\\2020\\base_de_dados_cnes_202001\\tbAtributo202001.parquet.gzip\n",
      "Saved as Parquet: I://base_de_dados//datasus//cnes//datasus_ftp\\2020\\base_de_dados_cnes_202001\\tbAvaliacao202001.parquet.gzip\n",
      "Saved as Parquet: I://base_de_dados//datasus//cnes//datasus_ftp\\2020\\base_de_dados_cnes_202001\\tbBanco202001.parquet.gzip\n"
     ]
    },
    {
     "name": "stderr",
     "output_type": "stream",
     "text": [
      "C:\\Users\\erick\\AppData\\Local\\Temp\\ipykernel_18324\\463220216.py:31: DtypeWarning: Columns (0,12) have mixed types. Specify dtype option on import or set low_memory=False.\n",
      "  df = pd.read_csv(csv_path, sep=';')\n"
     ]
    },
    {
     "name": "stdout",
     "output_type": "stream",
     "text": [
      "Saved as Parquet: I://base_de_dados//datasus//cnes//datasus_ftp\\2020\\base_de_dados_cnes_202001\\tbCargaHorariaSus202001.parquet.gzip\n",
      "Saved as Parquet: I://base_de_dados//datasus//cnes//datasus_ftp\\2020\\base_de_dados_cnes_202001\\tbClassificacaoAval202001.parquet.gzip\n",
      "Saved as Parquet: I://base_de_dados//datasus//cnes//datasus_ftp\\2020\\base_de_dados_cnes_202001\\tbClassificacaoServico202001.parquet.gzip\n",
      "Saved as Parquet: I://base_de_dados//datasus//cnes//datasus_ftp\\2020\\base_de_dados_cnes_202001\\tbColetaSeletivaRejeito202001.parquet.gzip\n",
      "Saved as Parquet: I://base_de_dados//datasus//cnes//datasus_ftp\\2020\\base_de_dados_cnes_202001\\tbComissaoOutro202001.parquet.gzip\n",
      "Saved as Parquet: I://base_de_dados//datasus//cnes//datasus_ftp\\2020\\base_de_dados_cnes_202001\\tbConselhoClasse202001.parquet.gzip\n",
      "Saved as Parquet: I://base_de_dados//datasus//cnes//datasus_ftp\\2020\\base_de_dados_cnes_202001\\tbConvenio202001.parquet.gzip\n",
      "Saved as Parquet: I://base_de_dados//datasus//cnes//datasus_ftp\\2020\\base_de_dados_cnes_202001\\tbDadosProfissionalSus202001.parquet.gzip\n",
      "Saved as Parquet: I://base_de_dados//datasus//cnes//datasus_ftp\\2020\\base_de_dados_cnes_202001\\tbDialise202001.parquet.gzip\n",
      "Saved as Parquet: I://base_de_dados//datasus//cnes//datasus_ftp\\2020\\base_de_dados_cnes_202001\\tbDsei202001.parquet.gzip\n",
      "Saved as Parquet: I://base_de_dados//datasus//cnes//datasus_ftp\\2020\\base_de_dados_cnes_202001\\tbEquipamento202001.parquet.gzip\n",
      "Saved as Parquet: I://base_de_dados//datasus//cnes//datasus_ftp\\2020\\base_de_dados_cnes_202001\\tbEquipe202001.parquet.gzip\n",
      "Saved as Parquet: I://base_de_dados//datasus//cnes//datasus_ftp\\2020\\base_de_dados_cnes_202001\\tbEquipeAtendCompl202001.parquet.gzip\n",
      "Saved as Parquet: I://base_de_dados//datasus//cnes//datasus_ftp\\2020\\base_de_dados_cnes_202001\\tbEquipeChDifer202001.parquet.gzip\n",
      "Saved as Parquet: I://base_de_dados//datasus//cnes//datasus_ftp\\2020\\base_de_dados_cnes_202001\\tbEstabAtivSecundaria202001.parquet.gzip\n",
      "Saved as Parquet: I://base_de_dados//datasus//cnes//datasus_ftp\\2020\\base_de_dados_cnes_202001\\tbEstabContrato202001.parquet.gzip\n"
     ]
    },
    {
     "name": "stderr",
     "output_type": "stream",
     "text": [
      "C:\\Users\\erick\\AppData\\Local\\Temp\\ipykernel_18324\\463220216.py:31: DtypeWarning: Columns (0,15,36,45) have mixed types. Specify dtype option on import or set low_memory=False.\n",
      "  df = pd.read_csv(csv_path, sep=';')\n"
     ]
    },
    {
     "name": "stdout",
     "output_type": "stream",
     "text": [
      "Saved as Parquet: I://base_de_dados//datasus//cnes//datasus_ftp\\2020\\base_de_dados_cnes_202001\\tbEstabelecimento202001.parquet.gzip\n",
      "Saved as Parquet: I://base_de_dados//datasus//cnes//datasus_ftp\\2020\\base_de_dados_cnes_202001\\tbEstabHorarioAtend202001.parquet.gzip\n",
      "Saved as Parquet: I://base_de_dados//datasus//cnes//datasus_ftp\\2020\\base_de_dados_cnes_202001\\tbEstado202001.parquet.gzip\n",
      "Saved as Parquet: I://base_de_dados//datasus//cnes//datasus_ftp\\2020\\base_de_dados_cnes_202001\\tbEtnia202001.parquet.gzip\n",
      "Saved as Parquet: I://base_de_dados//datasus//cnes//datasus_ftp\\2020\\base_de_dados_cnes_202001\\tbFluxoDadosClientela202001.parquet.gzip\n",
      "Saved as Parquet: I://base_de_dados//datasus//cnes//datasus_ftp\\2020\\base_de_dados_cnes_202001\\tbGestao202001.parquet.gzip\n",
      "Saved as Parquet: I://base_de_dados//datasus//cnes//datasus_ftp\\2020\\base_de_dados_cnes_202001\\tbGrupoAtividade202001.parquet.gzip\n",
      "Saved as Parquet: I://base_de_dados//datasus//cnes//datasus_ftp\\2020\\base_de_dados_cnes_202001\\tbGrupoEquipe202001.parquet.gzip\n",
      "Saved as Parquet: I://base_de_dados//datasus//cnes//datasus_ftp\\2020\\base_de_dados_cnes_202001\\tbHemoterapia202001.parquet.gzip\n",
      "Saved as Parquet: I://base_de_dados//datasus//cnes//datasus_ftp\\2020\\base_de_dados_cnes_202001\\tbIncentivos202001.parquet.gzip\n",
      "Saved as Parquet: I://base_de_dados//datasus//cnes//datasus_ftp\\2020\\base_de_dados_cnes_202001\\tbInstalFisicaParaAssist202001.parquet.gzip\n",
      "Saved as Parquet: I://base_de_dados//datasus//cnes//datasus_ftp\\2020\\base_de_dados_cnes_202001\\tbInstituicaoAvaliadora202001.parquet.gzip\n",
      "Saved as Parquet: I://base_de_dados//datasus//cnes//datasus_ftp\\2020\\base_de_dados_cnes_202001\\tbLeito202001.parquet.gzip\n",
      "Saved as Parquet: I://base_de_dados//datasus//cnes//datasus_ftp\\2020\\base_de_dados_cnes_202001\\tbMantenedora202001.parquet.gzip\n",
      "Saved as Parquet: I://base_de_dados//datasus//cnes//datasus_ftp\\2020\\base_de_dados_cnes_202001\\tbModVinculo202001.parquet.gzip\n",
      "Saved as Parquet: I://base_de_dados//datasus//cnes//datasus_ftp\\2020\\base_de_dados_cnes_202001\\tbMotivoDesativacao202001.parquet.gzip\n",
      "Saved as Parquet: I://base_de_dados//datasus//cnes//datasus_ftp\\2020\\base_de_dados_cnes_202001\\tbMotivoDesativEquipe202001.parquet.gzip\n",
      "Saved as Parquet: I://base_de_dados//datasus//cnes//datasus_ftp\\2020\\base_de_dados_cnes_202001\\tbMunicipio202001.parquet.gzip\n",
      "Saved as Parquet: I://base_de_dados//datasus//cnes//datasus_ftp\\2020\\base_de_dados_cnes_202001\\tbNaturezaJuridica202001.parquet.gzip\n",
      "Saved as Parquet: I://base_de_dados//datasus//cnes//datasus_ftp\\2020\\base_de_dados_cnes_202001\\tbOrgaoEmissor202001.parquet.gzip\n",
      "Saved as Parquet: I://base_de_dados//datasus//cnes//datasus_ftp\\2020\\base_de_dados_cnes_202001\\tbPoloBase202001.parquet.gzip\n",
      "Saved as Parquet: I://base_de_dados//datasus//cnes//datasus_ftp\\2020\\base_de_dados_cnes_202001\\tbProfResidencia202001.parquet.gzip\n",
      "Saved as Parquet: I://base_de_dados//datasus//cnes//datasus_ftp\\2020\\base_de_dados_cnes_202001\\tbQuimioRadio202001.parquet.gzip\n",
      "Saved as Parquet: I://base_de_dados//datasus//cnes//datasus_ftp\\2020\\base_de_dados_cnes_202001\\tbResidenciaMed202001.parquet.gzip\n",
      "Saved as Parquet: I://base_de_dados//datasus//cnes//datasus_ftp\\2020\\base_de_dados_cnes_202001\\tbSegmento202001.parquet.gzip\n",
      "Saved as Parquet: I://base_de_dados//datasus//cnes//datasus_ftp\\2020\\base_de_dados_cnes_202001\\tbServicoApoio202001.parquet.gzip\n",
      "Saved as Parquet: I://base_de_dados//datasus//cnes//datasus_ftp\\2020\\base_de_dados_cnes_202001\\tbServicoEspecializado202001.parquet.gzip\n",
      "Saved as Parquet: I://base_de_dados//datasus//cnes//datasus_ftp\\2020\\base_de_dados_cnes_202001\\tbServicoReferenciado202001.parquet.gzip\n",
      "Saved as Parquet: I://base_de_dados//datasus//cnes//datasus_ftp\\2020\\base_de_dados_cnes_202001\\tbSubGruposHabilitacao202001.parquet.gzip\n",
      "Saved as Parquet: I://base_de_dados//datasus//cnes//datasus_ftp\\2020\\base_de_dados_cnes_202001\\tbSubTipo202001.parquet.gzip\n",
      "Saved as Parquet: I://base_de_dados//datasus//cnes//datasus_ftp\\2020\\base_de_dados_cnes_202001\\tbSubTipoEquipe202001.parquet.gzip\n",
      "Saved as Parquet: I://base_de_dados//datasus//cnes//datasus_ftp\\2020\\base_de_dados_cnes_202001\\tbSubtipoInstalacao202001.parquet.gzip\n",
      "Saved as Parquet: I://base_de_dados//datasus//cnes//datasus_ftp\\2020\\base_de_dados_cnes_202001\\tbSubTpModVinculo202001.parquet.gzip\n",
      "Saved as Parquet: I://base_de_dados//datasus//cnes//datasus_ftp\\2020\\base_de_dados_cnes_202001\\tbTipoCertidao202001.parquet.gzip\n",
      "Saved as Parquet: I://base_de_dados//datasus//cnes//datasus_ftp\\2020\\base_de_dados_cnes_202001\\tbTipoCgDifer202001.parquet.gzip\n",
      "Saved as Parquet: I://base_de_dados//datasus//cnes//datasus_ftp\\2020\\base_de_dados_cnes_202001\\tbTipoEqSubTipo202001.parquet.gzip\n",
      "Saved as Parquet: I://base_de_dados//datasus//cnes//datasus_ftp\\2020\\base_de_dados_cnes_202001\\tbTipoEquipamento202001.parquet.gzip\n",
      "Saved as Parquet: I://base_de_dados//datasus//cnes//datasus_ftp\\2020\\base_de_dados_cnes_202001\\tbTipoEquipe202001.parquet.gzip\n",
      "Saved as Parquet: I://base_de_dados//datasus//cnes//datasus_ftp\\2020\\base_de_dados_cnes_202001\\tbTipoEscolaridade202001.parquet.gzip\n",
      "Saved as Parquet: I://base_de_dados//datasus//cnes//datasus_ftp\\2020\\base_de_dados_cnes_202001\\tbTipoEstabelecimento202001.parquet.gzip\n",
      "Saved as Parquet: I://base_de_dados//datasus//cnes//datasus_ftp\\2020\\base_de_dados_cnes_202001\\tbTipoInstalacaoFisica202001.parquet.gzip\n",
      "Saved as Parquet: I://base_de_dados//datasus//cnes//datasus_ftp\\2020\\base_de_dados_cnes_202001\\tbTipoServicoReferenciado202001.parquet.gzip\n",
      "Saved as Parquet: I://base_de_dados//datasus//cnes//datasus_ftp\\2020\\base_de_dados_cnes_202001\\tbTipoUnidade202001.parquet.gzip\n",
      "Saved as Parquet: I://base_de_dados//datasus//cnes//datasus_ftp\\2020\\base_de_dados_cnes_202001\\tbTpModVinculo202001.parquet.gzip\n",
      "Saved as Parquet: I://base_de_dados//datasus//cnes//datasus_ftp\\2020\\base_de_dados_cnes_202001\\tbTurnoAtendimento202001.parquet.gzip\n",
      "Month Folder: base_de_dados_cnes_202002\n",
      "Saved as Parquet: I://base_de_dados//datasus//cnes//datasus_ftp\\2020\\base_de_dados_cnes_202002\\rlAdmGerenciaCnes202002.parquet.gzip\n",
      "Saved as Parquet: I://base_de_dados//datasus//cnes//datasus_ftp\\2020\\base_de_dados_cnes_202002\\rlAtividadeObrigatoria202002.parquet.gzip\n",
      "Saved as Parquet: I://base_de_dados//datasus//cnes//datasus_ftp\\2020\\base_de_dados_cnes_202002\\rlCooperativa202002.parquet.gzip\n",
      "Saved as Parquet: I://base_de_dados//datasus//cnes//datasus_ftp\\2020\\base_de_dados_cnes_202002\\rlEquipeAldeia202002.parquet.gzip\n",
      "Saved as Parquet: I://base_de_dados//datasus//cnes//datasus_ftp\\2020\\base_de_dados_cnes_202002\\rlEquipeNasfEsf202002.parquet.gzip\n"
     ]
    },
    {
     "name": "stderr",
     "output_type": "stream",
     "text": [
      "C:\\Users\\erick\\AppData\\Local\\Temp\\ipykernel_18324\\463220216.py:31: DtypeWarning: Columns (0) have mixed types. Specify dtype option on import or set low_memory=False.\n",
      "  df = pd.read_csv(csv_path, sep=';')\n"
     ]
    },
    {
     "name": "stdout",
     "output_type": "stream",
     "text": [
      "Saved as Parquet: I://base_de_dados//datasus//cnes//datasus_ftp\\2020\\base_de_dados_cnes_202002\\rlEstabAtendPrestConv202002.parquet.gzip\n",
      "Saved as Parquet: I://base_de_dados//datasus//cnes//datasus_ftp\\2020\\base_de_dados_cnes_202002\\rlEstabAtenPsico202002.parquet.gzip\n",
      "Saved as Parquet: I://base_de_dados//datasus//cnes//datasus_ftp\\2020\\base_de_dados_cnes_202002\\rlEstabAvaliacao202002.parquet.gzip\n",
      "Saved as Parquet: I://base_de_dados//datasus//cnes//datasus_ftp\\2020\\base_de_dados_cnes_202002\\rlEstabCentralReg202002.parquet.gzip\n",
      "Saved as Parquet: I://base_de_dados//datasus//cnes//datasus_ftp\\2020\\base_de_dados_cnes_202002\\rlEstabColetaSelRejeito202002.parquet.gzip\n",
      "Saved as Parquet: I://base_de_dados//datasus//cnes//datasus_ftp\\2020\\base_de_dados_cnes_202002\\rlEstabComissaoOutro202002.parquet.gzip\n",
      "Saved as Parquet: I://base_de_dados//datasus//cnes//datasus_ftp\\2020\\base_de_dados_cnes_202002\\rlEstabComplementar202002.parquet.gzip\n",
      "Saved as Parquet: I://base_de_dados//datasus//cnes//datasus_ftp\\2020\\base_de_dados_cnes_202002\\rlEstabEndCompl202002.parquet.gzip\n",
      "Saved as Parquet: I://base_de_dados//datasus//cnes//datasus_ftp\\2020\\base_de_dados_cnes_202002\\rlEstabEqpEmbarcacao202002.parquet.gzip\n",
      "Saved as Parquet: I://base_de_dados//datasus//cnes//datasus_ftp\\2020\\base_de_dados_cnes_202002\\rlEstabEqpUnidApoio202002.parquet.gzip\n"
     ]
    },
    {
     "name": "stderr",
     "output_type": "stream",
     "text": [
      "C:\\Users\\erick\\AppData\\Local\\Temp\\ipykernel_18324\\463220216.py:31: DtypeWarning: Columns (0) have mixed types. Specify dtype option on import or set low_memory=False.\n",
      "  df = pd.read_csv(csv_path, sep=';')\n"
     ]
    },
    {
     "name": "stdout",
     "output_type": "stream",
     "text": [
      "Saved as Parquet: I://base_de_dados//datasus//cnes//datasus_ftp\\2020\\base_de_dados_cnes_202002\\rlEstabEquipamento202002.parquet.gzip\n",
      "Saved as Parquet: I://base_de_dados//datasus//cnes//datasus_ftp\\2020\\base_de_dados_cnes_202002\\rlEstabEquipeMun202002.parquet.gzip\n"
     ]
    },
    {
     "name": "stderr",
     "output_type": "stream",
     "text": [
      "C:\\Users\\erick\\AppData\\Local\\Temp\\ipykernel_18324\\463220216.py:31: DtypeWarning: Columns (14) have mixed types. Specify dtype option on import or set low_memory=False.\n",
      "  df = pd.read_csv(csv_path, sep=';')\n"
     ]
    },
    {
     "name": "stdout",
     "output_type": "stream",
     "text": [
      "Saved as Parquet: I://base_de_dados//datasus//cnes//datasus_ftp\\2020\\base_de_dados_cnes_202002\\rlEstabEquipeProf202002.parquet.gzip\n",
      "Saved as Parquet: I://base_de_dados//datasus//cnes//datasus_ftp\\2020\\base_de_dados_cnes_202002\\rlEstabInstFisiAssist202002.parquet.gzip\n",
      "Saved as Parquet: I://base_de_dados//datasus//cnes//datasus_ftp\\2020\\base_de_dados_cnes_202002\\rlEstabOrgParc202002.parquet.gzip\n",
      "Saved as Parquet: I://base_de_dados//datasus//cnes//datasus_ftp\\2020\\base_de_dados_cnes_202002\\rlEstabPoloAldeia202002.parquet.gzip\n",
      "Saved as Parquet: I://base_de_dados//datasus//cnes//datasus_ftp\\2020\\base_de_dados_cnes_202002\\rlEstabProfComissao202002.parquet.gzip\n",
      "Saved as Parquet: I://base_de_dados//datasus//cnes//datasus_ftp\\2020\\base_de_dados_cnes_202002\\rlEstabProgFundo202002.parquet.gzip\n",
      "Saved as Parquet: I://base_de_dados//datasus//cnes//datasus_ftp\\2020\\base_de_dados_cnes_202002\\rlEstabRegimeRes202002.parquet.gzip\n",
      "Saved as Parquet: I://base_de_dados//datasus//cnes//datasus_ftp\\2020\\base_de_dados_cnes_202002\\rlEstabRepresentante202002.parquet.gzip\n",
      "Saved as Parquet: I://base_de_dados//datasus//cnes//datasus_ftp\\2020\\base_de_dados_cnes_202002\\rlEstabSamu202002.parquet.gzip\n",
      "Saved as Parquet: I://base_de_dados//datasus//cnes//datasus_ftp\\2020\\base_de_dados_cnes_202002\\rlEstabServClass202002.parquet.gzip\n"
     ]
    },
    {
     "name": "stderr",
     "output_type": "stream",
     "text": [
      "C:\\Users\\erick\\AppData\\Local\\Temp\\ipykernel_18324\\463220216.py:31: DtypeWarning: Columns (2) have mixed types. Specify dtype option on import or set low_memory=False.\n",
      "  df = pd.read_csv(csv_path, sep=';')\n"
     ]
    },
    {
     "name": "stdout",
     "output_type": "stream",
     "text": [
      "Saved as Parquet: I://base_de_dados//datasus//cnes//datasus_ftp\\2020\\base_de_dados_cnes_202002\\rlEstabServicoApoio202002.parquet.gzip\n",
      "Saved as Parquet: I://base_de_dados//datasus//cnes//datasus_ftp\\2020\\base_de_dados_cnes_202002\\rlEstabSipac202002.parquet.gzip\n",
      "Saved as Parquet: I://base_de_dados//datasus//cnes//datasus_ftp\\2020\\base_de_dados_cnes_202002\\rlEstabSubTipo202002.parquet.gzip\n",
      "Saved as Parquet: I://base_de_dados//datasus//cnes//datasus_ftp\\2020\\base_de_dados_cnes_202002\\rlEstabTeleCnes202002.parquet.gzip\n",
      "Saved as Parquet: I://base_de_dados//datasus//cnes//datasus_ftp\\2020\\base_de_dados_cnes_202002\\rlEstabUnidAcolhim202002.parquet.gzip\n",
      "Saved as Parquet: I://base_de_dados//datasus//cnes//datasus_ftp\\2020\\base_de_dados_cnes_202002\\rlMunAtenPsico202002.parquet.gzip\n",
      "Saved as Parquet: I://base_de_dados//datasus//cnes//datasus_ftp\\2020\\base_de_dados_cnes_202002\\rlMunRegimeRes202002.parquet.gzip\n",
      "Saved as Parquet: I://base_de_dados//datasus//cnes//datasus_ftp\\2020\\base_de_dados_cnes_202002\\rlMunUnidAcolhim202002.parquet.gzip\n",
      "Saved as Parquet: I://base_de_dados//datasus//cnes//datasus_ftp\\2020\\base_de_dados_cnes_202002\\rlNasfEsf202002.parquet.gzip\n",
      "Saved as Parquet: I://base_de_dados//datasus//cnes//datasus_ftp\\2020\\base_de_dados_cnes_202002\\rlTipoEstabAtividade202002.parquet.gzip\n",
      "Saved as Parquet: I://base_de_dados//datasus//cnes//datasus_ftp\\2020\\base_de_dados_cnes_202002\\tbAldeia202002.parquet.gzip\n",
      "Saved as Parquet: I://base_de_dados//datasus//cnes//datasus_ftp\\2020\\base_de_dados_cnes_202002\\tbArea202002.parquet.gzip\n",
      "Saved as Parquet: I://base_de_dados//datasus//cnes//datasus_ftp\\2020\\base_de_dados_cnes_202002\\tbAtendimentoPrestado202002.parquet.gzip\n",
      "Saved as Parquet: I://base_de_dados//datasus//cnes//datasus_ftp\\2020\\base_de_dados_cnes_202002\\tbAtividade202002.parquet.gzip\n",
      "Saved as Parquet: I://base_de_dados//datasus//cnes//datasus_ftp\\2020\\base_de_dados_cnes_202002\\tbAtividadeEnsino202002.parquet.gzip\n",
      "Saved as Parquet: I://base_de_dados//datasus//cnes//datasus_ftp\\2020\\base_de_dados_cnes_202002\\tbAtividadeProfissional202002.parquet.gzip\n",
      "Saved as Parquet: I://base_de_dados//datasus//cnes//datasus_ftp\\2020\\base_de_dados_cnes_202002\\tbAtributo202002.parquet.gzip\n",
      "Saved as Parquet: I://base_de_dados//datasus//cnes//datasus_ftp\\2020\\base_de_dados_cnes_202002\\tbAvaliacao202002.parquet.gzip\n",
      "Saved as Parquet: I://base_de_dados//datasus//cnes//datasus_ftp\\2020\\base_de_dados_cnes_202002\\tbBanco202002.parquet.gzip\n"
     ]
    },
    {
     "name": "stderr",
     "output_type": "stream",
     "text": [
      "C:\\Users\\erick\\AppData\\Local\\Temp\\ipykernel_18324\\463220216.py:31: DtypeWarning: Columns (0,12) have mixed types. Specify dtype option on import or set low_memory=False.\n",
      "  df = pd.read_csv(csv_path, sep=';')\n"
     ]
    },
    {
     "name": "stdout",
     "output_type": "stream",
     "text": [
      "Saved as Parquet: I://base_de_dados//datasus//cnes//datasus_ftp\\2020\\base_de_dados_cnes_202002\\tbCargaHorariaSus202002.parquet.gzip\n",
      "Saved as Parquet: I://base_de_dados//datasus//cnes//datasus_ftp\\2020\\base_de_dados_cnes_202002\\tbClassificacaoAval202002.parquet.gzip\n",
      "Saved as Parquet: I://base_de_dados//datasus//cnes//datasus_ftp\\2020\\base_de_dados_cnes_202002\\tbClassificacaoServico202002.parquet.gzip\n",
      "Saved as Parquet: I://base_de_dados//datasus//cnes//datasus_ftp\\2020\\base_de_dados_cnes_202002\\tbColetaSeletivaRejeito202002.parquet.gzip\n",
      "Saved as Parquet: I://base_de_dados//datasus//cnes//datasus_ftp\\2020\\base_de_dados_cnes_202002\\tbComissaoOutro202002.parquet.gzip\n",
      "Saved as Parquet: I://base_de_dados//datasus//cnes//datasus_ftp\\2020\\base_de_dados_cnes_202002\\tbConselhoClasse202002.parquet.gzip\n",
      "Saved as Parquet: I://base_de_dados//datasus//cnes//datasus_ftp\\2020\\base_de_dados_cnes_202002\\tbConvenio202002.parquet.gzip\n",
      "Saved as Parquet: I://base_de_dados//datasus//cnes//datasus_ftp\\2020\\base_de_dados_cnes_202002\\tbDadosProfissionalSus202002.parquet.gzip\n",
      "Saved as Parquet: I://base_de_dados//datasus//cnes//datasus_ftp\\2020\\base_de_dados_cnes_202002\\tbDialise202002.parquet.gzip\n",
      "Saved as Parquet: I://base_de_dados//datasus//cnes//datasus_ftp\\2020\\base_de_dados_cnes_202002\\tbDsei202002.parquet.gzip\n",
      "Saved as Parquet: I://base_de_dados//datasus//cnes//datasus_ftp\\2020\\base_de_dados_cnes_202002\\tbEquipamento202002.parquet.gzip\n",
      "Saved as Parquet: I://base_de_dados//datasus//cnes//datasus_ftp\\2020\\base_de_dados_cnes_202002\\tbEquipe202002.parquet.gzip\n",
      "Saved as Parquet: I://base_de_dados//datasus//cnes//datasus_ftp\\2020\\base_de_dados_cnes_202002\\tbEquipeAtendCompl202002.parquet.gzip\n",
      "Saved as Parquet: I://base_de_dados//datasus//cnes//datasus_ftp\\2020\\base_de_dados_cnes_202002\\tbEquipeChDifer202002.parquet.gzip\n",
      "Saved as Parquet: I://base_de_dados//datasus//cnes//datasus_ftp\\2020\\base_de_dados_cnes_202002\\tbEstabAtivSecundaria202002.parquet.gzip\n",
      "Saved as Parquet: I://base_de_dados//datasus//cnes//datasus_ftp\\2020\\base_de_dados_cnes_202002\\tbEstabContrato202002.parquet.gzip\n"
     ]
    },
    {
     "name": "stderr",
     "output_type": "stream",
     "text": [
      "C:\\Users\\erick\\AppData\\Local\\Temp\\ipykernel_18324\\463220216.py:31: DtypeWarning: Columns (0,36,45) have mixed types. Specify dtype option on import or set low_memory=False.\n",
      "  df = pd.read_csv(csv_path, sep=';')\n"
     ]
    },
    {
     "name": "stdout",
     "output_type": "stream",
     "text": [
      "Saved as Parquet: I://base_de_dados//datasus//cnes//datasus_ftp\\2020\\base_de_dados_cnes_202002\\tbEstabelecimento202002.parquet.gzip\n",
      "Saved as Parquet: I://base_de_dados//datasus//cnes//datasus_ftp\\2020\\base_de_dados_cnes_202002\\tbEstabHorarioAtend202002.parquet.gzip\n",
      "Saved as Parquet: I://base_de_dados//datasus//cnes//datasus_ftp\\2020\\base_de_dados_cnes_202002\\tbEstado202002.parquet.gzip\n",
      "Saved as Parquet: I://base_de_dados//datasus//cnes//datasus_ftp\\2020\\base_de_dados_cnes_202002\\tbEtnia202002.parquet.gzip\n",
      "Saved as Parquet: I://base_de_dados//datasus//cnes//datasus_ftp\\2020\\base_de_dados_cnes_202002\\tbFluxoDadosClientela202002.parquet.gzip\n",
      "Saved as Parquet: I://base_de_dados//datasus//cnes//datasus_ftp\\2020\\base_de_dados_cnes_202002\\tbGestao202002.parquet.gzip\n",
      "Saved as Parquet: I://base_de_dados//datasus//cnes//datasus_ftp\\2020\\base_de_dados_cnes_202002\\tbGrupoAtividade202002.parquet.gzip\n",
      "Saved as Parquet: I://base_de_dados//datasus//cnes//datasus_ftp\\2020\\base_de_dados_cnes_202002\\tbGrupoEquipe202002.parquet.gzip\n",
      "Saved as Parquet: I://base_de_dados//datasus//cnes//datasus_ftp\\2020\\base_de_dados_cnes_202002\\tbHemoterapia202002.parquet.gzip\n",
      "Saved as Parquet: I://base_de_dados//datasus//cnes//datasus_ftp\\2020\\base_de_dados_cnes_202002\\tbIncentivos202002.parquet.gzip\n",
      "Saved as Parquet: I://base_de_dados//datasus//cnes//datasus_ftp\\2020\\base_de_dados_cnes_202002\\tbInstalFisicaParaAssist202002.parquet.gzip\n",
      "Saved as Parquet: I://base_de_dados//datasus//cnes//datasus_ftp\\2020\\base_de_dados_cnes_202002\\tbInstituicaoAvaliadora202002.parquet.gzip\n",
      "Saved as Parquet: I://base_de_dados//datasus//cnes//datasus_ftp\\2020\\base_de_dados_cnes_202002\\tbLeito202002.parquet.gzip\n",
      "Saved as Parquet: I://base_de_dados//datasus//cnes//datasus_ftp\\2020\\base_de_dados_cnes_202002\\tbMantenedora202002.parquet.gzip\n",
      "Saved as Parquet: I://base_de_dados//datasus//cnes//datasus_ftp\\2020\\base_de_dados_cnes_202002\\tbModVinculo202002.parquet.gzip\n",
      "Saved as Parquet: I://base_de_dados//datasus//cnes//datasus_ftp\\2020\\base_de_dados_cnes_202002\\tbMotivoDesativacao202002.parquet.gzip\n",
      "Saved as Parquet: I://base_de_dados//datasus//cnes//datasus_ftp\\2020\\base_de_dados_cnes_202002\\tbMotivoDesativEquipe202002.parquet.gzip\n",
      "Saved as Parquet: I://base_de_dados//datasus//cnes//datasus_ftp\\2020\\base_de_dados_cnes_202002\\tbMunicipio202002.parquet.gzip\n",
      "Saved as Parquet: I://base_de_dados//datasus//cnes//datasus_ftp\\2020\\base_de_dados_cnes_202002\\tbNaturezaJuridica202002.parquet.gzip\n",
      "Saved as Parquet: I://base_de_dados//datasus//cnes//datasus_ftp\\2020\\base_de_dados_cnes_202002\\tbOrgaoEmissor202002.parquet.gzip\n",
      "Saved as Parquet: I://base_de_dados//datasus//cnes//datasus_ftp\\2020\\base_de_dados_cnes_202002\\tbPoloBase202002.parquet.gzip\n",
      "Saved as Parquet: I://base_de_dados//datasus//cnes//datasus_ftp\\2020\\base_de_dados_cnes_202002\\tbProfResidencia202002.parquet.gzip\n",
      "Saved as Parquet: I://base_de_dados//datasus//cnes//datasus_ftp\\2020\\base_de_dados_cnes_202002\\tbQuimioRadio202002.parquet.gzip\n",
      "Saved as Parquet: I://base_de_dados//datasus//cnes//datasus_ftp\\2020\\base_de_dados_cnes_202002\\tbResidenciaMed202002.parquet.gzip\n",
      "Saved as Parquet: I://base_de_dados//datasus//cnes//datasus_ftp\\2020\\base_de_dados_cnes_202002\\tbSegmento202002.parquet.gzip\n",
      "Saved as Parquet: I://base_de_dados//datasus//cnes//datasus_ftp\\2020\\base_de_dados_cnes_202002\\tbServicoApoio202002.parquet.gzip\n",
      "Saved as Parquet: I://base_de_dados//datasus//cnes//datasus_ftp\\2020\\base_de_dados_cnes_202002\\tbServicoEspecializado202002.parquet.gzip\n",
      "Saved as Parquet: I://base_de_dados//datasus//cnes//datasus_ftp\\2020\\base_de_dados_cnes_202002\\tbServicoReferenciado202002.parquet.gzip\n",
      "Saved as Parquet: I://base_de_dados//datasus//cnes//datasus_ftp\\2020\\base_de_dados_cnes_202002\\tbSubGruposHabilitacao202002.parquet.gzip\n",
      "Saved as Parquet: I://base_de_dados//datasus//cnes//datasus_ftp\\2020\\base_de_dados_cnes_202002\\tbSubTipo202002.parquet.gzip\n",
      "Saved as Parquet: I://base_de_dados//datasus//cnes//datasus_ftp\\2020\\base_de_dados_cnes_202002\\tbSubTipoEquipe202002.parquet.gzip\n",
      "Saved as Parquet: I://base_de_dados//datasus//cnes//datasus_ftp\\2020\\base_de_dados_cnes_202002\\tbSubtipoInstalacao202002.parquet.gzip\n",
      "Saved as Parquet: I://base_de_dados//datasus//cnes//datasus_ftp\\2020\\base_de_dados_cnes_202002\\tbSubTpModVinculo202002.parquet.gzip\n",
      "Saved as Parquet: I://base_de_dados//datasus//cnes//datasus_ftp\\2020\\base_de_dados_cnes_202002\\tbTipoCertidao202002.parquet.gzip\n",
      "Saved as Parquet: I://base_de_dados//datasus//cnes//datasus_ftp\\2020\\base_de_dados_cnes_202002\\tbTipoCgDifer202002.parquet.gzip\n",
      "Saved as Parquet: I://base_de_dados//datasus//cnes//datasus_ftp\\2020\\base_de_dados_cnes_202002\\tbTipoEqSubTipo202002.parquet.gzip\n",
      "Saved as Parquet: I://base_de_dados//datasus//cnes//datasus_ftp\\2020\\base_de_dados_cnes_202002\\tbTipoEquipamento202002.parquet.gzip\n",
      "Saved as Parquet: I://base_de_dados//datasus//cnes//datasus_ftp\\2020\\base_de_dados_cnes_202002\\tbTipoEquipe202002.parquet.gzip\n",
      "Saved as Parquet: I://base_de_dados//datasus//cnes//datasus_ftp\\2020\\base_de_dados_cnes_202002\\tbTipoEscolaridade202002.parquet.gzip\n",
      "Saved as Parquet: I://base_de_dados//datasus//cnes//datasus_ftp\\2020\\base_de_dados_cnes_202002\\tbTipoEstabelecimento202002.parquet.gzip\n",
      "Saved as Parquet: I://base_de_dados//datasus//cnes//datasus_ftp\\2020\\base_de_dados_cnes_202002\\tbTipoInstalacaoFisica202002.parquet.gzip\n",
      "Saved as Parquet: I://base_de_dados//datasus//cnes//datasus_ftp\\2020\\base_de_dados_cnes_202002\\tbTipoServicoReferenciado202002.parquet.gzip\n",
      "Saved as Parquet: I://base_de_dados//datasus//cnes//datasus_ftp\\2020\\base_de_dados_cnes_202002\\tbTipoUnidade202002.parquet.gzip\n",
      "Saved as Parquet: I://base_de_dados//datasus//cnes//datasus_ftp\\2020\\base_de_dados_cnes_202002\\tbTpModVinculo202002.parquet.gzip\n",
      "Saved as Parquet: I://base_de_dados//datasus//cnes//datasus_ftp\\2020\\base_de_dados_cnes_202002\\tbTurnoAtendimento202002.parquet.gzip\n",
      "Month Folder: base_de_dados_cnes_202003\n",
      "Saved as Parquet: I://base_de_dados//datasus//cnes//datasus_ftp\\2020\\base_de_dados_cnes_202003\\rlAdmGerenciaCnes202003.parquet.gzip\n",
      "Saved as Parquet: I://base_de_dados//datasus//cnes//datasus_ftp\\2020\\base_de_dados_cnes_202003\\rlAtividadeObrigatoria202003.parquet.gzip\n",
      "Saved as Parquet: I://base_de_dados//datasus//cnes//datasus_ftp\\2020\\base_de_dados_cnes_202003\\rlCooperativa202003.parquet.gzip\n",
      "Saved as Parquet: I://base_de_dados//datasus//cnes//datasus_ftp\\2020\\base_de_dados_cnes_202003\\rlEquipeAldeia202003.parquet.gzip\n",
      "Saved as Parquet: I://base_de_dados//datasus//cnes//datasus_ftp\\2020\\base_de_dados_cnes_202003\\rlEquipeNasfEsf202003.parquet.gzip\n"
     ]
    },
    {
     "name": "stderr",
     "output_type": "stream",
     "text": [
      "C:\\Users\\erick\\AppData\\Local\\Temp\\ipykernel_18324\\463220216.py:31: DtypeWarning: Columns (0) have mixed types. Specify dtype option on import or set low_memory=False.\n",
      "  df = pd.read_csv(csv_path, sep=';')\n"
     ]
    },
    {
     "name": "stdout",
     "output_type": "stream",
     "text": [
      "Saved as Parquet: I://base_de_dados//datasus//cnes//datasus_ftp\\2020\\base_de_dados_cnes_202003\\rlEstabAtendPrestConv202003.parquet.gzip\n",
      "Saved as Parquet: I://base_de_dados//datasus//cnes//datasus_ftp\\2020\\base_de_dados_cnes_202003\\rlEstabAtenPsico202003.parquet.gzip\n",
      "Saved as Parquet: I://base_de_dados//datasus//cnes//datasus_ftp\\2020\\base_de_dados_cnes_202003\\rlEstabAvaliacao202003.parquet.gzip\n",
      "Saved as Parquet: I://base_de_dados//datasus//cnes//datasus_ftp\\2020\\base_de_dados_cnes_202003\\rlEstabCentralReg202003.parquet.gzip\n",
      "Saved as Parquet: I://base_de_dados//datasus//cnes//datasus_ftp\\2020\\base_de_dados_cnes_202003\\rlEstabColetaSelRejeito202003.parquet.gzip\n",
      "Saved as Parquet: I://base_de_dados//datasus//cnes//datasus_ftp\\2020\\base_de_dados_cnes_202003\\rlEstabComissaoOutro202003.parquet.gzip\n",
      "Saved as Parquet: I://base_de_dados//datasus//cnes//datasus_ftp\\2020\\base_de_dados_cnes_202003\\rlEstabComplementar202003.parquet.gzip\n",
      "Saved as Parquet: I://base_de_dados//datasus//cnes//datasus_ftp\\2020\\base_de_dados_cnes_202003\\rlEstabEndCompl202003.parquet.gzip\n",
      "Saved as Parquet: I://base_de_dados//datasus//cnes//datasus_ftp\\2020\\base_de_dados_cnes_202003\\rlEstabEqpEmbarcacao202003.parquet.gzip\n",
      "Saved as Parquet: I://base_de_dados//datasus//cnes//datasus_ftp\\2020\\base_de_dados_cnes_202003\\rlEstabEqpUnidApoio202003.parquet.gzip\n"
     ]
    },
    {
     "name": "stderr",
     "output_type": "stream",
     "text": [
      "C:\\Users\\erick\\AppData\\Local\\Temp\\ipykernel_18324\\463220216.py:31: DtypeWarning: Columns (0) have mixed types. Specify dtype option on import or set low_memory=False.\n",
      "  df = pd.read_csv(csv_path, sep=';')\n"
     ]
    },
    {
     "name": "stdout",
     "output_type": "stream",
     "text": [
      "Saved as Parquet: I://base_de_dados//datasus//cnes//datasus_ftp\\2020\\base_de_dados_cnes_202003\\rlEstabEquipamento202003.parquet.gzip\n",
      "Saved as Parquet: I://base_de_dados//datasus//cnes//datasus_ftp\\2020\\base_de_dados_cnes_202003\\rlEstabEquipeMun202003.parquet.gzip\n"
     ]
    },
    {
     "name": "stderr",
     "output_type": "stream",
     "text": [
      "C:\\Users\\erick\\AppData\\Local\\Temp\\ipykernel_18324\\463220216.py:31: DtypeWarning: Columns (14) have mixed types. Specify dtype option on import or set low_memory=False.\n",
      "  df = pd.read_csv(csv_path, sep=';')\n"
     ]
    },
    {
     "name": "stdout",
     "output_type": "stream",
     "text": [
      "Saved as Parquet: I://base_de_dados//datasus//cnes//datasus_ftp\\2020\\base_de_dados_cnes_202003\\rlEstabEquipeProf202003.parquet.gzip\n",
      "Saved as Parquet: I://base_de_dados//datasus//cnes//datasus_ftp\\2020\\base_de_dados_cnes_202003\\rlEstabInstFisiAssist202003.parquet.gzip\n",
      "Saved as Parquet: I://base_de_dados//datasus//cnes//datasus_ftp\\2020\\base_de_dados_cnes_202003\\rlEstabOrgParc202003.parquet.gzip\n",
      "Saved as Parquet: I://base_de_dados//datasus//cnes//datasus_ftp\\2020\\base_de_dados_cnes_202003\\rlEstabPoloAldeia202003.parquet.gzip\n",
      "Saved as Parquet: I://base_de_dados//datasus//cnes//datasus_ftp\\2020\\base_de_dados_cnes_202003\\rlEstabProfComissao202003.parquet.gzip\n",
      "Saved as Parquet: I://base_de_dados//datasus//cnes//datasus_ftp\\2020\\base_de_dados_cnes_202003\\rlEstabProgFundo202003.parquet.gzip\n",
      "Saved as Parquet: I://base_de_dados//datasus//cnes//datasus_ftp\\2020\\base_de_dados_cnes_202003\\rlEstabRegimeRes202003.parquet.gzip\n",
      "Saved as Parquet: I://base_de_dados//datasus//cnes//datasus_ftp\\2020\\base_de_dados_cnes_202003\\rlEstabRepresentante202003.parquet.gzip\n",
      "Saved as Parquet: I://base_de_dados//datasus//cnes//datasus_ftp\\2020\\base_de_dados_cnes_202003\\rlEstabSamu202003.parquet.gzip\n"
     ]
    },
    {
     "name": "stderr",
     "output_type": "stream",
     "text": [
      "C:\\Users\\erick\\AppData\\Local\\Temp\\ipykernel_18324\\463220216.py:31: DtypeWarning: Columns (0) have mixed types. Specify dtype option on import or set low_memory=False.\n",
      "  df = pd.read_csv(csv_path, sep=';')\n"
     ]
    },
    {
     "name": "stdout",
     "output_type": "stream",
     "text": [
      "Saved as Parquet: I://base_de_dados//datasus//cnes//datasus_ftp\\2020\\base_de_dados_cnes_202003\\rlEstabServClass202003.parquet.gzip\n"
     ]
    },
    {
     "name": "stderr",
     "output_type": "stream",
     "text": [
      "C:\\Users\\erick\\AppData\\Local\\Temp\\ipykernel_18324\\463220216.py:31: DtypeWarning: Columns (2) have mixed types. Specify dtype option on import or set low_memory=False.\n",
      "  df = pd.read_csv(csv_path, sep=';')\n"
     ]
    },
    {
     "name": "stdout",
     "output_type": "stream",
     "text": [
      "Saved as Parquet: I://base_de_dados//datasus//cnes//datasus_ftp\\2020\\base_de_dados_cnes_202003\\rlEstabServicoApoio202003.parquet.gzip\n",
      "Saved as Parquet: I://base_de_dados//datasus//cnes//datasus_ftp\\2020\\base_de_dados_cnes_202003\\rlEstabSipac202003.parquet.gzip\n",
      "Saved as Parquet: I://base_de_dados//datasus//cnes//datasus_ftp\\2020\\base_de_dados_cnes_202003\\rlEstabSubTipo202003.parquet.gzip\n",
      "Saved as Parquet: I://base_de_dados//datasus//cnes//datasus_ftp\\2020\\base_de_dados_cnes_202003\\rlEstabTeleCnes202003.parquet.gzip\n",
      "Saved as Parquet: I://base_de_dados//datasus//cnes//datasus_ftp\\2020\\base_de_dados_cnes_202003\\rlEstabUnidAcolhim202003.parquet.gzip\n",
      "Saved as Parquet: I://base_de_dados//datasus//cnes//datasus_ftp\\2020\\base_de_dados_cnes_202003\\rlMunAtenPsico202003.parquet.gzip\n",
      "Saved as Parquet: I://base_de_dados//datasus//cnes//datasus_ftp\\2020\\base_de_dados_cnes_202003\\rlMunRegimeRes202003.parquet.gzip\n",
      "Saved as Parquet: I://base_de_dados//datasus//cnes//datasus_ftp\\2020\\base_de_dados_cnes_202003\\rlMunUnidAcolhim202003.parquet.gzip\n",
      "Saved as Parquet: I://base_de_dados//datasus//cnes//datasus_ftp\\2020\\base_de_dados_cnes_202003\\rlNasfEsf202003.parquet.gzip\n",
      "Saved as Parquet: I://base_de_dados//datasus//cnes//datasus_ftp\\2020\\base_de_dados_cnes_202003\\rlTipoEstabAtividade202003.parquet.gzip\n",
      "Saved as Parquet: I://base_de_dados//datasus//cnes//datasus_ftp\\2020\\base_de_dados_cnes_202003\\tbAldeia202003.parquet.gzip\n",
      "Saved as Parquet: I://base_de_dados//datasus//cnes//datasus_ftp\\2020\\base_de_dados_cnes_202003\\tbArea202003.parquet.gzip\n",
      "Saved as Parquet: I://base_de_dados//datasus//cnes//datasus_ftp\\2020\\base_de_dados_cnes_202003\\tbAtendimentoPrestado202003.parquet.gzip\n",
      "Saved as Parquet: I://base_de_dados//datasus//cnes//datasus_ftp\\2020\\base_de_dados_cnes_202003\\tbAtividade202003.parquet.gzip\n",
      "Saved as Parquet: I://base_de_dados//datasus//cnes//datasus_ftp\\2020\\base_de_dados_cnes_202003\\tbAtividadeEnsino202003.parquet.gzip\n",
      "Saved as Parquet: I://base_de_dados//datasus//cnes//datasus_ftp\\2020\\base_de_dados_cnes_202003\\tbAtividadeProfissional202003.parquet.gzip\n",
      "Saved as Parquet: I://base_de_dados//datasus//cnes//datasus_ftp\\2020\\base_de_dados_cnes_202003\\tbAtributo202003.parquet.gzip\n",
      "Saved as Parquet: I://base_de_dados//datasus//cnes//datasus_ftp\\2020\\base_de_dados_cnes_202003\\tbAvaliacao202003.parquet.gzip\n",
      "Saved as Parquet: I://base_de_dados//datasus//cnes//datasus_ftp\\2020\\base_de_dados_cnes_202003\\tbBanco202003.parquet.gzip\n"
     ]
    },
    {
     "name": "stderr",
     "output_type": "stream",
     "text": [
      "C:\\Users\\erick\\AppData\\Local\\Temp\\ipykernel_18324\\463220216.py:31: DtypeWarning: Columns (0,12) have mixed types. Specify dtype option on import or set low_memory=False.\n",
      "  df = pd.read_csv(csv_path, sep=';')\n"
     ]
    },
    {
     "name": "stdout",
     "output_type": "stream",
     "text": [
      "Saved as Parquet: I://base_de_dados//datasus//cnes//datasus_ftp\\2020\\base_de_dados_cnes_202003\\tbCargaHorariaSus202003.parquet.gzip\n",
      "Saved as Parquet: I://base_de_dados//datasus//cnes//datasus_ftp\\2020\\base_de_dados_cnes_202003\\tbClassificacaoAval202003.parquet.gzip\n",
      "Saved as Parquet: I://base_de_dados//datasus//cnes//datasus_ftp\\2020\\base_de_dados_cnes_202003\\tbClassificacaoServico202003.parquet.gzip\n",
      "Saved as Parquet: I://base_de_dados//datasus//cnes//datasus_ftp\\2020\\base_de_dados_cnes_202003\\tbColetaSeletivaRejeito202003.parquet.gzip\n",
      "Saved as Parquet: I://base_de_dados//datasus//cnes//datasus_ftp\\2020\\base_de_dados_cnes_202003\\tbComissaoOutro202003.parquet.gzip\n",
      "Saved as Parquet: I://base_de_dados//datasus//cnes//datasus_ftp\\2020\\base_de_dados_cnes_202003\\tbConselhoClasse202003.parquet.gzip\n",
      "Saved as Parquet: I://base_de_dados//datasus//cnes//datasus_ftp\\2020\\base_de_dados_cnes_202003\\tbConvenio202003.parquet.gzip\n",
      "Saved as Parquet: I://base_de_dados//datasus//cnes//datasus_ftp\\2020\\base_de_dados_cnes_202003\\tbDadosProfissionalSus202003.parquet.gzip\n",
      "Saved as Parquet: I://base_de_dados//datasus//cnes//datasus_ftp\\2020\\base_de_dados_cnes_202003\\tbDialise202003.parquet.gzip\n",
      "Saved as Parquet: I://base_de_dados//datasus//cnes//datasus_ftp\\2020\\base_de_dados_cnes_202003\\tbDsei202003.parquet.gzip\n",
      "Saved as Parquet: I://base_de_dados//datasus//cnes//datasus_ftp\\2020\\base_de_dados_cnes_202003\\tbEquipamento202003.parquet.gzip\n",
      "Saved as Parquet: I://base_de_dados//datasus//cnes//datasus_ftp\\2020\\base_de_dados_cnes_202003\\tbEquipe202003.parquet.gzip\n",
      "Saved as Parquet: I://base_de_dados//datasus//cnes//datasus_ftp\\2020\\base_de_dados_cnes_202003\\tbEquipeAtendCompl202003.parquet.gzip\n",
      "Saved as Parquet: I://base_de_dados//datasus//cnes//datasus_ftp\\2020\\base_de_dados_cnes_202003\\tbEquipeChDifer202003.parquet.gzip\n",
      "Saved as Parquet: I://base_de_dados//datasus//cnes//datasus_ftp\\2020\\base_de_dados_cnes_202003\\tbEstabAtivSecundaria202003.parquet.gzip\n",
      "Saved as Parquet: I://base_de_dados//datasus//cnes//datasus_ftp\\2020\\base_de_dados_cnes_202003\\tbEstabContrato202003.parquet.gzip\n"
     ]
    },
    {
     "name": "stderr",
     "output_type": "stream",
     "text": [
      "C:\\Users\\erick\\AppData\\Local\\Temp\\ipykernel_18324\\463220216.py:31: DtypeWarning: Columns (0,15,36,45) have mixed types. Specify dtype option on import or set low_memory=False.\n",
      "  df = pd.read_csv(csv_path, sep=';')\n"
     ]
    },
    {
     "name": "stdout",
     "output_type": "stream",
     "text": [
      "Saved as Parquet: I://base_de_dados//datasus//cnes//datasus_ftp\\2020\\base_de_dados_cnes_202003\\tbEstabelecimento202003.parquet.gzip\n",
      "Saved as Parquet: I://base_de_dados//datasus//cnes//datasus_ftp\\2020\\base_de_dados_cnes_202003\\tbEstabHorarioAtend202003.parquet.gzip\n",
      "Saved as Parquet: I://base_de_dados//datasus//cnes//datasus_ftp\\2020\\base_de_dados_cnes_202003\\tbEstado202003.parquet.gzip\n",
      "Saved as Parquet: I://base_de_dados//datasus//cnes//datasus_ftp\\2020\\base_de_dados_cnes_202003\\tbEtnia202003.parquet.gzip\n",
      "Saved as Parquet: I://base_de_dados//datasus//cnes//datasus_ftp\\2020\\base_de_dados_cnes_202003\\tbFluxoDadosClientela202003.parquet.gzip\n",
      "Saved as Parquet: I://base_de_dados//datasus//cnes//datasus_ftp\\2020\\base_de_dados_cnes_202003\\tbGestao202003.parquet.gzip\n",
      "Saved as Parquet: I://base_de_dados//datasus//cnes//datasus_ftp\\2020\\base_de_dados_cnes_202003\\tbGrupoAtividade202003.parquet.gzip\n",
      "Saved as Parquet: I://base_de_dados//datasus//cnes//datasus_ftp\\2020\\base_de_dados_cnes_202003\\tbGrupoEquipe202003.parquet.gzip\n",
      "Saved as Parquet: I://base_de_dados//datasus//cnes//datasus_ftp\\2020\\base_de_dados_cnes_202003\\tbHemoterapia202003.parquet.gzip\n",
      "Saved as Parquet: I://base_de_dados//datasus//cnes//datasus_ftp\\2020\\base_de_dados_cnes_202003\\tbIncentivos202003.parquet.gzip\n",
      "Saved as Parquet: I://base_de_dados//datasus//cnes//datasus_ftp\\2020\\base_de_dados_cnes_202003\\tbInstalFisicaParaAssist202003.parquet.gzip\n",
      "Saved as Parquet: I://base_de_dados//datasus//cnes//datasus_ftp\\2020\\base_de_dados_cnes_202003\\tbInstituicaoAvaliadora202003.parquet.gzip\n",
      "Saved as Parquet: I://base_de_dados//datasus//cnes//datasus_ftp\\2020\\base_de_dados_cnes_202003\\tbLeito202003.parquet.gzip\n",
      "Saved as Parquet: I://base_de_dados//datasus//cnes//datasus_ftp\\2020\\base_de_dados_cnes_202003\\tbMantenedora202003.parquet.gzip\n",
      "Saved as Parquet: I://base_de_dados//datasus//cnes//datasus_ftp\\2020\\base_de_dados_cnes_202003\\tbModVinculo202003.parquet.gzip\n",
      "Saved as Parquet: I://base_de_dados//datasus//cnes//datasus_ftp\\2020\\base_de_dados_cnes_202003\\tbMotivoDesativacao202003.parquet.gzip\n",
      "Saved as Parquet: I://base_de_dados//datasus//cnes//datasus_ftp\\2020\\base_de_dados_cnes_202003\\tbMotivoDesativEquipe202003.parquet.gzip\n",
      "Saved as Parquet: I://base_de_dados//datasus//cnes//datasus_ftp\\2020\\base_de_dados_cnes_202003\\tbMunicipio202003.parquet.gzip\n",
      "Saved as Parquet: I://base_de_dados//datasus//cnes//datasus_ftp\\2020\\base_de_dados_cnes_202003\\tbNaturezaJuridica202003.parquet.gzip\n",
      "Saved as Parquet: I://base_de_dados//datasus//cnes//datasus_ftp\\2020\\base_de_dados_cnes_202003\\tbOrgaoEmissor202003.parquet.gzip\n",
      "Saved as Parquet: I://base_de_dados//datasus//cnes//datasus_ftp\\2020\\base_de_dados_cnes_202003\\tbPoloBase202003.parquet.gzip\n",
      "Saved as Parquet: I://base_de_dados//datasus//cnes//datasus_ftp\\2020\\base_de_dados_cnes_202003\\tbProfResidencia202003.parquet.gzip\n",
      "Saved as Parquet: I://base_de_dados//datasus//cnes//datasus_ftp\\2020\\base_de_dados_cnes_202003\\tbQuimioRadio202003.parquet.gzip\n",
      "Saved as Parquet: I://base_de_dados//datasus//cnes//datasus_ftp\\2020\\base_de_dados_cnes_202003\\tbResidenciaMed202003.parquet.gzip\n",
      "Saved as Parquet: I://base_de_dados//datasus//cnes//datasus_ftp\\2020\\base_de_dados_cnes_202003\\tbSegmento202003.parquet.gzip\n",
      "Saved as Parquet: I://base_de_dados//datasus//cnes//datasus_ftp\\2020\\base_de_dados_cnes_202003\\tbServicoApoio202003.parquet.gzip\n",
      "Saved as Parquet: I://base_de_dados//datasus//cnes//datasus_ftp\\2020\\base_de_dados_cnes_202003\\tbServicoEspecializado202003.parquet.gzip\n",
      "Saved as Parquet: I://base_de_dados//datasus//cnes//datasus_ftp\\2020\\base_de_dados_cnes_202003\\tbServicoReferenciado202003.parquet.gzip\n",
      "Saved as Parquet: I://base_de_dados//datasus//cnes//datasus_ftp\\2020\\base_de_dados_cnes_202003\\tbSubGruposHabilitacao202003.parquet.gzip\n",
      "Saved as Parquet: I://base_de_dados//datasus//cnes//datasus_ftp\\2020\\base_de_dados_cnes_202003\\tbSubTipo202003.parquet.gzip\n",
      "Saved as Parquet: I://base_de_dados//datasus//cnes//datasus_ftp\\2020\\base_de_dados_cnes_202003\\tbSubTipoEquipe202003.parquet.gzip\n",
      "Saved as Parquet: I://base_de_dados//datasus//cnes//datasus_ftp\\2020\\base_de_dados_cnes_202003\\tbSubtipoInstalacao202003.parquet.gzip\n",
      "Saved as Parquet: I://base_de_dados//datasus//cnes//datasus_ftp\\2020\\base_de_dados_cnes_202003\\tbSubTpModVinculo202003.parquet.gzip\n",
      "Saved as Parquet: I://base_de_dados//datasus//cnes//datasus_ftp\\2020\\base_de_dados_cnes_202003\\tbTipoCertidao202003.parquet.gzip\n",
      "Saved as Parquet: I://base_de_dados//datasus//cnes//datasus_ftp\\2020\\base_de_dados_cnes_202003\\tbTipoCgDifer202003.parquet.gzip\n",
      "Saved as Parquet: I://base_de_dados//datasus//cnes//datasus_ftp\\2020\\base_de_dados_cnes_202003\\tbTipoEqSubTipo202003.parquet.gzip\n",
      "Saved as Parquet: I://base_de_dados//datasus//cnes//datasus_ftp\\2020\\base_de_dados_cnes_202003\\tbTipoEquipamento202003.parquet.gzip\n",
      "Saved as Parquet: I://base_de_dados//datasus//cnes//datasus_ftp\\2020\\base_de_dados_cnes_202003\\tbTipoEquipe202003.parquet.gzip\n",
      "Saved as Parquet: I://base_de_dados//datasus//cnes//datasus_ftp\\2020\\base_de_dados_cnes_202003\\tbTipoEscolaridade202003.parquet.gzip\n",
      "Saved as Parquet: I://base_de_dados//datasus//cnes//datasus_ftp\\2020\\base_de_dados_cnes_202003\\tbTipoEstabelecimento202003.parquet.gzip\n",
      "Saved as Parquet: I://base_de_dados//datasus//cnes//datasus_ftp\\2020\\base_de_dados_cnes_202003\\tbTipoInstalacaoFisica202003.parquet.gzip\n",
      "Saved as Parquet: I://base_de_dados//datasus//cnes//datasus_ftp\\2020\\base_de_dados_cnes_202003\\tbTipoServicoReferenciado202003.parquet.gzip\n",
      "Saved as Parquet: I://base_de_dados//datasus//cnes//datasus_ftp\\2020\\base_de_dados_cnes_202003\\tbTipoUnidade202003.parquet.gzip\n",
      "Saved as Parquet: I://base_de_dados//datasus//cnes//datasus_ftp\\2020\\base_de_dados_cnes_202003\\tbTpModVinculo202003.parquet.gzip\n",
      "Saved as Parquet: I://base_de_dados//datasus//cnes//datasus_ftp\\2020\\base_de_dados_cnes_202003\\tbTurnoAtendimento202003.parquet.gzip\n",
      "Month Folder: base_de_dados_cnes_202004\n",
      "Saved as Parquet: I://base_de_dados//datasus//cnes//datasus_ftp\\2020\\base_de_dados_cnes_202004\\rlAdmGerenciaCnes202004.parquet.gzip\n",
      "Saved as Parquet: I://base_de_dados//datasus//cnes//datasus_ftp\\2020\\base_de_dados_cnes_202004\\rlAtividadeObrigatoria202004.parquet.gzip\n",
      "Saved as Parquet: I://base_de_dados//datasus//cnes//datasus_ftp\\2020\\base_de_dados_cnes_202004\\rlCooperativa202004.parquet.gzip\n",
      "Saved as Parquet: I://base_de_dados//datasus//cnes//datasus_ftp\\2020\\base_de_dados_cnes_202004\\rlEquipeAldeia202004.parquet.gzip\n",
      "Saved as Parquet: I://base_de_dados//datasus//cnes//datasus_ftp\\2020\\base_de_dados_cnes_202004\\rlEquipeNasfEsf202004.parquet.gzip\n"
     ]
    },
    {
     "name": "stderr",
     "output_type": "stream",
     "text": [
      "C:\\Users\\erick\\AppData\\Local\\Temp\\ipykernel_18324\\463220216.py:31: DtypeWarning: Columns (0) have mixed types. Specify dtype option on import or set low_memory=False.\n",
      "  df = pd.read_csv(csv_path, sep=';')\n"
     ]
    },
    {
     "name": "stdout",
     "output_type": "stream",
     "text": [
      "Saved as Parquet: I://base_de_dados//datasus//cnes//datasus_ftp\\2020\\base_de_dados_cnes_202004\\rlEstabAtendPrestConv202004.parquet.gzip\n",
      "Saved as Parquet: I://base_de_dados//datasus//cnes//datasus_ftp\\2020\\base_de_dados_cnes_202004\\rlEstabAtenPsico202004.parquet.gzip\n",
      "Saved as Parquet: I://base_de_dados//datasus//cnes//datasus_ftp\\2020\\base_de_dados_cnes_202004\\rlEstabAvaliacao202004.parquet.gzip\n",
      "Saved as Parquet: I://base_de_dados//datasus//cnes//datasus_ftp\\2020\\base_de_dados_cnes_202004\\rlEstabCentralReg202004.parquet.gzip\n",
      "Saved as Parquet: I://base_de_dados//datasus//cnes//datasus_ftp\\2020\\base_de_dados_cnes_202004\\rlEstabColetaSelRejeito202004.parquet.gzip\n",
      "Saved as Parquet: I://base_de_dados//datasus//cnes//datasus_ftp\\2020\\base_de_dados_cnes_202004\\rlEstabComissaoOutro202004.parquet.gzip\n",
      "Saved as Parquet: I://base_de_dados//datasus//cnes//datasus_ftp\\2020\\base_de_dados_cnes_202004\\rlEstabComplementar202004.parquet.gzip\n",
      "Saved as Parquet: I://base_de_dados//datasus//cnes//datasus_ftp\\2020\\base_de_dados_cnes_202004\\rlEstabEndCompl202004.parquet.gzip\n",
      "Saved as Parquet: I://base_de_dados//datasus//cnes//datasus_ftp\\2020\\base_de_dados_cnes_202004\\rlEstabEqpEmbarcacao202004.parquet.gzip\n",
      "Saved as Parquet: I://base_de_dados//datasus//cnes//datasus_ftp\\2020\\base_de_dados_cnes_202004\\rlEstabEqpUnidApoio202004.parquet.gzip\n"
     ]
    },
    {
     "name": "stderr",
     "output_type": "stream",
     "text": [
      "C:\\Users\\erick\\AppData\\Local\\Temp\\ipykernel_18324\\463220216.py:31: DtypeWarning: Columns (0) have mixed types. Specify dtype option on import or set low_memory=False.\n",
      "  df = pd.read_csv(csv_path, sep=';')\n"
     ]
    },
    {
     "name": "stdout",
     "output_type": "stream",
     "text": [
      "Saved as Parquet: I://base_de_dados//datasus//cnes//datasus_ftp\\2020\\base_de_dados_cnes_202004\\rlEstabEquipamento202004.parquet.gzip\n",
      "Saved as Parquet: I://base_de_dados//datasus//cnes//datasus_ftp\\2020\\base_de_dados_cnes_202004\\rlEstabEquipeMun202004.parquet.gzip\n"
     ]
    },
    {
     "name": "stderr",
     "output_type": "stream",
     "text": [
      "C:\\Users\\erick\\AppData\\Local\\Temp\\ipykernel_18324\\463220216.py:31: DtypeWarning: Columns (14) have mixed types. Specify dtype option on import or set low_memory=False.\n",
      "  df = pd.read_csv(csv_path, sep=';')\n"
     ]
    },
    {
     "name": "stdout",
     "output_type": "stream",
     "text": [
      "Saved as Parquet: I://base_de_dados//datasus//cnes//datasus_ftp\\2020\\base_de_dados_cnes_202004\\rlEstabEquipeProf202004.parquet.gzip\n",
      "Saved as Parquet: I://base_de_dados//datasus//cnes//datasus_ftp\\2020\\base_de_dados_cnes_202004\\rlEstabInstFisiAssist202004.parquet.gzip\n",
      "Saved as Parquet: I://base_de_dados//datasus//cnes//datasus_ftp\\2020\\base_de_dados_cnes_202004\\rlEstabOrgParc202004.parquet.gzip\n",
      "Saved as Parquet: I://base_de_dados//datasus//cnes//datasus_ftp\\2020\\base_de_dados_cnes_202004\\rlEstabPoloAldeia202004.parquet.gzip\n",
      "Saved as Parquet: I://base_de_dados//datasus//cnes//datasus_ftp\\2020\\base_de_dados_cnes_202004\\rlEstabProfComissao202004.parquet.gzip\n",
      "Saved as Parquet: I://base_de_dados//datasus//cnes//datasus_ftp\\2020\\base_de_dados_cnes_202004\\rlEstabProgFundo202004.parquet.gzip\n",
      "Saved as Parquet: I://base_de_dados//datasus//cnes//datasus_ftp\\2020\\base_de_dados_cnes_202004\\rlEstabRegimeRes202004.parquet.gzip\n",
      "Saved as Parquet: I://base_de_dados//datasus//cnes//datasus_ftp\\2020\\base_de_dados_cnes_202004\\rlEstabRepresentante202004.parquet.gzip\n",
      "Saved as Parquet: I://base_de_dados//datasus//cnes//datasus_ftp\\2020\\base_de_dados_cnes_202004\\rlEstabSamu202004.parquet.gzip\n"
     ]
    },
    {
     "name": "stderr",
     "output_type": "stream",
     "text": [
      "C:\\Users\\erick\\AppData\\Local\\Temp\\ipykernel_18324\\463220216.py:31: DtypeWarning: Columns (0,10) have mixed types. Specify dtype option on import or set low_memory=False.\n",
      "  df = pd.read_csv(csv_path, sep=';')\n"
     ]
    },
    {
     "name": "stdout",
     "output_type": "stream",
     "text": [
      "Saved as Parquet: I://base_de_dados//datasus//cnes//datasus_ftp\\2020\\base_de_dados_cnes_202004\\rlEstabServClass202004.parquet.gzip\n"
     ]
    },
    {
     "name": "stderr",
     "output_type": "stream",
     "text": [
      "C:\\Users\\erick\\AppData\\Local\\Temp\\ipykernel_18324\\463220216.py:31: DtypeWarning: Columns (2) have mixed types. Specify dtype option on import or set low_memory=False.\n",
      "  df = pd.read_csv(csv_path, sep=';')\n"
     ]
    },
    {
     "name": "stdout",
     "output_type": "stream",
     "text": [
      "Saved as Parquet: I://base_de_dados//datasus//cnes//datasus_ftp\\2020\\base_de_dados_cnes_202004\\rlEstabServicoApoio202004.parquet.gzip\n",
      "Saved as Parquet: I://base_de_dados//datasus//cnes//datasus_ftp\\2020\\base_de_dados_cnes_202004\\rlEstabSipac202004.parquet.gzip\n",
      "Saved as Parquet: I://base_de_dados//datasus//cnes//datasus_ftp\\2020\\base_de_dados_cnes_202004\\rlEstabSubTipo202004.parquet.gzip\n",
      "Saved as Parquet: I://base_de_dados//datasus//cnes//datasus_ftp\\2020\\base_de_dados_cnes_202004\\rlEstabTeleCnes202004.parquet.gzip\n",
      "Saved as Parquet: I://base_de_dados//datasus//cnes//datasus_ftp\\2020\\base_de_dados_cnes_202004\\rlEstabUnidAcolhim202004.parquet.gzip\n",
      "Saved as Parquet: I://base_de_dados//datasus//cnes//datasus_ftp\\2020\\base_de_dados_cnes_202004\\rlMunAtenPsico202004.parquet.gzip\n",
      "Saved as Parquet: I://base_de_dados//datasus//cnes//datasus_ftp\\2020\\base_de_dados_cnes_202004\\rlMunRegimeRes202004.parquet.gzip\n",
      "Saved as Parquet: I://base_de_dados//datasus//cnes//datasus_ftp\\2020\\base_de_dados_cnes_202004\\rlMunUnidAcolhim202004.parquet.gzip\n",
      "Saved as Parquet: I://base_de_dados//datasus//cnes//datasus_ftp\\2020\\base_de_dados_cnes_202004\\rlNasfEsf202004.parquet.gzip\n",
      "Saved as Parquet: I://base_de_dados//datasus//cnes//datasus_ftp\\2020\\base_de_dados_cnes_202004\\rlTipoEstabAtividade202004.parquet.gzip\n",
      "Saved as Parquet: I://base_de_dados//datasus//cnes//datasus_ftp\\2020\\base_de_dados_cnes_202004\\tbAldeia202004.parquet.gzip\n",
      "Saved as Parquet: I://base_de_dados//datasus//cnes//datasus_ftp\\2020\\base_de_dados_cnes_202004\\tbArea202004.parquet.gzip\n",
      "Saved as Parquet: I://base_de_dados//datasus//cnes//datasus_ftp\\2020\\base_de_dados_cnes_202004\\tbAtendimentoPrestado202004.parquet.gzip\n",
      "Saved as Parquet: I://base_de_dados//datasus//cnes//datasus_ftp\\2020\\base_de_dados_cnes_202004\\tbAtividade202004.parquet.gzip\n",
      "Saved as Parquet: I://base_de_dados//datasus//cnes//datasus_ftp\\2020\\base_de_dados_cnes_202004\\tbAtividadeEnsino202004.parquet.gzip\n",
      "Saved as Parquet: I://base_de_dados//datasus//cnes//datasus_ftp\\2020\\base_de_dados_cnes_202004\\tbAtividadeProfissional202004.parquet.gzip\n",
      "Saved as Parquet: I://base_de_dados//datasus//cnes//datasus_ftp\\2020\\base_de_dados_cnes_202004\\tbAtributo202004.parquet.gzip\n",
      "Saved as Parquet: I://base_de_dados//datasus//cnes//datasus_ftp\\2020\\base_de_dados_cnes_202004\\tbAvaliacao202004.parquet.gzip\n",
      "Saved as Parquet: I://base_de_dados//datasus//cnes//datasus_ftp\\2020\\base_de_dados_cnes_202004\\tbBanco202004.parquet.gzip\n"
     ]
    },
    {
     "name": "stderr",
     "output_type": "stream",
     "text": [
      "C:\\Users\\erick\\AppData\\Local\\Temp\\ipykernel_18324\\463220216.py:31: DtypeWarning: Columns (0,12) have mixed types. Specify dtype option on import or set low_memory=False.\n",
      "  df = pd.read_csv(csv_path, sep=';')\n"
     ]
    },
    {
     "name": "stdout",
     "output_type": "stream",
     "text": [
      "Saved as Parquet: I://base_de_dados//datasus//cnes//datasus_ftp\\2020\\base_de_dados_cnes_202004\\tbCargaHorariaSus202004.parquet.gzip\n",
      "Saved as Parquet: I://base_de_dados//datasus//cnes//datasus_ftp\\2020\\base_de_dados_cnes_202004\\tbClassificacaoAval202004.parquet.gzip\n",
      "Saved as Parquet: I://base_de_dados//datasus//cnes//datasus_ftp\\2020\\base_de_dados_cnes_202004\\tbClassificacaoServico202004.parquet.gzip\n",
      "Saved as Parquet: I://base_de_dados//datasus//cnes//datasus_ftp\\2020\\base_de_dados_cnes_202004\\tbColetaSeletivaRejeito202004.parquet.gzip\n",
      "Saved as Parquet: I://base_de_dados//datasus//cnes//datasus_ftp\\2020\\base_de_dados_cnes_202004\\tbComissaoOutro202004.parquet.gzip\n",
      "Saved as Parquet: I://base_de_dados//datasus//cnes//datasus_ftp\\2020\\base_de_dados_cnes_202004\\tbConselhoClasse202004.parquet.gzip\n",
      "Saved as Parquet: I://base_de_dados//datasus//cnes//datasus_ftp\\2020\\base_de_dados_cnes_202004\\tbConvenio202004.parquet.gzip\n"
     ]
    },
    {
     "name": "stderr",
     "output_type": "stream",
     "text": [
      "C:\\Users\\erick\\AppData\\Local\\Temp\\ipykernel_18324\\463220216.py:31: DtypeWarning: Columns (9) have mixed types. Specify dtype option on import or set low_memory=False.\n",
      "  df = pd.read_csv(csv_path, sep=';')\n"
     ]
    },
    {
     "name": "stdout",
     "output_type": "stream",
     "text": [
      "Saved as Parquet: I://base_de_dados//datasus//cnes//datasus_ftp\\2020\\base_de_dados_cnes_202004\\tbDadosProfissionalSus202004.parquet.gzip\n",
      "Saved as Parquet: I://base_de_dados//datasus//cnes//datasus_ftp\\2020\\base_de_dados_cnes_202004\\tbDialise202004.parquet.gzip\n",
      "Saved as Parquet: I://base_de_dados//datasus//cnes//datasus_ftp\\2020\\base_de_dados_cnes_202004\\tbDsei202004.parquet.gzip\n",
      "Saved as Parquet: I://base_de_dados//datasus//cnes//datasus_ftp\\2020\\base_de_dados_cnes_202004\\tbEquipamento202004.parquet.gzip\n",
      "Saved as Parquet: I://base_de_dados//datasus//cnes//datasus_ftp\\2020\\base_de_dados_cnes_202004\\tbEquipe202004.parquet.gzip\n",
      "Saved as Parquet: I://base_de_dados//datasus//cnes//datasus_ftp\\2020\\base_de_dados_cnes_202004\\tbEquipeAtendCompl202004.parquet.gzip\n",
      "Saved as Parquet: I://base_de_dados//datasus//cnes//datasus_ftp\\2020\\base_de_dados_cnes_202004\\tbEquipeChDifer202004.parquet.gzip\n",
      "Saved as Parquet: I://base_de_dados//datasus//cnes//datasus_ftp\\2020\\base_de_dados_cnes_202004\\tbEstabAtivSecundaria202004.parquet.gzip\n",
      "Saved as Parquet: I://base_de_dados//datasus//cnes//datasus_ftp\\2020\\base_de_dados_cnes_202004\\tbEstabContrato202004.parquet.gzip\n"
     ]
    },
    {
     "name": "stderr",
     "output_type": "stream",
     "text": [
      "C:\\Users\\erick\\AppData\\Local\\Temp\\ipykernel_18324\\463220216.py:31: DtypeWarning: Columns (0,14,36,45) have mixed types. Specify dtype option on import or set low_memory=False.\n",
      "  df = pd.read_csv(csv_path, sep=';')\n"
     ]
    },
    {
     "name": "stdout",
     "output_type": "stream",
     "text": [
      "Saved as Parquet: I://base_de_dados//datasus//cnes//datasus_ftp\\2020\\base_de_dados_cnes_202004\\tbEstabelecimento202004.parquet.gzip\n",
      "Saved as Parquet: I://base_de_dados//datasus//cnes//datasus_ftp\\2020\\base_de_dados_cnes_202004\\tbEstabHorarioAtend202004.parquet.gzip\n",
      "Saved as Parquet: I://base_de_dados//datasus//cnes//datasus_ftp\\2020\\base_de_dados_cnes_202004\\tbEstado202004.parquet.gzip\n",
      "Saved as Parquet: I://base_de_dados//datasus//cnes//datasus_ftp\\2020\\base_de_dados_cnes_202004\\tbEtnia202004.parquet.gzip\n",
      "Saved as Parquet: I://base_de_dados//datasus//cnes//datasus_ftp\\2020\\base_de_dados_cnes_202004\\tbFluxoDadosClientela202004.parquet.gzip\n",
      "Saved as Parquet: I://base_de_dados//datasus//cnes//datasus_ftp\\2020\\base_de_dados_cnes_202004\\tbGestao202004.parquet.gzip\n",
      "Saved as Parquet: I://base_de_dados//datasus//cnes//datasus_ftp\\2020\\base_de_dados_cnes_202004\\tbGrupoAtividade202004.parquet.gzip\n",
      "Saved as Parquet: I://base_de_dados//datasus//cnes//datasus_ftp\\2020\\base_de_dados_cnes_202004\\tbGrupoEquipe202004.parquet.gzip\n",
      "Saved as Parquet: I://base_de_dados//datasus//cnes//datasus_ftp\\2020\\base_de_dados_cnes_202004\\tbHemoterapia202004.parquet.gzip\n",
      "Saved as Parquet: I://base_de_dados//datasus//cnes//datasus_ftp\\2020\\base_de_dados_cnes_202004\\tbIncentivos202004.parquet.gzip\n",
      "Saved as Parquet: I://base_de_dados//datasus//cnes//datasus_ftp\\2020\\base_de_dados_cnes_202004\\tbInstalFisicaParaAssist202004.parquet.gzip\n",
      "Saved as Parquet: I://base_de_dados//datasus//cnes//datasus_ftp\\2020\\base_de_dados_cnes_202004\\tbInstituicaoAvaliadora202004.parquet.gzip\n",
      "Saved as Parquet: I://base_de_dados//datasus//cnes//datasus_ftp\\2020\\base_de_dados_cnes_202004\\tbLeito202004.parquet.gzip\n",
      "Saved as Parquet: I://base_de_dados//datasus//cnes//datasus_ftp\\2020\\base_de_dados_cnes_202004\\tbMantenedora202004.parquet.gzip\n",
      "Saved as Parquet: I://base_de_dados//datasus//cnes//datasus_ftp\\2020\\base_de_dados_cnes_202004\\tbModVinculo202004.parquet.gzip\n",
      "Saved as Parquet: I://base_de_dados//datasus//cnes//datasus_ftp\\2020\\base_de_dados_cnes_202004\\tbMotivoDesativacao202004.parquet.gzip\n",
      "Saved as Parquet: I://base_de_dados//datasus//cnes//datasus_ftp\\2020\\base_de_dados_cnes_202004\\tbMotivoDesativEquipe202004.parquet.gzip\n",
      "Saved as Parquet: I://base_de_dados//datasus//cnes//datasus_ftp\\2020\\base_de_dados_cnes_202004\\tbMunicipio202004.parquet.gzip\n",
      "Saved as Parquet: I://base_de_dados//datasus//cnes//datasus_ftp\\2020\\base_de_dados_cnes_202004\\tbNaturezaJuridica202004.parquet.gzip\n",
      "Saved as Parquet: I://base_de_dados//datasus//cnes//datasus_ftp\\2020\\base_de_dados_cnes_202004\\tbOrgaoEmissor202004.parquet.gzip\n",
      "Saved as Parquet: I://base_de_dados//datasus//cnes//datasus_ftp\\2020\\base_de_dados_cnes_202004\\tbPoloBase202004.parquet.gzip\n",
      "Saved as Parquet: I://base_de_dados//datasus//cnes//datasus_ftp\\2020\\base_de_dados_cnes_202004\\tbProfResidencia202004.parquet.gzip\n",
      "Saved as Parquet: I://base_de_dados//datasus//cnes//datasus_ftp\\2020\\base_de_dados_cnes_202004\\tbQuimioRadio202004.parquet.gzip\n",
      "Saved as Parquet: I://base_de_dados//datasus//cnes//datasus_ftp\\2020\\base_de_dados_cnes_202004\\tbResidenciaMed202004.parquet.gzip\n",
      "Saved as Parquet: I://base_de_dados//datasus//cnes//datasus_ftp\\2020\\base_de_dados_cnes_202004\\tbSegmento202004.parquet.gzip\n",
      "Saved as Parquet: I://base_de_dados//datasus//cnes//datasus_ftp\\2020\\base_de_dados_cnes_202004\\tbServicoApoio202004.parquet.gzip\n",
      "Saved as Parquet: I://base_de_dados//datasus//cnes//datasus_ftp\\2020\\base_de_dados_cnes_202004\\tbServicoEspecializado202004.parquet.gzip\n",
      "Saved as Parquet: I://base_de_dados//datasus//cnes//datasus_ftp\\2020\\base_de_dados_cnes_202004\\tbServicoReferenciado202004.parquet.gzip\n",
      "Saved as Parquet: I://base_de_dados//datasus//cnes//datasus_ftp\\2020\\base_de_dados_cnes_202004\\tbSubGruposHabilitacao202004.parquet.gzip\n",
      "Saved as Parquet: I://base_de_dados//datasus//cnes//datasus_ftp\\2020\\base_de_dados_cnes_202004\\tbSubTipo202004.parquet.gzip\n",
      "Saved as Parquet: I://base_de_dados//datasus//cnes//datasus_ftp\\2020\\base_de_dados_cnes_202004\\tbSubTipoEquipe202004.parquet.gzip\n",
      "Saved as Parquet: I://base_de_dados//datasus//cnes//datasus_ftp\\2020\\base_de_dados_cnes_202004\\tbSubtipoInstalacao202004.parquet.gzip\n",
      "Saved as Parquet: I://base_de_dados//datasus//cnes//datasus_ftp\\2020\\base_de_dados_cnes_202004\\tbSubTpModVinculo202004.parquet.gzip\n",
      "Saved as Parquet: I://base_de_dados//datasus//cnes//datasus_ftp\\2020\\base_de_dados_cnes_202004\\tbTipoCertidao202004.parquet.gzip\n",
      "Saved as Parquet: I://base_de_dados//datasus//cnes//datasus_ftp\\2020\\base_de_dados_cnes_202004\\tbTipoCgDifer202004.parquet.gzip\n",
      "Saved as Parquet: I://base_de_dados//datasus//cnes//datasus_ftp\\2020\\base_de_dados_cnes_202004\\tbTipoEqSubTipo202004.parquet.gzip\n",
      "Saved as Parquet: I://base_de_dados//datasus//cnes//datasus_ftp\\2020\\base_de_dados_cnes_202004\\tbTipoEquipamento202004.parquet.gzip\n",
      "Saved as Parquet: I://base_de_dados//datasus//cnes//datasus_ftp\\2020\\base_de_dados_cnes_202004\\tbTipoEquipe202004.parquet.gzip\n",
      "Saved as Parquet: I://base_de_dados//datasus//cnes//datasus_ftp\\2020\\base_de_dados_cnes_202004\\tbTipoEscolaridade202004.parquet.gzip\n",
      "Saved as Parquet: I://base_de_dados//datasus//cnes//datasus_ftp\\2020\\base_de_dados_cnes_202004\\tbTipoEstabelecimento202004.parquet.gzip\n",
      "Saved as Parquet: I://base_de_dados//datasus//cnes//datasus_ftp\\2020\\base_de_dados_cnes_202004\\tbTipoInstalacaoFisica202004.parquet.gzip\n",
      "Saved as Parquet: I://base_de_dados//datasus//cnes//datasus_ftp\\2020\\base_de_dados_cnes_202004\\tbTipoServicoReferenciado202004.parquet.gzip\n",
      "Saved as Parquet: I://base_de_dados//datasus//cnes//datasus_ftp\\2020\\base_de_dados_cnes_202004\\tbTipoUnidade202004.parquet.gzip\n",
      "Saved as Parquet: I://base_de_dados//datasus//cnes//datasus_ftp\\2020\\base_de_dados_cnes_202004\\tbTpModVinculo202004.parquet.gzip\n",
      "Saved as Parquet: I://base_de_dados//datasus//cnes//datasus_ftp\\2020\\base_de_dados_cnes_202004\\tbTurnoAtendimento202004.parquet.gzip\n",
      "Month Folder: base_de_dados_cnes_202005\n",
      "Saved as Parquet: I://base_de_dados//datasus//cnes//datasus_ftp\\2020\\base_de_dados_cnes_202005\\rlAdmGerenciaCnes202005.parquet.gzip\n",
      "Saved as Parquet: I://base_de_dados//datasus//cnes//datasus_ftp\\2020\\base_de_dados_cnes_202005\\rlAtividadeObrigatoria202005.parquet.gzip\n",
      "Saved as Parquet: I://base_de_dados//datasus//cnes//datasus_ftp\\2020\\base_de_dados_cnes_202005\\rlCooperativa202005.parquet.gzip\n",
      "Saved as Parquet: I://base_de_dados//datasus//cnes//datasus_ftp\\2020\\base_de_dados_cnes_202005\\rlEquipeAldeia202005.parquet.gzip\n",
      "Saved as Parquet: I://base_de_dados//datasus//cnes//datasus_ftp\\2020\\base_de_dados_cnes_202005\\rlEquipeNasfEsf202005.parquet.gzip\n"
     ]
    },
    {
     "name": "stderr",
     "output_type": "stream",
     "text": [
      "C:\\Users\\erick\\AppData\\Local\\Temp\\ipykernel_18324\\463220216.py:31: DtypeWarning: Columns (0) have mixed types. Specify dtype option on import or set low_memory=False.\n",
      "  df = pd.read_csv(csv_path, sep=';')\n"
     ]
    },
    {
     "name": "stdout",
     "output_type": "stream",
     "text": [
      "Saved as Parquet: I://base_de_dados//datasus//cnes//datasus_ftp\\2020\\base_de_dados_cnes_202005\\rlEstabAtendPrestConv202005.parquet.gzip\n",
      "Saved as Parquet: I://base_de_dados//datasus//cnes//datasus_ftp\\2020\\base_de_dados_cnes_202005\\rlEstabAtenPsico202005.parquet.gzip\n",
      "Saved as Parquet: I://base_de_dados//datasus//cnes//datasus_ftp\\2020\\base_de_dados_cnes_202005\\rlEstabAvaliacao202005.parquet.gzip\n",
      "Saved as Parquet: I://base_de_dados//datasus//cnes//datasus_ftp\\2020\\base_de_dados_cnes_202005\\rlEstabCentralReg202005.parquet.gzip\n",
      "Saved as Parquet: I://base_de_dados//datasus//cnes//datasus_ftp\\2020\\base_de_dados_cnes_202005\\rlEstabColetaSelRejeito202005.parquet.gzip\n",
      "Saved as Parquet: I://base_de_dados//datasus//cnes//datasus_ftp\\2020\\base_de_dados_cnes_202005\\rlEstabComissaoOutro202005.parquet.gzip\n",
      "Saved as Parquet: I://base_de_dados//datasus//cnes//datasus_ftp\\2020\\base_de_dados_cnes_202005\\rlEstabComplementar202005.parquet.gzip\n",
      "Saved as Parquet: I://base_de_dados//datasus//cnes//datasus_ftp\\2020\\base_de_dados_cnes_202005\\rlEstabEndCompl202005.parquet.gzip\n",
      "Saved as Parquet: I://base_de_dados//datasus//cnes//datasus_ftp\\2020\\base_de_dados_cnes_202005\\rlEstabEqpEmbarcacao202005.parquet.gzip\n",
      "Saved as Parquet: I://base_de_dados//datasus//cnes//datasus_ftp\\2020\\base_de_dados_cnes_202005\\rlEstabEqpUnidApoio202005.parquet.gzip\n"
     ]
    },
    {
     "name": "stderr",
     "output_type": "stream",
     "text": [
      "C:\\Users\\erick\\AppData\\Local\\Temp\\ipykernel_18324\\463220216.py:31: DtypeWarning: Columns (0) have mixed types. Specify dtype option on import or set low_memory=False.\n",
      "  df = pd.read_csv(csv_path, sep=';')\n"
     ]
    },
    {
     "name": "stdout",
     "output_type": "stream",
     "text": [
      "Saved as Parquet: I://base_de_dados//datasus//cnes//datasus_ftp\\2020\\base_de_dados_cnes_202005\\rlEstabEquipamento202005.parquet.gzip\n",
      "Saved as Parquet: I://base_de_dados//datasus//cnes//datasus_ftp\\2020\\base_de_dados_cnes_202005\\rlEstabEquipeMun202005.parquet.gzip\n"
     ]
    },
    {
     "name": "stderr",
     "output_type": "stream",
     "text": [
      "C:\\Users\\erick\\AppData\\Local\\Temp\\ipykernel_18324\\463220216.py:31: DtypeWarning: Columns (14) have mixed types. Specify dtype option on import or set low_memory=False.\n",
      "  df = pd.read_csv(csv_path, sep=';')\n"
     ]
    },
    {
     "name": "stdout",
     "output_type": "stream",
     "text": [
      "Saved as Parquet: I://base_de_dados//datasus//cnes//datasus_ftp\\2020\\base_de_dados_cnes_202005\\rlEstabEquipeProf202005.parquet.gzip\n",
      "Saved as Parquet: I://base_de_dados//datasus//cnes//datasus_ftp\\2020\\base_de_dados_cnes_202005\\rlEstabInstFisiAssist202005.parquet.gzip\n",
      "Saved as Parquet: I://base_de_dados//datasus//cnes//datasus_ftp\\2020\\base_de_dados_cnes_202005\\rlEstabOrgParc202005.parquet.gzip\n",
      "Saved as Parquet: I://base_de_dados//datasus//cnes//datasus_ftp\\2020\\base_de_dados_cnes_202005\\rlEstabPoloAldeia202005.parquet.gzip\n",
      "Saved as Parquet: I://base_de_dados//datasus//cnes//datasus_ftp\\2020\\base_de_dados_cnes_202005\\rlEstabProfComissao202005.parquet.gzip\n",
      "Saved as Parquet: I://base_de_dados//datasus//cnes//datasus_ftp\\2020\\base_de_dados_cnes_202005\\rlEstabProgFundo202005.parquet.gzip\n",
      "Saved as Parquet: I://base_de_dados//datasus//cnes//datasus_ftp\\2020\\base_de_dados_cnes_202005\\rlEstabRegimeRes202005.parquet.gzip\n",
      "Saved as Parquet: I://base_de_dados//datasus//cnes//datasus_ftp\\2020\\base_de_dados_cnes_202005\\rlEstabRepresentante202005.parquet.gzip\n",
      "Saved as Parquet: I://base_de_dados//datasus//cnes//datasus_ftp\\2020\\base_de_dados_cnes_202005\\rlEstabSamu202005.parquet.gzip\n"
     ]
    },
    {
     "name": "stderr",
     "output_type": "stream",
     "text": [
      "C:\\Users\\erick\\AppData\\Local\\Temp\\ipykernel_18324\\463220216.py:31: DtypeWarning: Columns (0) have mixed types. Specify dtype option on import or set low_memory=False.\n",
      "  df = pd.read_csv(csv_path, sep=';')\n"
     ]
    },
    {
     "name": "stdout",
     "output_type": "stream",
     "text": [
      "Saved as Parquet: I://base_de_dados//datasus//cnes//datasus_ftp\\2020\\base_de_dados_cnes_202005\\rlEstabServClass202005.parquet.gzip\n"
     ]
    },
    {
     "name": "stderr",
     "output_type": "stream",
     "text": [
      "C:\\Users\\erick\\AppData\\Local\\Temp\\ipykernel_18324\\463220216.py:31: DtypeWarning: Columns (2) have mixed types. Specify dtype option on import or set low_memory=False.\n",
      "  df = pd.read_csv(csv_path, sep=';')\n"
     ]
    },
    {
     "name": "stdout",
     "output_type": "stream",
     "text": [
      "Saved as Parquet: I://base_de_dados//datasus//cnes//datasus_ftp\\2020\\base_de_dados_cnes_202005\\rlEstabServicoApoio202005.parquet.gzip\n",
      "Saved as Parquet: I://base_de_dados//datasus//cnes//datasus_ftp\\2020\\base_de_dados_cnes_202005\\rlEstabSipac202005.parquet.gzip\n",
      "Saved as Parquet: I://base_de_dados//datasus//cnes//datasus_ftp\\2020\\base_de_dados_cnes_202005\\rlEstabSubTipo202005.parquet.gzip\n",
      "Saved as Parquet: I://base_de_dados//datasus//cnes//datasus_ftp\\2020\\base_de_dados_cnes_202005\\rlEstabTeleCnes202005.parquet.gzip\n",
      "Saved as Parquet: I://base_de_dados//datasus//cnes//datasus_ftp\\2020\\base_de_dados_cnes_202005\\rlEstabUnidAcolhim202005.parquet.gzip\n",
      "Saved as Parquet: I://base_de_dados//datasus//cnes//datasus_ftp\\2020\\base_de_dados_cnes_202005\\rlMunAtenPsico202005.parquet.gzip\n",
      "Saved as Parquet: I://base_de_dados//datasus//cnes//datasus_ftp\\2020\\base_de_dados_cnes_202005\\rlMunRegimeRes202005.parquet.gzip\n",
      "Saved as Parquet: I://base_de_dados//datasus//cnes//datasus_ftp\\2020\\base_de_dados_cnes_202005\\rlMunUnidAcolhim202005.parquet.gzip\n",
      "Saved as Parquet: I://base_de_dados//datasus//cnes//datasus_ftp\\2020\\base_de_dados_cnes_202005\\rlNasfEsf202005.parquet.gzip\n",
      "Saved as Parquet: I://base_de_dados//datasus//cnes//datasus_ftp\\2020\\base_de_dados_cnes_202005\\rlTipoEstabAtividade202005.parquet.gzip\n",
      "Saved as Parquet: I://base_de_dados//datasus//cnes//datasus_ftp\\2020\\base_de_dados_cnes_202005\\tbAldeia202005.parquet.gzip\n",
      "Saved as Parquet: I://base_de_dados//datasus//cnes//datasus_ftp\\2020\\base_de_dados_cnes_202005\\tbArea202005.parquet.gzip\n",
      "Saved as Parquet: I://base_de_dados//datasus//cnes//datasus_ftp\\2020\\base_de_dados_cnes_202005\\tbAtendimentoPrestado202005.parquet.gzip\n",
      "Saved as Parquet: I://base_de_dados//datasus//cnes//datasus_ftp\\2020\\base_de_dados_cnes_202005\\tbAtividade202005.parquet.gzip\n",
      "Saved as Parquet: I://base_de_dados//datasus//cnes//datasus_ftp\\2020\\base_de_dados_cnes_202005\\tbAtividadeEnsino202005.parquet.gzip\n",
      "Saved as Parquet: I://base_de_dados//datasus//cnes//datasus_ftp\\2020\\base_de_dados_cnes_202005\\tbAtividadeProfissional202005.parquet.gzip\n",
      "Saved as Parquet: I://base_de_dados//datasus//cnes//datasus_ftp\\2020\\base_de_dados_cnes_202005\\tbAtributo202005.parquet.gzip\n",
      "Saved as Parquet: I://base_de_dados//datasus//cnes//datasus_ftp\\2020\\base_de_dados_cnes_202005\\tbAvaliacao202005.parquet.gzip\n",
      "Saved as Parquet: I://base_de_dados//datasus//cnes//datasus_ftp\\2020\\base_de_dados_cnes_202005\\tbBanco202005.parquet.gzip\n"
     ]
    },
    {
     "name": "stderr",
     "output_type": "stream",
     "text": [
      "C:\\Users\\erick\\AppData\\Local\\Temp\\ipykernel_18324\\463220216.py:31: DtypeWarning: Columns (0,12) have mixed types. Specify dtype option on import or set low_memory=False.\n",
      "  df = pd.read_csv(csv_path, sep=';')\n"
     ]
    },
    {
     "name": "stdout",
     "output_type": "stream",
     "text": [
      "Saved as Parquet: I://base_de_dados//datasus//cnes//datasus_ftp\\2020\\base_de_dados_cnes_202005\\tbCargaHorariaSus202005.parquet.gzip\n",
      "Saved as Parquet: I://base_de_dados//datasus//cnes//datasus_ftp\\2020\\base_de_dados_cnes_202005\\tbClassificacaoAval202005.parquet.gzip\n",
      "Saved as Parquet: I://base_de_dados//datasus//cnes//datasus_ftp\\2020\\base_de_dados_cnes_202005\\tbClassificacaoServico202005.parquet.gzip\n",
      "Saved as Parquet: I://base_de_dados//datasus//cnes//datasus_ftp\\2020\\base_de_dados_cnes_202005\\tbColetaSeletivaRejeito202005.parquet.gzip\n",
      "Saved as Parquet: I://base_de_dados//datasus//cnes//datasus_ftp\\2020\\base_de_dados_cnes_202005\\tbComissaoOutro202005.parquet.gzip\n",
      "Saved as Parquet: I://base_de_dados//datasus//cnes//datasus_ftp\\2020\\base_de_dados_cnes_202005\\tbConselhoClasse202005.parquet.gzip\n",
      "Saved as Parquet: I://base_de_dados//datasus//cnes//datasus_ftp\\2020\\base_de_dados_cnes_202005\\tbConvenio202005.parquet.gzip\n",
      "Saved as Parquet: I://base_de_dados//datasus//cnes//datasus_ftp\\2020\\base_de_dados_cnes_202005\\tbDadosProfissionalSus202005.parquet.gzip\n",
      "Saved as Parquet: I://base_de_dados//datasus//cnes//datasus_ftp\\2020\\base_de_dados_cnes_202005\\tbDialise202005.parquet.gzip\n",
      "Saved as Parquet: I://base_de_dados//datasus//cnes//datasus_ftp\\2020\\base_de_dados_cnes_202005\\tbDsei202005.parquet.gzip\n",
      "Saved as Parquet: I://base_de_dados//datasus//cnes//datasus_ftp\\2020\\base_de_dados_cnes_202005\\tbEquipamento202005.parquet.gzip\n",
      "Saved as Parquet: I://base_de_dados//datasus//cnes//datasus_ftp\\2020\\base_de_dados_cnes_202005\\tbEquipe202005.parquet.gzip\n",
      "Saved as Parquet: I://base_de_dados//datasus//cnes//datasus_ftp\\2020\\base_de_dados_cnes_202005\\tbEquipeAtendCompl202005.parquet.gzip\n",
      "Saved as Parquet: I://base_de_dados//datasus//cnes//datasus_ftp\\2020\\base_de_dados_cnes_202005\\tbEquipeChDifer202005.parquet.gzip\n",
      "Saved as Parquet: I://base_de_dados//datasus//cnes//datasus_ftp\\2020\\base_de_dados_cnes_202005\\tbEstabAtivSecundaria202005.parquet.gzip\n",
      "Saved as Parquet: I://base_de_dados//datasus//cnes//datasus_ftp\\2020\\base_de_dados_cnes_202005\\tbEstabContrato202005.parquet.gzip\n"
     ]
    },
    {
     "name": "stderr",
     "output_type": "stream",
     "text": [
      "C:\\Users\\erick\\AppData\\Local\\Temp\\ipykernel_18324\\463220216.py:31: DtypeWarning: Columns (0,36,45) have mixed types. Specify dtype option on import or set low_memory=False.\n",
      "  df = pd.read_csv(csv_path, sep=';')\n"
     ]
    },
    {
     "name": "stdout",
     "output_type": "stream",
     "text": [
      "Saved as Parquet: I://base_de_dados//datasus//cnes//datasus_ftp\\2020\\base_de_dados_cnes_202005\\tbEstabelecimento202005.parquet.gzip\n",
      "Saved as Parquet: I://base_de_dados//datasus//cnes//datasus_ftp\\2020\\base_de_dados_cnes_202005\\tbEstabHorarioAtend202005.parquet.gzip\n",
      "Saved as Parquet: I://base_de_dados//datasus//cnes//datasus_ftp\\2020\\base_de_dados_cnes_202005\\tbEstado202005.parquet.gzip\n",
      "Saved as Parquet: I://base_de_dados//datasus//cnes//datasus_ftp\\2020\\base_de_dados_cnes_202005\\tbEtnia202005.parquet.gzip\n",
      "Saved as Parquet: I://base_de_dados//datasus//cnes//datasus_ftp\\2020\\base_de_dados_cnes_202005\\tbFluxoDadosClientela202005.parquet.gzip\n",
      "Saved as Parquet: I://base_de_dados//datasus//cnes//datasus_ftp\\2020\\base_de_dados_cnes_202005\\tbGestao202005.parquet.gzip\n",
      "Saved as Parquet: I://base_de_dados//datasus//cnes//datasus_ftp\\2020\\base_de_dados_cnes_202005\\tbGrupoAtividade202005.parquet.gzip\n",
      "Saved as Parquet: I://base_de_dados//datasus//cnes//datasus_ftp\\2020\\base_de_dados_cnes_202005\\tbGrupoEquipe202005.parquet.gzip\n",
      "Saved as Parquet: I://base_de_dados//datasus//cnes//datasus_ftp\\2020\\base_de_dados_cnes_202005\\tbHemoterapia202005.parquet.gzip\n",
      "Saved as Parquet: I://base_de_dados//datasus//cnes//datasus_ftp\\2020\\base_de_dados_cnes_202005\\tbIncentivos202005.parquet.gzip\n",
      "Saved as Parquet: I://base_de_dados//datasus//cnes//datasus_ftp\\2020\\base_de_dados_cnes_202005\\tbInstalFisicaParaAssist202005.parquet.gzip\n",
      "Saved as Parquet: I://base_de_dados//datasus//cnes//datasus_ftp\\2020\\base_de_dados_cnes_202005\\tbInstituicaoAvaliadora202005.parquet.gzip\n",
      "Saved as Parquet: I://base_de_dados//datasus//cnes//datasus_ftp\\2020\\base_de_dados_cnes_202005\\tbLeito202005.parquet.gzip\n",
      "Saved as Parquet: I://base_de_dados//datasus//cnes//datasus_ftp\\2020\\base_de_dados_cnes_202005\\tbMantenedora202005.parquet.gzip\n",
      "Saved as Parquet: I://base_de_dados//datasus//cnes//datasus_ftp\\2020\\base_de_dados_cnes_202005\\tbModVinculo202005.parquet.gzip\n",
      "Saved as Parquet: I://base_de_dados//datasus//cnes//datasus_ftp\\2020\\base_de_dados_cnes_202005\\tbMotivoDesativacao202005.parquet.gzip\n",
      "Saved as Parquet: I://base_de_dados//datasus//cnes//datasus_ftp\\2020\\base_de_dados_cnes_202005\\tbMotivoDesativEquipe202005.parquet.gzip\n",
      "Saved as Parquet: I://base_de_dados//datasus//cnes//datasus_ftp\\2020\\base_de_dados_cnes_202005\\tbMunicipio202005.parquet.gzip\n",
      "Saved as Parquet: I://base_de_dados//datasus//cnes//datasus_ftp\\2020\\base_de_dados_cnes_202005\\tbNaturezaJuridica202005.parquet.gzip\n",
      "Saved as Parquet: I://base_de_dados//datasus//cnes//datasus_ftp\\2020\\base_de_dados_cnes_202005\\tbOrgaoEmissor202005.parquet.gzip\n",
      "Saved as Parquet: I://base_de_dados//datasus//cnes//datasus_ftp\\2020\\base_de_dados_cnes_202005\\tbPoloBase202005.parquet.gzip\n",
      "Saved as Parquet: I://base_de_dados//datasus//cnes//datasus_ftp\\2020\\base_de_dados_cnes_202005\\tbProfResidencia202005.parquet.gzip\n",
      "Saved as Parquet: I://base_de_dados//datasus//cnes//datasus_ftp\\2020\\base_de_dados_cnes_202005\\tbQuimioRadio202005.parquet.gzip\n",
      "Saved as Parquet: I://base_de_dados//datasus//cnes//datasus_ftp\\2020\\base_de_dados_cnes_202005\\tbResidenciaMed202005.parquet.gzip\n",
      "Saved as Parquet: I://base_de_dados//datasus//cnes//datasus_ftp\\2020\\base_de_dados_cnes_202005\\tbSegmento202005.parquet.gzip\n",
      "Saved as Parquet: I://base_de_dados//datasus//cnes//datasus_ftp\\2020\\base_de_dados_cnes_202005\\tbServicoApoio202005.parquet.gzip\n",
      "Saved as Parquet: I://base_de_dados//datasus//cnes//datasus_ftp\\2020\\base_de_dados_cnes_202005\\tbServicoEspecializado202005.parquet.gzip\n",
      "Saved as Parquet: I://base_de_dados//datasus//cnes//datasus_ftp\\2020\\base_de_dados_cnes_202005\\tbServicoReferenciado202005.parquet.gzip\n",
      "Saved as Parquet: I://base_de_dados//datasus//cnes//datasus_ftp\\2020\\base_de_dados_cnes_202005\\tbSubGruposHabilitacao202005.parquet.gzip\n",
      "Saved as Parquet: I://base_de_dados//datasus//cnes//datasus_ftp\\2020\\base_de_dados_cnes_202005\\tbSubTipo202005.parquet.gzip\n",
      "Saved as Parquet: I://base_de_dados//datasus//cnes//datasus_ftp\\2020\\base_de_dados_cnes_202005\\tbSubTipoEquipe202005.parquet.gzip\n",
      "Saved as Parquet: I://base_de_dados//datasus//cnes//datasus_ftp\\2020\\base_de_dados_cnes_202005\\tbSubtipoInstalacao202005.parquet.gzip\n",
      "Saved as Parquet: I://base_de_dados//datasus//cnes//datasus_ftp\\2020\\base_de_dados_cnes_202005\\tbSubTpModVinculo202005.parquet.gzip\n",
      "Saved as Parquet: I://base_de_dados//datasus//cnes//datasus_ftp\\2020\\base_de_dados_cnes_202005\\tbTipoCertidao202005.parquet.gzip\n",
      "Saved as Parquet: I://base_de_dados//datasus//cnes//datasus_ftp\\2020\\base_de_dados_cnes_202005\\tbTipoCgDifer202005.parquet.gzip\n",
      "Saved as Parquet: I://base_de_dados//datasus//cnes//datasus_ftp\\2020\\base_de_dados_cnes_202005\\tbTipoEqSubTipo202005.parquet.gzip\n",
      "Saved as Parquet: I://base_de_dados//datasus//cnes//datasus_ftp\\2020\\base_de_dados_cnes_202005\\tbTipoEquipamento202005.parquet.gzip\n",
      "Saved as Parquet: I://base_de_dados//datasus//cnes//datasus_ftp\\2020\\base_de_dados_cnes_202005\\tbTipoEquipe202005.parquet.gzip\n",
      "Saved as Parquet: I://base_de_dados//datasus//cnes//datasus_ftp\\2020\\base_de_dados_cnes_202005\\tbTipoEscolaridade202005.parquet.gzip\n",
      "Saved as Parquet: I://base_de_dados//datasus//cnes//datasus_ftp\\2020\\base_de_dados_cnes_202005\\tbTipoEstabelecimento202005.parquet.gzip\n",
      "Saved as Parquet: I://base_de_dados//datasus//cnes//datasus_ftp\\2020\\base_de_dados_cnes_202005\\tbTipoInstalacaoFisica202005.parquet.gzip\n",
      "Saved as Parquet: I://base_de_dados//datasus//cnes//datasus_ftp\\2020\\base_de_dados_cnes_202005\\tbTipoServicoReferenciado202005.parquet.gzip\n",
      "Saved as Parquet: I://base_de_dados//datasus//cnes//datasus_ftp\\2020\\base_de_dados_cnes_202005\\tbTipoUnidade202005.parquet.gzip\n",
      "Saved as Parquet: I://base_de_dados//datasus//cnes//datasus_ftp\\2020\\base_de_dados_cnes_202005\\tbTpModVinculo202005.parquet.gzip\n",
      "Saved as Parquet: I://base_de_dados//datasus//cnes//datasus_ftp\\2020\\base_de_dados_cnes_202005\\tbTurnoAtendimento202005.parquet.gzip\n",
      "Month Folder: base_de_dados_cnes_202006\n",
      "Saved as Parquet: I://base_de_dados//datasus//cnes//datasus_ftp\\2020\\base_de_dados_cnes_202006\\rlAdmGerenciaCnes202006.parquet.gzip\n",
      "Saved as Parquet: I://base_de_dados//datasus//cnes//datasus_ftp\\2020\\base_de_dados_cnes_202006\\rlAtividadeObrigatoria202006.parquet.gzip\n",
      "Saved as Parquet: I://base_de_dados//datasus//cnes//datasus_ftp\\2020\\base_de_dados_cnes_202006\\rlCooperativa202006.parquet.gzip\n",
      "Saved as Parquet: I://base_de_dados//datasus//cnes//datasus_ftp\\2020\\base_de_dados_cnes_202006\\rlEquipeAldeia202006.parquet.gzip\n",
      "Saved as Parquet: I://base_de_dados//datasus//cnes//datasus_ftp\\2020\\base_de_dados_cnes_202006\\rlEquipeNasfEsf202006.parquet.gzip\n"
     ]
    },
    {
     "name": "stderr",
     "output_type": "stream",
     "text": [
      "C:\\Users\\erick\\AppData\\Local\\Temp\\ipykernel_18324\\463220216.py:31: DtypeWarning: Columns (0) have mixed types. Specify dtype option on import or set low_memory=False.\n",
      "  df = pd.read_csv(csv_path, sep=';')\n"
     ]
    },
    {
     "name": "stdout",
     "output_type": "stream",
     "text": [
      "Saved as Parquet: I://base_de_dados//datasus//cnes//datasus_ftp\\2020\\base_de_dados_cnes_202006\\rlEstabAtendPrestConv202006.parquet.gzip\n",
      "Saved as Parquet: I://base_de_dados//datasus//cnes//datasus_ftp\\2020\\base_de_dados_cnes_202006\\rlEstabAtenPsico202006.parquet.gzip\n",
      "Saved as Parquet: I://base_de_dados//datasus//cnes//datasus_ftp\\2020\\base_de_dados_cnes_202006\\rlEstabAvaliacao202006.parquet.gzip\n",
      "Saved as Parquet: I://base_de_dados//datasus//cnes//datasus_ftp\\2020\\base_de_dados_cnes_202006\\rlEstabCentralReg202006.parquet.gzip\n",
      "Saved as Parquet: I://base_de_dados//datasus//cnes//datasus_ftp\\2020\\base_de_dados_cnes_202006\\rlEstabColetaSelRejeito202006.parquet.gzip\n",
      "Saved as Parquet: I://base_de_dados//datasus//cnes//datasus_ftp\\2020\\base_de_dados_cnes_202006\\rlEstabComissaoOutro202006.parquet.gzip\n",
      "Saved as Parquet: I://base_de_dados//datasus//cnes//datasus_ftp\\2020\\base_de_dados_cnes_202006\\rlEstabComplementar202006.parquet.gzip\n",
      "Saved as Parquet: I://base_de_dados//datasus//cnes//datasus_ftp\\2020\\base_de_dados_cnes_202006\\rlEstabEndCompl202006.parquet.gzip\n",
      "Saved as Parquet: I://base_de_dados//datasus//cnes//datasus_ftp\\2020\\base_de_dados_cnes_202006\\rlEstabEqpEmbarcacao202006.parquet.gzip\n",
      "Saved as Parquet: I://base_de_dados//datasus//cnes//datasus_ftp\\2020\\base_de_dados_cnes_202006\\rlEstabEqpUnidApoio202006.parquet.gzip\n"
     ]
    },
    {
     "name": "stderr",
     "output_type": "stream",
     "text": [
      "C:\\Users\\erick\\AppData\\Local\\Temp\\ipykernel_18324\\463220216.py:31: DtypeWarning: Columns (0) have mixed types. Specify dtype option on import or set low_memory=False.\n",
      "  df = pd.read_csv(csv_path, sep=';')\n"
     ]
    },
    {
     "name": "stdout",
     "output_type": "stream",
     "text": [
      "Saved as Parquet: I://base_de_dados//datasus//cnes//datasus_ftp\\2020\\base_de_dados_cnes_202006\\rlEstabEquipamento202006.parquet.gzip\n",
      "Saved as Parquet: I://base_de_dados//datasus//cnes//datasus_ftp\\2020\\base_de_dados_cnes_202006\\rlEstabEquipeMun202006.parquet.gzip\n"
     ]
    },
    {
     "name": "stderr",
     "output_type": "stream",
     "text": [
      "C:\\Users\\erick\\AppData\\Local\\Temp\\ipykernel_18324\\463220216.py:31: DtypeWarning: Columns (14) have mixed types. Specify dtype option on import or set low_memory=False.\n",
      "  df = pd.read_csv(csv_path, sep=';')\n"
     ]
    },
    {
     "name": "stdout",
     "output_type": "stream",
     "text": [
      "Saved as Parquet: I://base_de_dados//datasus//cnes//datasus_ftp\\2020\\base_de_dados_cnes_202006\\rlEstabEquipeProf202006.parquet.gzip\n"
     ]
    },
    {
     "name": "stderr",
     "output_type": "stream",
     "text": [
      "C:\\Users\\erick\\AppData\\Local\\Temp\\ipykernel_18324\\463220216.py:31: DtypeWarning: Columns (0) have mixed types. Specify dtype option on import or set low_memory=False.\n",
      "  df = pd.read_csv(csv_path, sep=';')\n"
     ]
    },
    {
     "name": "stdout",
     "output_type": "stream",
     "text": [
      "Saved as Parquet: I://base_de_dados//datasus//cnes//datasus_ftp\\2020\\base_de_dados_cnes_202006\\rlEstabInstFisiAssist202006.parquet.gzip\n",
      "Saved as Parquet: I://base_de_dados//datasus//cnes//datasus_ftp\\2020\\base_de_dados_cnes_202006\\rlEstabOrgParc202006.parquet.gzip\n",
      "Saved as Parquet: I://base_de_dados//datasus//cnes//datasus_ftp\\2020\\base_de_dados_cnes_202006\\rlEstabPoloAldeia202006.parquet.gzip\n",
      "Saved as Parquet: I://base_de_dados//datasus//cnes//datasus_ftp\\2020\\base_de_dados_cnes_202006\\rlEstabProfComissao202006.parquet.gzip\n",
      "Saved as Parquet: I://base_de_dados//datasus//cnes//datasus_ftp\\2020\\base_de_dados_cnes_202006\\rlEstabProgFundo202006.parquet.gzip\n",
      "Saved as Parquet: I://base_de_dados//datasus//cnes//datasus_ftp\\2020\\base_de_dados_cnes_202006\\rlEstabRegimeRes202006.parquet.gzip\n",
      "Saved as Parquet: I://base_de_dados//datasus//cnes//datasus_ftp\\2020\\base_de_dados_cnes_202006\\rlEstabRepresentante202006.parquet.gzip\n",
      "Saved as Parquet: I://base_de_dados//datasus//cnes//datasus_ftp\\2020\\base_de_dados_cnes_202006\\rlEstabSamu202006.parquet.gzip\n",
      "Saved as Parquet: I://base_de_dados//datasus//cnes//datasus_ftp\\2020\\base_de_dados_cnes_202006\\rlEstabServClass202006.parquet.gzip\n"
     ]
    },
    {
     "name": "stderr",
     "output_type": "stream",
     "text": [
      "C:\\Users\\erick\\AppData\\Local\\Temp\\ipykernel_18324\\463220216.py:31: DtypeWarning: Columns (2) have mixed types. Specify dtype option on import or set low_memory=False.\n",
      "  df = pd.read_csv(csv_path, sep=';')\n"
     ]
    },
    {
     "name": "stdout",
     "output_type": "stream",
     "text": [
      "Saved as Parquet: I://base_de_dados//datasus//cnes//datasus_ftp\\2020\\base_de_dados_cnes_202006\\rlEstabServicoApoio202006.parquet.gzip\n",
      "Saved as Parquet: I://base_de_dados//datasus//cnes//datasus_ftp\\2020\\base_de_dados_cnes_202006\\rlEstabSipac202006.parquet.gzip\n",
      "Saved as Parquet: I://base_de_dados//datasus//cnes//datasus_ftp\\2020\\base_de_dados_cnes_202006\\rlEstabSubTipo202006.parquet.gzip\n",
      "Saved as Parquet: I://base_de_dados//datasus//cnes//datasus_ftp\\2020\\base_de_dados_cnes_202006\\rlEstabTeleCnes202006.parquet.gzip\n",
      "Saved as Parquet: I://base_de_dados//datasus//cnes//datasus_ftp\\2020\\base_de_dados_cnes_202006\\rlEstabUnidAcolhim202006.parquet.gzip\n",
      "Saved as Parquet: I://base_de_dados//datasus//cnes//datasus_ftp\\2020\\base_de_dados_cnes_202006\\rlMunAtenPsico202006.parquet.gzip\n",
      "Saved as Parquet: I://base_de_dados//datasus//cnes//datasus_ftp\\2020\\base_de_dados_cnes_202006\\rlMunRegimeRes202006.parquet.gzip\n",
      "Saved as Parquet: I://base_de_dados//datasus//cnes//datasus_ftp\\2020\\base_de_dados_cnes_202006\\rlMunUnidAcolhim202006.parquet.gzip\n",
      "Saved as Parquet: I://base_de_dados//datasus//cnes//datasus_ftp\\2020\\base_de_dados_cnes_202006\\rlNasfEsf202006.parquet.gzip\n",
      "Saved as Parquet: I://base_de_dados//datasus//cnes//datasus_ftp\\2020\\base_de_dados_cnes_202006\\rlTipoEstabAtividade202006.parquet.gzip\n",
      "Saved as Parquet: I://base_de_dados//datasus//cnes//datasus_ftp\\2020\\base_de_dados_cnes_202006\\tbAldeia202006.parquet.gzip\n",
      "Saved as Parquet: I://base_de_dados//datasus//cnes//datasus_ftp\\2020\\base_de_dados_cnes_202006\\tbArea202006.parquet.gzip\n",
      "Saved as Parquet: I://base_de_dados//datasus//cnes//datasus_ftp\\2020\\base_de_dados_cnes_202006\\tbAtendimentoPrestado202006.parquet.gzip\n",
      "Saved as Parquet: I://base_de_dados//datasus//cnes//datasus_ftp\\2020\\base_de_dados_cnes_202006\\tbAtividade202006.parquet.gzip\n",
      "Saved as Parquet: I://base_de_dados//datasus//cnes//datasus_ftp\\2020\\base_de_dados_cnes_202006\\tbAtividadeEnsino202006.parquet.gzip\n",
      "Saved as Parquet: I://base_de_dados//datasus//cnes//datasus_ftp\\2020\\base_de_dados_cnes_202006\\tbAtividadeProfissional202006.parquet.gzip\n",
      "Saved as Parquet: I://base_de_dados//datasus//cnes//datasus_ftp\\2020\\base_de_dados_cnes_202006\\tbAtributo202006.parquet.gzip\n",
      "Saved as Parquet: I://base_de_dados//datasus//cnes//datasus_ftp\\2020\\base_de_dados_cnes_202006\\tbAvaliacao202006.parquet.gzip\n",
      "Saved as Parquet: I://base_de_dados//datasus//cnes//datasus_ftp\\2020\\base_de_dados_cnes_202006\\tbBanco202006.parquet.gzip\n"
     ]
    },
    {
     "name": "stderr",
     "output_type": "stream",
     "text": [
      "C:\\Users\\erick\\AppData\\Local\\Temp\\ipykernel_18324\\463220216.py:31: DtypeWarning: Columns (0,2,12) have mixed types. Specify dtype option on import or set low_memory=False.\n",
      "  df = pd.read_csv(csv_path, sep=';')\n"
     ]
    },
    {
     "name": "stdout",
     "output_type": "stream",
     "text": [
      "Saved as Parquet: I://base_de_dados//datasus//cnes//datasus_ftp\\2020\\base_de_dados_cnes_202006\\tbCargaHorariaSus202006.parquet.gzip\n",
      "Saved as Parquet: I://base_de_dados//datasus//cnes//datasus_ftp\\2020\\base_de_dados_cnes_202006\\tbClassificacaoAval202006.parquet.gzip\n",
      "Saved as Parquet: I://base_de_dados//datasus//cnes//datasus_ftp\\2020\\base_de_dados_cnes_202006\\tbClassificacaoServico202006.parquet.gzip\n",
      "Saved as Parquet: I://base_de_dados//datasus//cnes//datasus_ftp\\2020\\base_de_dados_cnes_202006\\tbColetaSeletivaRejeito202006.parquet.gzip\n",
      "Saved as Parquet: I://base_de_dados//datasus//cnes//datasus_ftp\\2020\\base_de_dados_cnes_202006\\tbComissaoOutro202006.parquet.gzip\n",
      "Saved as Parquet: I://base_de_dados//datasus//cnes//datasus_ftp\\2020\\base_de_dados_cnes_202006\\tbConselhoClasse202006.parquet.gzip\n",
      "Saved as Parquet: I://base_de_dados//datasus//cnes//datasus_ftp\\2020\\base_de_dados_cnes_202006\\tbConvenio202006.parquet.gzip\n",
      "Saved as Parquet: I://base_de_dados//datasus//cnes//datasus_ftp\\2020\\base_de_dados_cnes_202006\\tbDadosProfissionalSus202006.parquet.gzip\n",
      "Saved as Parquet: I://base_de_dados//datasus//cnes//datasus_ftp\\2020\\base_de_dados_cnes_202006\\tbDialise202006.parquet.gzip\n",
      "Saved as Parquet: I://base_de_dados//datasus//cnes//datasus_ftp\\2020\\base_de_dados_cnes_202006\\tbDsei202006.parquet.gzip\n",
      "Saved as Parquet: I://base_de_dados//datasus//cnes//datasus_ftp\\2020\\base_de_dados_cnes_202006\\tbEquipamento202006.parquet.gzip\n",
      "Saved as Parquet: I://base_de_dados//datasus//cnes//datasus_ftp\\2020\\base_de_dados_cnes_202006\\tbEquipe202006.parquet.gzip\n",
      "Saved as Parquet: I://base_de_dados//datasus//cnes//datasus_ftp\\2020\\base_de_dados_cnes_202006\\tbEquipeAtendCompl202006.parquet.gzip\n",
      "Saved as Parquet: I://base_de_dados//datasus//cnes//datasus_ftp\\2020\\base_de_dados_cnes_202006\\tbEquipeChDifer202006.parquet.gzip\n",
      "Saved as Parquet: I://base_de_dados//datasus//cnes//datasus_ftp\\2020\\base_de_dados_cnes_202006\\tbEstabAtivSecundaria202006.parquet.gzip\n",
      "Saved as Parquet: I://base_de_dados//datasus//cnes//datasus_ftp\\2020\\base_de_dados_cnes_202006\\tbEstabContrato202006.parquet.gzip\n"
     ]
    },
    {
     "name": "stderr",
     "output_type": "stream",
     "text": [
      "C:\\Users\\erick\\AppData\\Local\\Temp\\ipykernel_18324\\463220216.py:31: DtypeWarning: Columns (0,36,45) have mixed types. Specify dtype option on import or set low_memory=False.\n",
      "  df = pd.read_csv(csv_path, sep=';')\n"
     ]
    },
    {
     "name": "stdout",
     "output_type": "stream",
     "text": [
      "Saved as Parquet: I://base_de_dados//datasus//cnes//datasus_ftp\\2020\\base_de_dados_cnes_202006\\tbEstabelecimento202006.parquet.gzip\n",
      "Saved as Parquet: I://base_de_dados//datasus//cnes//datasus_ftp\\2020\\base_de_dados_cnes_202006\\tbEstabHorarioAtend202006.parquet.gzip\n",
      "Saved as Parquet: I://base_de_dados//datasus//cnes//datasus_ftp\\2020\\base_de_dados_cnes_202006\\tbEstado202006.parquet.gzip\n",
      "Saved as Parquet: I://base_de_dados//datasus//cnes//datasus_ftp\\2020\\base_de_dados_cnes_202006\\tbEtnia202006.parquet.gzip\n",
      "Saved as Parquet: I://base_de_dados//datasus//cnes//datasus_ftp\\2020\\base_de_dados_cnes_202006\\tbFluxoDadosClientela202006.parquet.gzip\n",
      "Saved as Parquet: I://base_de_dados//datasus//cnes//datasus_ftp\\2020\\base_de_dados_cnes_202006\\tbGestao202006.parquet.gzip\n",
      "Saved as Parquet: I://base_de_dados//datasus//cnes//datasus_ftp\\2020\\base_de_dados_cnes_202006\\tbGrupoAtividade202006.parquet.gzip\n",
      "Saved as Parquet: I://base_de_dados//datasus//cnes//datasus_ftp\\2020\\base_de_dados_cnes_202006\\tbGrupoEquipe202006.parquet.gzip\n",
      "Saved as Parquet: I://base_de_dados//datasus//cnes//datasus_ftp\\2020\\base_de_dados_cnes_202006\\tbHemoterapia202006.parquet.gzip\n",
      "Saved as Parquet: I://base_de_dados//datasus//cnes//datasus_ftp\\2020\\base_de_dados_cnes_202006\\tbIncentivos202006.parquet.gzip\n",
      "Saved as Parquet: I://base_de_dados//datasus//cnes//datasus_ftp\\2020\\base_de_dados_cnes_202006\\tbInstalFisicaParaAssist202006.parquet.gzip\n",
      "Saved as Parquet: I://base_de_dados//datasus//cnes//datasus_ftp\\2020\\base_de_dados_cnes_202006\\tbInstituicaoAvaliadora202006.parquet.gzip\n",
      "Saved as Parquet: I://base_de_dados//datasus//cnes//datasus_ftp\\2020\\base_de_dados_cnes_202006\\tbLeito202006.parquet.gzip\n",
      "Saved as Parquet: I://base_de_dados//datasus//cnes//datasus_ftp\\2020\\base_de_dados_cnes_202006\\tbMantenedora202006.parquet.gzip\n",
      "Saved as Parquet: I://base_de_dados//datasus//cnes//datasus_ftp\\2020\\base_de_dados_cnes_202006\\tbModVinculo202006.parquet.gzip\n",
      "Saved as Parquet: I://base_de_dados//datasus//cnes//datasus_ftp\\2020\\base_de_dados_cnes_202006\\tbMotivoDesativacao202006.parquet.gzip\n",
      "Saved as Parquet: I://base_de_dados//datasus//cnes//datasus_ftp\\2020\\base_de_dados_cnes_202006\\tbMotivoDesativEquipe202006.parquet.gzip\n",
      "Saved as Parquet: I://base_de_dados//datasus//cnes//datasus_ftp\\2020\\base_de_dados_cnes_202006\\tbMunicipio202006.parquet.gzip\n",
      "Saved as Parquet: I://base_de_dados//datasus//cnes//datasus_ftp\\2020\\base_de_dados_cnes_202006\\tbNaturezaJuridica202006.parquet.gzip\n",
      "Saved as Parquet: I://base_de_dados//datasus//cnes//datasus_ftp\\2020\\base_de_dados_cnes_202006\\tbOrgaoEmissor202006.parquet.gzip\n",
      "Saved as Parquet: I://base_de_dados//datasus//cnes//datasus_ftp\\2020\\base_de_dados_cnes_202006\\tbPoloBase202006.parquet.gzip\n",
      "Saved as Parquet: I://base_de_dados//datasus//cnes//datasus_ftp\\2020\\base_de_dados_cnes_202006\\tbProfResidencia202006.parquet.gzip\n",
      "Saved as Parquet: I://base_de_dados//datasus//cnes//datasus_ftp\\2020\\base_de_dados_cnes_202006\\tbQuimioRadio202006.parquet.gzip\n",
      "Saved as Parquet: I://base_de_dados//datasus//cnes//datasus_ftp\\2020\\base_de_dados_cnes_202006\\tbResidenciaMed202006.parquet.gzip\n",
      "Saved as Parquet: I://base_de_dados//datasus//cnes//datasus_ftp\\2020\\base_de_dados_cnes_202006\\tbSegmento202006.parquet.gzip\n",
      "Saved as Parquet: I://base_de_dados//datasus//cnes//datasus_ftp\\2020\\base_de_dados_cnes_202006\\tbServicoApoio202006.parquet.gzip\n",
      "Saved as Parquet: I://base_de_dados//datasus//cnes//datasus_ftp\\2020\\base_de_dados_cnes_202006\\tbServicoEspecializado202006.parquet.gzip\n",
      "Saved as Parquet: I://base_de_dados//datasus//cnes//datasus_ftp\\2020\\base_de_dados_cnes_202006\\tbServicoReferenciado202006.parquet.gzip\n",
      "Saved as Parquet: I://base_de_dados//datasus//cnes//datasus_ftp\\2020\\base_de_dados_cnes_202006\\tbSubGruposHabilitacao202006.parquet.gzip\n",
      "Saved as Parquet: I://base_de_dados//datasus//cnes//datasus_ftp\\2020\\base_de_dados_cnes_202006\\tbSubTipo202006.parquet.gzip\n",
      "Saved as Parquet: I://base_de_dados//datasus//cnes//datasus_ftp\\2020\\base_de_dados_cnes_202006\\tbSubTipoEquipe202006.parquet.gzip\n",
      "Saved as Parquet: I://base_de_dados//datasus//cnes//datasus_ftp\\2020\\base_de_dados_cnes_202006\\tbSubtipoInstalacao202006.parquet.gzip\n",
      "Saved as Parquet: I://base_de_dados//datasus//cnes//datasus_ftp\\2020\\base_de_dados_cnes_202006\\tbSubTpModVinculo202006.parquet.gzip\n",
      "Saved as Parquet: I://base_de_dados//datasus//cnes//datasus_ftp\\2020\\base_de_dados_cnes_202006\\tbTipoCertidao202006.parquet.gzip\n",
      "Saved as Parquet: I://base_de_dados//datasus//cnes//datasus_ftp\\2020\\base_de_dados_cnes_202006\\tbTipoCgDifer202006.parquet.gzip\n",
      "Saved as Parquet: I://base_de_dados//datasus//cnes//datasus_ftp\\2020\\base_de_dados_cnes_202006\\tbTipoEqSubTipo202006.parquet.gzip\n",
      "Saved as Parquet: I://base_de_dados//datasus//cnes//datasus_ftp\\2020\\base_de_dados_cnes_202006\\tbTipoEquipamento202006.parquet.gzip\n",
      "Saved as Parquet: I://base_de_dados//datasus//cnes//datasus_ftp\\2020\\base_de_dados_cnes_202006\\tbTipoEquipe202006.parquet.gzip\n",
      "Saved as Parquet: I://base_de_dados//datasus//cnes//datasus_ftp\\2020\\base_de_dados_cnes_202006\\tbTipoEscolaridade202006.parquet.gzip\n",
      "Saved as Parquet: I://base_de_dados//datasus//cnes//datasus_ftp\\2020\\base_de_dados_cnes_202006\\tbTipoEstabelecimento202006.parquet.gzip\n",
      "Saved as Parquet: I://base_de_dados//datasus//cnes//datasus_ftp\\2020\\base_de_dados_cnes_202006\\tbTipoInstalacaoFisica202006.parquet.gzip\n",
      "Saved as Parquet: I://base_de_dados//datasus//cnes//datasus_ftp\\2020\\base_de_dados_cnes_202006\\tbTipoServicoReferenciado202006.parquet.gzip\n",
      "Saved as Parquet: I://base_de_dados//datasus//cnes//datasus_ftp\\2020\\base_de_dados_cnes_202006\\tbTipoUnidade202006.parquet.gzip\n",
      "Saved as Parquet: I://base_de_dados//datasus//cnes//datasus_ftp\\2020\\base_de_dados_cnes_202006\\tbTpModVinculo202006.parquet.gzip\n",
      "Saved as Parquet: I://base_de_dados//datasus//cnes//datasus_ftp\\2020\\base_de_dados_cnes_202006\\tbTurnoAtendimento202006.parquet.gzip\n",
      "Month Folder: base_de_dados_cnes_202007\n",
      "Saved as Parquet: I://base_de_dados//datasus//cnes//datasus_ftp\\2020\\base_de_dados_cnes_202007\\rlAdmGerenciaCnes202007.parquet.gzip\n",
      "Saved as Parquet: I://base_de_dados//datasus//cnes//datasus_ftp\\2020\\base_de_dados_cnes_202007\\rlAtividadeObrigatoria202007.parquet.gzip\n",
      "Saved as Parquet: I://base_de_dados//datasus//cnes//datasus_ftp\\2020\\base_de_dados_cnes_202007\\rlCooperativa202007.parquet.gzip\n",
      "Saved as Parquet: I://base_de_dados//datasus//cnes//datasus_ftp\\2020\\base_de_dados_cnes_202007\\rlEquipeAldeia202007.parquet.gzip\n",
      "Saved as Parquet: I://base_de_dados//datasus//cnes//datasus_ftp\\2020\\base_de_dados_cnes_202007\\rlEquipeNasfEsf202007.parquet.gzip\n"
     ]
    },
    {
     "name": "stderr",
     "output_type": "stream",
     "text": [
      "C:\\Users\\erick\\AppData\\Local\\Temp\\ipykernel_18324\\463220216.py:31: DtypeWarning: Columns (0) have mixed types. Specify dtype option on import or set low_memory=False.\n",
      "  df = pd.read_csv(csv_path, sep=';')\n"
     ]
    },
    {
     "name": "stdout",
     "output_type": "stream",
     "text": [
      "Saved as Parquet: I://base_de_dados//datasus//cnes//datasus_ftp\\2020\\base_de_dados_cnes_202007\\rlEstabAtendPrestConv202007.parquet.gzip\n",
      "Saved as Parquet: I://base_de_dados//datasus//cnes//datasus_ftp\\2020\\base_de_dados_cnes_202007\\rlEstabAtenPsico202007.parquet.gzip\n",
      "Saved as Parquet: I://base_de_dados//datasus//cnes//datasus_ftp\\2020\\base_de_dados_cnes_202007\\rlEstabAvaliacao202007.parquet.gzip\n",
      "Saved as Parquet: I://base_de_dados//datasus//cnes//datasus_ftp\\2020\\base_de_dados_cnes_202007\\rlEstabCentralReg202007.parquet.gzip\n",
      "Saved as Parquet: I://base_de_dados//datasus//cnes//datasus_ftp\\2020\\base_de_dados_cnes_202007\\rlEstabColetaSelRejeito202007.parquet.gzip\n",
      "Saved as Parquet: I://base_de_dados//datasus//cnes//datasus_ftp\\2020\\base_de_dados_cnes_202007\\rlEstabComissaoOutro202007.parquet.gzip\n",
      "Saved as Parquet: I://base_de_dados//datasus//cnes//datasus_ftp\\2020\\base_de_dados_cnes_202007\\rlEstabComplementar202007.parquet.gzip\n",
      "Saved as Parquet: I://base_de_dados//datasus//cnes//datasus_ftp\\2020\\base_de_dados_cnes_202007\\rlEstabEndCompl202007.parquet.gzip\n",
      "Saved as Parquet: I://base_de_dados//datasus//cnes//datasus_ftp\\2020\\base_de_dados_cnes_202007\\rlEstabEqpEmbarcacao202007.parquet.gzip\n",
      "Saved as Parquet: I://base_de_dados//datasus//cnes//datasus_ftp\\2020\\base_de_dados_cnes_202007\\rlEstabEqpUnidApoio202007.parquet.gzip\n"
     ]
    },
    {
     "name": "stderr",
     "output_type": "stream",
     "text": [
      "C:\\Users\\erick\\AppData\\Local\\Temp\\ipykernel_18324\\463220216.py:31: DtypeWarning: Columns (0) have mixed types. Specify dtype option on import or set low_memory=False.\n",
      "  df = pd.read_csv(csv_path, sep=';')\n"
     ]
    },
    {
     "name": "stdout",
     "output_type": "stream",
     "text": [
      "Saved as Parquet: I://base_de_dados//datasus//cnes//datasus_ftp\\2020\\base_de_dados_cnes_202007\\rlEstabEquipamento202007.parquet.gzip\n",
      "Saved as Parquet: I://base_de_dados//datasus//cnes//datasus_ftp\\2020\\base_de_dados_cnes_202007\\rlEstabEquipeMun202007.parquet.gzip\n"
     ]
    },
    {
     "name": "stderr",
     "output_type": "stream",
     "text": [
      "C:\\Users\\erick\\AppData\\Local\\Temp\\ipykernel_18324\\463220216.py:31: DtypeWarning: Columns (14) have mixed types. Specify dtype option on import or set low_memory=False.\n",
      "  df = pd.read_csv(csv_path, sep=';')\n"
     ]
    },
    {
     "name": "stdout",
     "output_type": "stream",
     "text": [
      "Saved as Parquet: I://base_de_dados//datasus//cnes//datasus_ftp\\2020\\base_de_dados_cnes_202007\\rlEstabEquipeProf202007.parquet.gzip\n"
     ]
    },
    {
     "name": "stderr",
     "output_type": "stream",
     "text": [
      "C:\\Users\\erick\\AppData\\Local\\Temp\\ipykernel_18324\\463220216.py:31: DtypeWarning: Columns (0) have mixed types. Specify dtype option on import or set low_memory=False.\n",
      "  df = pd.read_csv(csv_path, sep=';')\n"
     ]
    },
    {
     "name": "stdout",
     "output_type": "stream",
     "text": [
      "Saved as Parquet: I://base_de_dados//datasus//cnes//datasus_ftp\\2020\\base_de_dados_cnes_202007\\rlEstabInstFisiAssist202007.parquet.gzip\n",
      "Saved as Parquet: I://base_de_dados//datasus//cnes//datasus_ftp\\2020\\base_de_dados_cnes_202007\\rlEstabOrgParc202007.parquet.gzip\n",
      "Saved as Parquet: I://base_de_dados//datasus//cnes//datasus_ftp\\2020\\base_de_dados_cnes_202007\\rlEstabPoloAldeia202007.parquet.gzip\n",
      "Saved as Parquet: I://base_de_dados//datasus//cnes//datasus_ftp\\2020\\base_de_dados_cnes_202007\\rlEstabProfComissao202007.parquet.gzip\n",
      "Saved as Parquet: I://base_de_dados//datasus//cnes//datasus_ftp\\2020\\base_de_dados_cnes_202007\\rlEstabProgFundo202007.parquet.gzip\n",
      "Saved as Parquet: I://base_de_dados//datasus//cnes//datasus_ftp\\2020\\base_de_dados_cnes_202007\\rlEstabRegimeRes202007.parquet.gzip\n",
      "Saved as Parquet: I://base_de_dados//datasus//cnes//datasus_ftp\\2020\\base_de_dados_cnes_202007\\rlEstabRepresentante202007.parquet.gzip\n",
      "Saved as Parquet: I://base_de_dados//datasus//cnes//datasus_ftp\\2020\\base_de_dados_cnes_202007\\rlEstabSamu202007.parquet.gzip\n"
     ]
    },
    {
     "name": "stderr",
     "output_type": "stream",
     "text": [
      "C:\\Users\\erick\\AppData\\Local\\Temp\\ipykernel_18324\\463220216.py:31: DtypeWarning: Columns (0) have mixed types. Specify dtype option on import or set low_memory=False.\n",
      "  df = pd.read_csv(csv_path, sep=';')\n"
     ]
    },
    {
     "name": "stdout",
     "output_type": "stream",
     "text": [
      "Saved as Parquet: I://base_de_dados//datasus//cnes//datasus_ftp\\2020\\base_de_dados_cnes_202007\\rlEstabServClass202007.parquet.gzip\n"
     ]
    },
    {
     "name": "stderr",
     "output_type": "stream",
     "text": [
      "C:\\Users\\erick\\AppData\\Local\\Temp\\ipykernel_18324\\463220216.py:31: DtypeWarning: Columns (2) have mixed types. Specify dtype option on import or set low_memory=False.\n",
      "  df = pd.read_csv(csv_path, sep=';')\n"
     ]
    },
    {
     "name": "stdout",
     "output_type": "stream",
     "text": [
      "Saved as Parquet: I://base_de_dados//datasus//cnes//datasus_ftp\\2020\\base_de_dados_cnes_202007\\rlEstabServicoApoio202007.parquet.gzip\n",
      "Saved as Parquet: I://base_de_dados//datasus//cnes//datasus_ftp\\2020\\base_de_dados_cnes_202007\\rlEstabSipac202007.parquet.gzip\n",
      "Saved as Parquet: I://base_de_dados//datasus//cnes//datasus_ftp\\2020\\base_de_dados_cnes_202007\\rlEstabSubTipo202007.parquet.gzip\n",
      "Saved as Parquet: I://base_de_dados//datasus//cnes//datasus_ftp\\2020\\base_de_dados_cnes_202007\\rlEstabTeleCnes202007.parquet.gzip\n",
      "Saved as Parquet: I://base_de_dados//datasus//cnes//datasus_ftp\\2020\\base_de_dados_cnes_202007\\rlEstabUnidAcolhim202007.parquet.gzip\n",
      "Saved as Parquet: I://base_de_dados//datasus//cnes//datasus_ftp\\2020\\base_de_dados_cnes_202007\\rlMunAtenPsico202007.parquet.gzip\n",
      "Saved as Parquet: I://base_de_dados//datasus//cnes//datasus_ftp\\2020\\base_de_dados_cnes_202007\\rlMunRegimeRes202007.parquet.gzip\n",
      "Saved as Parquet: I://base_de_dados//datasus//cnes//datasus_ftp\\2020\\base_de_dados_cnes_202007\\rlMunUnidAcolhim202007.parquet.gzip\n",
      "Saved as Parquet: I://base_de_dados//datasus//cnes//datasus_ftp\\2020\\base_de_dados_cnes_202007\\rlNasfEsf202007.parquet.gzip\n",
      "Saved as Parquet: I://base_de_dados//datasus//cnes//datasus_ftp\\2020\\base_de_dados_cnes_202007\\rlTipoEstabAtividade202007.parquet.gzip\n",
      "Saved as Parquet: I://base_de_dados//datasus//cnes//datasus_ftp\\2020\\base_de_dados_cnes_202007\\tbAldeia202007.parquet.gzip\n",
      "Saved as Parquet: I://base_de_dados//datasus//cnes//datasus_ftp\\2020\\base_de_dados_cnes_202007\\tbArea202007.parquet.gzip\n",
      "Saved as Parquet: I://base_de_dados//datasus//cnes//datasus_ftp\\2020\\base_de_dados_cnes_202007\\tbAtendimentoPrestado202007.parquet.gzip\n",
      "Saved as Parquet: I://base_de_dados//datasus//cnes//datasus_ftp\\2020\\base_de_dados_cnes_202007\\tbAtividade202007.parquet.gzip\n",
      "Saved as Parquet: I://base_de_dados//datasus//cnes//datasus_ftp\\2020\\base_de_dados_cnes_202007\\tbAtividadeEnsino202007.parquet.gzip\n",
      "Saved as Parquet: I://base_de_dados//datasus//cnes//datasus_ftp\\2020\\base_de_dados_cnes_202007\\tbAtividadeProfissional202007.parquet.gzip\n",
      "Saved as Parquet: I://base_de_dados//datasus//cnes//datasus_ftp\\2020\\base_de_dados_cnes_202007\\tbAtributo202007.parquet.gzip\n",
      "Saved as Parquet: I://base_de_dados//datasus//cnes//datasus_ftp\\2020\\base_de_dados_cnes_202007\\tbAvaliacao202007.parquet.gzip\n",
      "Saved as Parquet: I://base_de_dados//datasus//cnes//datasus_ftp\\2020\\base_de_dados_cnes_202007\\tbBanco202007.parquet.gzip\n"
     ]
    },
    {
     "name": "stderr",
     "output_type": "stream",
     "text": [
      "C:\\Users\\erick\\AppData\\Local\\Temp\\ipykernel_18324\\463220216.py:31: DtypeWarning: Columns (0,12) have mixed types. Specify dtype option on import or set low_memory=False.\n",
      "  df = pd.read_csv(csv_path, sep=';')\n"
     ]
    },
    {
     "name": "stdout",
     "output_type": "stream",
     "text": [
      "Saved as Parquet: I://base_de_dados//datasus//cnes//datasus_ftp\\2020\\base_de_dados_cnes_202007\\tbCargaHorariaSus202007.parquet.gzip\n",
      "Saved as Parquet: I://base_de_dados//datasus//cnes//datasus_ftp\\2020\\base_de_dados_cnes_202007\\tbClassificacaoAval202007.parquet.gzip\n",
      "Saved as Parquet: I://base_de_dados//datasus//cnes//datasus_ftp\\2020\\base_de_dados_cnes_202007\\tbClassificacaoServico202007.parquet.gzip\n",
      "Saved as Parquet: I://base_de_dados//datasus//cnes//datasus_ftp\\2020\\base_de_dados_cnes_202007\\tbColetaSeletivaRejeito202007.parquet.gzip\n",
      "Saved as Parquet: I://base_de_dados//datasus//cnes//datasus_ftp\\2020\\base_de_dados_cnes_202007\\tbComissaoOutro202007.parquet.gzip\n",
      "Saved as Parquet: I://base_de_dados//datasus//cnes//datasus_ftp\\2020\\base_de_dados_cnes_202007\\tbConselhoClasse202007.parquet.gzip\n",
      "Saved as Parquet: I://base_de_dados//datasus//cnes//datasus_ftp\\2020\\base_de_dados_cnes_202007\\tbConvenio202007.parquet.gzip\n",
      "Saved as Parquet: I://base_de_dados//datasus//cnes//datasus_ftp\\2020\\base_de_dados_cnes_202007\\tbDadosProfissionalSus202007.parquet.gzip\n",
      "Saved as Parquet: I://base_de_dados//datasus//cnes//datasus_ftp\\2020\\base_de_dados_cnes_202007\\tbDialise202007.parquet.gzip\n",
      "Saved as Parquet: I://base_de_dados//datasus//cnes//datasus_ftp\\2020\\base_de_dados_cnes_202007\\tbDsei202007.parquet.gzip\n",
      "Saved as Parquet: I://base_de_dados//datasus//cnes//datasus_ftp\\2020\\base_de_dados_cnes_202007\\tbEquipamento202007.parquet.gzip\n",
      "Saved as Parquet: I://base_de_dados//datasus//cnes//datasus_ftp\\2020\\base_de_dados_cnes_202007\\tbEquipe202007.parquet.gzip\n",
      "Saved as Parquet: I://base_de_dados//datasus//cnes//datasus_ftp\\2020\\base_de_dados_cnes_202007\\tbEquipeAtendCompl202007.parquet.gzip\n",
      "Saved as Parquet: I://base_de_dados//datasus//cnes//datasus_ftp\\2020\\base_de_dados_cnes_202007\\tbEquipeChDifer202007.parquet.gzip\n",
      "Saved as Parquet: I://base_de_dados//datasus//cnes//datasus_ftp\\2020\\base_de_dados_cnes_202007\\tbEstabAtivSecundaria202007.parquet.gzip\n",
      "Saved as Parquet: I://base_de_dados//datasus//cnes//datasus_ftp\\2020\\base_de_dados_cnes_202007\\tbEstabContrato202007.parquet.gzip\n"
     ]
    },
    {
     "name": "stderr",
     "output_type": "stream",
     "text": [
      "C:\\Users\\erick\\AppData\\Local\\Temp\\ipykernel_18324\\463220216.py:31: DtypeWarning: Columns (0,36,45) have mixed types. Specify dtype option on import or set low_memory=False.\n",
      "  df = pd.read_csv(csv_path, sep=';')\n"
     ]
    },
    {
     "name": "stdout",
     "output_type": "stream",
     "text": [
      "Saved as Parquet: I://base_de_dados//datasus//cnes//datasus_ftp\\2020\\base_de_dados_cnes_202007\\tbEstabelecimento202007.parquet.gzip\n",
      "Saved as Parquet: I://base_de_dados//datasus//cnes//datasus_ftp\\2020\\base_de_dados_cnes_202007\\tbEstabHorarioAtend202007.parquet.gzip\n",
      "Saved as Parquet: I://base_de_dados//datasus//cnes//datasus_ftp\\2020\\base_de_dados_cnes_202007\\tbEstado202007.parquet.gzip\n",
      "Saved as Parquet: I://base_de_dados//datasus//cnes//datasus_ftp\\2020\\base_de_dados_cnes_202007\\tbEtnia202007.parquet.gzip\n",
      "Saved as Parquet: I://base_de_dados//datasus//cnes//datasus_ftp\\2020\\base_de_dados_cnes_202007\\tbFluxoDadosClientela202007.parquet.gzip\n",
      "Saved as Parquet: I://base_de_dados//datasus//cnes//datasus_ftp\\2020\\base_de_dados_cnes_202007\\tbGestao202007.parquet.gzip\n",
      "Saved as Parquet: I://base_de_dados//datasus//cnes//datasus_ftp\\2020\\base_de_dados_cnes_202007\\tbGrupoAtividade202007.parquet.gzip\n",
      "Saved as Parquet: I://base_de_dados//datasus//cnes//datasus_ftp\\2020\\base_de_dados_cnes_202007\\tbGrupoEquipe202007.parquet.gzip\n",
      "Saved as Parquet: I://base_de_dados//datasus//cnes//datasus_ftp\\2020\\base_de_dados_cnes_202007\\tbHemoterapia202007.parquet.gzip\n",
      "Saved as Parquet: I://base_de_dados//datasus//cnes//datasus_ftp\\2020\\base_de_dados_cnes_202007\\tbIncentivos202007.parquet.gzip\n",
      "Saved as Parquet: I://base_de_dados//datasus//cnes//datasus_ftp\\2020\\base_de_dados_cnes_202007\\tbInstalFisicaParaAssist202007.parquet.gzip\n",
      "Saved as Parquet: I://base_de_dados//datasus//cnes//datasus_ftp\\2020\\base_de_dados_cnes_202007\\tbInstituicaoAvaliadora202007.parquet.gzip\n",
      "Saved as Parquet: I://base_de_dados//datasus//cnes//datasus_ftp\\2020\\base_de_dados_cnes_202007\\tbLeito202007.parquet.gzip\n",
      "Saved as Parquet: I://base_de_dados//datasus//cnes//datasus_ftp\\2020\\base_de_dados_cnes_202007\\tbMantenedora202007.parquet.gzip\n",
      "Saved as Parquet: I://base_de_dados//datasus//cnes//datasus_ftp\\2020\\base_de_dados_cnes_202007\\tbModVinculo202007.parquet.gzip\n",
      "Saved as Parquet: I://base_de_dados//datasus//cnes//datasus_ftp\\2020\\base_de_dados_cnes_202007\\tbMotivoDesativacao202007.parquet.gzip\n",
      "Saved as Parquet: I://base_de_dados//datasus//cnes//datasus_ftp\\2020\\base_de_dados_cnes_202007\\tbMotivoDesativEquipe202007.parquet.gzip\n",
      "Saved as Parquet: I://base_de_dados//datasus//cnes//datasus_ftp\\2020\\base_de_dados_cnes_202007\\tbMunicipio202007.parquet.gzip\n",
      "Saved as Parquet: I://base_de_dados//datasus//cnes//datasus_ftp\\2020\\base_de_dados_cnes_202007\\tbNaturezaJuridica202007.parquet.gzip\n",
      "Saved as Parquet: I://base_de_dados//datasus//cnes//datasus_ftp\\2020\\base_de_dados_cnes_202007\\tbOrgaoEmissor202007.parquet.gzip\n",
      "Saved as Parquet: I://base_de_dados//datasus//cnes//datasus_ftp\\2020\\base_de_dados_cnes_202007\\tbPoloBase202007.parquet.gzip\n",
      "Saved as Parquet: I://base_de_dados//datasus//cnes//datasus_ftp\\2020\\base_de_dados_cnes_202007\\tbProfResidencia202007.parquet.gzip\n",
      "Saved as Parquet: I://base_de_dados//datasus//cnes//datasus_ftp\\2020\\base_de_dados_cnes_202007\\tbQuimioRadio202007.parquet.gzip\n",
      "Saved as Parquet: I://base_de_dados//datasus//cnes//datasus_ftp\\2020\\base_de_dados_cnes_202007\\tbResidenciaMed202007.parquet.gzip\n",
      "Saved as Parquet: I://base_de_dados//datasus//cnes//datasus_ftp\\2020\\base_de_dados_cnes_202007\\tbSegmento202007.parquet.gzip\n",
      "Saved as Parquet: I://base_de_dados//datasus//cnes//datasus_ftp\\2020\\base_de_dados_cnes_202007\\tbServicoApoio202007.parquet.gzip\n",
      "Saved as Parquet: I://base_de_dados//datasus//cnes//datasus_ftp\\2020\\base_de_dados_cnes_202007\\tbServicoEspecializado202007.parquet.gzip\n",
      "Saved as Parquet: I://base_de_dados//datasus//cnes//datasus_ftp\\2020\\base_de_dados_cnes_202007\\tbServicoReferenciado202007.parquet.gzip\n",
      "Saved as Parquet: I://base_de_dados//datasus//cnes//datasus_ftp\\2020\\base_de_dados_cnes_202007\\tbSubGruposHabilitacao202007.parquet.gzip\n",
      "Saved as Parquet: I://base_de_dados//datasus//cnes//datasus_ftp\\2020\\base_de_dados_cnes_202007\\tbSubTipo202007.parquet.gzip\n",
      "Saved as Parquet: I://base_de_dados//datasus//cnes//datasus_ftp\\2020\\base_de_dados_cnes_202007\\tbSubTipoEquipe202007.parquet.gzip\n",
      "Saved as Parquet: I://base_de_dados//datasus//cnes//datasus_ftp\\2020\\base_de_dados_cnes_202007\\tbSubtipoInstalacao202007.parquet.gzip\n",
      "Saved as Parquet: I://base_de_dados//datasus//cnes//datasus_ftp\\2020\\base_de_dados_cnes_202007\\tbSubTpModVinculo202007.parquet.gzip\n",
      "Saved as Parquet: I://base_de_dados//datasus//cnes//datasus_ftp\\2020\\base_de_dados_cnes_202007\\tbTipoCertidao202007.parquet.gzip\n",
      "Saved as Parquet: I://base_de_dados//datasus//cnes//datasus_ftp\\2020\\base_de_dados_cnes_202007\\tbTipoCgDifer202007.parquet.gzip\n",
      "Saved as Parquet: I://base_de_dados//datasus//cnes//datasus_ftp\\2020\\base_de_dados_cnes_202007\\tbTipoEqSubTipo202007.parquet.gzip\n",
      "Saved as Parquet: I://base_de_dados//datasus//cnes//datasus_ftp\\2020\\base_de_dados_cnes_202007\\tbTipoEquipamento202007.parquet.gzip\n",
      "Saved as Parquet: I://base_de_dados//datasus//cnes//datasus_ftp\\2020\\base_de_dados_cnes_202007\\tbTipoEquipe202007.parquet.gzip\n",
      "Saved as Parquet: I://base_de_dados//datasus//cnes//datasus_ftp\\2020\\base_de_dados_cnes_202007\\tbTipoEscolaridade202007.parquet.gzip\n",
      "Saved as Parquet: I://base_de_dados//datasus//cnes//datasus_ftp\\2020\\base_de_dados_cnes_202007\\tbTipoEstabelecimento202007.parquet.gzip\n",
      "Saved as Parquet: I://base_de_dados//datasus//cnes//datasus_ftp\\2020\\base_de_dados_cnes_202007\\tbTipoInstalacaoFisica202007.parquet.gzip\n",
      "Saved as Parquet: I://base_de_dados//datasus//cnes//datasus_ftp\\2020\\base_de_dados_cnes_202007\\tbTipoServicoReferenciado202007.parquet.gzip\n",
      "Saved as Parquet: I://base_de_dados//datasus//cnes//datasus_ftp\\2020\\base_de_dados_cnes_202007\\tbTipoUnidade202007.parquet.gzip\n",
      "Saved as Parquet: I://base_de_dados//datasus//cnes//datasus_ftp\\2020\\base_de_dados_cnes_202007\\tbTpModVinculo202007.parquet.gzip\n",
      "Saved as Parquet: I://base_de_dados//datasus//cnes//datasus_ftp\\2020\\base_de_dados_cnes_202007\\tbTurnoAtendimento202007.parquet.gzip\n",
      "Month Folder: base_de_dados_cnes_202008\n",
      "Saved as Parquet: I://base_de_dados//datasus//cnes//datasus_ftp\\2020\\base_de_dados_cnes_202008\\rlAdmGerenciaCnes202008.parquet.gzip\n",
      "Saved as Parquet: I://base_de_dados//datasus//cnes//datasus_ftp\\2020\\base_de_dados_cnes_202008\\rlAtividadeObrigatoria202008.parquet.gzip\n",
      "Saved as Parquet: I://base_de_dados//datasus//cnes//datasus_ftp\\2020\\base_de_dados_cnes_202008\\rlCooperativa202008.parquet.gzip\n",
      "Saved as Parquet: I://base_de_dados//datasus//cnes//datasus_ftp\\2020\\base_de_dados_cnes_202008\\rlEquipeAldeia202008.parquet.gzip\n",
      "Saved as Parquet: I://base_de_dados//datasus//cnes//datasus_ftp\\2020\\base_de_dados_cnes_202008\\rlEquipeNasfEsf202008.parquet.gzip\n"
     ]
    },
    {
     "name": "stderr",
     "output_type": "stream",
     "text": [
      "C:\\Users\\erick\\AppData\\Local\\Temp\\ipykernel_18324\\463220216.py:31: DtypeWarning: Columns (0) have mixed types. Specify dtype option on import or set low_memory=False.\n",
      "  df = pd.read_csv(csv_path, sep=';')\n"
     ]
    },
    {
     "name": "stdout",
     "output_type": "stream",
     "text": [
      "Saved as Parquet: I://base_de_dados//datasus//cnes//datasus_ftp\\2020\\base_de_dados_cnes_202008\\rlEstabAtendPrestConv202008.parquet.gzip\n",
      "Saved as Parquet: I://base_de_dados//datasus//cnes//datasus_ftp\\2020\\base_de_dados_cnes_202008\\rlEstabAtenPsico202008.parquet.gzip\n",
      "Saved as Parquet: I://base_de_dados//datasus//cnes//datasus_ftp\\2020\\base_de_dados_cnes_202008\\rlEstabAvaliacao202008.parquet.gzip\n",
      "Saved as Parquet: I://base_de_dados//datasus//cnes//datasus_ftp\\2020\\base_de_dados_cnes_202008\\rlEstabCentralReg202008.parquet.gzip\n",
      "Saved as Parquet: I://base_de_dados//datasus//cnes//datasus_ftp\\2020\\base_de_dados_cnes_202008\\rlEstabColetaSelRejeito202008.parquet.gzip\n",
      "Saved as Parquet: I://base_de_dados//datasus//cnes//datasus_ftp\\2020\\base_de_dados_cnes_202008\\rlEstabComissaoOutro202008.parquet.gzip\n",
      "Saved as Parquet: I://base_de_dados//datasus//cnes//datasus_ftp\\2020\\base_de_dados_cnes_202008\\rlEstabComplementar202008.parquet.gzip\n",
      "Saved as Parquet: I://base_de_dados//datasus//cnes//datasus_ftp\\2020\\base_de_dados_cnes_202008\\rlEstabEndCompl202008.parquet.gzip\n",
      "Saved as Parquet: I://base_de_dados//datasus//cnes//datasus_ftp\\2020\\base_de_dados_cnes_202008\\rlEstabEqpEmbarcacao202008.parquet.gzip\n",
      "Saved as Parquet: I://base_de_dados//datasus//cnes//datasus_ftp\\2020\\base_de_dados_cnes_202008\\rlEstabEqpUnidApoio202008.parquet.gzip\n"
     ]
    },
    {
     "name": "stderr",
     "output_type": "stream",
     "text": [
      "C:\\Users\\erick\\AppData\\Local\\Temp\\ipykernel_18324\\463220216.py:31: DtypeWarning: Columns (0) have mixed types. Specify dtype option on import or set low_memory=False.\n",
      "  df = pd.read_csv(csv_path, sep=';')\n"
     ]
    },
    {
     "name": "stdout",
     "output_type": "stream",
     "text": [
      "Saved as Parquet: I://base_de_dados//datasus//cnes//datasus_ftp\\2020\\base_de_dados_cnes_202008\\rlEstabEquipamento202008.parquet.gzip\n",
      "Saved as Parquet: I://base_de_dados//datasus//cnes//datasus_ftp\\2020\\base_de_dados_cnes_202008\\rlEstabEquipeMun202008.parquet.gzip\n"
     ]
    },
    {
     "name": "stderr",
     "output_type": "stream",
     "text": [
      "C:\\Users\\erick\\AppData\\Local\\Temp\\ipykernel_18324\\463220216.py:31: DtypeWarning: Columns (14) have mixed types. Specify dtype option on import or set low_memory=False.\n",
      "  df = pd.read_csv(csv_path, sep=';')\n"
     ]
    },
    {
     "name": "stdout",
     "output_type": "stream",
     "text": [
      "Saved as Parquet: I://base_de_dados//datasus//cnes//datasus_ftp\\2020\\base_de_dados_cnes_202008\\rlEstabEquipeProf202008.parquet.gzip\n"
     ]
    },
    {
     "name": "stderr",
     "output_type": "stream",
     "text": [
      "C:\\Users\\erick\\AppData\\Local\\Temp\\ipykernel_18324\\463220216.py:31: DtypeWarning: Columns (0) have mixed types. Specify dtype option on import or set low_memory=False.\n",
      "  df = pd.read_csv(csv_path, sep=';')\n"
     ]
    },
    {
     "name": "stdout",
     "output_type": "stream",
     "text": [
      "Saved as Parquet: I://base_de_dados//datasus//cnes//datasus_ftp\\2020\\base_de_dados_cnes_202008\\rlEstabInstFisiAssist202008.parquet.gzip\n",
      "Saved as Parquet: I://base_de_dados//datasus//cnes//datasus_ftp\\2020\\base_de_dados_cnes_202008\\rlEstabOrgParc202008.parquet.gzip\n",
      "Saved as Parquet: I://base_de_dados//datasus//cnes//datasus_ftp\\2020\\base_de_dados_cnes_202008\\rlEstabPoloAldeia202008.parquet.gzip\n",
      "Saved as Parquet: I://base_de_dados//datasus//cnes//datasus_ftp\\2020\\base_de_dados_cnes_202008\\rlEstabProfComissao202008.parquet.gzip\n"
     ]
    },
    {
     "name": "stderr",
     "output_type": "stream",
     "text": [
      "C:\\Users\\erick\\AppData\\Local\\Temp\\ipykernel_18324\\463220216.py:31: DtypeWarning: Columns (2) have mixed types. Specify dtype option on import or set low_memory=False.\n",
      "  df = pd.read_csv(csv_path, sep=';')\n"
     ]
    },
    {
     "name": "stdout",
     "output_type": "stream",
     "text": [
      "Saved as Parquet: I://base_de_dados//datasus//cnes//datasus_ftp\\2020\\base_de_dados_cnes_202008\\rlEstabProgFundo202008.parquet.gzip\n",
      "Saved as Parquet: I://base_de_dados//datasus//cnes//datasus_ftp\\2020\\base_de_dados_cnes_202008\\rlEstabRegimeRes202008.parquet.gzip\n",
      "Saved as Parquet: I://base_de_dados//datasus//cnes//datasus_ftp\\2020\\base_de_dados_cnes_202008\\rlEstabRepresentante202008.parquet.gzip\n",
      "Saved as Parquet: I://base_de_dados//datasus//cnes//datasus_ftp\\2020\\base_de_dados_cnes_202008\\rlEstabSamu202008.parquet.gzip\n"
     ]
    },
    {
     "name": "stderr",
     "output_type": "stream",
     "text": [
      "C:\\Users\\erick\\AppData\\Local\\Temp\\ipykernel_18324\\463220216.py:31: DtypeWarning: Columns (0,10) have mixed types. Specify dtype option on import or set low_memory=False.\n",
      "  df = pd.read_csv(csv_path, sep=';')\n"
     ]
    },
    {
     "name": "stdout",
     "output_type": "stream",
     "text": [
      "Saved as Parquet: I://base_de_dados//datasus//cnes//datasus_ftp\\2020\\base_de_dados_cnes_202008\\rlEstabServClass202008.parquet.gzip\n"
     ]
    },
    {
     "name": "stderr",
     "output_type": "stream",
     "text": [
      "C:\\Users\\erick\\AppData\\Local\\Temp\\ipykernel_18324\\463220216.py:31: DtypeWarning: Columns (2) have mixed types. Specify dtype option on import or set low_memory=False.\n",
      "  df = pd.read_csv(csv_path, sep=';')\n"
     ]
    },
    {
     "name": "stdout",
     "output_type": "stream",
     "text": [
      "Saved as Parquet: I://base_de_dados//datasus//cnes//datasus_ftp\\2020\\base_de_dados_cnes_202008\\rlEstabServicoApoio202008.parquet.gzip\n",
      "Saved as Parquet: I://base_de_dados//datasus//cnes//datasus_ftp\\2020\\base_de_dados_cnes_202008\\rlEstabSipac202008.parquet.gzip\n",
      "Saved as Parquet: I://base_de_dados//datasus//cnes//datasus_ftp\\2020\\base_de_dados_cnes_202008\\rlEstabSubTipo202008.parquet.gzip\n",
      "Saved as Parquet: I://base_de_dados//datasus//cnes//datasus_ftp\\2020\\base_de_dados_cnes_202008\\rlEstabTeleCnes202008.parquet.gzip\n",
      "Saved as Parquet: I://base_de_dados//datasus//cnes//datasus_ftp\\2020\\base_de_dados_cnes_202008\\rlEstabUnidAcolhim202008.parquet.gzip\n",
      "Saved as Parquet: I://base_de_dados//datasus//cnes//datasus_ftp\\2020\\base_de_dados_cnes_202008\\rlMunAtenPsico202008.parquet.gzip\n",
      "Saved as Parquet: I://base_de_dados//datasus//cnes//datasus_ftp\\2020\\base_de_dados_cnes_202008\\rlMunRegimeRes202008.parquet.gzip\n",
      "Saved as Parquet: I://base_de_dados//datasus//cnes//datasus_ftp\\2020\\base_de_dados_cnes_202008\\rlMunUnidAcolhim202008.parquet.gzip\n",
      "Saved as Parquet: I://base_de_dados//datasus//cnes//datasus_ftp\\2020\\base_de_dados_cnes_202008\\rlNasfEsf202008.parquet.gzip\n",
      "Saved as Parquet: I://base_de_dados//datasus//cnes//datasus_ftp\\2020\\base_de_dados_cnes_202008\\rlTipoEstabAtividade202008.parquet.gzip\n",
      "Saved as Parquet: I://base_de_dados//datasus//cnes//datasus_ftp\\2020\\base_de_dados_cnes_202008\\tbAldeia202008.parquet.gzip\n",
      "Saved as Parquet: I://base_de_dados//datasus//cnes//datasus_ftp\\2020\\base_de_dados_cnes_202008\\tbArea202008.parquet.gzip\n",
      "Saved as Parquet: I://base_de_dados//datasus//cnes//datasus_ftp\\2020\\base_de_dados_cnes_202008\\tbAtendimentoPrestado202008.parquet.gzip\n",
      "Saved as Parquet: I://base_de_dados//datasus//cnes//datasus_ftp\\2020\\base_de_dados_cnes_202008\\tbAtividade202008.parquet.gzip\n",
      "Saved as Parquet: I://base_de_dados//datasus//cnes//datasus_ftp\\2020\\base_de_dados_cnes_202008\\tbAtividadeEnsino202008.parquet.gzip\n",
      "Saved as Parquet: I://base_de_dados//datasus//cnes//datasus_ftp\\2020\\base_de_dados_cnes_202008\\tbAtividadeProfissional202008.parquet.gzip\n",
      "Saved as Parquet: I://base_de_dados//datasus//cnes//datasus_ftp\\2020\\base_de_dados_cnes_202008\\tbAtributo202008.parquet.gzip\n",
      "Saved as Parquet: I://base_de_dados//datasus//cnes//datasus_ftp\\2020\\base_de_dados_cnes_202008\\tbAvaliacao202008.parquet.gzip\n",
      "Saved as Parquet: I://base_de_dados//datasus//cnes//datasus_ftp\\2020\\base_de_dados_cnes_202008\\tbBanco202008.parquet.gzip\n"
     ]
    },
    {
     "name": "stderr",
     "output_type": "stream",
     "text": [
      "C:\\Users\\erick\\AppData\\Local\\Temp\\ipykernel_18324\\463220216.py:31: DtypeWarning: Columns (0,12) have mixed types. Specify dtype option on import or set low_memory=False.\n",
      "  df = pd.read_csv(csv_path, sep=';')\n"
     ]
    },
    {
     "name": "stdout",
     "output_type": "stream",
     "text": [
      "Saved as Parquet: I://base_de_dados//datasus//cnes//datasus_ftp\\2020\\base_de_dados_cnes_202008\\tbCargaHorariaSus202008.parquet.gzip\n",
      "Saved as Parquet: I://base_de_dados//datasus//cnes//datasus_ftp\\2020\\base_de_dados_cnes_202008\\tbClassificacaoAval202008.parquet.gzip\n",
      "Saved as Parquet: I://base_de_dados//datasus//cnes//datasus_ftp\\2020\\base_de_dados_cnes_202008\\tbClassificacaoServico202008.parquet.gzip\n",
      "Saved as Parquet: I://base_de_dados//datasus//cnes//datasus_ftp\\2020\\base_de_dados_cnes_202008\\tbColetaSeletivaRejeito202008.parquet.gzip\n",
      "Saved as Parquet: I://base_de_dados//datasus//cnes//datasus_ftp\\2020\\base_de_dados_cnes_202008\\tbComissaoOutro202008.parquet.gzip\n",
      "Saved as Parquet: I://base_de_dados//datasus//cnes//datasus_ftp\\2020\\base_de_dados_cnes_202008\\tbConselhoClasse202008.parquet.gzip\n",
      "Saved as Parquet: I://base_de_dados//datasus//cnes//datasus_ftp\\2020\\base_de_dados_cnes_202008\\tbConvenio202008.parquet.gzip\n",
      "Saved as Parquet: I://base_de_dados//datasus//cnes//datasus_ftp\\2020\\base_de_dados_cnes_202008\\tbDadosProfissionalSus202008.parquet.gzip\n",
      "Saved as Parquet: I://base_de_dados//datasus//cnes//datasus_ftp\\2020\\base_de_dados_cnes_202008\\tbDialise202008.parquet.gzip\n",
      "Saved as Parquet: I://base_de_dados//datasus//cnes//datasus_ftp\\2020\\base_de_dados_cnes_202008\\tbDsei202008.parquet.gzip\n",
      "Saved as Parquet: I://base_de_dados//datasus//cnes//datasus_ftp\\2020\\base_de_dados_cnes_202008\\tbEquipamento202008.parquet.gzip\n"
     ]
    },
    {
     "name": "stderr",
     "output_type": "stream",
     "text": [
      "C:\\Users\\erick\\AppData\\Local\\Temp\\ipykernel_18324\\463220216.py:31: DtypeWarning: Columns (24) have mixed types. Specify dtype option on import or set low_memory=False.\n",
      "  df = pd.read_csv(csv_path, sep=';')\n"
     ]
    },
    {
     "name": "stdout",
     "output_type": "stream",
     "text": [
      "Saved as Parquet: I://base_de_dados//datasus//cnes//datasus_ftp\\2020\\base_de_dados_cnes_202008\\tbEquipe202008.parquet.gzip\n",
      "Saved as Parquet: I://base_de_dados//datasus//cnes//datasus_ftp\\2020\\base_de_dados_cnes_202008\\tbEquipeAtendCompl202008.parquet.gzip\n",
      "Saved as Parquet: I://base_de_dados//datasus//cnes//datasus_ftp\\2020\\base_de_dados_cnes_202008\\tbEquipeChDifer202008.parquet.gzip\n",
      "Saved as Parquet: I://base_de_dados//datasus//cnes//datasus_ftp\\2020\\base_de_dados_cnes_202008\\tbEstabAtivSecundaria202008.parquet.gzip\n",
      "Saved as Parquet: I://base_de_dados//datasus//cnes//datasus_ftp\\2020\\base_de_dados_cnes_202008\\tbEstabContrato202008.parquet.gzip\n"
     ]
    },
    {
     "name": "stderr",
     "output_type": "stream",
     "text": [
      "C:\\Users\\erick\\AppData\\Local\\Temp\\ipykernel_18324\\463220216.py:31: DtypeWarning: Columns (0,14,15,36,45) have mixed types. Specify dtype option on import or set low_memory=False.\n",
      "  df = pd.read_csv(csv_path, sep=';')\n"
     ]
    },
    {
     "name": "stdout",
     "output_type": "stream",
     "text": [
      "Saved as Parquet: I://base_de_dados//datasus//cnes//datasus_ftp\\2020\\base_de_dados_cnes_202008\\tbEstabelecimento202008.parquet.gzip\n",
      "Saved as Parquet: I://base_de_dados//datasus//cnes//datasus_ftp\\2020\\base_de_dados_cnes_202008\\tbEstabHorarioAtend202008.parquet.gzip\n",
      "Saved as Parquet: I://base_de_dados//datasus//cnes//datasus_ftp\\2020\\base_de_dados_cnes_202008\\tbEstado202008.parquet.gzip\n",
      "Saved as Parquet: I://base_de_dados//datasus//cnes//datasus_ftp\\2020\\base_de_dados_cnes_202008\\tbEtnia202008.parquet.gzip\n",
      "Saved as Parquet: I://base_de_dados//datasus//cnes//datasus_ftp\\2020\\base_de_dados_cnes_202008\\tbFluxoDadosClientela202008.parquet.gzip\n",
      "Saved as Parquet: I://base_de_dados//datasus//cnes//datasus_ftp\\2020\\base_de_dados_cnes_202008\\tbGestao202008.parquet.gzip\n",
      "Saved as Parquet: I://base_de_dados//datasus//cnes//datasus_ftp\\2020\\base_de_dados_cnes_202008\\tbGrupoAtividade202008.parquet.gzip\n",
      "Saved as Parquet: I://base_de_dados//datasus//cnes//datasus_ftp\\2020\\base_de_dados_cnes_202008\\tbGrupoEquipe202008.parquet.gzip\n",
      "Saved as Parquet: I://base_de_dados//datasus//cnes//datasus_ftp\\2020\\base_de_dados_cnes_202008\\tbHemoterapia202008.parquet.gzip\n",
      "Saved as Parquet: I://base_de_dados//datasus//cnes//datasus_ftp\\2020\\base_de_dados_cnes_202008\\tbIncentivos202008.parquet.gzip\n",
      "Saved as Parquet: I://base_de_dados//datasus//cnes//datasus_ftp\\2020\\base_de_dados_cnes_202008\\tbInstalFisicaParaAssist202008.parquet.gzip\n",
      "Saved as Parquet: I://base_de_dados//datasus//cnes//datasus_ftp\\2020\\base_de_dados_cnes_202008\\tbInstituicaoAvaliadora202008.parquet.gzip\n",
      "Saved as Parquet: I://base_de_dados//datasus//cnes//datasus_ftp\\2020\\base_de_dados_cnes_202008\\tbLeito202008.parquet.gzip\n",
      "Saved as Parquet: I://base_de_dados//datasus//cnes//datasus_ftp\\2020\\base_de_dados_cnes_202008\\tbMantenedora202008.parquet.gzip\n",
      "Saved as Parquet: I://base_de_dados//datasus//cnes//datasus_ftp\\2020\\base_de_dados_cnes_202008\\tbModVinculo202008.parquet.gzip\n",
      "Saved as Parquet: I://base_de_dados//datasus//cnes//datasus_ftp\\2020\\base_de_dados_cnes_202008\\tbMotivoDesativacao202008.parquet.gzip\n",
      "Saved as Parquet: I://base_de_dados//datasus//cnes//datasus_ftp\\2020\\base_de_dados_cnes_202008\\tbMotivoDesativEquipe202008.parquet.gzip\n",
      "Saved as Parquet: I://base_de_dados//datasus//cnes//datasus_ftp\\2020\\base_de_dados_cnes_202008\\tbMunicipio202008.parquet.gzip\n",
      "Saved as Parquet: I://base_de_dados//datasus//cnes//datasus_ftp\\2020\\base_de_dados_cnes_202008\\tbNaturezaJuridica202008.parquet.gzip\n",
      "Saved as Parquet: I://base_de_dados//datasus//cnes//datasus_ftp\\2020\\base_de_dados_cnes_202008\\tbOrgaoEmissor202008.parquet.gzip\n",
      "Saved as Parquet: I://base_de_dados//datasus//cnes//datasus_ftp\\2020\\base_de_dados_cnes_202008\\tbPoloBase202008.parquet.gzip\n",
      "Saved as Parquet: I://base_de_dados//datasus//cnes//datasus_ftp\\2020\\base_de_dados_cnes_202008\\tbProfResidencia202008.parquet.gzip\n",
      "Saved as Parquet: I://base_de_dados//datasus//cnes//datasus_ftp\\2020\\base_de_dados_cnes_202008\\tbQuimioRadio202008.parquet.gzip\n",
      "Saved as Parquet: I://base_de_dados//datasus//cnes//datasus_ftp\\2020\\base_de_dados_cnes_202008\\tbResidenciaMed202008.parquet.gzip\n",
      "Saved as Parquet: I://base_de_dados//datasus//cnes//datasus_ftp\\2020\\base_de_dados_cnes_202008\\tbSegmento202008.parquet.gzip\n",
      "Saved as Parquet: I://base_de_dados//datasus//cnes//datasus_ftp\\2020\\base_de_dados_cnes_202008\\tbServicoApoio202008.parquet.gzip\n",
      "Saved as Parquet: I://base_de_dados//datasus//cnes//datasus_ftp\\2020\\base_de_dados_cnes_202008\\tbServicoEspecializado202008.parquet.gzip\n",
      "Saved as Parquet: I://base_de_dados//datasus//cnes//datasus_ftp\\2020\\base_de_dados_cnes_202008\\tbServicoReferenciado202008.parquet.gzip\n",
      "Saved as Parquet: I://base_de_dados//datasus//cnes//datasus_ftp\\2020\\base_de_dados_cnes_202008\\tbSubGruposHabilitacao202008.parquet.gzip\n",
      "Saved as Parquet: I://base_de_dados//datasus//cnes//datasus_ftp\\2020\\base_de_dados_cnes_202008\\tbSubTipo202008.parquet.gzip\n",
      "Saved as Parquet: I://base_de_dados//datasus//cnes//datasus_ftp\\2020\\base_de_dados_cnes_202008\\tbSubTipoEquipe202008.parquet.gzip\n",
      "Saved as Parquet: I://base_de_dados//datasus//cnes//datasus_ftp\\2020\\base_de_dados_cnes_202008\\tbSubtipoInstalacao202008.parquet.gzip\n",
      "Saved as Parquet: I://base_de_dados//datasus//cnes//datasus_ftp\\2020\\base_de_dados_cnes_202008\\tbSubTpModVinculo202008.parquet.gzip\n",
      "Saved as Parquet: I://base_de_dados//datasus//cnes//datasus_ftp\\2020\\base_de_dados_cnes_202008\\tbTipoCertidao202008.parquet.gzip\n",
      "Saved as Parquet: I://base_de_dados//datasus//cnes//datasus_ftp\\2020\\base_de_dados_cnes_202008\\tbTipoCgDifer202008.parquet.gzip\n",
      "Saved as Parquet: I://base_de_dados//datasus//cnes//datasus_ftp\\2020\\base_de_dados_cnes_202008\\tbTipoEqSubTipo202008.parquet.gzip\n",
      "Saved as Parquet: I://base_de_dados//datasus//cnes//datasus_ftp\\2020\\base_de_dados_cnes_202008\\tbTipoEquipamento202008.parquet.gzip\n",
      "Saved as Parquet: I://base_de_dados//datasus//cnes//datasus_ftp\\2020\\base_de_dados_cnes_202008\\tbTipoEquipe202008.parquet.gzip\n",
      "Saved as Parquet: I://base_de_dados//datasus//cnes//datasus_ftp\\2020\\base_de_dados_cnes_202008\\tbTipoEscolaridade202008.parquet.gzip\n",
      "Saved as Parquet: I://base_de_dados//datasus//cnes//datasus_ftp\\2020\\base_de_dados_cnes_202008\\tbTipoEstabelecimento202008.parquet.gzip\n",
      "Saved as Parquet: I://base_de_dados//datasus//cnes//datasus_ftp\\2020\\base_de_dados_cnes_202008\\tbTipoInstalacaoFisica202008.parquet.gzip\n",
      "Saved as Parquet: I://base_de_dados//datasus//cnes//datasus_ftp\\2020\\base_de_dados_cnes_202008\\tbTipoServicoReferenciado202008.parquet.gzip\n",
      "Saved as Parquet: I://base_de_dados//datasus//cnes//datasus_ftp\\2020\\base_de_dados_cnes_202008\\tbTipoUnidade202008.parquet.gzip\n",
      "Saved as Parquet: I://base_de_dados//datasus//cnes//datasus_ftp\\2020\\base_de_dados_cnes_202008\\tbTpModVinculo202008.parquet.gzip\n",
      "Saved as Parquet: I://base_de_dados//datasus//cnes//datasus_ftp\\2020\\base_de_dados_cnes_202008\\tbTurnoAtendimento202008.parquet.gzip\n",
      "Month Folder: base_de_dados_cnes_202009\n",
      "Saved as Parquet: I://base_de_dados//datasus//cnes//datasus_ftp\\2020\\base_de_dados_cnes_202009\\rlAdmGerenciaCnes202009.parquet.gzip\n",
      "Saved as Parquet: I://base_de_dados//datasus//cnes//datasus_ftp\\2020\\base_de_dados_cnes_202009\\rlAtividadeObrigatoria202009.parquet.gzip\n",
      "Saved as Parquet: I://base_de_dados//datasus//cnes//datasus_ftp\\2020\\base_de_dados_cnes_202009\\rlCooperativa202009.parquet.gzip\n",
      "Saved as Parquet: I://base_de_dados//datasus//cnes//datasus_ftp\\2020\\base_de_dados_cnes_202009\\rlEquipeAldeia202009.parquet.gzip\n",
      "Saved as Parquet: I://base_de_dados//datasus//cnes//datasus_ftp\\2020\\base_de_dados_cnes_202009\\rlEquipeNasfEsf202009.parquet.gzip\n"
     ]
    },
    {
     "name": "stderr",
     "output_type": "stream",
     "text": [
      "C:\\Users\\erick\\AppData\\Local\\Temp\\ipykernel_18324\\463220216.py:31: DtypeWarning: Columns (0) have mixed types. Specify dtype option on import or set low_memory=False.\n",
      "  df = pd.read_csv(csv_path, sep=';')\n"
     ]
    },
    {
     "name": "stdout",
     "output_type": "stream",
     "text": [
      "Saved as Parquet: I://base_de_dados//datasus//cnes//datasus_ftp\\2020\\base_de_dados_cnes_202009\\rlEstabAtendPrestConv202009.parquet.gzip\n",
      "Saved as Parquet: I://base_de_dados//datasus//cnes//datasus_ftp\\2020\\base_de_dados_cnes_202009\\rlEstabAtenPsico202009.parquet.gzip\n",
      "Saved as Parquet: I://base_de_dados//datasus//cnes//datasus_ftp\\2020\\base_de_dados_cnes_202009\\rlEstabAvaliacao202009.parquet.gzip\n",
      "Saved as Parquet: I://base_de_dados//datasus//cnes//datasus_ftp\\2020\\base_de_dados_cnes_202009\\rlEstabCentralReg202009.parquet.gzip\n",
      "Saved as Parquet: I://base_de_dados//datasus//cnes//datasus_ftp\\2020\\base_de_dados_cnes_202009\\rlEstabColetaSelRejeito202009.parquet.gzip\n",
      "Saved as Parquet: I://base_de_dados//datasus//cnes//datasus_ftp\\2020\\base_de_dados_cnes_202009\\rlEstabComissaoOutro202009.parquet.gzip\n",
      "Saved as Parquet: I://base_de_dados//datasus//cnes//datasus_ftp\\2020\\base_de_dados_cnes_202009\\rlEstabComplementar202009.parquet.gzip\n",
      "Saved as Parquet: I://base_de_dados//datasus//cnes//datasus_ftp\\2020\\base_de_dados_cnes_202009\\rlEstabEndCompl202009.parquet.gzip\n",
      "Saved as Parquet: I://base_de_dados//datasus//cnes//datasus_ftp\\2020\\base_de_dados_cnes_202009\\rlEstabEqpEmbarcacao202009.parquet.gzip\n",
      "Saved as Parquet: I://base_de_dados//datasus//cnes//datasus_ftp\\2020\\base_de_dados_cnes_202009\\rlEstabEqpUnidApoio202009.parquet.gzip\n"
     ]
    },
    {
     "name": "stderr",
     "output_type": "stream",
     "text": [
      "C:\\Users\\erick\\AppData\\Local\\Temp\\ipykernel_18324\\463220216.py:31: DtypeWarning: Columns (0) have mixed types. Specify dtype option on import or set low_memory=False.\n",
      "  df = pd.read_csv(csv_path, sep=';')\n"
     ]
    },
    {
     "name": "stdout",
     "output_type": "stream",
     "text": [
      "Saved as Parquet: I://base_de_dados//datasus//cnes//datasus_ftp\\2020\\base_de_dados_cnes_202009\\rlEstabEquipamento202009.parquet.gzip\n",
      "Saved as Parquet: I://base_de_dados//datasus//cnes//datasus_ftp\\2020\\base_de_dados_cnes_202009\\rlEstabEquipeMun202009.parquet.gzip\n"
     ]
    },
    {
     "name": "stderr",
     "output_type": "stream",
     "text": [
      "C:\\Users\\erick\\AppData\\Local\\Temp\\ipykernel_18324\\463220216.py:31: DtypeWarning: Columns (14) have mixed types. Specify dtype option on import or set low_memory=False.\n",
      "  df = pd.read_csv(csv_path, sep=';')\n"
     ]
    },
    {
     "name": "stdout",
     "output_type": "stream",
     "text": [
      "Saved as Parquet: I://base_de_dados//datasus//cnes//datasus_ftp\\2020\\base_de_dados_cnes_202009\\rlEstabEquipeProf202009.parquet.gzip\n",
      "Saved as Parquet: I://base_de_dados//datasus//cnes//datasus_ftp\\2020\\base_de_dados_cnes_202009\\rlEstabInstFisiAssist202009.parquet.gzip\n",
      "Saved as Parquet: I://base_de_dados//datasus//cnes//datasus_ftp\\2020\\base_de_dados_cnes_202009\\rlEstabOrgParc202009.parquet.gzip\n",
      "Saved as Parquet: I://base_de_dados//datasus//cnes//datasus_ftp\\2020\\base_de_dados_cnes_202009\\rlEstabPoloAldeia202009.parquet.gzip\n",
      "Saved as Parquet: I://base_de_dados//datasus//cnes//datasus_ftp\\2020\\base_de_dados_cnes_202009\\rlEstabProfComissao202009.parquet.gzip\n"
     ]
    },
    {
     "name": "stderr",
     "output_type": "stream",
     "text": [
      "C:\\Users\\erick\\AppData\\Local\\Temp\\ipykernel_18324\\463220216.py:31: DtypeWarning: Columns (2) have mixed types. Specify dtype option on import or set low_memory=False.\n",
      "  df = pd.read_csv(csv_path, sep=';')\n"
     ]
    },
    {
     "name": "stdout",
     "output_type": "stream",
     "text": [
      "Saved as Parquet: I://base_de_dados//datasus//cnes//datasus_ftp\\2020\\base_de_dados_cnes_202009\\rlEstabProgFundo202009.parquet.gzip\n",
      "Saved as Parquet: I://base_de_dados//datasus//cnes//datasus_ftp\\2020\\base_de_dados_cnes_202009\\rlEstabRegimeRes202009.parquet.gzip\n",
      "Saved as Parquet: I://base_de_dados//datasus//cnes//datasus_ftp\\2020\\base_de_dados_cnes_202009\\rlEstabRepresentante202009.parquet.gzip\n",
      "Saved as Parquet: I://base_de_dados//datasus//cnes//datasus_ftp\\2020\\base_de_dados_cnes_202009\\rlEstabSamu202009.parquet.gzip\n"
     ]
    },
    {
     "name": "stderr",
     "output_type": "stream",
     "text": [
      "C:\\Users\\erick\\AppData\\Local\\Temp\\ipykernel_18324\\463220216.py:31: DtypeWarning: Columns (0) have mixed types. Specify dtype option on import or set low_memory=False.\n",
      "  df = pd.read_csv(csv_path, sep=';')\n"
     ]
    },
    {
     "name": "stdout",
     "output_type": "stream",
     "text": [
      "Saved as Parquet: I://base_de_dados//datasus//cnes//datasus_ftp\\2020\\base_de_dados_cnes_202009\\rlEstabServClass202009.parquet.gzip\n"
     ]
    },
    {
     "name": "stderr",
     "output_type": "stream",
     "text": [
      "C:\\Users\\erick\\AppData\\Local\\Temp\\ipykernel_18324\\463220216.py:31: DtypeWarning: Columns (2) have mixed types. Specify dtype option on import or set low_memory=False.\n",
      "  df = pd.read_csv(csv_path, sep=';')\n"
     ]
    },
    {
     "name": "stdout",
     "output_type": "stream",
     "text": [
      "Saved as Parquet: I://base_de_dados//datasus//cnes//datasus_ftp\\2020\\base_de_dados_cnes_202009\\rlEstabServicoApoio202009.parquet.gzip\n",
      "Saved as Parquet: I://base_de_dados//datasus//cnes//datasus_ftp\\2020\\base_de_dados_cnes_202009\\rlEstabSipac202009.parquet.gzip\n",
      "Saved as Parquet: I://base_de_dados//datasus//cnes//datasus_ftp\\2020\\base_de_dados_cnes_202009\\rlEstabSubTipo202009.parquet.gzip\n",
      "Saved as Parquet: I://base_de_dados//datasus//cnes//datasus_ftp\\2020\\base_de_dados_cnes_202009\\rlEstabTeleCnes202009.parquet.gzip\n",
      "Saved as Parquet: I://base_de_dados//datasus//cnes//datasus_ftp\\2020\\base_de_dados_cnes_202009\\rlEstabUnidAcolhim202009.parquet.gzip\n",
      "Saved as Parquet: I://base_de_dados//datasus//cnes//datasus_ftp\\2020\\base_de_dados_cnes_202009\\rlMunAtenPsico202009.parquet.gzip\n",
      "Saved as Parquet: I://base_de_dados//datasus//cnes//datasus_ftp\\2020\\base_de_dados_cnes_202009\\rlMunRegimeRes202009.parquet.gzip\n",
      "Saved as Parquet: I://base_de_dados//datasus//cnes//datasus_ftp\\2020\\base_de_dados_cnes_202009\\rlMunUnidAcolhim202009.parquet.gzip\n",
      "Saved as Parquet: I://base_de_dados//datasus//cnes//datasus_ftp\\2020\\base_de_dados_cnes_202009\\rlNasfEsf202009.parquet.gzip\n",
      "Saved as Parquet: I://base_de_dados//datasus//cnes//datasus_ftp\\2020\\base_de_dados_cnes_202009\\rlTipoEstabAtividade202009.parquet.gzip\n",
      "Saved as Parquet: I://base_de_dados//datasus//cnes//datasus_ftp\\2020\\base_de_dados_cnes_202009\\tbAldeia202009.parquet.gzip\n",
      "Saved as Parquet: I://base_de_dados//datasus//cnes//datasus_ftp\\2020\\base_de_dados_cnes_202009\\tbArea202009.parquet.gzip\n",
      "Saved as Parquet: I://base_de_dados//datasus//cnes//datasus_ftp\\2020\\base_de_dados_cnes_202009\\tbAtendimentoPrestado202009.parquet.gzip\n",
      "Saved as Parquet: I://base_de_dados//datasus//cnes//datasus_ftp\\2020\\base_de_dados_cnes_202009\\tbAtividade202009.parquet.gzip\n",
      "Saved as Parquet: I://base_de_dados//datasus//cnes//datasus_ftp\\2020\\base_de_dados_cnes_202009\\tbAtividadeEnsino202009.parquet.gzip\n",
      "Saved as Parquet: I://base_de_dados//datasus//cnes//datasus_ftp\\2020\\base_de_dados_cnes_202009\\tbAtividadeProfissional202009.parquet.gzip\n",
      "Saved as Parquet: I://base_de_dados//datasus//cnes//datasus_ftp\\2020\\base_de_dados_cnes_202009\\tbAtributo202009.parquet.gzip\n",
      "Saved as Parquet: I://base_de_dados//datasus//cnes//datasus_ftp\\2020\\base_de_dados_cnes_202009\\tbAvaliacao202009.parquet.gzip\n",
      "Saved as Parquet: I://base_de_dados//datasus//cnes//datasus_ftp\\2020\\base_de_dados_cnes_202009\\tbBanco202009.parquet.gzip\n"
     ]
    },
    {
     "name": "stderr",
     "output_type": "stream",
     "text": [
      "C:\\Users\\erick\\AppData\\Local\\Temp\\ipykernel_18324\\463220216.py:31: DtypeWarning: Columns (0,12) have mixed types. Specify dtype option on import or set low_memory=False.\n",
      "  df = pd.read_csv(csv_path, sep=';')\n"
     ]
    },
    {
     "name": "stdout",
     "output_type": "stream",
     "text": [
      "Saved as Parquet: I://base_de_dados//datasus//cnes//datasus_ftp\\2020\\base_de_dados_cnes_202009\\tbCargaHorariaSus202009.parquet.gzip\n",
      "Saved as Parquet: I://base_de_dados//datasus//cnes//datasus_ftp\\2020\\base_de_dados_cnes_202009\\tbClassificacaoAval202009.parquet.gzip\n",
      "Saved as Parquet: I://base_de_dados//datasus//cnes//datasus_ftp\\2020\\base_de_dados_cnes_202009\\tbClassificacaoServico202009.parquet.gzip\n",
      "Saved as Parquet: I://base_de_dados//datasus//cnes//datasus_ftp\\2020\\base_de_dados_cnes_202009\\tbColetaSeletivaRejeito202009.parquet.gzip\n",
      "Saved as Parquet: I://base_de_dados//datasus//cnes//datasus_ftp\\2020\\base_de_dados_cnes_202009\\tbComissaoOutro202009.parquet.gzip\n",
      "Saved as Parquet: I://base_de_dados//datasus//cnes//datasus_ftp\\2020\\base_de_dados_cnes_202009\\tbConselhoClasse202009.parquet.gzip\n",
      "Saved as Parquet: I://base_de_dados//datasus//cnes//datasus_ftp\\2020\\base_de_dados_cnes_202009\\tbConvenio202009.parquet.gzip\n",
      "Saved as Parquet: I://base_de_dados//datasus//cnes//datasus_ftp\\2020\\base_de_dados_cnes_202009\\tbDadosProfissionalSus202009.parquet.gzip\n",
      "Saved as Parquet: I://base_de_dados//datasus//cnes//datasus_ftp\\2020\\base_de_dados_cnes_202009\\tbDialise202009.parquet.gzip\n",
      "Saved as Parquet: I://base_de_dados//datasus//cnes//datasus_ftp\\2020\\base_de_dados_cnes_202009\\tbDsei202009.parquet.gzip\n",
      "Saved as Parquet: I://base_de_dados//datasus//cnes//datasus_ftp\\2020\\base_de_dados_cnes_202009\\tbEquipamento202009.parquet.gzip\n"
     ]
    },
    {
     "name": "stderr",
     "output_type": "stream",
     "text": [
      "C:\\Users\\erick\\AppData\\Local\\Temp\\ipykernel_18324\\463220216.py:31: DtypeWarning: Columns (24) have mixed types. Specify dtype option on import or set low_memory=False.\n",
      "  df = pd.read_csv(csv_path, sep=';')\n"
     ]
    },
    {
     "name": "stdout",
     "output_type": "stream",
     "text": [
      "Saved as Parquet: I://base_de_dados//datasus//cnes//datasus_ftp\\2020\\base_de_dados_cnes_202009\\tbEquipe202009.parquet.gzip\n",
      "Saved as Parquet: I://base_de_dados//datasus//cnes//datasus_ftp\\2020\\base_de_dados_cnes_202009\\tbEquipeAtendCompl202009.parquet.gzip\n",
      "Saved as Parquet: I://base_de_dados//datasus//cnes//datasus_ftp\\2020\\base_de_dados_cnes_202009\\tbEquipeChDifer202009.parquet.gzip\n",
      "Saved as Parquet: I://base_de_dados//datasus//cnes//datasus_ftp\\2020\\base_de_dados_cnes_202009\\tbEstabAtivSecundaria202009.parquet.gzip\n",
      "Saved as Parquet: I://base_de_dados//datasus//cnes//datasus_ftp\\2020\\base_de_dados_cnes_202009\\tbEstabContrato202009.parquet.gzip\n"
     ]
    },
    {
     "name": "stderr",
     "output_type": "stream",
     "text": [
      "C:\\Users\\erick\\AppData\\Local\\Temp\\ipykernel_18324\\463220216.py:31: DtypeWarning: Columns (0,36,45) have mixed types. Specify dtype option on import or set low_memory=False.\n",
      "  df = pd.read_csv(csv_path, sep=';')\n"
     ]
    },
    {
     "name": "stdout",
     "output_type": "stream",
     "text": [
      "Saved as Parquet: I://base_de_dados//datasus//cnes//datasus_ftp\\2020\\base_de_dados_cnes_202009\\tbEstabelecimento202009.parquet.gzip\n",
      "Saved as Parquet: I://base_de_dados//datasus//cnes//datasus_ftp\\2020\\base_de_dados_cnes_202009\\tbEstabHorarioAtend202009.parquet.gzip\n",
      "Saved as Parquet: I://base_de_dados//datasus//cnes//datasus_ftp\\2020\\base_de_dados_cnes_202009\\tbEstado202009.parquet.gzip\n",
      "Saved as Parquet: I://base_de_dados//datasus//cnes//datasus_ftp\\2020\\base_de_dados_cnes_202009\\tbEtnia202009.parquet.gzip\n",
      "Saved as Parquet: I://base_de_dados//datasus//cnes//datasus_ftp\\2020\\base_de_dados_cnes_202009\\tbFluxoDadosClientela202009.parquet.gzip\n",
      "Saved as Parquet: I://base_de_dados//datasus//cnes//datasus_ftp\\2020\\base_de_dados_cnes_202009\\tbGestao202009.parquet.gzip\n",
      "Saved as Parquet: I://base_de_dados//datasus//cnes//datasus_ftp\\2020\\base_de_dados_cnes_202009\\tbGrupoAtividade202009.parquet.gzip\n",
      "Saved as Parquet: I://base_de_dados//datasus//cnes//datasus_ftp\\2020\\base_de_dados_cnes_202009\\tbGrupoEquipe202009.parquet.gzip\n",
      "Saved as Parquet: I://base_de_dados//datasus//cnes//datasus_ftp\\2020\\base_de_dados_cnes_202009\\tbHemoterapia202009.parquet.gzip\n",
      "Saved as Parquet: I://base_de_dados//datasus//cnes//datasus_ftp\\2020\\base_de_dados_cnes_202009\\tbIncentivos202009.parquet.gzip\n",
      "Saved as Parquet: I://base_de_dados//datasus//cnes//datasus_ftp\\2020\\base_de_dados_cnes_202009\\tbInstalFisicaParaAssist202009.parquet.gzip\n",
      "Saved as Parquet: I://base_de_dados//datasus//cnes//datasus_ftp\\2020\\base_de_dados_cnes_202009\\tbInstituicaoAvaliadora202009.parquet.gzip\n",
      "Saved as Parquet: I://base_de_dados//datasus//cnes//datasus_ftp\\2020\\base_de_dados_cnes_202009\\tbLeito202009.parquet.gzip\n",
      "Saved as Parquet: I://base_de_dados//datasus//cnes//datasus_ftp\\2020\\base_de_dados_cnes_202009\\tbMantenedora202009.parquet.gzip\n",
      "Saved as Parquet: I://base_de_dados//datasus//cnes//datasus_ftp\\2020\\base_de_dados_cnes_202009\\tbModVinculo202009.parquet.gzip\n",
      "Saved as Parquet: I://base_de_dados//datasus//cnes//datasus_ftp\\2020\\base_de_dados_cnes_202009\\tbMotivoDesativacao202009.parquet.gzip\n",
      "Saved as Parquet: I://base_de_dados//datasus//cnes//datasus_ftp\\2020\\base_de_dados_cnes_202009\\tbMotivoDesativEquipe202009.parquet.gzip\n",
      "Saved as Parquet: I://base_de_dados//datasus//cnes//datasus_ftp\\2020\\base_de_dados_cnes_202009\\tbMunicipio202009.parquet.gzip\n",
      "Saved as Parquet: I://base_de_dados//datasus//cnes//datasus_ftp\\2020\\base_de_dados_cnes_202009\\tbNaturezaJuridica202009.parquet.gzip\n",
      "Saved as Parquet: I://base_de_dados//datasus//cnes//datasus_ftp\\2020\\base_de_dados_cnes_202009\\tbOrgaoEmissor202009.parquet.gzip\n",
      "Saved as Parquet: I://base_de_dados//datasus//cnes//datasus_ftp\\2020\\base_de_dados_cnes_202009\\tbPoloBase202009.parquet.gzip\n",
      "Saved as Parquet: I://base_de_dados//datasus//cnes//datasus_ftp\\2020\\base_de_dados_cnes_202009\\tbProfResidencia202009.parquet.gzip\n",
      "Saved as Parquet: I://base_de_dados//datasus//cnes//datasus_ftp\\2020\\base_de_dados_cnes_202009\\tbQuimioRadio202009.parquet.gzip\n",
      "Saved as Parquet: I://base_de_dados//datasus//cnes//datasus_ftp\\2020\\base_de_dados_cnes_202009\\tbResidenciaMed202009.parquet.gzip\n",
      "Saved as Parquet: I://base_de_dados//datasus//cnes//datasus_ftp\\2020\\base_de_dados_cnes_202009\\tbSegmento202009.parquet.gzip\n",
      "Saved as Parquet: I://base_de_dados//datasus//cnes//datasus_ftp\\2020\\base_de_dados_cnes_202009\\tbServicoApoio202009.parquet.gzip\n",
      "Saved as Parquet: I://base_de_dados//datasus//cnes//datasus_ftp\\2020\\base_de_dados_cnes_202009\\tbServicoEspecializado202009.parquet.gzip\n",
      "Saved as Parquet: I://base_de_dados//datasus//cnes//datasus_ftp\\2020\\base_de_dados_cnes_202009\\tbServicoReferenciado202009.parquet.gzip\n",
      "Saved as Parquet: I://base_de_dados//datasus//cnes//datasus_ftp\\2020\\base_de_dados_cnes_202009\\tbSubGruposHabilitacao202009.parquet.gzip\n",
      "Saved as Parquet: I://base_de_dados//datasus//cnes//datasus_ftp\\2020\\base_de_dados_cnes_202009\\tbSubTipo202009.parquet.gzip\n",
      "Saved as Parquet: I://base_de_dados//datasus//cnes//datasus_ftp\\2020\\base_de_dados_cnes_202009\\tbSubTipoEquipe202009.parquet.gzip\n",
      "Saved as Parquet: I://base_de_dados//datasus//cnes//datasus_ftp\\2020\\base_de_dados_cnes_202009\\tbSubtipoInstalacao202009.parquet.gzip\n",
      "Saved as Parquet: I://base_de_dados//datasus//cnes//datasus_ftp\\2020\\base_de_dados_cnes_202009\\tbSubTpModVinculo202009.parquet.gzip\n",
      "Saved as Parquet: I://base_de_dados//datasus//cnes//datasus_ftp\\2020\\base_de_dados_cnes_202009\\tbTipoCertidao202009.parquet.gzip\n",
      "Saved as Parquet: I://base_de_dados//datasus//cnes//datasus_ftp\\2020\\base_de_dados_cnes_202009\\tbTipoCgDifer202009.parquet.gzip\n",
      "Saved as Parquet: I://base_de_dados//datasus//cnes//datasus_ftp\\2020\\base_de_dados_cnes_202009\\tbTipoEqSubTipo202009.parquet.gzip\n",
      "Saved as Parquet: I://base_de_dados//datasus//cnes//datasus_ftp\\2020\\base_de_dados_cnes_202009\\tbTipoEquipamento202009.parquet.gzip\n",
      "Saved as Parquet: I://base_de_dados//datasus//cnes//datasus_ftp\\2020\\base_de_dados_cnes_202009\\tbTipoEquipe202009.parquet.gzip\n",
      "Saved as Parquet: I://base_de_dados//datasus//cnes//datasus_ftp\\2020\\base_de_dados_cnes_202009\\tbTipoEscolaridade202009.parquet.gzip\n",
      "Saved as Parquet: I://base_de_dados//datasus//cnes//datasus_ftp\\2020\\base_de_dados_cnes_202009\\tbTipoEstabelecimento202009.parquet.gzip\n",
      "Saved as Parquet: I://base_de_dados//datasus//cnes//datasus_ftp\\2020\\base_de_dados_cnes_202009\\tbTipoInstalacaoFisica202009.parquet.gzip\n",
      "Saved as Parquet: I://base_de_dados//datasus//cnes//datasus_ftp\\2020\\base_de_dados_cnes_202009\\tbTipoServicoReferenciado202009.parquet.gzip\n",
      "Saved as Parquet: I://base_de_dados//datasus//cnes//datasus_ftp\\2020\\base_de_dados_cnes_202009\\tbTipoUnidade202009.parquet.gzip\n",
      "Saved as Parquet: I://base_de_dados//datasus//cnes//datasus_ftp\\2020\\base_de_dados_cnes_202009\\tbTpModVinculo202009.parquet.gzip\n",
      "Saved as Parquet: I://base_de_dados//datasus//cnes//datasus_ftp\\2020\\base_de_dados_cnes_202009\\tbTurnoAtendimento202009.parquet.gzip\n",
      "Month Folder: base_de_dados_cnes_202010\n",
      "Saved as Parquet: I://base_de_dados//datasus//cnes//datasus_ftp\\2020\\base_de_dados_cnes_202010\\rlAdmGerenciaCnes202010.parquet.gzip\n",
      "Saved as Parquet: I://base_de_dados//datasus//cnes//datasus_ftp\\2020\\base_de_dados_cnes_202010\\rlAtividadeObrigatoria202010.parquet.gzip\n",
      "Saved as Parquet: I://base_de_dados//datasus//cnes//datasus_ftp\\2020\\base_de_dados_cnes_202010\\rlCooperativa202010.parquet.gzip\n",
      "Saved as Parquet: I://base_de_dados//datasus//cnes//datasus_ftp\\2020\\base_de_dados_cnes_202010\\rlEquipeAldeia202010.parquet.gzip\n",
      "Saved as Parquet: I://base_de_dados//datasus//cnes//datasus_ftp\\2020\\base_de_dados_cnes_202010\\rlEquipeNasfEsf202010.parquet.gzip\n"
     ]
    },
    {
     "name": "stderr",
     "output_type": "stream",
     "text": [
      "C:\\Users\\erick\\AppData\\Local\\Temp\\ipykernel_18324\\463220216.py:31: DtypeWarning: Columns (0) have mixed types. Specify dtype option on import or set low_memory=False.\n",
      "  df = pd.read_csv(csv_path, sep=';')\n"
     ]
    },
    {
     "name": "stdout",
     "output_type": "stream",
     "text": [
      "Saved as Parquet: I://base_de_dados//datasus//cnes//datasus_ftp\\2020\\base_de_dados_cnes_202010\\rlEstabAtendPrestConv202010.parquet.gzip\n",
      "Saved as Parquet: I://base_de_dados//datasus//cnes//datasus_ftp\\2020\\base_de_dados_cnes_202010\\rlEstabAtenPsico202010.parquet.gzip\n",
      "Saved as Parquet: I://base_de_dados//datasus//cnes//datasus_ftp\\2020\\base_de_dados_cnes_202010\\rlEstabAvaliacao202010.parquet.gzip\n",
      "Saved as Parquet: I://base_de_dados//datasus//cnes//datasus_ftp\\2020\\base_de_dados_cnes_202010\\rlEstabCentralReg202010.parquet.gzip\n",
      "Saved as Parquet: I://base_de_dados//datasus//cnes//datasus_ftp\\2020\\base_de_dados_cnes_202010\\rlEstabColetaSelRejeito202010.parquet.gzip\n",
      "Saved as Parquet: I://base_de_dados//datasus//cnes//datasus_ftp\\2020\\base_de_dados_cnes_202010\\rlEstabComissaoOutro202010.parquet.gzip\n",
      "Saved as Parquet: I://base_de_dados//datasus//cnes//datasus_ftp\\2020\\base_de_dados_cnes_202010\\rlEstabComplementar202010.parquet.gzip\n",
      "Saved as Parquet: I://base_de_dados//datasus//cnes//datasus_ftp\\2020\\base_de_dados_cnes_202010\\rlEstabEndCompl202010.parquet.gzip\n",
      "Saved as Parquet: I://base_de_dados//datasus//cnes//datasus_ftp\\2020\\base_de_dados_cnes_202010\\rlEstabEqpEmbarcacao202010.parquet.gzip\n",
      "Saved as Parquet: I://base_de_dados//datasus//cnes//datasus_ftp\\2020\\base_de_dados_cnes_202010\\rlEstabEqpUnidApoio202010.parquet.gzip\n"
     ]
    },
    {
     "name": "stderr",
     "output_type": "stream",
     "text": [
      "C:\\Users\\erick\\AppData\\Local\\Temp\\ipykernel_18324\\463220216.py:31: DtypeWarning: Columns (0) have mixed types. Specify dtype option on import or set low_memory=False.\n",
      "  df = pd.read_csv(csv_path, sep=';')\n"
     ]
    },
    {
     "name": "stdout",
     "output_type": "stream",
     "text": [
      "Saved as Parquet: I://base_de_dados//datasus//cnes//datasus_ftp\\2020\\base_de_dados_cnes_202010\\rlEstabEquipamento202010.parquet.gzip\n",
      "Saved as Parquet: I://base_de_dados//datasus//cnes//datasus_ftp\\2020\\base_de_dados_cnes_202010\\rlEstabEquipeMun202010.parquet.gzip\n"
     ]
    },
    {
     "name": "stderr",
     "output_type": "stream",
     "text": [
      "C:\\Users\\erick\\AppData\\Local\\Temp\\ipykernel_18324\\463220216.py:31: DtypeWarning: Columns (14) have mixed types. Specify dtype option on import or set low_memory=False.\n",
      "  df = pd.read_csv(csv_path, sep=';')\n"
     ]
    },
    {
     "name": "stdout",
     "output_type": "stream",
     "text": [
      "Saved as Parquet: I://base_de_dados//datasus//cnes//datasus_ftp\\2020\\base_de_dados_cnes_202010\\rlEstabEquipeProf202010.parquet.gzip\n",
      "Saved as Parquet: I://base_de_dados//datasus//cnes//datasus_ftp\\2020\\base_de_dados_cnes_202010\\rlEstabInstFisiAssist202010.parquet.gzip\n",
      "Saved as Parquet: I://base_de_dados//datasus//cnes//datasus_ftp\\2020\\base_de_dados_cnes_202010\\rlEstabOrgParc202010.parquet.gzip\n",
      "Saved as Parquet: I://base_de_dados//datasus//cnes//datasus_ftp\\2020\\base_de_dados_cnes_202010\\rlEstabPoloAldeia202010.parquet.gzip\n",
      "Saved as Parquet: I://base_de_dados//datasus//cnes//datasus_ftp\\2020\\base_de_dados_cnes_202010\\rlEstabProfComissao202010.parquet.gzip\n"
     ]
    },
    {
     "name": "stderr",
     "output_type": "stream",
     "text": [
      "C:\\Users\\erick\\AppData\\Local\\Temp\\ipykernel_18324\\463220216.py:31: DtypeWarning: Columns (2) have mixed types. Specify dtype option on import or set low_memory=False.\n",
      "  df = pd.read_csv(csv_path, sep=';')\n"
     ]
    },
    {
     "name": "stdout",
     "output_type": "stream",
     "text": [
      "Saved as Parquet: I://base_de_dados//datasus//cnes//datasus_ftp\\2020\\base_de_dados_cnes_202010\\rlEstabProgFundo202010.parquet.gzip\n",
      "Saved as Parquet: I://base_de_dados//datasus//cnes//datasus_ftp\\2020\\base_de_dados_cnes_202010\\rlEstabRegimeRes202010.parquet.gzip\n",
      "Saved as Parquet: I://base_de_dados//datasus//cnes//datasus_ftp\\2020\\base_de_dados_cnes_202010\\rlEstabRepresentante202010.parquet.gzip\n",
      "Saved as Parquet: I://base_de_dados//datasus//cnes//datasus_ftp\\2020\\base_de_dados_cnes_202010\\rlEstabSamu202010.parquet.gzip\n",
      "Saved as Parquet: I://base_de_dados//datasus//cnes//datasus_ftp\\2020\\base_de_dados_cnes_202010\\rlEstabServClass202010.parquet.gzip\n"
     ]
    },
    {
     "name": "stderr",
     "output_type": "stream",
     "text": [
      "C:\\Users\\erick\\AppData\\Local\\Temp\\ipykernel_18324\\463220216.py:31: DtypeWarning: Columns (2) have mixed types. Specify dtype option on import or set low_memory=False.\n",
      "  df = pd.read_csv(csv_path, sep=';')\n"
     ]
    },
    {
     "name": "stdout",
     "output_type": "stream",
     "text": [
      "Saved as Parquet: I://base_de_dados//datasus//cnes//datasus_ftp\\2020\\base_de_dados_cnes_202010\\rlEstabServicoApoio202010.parquet.gzip\n",
      "Saved as Parquet: I://base_de_dados//datasus//cnes//datasus_ftp\\2020\\base_de_dados_cnes_202010\\rlEstabSipac202010.parquet.gzip\n",
      "Saved as Parquet: I://base_de_dados//datasus//cnes//datasus_ftp\\2020\\base_de_dados_cnes_202010\\rlEstabSubTipo202010.parquet.gzip\n",
      "Saved as Parquet: I://base_de_dados//datasus//cnes//datasus_ftp\\2020\\base_de_dados_cnes_202010\\rlEstabTeleCnes202010.parquet.gzip\n",
      "Saved as Parquet: I://base_de_dados//datasus//cnes//datasus_ftp\\2020\\base_de_dados_cnes_202010\\rlEstabUnidAcolhim202010.parquet.gzip\n",
      "Saved as Parquet: I://base_de_dados//datasus//cnes//datasus_ftp\\2020\\base_de_dados_cnes_202010\\rlMunAtenPsico202010.parquet.gzip\n",
      "Saved as Parquet: I://base_de_dados//datasus//cnes//datasus_ftp\\2020\\base_de_dados_cnes_202010\\rlMunRegimeRes202010.parquet.gzip\n",
      "Saved as Parquet: I://base_de_dados//datasus//cnes//datasus_ftp\\2020\\base_de_dados_cnes_202010\\rlMunUnidAcolhim202010.parquet.gzip\n",
      "Saved as Parquet: I://base_de_dados//datasus//cnes//datasus_ftp\\2020\\base_de_dados_cnes_202010\\rlNasfEsf202010.parquet.gzip\n",
      "Saved as Parquet: I://base_de_dados//datasus//cnes//datasus_ftp\\2020\\base_de_dados_cnes_202010\\rlTipoEstabAtividade202010.parquet.gzip\n",
      "Saved as Parquet: I://base_de_dados//datasus//cnes//datasus_ftp\\2020\\base_de_dados_cnes_202010\\tbAldeia202010.parquet.gzip\n",
      "Saved as Parquet: I://base_de_dados//datasus//cnes//datasus_ftp\\2020\\base_de_dados_cnes_202010\\tbArea202010.parquet.gzip\n",
      "Saved as Parquet: I://base_de_dados//datasus//cnes//datasus_ftp\\2020\\base_de_dados_cnes_202010\\tbAtendimentoPrestado202010.parquet.gzip\n",
      "Saved as Parquet: I://base_de_dados//datasus//cnes//datasus_ftp\\2020\\base_de_dados_cnes_202010\\tbAtividade202010.parquet.gzip\n",
      "Saved as Parquet: I://base_de_dados//datasus//cnes//datasus_ftp\\2020\\base_de_dados_cnes_202010\\tbAtividadeEnsino202010.parquet.gzip\n",
      "Saved as Parquet: I://base_de_dados//datasus//cnes//datasus_ftp\\2020\\base_de_dados_cnes_202010\\tbAtividadeProfissional202010.parquet.gzip\n",
      "Saved as Parquet: I://base_de_dados//datasus//cnes//datasus_ftp\\2020\\base_de_dados_cnes_202010\\tbAtributo202010.parquet.gzip\n",
      "Saved as Parquet: I://base_de_dados//datasus//cnes//datasus_ftp\\2020\\base_de_dados_cnes_202010\\tbAvaliacao202010.parquet.gzip\n",
      "Saved as Parquet: I://base_de_dados//datasus//cnes//datasus_ftp\\2020\\base_de_dados_cnes_202010\\tbBanco202010.parquet.gzip\n"
     ]
    },
    {
     "name": "stderr",
     "output_type": "stream",
     "text": [
      "C:\\Users\\erick\\AppData\\Local\\Temp\\ipykernel_18324\\463220216.py:31: DtypeWarning: Columns (0,12) have mixed types. Specify dtype option on import or set low_memory=False.\n",
      "  df = pd.read_csv(csv_path, sep=';')\n"
     ]
    },
    {
     "name": "stdout",
     "output_type": "stream",
     "text": [
      "Saved as Parquet: I://base_de_dados//datasus//cnes//datasus_ftp\\2020\\base_de_dados_cnes_202010\\tbCargaHorariaSus202010.parquet.gzip\n",
      "Saved as Parquet: I://base_de_dados//datasus//cnes//datasus_ftp\\2020\\base_de_dados_cnes_202010\\tbClassificacaoAval202010.parquet.gzip\n",
      "Saved as Parquet: I://base_de_dados//datasus//cnes//datasus_ftp\\2020\\base_de_dados_cnes_202010\\tbClassificacaoServico202010.parquet.gzip\n",
      "Saved as Parquet: I://base_de_dados//datasus//cnes//datasus_ftp\\2020\\base_de_dados_cnes_202010\\tbColetaSeletivaRejeito202010.parquet.gzip\n",
      "Saved as Parquet: I://base_de_dados//datasus//cnes//datasus_ftp\\2020\\base_de_dados_cnes_202010\\tbComissaoOutro202010.parquet.gzip\n",
      "Saved as Parquet: I://base_de_dados//datasus//cnes//datasus_ftp\\2020\\base_de_dados_cnes_202010\\tbConselhoClasse202010.parquet.gzip\n",
      "Saved as Parquet: I://base_de_dados//datasus//cnes//datasus_ftp\\2020\\base_de_dados_cnes_202010\\tbConvenio202010.parquet.gzip\n",
      "Saved as Parquet: I://base_de_dados//datasus//cnes//datasus_ftp\\2020\\base_de_dados_cnes_202010\\tbDadosProfissionalSus202010.parquet.gzip\n",
      "Saved as Parquet: I://base_de_dados//datasus//cnes//datasus_ftp\\2020\\base_de_dados_cnes_202010\\tbDialise202010.parquet.gzip\n",
      "Saved as Parquet: I://base_de_dados//datasus//cnes//datasus_ftp\\2020\\base_de_dados_cnes_202010\\tbDsei202010.parquet.gzip\n",
      "Saved as Parquet: I://base_de_dados//datasus//cnes//datasus_ftp\\2020\\base_de_dados_cnes_202010\\tbEquipamento202010.parquet.gzip\n"
     ]
    },
    {
     "name": "stderr",
     "output_type": "stream",
     "text": [
      "C:\\Users\\erick\\AppData\\Local\\Temp\\ipykernel_18324\\463220216.py:31: DtypeWarning: Columns (24) have mixed types. Specify dtype option on import or set low_memory=False.\n",
      "  df = pd.read_csv(csv_path, sep=';')\n"
     ]
    },
    {
     "name": "stdout",
     "output_type": "stream",
     "text": [
      "Saved as Parquet: I://base_de_dados//datasus//cnes//datasus_ftp\\2020\\base_de_dados_cnes_202010\\tbEquipe202010.parquet.gzip\n",
      "Saved as Parquet: I://base_de_dados//datasus//cnes//datasus_ftp\\2020\\base_de_dados_cnes_202010\\tbEquipeAtendCompl202010.parquet.gzip\n",
      "Saved as Parquet: I://base_de_dados//datasus//cnes//datasus_ftp\\2020\\base_de_dados_cnes_202010\\tbEquipeChDifer202010.parquet.gzip\n",
      "Saved as Parquet: I://base_de_dados//datasus//cnes//datasus_ftp\\2020\\base_de_dados_cnes_202010\\tbEstabAtivSecundaria202010.parquet.gzip\n",
      "Saved as Parquet: I://base_de_dados//datasus//cnes//datasus_ftp\\2020\\base_de_dados_cnes_202010\\tbEstabContrato202010.parquet.gzip\n"
     ]
    },
    {
     "name": "stderr",
     "output_type": "stream",
     "text": [
      "C:\\Users\\erick\\AppData\\Local\\Temp\\ipykernel_18324\\463220216.py:31: DtypeWarning: Columns (0,15,36,45) have mixed types. Specify dtype option on import or set low_memory=False.\n",
      "  df = pd.read_csv(csv_path, sep=';')\n"
     ]
    },
    {
     "name": "stdout",
     "output_type": "stream",
     "text": [
      "Saved as Parquet: I://base_de_dados//datasus//cnes//datasus_ftp\\2020\\base_de_dados_cnes_202010\\tbEstabelecimento202010.parquet.gzip\n",
      "Saved as Parquet: I://base_de_dados//datasus//cnes//datasus_ftp\\2020\\base_de_dados_cnes_202010\\tbEstabHorarioAtend202010.parquet.gzip\n",
      "Saved as Parquet: I://base_de_dados//datasus//cnes//datasus_ftp\\2020\\base_de_dados_cnes_202010\\tbEstado202010.parquet.gzip\n",
      "Saved as Parquet: I://base_de_dados//datasus//cnes//datasus_ftp\\2020\\base_de_dados_cnes_202010\\tbEtnia202010.parquet.gzip\n",
      "Saved as Parquet: I://base_de_dados//datasus//cnes//datasus_ftp\\2020\\base_de_dados_cnes_202010\\tbFluxoDadosClientela202010.parquet.gzip\n",
      "Saved as Parquet: I://base_de_dados//datasus//cnes//datasus_ftp\\2020\\base_de_dados_cnes_202010\\tbGestao202010.parquet.gzip\n",
      "Saved as Parquet: I://base_de_dados//datasus//cnes//datasus_ftp\\2020\\base_de_dados_cnes_202010\\tbGrupoAtividade202010.parquet.gzip\n",
      "Saved as Parquet: I://base_de_dados//datasus//cnes//datasus_ftp\\2020\\base_de_dados_cnes_202010\\tbGrupoEquipe202010.parquet.gzip\n",
      "Saved as Parquet: I://base_de_dados//datasus//cnes//datasus_ftp\\2020\\base_de_dados_cnes_202010\\tbHemoterapia202010.parquet.gzip\n",
      "Saved as Parquet: I://base_de_dados//datasus//cnes//datasus_ftp\\2020\\base_de_dados_cnes_202010\\tbIncentivos202010.parquet.gzip\n",
      "Saved as Parquet: I://base_de_dados//datasus//cnes//datasus_ftp\\2020\\base_de_dados_cnes_202010\\tbInstalFisicaParaAssist202010.parquet.gzip\n",
      "Saved as Parquet: I://base_de_dados//datasus//cnes//datasus_ftp\\2020\\base_de_dados_cnes_202010\\tbInstituicaoAvaliadora202010.parquet.gzip\n",
      "Saved as Parquet: I://base_de_dados//datasus//cnes//datasus_ftp\\2020\\base_de_dados_cnes_202010\\tbLeito202010.parquet.gzip\n",
      "Saved as Parquet: I://base_de_dados//datasus//cnes//datasus_ftp\\2020\\base_de_dados_cnes_202010\\tbMantenedora202010.parquet.gzip\n",
      "Saved as Parquet: I://base_de_dados//datasus//cnes//datasus_ftp\\2020\\base_de_dados_cnes_202010\\tbModVinculo202010.parquet.gzip\n",
      "Saved as Parquet: I://base_de_dados//datasus//cnes//datasus_ftp\\2020\\base_de_dados_cnes_202010\\tbMotivoDesativacao202010.parquet.gzip\n",
      "Saved as Parquet: I://base_de_dados//datasus//cnes//datasus_ftp\\2020\\base_de_dados_cnes_202010\\tbMotivoDesativEquipe202010.parquet.gzip\n",
      "Saved as Parquet: I://base_de_dados//datasus//cnes//datasus_ftp\\2020\\base_de_dados_cnes_202010\\tbMunicipio202010.parquet.gzip\n",
      "Saved as Parquet: I://base_de_dados//datasus//cnes//datasus_ftp\\2020\\base_de_dados_cnes_202010\\tbNaturezaJuridica202010.parquet.gzip\n",
      "Saved as Parquet: I://base_de_dados//datasus//cnes//datasus_ftp\\2020\\base_de_dados_cnes_202010\\tbOrgaoEmissor202010.parquet.gzip\n",
      "Saved as Parquet: I://base_de_dados//datasus//cnes//datasus_ftp\\2020\\base_de_dados_cnes_202010\\tbPoloBase202010.parquet.gzip\n",
      "Saved as Parquet: I://base_de_dados//datasus//cnes//datasus_ftp\\2020\\base_de_dados_cnes_202010\\tbProfResidencia202010.parquet.gzip\n",
      "Saved as Parquet: I://base_de_dados//datasus//cnes//datasus_ftp\\2020\\base_de_dados_cnes_202010\\tbQuimioRadio202010.parquet.gzip\n",
      "Saved as Parquet: I://base_de_dados//datasus//cnes//datasus_ftp\\2020\\base_de_dados_cnes_202010\\tbResidenciaMed202010.parquet.gzip\n",
      "Saved as Parquet: I://base_de_dados//datasus//cnes//datasus_ftp\\2020\\base_de_dados_cnes_202010\\tbSegmento202010.parquet.gzip\n",
      "Saved as Parquet: I://base_de_dados//datasus//cnes//datasus_ftp\\2020\\base_de_dados_cnes_202010\\tbServicoApoio202010.parquet.gzip\n",
      "Saved as Parquet: I://base_de_dados//datasus//cnes//datasus_ftp\\2020\\base_de_dados_cnes_202010\\tbServicoEspecializado202010.parquet.gzip\n",
      "Saved as Parquet: I://base_de_dados//datasus//cnes//datasus_ftp\\2020\\base_de_dados_cnes_202010\\tbServicoReferenciado202010.parquet.gzip\n",
      "Saved as Parquet: I://base_de_dados//datasus//cnes//datasus_ftp\\2020\\base_de_dados_cnes_202010\\tbSubGruposHabilitacao202010.parquet.gzip\n",
      "Saved as Parquet: I://base_de_dados//datasus//cnes//datasus_ftp\\2020\\base_de_dados_cnes_202010\\tbSubTipo202010.parquet.gzip\n",
      "Saved as Parquet: I://base_de_dados//datasus//cnes//datasus_ftp\\2020\\base_de_dados_cnes_202010\\tbSubTipoEquipe202010.parquet.gzip\n",
      "Saved as Parquet: I://base_de_dados//datasus//cnes//datasus_ftp\\2020\\base_de_dados_cnes_202010\\tbSubtipoInstalacao202010.parquet.gzip\n",
      "Saved as Parquet: I://base_de_dados//datasus//cnes//datasus_ftp\\2020\\base_de_dados_cnes_202010\\tbSubTpModVinculo202010.parquet.gzip\n",
      "Saved as Parquet: I://base_de_dados//datasus//cnes//datasus_ftp\\2020\\base_de_dados_cnes_202010\\tbTipoCertidao202010.parquet.gzip\n",
      "Saved as Parquet: I://base_de_dados//datasus//cnes//datasus_ftp\\2020\\base_de_dados_cnes_202010\\tbTipoCgDifer202010.parquet.gzip\n",
      "Saved as Parquet: I://base_de_dados//datasus//cnes//datasus_ftp\\2020\\base_de_dados_cnes_202010\\tbTipoEqSubTipo202010.parquet.gzip\n",
      "Saved as Parquet: I://base_de_dados//datasus//cnes//datasus_ftp\\2020\\base_de_dados_cnes_202010\\tbTipoEquipamento202010.parquet.gzip\n",
      "Saved as Parquet: I://base_de_dados//datasus//cnes//datasus_ftp\\2020\\base_de_dados_cnes_202010\\tbTipoEquipe202010.parquet.gzip\n",
      "Saved as Parquet: I://base_de_dados//datasus//cnes//datasus_ftp\\2020\\base_de_dados_cnes_202010\\tbTipoEscolaridade202010.parquet.gzip\n",
      "Saved as Parquet: I://base_de_dados//datasus//cnes//datasus_ftp\\2020\\base_de_dados_cnes_202010\\tbTipoEstabelecimento202010.parquet.gzip\n",
      "Saved as Parquet: I://base_de_dados//datasus//cnes//datasus_ftp\\2020\\base_de_dados_cnes_202010\\tbTipoInstalacaoFisica202010.parquet.gzip\n",
      "Saved as Parquet: I://base_de_dados//datasus//cnes//datasus_ftp\\2020\\base_de_dados_cnes_202010\\tbTipoServicoReferenciado202010.parquet.gzip\n",
      "Saved as Parquet: I://base_de_dados//datasus//cnes//datasus_ftp\\2020\\base_de_dados_cnes_202010\\tbTipoUnidade202010.parquet.gzip\n",
      "Saved as Parquet: I://base_de_dados//datasus//cnes//datasus_ftp\\2020\\base_de_dados_cnes_202010\\tbTpModVinculo202010.parquet.gzip\n",
      "Saved as Parquet: I://base_de_dados//datasus//cnes//datasus_ftp\\2020\\base_de_dados_cnes_202010\\tbTurnoAtendimento202010.parquet.gzip\n",
      "Month Folder: base_de_dados_cnes_202011\n",
      "Saved as Parquet: I://base_de_dados//datasus//cnes//datasus_ftp\\2020\\base_de_dados_cnes_202011\\rlAdmGerenciaCnes202011.parquet.gzip\n",
      "Saved as Parquet: I://base_de_dados//datasus//cnes//datasus_ftp\\2020\\base_de_dados_cnes_202011\\rlAtividadeObrigatoria202011.parquet.gzip\n",
      "Saved as Parquet: I://base_de_dados//datasus//cnes//datasus_ftp\\2020\\base_de_dados_cnes_202011\\rlCooperativa202011.parquet.gzip\n",
      "Saved as Parquet: I://base_de_dados//datasus//cnes//datasus_ftp\\2020\\base_de_dados_cnes_202011\\rlEquipeAldeia202011.parquet.gzip\n",
      "Saved as Parquet: I://base_de_dados//datasus//cnes//datasus_ftp\\2020\\base_de_dados_cnes_202011\\rlEquipeNasfEsf202011.parquet.gzip\n"
     ]
    },
    {
     "name": "stderr",
     "output_type": "stream",
     "text": [
      "C:\\Users\\erick\\AppData\\Local\\Temp\\ipykernel_18324\\463220216.py:31: DtypeWarning: Columns (0) have mixed types. Specify dtype option on import or set low_memory=False.\n",
      "  df = pd.read_csv(csv_path, sep=';')\n"
     ]
    },
    {
     "name": "stdout",
     "output_type": "stream",
     "text": [
      "Saved as Parquet: I://base_de_dados//datasus//cnes//datasus_ftp\\2020\\base_de_dados_cnes_202011\\rlEstabAtendPrestConv202011.parquet.gzip\n",
      "Saved as Parquet: I://base_de_dados//datasus//cnes//datasus_ftp\\2020\\base_de_dados_cnes_202011\\rlEstabAtenPsico202011.parquet.gzip\n",
      "Saved as Parquet: I://base_de_dados//datasus//cnes//datasus_ftp\\2020\\base_de_dados_cnes_202011\\rlEstabAvaliacao202011.parquet.gzip\n",
      "Saved as Parquet: I://base_de_dados//datasus//cnes//datasus_ftp\\2020\\base_de_dados_cnes_202011\\rlEstabCentralReg202011.parquet.gzip\n",
      "Saved as Parquet: I://base_de_dados//datasus//cnes//datasus_ftp\\2020\\base_de_dados_cnes_202011\\rlEstabColetaSelRejeito202011.parquet.gzip\n",
      "Saved as Parquet: I://base_de_dados//datasus//cnes//datasus_ftp\\2020\\base_de_dados_cnes_202011\\rlEstabComissaoOutro202011.parquet.gzip\n",
      "Saved as Parquet: I://base_de_dados//datasus//cnes//datasus_ftp\\2020\\base_de_dados_cnes_202011\\rlEstabComplementar202011.parquet.gzip\n",
      "Saved as Parquet: I://base_de_dados//datasus//cnes//datasus_ftp\\2020\\base_de_dados_cnes_202011\\rlEstabEndCompl202011.parquet.gzip\n",
      "Saved as Parquet: I://base_de_dados//datasus//cnes//datasus_ftp\\2020\\base_de_dados_cnes_202011\\rlEstabEqpEmbarcacao202011.parquet.gzip\n",
      "Saved as Parquet: I://base_de_dados//datasus//cnes//datasus_ftp\\2020\\base_de_dados_cnes_202011\\rlEstabEqpUnidApoio202011.parquet.gzip\n"
     ]
    },
    {
     "name": "stderr",
     "output_type": "stream",
     "text": [
      "C:\\Users\\erick\\AppData\\Local\\Temp\\ipykernel_18324\\463220216.py:31: DtypeWarning: Columns (0) have mixed types. Specify dtype option on import or set low_memory=False.\n",
      "  df = pd.read_csv(csv_path, sep=';')\n"
     ]
    },
    {
     "name": "stdout",
     "output_type": "stream",
     "text": [
      "Saved as Parquet: I://base_de_dados//datasus//cnes//datasus_ftp\\2020\\base_de_dados_cnes_202011\\rlEstabEquipamento202011.parquet.gzip\n",
      "Saved as Parquet: I://base_de_dados//datasus//cnes//datasus_ftp\\2020\\base_de_dados_cnes_202011\\rlEstabEquipeMun202011.parquet.gzip\n"
     ]
    },
    {
     "name": "stderr",
     "output_type": "stream",
     "text": [
      "C:\\Users\\erick\\AppData\\Local\\Temp\\ipykernel_18324\\463220216.py:31: DtypeWarning: Columns (14) have mixed types. Specify dtype option on import or set low_memory=False.\n",
      "  df = pd.read_csv(csv_path, sep=';')\n"
     ]
    },
    {
     "name": "stdout",
     "output_type": "stream",
     "text": [
      "Saved as Parquet: I://base_de_dados//datasus//cnes//datasus_ftp\\2020\\base_de_dados_cnes_202011\\rlEstabEquipeProf202011.parquet.gzip\n",
      "Saved as Parquet: I://base_de_dados//datasus//cnes//datasus_ftp\\2020\\base_de_dados_cnes_202011\\rlEstabInstFisiAssist202011.parquet.gzip\n",
      "Saved as Parquet: I://base_de_dados//datasus//cnes//datasus_ftp\\2020\\base_de_dados_cnes_202011\\rlEstabOrgParc202011.parquet.gzip\n",
      "Saved as Parquet: I://base_de_dados//datasus//cnes//datasus_ftp\\2020\\base_de_dados_cnes_202011\\rlEstabPoloAldeia202011.parquet.gzip\n",
      "Saved as Parquet: I://base_de_dados//datasus//cnes//datasus_ftp\\2020\\base_de_dados_cnes_202011\\rlEstabProfComissao202011.parquet.gzip\n"
     ]
    },
    {
     "name": "stderr",
     "output_type": "stream",
     "text": [
      "C:\\Users\\erick\\AppData\\Local\\Temp\\ipykernel_18324\\463220216.py:31: DtypeWarning: Columns (2) have mixed types. Specify dtype option on import or set low_memory=False.\n",
      "  df = pd.read_csv(csv_path, sep=';')\n"
     ]
    },
    {
     "name": "stdout",
     "output_type": "stream",
     "text": [
      "Saved as Parquet: I://base_de_dados//datasus//cnes//datasus_ftp\\2020\\base_de_dados_cnes_202011\\rlEstabProgFundo202011.parquet.gzip\n",
      "Saved as Parquet: I://base_de_dados//datasus//cnes//datasus_ftp\\2020\\base_de_dados_cnes_202011\\rlEstabRegimeRes202011.parquet.gzip\n",
      "Saved as Parquet: I://base_de_dados//datasus//cnes//datasus_ftp\\2020\\base_de_dados_cnes_202011\\rlEstabRepresentante202011.parquet.gzip\n",
      "Saved as Parquet: I://base_de_dados//datasus//cnes//datasus_ftp\\2020\\base_de_dados_cnes_202011\\rlEstabSamu202011.parquet.gzip\n"
     ]
    },
    {
     "name": "stderr",
     "output_type": "stream",
     "text": [
      "C:\\Users\\erick\\AppData\\Local\\Temp\\ipykernel_18324\\463220216.py:31: DtypeWarning: Columns (0) have mixed types. Specify dtype option on import or set low_memory=False.\n",
      "  df = pd.read_csv(csv_path, sep=';')\n"
     ]
    },
    {
     "name": "stdout",
     "output_type": "stream",
     "text": [
      "Saved as Parquet: I://base_de_dados//datasus//cnes//datasus_ftp\\2020\\base_de_dados_cnes_202011\\rlEstabServClass202011.parquet.gzip\n"
     ]
    },
    {
     "name": "stderr",
     "output_type": "stream",
     "text": [
      "C:\\Users\\erick\\AppData\\Local\\Temp\\ipykernel_18324\\463220216.py:31: DtypeWarning: Columns (2) have mixed types. Specify dtype option on import or set low_memory=False.\n",
      "  df = pd.read_csv(csv_path, sep=';')\n"
     ]
    },
    {
     "name": "stdout",
     "output_type": "stream",
     "text": [
      "Saved as Parquet: I://base_de_dados//datasus//cnes//datasus_ftp\\2020\\base_de_dados_cnes_202011\\rlEstabServicoApoio202011.parquet.gzip\n",
      "Saved as Parquet: I://base_de_dados//datasus//cnes//datasus_ftp\\2020\\base_de_dados_cnes_202011\\rlEstabSipac202011.parquet.gzip\n",
      "Saved as Parquet: I://base_de_dados//datasus//cnes//datasus_ftp\\2020\\base_de_dados_cnes_202011\\rlEstabSubTipo202011.parquet.gzip\n",
      "Saved as Parquet: I://base_de_dados//datasus//cnes//datasus_ftp\\2020\\base_de_dados_cnes_202011\\rlEstabTeleCnes202011.parquet.gzip\n",
      "Saved as Parquet: I://base_de_dados//datasus//cnes//datasus_ftp\\2020\\base_de_dados_cnes_202011\\rlEstabUnidAcolhim202011.parquet.gzip\n",
      "Saved as Parquet: I://base_de_dados//datasus//cnes//datasus_ftp\\2020\\base_de_dados_cnes_202011\\rlMunAtenPsico202011.parquet.gzip\n",
      "Saved as Parquet: I://base_de_dados//datasus//cnes//datasus_ftp\\2020\\base_de_dados_cnes_202011\\rlMunRegimeRes202011.parquet.gzip\n",
      "Saved as Parquet: I://base_de_dados//datasus//cnes//datasus_ftp\\2020\\base_de_dados_cnes_202011\\rlMunUnidAcolhim202011.parquet.gzip\n",
      "Saved as Parquet: I://base_de_dados//datasus//cnes//datasus_ftp\\2020\\base_de_dados_cnes_202011\\rlNasfEsf202011.parquet.gzip\n",
      "Saved as Parquet: I://base_de_dados//datasus//cnes//datasus_ftp\\2020\\base_de_dados_cnes_202011\\rlTipoEstabAtividade202011.parquet.gzip\n",
      "Saved as Parquet: I://base_de_dados//datasus//cnes//datasus_ftp\\2020\\base_de_dados_cnes_202011\\tbAldeia202011.parquet.gzip\n",
      "Saved as Parquet: I://base_de_dados//datasus//cnes//datasus_ftp\\2020\\base_de_dados_cnes_202011\\tbArea202011.parquet.gzip\n",
      "Saved as Parquet: I://base_de_dados//datasus//cnes//datasus_ftp\\2020\\base_de_dados_cnes_202011\\tbAtendimentoPrestado202011.parquet.gzip\n",
      "Saved as Parquet: I://base_de_dados//datasus//cnes//datasus_ftp\\2020\\base_de_dados_cnes_202011\\tbAtividade202011.parquet.gzip\n",
      "Saved as Parquet: I://base_de_dados//datasus//cnes//datasus_ftp\\2020\\base_de_dados_cnes_202011\\tbAtividadeEnsino202011.parquet.gzip\n",
      "Saved as Parquet: I://base_de_dados//datasus//cnes//datasus_ftp\\2020\\base_de_dados_cnes_202011\\tbAtividadeProfissional202011.parquet.gzip\n",
      "Saved as Parquet: I://base_de_dados//datasus//cnes//datasus_ftp\\2020\\base_de_dados_cnes_202011\\tbAtributo202011.parquet.gzip\n",
      "Saved as Parquet: I://base_de_dados//datasus//cnes//datasus_ftp\\2020\\base_de_dados_cnes_202011\\tbAvaliacao202011.parquet.gzip\n",
      "Saved as Parquet: I://base_de_dados//datasus//cnes//datasus_ftp\\2020\\base_de_dados_cnes_202011\\tbBanco202011.parquet.gzip\n"
     ]
    },
    {
     "name": "stderr",
     "output_type": "stream",
     "text": [
      "C:\\Users\\erick\\AppData\\Local\\Temp\\ipykernel_18324\\463220216.py:31: DtypeWarning: Columns (0,12) have mixed types. Specify dtype option on import or set low_memory=False.\n",
      "  df = pd.read_csv(csv_path, sep=';')\n"
     ]
    },
    {
     "name": "stdout",
     "output_type": "stream",
     "text": [
      "Saved as Parquet: I://base_de_dados//datasus//cnes//datasus_ftp\\2020\\base_de_dados_cnes_202011\\tbCargaHorariaSus202011.parquet.gzip\n",
      "Saved as Parquet: I://base_de_dados//datasus//cnes//datasus_ftp\\2020\\base_de_dados_cnes_202011\\tbClassificacaoAval202011.parquet.gzip\n",
      "Saved as Parquet: I://base_de_dados//datasus//cnes//datasus_ftp\\2020\\base_de_dados_cnes_202011\\tbClassificacaoServico202011.parquet.gzip\n",
      "Saved as Parquet: I://base_de_dados//datasus//cnes//datasus_ftp\\2020\\base_de_dados_cnes_202011\\tbColetaSeletivaRejeito202011.parquet.gzip\n",
      "Saved as Parquet: I://base_de_dados//datasus//cnes//datasus_ftp\\2020\\base_de_dados_cnes_202011\\tbComissaoOutro202011.parquet.gzip\n",
      "Saved as Parquet: I://base_de_dados//datasus//cnes//datasus_ftp\\2020\\base_de_dados_cnes_202011\\tbConselhoClasse202011.parquet.gzip\n",
      "Saved as Parquet: I://base_de_dados//datasus//cnes//datasus_ftp\\2020\\base_de_dados_cnes_202011\\tbConvenio202011.parquet.gzip\n",
      "Saved as Parquet: I://base_de_dados//datasus//cnes//datasus_ftp\\2020\\base_de_dados_cnes_202011\\tbDadosProfissionalSus202011.parquet.gzip\n",
      "Saved as Parquet: I://base_de_dados//datasus//cnes//datasus_ftp\\2020\\base_de_dados_cnes_202011\\tbDialise202011.parquet.gzip\n",
      "Saved as Parquet: I://base_de_dados//datasus//cnes//datasus_ftp\\2020\\base_de_dados_cnes_202011\\tbDsei202011.parquet.gzip\n",
      "Saved as Parquet: I://base_de_dados//datasus//cnes//datasus_ftp\\2020\\base_de_dados_cnes_202011\\tbEquipamento202011.parquet.gzip\n"
     ]
    },
    {
     "name": "stderr",
     "output_type": "stream",
     "text": [
      "C:\\Users\\erick\\AppData\\Local\\Temp\\ipykernel_18324\\463220216.py:31: DtypeWarning: Columns (24) have mixed types. Specify dtype option on import or set low_memory=False.\n",
      "  df = pd.read_csv(csv_path, sep=';')\n"
     ]
    },
    {
     "name": "stdout",
     "output_type": "stream",
     "text": [
      "Saved as Parquet: I://base_de_dados//datasus//cnes//datasus_ftp\\2020\\base_de_dados_cnes_202011\\tbEquipe202011.parquet.gzip\n",
      "Saved as Parquet: I://base_de_dados//datasus//cnes//datasus_ftp\\2020\\base_de_dados_cnes_202011\\tbEquipeAtendCompl202011.parquet.gzip\n",
      "Saved as Parquet: I://base_de_dados//datasus//cnes//datasus_ftp\\2020\\base_de_dados_cnes_202011\\tbEquipeChDifer202011.parquet.gzip\n",
      "Saved as Parquet: I://base_de_dados//datasus//cnes//datasus_ftp\\2020\\base_de_dados_cnes_202011\\tbEstabAtivSecundaria202011.parquet.gzip\n",
      "Saved as Parquet: I://base_de_dados//datasus//cnes//datasus_ftp\\2020\\base_de_dados_cnes_202011\\tbEstabContrato202011.parquet.gzip\n"
     ]
    },
    {
     "name": "stderr",
     "output_type": "stream",
     "text": [
      "C:\\Users\\erick\\AppData\\Local\\Temp\\ipykernel_18324\\463220216.py:31: DtypeWarning: Columns (0,36,45) have mixed types. Specify dtype option on import or set low_memory=False.\n",
      "  df = pd.read_csv(csv_path, sep=';')\n"
     ]
    },
    {
     "name": "stdout",
     "output_type": "stream",
     "text": [
      "Saved as Parquet: I://base_de_dados//datasus//cnes//datasus_ftp\\2020\\base_de_dados_cnes_202011\\tbEstabelecimento202011.parquet.gzip\n",
      "Saved as Parquet: I://base_de_dados//datasus//cnes//datasus_ftp\\2020\\base_de_dados_cnes_202011\\tbEstabHorarioAtend202011.parquet.gzip\n",
      "Saved as Parquet: I://base_de_dados//datasus//cnes//datasus_ftp\\2020\\base_de_dados_cnes_202011\\tbEstado202011.parquet.gzip\n",
      "Saved as Parquet: I://base_de_dados//datasus//cnes//datasus_ftp\\2020\\base_de_dados_cnes_202011\\tbEtnia202011.parquet.gzip\n",
      "Saved as Parquet: I://base_de_dados//datasus//cnes//datasus_ftp\\2020\\base_de_dados_cnes_202011\\tbFluxoDadosClientela202011.parquet.gzip\n",
      "Saved as Parquet: I://base_de_dados//datasus//cnes//datasus_ftp\\2020\\base_de_dados_cnes_202011\\tbGestao202011.parquet.gzip\n",
      "Saved as Parquet: I://base_de_dados//datasus//cnes//datasus_ftp\\2020\\base_de_dados_cnes_202011\\tbGrupoAtividade202011.parquet.gzip\n",
      "Saved as Parquet: I://base_de_dados//datasus//cnes//datasus_ftp\\2020\\base_de_dados_cnes_202011\\tbGrupoEquipe202011.parquet.gzip\n",
      "Saved as Parquet: I://base_de_dados//datasus//cnes//datasus_ftp\\2020\\base_de_dados_cnes_202011\\tbHemoterapia202011.parquet.gzip\n",
      "Saved as Parquet: I://base_de_dados//datasus//cnes//datasus_ftp\\2020\\base_de_dados_cnes_202011\\tbIncentivos202011.parquet.gzip\n",
      "Saved as Parquet: I://base_de_dados//datasus//cnes//datasus_ftp\\2020\\base_de_dados_cnes_202011\\tbInstalFisicaParaAssist202011.parquet.gzip\n",
      "Saved as Parquet: I://base_de_dados//datasus//cnes//datasus_ftp\\2020\\base_de_dados_cnes_202011\\tbInstituicaoAvaliadora202011.parquet.gzip\n",
      "Saved as Parquet: I://base_de_dados//datasus//cnes//datasus_ftp\\2020\\base_de_dados_cnes_202011\\tbLeito202011.parquet.gzip\n",
      "Saved as Parquet: I://base_de_dados//datasus//cnes//datasus_ftp\\2020\\base_de_dados_cnes_202011\\tbMantenedora202011.parquet.gzip\n",
      "Saved as Parquet: I://base_de_dados//datasus//cnes//datasus_ftp\\2020\\base_de_dados_cnes_202011\\tbModVinculo202011.parquet.gzip\n",
      "Saved as Parquet: I://base_de_dados//datasus//cnes//datasus_ftp\\2020\\base_de_dados_cnes_202011\\tbMotivoDesativacao202011.parquet.gzip\n",
      "Saved as Parquet: I://base_de_dados//datasus//cnes//datasus_ftp\\2020\\base_de_dados_cnes_202011\\tbMotivoDesativEquipe202011.parquet.gzip\n",
      "Saved as Parquet: I://base_de_dados//datasus//cnes//datasus_ftp\\2020\\base_de_dados_cnes_202011\\tbMunicipio202011.parquet.gzip\n",
      "Saved as Parquet: I://base_de_dados//datasus//cnes//datasus_ftp\\2020\\base_de_dados_cnes_202011\\tbNaturezaJuridica202011.parquet.gzip\n",
      "Saved as Parquet: I://base_de_dados//datasus//cnes//datasus_ftp\\2020\\base_de_dados_cnes_202011\\tbOrgaoEmissor202011.parquet.gzip\n",
      "Saved as Parquet: I://base_de_dados//datasus//cnes//datasus_ftp\\2020\\base_de_dados_cnes_202011\\tbPoloBase202011.parquet.gzip\n",
      "Saved as Parquet: I://base_de_dados//datasus//cnes//datasus_ftp\\2020\\base_de_dados_cnes_202011\\tbProfResidencia202011.parquet.gzip\n",
      "Saved as Parquet: I://base_de_dados//datasus//cnes//datasus_ftp\\2020\\base_de_dados_cnes_202011\\tbQuimioRadio202011.parquet.gzip\n",
      "Saved as Parquet: I://base_de_dados//datasus//cnes//datasus_ftp\\2020\\base_de_dados_cnes_202011\\tbResidenciaMed202011.parquet.gzip\n",
      "Saved as Parquet: I://base_de_dados//datasus//cnes//datasus_ftp\\2020\\base_de_dados_cnes_202011\\tbSegmento202011.parquet.gzip\n",
      "Saved as Parquet: I://base_de_dados//datasus//cnes//datasus_ftp\\2020\\base_de_dados_cnes_202011\\tbServicoApoio202011.parquet.gzip\n",
      "Saved as Parquet: I://base_de_dados//datasus//cnes//datasus_ftp\\2020\\base_de_dados_cnes_202011\\tbServicoEspecializado202011.parquet.gzip\n",
      "Saved as Parquet: I://base_de_dados//datasus//cnes//datasus_ftp\\2020\\base_de_dados_cnes_202011\\tbServicoReferenciado202011.parquet.gzip\n",
      "Saved as Parquet: I://base_de_dados//datasus//cnes//datasus_ftp\\2020\\base_de_dados_cnes_202011\\tbSubGruposHabilitacao202011.parquet.gzip\n",
      "Saved as Parquet: I://base_de_dados//datasus//cnes//datasus_ftp\\2020\\base_de_dados_cnes_202011\\tbSubTipo202011.parquet.gzip\n",
      "Saved as Parquet: I://base_de_dados//datasus//cnes//datasus_ftp\\2020\\base_de_dados_cnes_202011\\tbSubTipoEquipe202011.parquet.gzip\n",
      "Saved as Parquet: I://base_de_dados//datasus//cnes//datasus_ftp\\2020\\base_de_dados_cnes_202011\\tbSubtipoInstalacao202011.parquet.gzip\n",
      "Saved as Parquet: I://base_de_dados//datasus//cnes//datasus_ftp\\2020\\base_de_dados_cnes_202011\\tbSubTpModVinculo202011.parquet.gzip\n",
      "Saved as Parquet: I://base_de_dados//datasus//cnes//datasus_ftp\\2020\\base_de_dados_cnes_202011\\tbTipoCertidao202011.parquet.gzip\n",
      "Saved as Parquet: I://base_de_dados//datasus//cnes//datasus_ftp\\2020\\base_de_dados_cnes_202011\\tbTipoCgDifer202011.parquet.gzip\n",
      "Saved as Parquet: I://base_de_dados//datasus//cnes//datasus_ftp\\2020\\base_de_dados_cnes_202011\\tbTipoEqSubTipo202011.parquet.gzip\n",
      "Saved as Parquet: I://base_de_dados//datasus//cnes//datasus_ftp\\2020\\base_de_dados_cnes_202011\\tbTipoEquipamento202011.parquet.gzip\n",
      "Saved as Parquet: I://base_de_dados//datasus//cnes//datasus_ftp\\2020\\base_de_dados_cnes_202011\\tbTipoEquipe202011.parquet.gzip\n",
      "Saved as Parquet: I://base_de_dados//datasus//cnes//datasus_ftp\\2020\\base_de_dados_cnes_202011\\tbTipoEscolaridade202011.parquet.gzip\n",
      "Saved as Parquet: I://base_de_dados//datasus//cnes//datasus_ftp\\2020\\base_de_dados_cnes_202011\\tbTipoEstabelecimento202011.parquet.gzip\n",
      "Saved as Parquet: I://base_de_dados//datasus//cnes//datasus_ftp\\2020\\base_de_dados_cnes_202011\\tbTipoInstalacaoFisica202011.parquet.gzip\n",
      "Saved as Parquet: I://base_de_dados//datasus//cnes//datasus_ftp\\2020\\base_de_dados_cnes_202011\\tbTipoServicoReferenciado202011.parquet.gzip\n",
      "Saved as Parquet: I://base_de_dados//datasus//cnes//datasus_ftp\\2020\\base_de_dados_cnes_202011\\tbTipoUnidade202011.parquet.gzip\n",
      "Saved as Parquet: I://base_de_dados//datasus//cnes//datasus_ftp\\2020\\base_de_dados_cnes_202011\\tbTpModVinculo202011.parquet.gzip\n",
      "Saved as Parquet: I://base_de_dados//datasus//cnes//datasus_ftp\\2020\\base_de_dados_cnes_202011\\tbTurnoAtendimento202011.parquet.gzip\n",
      "Month Folder: base_de_dados_cnes_202012\n",
      "Saved as Parquet: I://base_de_dados//datasus//cnes//datasus_ftp\\2020\\base_de_dados_cnes_202012\\rlAdmGerenciaCnes202012.parquet.gzip\n",
      "Saved as Parquet: I://base_de_dados//datasus//cnes//datasus_ftp\\2020\\base_de_dados_cnes_202012\\rlAtividadeObrigatoria202012.parquet.gzip\n",
      "Saved as Parquet: I://base_de_dados//datasus//cnes//datasus_ftp\\2020\\base_de_dados_cnes_202012\\rlCooperativa202012.parquet.gzip\n",
      "Saved as Parquet: I://base_de_dados//datasus//cnes//datasus_ftp\\2020\\base_de_dados_cnes_202012\\rlEquipeAldeia202012.parquet.gzip\n",
      "Saved as Parquet: I://base_de_dados//datasus//cnes//datasus_ftp\\2020\\base_de_dados_cnes_202012\\rlEquipeNasfEsf202012.parquet.gzip\n"
     ]
    },
    {
     "name": "stderr",
     "output_type": "stream",
     "text": [
      "C:\\Users\\erick\\AppData\\Local\\Temp\\ipykernel_18324\\463220216.py:31: DtypeWarning: Columns (0) have mixed types. Specify dtype option on import or set low_memory=False.\n",
      "  df = pd.read_csv(csv_path, sep=';')\n"
     ]
    },
    {
     "name": "stdout",
     "output_type": "stream",
     "text": [
      "Saved as Parquet: I://base_de_dados//datasus//cnes//datasus_ftp\\2020\\base_de_dados_cnes_202012\\rlEstabAtendPrestConv202012.parquet.gzip\n",
      "Saved as Parquet: I://base_de_dados//datasus//cnes//datasus_ftp\\2020\\base_de_dados_cnes_202012\\rlEstabAtenPsico202012.parquet.gzip\n",
      "Saved as Parquet: I://base_de_dados//datasus//cnes//datasus_ftp\\2020\\base_de_dados_cnes_202012\\rlEstabAvaliacao202012.parquet.gzip\n",
      "Saved as Parquet: I://base_de_dados//datasus//cnes//datasus_ftp\\2020\\base_de_dados_cnes_202012\\rlEstabCentralReg202012.parquet.gzip\n",
      "Saved as Parquet: I://base_de_dados//datasus//cnes//datasus_ftp\\2020\\base_de_dados_cnes_202012\\rlEstabColetaSelRejeito202012.parquet.gzip\n",
      "Saved as Parquet: I://base_de_dados//datasus//cnes//datasus_ftp\\2020\\base_de_dados_cnes_202012\\rlEstabComissaoOutro202012.parquet.gzip\n",
      "Saved as Parquet: I://base_de_dados//datasus//cnes//datasus_ftp\\2020\\base_de_dados_cnes_202012\\rlEstabComplementar202012.parquet.gzip\n",
      "Saved as Parquet: I://base_de_dados//datasus//cnes//datasus_ftp\\2020\\base_de_dados_cnes_202012\\rlEstabEndCompl202012.parquet.gzip\n",
      "Saved as Parquet: I://base_de_dados//datasus//cnes//datasus_ftp\\2020\\base_de_dados_cnes_202012\\rlEstabEqpEmbarcacao202012.parquet.gzip\n",
      "Saved as Parquet: I://base_de_dados//datasus//cnes//datasus_ftp\\2020\\base_de_dados_cnes_202012\\rlEstabEqpUnidApoio202012.parquet.gzip\n"
     ]
    },
    {
     "name": "stderr",
     "output_type": "stream",
     "text": [
      "C:\\Users\\erick\\AppData\\Local\\Temp\\ipykernel_18324\\463220216.py:31: DtypeWarning: Columns (0) have mixed types. Specify dtype option on import or set low_memory=False.\n",
      "  df = pd.read_csv(csv_path, sep=';')\n"
     ]
    },
    {
     "name": "stdout",
     "output_type": "stream",
     "text": [
      "Saved as Parquet: I://base_de_dados//datasus//cnes//datasus_ftp\\2020\\base_de_dados_cnes_202012\\rlEstabEquipamento202012.parquet.gzip\n",
      "Saved as Parquet: I://base_de_dados//datasus//cnes//datasus_ftp\\2020\\base_de_dados_cnes_202012\\rlEstabEquipeMun202012.parquet.gzip\n"
     ]
    },
    {
     "name": "stderr",
     "output_type": "stream",
     "text": [
      "C:\\Users\\erick\\AppData\\Local\\Temp\\ipykernel_18324\\463220216.py:31: DtypeWarning: Columns (14) have mixed types. Specify dtype option on import or set low_memory=False.\n",
      "  df = pd.read_csv(csv_path, sep=';')\n"
     ]
    },
    {
     "name": "stdout",
     "output_type": "stream",
     "text": [
      "Saved as Parquet: I://base_de_dados//datasus//cnes//datasus_ftp\\2020\\base_de_dados_cnes_202012\\rlEstabEquipeProf202012.parquet.gzip\n",
      "Saved as Parquet: I://base_de_dados//datasus//cnes//datasus_ftp\\2020\\base_de_dados_cnes_202012\\rlEstabInstFisiAssist202012.parquet.gzip\n",
      "Saved as Parquet: I://base_de_dados//datasus//cnes//datasus_ftp\\2020\\base_de_dados_cnes_202012\\rlEstabOrgParc202012.parquet.gzip\n",
      "Saved as Parquet: I://base_de_dados//datasus//cnes//datasus_ftp\\2020\\base_de_dados_cnes_202012\\rlEstabPoloAldeia202012.parquet.gzip\n",
      "Saved as Parquet: I://base_de_dados//datasus//cnes//datasus_ftp\\2020\\base_de_dados_cnes_202012\\rlEstabProfComissao202012.parquet.gzip\n",
      "Saved as Parquet: I://base_de_dados//datasus//cnes//datasus_ftp\\2020\\base_de_dados_cnes_202012\\rlEstabProgFundo202012.parquet.gzip\n",
      "Saved as Parquet: I://base_de_dados//datasus//cnes//datasus_ftp\\2020\\base_de_dados_cnes_202012\\rlEstabRegimeRes202012.parquet.gzip\n",
      "Saved as Parquet: I://base_de_dados//datasus//cnes//datasus_ftp\\2020\\base_de_dados_cnes_202012\\rlEstabRepresentante202012.parquet.gzip\n",
      "Saved as Parquet: I://base_de_dados//datasus//cnes//datasus_ftp\\2020\\base_de_dados_cnes_202012\\rlEstabSamu202012.parquet.gzip\n"
     ]
    },
    {
     "name": "stderr",
     "output_type": "stream",
     "text": [
      "C:\\Users\\erick\\AppData\\Local\\Temp\\ipykernel_18324\\463220216.py:31: DtypeWarning: Columns (0,10) have mixed types. Specify dtype option on import or set low_memory=False.\n",
      "  df = pd.read_csv(csv_path, sep=';')\n"
     ]
    },
    {
     "name": "stdout",
     "output_type": "stream",
     "text": [
      "Saved as Parquet: I://base_de_dados//datasus//cnes//datasus_ftp\\2020\\base_de_dados_cnes_202012\\rlEstabServClass202012.parquet.gzip\n"
     ]
    },
    {
     "name": "stderr",
     "output_type": "stream",
     "text": [
      "C:\\Users\\erick\\AppData\\Local\\Temp\\ipykernel_18324\\463220216.py:31: DtypeWarning: Columns (2) have mixed types. Specify dtype option on import or set low_memory=False.\n",
      "  df = pd.read_csv(csv_path, sep=';')\n"
     ]
    },
    {
     "name": "stdout",
     "output_type": "stream",
     "text": [
      "Saved as Parquet: I://base_de_dados//datasus//cnes//datasus_ftp\\2020\\base_de_dados_cnes_202012\\rlEstabServicoApoio202012.parquet.gzip\n",
      "Saved as Parquet: I://base_de_dados//datasus//cnes//datasus_ftp\\2020\\base_de_dados_cnes_202012\\rlEstabSipac202012.parquet.gzip\n",
      "Saved as Parquet: I://base_de_dados//datasus//cnes//datasus_ftp\\2020\\base_de_dados_cnes_202012\\rlEstabSubTipo202012.parquet.gzip\n",
      "Saved as Parquet: I://base_de_dados//datasus//cnes//datasus_ftp\\2020\\base_de_dados_cnes_202012\\rlEstabTeleCnes202012.parquet.gzip\n",
      "Saved as Parquet: I://base_de_dados//datasus//cnes//datasus_ftp\\2020\\base_de_dados_cnes_202012\\rlEstabUnidAcolhim202012.parquet.gzip\n",
      "Saved as Parquet: I://base_de_dados//datasus//cnes//datasus_ftp\\2020\\base_de_dados_cnes_202012\\rlMunAtenPsico202012.parquet.gzip\n",
      "Saved as Parquet: I://base_de_dados//datasus//cnes//datasus_ftp\\2020\\base_de_dados_cnes_202012\\rlMunRegimeRes202012.parquet.gzip\n",
      "Saved as Parquet: I://base_de_dados//datasus//cnes//datasus_ftp\\2020\\base_de_dados_cnes_202012\\rlMunUnidAcolhim202012.parquet.gzip\n",
      "Saved as Parquet: I://base_de_dados//datasus//cnes//datasus_ftp\\2020\\base_de_dados_cnes_202012\\rlNasfEsf202012.parquet.gzip\n",
      "Saved as Parquet: I://base_de_dados//datasus//cnes//datasus_ftp\\2020\\base_de_dados_cnes_202012\\rlTipoEstabAtividade202012.parquet.gzip\n",
      "Saved as Parquet: I://base_de_dados//datasus//cnes//datasus_ftp\\2020\\base_de_dados_cnes_202012\\tbAldeia202012.parquet.gzip\n",
      "Saved as Parquet: I://base_de_dados//datasus//cnes//datasus_ftp\\2020\\base_de_dados_cnes_202012\\tbArea202012.parquet.gzip\n",
      "Saved as Parquet: I://base_de_dados//datasus//cnes//datasus_ftp\\2020\\base_de_dados_cnes_202012\\tbAtendimentoPrestado202012.parquet.gzip\n",
      "Saved as Parquet: I://base_de_dados//datasus//cnes//datasus_ftp\\2020\\base_de_dados_cnes_202012\\tbAtividade202012.parquet.gzip\n",
      "Saved as Parquet: I://base_de_dados//datasus//cnes//datasus_ftp\\2020\\base_de_dados_cnes_202012\\tbAtividadeEnsino202012.parquet.gzip\n",
      "Saved as Parquet: I://base_de_dados//datasus//cnes//datasus_ftp\\2020\\base_de_dados_cnes_202012\\tbAtividadeProfissional202012.parquet.gzip\n",
      "Saved as Parquet: I://base_de_dados//datasus//cnes//datasus_ftp\\2020\\base_de_dados_cnes_202012\\tbAtributo202012.parquet.gzip\n",
      "Saved as Parquet: I://base_de_dados//datasus//cnes//datasus_ftp\\2020\\base_de_dados_cnes_202012\\tbAvaliacao202012.parquet.gzip\n",
      "Saved as Parquet: I://base_de_dados//datasus//cnes//datasus_ftp\\2020\\base_de_dados_cnes_202012\\tbBanco202012.parquet.gzip\n"
     ]
    },
    {
     "name": "stderr",
     "output_type": "stream",
     "text": [
      "C:\\Users\\erick\\AppData\\Local\\Temp\\ipykernel_18324\\463220216.py:31: DtypeWarning: Columns (0,2,12) have mixed types. Specify dtype option on import or set low_memory=False.\n",
      "  df = pd.read_csv(csv_path, sep=';')\n"
     ]
    },
    {
     "name": "stdout",
     "output_type": "stream",
     "text": [
      "Saved as Parquet: I://base_de_dados//datasus//cnes//datasus_ftp\\2020\\base_de_dados_cnes_202012\\tbCargaHorariaSus202012.parquet.gzip\n",
      "Saved as Parquet: I://base_de_dados//datasus//cnes//datasus_ftp\\2020\\base_de_dados_cnes_202012\\tbClassificacaoAval202012.parquet.gzip\n",
      "Saved as Parquet: I://base_de_dados//datasus//cnes//datasus_ftp\\2020\\base_de_dados_cnes_202012\\tbClassificacaoServico202012.parquet.gzip\n",
      "Saved as Parquet: I://base_de_dados//datasus//cnes//datasus_ftp\\2020\\base_de_dados_cnes_202012\\tbColetaSeletivaRejeito202012.parquet.gzip\n",
      "Saved as Parquet: I://base_de_dados//datasus//cnes//datasus_ftp\\2020\\base_de_dados_cnes_202012\\tbComissaoOutro202012.parquet.gzip\n",
      "Saved as Parquet: I://base_de_dados//datasus//cnes//datasus_ftp\\2020\\base_de_dados_cnes_202012\\tbConselhoClasse202012.parquet.gzip\n",
      "Saved as Parquet: I://base_de_dados//datasus//cnes//datasus_ftp\\2020\\base_de_dados_cnes_202012\\tbConvenio202012.parquet.gzip\n",
      "Saved as Parquet: I://base_de_dados//datasus//cnes//datasus_ftp\\2020\\base_de_dados_cnes_202012\\tbDadosProfissionalSus202012.parquet.gzip\n",
      "Saved as Parquet: I://base_de_dados//datasus//cnes//datasus_ftp\\2020\\base_de_dados_cnes_202012\\tbDialise202012.parquet.gzip\n",
      "Saved as Parquet: I://base_de_dados//datasus//cnes//datasus_ftp\\2020\\base_de_dados_cnes_202012\\tbDsei202012.parquet.gzip\n",
      "Saved as Parquet: I://base_de_dados//datasus//cnes//datasus_ftp\\2020\\base_de_dados_cnes_202012\\tbEquipamento202012.parquet.gzip\n"
     ]
    },
    {
     "name": "stderr",
     "output_type": "stream",
     "text": [
      "C:\\Users\\erick\\AppData\\Local\\Temp\\ipykernel_18324\\463220216.py:31: DtypeWarning: Columns (24) have mixed types. Specify dtype option on import or set low_memory=False.\n",
      "  df = pd.read_csv(csv_path, sep=';')\n"
     ]
    },
    {
     "name": "stdout",
     "output_type": "stream",
     "text": [
      "Saved as Parquet: I://base_de_dados//datasus//cnes//datasus_ftp\\2020\\base_de_dados_cnes_202012\\tbEquipe202012.parquet.gzip\n",
      "Saved as Parquet: I://base_de_dados//datasus//cnes//datasus_ftp\\2020\\base_de_dados_cnes_202012\\tbEquipeAtendCompl202012.parquet.gzip\n",
      "Saved as Parquet: I://base_de_dados//datasus//cnes//datasus_ftp\\2020\\base_de_dados_cnes_202012\\tbEquipeChDifer202012.parquet.gzip\n",
      "Saved as Parquet: I://base_de_dados//datasus//cnes//datasus_ftp\\2020\\base_de_dados_cnes_202012\\tbEstabAtivSecundaria202012.parquet.gzip\n",
      "Saved as Parquet: I://base_de_dados//datasus//cnes//datasus_ftp\\2020\\base_de_dados_cnes_202012\\tbEstabContrato202012.parquet.gzip\n"
     ]
    },
    {
     "name": "stderr",
     "output_type": "stream",
     "text": [
      "C:\\Users\\erick\\AppData\\Local\\Temp\\ipykernel_18324\\463220216.py:31: DtypeWarning: Columns (0,36,45) have mixed types. Specify dtype option on import or set low_memory=False.\n",
      "  df = pd.read_csv(csv_path, sep=';')\n"
     ]
    },
    {
     "name": "stdout",
     "output_type": "stream",
     "text": [
      "Saved as Parquet: I://base_de_dados//datasus//cnes//datasus_ftp\\2020\\base_de_dados_cnes_202012\\tbEstabelecimento202012.parquet.gzip\n",
      "Saved as Parquet: I://base_de_dados//datasus//cnes//datasus_ftp\\2020\\base_de_dados_cnes_202012\\tbEstabHorarioAtend202012.parquet.gzip\n",
      "Saved as Parquet: I://base_de_dados//datasus//cnes//datasus_ftp\\2020\\base_de_dados_cnes_202012\\tbEstado202012.parquet.gzip\n",
      "Saved as Parquet: I://base_de_dados//datasus//cnes//datasus_ftp\\2020\\base_de_dados_cnes_202012\\tbEtnia202012.parquet.gzip\n",
      "Saved as Parquet: I://base_de_dados//datasus//cnes//datasus_ftp\\2020\\base_de_dados_cnes_202012\\tbFluxoDadosClientela202012.parquet.gzip\n",
      "Saved as Parquet: I://base_de_dados//datasus//cnes//datasus_ftp\\2020\\base_de_dados_cnes_202012\\tbGestao202012.parquet.gzip\n",
      "Saved as Parquet: I://base_de_dados//datasus//cnes//datasus_ftp\\2020\\base_de_dados_cnes_202012\\tbGrupoAtividade202012.parquet.gzip\n",
      "Saved as Parquet: I://base_de_dados//datasus//cnes//datasus_ftp\\2020\\base_de_dados_cnes_202012\\tbGrupoEquipe202012.parquet.gzip\n",
      "Saved as Parquet: I://base_de_dados//datasus//cnes//datasus_ftp\\2020\\base_de_dados_cnes_202012\\tbHemoterapia202012.parquet.gzip\n",
      "Saved as Parquet: I://base_de_dados//datasus//cnes//datasus_ftp\\2020\\base_de_dados_cnes_202012\\tbIncentivos202012.parquet.gzip\n",
      "Saved as Parquet: I://base_de_dados//datasus//cnes//datasus_ftp\\2020\\base_de_dados_cnes_202012\\tbInstalFisicaParaAssist202012.parquet.gzip\n",
      "Saved as Parquet: I://base_de_dados//datasus//cnes//datasus_ftp\\2020\\base_de_dados_cnes_202012\\tbInstituicaoAvaliadora202012.parquet.gzip\n",
      "Saved as Parquet: I://base_de_dados//datasus//cnes//datasus_ftp\\2020\\base_de_dados_cnes_202012\\tbLeito202012.parquet.gzip\n",
      "Saved as Parquet: I://base_de_dados//datasus//cnes//datasus_ftp\\2020\\base_de_dados_cnes_202012\\tbMantenedora202012.parquet.gzip\n",
      "Saved as Parquet: I://base_de_dados//datasus//cnes//datasus_ftp\\2020\\base_de_dados_cnes_202012\\tbModVinculo202012.parquet.gzip\n",
      "Saved as Parquet: I://base_de_dados//datasus//cnes//datasus_ftp\\2020\\base_de_dados_cnes_202012\\tbMotivoDesativacao202012.parquet.gzip\n",
      "Saved as Parquet: I://base_de_dados//datasus//cnes//datasus_ftp\\2020\\base_de_dados_cnes_202012\\tbMotivoDesativEquipe202012.parquet.gzip\n",
      "Saved as Parquet: I://base_de_dados//datasus//cnes//datasus_ftp\\2020\\base_de_dados_cnes_202012\\tbMunicipio202012.parquet.gzip\n",
      "Saved as Parquet: I://base_de_dados//datasus//cnes//datasus_ftp\\2020\\base_de_dados_cnes_202012\\tbNaturezaJuridica202012.parquet.gzip\n",
      "Saved as Parquet: I://base_de_dados//datasus//cnes//datasus_ftp\\2020\\base_de_dados_cnes_202012\\tbOrgaoEmissor202012.parquet.gzip\n",
      "Saved as Parquet: I://base_de_dados//datasus//cnes//datasus_ftp\\2020\\base_de_dados_cnes_202012\\tbPoloBase202012.parquet.gzip\n",
      "Saved as Parquet: I://base_de_dados//datasus//cnes//datasus_ftp\\2020\\base_de_dados_cnes_202012\\tbProfResidencia202012.parquet.gzip\n",
      "Saved as Parquet: I://base_de_dados//datasus//cnes//datasus_ftp\\2020\\base_de_dados_cnes_202012\\tbQuimioRadio202012.parquet.gzip\n",
      "Saved as Parquet: I://base_de_dados//datasus//cnes//datasus_ftp\\2020\\base_de_dados_cnes_202012\\tbResidenciaMed202012.parquet.gzip\n",
      "Saved as Parquet: I://base_de_dados//datasus//cnes//datasus_ftp\\2020\\base_de_dados_cnes_202012\\tbSegmento202012.parquet.gzip\n",
      "Saved as Parquet: I://base_de_dados//datasus//cnes//datasus_ftp\\2020\\base_de_dados_cnes_202012\\tbServicoApoio202012.parquet.gzip\n",
      "Saved as Parquet: I://base_de_dados//datasus//cnes//datasus_ftp\\2020\\base_de_dados_cnes_202012\\tbServicoEspecializado202012.parquet.gzip\n",
      "Saved as Parquet: I://base_de_dados//datasus//cnes//datasus_ftp\\2020\\base_de_dados_cnes_202012\\tbServicoReferenciado202012.parquet.gzip\n",
      "Saved as Parquet: I://base_de_dados//datasus//cnes//datasus_ftp\\2020\\base_de_dados_cnes_202012\\tbSubGruposHabilitacao202012.parquet.gzip\n",
      "Saved as Parquet: I://base_de_dados//datasus//cnes//datasus_ftp\\2020\\base_de_dados_cnes_202012\\tbSubTipo202012.parquet.gzip\n",
      "Saved as Parquet: I://base_de_dados//datasus//cnes//datasus_ftp\\2020\\base_de_dados_cnes_202012\\tbSubTipoEquipe202012.parquet.gzip\n",
      "Saved as Parquet: I://base_de_dados//datasus//cnes//datasus_ftp\\2020\\base_de_dados_cnes_202012\\tbSubtipoInstalacao202012.parquet.gzip\n",
      "Saved as Parquet: I://base_de_dados//datasus//cnes//datasus_ftp\\2020\\base_de_dados_cnes_202012\\tbSubTpModVinculo202012.parquet.gzip\n",
      "Saved as Parquet: I://base_de_dados//datasus//cnes//datasus_ftp\\2020\\base_de_dados_cnes_202012\\tbTipoCertidao202012.parquet.gzip\n",
      "Saved as Parquet: I://base_de_dados//datasus//cnes//datasus_ftp\\2020\\base_de_dados_cnes_202012\\tbTipoCgDifer202012.parquet.gzip\n",
      "Saved as Parquet: I://base_de_dados//datasus//cnes//datasus_ftp\\2020\\base_de_dados_cnes_202012\\tbTipoEqSubTipo202012.parquet.gzip\n",
      "Saved as Parquet: I://base_de_dados//datasus//cnes//datasus_ftp\\2020\\base_de_dados_cnes_202012\\tbTipoEquipamento202012.parquet.gzip\n",
      "Saved as Parquet: I://base_de_dados//datasus//cnes//datasus_ftp\\2020\\base_de_dados_cnes_202012\\tbTipoEquipe202012.parquet.gzip\n",
      "Saved as Parquet: I://base_de_dados//datasus//cnes//datasus_ftp\\2020\\base_de_dados_cnes_202012\\tbTipoEscolaridade202012.parquet.gzip\n",
      "Saved as Parquet: I://base_de_dados//datasus//cnes//datasus_ftp\\2020\\base_de_dados_cnes_202012\\tbTipoEstabelecimento202012.parquet.gzip\n",
      "Saved as Parquet: I://base_de_dados//datasus//cnes//datasus_ftp\\2020\\base_de_dados_cnes_202012\\tbTipoInstalacaoFisica202012.parquet.gzip\n",
      "Saved as Parquet: I://base_de_dados//datasus//cnes//datasus_ftp\\2020\\base_de_dados_cnes_202012\\tbTipoServicoReferenciado202012.parquet.gzip\n",
      "Saved as Parquet: I://base_de_dados//datasus//cnes//datasus_ftp\\2020\\base_de_dados_cnes_202012\\tbTipoUnidade202012.parquet.gzip\n",
      "Saved as Parquet: I://base_de_dados//datasus//cnes//datasus_ftp\\2020\\base_de_dados_cnes_202012\\tbTpModVinculo202012.parquet.gzip\n",
      "Saved as Parquet: I://base_de_dados//datasus//cnes//datasus_ftp\\2020\\base_de_dados_cnes_202012\\tbTurnoAtendimento202012.parquet.gzip\n",
      "Year Folder: 2021\n",
      "Month Folder: base_de_dados_cnes_202101\n",
      "Saved as Parquet: I://base_de_dados//datasus//cnes//datasus_ftp\\2021\\base_de_dados_cnes_202101\\rlAdmGerenciaCnes202101.parquet.gzip\n",
      "Saved as Parquet: I://base_de_dados//datasus//cnes//datasus_ftp\\2021\\base_de_dados_cnes_202101\\rlAtividadeObrigatoria202101.parquet.gzip\n",
      "Saved as Parquet: I://base_de_dados//datasus//cnes//datasus_ftp\\2021\\base_de_dados_cnes_202101\\rlCooperativa202101.parquet.gzip\n",
      "Saved as Parquet: I://base_de_dados//datasus//cnes//datasus_ftp\\2021\\base_de_dados_cnes_202101\\rlEquipeAldeia202101.parquet.gzip\n",
      "Saved as Parquet: I://base_de_dados//datasus//cnes//datasus_ftp\\2021\\base_de_dados_cnes_202101\\rlEquipeNasfEsf202101.parquet.gzip\n"
     ]
    },
    {
     "name": "stderr",
     "output_type": "stream",
     "text": [
      "C:\\Users\\erick\\AppData\\Local\\Temp\\ipykernel_18324\\463220216.py:31: DtypeWarning: Columns (0) have mixed types. Specify dtype option on import or set low_memory=False.\n",
      "  df = pd.read_csv(csv_path, sep=';')\n"
     ]
    },
    {
     "name": "stdout",
     "output_type": "stream",
     "text": [
      "Saved as Parquet: I://base_de_dados//datasus//cnes//datasus_ftp\\2021\\base_de_dados_cnes_202101\\rlEstabAtendPrestConv202101.parquet.gzip\n",
      "Saved as Parquet: I://base_de_dados//datasus//cnes//datasus_ftp\\2021\\base_de_dados_cnes_202101\\rlEstabAtenPsico202101.parquet.gzip\n",
      "Saved as Parquet: I://base_de_dados//datasus//cnes//datasus_ftp\\2021\\base_de_dados_cnes_202101\\rlEstabAvaliacao202101.parquet.gzip\n",
      "Saved as Parquet: I://base_de_dados//datasus//cnes//datasus_ftp\\2021\\base_de_dados_cnes_202101\\rlEstabCentralReg202101.parquet.gzip\n",
      "Saved as Parquet: I://base_de_dados//datasus//cnes//datasus_ftp\\2021\\base_de_dados_cnes_202101\\rlEstabColetaSelRejeito202101.parquet.gzip\n",
      "Saved as Parquet: I://base_de_dados//datasus//cnes//datasus_ftp\\2021\\base_de_dados_cnes_202101\\rlEstabComissaoOutro202101.parquet.gzip\n",
      "Saved as Parquet: I://base_de_dados//datasus//cnes//datasus_ftp\\2021\\base_de_dados_cnes_202101\\rlEstabComplementar202101.parquet.gzip\n",
      "Saved as Parquet: I://base_de_dados//datasus//cnes//datasus_ftp\\2021\\base_de_dados_cnes_202101\\rlEstabEndCompl202101.parquet.gzip\n",
      "Saved as Parquet: I://base_de_dados//datasus//cnes//datasus_ftp\\2021\\base_de_dados_cnes_202101\\rlEstabEqpEmbarcacao202101.parquet.gzip\n",
      "Saved as Parquet: I://base_de_dados//datasus//cnes//datasus_ftp\\2021\\base_de_dados_cnes_202101\\rlEstabEqpUnidApoio202101.parquet.gzip\n"
     ]
    },
    {
     "name": "stderr",
     "output_type": "stream",
     "text": [
      "C:\\Users\\erick\\AppData\\Local\\Temp\\ipykernel_18324\\463220216.py:31: DtypeWarning: Columns (0) have mixed types. Specify dtype option on import or set low_memory=False.\n",
      "  df = pd.read_csv(csv_path, sep=';')\n"
     ]
    },
    {
     "name": "stdout",
     "output_type": "stream",
     "text": [
      "Saved as Parquet: I://base_de_dados//datasus//cnes//datasus_ftp\\2021\\base_de_dados_cnes_202101\\rlEstabEquipamento202101.parquet.gzip\n",
      "Saved as Parquet: I://base_de_dados//datasus//cnes//datasus_ftp\\2021\\base_de_dados_cnes_202101\\rlEstabEquipeMun202101.parquet.gzip\n"
     ]
    },
    {
     "name": "stderr",
     "output_type": "stream",
     "text": [
      "C:\\Users\\erick\\AppData\\Local\\Temp\\ipykernel_18324\\463220216.py:31: DtypeWarning: Columns (14) have mixed types. Specify dtype option on import or set low_memory=False.\n",
      "  df = pd.read_csv(csv_path, sep=';')\n"
     ]
    },
    {
     "name": "stdout",
     "output_type": "stream",
     "text": [
      "Saved as Parquet: I://base_de_dados//datasus//cnes//datasus_ftp\\2021\\base_de_dados_cnes_202101\\rlEstabEquipeProf202101.parquet.gzip\n",
      "Saved as Parquet: I://base_de_dados//datasus//cnes//datasus_ftp\\2021\\base_de_dados_cnes_202101\\rlEstabInstFisiAssist202101.parquet.gzip\n",
      "Saved as Parquet: I://base_de_dados//datasus//cnes//datasus_ftp\\2021\\base_de_dados_cnes_202101\\rlEstabOrgParc202101.parquet.gzip\n",
      "Saved as Parquet: I://base_de_dados//datasus//cnes//datasus_ftp\\2021\\base_de_dados_cnes_202101\\rlEstabPoloAldeia202101.parquet.gzip\n",
      "Saved as Parquet: I://base_de_dados//datasus//cnes//datasus_ftp\\2021\\base_de_dados_cnes_202101\\rlEstabProfComissao202101.parquet.gzip\n",
      "Saved as Parquet: I://base_de_dados//datasus//cnes//datasus_ftp\\2021\\base_de_dados_cnes_202101\\rlEstabProgFundo202101.parquet.gzip\n",
      "Saved as Parquet: I://base_de_dados//datasus//cnes//datasus_ftp\\2021\\base_de_dados_cnes_202101\\rlEstabRegimeRes202101.parquet.gzip\n",
      "Saved as Parquet: I://base_de_dados//datasus//cnes//datasus_ftp\\2021\\base_de_dados_cnes_202101\\rlEstabRepresentante202101.parquet.gzip\n",
      "Saved as Parquet: I://base_de_dados//datasus//cnes//datasus_ftp\\2021\\base_de_dados_cnes_202101\\rlEstabSamu202101.parquet.gzip\n"
     ]
    },
    {
     "name": "stderr",
     "output_type": "stream",
     "text": [
      "C:\\Users\\erick\\AppData\\Local\\Temp\\ipykernel_18324\\463220216.py:31: DtypeWarning: Columns (0) have mixed types. Specify dtype option on import or set low_memory=False.\n",
      "  df = pd.read_csv(csv_path, sep=';')\n"
     ]
    },
    {
     "name": "stdout",
     "output_type": "stream",
     "text": [
      "Saved as Parquet: I://base_de_dados//datasus//cnes//datasus_ftp\\2021\\base_de_dados_cnes_202101\\rlEstabServClass202101.parquet.gzip\n"
     ]
    },
    {
     "name": "stderr",
     "output_type": "stream",
     "text": [
      "C:\\Users\\erick\\AppData\\Local\\Temp\\ipykernel_18324\\463220216.py:31: DtypeWarning: Columns (2) have mixed types. Specify dtype option on import or set low_memory=False.\n",
      "  df = pd.read_csv(csv_path, sep=';')\n"
     ]
    },
    {
     "name": "stdout",
     "output_type": "stream",
     "text": [
      "Saved as Parquet: I://base_de_dados//datasus//cnes//datasus_ftp\\2021\\base_de_dados_cnes_202101\\rlEstabServicoApoio202101.parquet.gzip\n",
      "Saved as Parquet: I://base_de_dados//datasus//cnes//datasus_ftp\\2021\\base_de_dados_cnes_202101\\rlEstabSipac202101.parquet.gzip\n",
      "Saved as Parquet: I://base_de_dados//datasus//cnes//datasus_ftp\\2021\\base_de_dados_cnes_202101\\rlEstabSubTipo202101.parquet.gzip\n",
      "Saved as Parquet: I://base_de_dados//datasus//cnes//datasus_ftp\\2021\\base_de_dados_cnes_202101\\rlEstabTeleCnes202101.parquet.gzip\n",
      "Saved as Parquet: I://base_de_dados//datasus//cnes//datasus_ftp\\2021\\base_de_dados_cnes_202101\\rlEstabUnidAcolhim202101.parquet.gzip\n",
      "Saved as Parquet: I://base_de_dados//datasus//cnes//datasus_ftp\\2021\\base_de_dados_cnes_202101\\rlMunAtenPsico202101.parquet.gzip\n",
      "Saved as Parquet: I://base_de_dados//datasus//cnes//datasus_ftp\\2021\\base_de_dados_cnes_202101\\rlMunRegimeRes202101.parquet.gzip\n",
      "Saved as Parquet: I://base_de_dados//datasus//cnes//datasus_ftp\\2021\\base_de_dados_cnes_202101\\rlMunUnidAcolhim202101.parquet.gzip\n",
      "Saved as Parquet: I://base_de_dados//datasus//cnes//datasus_ftp\\2021\\base_de_dados_cnes_202101\\rlNasfEsf202101.parquet.gzip\n",
      "Saved as Parquet: I://base_de_dados//datasus//cnes//datasus_ftp\\2021\\base_de_dados_cnes_202101\\rlTipoEstabAtividade202101.parquet.gzip\n",
      "Saved as Parquet: I://base_de_dados//datasus//cnes//datasus_ftp\\2021\\base_de_dados_cnes_202101\\tbAldeia202101.parquet.gzip\n",
      "Saved as Parquet: I://base_de_dados//datasus//cnes//datasus_ftp\\2021\\base_de_dados_cnes_202101\\tbArea202101.parquet.gzip\n",
      "Saved as Parquet: I://base_de_dados//datasus//cnes//datasus_ftp\\2021\\base_de_dados_cnes_202101\\tbAtendimentoPrestado202101.parquet.gzip\n",
      "Saved as Parquet: I://base_de_dados//datasus//cnes//datasus_ftp\\2021\\base_de_dados_cnes_202101\\tbAtividade202101.parquet.gzip\n",
      "Saved as Parquet: I://base_de_dados//datasus//cnes//datasus_ftp\\2021\\base_de_dados_cnes_202101\\tbAtividadeEnsino202101.parquet.gzip\n",
      "Saved as Parquet: I://base_de_dados//datasus//cnes//datasus_ftp\\2021\\base_de_dados_cnes_202101\\tbAtividadeProfissional202101.parquet.gzip\n",
      "Saved as Parquet: I://base_de_dados//datasus//cnes//datasus_ftp\\2021\\base_de_dados_cnes_202101\\tbAtributo202101.parquet.gzip\n",
      "Saved as Parquet: I://base_de_dados//datasus//cnes//datasus_ftp\\2021\\base_de_dados_cnes_202101\\tbAvaliacao202101.parquet.gzip\n",
      "Saved as Parquet: I://base_de_dados//datasus//cnes//datasus_ftp\\2021\\base_de_dados_cnes_202101\\tbBanco202101.parquet.gzip\n"
     ]
    },
    {
     "name": "stderr",
     "output_type": "stream",
     "text": [
      "C:\\Users\\erick\\AppData\\Local\\Temp\\ipykernel_18324\\463220216.py:31: DtypeWarning: Columns (0,12) have mixed types. Specify dtype option on import or set low_memory=False.\n",
      "  df = pd.read_csv(csv_path, sep=';')\n"
     ]
    },
    {
     "name": "stdout",
     "output_type": "stream",
     "text": [
      "Saved as Parquet: I://base_de_dados//datasus//cnes//datasus_ftp\\2021\\base_de_dados_cnes_202101\\tbCargaHorariaSus202101.parquet.gzip\n",
      "Saved as Parquet: I://base_de_dados//datasus//cnes//datasus_ftp\\2021\\base_de_dados_cnes_202101\\tbClassificacaoAval202101.parquet.gzip\n",
      "Saved as Parquet: I://base_de_dados//datasus//cnes//datasus_ftp\\2021\\base_de_dados_cnes_202101\\tbClassificacaoServico202101.parquet.gzip\n",
      "Saved as Parquet: I://base_de_dados//datasus//cnes//datasus_ftp\\2021\\base_de_dados_cnes_202101\\tbColetaSeletivaRejeito202101.parquet.gzip\n",
      "Saved as Parquet: I://base_de_dados//datasus//cnes//datasus_ftp\\2021\\base_de_dados_cnes_202101\\tbComissaoOutro202101.parquet.gzip\n",
      "Saved as Parquet: I://base_de_dados//datasus//cnes//datasus_ftp\\2021\\base_de_dados_cnes_202101\\tbConselhoClasse202101.parquet.gzip\n",
      "Saved as Parquet: I://base_de_dados//datasus//cnes//datasus_ftp\\2021\\base_de_dados_cnes_202101\\tbConvenio202101.parquet.gzip\n"
     ]
    },
    {
     "name": "stderr",
     "output_type": "stream",
     "text": [
      "C:\\Users\\erick\\AppData\\Local\\Temp\\ipykernel_18324\\463220216.py:31: DtypeWarning: Columns (9) have mixed types. Specify dtype option on import or set low_memory=False.\n",
      "  df = pd.read_csv(csv_path, sep=';')\n"
     ]
    },
    {
     "name": "stdout",
     "output_type": "stream",
     "text": [
      "Saved as Parquet: I://base_de_dados//datasus//cnes//datasus_ftp\\2021\\base_de_dados_cnes_202101\\tbDadosProfissionalSus202101.parquet.gzip\n",
      "Saved as Parquet: I://base_de_dados//datasus//cnes//datasus_ftp\\2021\\base_de_dados_cnes_202101\\tbDialise202101.parquet.gzip\n",
      "Saved as Parquet: I://base_de_dados//datasus//cnes//datasus_ftp\\2021\\base_de_dados_cnes_202101\\tbDsei202101.parquet.gzip\n",
      "Saved as Parquet: I://base_de_dados//datasus//cnes//datasus_ftp\\2021\\base_de_dados_cnes_202101\\tbEquipamento202101.parquet.gzip\n"
     ]
    },
    {
     "name": "stderr",
     "output_type": "stream",
     "text": [
      "C:\\Users\\erick\\AppData\\Local\\Temp\\ipykernel_18324\\463220216.py:31: DtypeWarning: Columns (24) have mixed types. Specify dtype option on import or set low_memory=False.\n",
      "  df = pd.read_csv(csv_path, sep=';')\n"
     ]
    },
    {
     "name": "stdout",
     "output_type": "stream",
     "text": [
      "Saved as Parquet: I://base_de_dados//datasus//cnes//datasus_ftp\\2021\\base_de_dados_cnes_202101\\tbEquipe202101.parquet.gzip\n",
      "Saved as Parquet: I://base_de_dados//datasus//cnes//datasus_ftp\\2021\\base_de_dados_cnes_202101\\tbEquipeAtendCompl202101.parquet.gzip\n",
      "Saved as Parquet: I://base_de_dados//datasus//cnes//datasus_ftp\\2021\\base_de_dados_cnes_202101\\tbEquipeChDifer202101.parquet.gzip\n",
      "Saved as Parquet: I://base_de_dados//datasus//cnes//datasus_ftp\\2021\\base_de_dados_cnes_202101\\tbEstabAtivSecundaria202101.parquet.gzip\n",
      "Saved as Parquet: I://base_de_dados//datasus//cnes//datasus_ftp\\2021\\base_de_dados_cnes_202101\\tbEstabContrato202101.parquet.gzip\n"
     ]
    },
    {
     "name": "stderr",
     "output_type": "stream",
     "text": [
      "C:\\Users\\erick\\AppData\\Local\\Temp\\ipykernel_18324\\463220216.py:31: DtypeWarning: Columns (0,15,36,45) have mixed types. Specify dtype option on import or set low_memory=False.\n",
      "  df = pd.read_csv(csv_path, sep=';')\n"
     ]
    },
    {
     "name": "stdout",
     "output_type": "stream",
     "text": [
      "Saved as Parquet: I://base_de_dados//datasus//cnes//datasus_ftp\\2021\\base_de_dados_cnes_202101\\tbEstabelecimento202101.parquet.gzip\n",
      "Saved as Parquet: I://base_de_dados//datasus//cnes//datasus_ftp\\2021\\base_de_dados_cnes_202101\\tbEstabHorarioAtend202101.parquet.gzip\n",
      "Saved as Parquet: I://base_de_dados//datasus//cnes//datasus_ftp\\2021\\base_de_dados_cnes_202101\\tbEstado202101.parquet.gzip\n",
      "Saved as Parquet: I://base_de_dados//datasus//cnes//datasus_ftp\\2021\\base_de_dados_cnes_202101\\tbEtnia202101.parquet.gzip\n",
      "Saved as Parquet: I://base_de_dados//datasus//cnes//datasus_ftp\\2021\\base_de_dados_cnes_202101\\tbFluxoDadosClientela202101.parquet.gzip\n",
      "Saved as Parquet: I://base_de_dados//datasus//cnes//datasus_ftp\\2021\\base_de_dados_cnes_202101\\tbGestao202101.parquet.gzip\n",
      "Saved as Parquet: I://base_de_dados//datasus//cnes//datasus_ftp\\2021\\base_de_dados_cnes_202101\\tbGrupoAtividade202101.parquet.gzip\n",
      "Saved as Parquet: I://base_de_dados//datasus//cnes//datasus_ftp\\2021\\base_de_dados_cnes_202101\\tbGrupoEquipe202101.parquet.gzip\n",
      "Saved as Parquet: I://base_de_dados//datasus//cnes//datasus_ftp\\2021\\base_de_dados_cnes_202101\\tbHemoterapia202101.parquet.gzip\n",
      "Saved as Parquet: I://base_de_dados//datasus//cnes//datasus_ftp\\2021\\base_de_dados_cnes_202101\\tbIncentivos202101.parquet.gzip\n",
      "Saved as Parquet: I://base_de_dados//datasus//cnes//datasus_ftp\\2021\\base_de_dados_cnes_202101\\tbInstalFisicaParaAssist202101.parquet.gzip\n",
      "Saved as Parquet: I://base_de_dados//datasus//cnes//datasus_ftp\\2021\\base_de_dados_cnes_202101\\tbInstituicaoAvaliadora202101.parquet.gzip\n",
      "Saved as Parquet: I://base_de_dados//datasus//cnes//datasus_ftp\\2021\\base_de_dados_cnes_202101\\tbLeito202101.parquet.gzip\n",
      "Saved as Parquet: I://base_de_dados//datasus//cnes//datasus_ftp\\2021\\base_de_dados_cnes_202101\\tbMantenedora202101.parquet.gzip\n",
      "Saved as Parquet: I://base_de_dados//datasus//cnes//datasus_ftp\\2021\\base_de_dados_cnes_202101\\tbModVinculo202101.parquet.gzip\n",
      "Saved as Parquet: I://base_de_dados//datasus//cnes//datasus_ftp\\2021\\base_de_dados_cnes_202101\\tbMotivoDesativacao202101.parquet.gzip\n",
      "Saved as Parquet: I://base_de_dados//datasus//cnes//datasus_ftp\\2021\\base_de_dados_cnes_202101\\tbMotivoDesativEquipe202101.parquet.gzip\n",
      "Saved as Parquet: I://base_de_dados//datasus//cnes//datasus_ftp\\2021\\base_de_dados_cnes_202101\\tbMunicipio202101.parquet.gzip\n",
      "Saved as Parquet: I://base_de_dados//datasus//cnes//datasus_ftp\\2021\\base_de_dados_cnes_202101\\tbNaturezaJuridica202101.parquet.gzip\n",
      "Saved as Parquet: I://base_de_dados//datasus//cnes//datasus_ftp\\2021\\base_de_dados_cnes_202101\\tbOrgaoEmissor202101.parquet.gzip\n",
      "Saved as Parquet: I://base_de_dados//datasus//cnes//datasus_ftp\\2021\\base_de_dados_cnes_202101\\tbPoloBase202101.parquet.gzip\n",
      "Saved as Parquet: I://base_de_dados//datasus//cnes//datasus_ftp\\2021\\base_de_dados_cnes_202101\\tbProfResidencia202101.parquet.gzip\n",
      "Saved as Parquet: I://base_de_dados//datasus//cnes//datasus_ftp\\2021\\base_de_dados_cnes_202101\\tbQuimioRadio202101.parquet.gzip\n",
      "Saved as Parquet: I://base_de_dados//datasus//cnes//datasus_ftp\\2021\\base_de_dados_cnes_202101\\tbResidenciaMed202101.parquet.gzip\n",
      "Saved as Parquet: I://base_de_dados//datasus//cnes//datasus_ftp\\2021\\base_de_dados_cnes_202101\\tbSegmento202101.parquet.gzip\n",
      "Saved as Parquet: I://base_de_dados//datasus//cnes//datasus_ftp\\2021\\base_de_dados_cnes_202101\\tbServicoApoio202101.parquet.gzip\n",
      "Saved as Parquet: I://base_de_dados//datasus//cnes//datasus_ftp\\2021\\base_de_dados_cnes_202101\\tbServicoEspecializado202101.parquet.gzip\n",
      "Saved as Parquet: I://base_de_dados//datasus//cnes//datasus_ftp\\2021\\base_de_dados_cnes_202101\\tbServicoReferenciado202101.parquet.gzip\n",
      "Saved as Parquet: I://base_de_dados//datasus//cnes//datasus_ftp\\2021\\base_de_dados_cnes_202101\\tbSubGruposHabilitacao202101.parquet.gzip\n",
      "Saved as Parquet: I://base_de_dados//datasus//cnes//datasus_ftp\\2021\\base_de_dados_cnes_202101\\tbSubTipo202101.parquet.gzip\n",
      "Saved as Parquet: I://base_de_dados//datasus//cnes//datasus_ftp\\2021\\base_de_dados_cnes_202101\\tbSubTipoEquipe202101.parquet.gzip\n",
      "Saved as Parquet: I://base_de_dados//datasus//cnes//datasus_ftp\\2021\\base_de_dados_cnes_202101\\tbSubtipoInstalacao202101.parquet.gzip\n",
      "Saved as Parquet: I://base_de_dados//datasus//cnes//datasus_ftp\\2021\\base_de_dados_cnes_202101\\tbSubTpModVinculo202101.parquet.gzip\n",
      "Saved as Parquet: I://base_de_dados//datasus//cnes//datasus_ftp\\2021\\base_de_dados_cnes_202101\\tbTipoCertidao202101.parquet.gzip\n",
      "Saved as Parquet: I://base_de_dados//datasus//cnes//datasus_ftp\\2021\\base_de_dados_cnes_202101\\tbTipoCgDifer202101.parquet.gzip\n",
      "Saved as Parquet: I://base_de_dados//datasus//cnes//datasus_ftp\\2021\\base_de_dados_cnes_202101\\tbTipoEqSubTipo202101.parquet.gzip\n",
      "Saved as Parquet: I://base_de_dados//datasus//cnes//datasus_ftp\\2021\\base_de_dados_cnes_202101\\tbTipoEquipamento202101.parquet.gzip\n",
      "Saved as Parquet: I://base_de_dados//datasus//cnes//datasus_ftp\\2021\\base_de_dados_cnes_202101\\tbTipoEquipe202101.parquet.gzip\n",
      "Saved as Parquet: I://base_de_dados//datasus//cnes//datasus_ftp\\2021\\base_de_dados_cnes_202101\\tbTipoEscolaridade202101.parquet.gzip\n",
      "Saved as Parquet: I://base_de_dados//datasus//cnes//datasus_ftp\\2021\\base_de_dados_cnes_202101\\tbTipoEstabelecimento202101.parquet.gzip\n",
      "Saved as Parquet: I://base_de_dados//datasus//cnes//datasus_ftp\\2021\\base_de_dados_cnes_202101\\tbTipoInstalacaoFisica202101.parquet.gzip\n",
      "Saved as Parquet: I://base_de_dados//datasus//cnes//datasus_ftp\\2021\\base_de_dados_cnes_202101\\tbTipoServicoReferenciado202101.parquet.gzip\n",
      "Saved as Parquet: I://base_de_dados//datasus//cnes//datasus_ftp\\2021\\base_de_dados_cnes_202101\\tbTipoUnidade202101.parquet.gzip\n",
      "Saved as Parquet: I://base_de_dados//datasus//cnes//datasus_ftp\\2021\\base_de_dados_cnes_202101\\tbTpModVinculo202101.parquet.gzip\n",
      "Saved as Parquet: I://base_de_dados//datasus//cnes//datasus_ftp\\2021\\base_de_dados_cnes_202101\\tbTurnoAtendimento202101.parquet.gzip\n",
      "Month Folder: base_de_dados_cnes_202102\n",
      "Saved as Parquet: I://base_de_dados//datasus//cnes//datasus_ftp\\2021\\base_de_dados_cnes_202102\\rlAdmGerenciaCnes202102.parquet.gzip\n",
      "Saved as Parquet: I://base_de_dados//datasus//cnes//datasus_ftp\\2021\\base_de_dados_cnes_202102\\rlAtividadeObrigatoria202102.parquet.gzip\n",
      "Saved as Parquet: I://base_de_dados//datasus//cnes//datasus_ftp\\2021\\base_de_dados_cnes_202102\\rlCooperativa202102.parquet.gzip\n",
      "Saved as Parquet: I://base_de_dados//datasus//cnes//datasus_ftp\\2021\\base_de_dados_cnes_202102\\rlEquipeAldeia202102.parquet.gzip\n",
      "Saved as Parquet: I://base_de_dados//datasus//cnes//datasus_ftp\\2021\\base_de_dados_cnes_202102\\rlEquipeNasfEsf202102.parquet.gzip\n"
     ]
    },
    {
     "name": "stderr",
     "output_type": "stream",
     "text": [
      "C:\\Users\\erick\\AppData\\Local\\Temp\\ipykernel_18324\\463220216.py:31: DtypeWarning: Columns (0) have mixed types. Specify dtype option on import or set low_memory=False.\n",
      "  df = pd.read_csv(csv_path, sep=';')\n"
     ]
    },
    {
     "name": "stdout",
     "output_type": "stream",
     "text": [
      "Saved as Parquet: I://base_de_dados//datasus//cnes//datasus_ftp\\2021\\base_de_dados_cnes_202102\\rlEstabAtendPrestConv202102.parquet.gzip\n",
      "Saved as Parquet: I://base_de_dados//datasus//cnes//datasus_ftp\\2021\\base_de_dados_cnes_202102\\rlEstabAtenPsico202102.parquet.gzip\n",
      "Saved as Parquet: I://base_de_dados//datasus//cnes//datasus_ftp\\2021\\base_de_dados_cnes_202102\\rlEstabAvaliacao202102.parquet.gzip\n",
      "Saved as Parquet: I://base_de_dados//datasus//cnes//datasus_ftp\\2021\\base_de_dados_cnes_202102\\rlEstabCentralReg202102.parquet.gzip\n",
      "Saved as Parquet: I://base_de_dados//datasus//cnes//datasus_ftp\\2021\\base_de_dados_cnes_202102\\rlEstabColetaSelRejeito202102.parquet.gzip\n",
      "Saved as Parquet: I://base_de_dados//datasus//cnes//datasus_ftp\\2021\\base_de_dados_cnes_202102\\rlEstabComissaoOutro202102.parquet.gzip\n",
      "Saved as Parquet: I://base_de_dados//datasus//cnes//datasus_ftp\\2021\\base_de_dados_cnes_202102\\rlEstabComplementar202102.parquet.gzip\n",
      "Saved as Parquet: I://base_de_dados//datasus//cnes//datasus_ftp\\2021\\base_de_dados_cnes_202102\\rlEstabEndCompl202102.parquet.gzip\n",
      "Saved as Parquet: I://base_de_dados//datasus//cnes//datasus_ftp\\2021\\base_de_dados_cnes_202102\\rlEstabEqpEmbarcacao202102.parquet.gzip\n",
      "Saved as Parquet: I://base_de_dados//datasus//cnes//datasus_ftp\\2021\\base_de_dados_cnes_202102\\rlEstabEqpUnidApoio202102.parquet.gzip\n"
     ]
    },
    {
     "name": "stderr",
     "output_type": "stream",
     "text": [
      "C:\\Users\\erick\\AppData\\Local\\Temp\\ipykernel_18324\\463220216.py:31: DtypeWarning: Columns (0) have mixed types. Specify dtype option on import or set low_memory=False.\n",
      "  df = pd.read_csv(csv_path, sep=';')\n"
     ]
    },
    {
     "name": "stdout",
     "output_type": "stream",
     "text": [
      "Saved as Parquet: I://base_de_dados//datasus//cnes//datasus_ftp\\2021\\base_de_dados_cnes_202102\\rlEstabEquipamento202102.parquet.gzip\n",
      "Saved as Parquet: I://base_de_dados//datasus//cnes//datasus_ftp\\2021\\base_de_dados_cnes_202102\\rlEstabEquipeMun202102.parquet.gzip\n"
     ]
    },
    {
     "name": "stderr",
     "output_type": "stream",
     "text": [
      "C:\\Users\\erick\\AppData\\Local\\Temp\\ipykernel_18324\\463220216.py:31: DtypeWarning: Columns (14) have mixed types. Specify dtype option on import or set low_memory=False.\n",
      "  df = pd.read_csv(csv_path, sep=';')\n"
     ]
    },
    {
     "name": "stdout",
     "output_type": "stream",
     "text": [
      "Saved as Parquet: I://base_de_dados//datasus//cnes//datasus_ftp\\2021\\base_de_dados_cnes_202102\\rlEstabEquipeProf202102.parquet.gzip\n",
      "Saved as Parquet: I://base_de_dados//datasus//cnes//datasus_ftp\\2021\\base_de_dados_cnes_202102\\rlEstabInstFisiAssist202102.parquet.gzip\n",
      "Saved as Parquet: I://base_de_dados//datasus//cnes//datasus_ftp\\2021\\base_de_dados_cnes_202102\\rlEstabOrgParc202102.parquet.gzip\n",
      "Saved as Parquet: I://base_de_dados//datasus//cnes//datasus_ftp\\2021\\base_de_dados_cnes_202102\\rlEstabPoloAldeia202102.parquet.gzip\n",
      "Saved as Parquet: I://base_de_dados//datasus//cnes//datasus_ftp\\2021\\base_de_dados_cnes_202102\\rlEstabProfComissao202102.parquet.gzip\n",
      "Saved as Parquet: I://base_de_dados//datasus//cnes//datasus_ftp\\2021\\base_de_dados_cnes_202102\\rlEstabProgFundo202102.parquet.gzip\n",
      "Saved as Parquet: I://base_de_dados//datasus//cnes//datasus_ftp\\2021\\base_de_dados_cnes_202102\\rlEstabRegimeRes202102.parquet.gzip\n",
      "Saved as Parquet: I://base_de_dados//datasus//cnes//datasus_ftp\\2021\\base_de_dados_cnes_202102\\rlEstabRepresentante202102.parquet.gzip\n",
      "Saved as Parquet: I://base_de_dados//datasus//cnes//datasus_ftp\\2021\\base_de_dados_cnes_202102\\rlEstabSamu202102.parquet.gzip\n"
     ]
    },
    {
     "name": "stderr",
     "output_type": "stream",
     "text": [
      "C:\\Users\\erick\\AppData\\Local\\Temp\\ipykernel_18324\\463220216.py:31: DtypeWarning: Columns (0,10) have mixed types. Specify dtype option on import or set low_memory=False.\n",
      "  df = pd.read_csv(csv_path, sep=';')\n"
     ]
    },
    {
     "name": "stdout",
     "output_type": "stream",
     "text": [
      "Saved as Parquet: I://base_de_dados//datasus//cnes//datasus_ftp\\2021\\base_de_dados_cnes_202102\\rlEstabServClass202102.parquet.gzip\n"
     ]
    },
    {
     "name": "stderr",
     "output_type": "stream",
     "text": [
      "C:\\Users\\erick\\AppData\\Local\\Temp\\ipykernel_18324\\463220216.py:31: DtypeWarning: Columns (2) have mixed types. Specify dtype option on import or set low_memory=False.\n",
      "  df = pd.read_csv(csv_path, sep=';')\n"
     ]
    },
    {
     "name": "stdout",
     "output_type": "stream",
     "text": [
      "Saved as Parquet: I://base_de_dados//datasus//cnes//datasus_ftp\\2021\\base_de_dados_cnes_202102\\rlEstabServicoApoio202102.parquet.gzip\n",
      "Saved as Parquet: I://base_de_dados//datasus//cnes//datasus_ftp\\2021\\base_de_dados_cnes_202102\\rlEstabSipac202102.parquet.gzip\n",
      "Saved as Parquet: I://base_de_dados//datasus//cnes//datasus_ftp\\2021\\base_de_dados_cnes_202102\\rlEstabSubTipo202102.parquet.gzip\n",
      "Saved as Parquet: I://base_de_dados//datasus//cnes//datasus_ftp\\2021\\base_de_dados_cnes_202102\\rlEstabTeleCnes202102.parquet.gzip\n",
      "Saved as Parquet: I://base_de_dados//datasus//cnes//datasus_ftp\\2021\\base_de_dados_cnes_202102\\rlEstabUnidAcolhim202102.parquet.gzip\n",
      "Saved as Parquet: I://base_de_dados//datasus//cnes//datasus_ftp\\2021\\base_de_dados_cnes_202102\\rlMunAtenPsico202102.parquet.gzip\n",
      "Saved as Parquet: I://base_de_dados//datasus//cnes//datasus_ftp\\2021\\base_de_dados_cnes_202102\\rlMunRegimeRes202102.parquet.gzip\n",
      "Saved as Parquet: I://base_de_dados//datasus//cnes//datasus_ftp\\2021\\base_de_dados_cnes_202102\\rlMunUnidAcolhim202102.parquet.gzip\n",
      "Saved as Parquet: I://base_de_dados//datasus//cnes//datasus_ftp\\2021\\base_de_dados_cnes_202102\\rlNasfEsf202102.parquet.gzip\n",
      "Saved as Parquet: I://base_de_dados//datasus//cnes//datasus_ftp\\2021\\base_de_dados_cnes_202102\\rlTipoEstabAtividade202102.parquet.gzip\n",
      "Saved as Parquet: I://base_de_dados//datasus//cnes//datasus_ftp\\2021\\base_de_dados_cnes_202102\\tbAldeia202102.parquet.gzip\n",
      "Saved as Parquet: I://base_de_dados//datasus//cnes//datasus_ftp\\2021\\base_de_dados_cnes_202102\\tbArea202102.parquet.gzip\n",
      "Saved as Parquet: I://base_de_dados//datasus//cnes//datasus_ftp\\2021\\base_de_dados_cnes_202102\\tbAtendimentoPrestado202102.parquet.gzip\n",
      "Saved as Parquet: I://base_de_dados//datasus//cnes//datasus_ftp\\2021\\base_de_dados_cnes_202102\\tbAtividade202102.parquet.gzip\n",
      "Saved as Parquet: I://base_de_dados//datasus//cnes//datasus_ftp\\2021\\base_de_dados_cnes_202102\\tbAtividadeEnsino202102.parquet.gzip\n",
      "Saved as Parquet: I://base_de_dados//datasus//cnes//datasus_ftp\\2021\\base_de_dados_cnes_202102\\tbAtividadeProfissional202102.parquet.gzip\n",
      "Saved as Parquet: I://base_de_dados//datasus//cnes//datasus_ftp\\2021\\base_de_dados_cnes_202102\\tbAtributo202102.parquet.gzip\n",
      "Saved as Parquet: I://base_de_dados//datasus//cnes//datasus_ftp\\2021\\base_de_dados_cnes_202102\\tbAvaliacao202102.parquet.gzip\n",
      "Saved as Parquet: I://base_de_dados//datasus//cnes//datasus_ftp\\2021\\base_de_dados_cnes_202102\\tbBanco202102.parquet.gzip\n"
     ]
    },
    {
     "name": "stderr",
     "output_type": "stream",
     "text": [
      "C:\\Users\\erick\\AppData\\Local\\Temp\\ipykernel_18324\\463220216.py:31: DtypeWarning: Columns (0,12) have mixed types. Specify dtype option on import or set low_memory=False.\n",
      "  df = pd.read_csv(csv_path, sep=';')\n"
     ]
    },
    {
     "name": "stdout",
     "output_type": "stream",
     "text": [
      "Saved as Parquet: I://base_de_dados//datasus//cnes//datasus_ftp\\2021\\base_de_dados_cnes_202102\\tbCargaHorariaSus202102.parquet.gzip\n",
      "Saved as Parquet: I://base_de_dados//datasus//cnes//datasus_ftp\\2021\\base_de_dados_cnes_202102\\tbClassificacaoAval202102.parquet.gzip\n",
      "Saved as Parquet: I://base_de_dados//datasus//cnes//datasus_ftp\\2021\\base_de_dados_cnes_202102\\tbClassificacaoServico202102.parquet.gzip\n",
      "Saved as Parquet: I://base_de_dados//datasus//cnes//datasus_ftp\\2021\\base_de_dados_cnes_202102\\tbColetaSeletivaRejeito202102.parquet.gzip\n",
      "Saved as Parquet: I://base_de_dados//datasus//cnes//datasus_ftp\\2021\\base_de_dados_cnes_202102\\tbComissaoOutro202102.parquet.gzip\n",
      "Saved as Parquet: I://base_de_dados//datasus//cnes//datasus_ftp\\2021\\base_de_dados_cnes_202102\\tbConselhoClasse202102.parquet.gzip\n",
      "Saved as Parquet: I://base_de_dados//datasus//cnes//datasus_ftp\\2021\\base_de_dados_cnes_202102\\tbConvenio202102.parquet.gzip\n"
     ]
    }
   ],
   "source": [
    "# Directory path containing the year folders\n",
    "directory_path = 'I://base_de_dados//datasus//cnes//datasus_ftp'\n",
    "\n",
    "# Iterate over the items in the directory\n",
    "for item in os.listdir(directory_path):\n",
    "    item_path = os.path.join(directory_path, item)\n",
    "    \n",
    "    # Verify if the item in the directory is a directory itself\n",
    "    if os.path.isdir(item_path):\n",
    "        print(\"Year Folder:\", item)\n",
    "        \n",
    "        # Iterate over the month folders within the year folder\n",
    "        for month_folder in os.listdir(item_path):\n",
    "            month_folder_path = os.path.join(item_path, month_folder)\n",
    "            \n",
    "            # Verify if the item in the directory is a directory itself\n",
    "            if os.path.isdir(month_folder_path):\n",
    "                print(\"Month Folder:\", month_folder)\n",
    "                \n",
    "                # Iterate over the files in the month folder\n",
    "                for file in os.listdir(month_folder_path):\n",
    "                    file_path = os.path.join(month_folder_path, file)\n",
    "                    \n",
    "                    # Check if it is a CSV file\n",
    "                    if file.endswith('.csv'):\n",
    "                        csv_path = os.path.join(month_folder_path, file)\n",
    "                        parquet_file = os.path.splitext(file)[0] + '.parquet.gzip'\n",
    "                        parquet_path = os.path.join(month_folder_path, parquet_file)\n",
    "                        \n",
    "                        # Read the CSV file into a DataFrame\n",
    "                        df = pd.read_csv(csv_path, sep=';')\n",
    "                        \n",
    "                        # Convert all columns to string type\n",
    "                        df = df.astype(str)\n",
    "                        \n",
    "                        # Save the DataFrame as Parquet with gzip compression\n",
    "                        df.to_parquet(parquet_path, compression='gzip')\n",
    "                        \n",
    "                        print(\"Saved as Parquet:\", parquet_path)"
   ]
  }
 ],
 "metadata": {
  "kernelspec": {
   "display_name": "Python 3",
   "language": "python",
   "name": "python3"
  },
  "language_info": {
   "codemirror_mode": {
    "name": "ipython",
    "version": 3
   },
   "file_extension": ".py",
   "mimetype": "text/x-python",
   "name": "python",
   "nbconvert_exporter": "python",
   "pygments_lexer": "ipython3",
   "version": "3.11.3"
  },
  "orig_nbformat": 4
 },
 "nbformat": 4,
 "nbformat_minor": 2
}
